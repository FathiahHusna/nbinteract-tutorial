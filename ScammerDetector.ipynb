{
 "cells": [
  {
   "cell_type": "markdown",
   "metadata": {},
   "source": [
    "# Scammer Detector"
   ]
  },
  {
   "cell_type": "markdown",
   "metadata": {},
   "source": [
    "*Beware of __SCAMMER__, buy from the __TRUSTED__ one*"
   ]
  },
  {
   "cell_type": "code",
   "execution_count": 1,
   "metadata": {},
   "outputs": [],
   "source": [
    "#nbi:hide_in\n",
    "from IPython.display import display, Markdown, clear_output\n",
    "from ipywidgets import interact, ButtonStyle\n",
    "import ipywidgets as widgets"
   ]
  },
  {
   "cell_type": "code",
   "execution_count": 2,
   "metadata": {},
   "outputs": [],
   "source": [
    "#nbi:hide_in\n",
    "meurl=widgets.Text(value= '', placeholder='Paste your mudah.my link here', description='Link:', disabled=False)\n",
    "#meurl"
   ]
  },
  {
   "cell_type": "code",
   "execution_count": 3,
   "metadata": {},
   "outputs": [],
   "source": [
    "#nbi:hide_in\n",
    "fpath = widgets.Text(\n",
    "    value='',\n",
    "    placeholder='Save Scraped Dataset',\n",
    "    description='Folder Path:',\n",
    "    disabled=False\n",
    ")\n",
    "#fpath"
   ]
  },
  {
   "cell_type": "code",
   "execution_count": 4,
   "metadata": {},
   "outputs": [],
   "source": [
    "#nbi:hide_in\n",
    "fname = widgets.Text(\n",
    "    value='',\n",
    "    placeholder='Name your scrap csv file',\n",
    "    description='CSV file:',\n",
    "    disabled=False\n",
    ")\n",
    "#fname"
   ]
  },
  {
   "cell_type": "code",
   "execution_count": 5,
   "metadata": {},
   "outputs": [],
   "source": [
    "#nbi:hide_in\n",
    "lpath = widgets.Text(\n",
    "    value='',\n",
    "    placeholder='Upload cleaned dataset',\n",
    "    description='Folder Path:',\n",
    "    disabled=False\n",
    ")\n",
    "#lpath"
   ]
  },
  {
   "cell_type": "code",
   "execution_count": 6,
   "metadata": {},
   "outputs": [],
   "source": [
    "#nbi:hide_in\n",
    "lname = widgets.Text(\n",
    "    value='',\n",
    "    placeholder='Name of cleaned csv file',\n",
    "    description='CSV file:',\n",
    "    disabled=False\n",
    ")\n",
    "#lname"
   ]
  },
  {
   "cell_type": "code",
   "execution_count": 7,
   "metadata": {},
   "outputs": [],
   "source": [
    "#nbi:hide_in\n",
    "str_link= widgets.HTML(\n",
    "    value=\"<i><b>https://www.mudah.my/malaysia/cars-for-sale?o=1&q=&th=1</b><i>\",\n",
    "    placeholder='',\n",
    "    description='Sample Link:',\n",
    ")\n",
    "#str_link"
   ]
  },
  {
   "cell_type": "code",
   "execution_count": 8,
   "metadata": {},
   "outputs": [],
   "source": [
    "#nbi:hide_in\n",
    "str_folder= widgets.HTML(\n",
    "    value=\"<i><b>C:\\\\Users\\\\LENOVO\\\\Documents</b><i>\",\n",
    "    placeholder='',\n",
    "    description='Sample Path:',\n",
    ")\n",
    "#str_folder"
   ]
  },
  {
   "cell_type": "code",
   "execution_count": 9,
   "metadata": {},
   "outputs": [],
   "source": [
    "#nbi:hide_in\n",
    "str_csv= widgets.HTML(\n",
    "    value=\"<i><b>kereta</b><i>\",\n",
    "    placeholder='',\n",
    "    description='Sample CSV:',\n",
    ")\n",
    "#str_csv"
   ]
  },
  {
   "cell_type": "code",
   "execution_count": 10,
   "metadata": {},
   "outputs": [],
   "source": [
    "#nbi:hide_in\n",
    "str_view= widgets.HTML(\n",
    "    value=\"<b>Choose how to view your data</b>\",\n",
    "    placeholder='',\n",
    "    description='',\n",
    ")\n",
    "#str_view"
   ]
  },
  {
   "cell_type": "code",
   "execution_count": 11,
   "metadata": {},
   "outputs": [],
   "source": [
    "#nbi:hide_in\n",
    "viewlist = ['-', '5', '6', '7', '8', '9', '10']\n",
    "view_head = widgets.Dropdown(\n",
    "    options=viewlist,\n",
    "    value= viewlist[0],\n",
    "    description='Head:',\n",
    "    disabled=False,\n",
    ")\n",
    "#view_head"
   ]
  },
  {
   "cell_type": "code",
   "execution_count": 12,
   "metadata": {},
   "outputs": [],
   "source": [
    "#nbi:hide_in\n",
    "view_rand = widgets.Dropdown(\n",
    "    options=viewlist,\n",
    "    value= viewlist[0],\n",
    "    description='Random:',\n",
    "    disabled=False,\n",
    ")\n",
    "#view_rand"
   ]
  },
  {
   "cell_type": "code",
   "execution_count": 13,
   "metadata": {},
   "outputs": [],
   "source": [
    "#nbi:hide_in\n",
    "view_tail = widgets.Dropdown(\n",
    "    options=viewlist,\n",
    "    value= viewlist[0],\n",
    "    description='Tail:',\n",
    "    disabled=False,\n",
    ")\n",
    "#view_tail"
   ]
  },
  {
   "cell_type": "code",
   "execution_count": 14,
   "metadata": {},
   "outputs": [],
   "source": [
    "#nbi:hide_in\n",
    "str_pca= widgets.HTML(\n",
    "    value=\"Apply <b>Data Mining<b> Method!!\",\n",
    "    placeholder='',\n",
    "    description='',\n",
    ")\n",
    "#str_pca"
   ]
  },
  {
   "cell_type": "code",
   "execution_count": 15,
   "metadata": {},
   "outputs": [],
   "source": [
    "#nbi:hide_in\n",
    "str_box= widgets.HTML(\n",
    "    value=\"<b>Choose to view and compare by attributes<b>\",\n",
    "    placeholder='',\n",
    "    description='',\n",
    ")\n",
    "#str_box"
   ]
  },
  {
   "cell_type": "code",
   "execution_count": 16,
   "metadata": {},
   "outputs": [],
   "source": [
    "#nbi:hide_in\n",
    "str_result= widgets.HTML(\n",
    "    value=\"<b>Click to view Potential Scammers!!<b>\",\n",
    "    placeholder='',\n",
    "    description='',\n",
    ")\n",
    "#str_result"
   ]
  },
  {
   "cell_type": "code",
   "execution_count": 17,
   "metadata": {},
   "outputs": [],
   "source": [
    "#nbi:hide_in\n",
    "pcabtn = widgets.Button(\n",
    "    style=ButtonStyle(button_color='orange'),\n",
    "    description='PCA!',\n",
    "    disabled=False,\n",
    "    button_style='', # 'success', 'info', 'warning', 'danger' or ''\n",
    "    tooltip='Click me',\n",
    "    icon='check'\n",
    ")\n",
    "#pcabtn\n",
    "#bscrap = widgets.Button(description='Scrap Me')"
   ]
  },
  {
   "cell_type": "code",
   "execution_count": 18,
   "metadata": {},
   "outputs": [],
   "source": [
    "#nbi:hide_in\n",
    "boxplotbtn = widgets.Button(\n",
    "    style=ButtonStyle(button_color='orange'),\n",
    "    description='Boxplot',\n",
    "    disabled=False,\n",
    "    button_style='', # 'success', 'info', 'warning', 'danger' or ''\n",
    "    tooltip='Click me',\n",
    "    icon='check'\n",
    ")\n",
    "#boxplotbtn"
   ]
  },
  {
   "cell_type": "code",
   "execution_count": 19,
   "metadata": {},
   "outputs": [],
   "source": [
    "#nbi:hide_in\n",
    "\n",
    "boxplot_filter = widgets.SelectMultiple(\n",
    "    options=['Price', 'Year', 'Mileage'],\n",
    "    value=['Price'],\n",
    "    rows=3,\n",
    "    description='Filter by',\n",
    "    disabled=False\n",
    ")\n"
   ]
  },
  {
   "cell_type": "code",
   "execution_count": 20,
   "metadata": {},
   "outputs": [],
   "source": [
    "#nbi:hide_in\n",
    "scambtn = widgets.Button(\n",
    "    style=ButtonStyle(button_color='red'),\n",
    "    description='Click Me',\n",
    "    disabled=False,\n",
    "    button_style='', # 'success', 'info', 'warning', 'danger' or ''\n",
    "    tooltip='Click me',\n",
    "    icon='check'\n",
    ")\n",
    "#scambtn"
   ]
  },
  {
   "cell_type": "code",
   "execution_count": 21,
   "metadata": {},
   "outputs": [],
   "source": [
    "#nbi:hide_in\n",
    "#filepath=fpath.value + \"\\\\\" + fname.value + \".csv\"\n",
    "#filepath"
   ]
  },
  {
   "cell_type": "code",
   "execution_count": 22,
   "metadata": {},
   "outputs": [],
   "source": [
    "#nbi:hide_in\n",
    "#accordion.children[0].value"
   ]
  },
  {
   "cell_type": "code",
   "execution_count": 23,
   "metadata": {},
   "outputs": [],
   "source": [
    "#nbi:hide_in\n",
    "#import dataframe\n",
    "import pandas as pd\n",
    "import requests as req\n",
    "#calling package URL lib\n",
    "from urllib.request import urlopen as uReq\n",
    "#pase HTML text\n",
    "from bs4 import BeautifulSoup as soup\n",
    "\n",
    "\n",
    "#filename = \"df_mulpages.csv\"\n",
    "#filename = filepath\n",
    "def scrapme(meurl):\n",
    "    def subs (Mileage):\n",
    "            if Mileage == \"0 - 4 999\":\n",
    "                return Mileage.replace(\"0 - 4 999\", \"2500\", 1)\n",
    "            elif Mileage == \"5 000 - 9 999\":\n",
    "                return Mileage.replace(\"5 000 - 9 999\", \"52500\", 1)\n",
    "            elif Mileage == \"10 000 - 14 999\":\n",
    "                return Mileage.replace(\"10 000 - 14 999\", \"12500\", 1)\n",
    "            elif Mileage == \"15 000 - 19 999\":\n",
    "                return Mileage.replace(\"15 000 - 19 999\", \"17500\", 1)\n",
    "            elif Mileage == \"20 000 - 24 999\":\n",
    "                return Mileage.replace(\"20 000 - 24 999\", \"22500\", 1)\n",
    "            elif Mileage == \"25 000 - 29 999\":\n",
    "                return Mileage.replace(\"25 000 - 29 999\", \"27500\", 1)\n",
    "            elif Mileage == \"30 000 - 34 999\":\n",
    "                return Mileage.replace(\"30 000 - 34 999\", \"32500\", 1)\n",
    "            elif Mileage == \"35 000 - 39 999\":\n",
    "                return Mileage.replace(\"35 000 - 39 999\", \"37500\", 1)\n",
    "            elif Mileage == \"40 000 - 44 999\":\n",
    "                return Mileage.replace(\"40 000 - 44 999\", \"42500\", 1)\n",
    "            elif Mileage == \"45 000 - 49 999\":\n",
    "                return Mileage.replace(\"45 000 - 49 999\", \"47500\", 1)\n",
    "            elif Mileage == \"50 000 - 54 999\":\n",
    "                return Mileage.replace(\"50 000 - 54 999\", \"52500\", 1)\n",
    "            elif Mileage == \"55 000 - 59 999\":\n",
    "                return Mileage.replace(\"55 000 - 59 999\", \"57500\", 1)\n",
    "            elif Mileage == \"60 000 - 64 999\":\n",
    "                return Mileage.replace(\"60 000 - 64 999\", \"62500\", 1)\n",
    "            elif Mileage == \"65 000 - 69 999\":\n",
    "                return Mileage.replace(\"65 000 - 69 999\", \"67500\", 1)\n",
    "            elif Mileage == \"70 000 - 74 999\":\n",
    "                return Mileage.replace(\"70 000 - 74 999\", \"72500\", 1)\n",
    "            elif Mileage == \"75 000 - 79 999\":\n",
    "                return Mileage.replace(\"75 000 - 79 999\", \"77500\", 1)\n",
    "            elif Mileage == \"80 000 - 84 999\":\n",
    "                return Mileage.replace(\"80 000 - 84 999\", \"82500\", 1)\n",
    "            elif Mileage == \"85 000 - 89 999\":\n",
    "                return Mileage.replace(\"85 000 - 89 999\", \"87500\", 1)\n",
    "            elif Mileage == \"90 000 - 94 999\":\n",
    "                return Mileage.replace(\"90 000 - 94 999\", \"92500\", 1)\n",
    "            elif Mileage == \"95 000 - 99 999\":\n",
    "                return Mileage.replace(\"95 000 - 99 999\", \"97500\", 1)\n",
    "            elif Mileage == \"100 000 - 109 999\":\n",
    "                return Mileage.replace(\"100 000 - 109 999\", \"105000\", 1)\n",
    "            elif Mileage == \"110 000 - 119 999\":\n",
    "                return Mileage.replace(\"110 000 - 119 999\", \"115000\", 1)\n",
    "            elif Mileage == \"120 000 - 129 999\":\n",
    "                return Mileage.replace(\"120 000 - 129 999\", \"125000\", 1)\n",
    "            elif Mileage == \"130 000 - 139 999\":\n",
    "                return Mileage.replace(\"130 000 - 139 999\", \"135000\", 1)\n",
    "            elif Mileage == \"140 000 - 149 999\":\n",
    "                return Mileage.replace(\"140 000 - 149 999\", \"145000\", 1)\n",
    "            elif Mileage == \"150 000 - 159 999\":\n",
    "                return Mileage.replace(\"150 000 - 159 999\", \"155000\", 1)\n",
    "            elif Mileage == \"160 000 - 169 999\":\n",
    "                return Mileage.replace(\"160 000 - 169 999\", \"165000\", 1)\n",
    "            elif Mileage == \"170 000 - 179 999\":\n",
    "                return Mileage.replace(\"170 000 - 179 999\", \"175000\", 1)\n",
    "            elif Mileage == \"180 000 - 189 999\":\n",
    "                return Mileage.replace(\"180 000 - 189 999\", \"185000\", 1)\n",
    "            elif Mileage == \"190 000 - 199 999\":\n",
    "                return Mileage.replace(\"190 000 - 199 999\", \"195000\", 1)\n",
    "            elif Mileage == \"200 000 - 249 999\":\n",
    "                return Mileage.replace(\"200 000 - 249 999\", \"225000\", 1)\n",
    "            elif Mileage == \"250 000 - 299 999\":\n",
    "                return Mileage.replace(\"250 000 - 299 999\", \"275000\", 1)\n",
    "            elif Mileage == \"300 000 - 349 999\":\n",
    "                return Mileage.replace(\"300 000 - 349 999\", \"325000\", 1)\n",
    "            elif Mileage == \"350 000 - 399 999\":\n",
    "                return Mileage.replace(\"350 000 - 399 999\", \"375000\", 1)\n",
    "            elif Mileage == \"400 000 - 449 999\":\n",
    "                return Mileage.replace(\"400 000 - 449 999\", \"425000\", 1)\n",
    "            elif Mileage == \"450 000 - 499 999\":\n",
    "                return Mileage.replace(\"450 000 - 499 999\", \"475000\", 1)\n",
    "            else:\n",
    "                return Mileage\n",
    "\n",
    "\n",
    "    #df = pd.DataFrame(data, columns=['Name', 'Price', 'Manufactured Year', 'Mileage', 'NewMil', 'CC', 'Condition', 'Link'])\n",
    "\n",
    "\n",
    "    def dprice (a):\n",
    "        if (' ' in a) == True:\n",
    "            return ''.join(a.split())\n",
    "        else:\n",
    "            return a\n",
    "    container = []\n",
    "    pages = []\n",
    "\n",
    "    for i in range(1,4):\n",
    "        my_url = 'https://www.mudah.my/malaysia/cars-for-sale?o=' + str(i) + '1&q=&th=1'\n",
    "        pages.append(my_url)\n",
    "\n",
    "    for item in pages:\n",
    "        page = req.get(item)\n",
    "        page_soup = soup(page.text, \"html.parser\")\n",
    "        containers = page_soup.findAll(\"div\", {\"class\":\"listing_params_container\"})\n",
    "\n",
    "\n",
    "        for fathiah in containers:\n",
    "\n",
    "            clink = fathiah.div.div.a[\"href\"]\n",
    "            name = fathiah.div.div.a[\"title\"].strip()\n",
    "            price = fathiah.findAll(\"div\", {\"class\":\"ads_price\"})\n",
    "            Price = price[0].text.strip()\n",
    "            year = fathiah.findAll(\"font\", {\"class\":\"icon_label\"})\n",
    "            Year = year[1].text.strip()\n",
    "            Mileage = year[2].text.strip()\n",
    "            CC = year[3].text.strip()\n",
    "            Condition = year[0].text.strip()\n",
    "\n",
    "            newMil = subs(Mileage).strip()\n",
    "            Price1 = Price.replace(\"RM\", \"\", 1)\n",
    "            nPrice = dprice(Price1)\n",
    "            container.append((name, nPrice, Year, Mileage, newMil, CC, Condition, clink))\n",
    "\n",
    "\n",
    "\n",
    "    df = pd.DataFrame(container, columns = ['Name', 'Price', 'Manufactured Year', 'Mileage', 'NewMil', 'CC', 'Condition', 'Link'])\n",
    "    #df.to_csv(filename, index=False, encoding='utf-8')"
   ]
  },
  {
   "cell_type": "code",
   "execution_count": 24,
   "metadata": {},
   "outputs": [],
   "source": [
    "#nbi:hide_in\n",
    "\n",
    "bscrap = widgets.Button(style=ButtonStyle(button_color='orange'), description='Scrap Me')\n",
    "oscrap = widgets.Output()\n",
    "def on_button_clicked(_):\n",
    "      # \"linking function with output\"\n",
    "      with oscrap:\n",
    "          # what happens when we press the button\n",
    "          clear_output()\n",
    "          #scrapme(meurl.value, filepath)\n",
    "          #plt.plot(X, y)\n",
    "          print('Me Scrapped!')\n",
    "# linking button and function together using a button's method\n",
    "bscrap.on_click(on_button_clicked)\n",
    "# displaying button and its output together\n",
    "#widgets.VBox([bscrap,oscrap])"
   ]
  },
  {
   "cell_type": "code",
   "execution_count": 25,
   "metadata": {},
   "outputs": [
    {
     "data": {
      "application/vnd.jupyter.widget-view+json": {
       "model_id": "d39d4d33c62f463e9421653dfab37d67",
       "version_major": 2,
       "version_minor": 0
      },
      "text/html": [
       "<p>Failed to display Jupyter Widget of type <code>Accordion</code>.</p>\n",
       "<p>\n",
       "  If you're reading this message in the Jupyter Notebook or JupyterLab Notebook, it may mean\n",
       "  that the widgets JavaScript is still loading. If this message persists, it\n",
       "  likely means that the widgets JavaScript library is either not installed or\n",
       "  not enabled. See the <a href=\"https://ipywidgets.readthedocs.io/en/stable/user_install.html\">Jupyter\n",
       "  Widgets Documentation</a> for setup instructions.\n",
       "</p>\n",
       "<p>\n",
       "  If you're reading this message in another frontend (for example, a static\n",
       "  rendering on GitHub or <a href=\"https://nbviewer.jupyter.org/\">NBViewer</a>),\n",
       "  it may mean that your frontend doesn't currently support widgets.\n",
       "</p>\n"
      ],
      "text/plain": [
       "Accordion(children=(VBox(children=(HTML(value='<i><b>https://www.mudah.my/malaysia/cars-for-sale?o=1&q=&th=1</b><i>', description='Sample Link:', placeholder=''), Text(value='', description='Link:', placeholder='Paste your mudah.my link here'))), VBox(children=(HTML(value='<i><b>C:\\\\Users\\\\LENOVO\\\\Documents</b><i>', description='Sample Path:', placeholder=''), Text(value='', description='Folder Path:', placeholder='Save Scraped Dataset'), HTML(value='<i><b>kereta</b><i>', description='Sample CSV:', placeholder=''), Text(value='', description='CSV file:', placeholder='Name your scrap csv file'))), VBox(children=(Button(description='Scrap Me', style=ButtonStyle(button_color='orange')), Output()))), _titles={'0': 'Source', '1': 'Save', '2': 'Scrap'})"
      ]
     },
     "metadata": {},
     "output_type": "display_data"
    }
   ],
   "source": [
    "#nbi:hide_in\n",
    "accordion1 = widgets.Accordion(children=[widgets.VBox([str_link, meurl]), widgets.VBox([str_folder, fpath, str_csv, fname]), widgets.VBox([bscrap,oscrap])])\n",
    "accordion1.set_title(0, 'Source')\n",
    "accordion1.set_title(1, 'Save')\n",
    "accordion1.set_title(2, 'Scrap')\n",
    "accordion1"
   ]
  },
  {
   "cell_type": "code",
   "execution_count": 26,
   "metadata": {},
   "outputs": [],
   "source": [
    "#nbi:hide_in\n",
    "viewbtn = widgets.HBox([view_head, view_rand, view_tail])\n",
    "#viewbtn"
   ]
  },
  {
   "cell_type": "code",
   "execution_count": 31,
   "metadata": {},
   "outputs": [],
   "source": [
    "#nbi:hide_in\n",
    "analysisbtn = widgets.HBox([boxplotbtn, boxplot_filter])\n",
    "#analysisbtn"
   ]
  },
  {
   "cell_type": "code",
   "execution_count": 28,
   "metadata": {},
   "outputs": [
    {
     "data": {
      "application/vnd.jupyter.widget-view+json": {
       "model_id": "8f974d4e31a849b88895209378e6aa5b",
       "version_major": 2,
       "version_minor": 0
      },
      "text/html": [
       "<p>Failed to display Jupyter Widget of type <code>Accordion</code>.</p>\n",
       "<p>\n",
       "  If you're reading this message in the Jupyter Notebook or JupyterLab Notebook, it may mean\n",
       "  that the widgets JavaScript is still loading. If this message persists, it\n",
       "  likely means that the widgets JavaScript library is either not installed or\n",
       "  not enabled. See the <a href=\"https://ipywidgets.readthedocs.io/en/stable/user_install.html\">Jupyter\n",
       "  Widgets Documentation</a> for setup instructions.\n",
       "</p>\n",
       "<p>\n",
       "  If you're reading this message in another frontend (for example, a static\n",
       "  rendering on GitHub or <a href=\"https://nbviewer.jupyter.org/\">NBViewer</a>),\n",
       "  it may mean that your frontend doesn't currently support widgets.\n",
       "</p>\n"
      ],
      "text/plain": [
       "Accordion(children=(VBox(children=(HTML(value='<i><b>C:\\\\Users\\\\LENOVO\\\\Documents</b><i>', description='Sample Path:', placeholder=''), Text(value='', description='Folder Path:', placeholder='Upload cleaned dataset'), HTML(value='<i><b>kereta</b><i>', description='Sample CSV:', placeholder=''), Text(value='', description='CSV file:', placeholder='Name of cleaned csv file'))), VBox(children=(HTML(value='<b>Choose how to view your data</b>', placeholder=''), HBox(children=(Dropdown(description='Head:', options=('-', '5', '6', '7', '8', '9', '10'), value='-'), Dropdown(description='Random:', options=('-', '5', '6', '7', '8', '9', '10'), value='-'), Dropdown(description='Tail:', options=('-', '5', '6', '7', '8', '9', '10'), value='-')))))), _titles={'0': 'Upload', '1': 'View'})"
      ]
     },
     "metadata": {},
     "output_type": "display_data"
    }
   ],
   "source": [
    "#nbi:hide_in\n",
    "accordion2 = widgets.Accordion(children=[widgets.VBox([str_folder,lpath, str_csv, lname]), widgets.VBox([str_view, viewbtn])])\n",
    "accordion2.set_title(0, 'Upload')\n",
    "accordion2.set_title(1, 'View')\n",
    "accordion2"
   ]
  },
  {
   "cell_type": "code",
   "execution_count": 29,
   "metadata": {},
   "outputs": [
    {
     "data": {
      "application/vnd.jupyter.widget-view+json": {
       "model_id": "c52e5f11f080475597c90a18038791ca",
       "version_major": 2,
       "version_minor": 0
      },
      "text/html": [
       "<p>Failed to display Jupyter Widget of type <code>Accordion</code>.</p>\n",
       "<p>\n",
       "  If you're reading this message in the Jupyter Notebook or JupyterLab Notebook, it may mean\n",
       "  that the widgets JavaScript is still loading. If this message persists, it\n",
       "  likely means that the widgets JavaScript library is either not installed or\n",
       "  not enabled. See the <a href=\"https://ipywidgets.readthedocs.io/en/stable/user_install.html\">Jupyter\n",
       "  Widgets Documentation</a> for setup instructions.\n",
       "</p>\n",
       "<p>\n",
       "  If you're reading this message in another frontend (for example, a static\n",
       "  rendering on GitHub or <a href=\"https://nbviewer.jupyter.org/\">NBViewer</a>),\n",
       "  it may mean that your frontend doesn't currently support widgets.\n",
       "</p>\n"
      ],
      "text/plain": [
       "Accordion(children=(VBox(children=(HTML(value='Apply <b>Data Mining<b> Method!!', placeholder=''), Button(description='PCA!', icon='check', style=ButtonStyle(button_color='orange'), tooltip='Click me'))), VBox(children=(HTML(value='<b>Choose to view and compare by attributes<b>', placeholder=''), HBox(children=(Button(description='Boxplot', icon='check', style=ButtonStyle(button_color='orange'), tooltip='Click me'), SelectMultiple(description='Filter by', index=(0,), options=('Price', 'Year', 'Mileage'), rows=3, value=('Price',)))))), VBox(children=(HTML(value='<b>Click to view Potential Scammers!!<b>', placeholder=''), Button(description='Click Me', icon='check', style=ButtonStyle(button_color='red'), tooltip='Click me')))), _titles={'0': 'Method', '1': 'Analysis', '2': 'Result'})"
      ]
     },
     "metadata": {},
     "output_type": "display_data"
    }
   ],
   "source": [
    "#nbi:hide_in\n",
    "accordion3 = widgets.Accordion(children=[widgets.VBox([str_pca,pcabtn]), widgets.VBox([str_box, analysisbtn]), widgets.VBox([str_result, scambtn])])\n",
    "accordion3.set_title(0, 'Method')\n",
    "accordion3.set_title(1, 'Analysis')\n",
    "accordion3.set_title(2, 'Result')\n",
    "accordion3"
   ]
  },
  {
   "cell_type": "code",
   "execution_count": 30,
   "metadata": {},
   "outputs": [
    {
     "name": "stdout",
     "output_type": "stream",
     "text": [
      "Tab Nest\n"
     ]
    },
    {
     "data": {
      "application/vnd.jupyter.widget-view+json": {
       "model_id": "1bf65aa3d07e4285892a168723fda513",
       "version_major": 2,
       "version_minor": 0
      },
      "text/html": [
       "<p>Failed to display Jupyter Widget of type <code>Tab</code>.</p>\n",
       "<p>\n",
       "  If you're reading this message in the Jupyter Notebook or JupyterLab Notebook, it may mean\n",
       "  that the widgets JavaScript is still loading. If this message persists, it\n",
       "  likely means that the widgets JavaScript library is either not installed or\n",
       "  not enabled. See the <a href=\"https://ipywidgets.readthedocs.io/en/stable/user_install.html\">Jupyter\n",
       "  Widgets Documentation</a> for setup instructions.\n",
       "</p>\n",
       "<p>\n",
       "  If you're reading this message in another frontend (for example, a static\n",
       "  rendering on GitHub or <a href=\"https://nbviewer.jupyter.org/\">NBViewer</a>),\n",
       "  it may mean that your frontend doesn't currently support widgets.\n",
       "</p>\n"
      ],
      "text/plain": [
       "Tab(children=(Accordion(children=(VBox(children=(HTML(value='<i><b>https://www.mudah.my/malaysia/cars-for-sale?o=1&q=&th=1</b><i>', description='Sample Link:', placeholder=''), Text(value='', description='Link:', placeholder='Paste your mudah.my link here'))), VBox(children=(HTML(value='<i><b>C:\\\\Users\\\\LENOVO\\\\Documents</b><i>', description='Sample Path:', placeholder=''), Text(value='', description='Folder Path:', placeholder='Save Scraped Dataset'), HTML(value='<i><b>kereta</b><i>', description='Sample CSV:', placeholder=''), Text(value='', description='CSV file:', placeholder='Name your scrap csv file'))), VBox(children=(Button(description='Scrap Me', style=ButtonStyle(button_color='orange')), Output()))), _titles={'0': 'Source', '1': 'Save', '2': 'Scrap'}), Accordion(children=(VBox(children=(HTML(value='<i><b>C:\\\\Users\\\\LENOVO\\\\Documents</b><i>', description='Sample Path:', placeholder=''), Text(value='', description='Folder Path:', placeholder='Upload cleaned dataset'), HTML(value='<i><b>kereta</b><i>', description='Sample CSV:', placeholder=''), Text(value='', description='CSV file:', placeholder='Name of cleaned csv file'))), VBox(children=(HTML(value='<b>Choose how to view your data</b>', placeholder=''), HBox(children=(Dropdown(description='Head:', options=('-', '5', '6', '7', '8', '9', '10'), value='-'), Dropdown(description='Random:', options=('-', '5', '6', '7', '8', '9', '10'), value='-'), Dropdown(description='Tail:', options=('-', '5', '6', '7', '8', '9', '10'), value='-')))))), _titles={'0': 'Upload', '1': 'View'}), Accordion(children=(VBox(children=(HTML(value='Apply <b>Data Mining<b> Method!!', placeholder=''), Button(description='PCA!', icon='check', style=ButtonStyle(button_color='orange'), tooltip='Click me'))), VBox(children=(HTML(value='<b>Choose to view and compare by attributes<b>', placeholder=''), HBox(children=(Button(description='Boxplot', icon='check', style=ButtonStyle(button_color='orange'), tooltip='Click me'), SelectMultiple(description='Filter by', index=(0,), options=('Price', 'Year', 'Mileage'), rows=3, value=('Price',)))))), VBox(children=(HTML(value='<b>Click to view Potential Scammers!!<b>', placeholder=''), Button(description='Click Me', icon='check', style=ButtonStyle(button_color='red'), tooltip='Click me')))), _titles={'0': 'Method', '1': 'Analysis', '2': 'Result'})), _titles={'0': '1. Extaction', '1': '2. Data', '2': '3. Evaluation'})"
      ]
     },
     "metadata": {},
     "output_type": "display_data"
    }
   ],
   "source": [
    "#nbi:hide_in\n",
    "tab_nest = widgets.Tab()\n",
    "tab_nest.children = [accordion1, accordion2, accordion3]\n",
    "tab_nest.set_title(0, '1. Extaction')\n",
    "tab_nest.set_title(1, '2. Data')\n",
    "tab_nest.set_title(2, '3. Evaluation')\n",
    "print('Tab Nest')\n",
    "display(tab_nest)"
   ]
  }
 ],
 "metadata": {
  "kernelspec": {
   "display_name": "Python 3",
   "language": "python",
   "name": "python3"
  },
  "language_info": {
   "codemirror_mode": {
    "name": "ipython",
    "version": 3
   },
   "file_extension": ".py",
   "mimetype": "text/x-python",
   "name": "python",
   "nbconvert_exporter": "python",
   "pygments_lexer": "ipython3",
   "version": "3.6.4"
  },
  "widgets": {
   "application/vnd.jupyter.widget-state+json": {
    "state": {
     "0079a07bf6d44e02a238381380df57d7": {
      "model_module": "@jupyter-widgets/controls",
      "model_module_version": "1.1.0",
      "model_name": "VBoxModel",
      "state": {
       "children": [
        "IPY_MODEL_a19472d2bf1c4ed781871ef76a20a01f",
        "IPY_MODEL_823f006e17cc4828af49aaf5b365f0d9"
       ],
       "layout": "IPY_MODEL_93265decb7bb43a5adc40f735ebfad41"
      }
     },
     "00ab286a59f446f19fa4481933da0ff5": {
      "model_module": "@jupyter-widgets/base",
      "model_module_version": "1.0.0",
      "model_name": "LayoutModel",
      "state": {}
     },
     "0104fa15dd3149938d9269f4302d0cd3": {
      "model_module": "@jupyter-widgets/controls",
      "model_module_version": "1.1.0",
      "model_name": "ButtonStyleModel",
      "state": {}
     },
     "01386a38a26d44919782b3e983af8a0a": {
      "model_module": "@jupyter-widgets/controls",
      "model_module_version": "1.1.0",
      "model_name": "VBoxModel",
      "state": {
       "children": [
        "IPY_MODEL_f0e7f876d6de48c887e28e12aca33e72",
        "IPY_MODEL_9e6b2fb55acd4f4684c4f41d150fda76"
       ],
       "layout": "IPY_MODEL_7e26c7c6da9a4967bdeb04442e120ae4"
      }
     },
     "01909ee818e84da5a552ceeead9185fc": {
      "model_module": "@jupyter-widgets/controls",
      "model_module_version": "1.1.0",
      "model_name": "ButtonModel",
      "state": {
       "description": "Click Me",
       "icon": "check",
       "layout": "IPY_MODEL_20644df8c54249aca0924641f235a5ca",
       "style": "IPY_MODEL_1b74b351c80e49daacdc6820fff363ed",
       "tooltip": "Click me"
      }
     },
     "01c7234912d04f13869c5d206c7136ce": {
      "model_module": "@jupyter-widgets/controls",
      "model_module_version": "1.1.0",
      "model_name": "ButtonStyleModel",
      "state": {
       "button_color": "orange"
      }
     },
     "01fb11737a1446eabe0322cf981c8fd6": {
      "model_module": "@jupyter-widgets/controls",
      "model_module_version": "1.1.0",
      "model_name": "DescriptionStyleModel",
      "state": {
       "description_width": ""
      }
     },
     "021ec9e7001843229a4de182c2abd93e": {
      "model_module": "@jupyter-widgets/base",
      "model_module_version": "1.0.0",
      "model_name": "LayoutModel",
      "state": {}
     },
     "026bf585b05d4860b3cc1f2e1263570b": {
      "model_module": "@jupyter-widgets/base",
      "model_module_version": "1.0.0",
      "model_name": "LayoutModel",
      "state": {}
     },
     "028d948112d747f3a14d645e21afc162": {
      "model_module": "@jupyter-widgets/base",
      "model_module_version": "1.0.0",
      "model_name": "LayoutModel",
      "state": {}
     },
     "02e5b10a5ff5461a9253736c1ecf2e49": {
      "model_module": "@jupyter-widgets/base",
      "model_module_version": "1.0.0",
      "model_name": "LayoutModel",
      "state": {}
     },
     "02ea4ed28071428b8a497e1e2247aca4": {
      "model_module": "@jupyter-widgets/controls",
      "model_module_version": "1.1.0",
      "model_name": "DescriptionStyleModel",
      "state": {
       "description_width": ""
      }
     },
     "03500f75bbdd4cf98e44e60fed431dba": {
      "model_module": "@jupyter-widgets/controls",
      "model_module_version": "1.1.0",
      "model_name": "DescriptionStyleModel",
      "state": {
       "description_width": ""
      }
     },
     "03a21665b38741db96365e7b1e454f3e": {
      "model_module": "@jupyter-widgets/controls",
      "model_module_version": "1.1.0",
      "model_name": "ButtonModel",
      "state": {
       "description": "Click Me",
       "icon": "check",
       "layout": "IPY_MODEL_9120bf53b8964b9c9f069cd8226fe906",
       "style": "IPY_MODEL_3458d1494d9445ba94fd7771826ea627",
       "tooltip": "Click me"
      }
     },
     "03b9fb887c924cc0a360235b61087dd1": {
      "model_module": "@jupyter-widgets/controls",
      "model_module_version": "1.1.0",
      "model_name": "VBoxModel",
      "state": {
       "children": [
        "IPY_MODEL_bc07d51c7bd049b6b214422ef3b7ce70",
        "IPY_MODEL_a56078b5fb524adba1559811a4f8be64"
       ],
       "layout": "IPY_MODEL_93ec4b32d0154c138a5d15ceed30c7e3"
      }
     },
     "03eb1abcacac4787b340b84fcfac04b8": {
      "model_module": "@jupyter-widgets/controls",
      "model_module_version": "1.1.0",
      "model_name": "ButtonStyleModel",
      "state": {}
     },
     "0411d54901064f058b59b5d9a6fc53a0": {
      "model_module": "@jupyter-widgets/controls",
      "model_module_version": "1.1.0",
      "model_name": "AccordionModel",
      "state": {
       "_titles": {
        "0": "Method",
        "1": "Analysis",
        "2": "Result"
       },
       "children": [
        "IPY_MODEL_05ecf3f03bf441a39d7731f52c58e17b",
        "IPY_MODEL_930955ec3a224052a7f4e63d9d3050b6",
        "IPY_MODEL_c0244e8a0f954e4da22a1ba05ccce602"
       ],
       "layout": "IPY_MODEL_dcb0e02e6f524a6d8328af186842efa8"
      }
     },
     "049cff9418fc418bb98d4f9e34f84749": {
      "model_module": "@jupyter-widgets/base",
      "model_module_version": "1.0.0",
      "model_name": "LayoutModel",
      "state": {}
     },
     "04dc6a1e6c754fd1b3323c60146d421c": {
      "model_module": "@jupyter-widgets/base",
      "model_module_version": "1.0.0",
      "model_name": "LayoutModel",
      "state": {}
     },
     "04e0046d6f5045f0b9b1951d2b11c41a": {
      "model_module": "@jupyter-widgets/base",
      "model_module_version": "1.0.0",
      "model_name": "LayoutModel",
      "state": {}
     },
     "053e0fef7ec9413291f47b992ee80437": {
      "model_module": "@jupyter-widgets/controls",
      "model_module_version": "1.1.0",
      "model_name": "DropdownModel",
      "state": {
       "_options_labels": [
        "5",
        "6",
        "7",
        "8",
        "9",
        "10"
       ],
       "description": "Head:",
       "index": 0,
       "layout": "IPY_MODEL_0f3eb072c63d441eab83de3f72f3734e",
       "style": "IPY_MODEL_6e2426c5b1054c08afa78505c4d64f89"
      }
     },
     "05586a907a3e4937a3bdb6d8edcc7c2c": {
      "model_module": "@jupyter-widgets/controls",
      "model_module_version": "1.1.0",
      "model_name": "DescriptionStyleModel",
      "state": {
       "description_width": ""
      }
     },
     "05b456de2c8341a6b2139b0b101f1389": {
      "model_module": "@jupyter-widgets/controls",
      "model_module_version": "1.1.0",
      "model_name": "VBoxModel",
      "state": {
       "children": [
        "IPY_MODEL_94ba13e8d8d8448c9be65fecf75d522a",
        "IPY_MODEL_f7b58be567d94c78867287dea4d99cd9"
       ],
       "layout": "IPY_MODEL_8fefb0b52ddb4d0c98dbd051e19e6d11"
      }
     },
     "05e64599de61464197c776e254148a84": {
      "model_module": "@jupyter-widgets/controls",
      "model_module_version": "1.1.0",
      "model_name": "VBoxModel",
      "state": {
       "children": [
        "IPY_MODEL_b4f5d419989446eba4da349d74e907f1",
        "IPY_MODEL_4e2b59ccd0c947d584c70e03f8f02771"
       ],
       "layout": "IPY_MODEL_677e7f78593f456c852da8874c91857d"
      }
     },
     "05ecf3f03bf441a39d7731f52c58e17b": {
      "model_module": "@jupyter-widgets/controls",
      "model_module_version": "1.1.0",
      "model_name": "VBoxModel",
      "state": {
       "children": [
        "IPY_MODEL_a0a0c0a5cc8849e9825d954020026527",
        "IPY_MODEL_78c7396bbbd0412392421dbce1d3534b"
       ],
       "layout": "IPY_MODEL_22ab7a3e9f374283873321cb65ce4b92"
      }
     },
     "06764c74d0fc4d9bb74f6786e6297cb6": {
      "model_module": "@jupyter-widgets/controls",
      "model_module_version": "1.1.0",
      "model_name": "HBoxModel",
      "state": {
       "children": [
        "IPY_MODEL_07717c1f06b94ff39eea0fbc73feb1fb",
        "IPY_MODEL_c771f12830f74f9f85a866bbdbb55053",
        "IPY_MODEL_a0c870f0ea714abdb025835f7b747993"
       ],
       "layout": "IPY_MODEL_c732092bb8bf442fb5c05f7db3c3760f"
      }
     },
     "06959940d6944b708ad96424920f87ca": {
      "model_module": "@jupyter-widgets/controls",
      "model_module_version": "1.1.0",
      "model_name": "VBoxModel",
      "state": {
       "children": [
        "IPY_MODEL_bff8addeabaf452cacb333c7148e6700",
        "IPY_MODEL_9dc84f313ee841b4b8fdee74784b3172",
        "IPY_MODEL_a86e40daeb0e40b7928dc081be52729e",
        "IPY_MODEL_c4b77d06a74944a79cbe9d6318d31824"
       ],
       "layout": "IPY_MODEL_dc7b34f552c6403b985f9e60036448a9"
      }
     },
     "07717c1f06b94ff39eea0fbc73feb1fb": {
      "model_module": "@jupyter-widgets/controls",
      "model_module_version": "1.1.0",
      "model_name": "DropdownModel",
      "state": {
       "_options_labels": [
        "-",
        "5",
        "6",
        "7",
        "8",
        "9",
        "10"
       ],
       "description": "Head:",
       "index": 0,
       "layout": "IPY_MODEL_31b6d1595c4249fb9ef9725985bba2c0",
       "style": "IPY_MODEL_88bcc3471da64cdd92aa007e74a0bf70"
      }
     },
     "07e57dc4f1af48dbb446ac07143d1c89": {
      "model_module": "@jupyter-widgets/controls",
      "model_module_version": "1.1.0",
      "model_name": "VBoxModel",
      "state": {
       "children": [
        "IPY_MODEL_34d9c9d70a1c466e8163e265eb384a5c",
        "IPY_MODEL_06764c74d0fc4d9bb74f6786e6297cb6"
       ],
       "layout": "IPY_MODEL_e9f7551bd7d94ebd8b522cfe39dd75dd"
      }
     },
     "07eb8fd7bb2441f58ce99f6761a63285": {
      "model_module": "@jupyter-widgets/base",
      "model_module_version": "1.0.0",
      "model_name": "LayoutModel",
      "state": {}
     },
     "080019426bc140f7ac24b7b86145bde6": {
      "model_module": "@jupyter-widgets/controls",
      "model_module_version": "1.1.0",
      "model_name": "DescriptionStyleModel",
      "state": {
       "description_width": ""
      }
     },
     "082275945579472bbb03a19d68a6063e": {
      "model_module": "@jupyter-widgets/controls",
      "model_module_version": "1.1.0",
      "model_name": "ButtonStyleModel",
      "state": {
       "button_color": "lightgreen"
      }
     },
     "0833c0aa4ded48b3a6db349c065383b5": {
      "model_module": "@jupyter-widgets/base",
      "model_module_version": "1.0.0",
      "model_name": "LayoutModel",
      "state": {}
     },
     "091c601f952e49b5991630689229aeca": {
      "model_module": "@jupyter-widgets/controls",
      "model_module_version": "1.1.0",
      "model_name": "TextModel",
      "state": {
       "description": "Folder Path:",
       "layout": "IPY_MODEL_ff72073238884fe1ba3668f3d23433b0",
       "placeholder": "Save Scraped Dataset",
       "style": "IPY_MODEL_77f109fae6c74eaebc4da2dda5b356fe"
      }
     },
     "09bcf65a9e8f4ca687f659e2971335dd": {
      "model_module": "@jupyter-widgets/base",
      "model_module_version": "1.0.0",
      "model_name": "LayoutModel",
      "state": {}
     },
     "09d0b74b264640e086c322e61cb5ed6a": {
      "model_module": "@jupyter-widgets/base",
      "model_module_version": "1.0.0",
      "model_name": "LayoutModel",
      "state": {}
     },
     "09f465edb6214800b95fd051688dad09": {
      "model_module": "@jupyter-widgets/base",
      "model_module_version": "1.0.0",
      "model_name": "LayoutModel",
      "state": {}
     },
     "0a2dbd6458f8459dabb1c3e865a41085": {
      "model_module": "@jupyter-widgets/controls",
      "model_module_version": "1.1.0",
      "model_name": "HTMLModel",
      "state": {
       "layout": "IPY_MODEL_7b9afc68dd36423f924ff112fa55a2c2",
       "placeholder": "",
       "style": "IPY_MODEL_7788e5416a0545da8a84acd6e3cbf5af",
       "value": "<b>Click to view Potential Scammers!!<b>"
      }
     },
     "0a73fdefe039400a9879e73ab12b04b3": {
      "model_module": "@jupyter-widgets/base",
      "model_module_version": "1.0.0",
      "model_name": "LayoutModel",
      "state": {}
     },
     "0aa43c740d0c47089b00f390ad6c1bde": {
      "model_module": "@jupyter-widgets/base",
      "model_module_version": "1.0.0",
      "model_name": "LayoutModel",
      "state": {}
     },
     "0accce7460734a4cb704126bd5e9335e": {
      "model_module": "@jupyter-widgets/base",
      "model_module_version": "1.0.0",
      "model_name": "LayoutModel",
      "state": {}
     },
     "0afa2f7fc84e4c5c8855cbd0d12d6088": {
      "model_module": "@jupyter-widgets/controls",
      "model_module_version": "1.1.0",
      "model_name": "VBoxModel",
      "state": {
       "children": [
        "IPY_MODEL_431bd9b95daa47708b2f291ad343942b",
        "IPY_MODEL_b38353b32753462aad0a98d0d2bf3f3a"
       ],
       "layout": "IPY_MODEL_60e4b0e600134003b21ceb68ae110b3c"
      }
     },
     "0b402432bc1a4f75bc6e033ab7a89969": {
      "model_module": "@jupyter-widgets/base",
      "model_module_version": "1.0.0",
      "model_name": "LayoutModel",
      "state": {}
     },
     "0b4477e16c8e453696a6409cbc235ab7": {
      "model_module": "@jupyter-widgets/controls",
      "model_module_version": "1.1.0",
      "model_name": "ButtonStyleModel",
      "state": {
       "button_color": "red"
      }
     },
     "0b72464e419b43038cab09dbc73286ec": {
      "model_module": "@jupyter-widgets/base",
      "model_module_version": "1.0.0",
      "model_name": "LayoutModel",
      "state": {}
     },
     "0c285aa3c5df4426a4ad975b55a5a19c": {
      "model_module": "@jupyter-widgets/controls",
      "model_module_version": "1.1.0",
      "model_name": "TabModel",
      "state": {
       "_titles": {
        "0": "1. Extaction",
        "1": "2. Data",
        "2": "3. Evaluation"
       },
       "children": [
        "IPY_MODEL_c1aed1dbd974447390e3105e74d28fa1",
        "IPY_MODEL_d582e61083084dedbad12beaf8ce0014",
        "IPY_MODEL_fc1e7c997c12448d936f0dacc5166473"
       ],
       "layout": "IPY_MODEL_4e58478fd9224ac7a08eb40792ef8e41",
       "selected_index": 1
      }
     },
     "0c5d48a7def14c0abf59a7bec580776a": {
      "model_module": "@jupyter-widgets/base",
      "model_module_version": "1.0.0",
      "model_name": "LayoutModel",
      "state": {}
     },
     "0c9b0256f18c482fb5e52e212cb4202d": {
      "model_module": "@jupyter-widgets/controls",
      "model_module_version": "1.1.0",
      "model_name": "TabModel",
      "state": {
       "_titles": {
        "0": "1. Extaction",
        "1": "2. Data",
        "2": "3. Evaluation"
       },
       "children": [
        "IPY_MODEL_8166a0bbb056476ea8a2d24d3afe6bb9",
        "IPY_MODEL_0da6203bdffb48909955e4dd9446a8ee",
        "IPY_MODEL_e5f1528be6c744159b0409ee54bb5b1d"
       ],
       "layout": "IPY_MODEL_f93445bd74fe4ab1a9da77052a9d96ff"
      }
     },
     "0cb57cf548c84c32abd30fe2419f5d92": {
      "model_module": "@jupyter-widgets/controls",
      "model_module_version": "1.1.0",
      "model_name": "ToggleButtonsStyleModel",
      "state": {
       "button_width": "",
       "description_width": ""
      }
     },
     "0cecb1064de74340926cda6134d998c1": {
      "model_module": "@jupyter-widgets/controls",
      "model_module_version": "1.1.0",
      "model_name": "HTMLModel",
      "state": {
       "layout": "IPY_MODEL_aa3da67bd2e04cc99e0c18734bc4abc8",
       "placeholder": "",
       "style": "IPY_MODEL_8c2cd2d0e88140c79cdf501cd0a94222",
       "value": "Apply <b>Data Mining<b> Method!!"
      }
     },
     "0d0c6dd078d64e3c96506a0baaf66b26": {
      "model_module": "@jupyter-widgets/controls",
      "model_module_version": "1.1.0",
      "model_name": "DescriptionStyleModel",
      "state": {
       "description_width": ""
      }
     },
     "0d10681c89e447abbaeb755f219986ba": {
      "model_module": "@jupyter-widgets/base",
      "model_module_version": "1.0.0",
      "model_name": "LayoutModel",
      "state": {}
     },
     "0d1ba5a8a8cf4d12b7bb810bc176b8a0": {
      "model_module": "@jupyter-widgets/controls",
      "model_module_version": "1.1.0",
      "model_name": "DescriptionStyleModel",
      "state": {
       "description_width": ""
      }
     },
     "0d2661185cab4e6dba64dd14fbc6aa4e": {
      "model_module": "@jupyter-widgets/controls",
      "model_module_version": "1.1.0",
      "model_name": "HTMLModel",
      "state": {
       "layout": "IPY_MODEL_0accce7460734a4cb704126bd5e9335e",
       "placeholder": "",
       "style": "IPY_MODEL_6a684ba1b11e4b8e8330c1cf3ad8b5dd",
       "value": "<b>Click to view Potential Scammers!!<b>"
      }
     },
     "0d6890c0b47c40d198e6b7b8e2b912d3": {
      "model_module": "@jupyter-widgets/controls",
      "model_module_version": "1.1.0",
      "model_name": "DescriptionStyleModel",
      "state": {
       "description_width": ""
      }
     },
     "0d9e19a2362f4f16a98a5d9b08c98995": {
      "model_module": "@jupyter-widgets/base",
      "model_module_version": "1.0.0",
      "model_name": "LayoutModel",
      "state": {}
     },
     "0da6203bdffb48909955e4dd9446a8ee": {
      "model_module": "@jupyter-widgets/controls",
      "model_module_version": "1.1.0",
      "model_name": "AccordionModel",
      "state": {
       "_titles": {
        "0": "Upload",
        "1": "View"
       },
       "children": [
        "IPY_MODEL_be6445ad7cf64a24a024977ba301d259",
        "IPY_MODEL_904cafcf6f09400d9d425edd165411a0"
       ],
       "layout": "IPY_MODEL_f1d81af51c544a7b82d65ed69ea80c96",
       "selected_index": 1
      }
     },
     "0de3ca36dc7c49ada6ee189403c02e02": {
      "model_module": "@jupyter-widgets/base",
      "model_module_version": "1.0.0",
      "model_name": "LayoutModel",
      "state": {}
     },
     "0e26bed75d0c418eb910d7df7b9b35a2": {
      "model_module": "@jupyter-widgets/controls",
      "model_module_version": "1.1.0",
      "model_name": "VBoxModel",
      "state": {
       "children": [
        "IPY_MODEL_3db03be525d946e6b94134adf035c076",
        "IPY_MODEL_7500865d96ca4f1dbbe71bbe3f3ec2a7",
        "IPY_MODEL_cd93df0abb2045b1b0b942da07048171"
       ],
       "layout": "IPY_MODEL_b1d3d0d2523446528ab5532399978e55"
      }
     },
     "0e41ab2c9f2d4bd5a35b91ed30d842eb": {
      "model_module": "@jupyter-widgets/output",
      "model_module_version": "1.0.0",
      "model_name": "OutputModel",
      "state": {
       "layout": "IPY_MODEL_fb325d29d305405aadb15c9c620194dc"
      }
     },
     "0e852fdfa7ee435298197d7a6513f634": {
      "model_module": "@jupyter-widgets/controls",
      "model_module_version": "1.1.0",
      "model_name": "TextModel",
      "state": {
       "description": "Folder Path:",
       "layout": "IPY_MODEL_09d0b74b264640e086c322e61cb5ed6a",
       "placeholder": "Upload cleaned dataset",
       "style": "IPY_MODEL_a93bf36ce87a4ef88bd807d0dc87f2fc"
      }
     },
     "0e966ef4552842b2af53069ad3f5c90c": {
      "model_module": "@jupyter-widgets/base",
      "model_module_version": "1.0.0",
      "model_name": "LayoutModel",
      "state": {}
     },
     "0e9f6db161314796b5663cbeb80372f4": {
      "model_module": "@jupyter-widgets/base",
      "model_module_version": "1.0.0",
      "model_name": "LayoutModel",
      "state": {}
     },
     "0ecedffc4b17409ebca97d6ed2cecc0d": {
      "model_module": "@jupyter-widgets/controls",
      "model_module_version": "1.1.0",
      "model_name": "VBoxModel",
      "state": {
       "children": [
        "IPY_MODEL_bff8addeabaf452cacb333c7148e6700",
        "IPY_MODEL_9dc84f313ee841b4b8fdee74784b3172",
        "IPY_MODEL_a86e40daeb0e40b7928dc081be52729e",
        "IPY_MODEL_c4b77d06a74944a79cbe9d6318d31824"
       ],
       "layout": "IPY_MODEL_4f4241063b6549e5a282ea5611fe7286"
      }
     },
     "0ee66fb90a3a4103aefc427258f019bd": {
      "model_module": "@jupyter-widgets/output",
      "model_module_version": "1.0.0",
      "model_name": "OutputModel",
      "state": {
       "layout": "IPY_MODEL_1466b13dd54f46bf8931ea9e154a9025"
      }
     },
     "0f3eb072c63d441eab83de3f72f3734e": {
      "model_module": "@jupyter-widgets/base",
      "model_module_version": "1.0.0",
      "model_name": "LayoutModel",
      "state": {}
     },
     "0f590219f3c945278d28c5419ee543f4": {
      "model_module": "@jupyter-widgets/controls",
      "model_module_version": "1.1.0",
      "model_name": "ButtonStyleModel",
      "state": {
       "button_color": "orange"
      }
     },
     "0f5a079158ba41d8b973ee01c7b3aec7": {
      "model_module": "@jupyter-widgets/base",
      "model_module_version": "1.0.0",
      "model_name": "LayoutModel",
      "state": {}
     },
     "0fd6762b073a48d69e635d5e5d7a3cec": {
      "model_module": "@jupyter-widgets/controls",
      "model_module_version": "1.1.0",
      "model_name": "DescriptionStyleModel",
      "state": {
       "description_width": ""
      }
     },
     "108cd0dae4c84f85aeafd2db974ad1e4": {
      "model_module": "@jupyter-widgets/controls",
      "model_module_version": "1.1.0",
      "model_name": "ButtonModel",
      "state": {
       "description": "PCA!",
       "icon": "check",
       "layout": "IPY_MODEL_8cdcb2499d314a0394d54ca4717cb95a",
       "style": "IPY_MODEL_4cc81a74877e406687a4324f1fb4d132",
       "tooltip": "Click me"
      }
     },
     "109764530f2b4328b571557b9cc38a55": {
      "model_module": "@jupyter-widgets/base",
      "model_module_version": "1.0.0",
      "model_name": "LayoutModel",
      "state": {}
     },
     "110369f562b646629cb8f984ec91038b": {
      "model_module": "@jupyter-widgets/base",
      "model_module_version": "1.0.0",
      "model_name": "LayoutModel",
      "state": {}
     },
     "11593cadfa794d62ac07bbf6b52448f2": {
      "model_module": "@jupyter-widgets/controls",
      "model_module_version": "1.1.0",
      "model_name": "VBoxModel",
      "state": {
       "children": [
        "IPY_MODEL_bc07d51c7bd049b6b214422ef3b7ce70",
        "IPY_MODEL_a56078b5fb524adba1559811a4f8be64"
       ],
       "layout": "IPY_MODEL_a1293ed91b9d460c9055ce84eff1e8f9"
      }
     },
     "11bcadffff144e24811ea3d15f6bb148": {
      "model_module": "@jupyter-widgets/controls",
      "model_module_version": "1.1.0",
      "model_name": "HTMLModel",
      "state": {
       "layout": "IPY_MODEL_146659d43d204f628343625a74aeacc6",
       "placeholder": "",
       "style": "IPY_MODEL_f260f990f4c14374ae65ccfc5373b324",
       "value": "<b>Choose how to view your data</b>"
      }
     },
     "11c298e780544dffb330a352f6fc5bef": {
      "model_module": "@jupyter-widgets/controls",
      "model_module_version": "1.1.0",
      "model_name": "DescriptionStyleModel",
      "state": {
       "description_width": ""
      }
     },
     "11d12137f9ed48daa7ceaa63de9a68cc": {
      "model_module": "@jupyter-widgets/base",
      "model_module_version": "1.0.0",
      "model_name": "LayoutModel",
      "state": {}
     },
     "11ed0b0dddf248689e60289d0852fb7d": {
      "model_module": "@jupyter-widgets/base",
      "model_module_version": "1.0.0",
      "model_name": "LayoutModel",
      "state": {}
     },
     "1254efcc32ca484dadb555c803692b12": {
      "model_module": "@jupyter-widgets/controls",
      "model_module_version": "1.1.0",
      "model_name": "TextModel",
      "state": {
       "description": "Link:",
       "layout": "IPY_MODEL_6489bb46d2ac46e19c51c149d5c1dddc",
       "placeholder": "Paste your mudah.my link here",
       "style": "IPY_MODEL_af64b0b612c9454b8d33cf19e4771eaa"
      }
     },
     "128937c17586498f9048167ff1e94050": {
      "model_module": "@jupyter-widgets/base",
      "model_module_version": "1.0.0",
      "model_name": "LayoutModel",
      "state": {}
     },
     "12abd5ec8c8b4a0594b56dd1df735c5c": {
      "model_module": "@jupyter-widgets/base",
      "model_module_version": "1.0.0",
      "model_name": "LayoutModel",
      "state": {}
     },
     "12c17c0d71544449a64891cf9c570ce1": {
      "model_module": "@jupyter-widgets/controls",
      "model_module_version": "1.1.0",
      "model_name": "ButtonModel",
      "state": {
       "description": "PCA!",
       "icon": "check",
       "layout": "IPY_MODEL_2c4af7c005c94c53a91b90e9a9841181",
       "style": "IPY_MODEL_0104fa15dd3149938d9269f4302d0cd3",
       "tooltip": "Click me"
      }
     },
     "131508a6cdfd4bd2b955ced9d9647fae": {
      "model_module": "@jupyter-widgets/controls",
      "model_module_version": "1.1.0",
      "model_name": "DescriptionStyleModel",
      "state": {
       "description_width": ""
      }
     },
     "131e5d2a3ccb4b169e8118fa73f4bc69": {
      "model_module": "@jupyter-widgets/base",
      "model_module_version": "1.0.0",
      "model_name": "LayoutModel",
      "state": {}
     },
     "135b4b17a81f4c5c87334ebca201bf1a": {
      "model_module": "@jupyter-widgets/base",
      "model_module_version": "1.0.0",
      "model_name": "LayoutModel",
      "state": {}
     },
     "141bd62bf973486fac9191f110b67e88": {
      "model_module": "@jupyter-widgets/base",
      "model_module_version": "1.0.0",
      "model_name": "LayoutModel",
      "state": {}
     },
     "142bba1411d04fc9adc1fe76ba5e2c20": {
      "model_module": "@jupyter-widgets/controls",
      "model_module_version": "1.1.0",
      "model_name": "HTMLModel",
      "state": {
       "description": "Sample Path:",
       "layout": "IPY_MODEL_930002fd3a5c43c2be36f4617f87e93f",
       "placeholder": "",
       "style": "IPY_MODEL_fc7d973d232f4b4b873d7fd8daab6412",
       "value": "<i><b>C:\\Users\\LENOVO\\Documents</b><i>"
      }
     },
     "1434001ed198435db47980dc0df40c2b": {
      "model_module": "@jupyter-widgets/controls",
      "model_module_version": "1.1.0",
      "model_name": "DropdownModel",
      "state": {
       "_options_labels": [
        "-",
        "5",
        "6",
        "7",
        "8",
        "9",
        "10"
       ],
       "description": "Random:",
       "index": 0,
       "layout": "IPY_MODEL_04dc6a1e6c754fd1b3323c60146d421c",
       "style": "IPY_MODEL_01fb11737a1446eabe0322cf981c8fd6"
      }
     },
     "1463349a223449aea52e7071e94c9f1d": {
      "model_module": "@jupyter-widgets/controls",
      "model_module_version": "1.1.0",
      "model_name": "ButtonStyleModel",
      "state": {}
     },
     "146659d43d204f628343625a74aeacc6": {
      "model_module": "@jupyter-widgets/base",
      "model_module_version": "1.0.0",
      "model_name": "LayoutModel",
      "state": {}
     },
     "1466b13dd54f46bf8931ea9e154a9025": {
      "model_module": "@jupyter-widgets/base",
      "model_module_version": "1.0.0",
      "model_name": "LayoutModel",
      "state": {}
     },
     "15f27c0f57b146b9bf5a25c47a7491fc": {
      "model_module": "@jupyter-widgets/controls",
      "model_module_version": "1.1.0",
      "model_name": "SelectMultipleModel",
      "state": {
       "_options_labels": [
        "Apples",
        "Oranges",
        "Pears"
       ],
       "description": "Fruits",
       "index": [
        2
       ],
       "layout": "IPY_MODEL_52098c833c5141b1a63541f2aac51231",
       "rows": 5,
       "style": "IPY_MODEL_0fd6762b073a48d69e635d5e5d7a3cec"
      }
     },
     "16627c7a464546539073d30ac61eaf00": {
      "model_module": "@jupyter-widgets/controls",
      "model_module_version": "1.1.0",
      "model_name": "DescriptionStyleModel",
      "state": {
       "description_width": ""
      }
     },
     "171fb08161ce4952bf973ab192c9c7db": {
      "model_module": "@jupyter-widgets/controls",
      "model_module_version": "1.1.0",
      "model_name": "DescriptionStyleModel",
      "state": {
       "description_width": ""
      }
     },
     "1754555ca48f44b68eac6d647c93d8c2": {
      "model_module": "@jupyter-widgets/controls",
      "model_module_version": "1.1.0",
      "model_name": "HTMLModel",
      "state": {
       "description": "Sample Path:",
       "layout": "IPY_MODEL_f4c07a8cd81849bab95235e8d9cf6312",
       "placeholder": "",
       "style": "IPY_MODEL_25822193b1cf443899134bd9b5c86dd2",
       "value": "<i><b>C:\\Users\\LENOVO\\Documents</b><i>"
      }
     },
     "17846b2ed1304a25b3e1fe1ef7ed8c91": {
      "model_module": "@jupyter-widgets/base",
      "model_module_version": "1.0.0",
      "model_name": "LayoutModel",
      "state": {}
     },
     "17cb28b44aca474f8b49243527ed1be9": {
      "model_module": "@jupyter-widgets/controls",
      "model_module_version": "1.1.0",
      "model_name": "ButtonModel",
      "state": {
       "description": "PCA!",
       "icon": "check",
       "layout": "IPY_MODEL_50b580d0de6b47c386f6db96cff7ffea",
       "style": "IPY_MODEL_03eb1abcacac4787b340b84fcfac04b8",
       "tooltip": "Click me"
      }
     },
     "1813cf967ca84c8d9dd9b3ea10b475e1": {
      "model_module": "@jupyter-widgets/controls",
      "model_module_version": "1.1.0",
      "model_name": "TabModel",
      "state": {
       "_titles": {
        "0": "1. Extaction",
        "1": "2. Data",
        "2": "3. Evaluation"
       },
       "children": [
        "IPY_MODEL_c1aed1dbd974447390e3105e74d28fa1",
        "IPY_MODEL_39a38648b25245beb3b94a9a187da42c",
        "IPY_MODEL_4068c4dc90874ad380723c093b3e743a"
       ],
       "layout": "IPY_MODEL_eaf02c94cddf43488b97d9121db4753f",
       "selected_index": 2
      }
     },
     "182af986d08e4c4499ecec46fe356e46": {
      "model_module": "@jupyter-widgets/controls",
      "model_module_version": "1.1.0",
      "model_name": "ButtonModel",
      "state": {
       "description": "PCA!",
       "icon": "check",
       "layout": "IPY_MODEL_62dd8514c56645feb9b8157688908837",
       "style": "IPY_MODEL_706b013bcd9348faacda836354920ff4",
       "tooltip": "Click me"
      }
     },
     "189bfc24a3cb42e5a23629439dc99157": {
      "model_module": "@jupyter-widgets/controls",
      "model_module_version": "1.1.0",
      "model_name": "SelectMultipleModel",
      "state": {
       "_options_labels": [
        "Price",
        "Year",
        "Mileage"
       ],
       "description": "Filter by",
       "index": [
        0
       ],
       "layout": "IPY_MODEL_4e39bd0128f140df895ae83a2a3f6924",
       "rows": 3,
       "style": "IPY_MODEL_5212f7deb686456890f50a61a77e5391"
      }
     },
     "18b2dbdd338b4d23bfdff93633479890": {
      "model_module": "@jupyter-widgets/controls",
      "model_module_version": "1.1.0",
      "model_name": "VBoxModel",
      "state": {
       "children": [
        "IPY_MODEL_291438f326054acdaa45f5badf672dc0",
        "IPY_MODEL_74f656a1e974496e86d2af3e71dae701"
       ],
       "layout": "IPY_MODEL_0de3ca36dc7c49ada6ee189403c02e02"
      }
     },
     "19bf7d8f36ab405f933da298dd9def5b": {
      "model_module": "@jupyter-widgets/controls",
      "model_module_version": "1.1.0",
      "model_name": "HTMLModel",
      "state": {
       "layout": "IPY_MODEL_2680d592a79c4e7c85179eb33e0ff8bc",
       "placeholder": "",
       "style": "IPY_MODEL_6ab396ffcfaf4ade83637c64f3e66001",
       "value": "<b>Click to view Potential Scammers!!<b>"
      }
     },
     "19c580ec9e364aeb89d22b5f793cd39b": {
      "model_module": "@jupyter-widgets/base",
      "model_module_version": "1.0.0",
      "model_name": "LayoutModel",
      "state": {}
     },
     "19d15d9628f543c79d6a608ad3757120": {
      "model_module": "@jupyter-widgets/controls",
      "model_module_version": "1.1.0",
      "model_name": "ButtonModel",
      "state": {
       "description": "PCA!",
       "icon": "check",
       "layout": "IPY_MODEL_128937c17586498f9048167ff1e94050",
       "style": "IPY_MODEL_082275945579472bbb03a19d68a6063e",
       "tooltip": "Click me"
      }
     },
     "19ea8e1d93294535be11c7a5f581648d": {
      "model_module": "@jupyter-widgets/controls",
      "model_module_version": "1.1.0",
      "model_name": "DescriptionStyleModel",
      "state": {
       "description_width": ""
      }
     },
     "1a30954b1cde44f180632b27f3a86c67": {
      "model_module": "@jupyter-widgets/controls",
      "model_module_version": "1.1.0",
      "model_name": "AccordionModel",
      "state": {
       "_titles": {
        "0": "Upload",
        "1": "View"
       },
       "children": [
        "IPY_MODEL_8199381d33aa4f0b9b0b8484f7840b95",
        "IPY_MODEL_f4b16dd260cf4a688580fab0f91b6bbb"
       ],
       "layout": "IPY_MODEL_6eb5fd35fa414f23a9604aaef12aea9b",
       "selected_index": null
      }
     },
     "1a9728caf05943d39649ced6fdc2b9e2": {
      "model_module": "@jupyter-widgets/controls",
      "model_module_version": "1.1.0",
      "model_name": "DescriptionStyleModel",
      "state": {
       "description_width": ""
      }
     },
     "1b056cc58aae458eb5eab8e8cb712f09": {
      "model_module": "@jupyter-widgets/controls",
      "model_module_version": "1.1.0",
      "model_name": "ButtonStyleModel",
      "state": {
       "button_color": "salmon"
      }
     },
     "1b68f74aa84945db96ae1d1d7c31aa97": {
      "model_module": "@jupyter-widgets/controls",
      "model_module_version": "1.1.0",
      "model_name": "ButtonModel",
      "state": {
       "description": "Potential Scammers!!",
       "icon": "check",
       "layout": "IPY_MODEL_91ccf868e684456aa02edd0c9e3afbed",
       "style": "IPY_MODEL_b1a27e6b3e49444cbf4724649fd72f5b",
       "tooltip": "Click me"
      }
     },
     "1b714a95f166489681d0cd917c0314ab": {
      "model_module": "@jupyter-widgets/controls",
      "model_module_version": "1.1.0",
      "model_name": "TabModel",
      "state": {
       "_titles": {
        "0": "1. Extaction",
        "1": "2. Data",
        "2": "3. Evaluation"
       },
       "children": [
        "IPY_MODEL_c1aed1dbd974447390e3105e74d28fa1",
        "IPY_MODEL_1a30954b1cde44f180632b27f3a86c67",
        "IPY_MODEL_c0c962a955ec492795f4dfb069d38909"
       ],
       "layout": "IPY_MODEL_02e5b10a5ff5461a9253736c1ecf2e49",
       "selected_index": 2
      }
     },
     "1b74b351c80e49daacdc6820fff363ed": {
      "model_module": "@jupyter-widgets/controls",
      "model_module_version": "1.1.0",
      "model_name": "ButtonStyleModel",
      "state": {
       "button_color": "red"
      }
     },
     "1b7f0a1d6a5145499df57781efa59081": {
      "model_module": "@jupyter-widgets/controls",
      "model_module_version": "1.1.0",
      "model_name": "DescriptionStyleModel",
      "state": {
       "description_width": ""
      }
     },
     "1b8a307ce0424be39e655d9a9cf6be93": {
      "model_module": "@jupyter-widgets/base",
      "model_module_version": "1.0.0",
      "model_name": "LayoutModel",
      "state": {}
     },
     "1bd01e0220f14928a4fa87a3675afc60": {
      "model_module": "@jupyter-widgets/controls",
      "model_module_version": "1.1.0",
      "model_name": "ButtonStyleModel",
      "state": {}
     },
     "1be6d14e96244fe7885c724e0226f837": {
      "model_module": "@jupyter-widgets/controls",
      "model_module_version": "1.1.0",
      "model_name": "ButtonModel",
      "state": {
       "description": "PCA!",
       "icon": "check",
       "layout": "IPY_MODEL_513a586bb2f34a8abdd959200753c0c4",
       "style": "IPY_MODEL_243f00114ab0469692334c1e57f8fc59",
       "tooltip": "Click me"
      }
     },
     "1bf65aa3d07e4285892a168723fda513": {
      "model_module": "@jupyter-widgets/controls",
      "model_module_version": "1.1.0",
      "model_name": "TabModel",
      "state": {
       "_titles": {
        "0": "1. Extaction",
        "1": "2. Data",
        "2": "3. Evaluation"
       },
       "children": [
        "IPY_MODEL_d39d4d33c62f463e9421653dfab37d67",
        "IPY_MODEL_8f974d4e31a849b88895209378e6aa5b",
        "IPY_MODEL_c52e5f11f080475597c90a18038791ca"
       ],
       "layout": "IPY_MODEL_a68802321dc845ce9092bb674b54b0bf"
      }
     },
     "1bf8bee75d58464986fa5c1588cd86f4": {
      "model_module": "@jupyter-widgets/controls",
      "model_module_version": "1.1.0",
      "model_name": "ButtonStyleModel",
      "state": {}
     },
     "1c1ed7532e06473caff005e2e65d5d0f": {
      "model_module": "@jupyter-widgets/controls",
      "model_module_version": "1.1.0",
      "model_name": "ButtonStyleModel",
      "state": {
       "button_color": "orange"
      }
     },
     "1ca7b12e576647a1b9480a774619cc92": {
      "model_module": "@jupyter-widgets/base",
      "model_module_version": "1.0.0",
      "model_name": "LayoutModel",
      "state": {}
     },
     "1cae5d95f7c7417a8fc26a7a03f1bf8b": {
      "model_module": "@jupyter-widgets/base",
      "model_module_version": "1.0.0",
      "model_name": "LayoutModel",
      "state": {}
     },
     "1ce6548ed6c34a5bbd459b47089de0c5": {
      "model_module": "@jupyter-widgets/controls",
      "model_module_version": "1.1.0",
      "model_name": "DescriptionStyleModel",
      "state": {
       "description_width": ""
      }
     },
     "1ced1c919f404392be64e810291c9a1e": {
      "model_module": "@jupyter-widgets/controls",
      "model_module_version": "1.1.0",
      "model_name": "VBoxModel",
      "state": {
       "children": [
        "IPY_MODEL_2a4527789f434a1dbb6f429b8fba6157",
        "IPY_MODEL_0ee66fb90a3a4103aefc427258f019bd"
       ],
       "layout": "IPY_MODEL_911ef437d99b454990b1385146f865fb"
      }
     },
     "1d68ac9ddc0c495a8a65c87302098c17": {
      "model_module": "@jupyter-widgets/controls",
      "model_module_version": "1.1.0",
      "model_name": "DescriptionStyleModel",
      "state": {
       "description_width": ""
      }
     },
     "1e3720f780ac4e5db9025ae5fde078a3": {
      "model_module": "@jupyter-widgets/controls",
      "model_module_version": "1.1.0",
      "model_name": "VBoxModel",
      "state": {
       "children": [
        "IPY_MODEL_f0e7f876d6de48c887e28e12aca33e72",
        "IPY_MODEL_9e6b2fb55acd4f4684c4f41d150fda76"
       ],
       "layout": "IPY_MODEL_b8c2704276a640749b4a833bd7dda28e"
      }
     },
     "1e41d34256194006b6cc8a2d893c7cb7": {
      "model_module": "@jupyter-widgets/controls",
      "model_module_version": "1.1.0",
      "model_name": "DescriptionStyleModel",
      "state": {
       "description_width": ""
      }
     },
     "1e6b6dee8b0a48e28dbf52e27201e709": {
      "model_module": "@jupyter-widgets/controls",
      "model_module_version": "1.1.0",
      "model_name": "ButtonStyleModel",
      "state": {}
     },
     "1e6da07083cb442ba1681bb1bb856e50": {
      "model_module": "@jupyter-widgets/controls",
      "model_module_version": "1.1.0",
      "model_name": "DescriptionStyleModel",
      "state": {
       "description_width": ""
      }
     },
     "1e6f87a2f54d41fba15df37a76808ff1": {
      "model_module": "@jupyter-widgets/controls",
      "model_module_version": "1.1.0",
      "model_name": "HTMLModel",
      "state": {
       "description": "Sample:",
       "layout": "IPY_MODEL_a4480917bef24993b5d962a762fd2a0c",
       "placeholder": "",
       "style": "IPY_MODEL_c65ad905c3e54ce19c2d9cd773de5429",
       "value": "Hello <b>World</b>"
      }
     },
     "1e95daab28ce4d1ba0009edc95d36b16": {
      "model_module": "@jupyter-widgets/controls",
      "model_module_version": "1.1.0",
      "model_name": "ButtonStyleModel",
      "state": {
       "button_color": "orange"
      }
     },
     "1ea55175cd0c4fe79a478408502695cd": {
      "model_module": "@jupyter-widgets/controls",
      "model_module_version": "1.1.0",
      "model_name": "AccordionModel",
      "state": {
       "_titles": {
        "0": "Method",
        "1": "Analysis",
        "2": "Result"
       },
       "children": [
        "IPY_MODEL_7dbe9e34b9584a56b870dcb357e22a82",
        "IPY_MODEL_c86915e5c50d41209d39114a87ca4aff",
        "IPY_MODEL_bc5707130da84f9591aee6ff697cd9cb"
       ],
       "layout": "IPY_MODEL_c48961283361492592bbbccb88b3d3c6",
       "selected_index": null
      }
     },
     "1ee5c6c6332b451d8417a32ea6393c52": {
      "model_module": "@jupyter-widgets/base",
      "model_module_version": "1.0.0",
      "model_name": "LayoutModel",
      "state": {}
     },
     "1f59adb5c1814c76b05069848982b4cc": {
      "model_module": "@jupyter-widgets/base",
      "model_module_version": "1.0.0",
      "model_name": "LayoutModel",
      "state": {}
     },
     "1f6bda5a3c154a4b930787e490203d21": {
      "model_module": "@jupyter-widgets/controls",
      "model_module_version": "1.1.0",
      "model_name": "VBoxModel",
      "state": {
       "children": [
        "IPY_MODEL_11bcadffff144e24811ea3d15f6bb148",
        "IPY_MODEL_250c31fe0bf14b2c9644ccc34ace583f"
       ],
       "layout": "IPY_MODEL_766f3f4b481e43239646046b2136a1b1"
      }
     },
     "1f7c46d946ab47d3984debd2fe52ee04": {
      "model_module": "@jupyter-widgets/base",
      "model_module_version": "1.0.0",
      "model_name": "LayoutModel",
      "state": {}
     },
     "1fe6d1a4707743498926306c550c317f": {
      "model_module": "@jupyter-widgets/controls",
      "model_module_version": "1.1.0",
      "model_name": "DescriptionStyleModel",
      "state": {
       "description_width": ""
      }
     },
     "20644df8c54249aca0924641f235a5ca": {
      "model_module": "@jupyter-widgets/base",
      "model_module_version": "1.0.0",
      "model_name": "LayoutModel",
      "state": {}
     },
     "20b7c44cb66445b596a4c3e0c0806b80": {
      "model_module": "@jupyter-widgets/controls",
      "model_module_version": "1.1.0",
      "model_name": "DescriptionStyleModel",
      "state": {
       "description_width": ""
      }
     },
     "2140d71e91524110914f2efe5bf2861b": {
      "model_module": "@jupyter-widgets/base",
      "model_module_version": "1.0.0",
      "model_name": "LayoutModel",
      "state": {}
     },
     "2150b2633c85480ab1c8d0f2c47122c2": {
      "model_module": "@jupyter-widgets/base",
      "model_module_version": "1.0.0",
      "model_name": "LayoutModel",
      "state": {}
     },
     "216492d87f9245b091e1beddfc70a7cc": {
      "model_module": "@jupyter-widgets/base",
      "model_module_version": "1.0.0",
      "model_name": "LayoutModel",
      "state": {}
     },
     "22ab7a3e9f374283873321cb65ce4b92": {
      "model_module": "@jupyter-widgets/base",
      "model_module_version": "1.0.0",
      "model_name": "LayoutModel",
      "state": {}
     },
     "23005d79f0e24aea8d4b8714b705fa98": {
      "model_module": "@jupyter-widgets/base",
      "model_module_version": "1.0.0",
      "model_name": "LayoutModel",
      "state": {}
     },
     "230f075524014772b783689d88c9730b": {
      "model_module": "@jupyter-widgets/base",
      "model_module_version": "1.0.0",
      "model_name": "LayoutModel",
      "state": {}
     },
     "2323a122ec3943d0bb69e8a30616abcc": {
      "model_module": "@jupyter-widgets/controls",
      "model_module_version": "1.1.0",
      "model_name": "TextModel",
      "state": {
       "description": "P3",
       "layout": "IPY_MODEL_7215a81d12c547d795845bc22f51ab31",
       "style": "IPY_MODEL_ee003447177442d9bc7aa6589e9f2c69"
      }
     },
     "2367675f42aa4336ae210ab5d0fc0724": {
      "model_module": "@jupyter-widgets/controls",
      "model_module_version": "1.1.0",
      "model_name": "VBoxModel",
      "state": {
       "children": [
        "IPY_MODEL_37ab7a829cd34ba99557bfdf4ab96971",
        "IPY_MODEL_7bd7f1d7bcd04e95bc5fa623df37ed89"
       ],
       "layout": "IPY_MODEL_b05018464eed4886b0d7e6199f54125f"
      }
     },
     "23d04ddb539e49a886d671fe90e3c856": {
      "model_module": "@jupyter-widgets/controls",
      "model_module_version": "1.1.0",
      "model_name": "SelectMultipleModel",
      "state": {
       "_options_labels": [
        "Price",
        "year",
        "Mileage"
       ],
       "description": "Filter by",
       "index": [
        2
       ],
       "layout": "IPY_MODEL_56c945b03b6a48279f93d19dff241f48",
       "rows": 5,
       "style": "IPY_MODEL_1e6da07083cb442ba1681bb1bb856e50"
      }
     },
     "24067bcd3c864efea462f2fb19fd54c3": {
      "model_module": "@jupyter-widgets/base",
      "model_module_version": "1.0.0",
      "model_name": "LayoutModel",
      "state": {}
     },
     "2422beb9bdcb42fe89bda09a307dcba5": {
      "model_module": "@jupyter-widgets/controls",
      "model_module_version": "1.1.0",
      "model_name": "HTMLModel",
      "state": {
       "layout": "IPY_MODEL_6773e9b49e414035a0eb1c09e88bfd94",
       "placeholder": "",
       "style": "IPY_MODEL_e29ef41d57134551b38a93fe1ce4644b",
       "value": "<b>Click to view Potential Scammers!!<b>"
      }
     },
     "243f00114ab0469692334c1e57f8fc59": {
      "model_module": "@jupyter-widgets/controls",
      "model_module_version": "1.1.0",
      "model_name": "ButtonStyleModel",
      "state": {}
     },
     "243f6bf741f543c08f930129587cb387": {
      "model_module": "@jupyter-widgets/controls",
      "model_module_version": "1.1.0",
      "model_name": "AccordionModel",
      "state": {
       "_titles": {
        "0": "Source",
        "1": "Save",
        "2": "Scrap"
       },
       "children": [
        "IPY_MODEL_c8980fffa0fd4b18bc759f525d4dbfae",
        "IPY_MODEL_370a6c602b9f4f83b43fdf65e49e035a",
        "IPY_MODEL_71832e9d9e444b6a914f67fa58b0f049"
       ],
       "layout": "IPY_MODEL_6a0c69bac42941b4b8b3e9055227e715"
      }
     },
     "24c8e7cc727340c59108088e145cee00": {
      "model_module": "@jupyter-widgets/controls",
      "model_module_version": "1.1.0",
      "model_name": "DescriptionStyleModel",
      "state": {
       "description_width": ""
      }
     },
     "24e12410406d4bb597de4a2a08ba4784": {
      "model_module": "@jupyter-widgets/base",
      "model_module_version": "1.0.0",
      "model_name": "LayoutModel",
      "state": {}
     },
     "24e77c448d57443ea17a534f8817d44e": {
      "model_module": "@jupyter-widgets/controls",
      "model_module_version": "1.1.0",
      "model_name": "DescriptionStyleModel",
      "state": {
       "description_width": ""
      }
     },
     "2503a9fd007741ba98505e762700029e": {
      "model_module": "@jupyter-widgets/base",
      "model_module_version": "1.0.0",
      "model_name": "LayoutModel",
      "state": {}
     },
     "250c31fe0bf14b2c9644ccc34ace583f": {
      "model_module": "@jupyter-widgets/controls",
      "model_module_version": "1.1.0",
      "model_name": "HBoxModel",
      "state": {
       "children": [
        "IPY_MODEL_aba9fc35f9d94466b3b68d70b3c3488d",
        "IPY_MODEL_e955422a5fbc4096a68eb111efdcbfda",
        "IPY_MODEL_727a1af88b6745719a8fd8a9fbf24e6e"
       ],
       "layout": "IPY_MODEL_b26419d45c834d77aa127f4829c4bd32"
      }
     },
     "25418aaab62d4ddc838a208b34077269": {
      "model_module": "@jupyter-widgets/base",
      "model_module_version": "1.0.0",
      "model_name": "LayoutModel",
      "state": {}
     },
     "2563b3e87ff34683bf76b02abece03c7": {
      "model_module": "@jupyter-widgets/base",
      "model_module_version": "1.0.0",
      "model_name": "LayoutModel",
      "state": {}
     },
     "25822193b1cf443899134bd9b5c86dd2": {
      "model_module": "@jupyter-widgets/controls",
      "model_module_version": "1.1.0",
      "model_name": "DescriptionStyleModel",
      "state": {
       "description_width": ""
      }
     },
     "2680d592a79c4e7c85179eb33e0ff8bc": {
      "model_module": "@jupyter-widgets/base",
      "model_module_version": "1.0.0",
      "model_name": "LayoutModel",
      "state": {}
     },
     "26c0ca3cfa0b4318baf162de17c11ed4": {
      "model_module": "@jupyter-widgets/base",
      "model_module_version": "1.0.0",
      "model_name": "LayoutModel",
      "state": {}
     },
     "26cc51a7ee5a4de59d30772034367716": {
      "model_module": "@jupyter-widgets/base",
      "model_module_version": "1.0.0",
      "model_name": "LayoutModel",
      "state": {}
     },
     "271470cb881c44158f7936ca65f6257a": {
      "model_module": "@jupyter-widgets/base",
      "model_module_version": "1.0.0",
      "model_name": "LayoutModel",
      "state": {}
     },
     "273f3343d51e47599231b23048404669": {
      "model_module": "@jupyter-widgets/controls",
      "model_module_version": "1.1.0",
      "model_name": "ButtonModel",
      "state": {
       "description": "PCA!",
       "icon": "check",
       "layout": "IPY_MODEL_9b5b4a539bd84addbcd5b5b444f10707",
       "style": "IPY_MODEL_3456dfd4ce8840c9808d68f13549fe27",
       "tooltip": "Click me"
      }
     },
     "274554fe9d4840dda15ba24dc25b49c0": {
      "model_module": "@jupyter-widgets/controls",
      "model_module_version": "1.1.0",
      "model_name": "DescriptionStyleModel",
      "state": {
       "description_width": ""
      }
     },
     "2757da56b37e44f2978020debe5222d9": {
      "model_module": "@jupyter-widgets/base",
      "model_module_version": "1.0.0",
      "model_name": "LayoutModel",
      "state": {}
     },
     "2765c150d91845ddb7cb2fe9fd3c481c": {
      "model_module": "@jupyter-widgets/base",
      "model_module_version": "1.0.0",
      "model_name": "LayoutModel",
      "state": {}
     },
     "276e6632f752496d87bdad40dcbc3bbd": {
      "model_module": "@jupyter-widgets/controls",
      "model_module_version": "1.1.0",
      "model_name": "DropdownModel",
      "state": {
       "_options_labels": [
        "-",
        "5",
        "6",
        "7",
        "8",
        "9",
        "10"
       ],
       "description": "Tail:",
       "index": 0,
       "layout": "IPY_MODEL_334f2225acd349cab0b9d6327b06c9e1",
       "style": "IPY_MODEL_fb5274d393ea40a88f1d0e070093d40a"
      }
     },
     "282a2334a55d4625aecf7867d1dcfacf": {
      "model_module": "@jupyter-widgets/controls",
      "model_module_version": "1.1.0",
      "model_name": "DescriptionStyleModel",
      "state": {
       "description_width": ""
      }
     },
     "285526a8d64443779afa8b76c9c8f18a": {
      "model_module": "@jupyter-widgets/base",
      "model_module_version": "1.0.0",
      "model_name": "LayoutModel",
      "state": {}
     },
     "28881ea388974d74a50c77a946f2ca73": {
      "model_module": "@jupyter-widgets/controls",
      "model_module_version": "1.1.0",
      "model_name": "VBoxModel",
      "state": {
       "children": [
        "IPY_MODEL_a19472d2bf1c4ed781871ef76a20a01f",
        "IPY_MODEL_823f006e17cc4828af49aaf5b365f0d9"
       ],
       "layout": "IPY_MODEL_9415163214b34129a7aca3e686ff37e0"
      }
     },
     "289b40ba4bd848238994d35ff0884a84": {
      "model_module": "@jupyter-widgets/base",
      "model_module_version": "1.0.0",
      "model_name": "LayoutModel",
      "state": {}
     },
     "289c4afe1c954e6d94eb1df82d850461": {
      "model_module": "@jupyter-widgets/base",
      "model_module_version": "1.0.0",
      "model_name": "LayoutModel",
      "state": {}
     },
     "28b80500c7a94476b30a9c1cbc16ff43": {
      "model_module": "@jupyter-widgets/controls",
      "model_module_version": "1.1.0",
      "model_name": "ButtonModel",
      "state": {
       "description": "Click me",
       "layout": "IPY_MODEL_8aa2df8156874a63a7ecc28589cd982b",
       "style": "IPY_MODEL_36eedc57eac144cabbf887d232b00a39",
       "tooltip": "Click me"
      }
     },
     "28d4b0d5f729420e9553714ceb9486ad": {
      "model_module": "@jupyter-widgets/controls",
      "model_module_version": "1.1.0",
      "model_name": "TextModel",
      "state": {
       "description": "Folder Path:",
       "layout": "IPY_MODEL_5b35e8d8240c4c718fcba0459b47c296",
       "placeholder": "Save Dataset",
       "style": "IPY_MODEL_c2422a6d5ac548878994c46bebc2b5ad"
      }
     },
     "291438f326054acdaa45f5badf672dc0": {
      "model_module": "@jupyter-widgets/controls",
      "model_module_version": "1.1.0",
      "model_name": "ButtonModel",
      "state": {
       "description": "Scrap Me",
       "layout": "IPY_MODEL_ea23db6acb1f44a58ac57828aa825178",
       "style": "IPY_MODEL_2940ec33256b475ea088ab87b9fa2225"
      }
     },
     "293f02317c3143dc96b66fc0b66259d5": {
      "model_module": "@jupyter-widgets/base",
      "model_module_version": "1.0.0",
      "model_name": "LayoutModel",
      "state": {}
     },
     "2940ec33256b475ea088ab87b9fa2225": {
      "model_module": "@jupyter-widgets/controls",
      "model_module_version": "1.1.0",
      "model_name": "ButtonStyleModel",
      "state": {}
     },
     "295034a33e844c8abc7bea0c3e1c3fb6": {
      "model_module": "@jupyter-widgets/base",
      "model_module_version": "1.0.0",
      "model_name": "LayoutModel",
      "state": {}
     },
     "2a06d0e2125e4f0b8a8fb059882ccc7a": {
      "model_module": "@jupyter-widgets/controls",
      "model_module_version": "1.1.0",
      "model_name": "DropdownModel",
      "state": {
       "_options_labels": [
        "-",
        "5",
        "6",
        "7",
        "8",
        "9",
        "10"
       ],
       "description": "Tail:",
       "index": 0,
       "layout": "IPY_MODEL_4528805c3ab04bb3b7ec48e8f0ba4e6e",
       "style": "IPY_MODEL_b9bce5b28229431f8de0cb265328a207"
      }
     },
     "2a24a687aac04bbc9fcd266de642be86": {
      "model_module": "@jupyter-widgets/controls",
      "model_module_version": "1.1.0",
      "model_name": "DropdownModel",
      "state": {
       "_options_labels": [
        "1",
        "2",
        "3"
       ],
       "description": "Number:",
       "index": 1,
       "layout": "IPY_MODEL_028d948112d747f3a14d645e21afc162",
       "style": "IPY_MODEL_d74e2ce7a86649d582112567ce26cfd2"
      }
     },
     "2a4527789f434a1dbb6f429b8fba6157": {
      "model_module": "@jupyter-widgets/controls",
      "model_module_version": "1.1.0",
      "model_name": "ButtonModel",
      "state": {
       "description": "Scrap Me",
       "layout": "IPY_MODEL_c66a85db421448b0bcf2f35421fdffa5",
       "style": "IPY_MODEL_aa998e6d0f544f9b83e13838f2c99aa7"
      }
     },
     "2a8476c49f984b32822aaccefb5ac13b": {
      "model_module": "@jupyter-widgets/base",
      "model_module_version": "1.0.0",
      "model_name": "LayoutModel",
      "state": {}
     },
     "2af56d85b032406ba2bc037def1e9520": {
      "model_module": "@jupyter-widgets/controls",
      "model_module_version": "1.1.0",
      "model_name": "VBoxModel",
      "state": {
       "children": [
        "IPY_MODEL_1754555ca48f44b68eac6d647c93d8c2",
        "IPY_MODEL_839f2b3664ae4660acd7a11d47418d69",
        "IPY_MODEL_60571707887141a6a17edf1919d36a5a",
        "IPY_MODEL_87339b7a13fd4814ad85757297ef24f9"
       ],
       "layout": "IPY_MODEL_49d1dbe4ad234db0bed05541b56cc234"
      }
     },
     "2b50a5d18a4945f495fb9d46102acdee": {
      "model_module": "@jupyter-widgets/controls",
      "model_module_version": "1.1.0",
      "model_name": "AccordionModel",
      "state": {
       "_titles": {
        "0": "Upload"
       },
       "children": [
        "IPY_MODEL_11593cadfa794d62ac07bbf6b52448f2"
       ],
       "layout": "IPY_MODEL_a67e00c2fbc841f5af9dad5ae5b741c5",
       "selected_index": null
      }
     },
     "2b6ffb625cbd4111b2c5d86ae994ba77": {
      "model_module": "@jupyter-widgets/controls",
      "model_module_version": "1.1.0",
      "model_name": "DropdownModel",
      "state": {
       "_options_labels": [
        "5",
        "6",
        "7",
        "8",
        "9",
        "10"
       ],
       "description": "Head:",
       "index": 0,
       "layout": "IPY_MODEL_0e9f6db161314796b5663cbeb80372f4",
       "style": "IPY_MODEL_978cb2932be448e08c5567178b0196f8"
      }
     },
     "2bca147381c64490a108961be33d8224": {
      "model_module": "@jupyter-widgets/controls",
      "model_module_version": "1.1.0",
      "model_name": "TabModel",
      "state": {
       "_titles": {
        "0": "1. Extaction",
        "1": "2. Data",
        "2": "3. Evaluation"
       },
       "children": [
        "IPY_MODEL_9795d8c9f5314753a2febc7796400c4f",
        "IPY_MODEL_89e809b29b76402aa2444860406c30fb",
        "IPY_MODEL_0411d54901064f058b59b5d9a6fc53a0"
       ],
       "layout": "IPY_MODEL_9e23e905c78f41abba4f3af83d0d2012"
      }
     },
     "2bf3b0972f4f433abbab2034e271fd9d": {
      "model_module": "@jupyter-widgets/controls",
      "model_module_version": "1.1.0",
      "model_name": "DescriptionStyleModel",
      "state": {
       "description_width": ""
      }
     },
     "2c2a8bb3b87d4c119c9041c697db8ad0": {
      "model_module": "@jupyter-widgets/base",
      "model_module_version": "1.0.0",
      "model_name": "LayoutModel",
      "state": {}
     },
     "2c46aec423f94b75b05287be46a1fe5f": {
      "model_module": "@jupyter-widgets/controls",
      "model_module_version": "1.1.0",
      "model_name": "VBoxModel",
      "state": {
       "children": [
        "IPY_MODEL_5e56a707f8e8412696e29216494e2e1d",
        "IPY_MODEL_cb6b34713a894820b0a03a99217358f7"
       ],
       "layout": "IPY_MODEL_757a59a9f1de41eb8fc5c31c9ee76800"
      }
     },
     "2c493d03c1d944e3bbac425221a9a49f": {
      "model_module": "@jupyter-widgets/controls",
      "model_module_version": "1.1.0",
      "model_name": "DescriptionStyleModel",
      "state": {
       "description_width": ""
      }
     },
     "2c4af7c005c94c53a91b90e9a9841181": {
      "model_module": "@jupyter-widgets/base",
      "model_module_version": "1.0.0",
      "model_name": "LayoutModel",
      "state": {}
     },
     "2c7ceb88e02448e6a2fcf42397682470": {
      "model_module": "@jupyter-widgets/controls",
      "model_module_version": "1.1.0",
      "model_name": "VBoxModel",
      "state": {
       "children": [
        "IPY_MODEL_291438f326054acdaa45f5badf672dc0",
        "IPY_MODEL_74f656a1e974496e86d2af3e71dae701"
       ],
       "layout": "IPY_MODEL_dad161cc6adb4ac38310334f465e3176"
      }
     },
     "2cbb5b4031204e0a85471ca30b6b00ec": {
      "model_module": "@jupyter-widgets/controls",
      "model_module_version": "1.1.0",
      "model_name": "VBoxModel",
      "state": {
       "children": [
        "IPY_MODEL_34d9c9d70a1c466e8163e265eb384a5c",
        "IPY_MODEL_06764c74d0fc4d9bb74f6786e6297cb6"
       ],
       "layout": "IPY_MODEL_0c5d48a7def14c0abf59a7bec580776a"
      }
     },
     "2cd7771f8ff64ba3927f6803844a6720": {
      "model_module": "@jupyter-widgets/base",
      "model_module_version": "1.0.0",
      "model_name": "LayoutModel",
      "state": {}
     },
     "2ce98f53ff934e2d94b43a684c6a16b4": {
      "model_module": "@jupyter-widgets/controls",
      "model_module_version": "1.1.0",
      "model_name": "TextModel",
      "state": {
       "description": "Folder Path:",
       "layout": "IPY_MODEL_ef43085abecd452386f3246a67b32b43",
       "placeholder": "Save Scraped Dataset",
       "style": "IPY_MODEL_80e98be060d842cb9fd224b36c61725b"
      }
     },
     "2cf82c6f1c054843996ea0c410836181": {
      "model_module": "@jupyter-widgets/controls",
      "model_module_version": "1.1.0",
      "model_name": "VBoxModel",
      "state": {
       "children": [
        "IPY_MODEL_70fdea4024b94bbbb93b9df31b9d7156",
        "IPY_MODEL_ba618063ccf343ef9738ec005d2fe4c2"
       ],
       "layout": "IPY_MODEL_69bd642acf994561b4d594d060fec8ee"
      }
     },
     "2d45b9a32ba241a6abe25967bd8e02d9": {
      "model_module": "@jupyter-widgets/controls",
      "model_module_version": "1.1.0",
      "model_name": "DescriptionStyleModel",
      "state": {
       "description_width": ""
      }
     },
     "2da1c1dd0282445289c76c48873c582a": {
      "model_module": "@jupyter-widgets/base",
      "model_module_version": "1.0.0",
      "model_name": "LayoutModel",
      "state": {}
     },
     "2e91ae180ee74eb48fd369fafd5bc7f4": {
      "model_module": "@jupyter-widgets/controls",
      "model_module_version": "1.1.0",
      "model_name": "VBoxModel",
      "state": {
       "children": [
        "IPY_MODEL_75eae438faae490aaaa5780c72885036",
        "IPY_MODEL_fa21bd1ea0454a4e9bc9973b23741ae4"
       ],
       "layout": "IPY_MODEL_edbc31a4529f40b8903fdccd53db74eb"
      }
     },
     "2eaafbbfad1840358c2a2ff9eed8f5d8": {
      "model_module": "@jupyter-widgets/base",
      "model_module_version": "1.0.0",
      "model_name": "LayoutModel",
      "state": {}
     },
     "2fc025f7400a46398ba857478599df51": {
      "model_module": "@jupyter-widgets/controls",
      "model_module_version": "1.1.0",
      "model_name": "VBoxModel",
      "state": {
       "children": [
        "IPY_MODEL_cf47d31211714015965ed119ecb96b14",
        "IPY_MODEL_bb8a1a2b848249e58aa8c2be3fd69c63"
       ],
       "layout": "IPY_MODEL_a76f4fbdc6f9446a8fd13716476da495"
      }
     },
     "2fde17e0749d498091477f098fff94ae": {
      "model_module": "@jupyter-widgets/controls",
      "model_module_version": "1.1.0",
      "model_name": "SelectMultipleModel",
      "state": {
       "_options_labels": [
        "Price",
        "Year",
        "Mileage"
       ],
       "description": "Filter by",
       "index": [
        0
       ],
       "layout": "IPY_MODEL_8bed664f009340e08d9ae4db20756623",
       "rows": 3,
       "style": "IPY_MODEL_1e41d34256194006b6cc8a2d893c7cb7"
      }
     },
     "306d0b5422474dfd816ee34184256c36": {
      "model_module": "@jupyter-widgets/controls",
      "model_module_version": "1.1.0",
      "model_name": "ButtonModel",
      "state": {
       "description": "PCA!",
       "icon": "check",
       "layout": "IPY_MODEL_aa889f4eaabd4896b170cee59ed7f27c",
       "style": "IPY_MODEL_01c7234912d04f13869c5d206c7136ce",
       "tooltip": "Click me"
      }
     },
     "30958a795177422c96cf2d9500b34d64": {
      "model_module": "@jupyter-widgets/controls",
      "model_module_version": "1.1.0",
      "model_name": "TextModel",
      "state": {
       "description": "CSV file:",
       "layout": "IPY_MODEL_5c8a0bc3f45f46fd852bfe0fe182368f",
       "placeholder": "Name of cleaned csv file",
       "style": "IPY_MODEL_131508a6cdfd4bd2b955ced9d9647fae"
      }
     },
     "30d9dc5d7acc43a49f1e3dbd00d6d82e": {
      "model_module": "@jupyter-widgets/base",
      "model_module_version": "1.0.0",
      "model_name": "LayoutModel",
      "state": {}
     },
     "3127a9e937de418e8961d58184ca2d3f": {
      "model_module": "@jupyter-widgets/base",
      "model_module_version": "1.0.0",
      "model_name": "LayoutModel",
      "state": {}
     },
     "31b6d1595c4249fb9ef9725985bba2c0": {
      "model_module": "@jupyter-widgets/base",
      "model_module_version": "1.0.0",
      "model_name": "LayoutModel",
      "state": {}
     },
     "31b966d177334faeb18669f6f7023783": {
      "model_module": "@jupyter-widgets/controls",
      "model_module_version": "1.1.0",
      "model_name": "SelectMultipleModel",
      "state": {
       "_options_labels": [
        "Price",
        "Year",
        "Mileage"
       ],
       "description": "Filter by",
       "index": [
        0
       ],
       "layout": "IPY_MODEL_7000b7fb37124fcc8162b818090cc781",
       "rows": 5,
       "style": "IPY_MODEL_bf7a5f1bde2c473dba4e01fae132bcd8"
      }
     },
     "31cc720dff214d4f80aee6fd83d5d223": {
      "model_module": "@jupyter-widgets/base",
      "model_module_version": "1.0.0",
      "model_name": "LayoutModel",
      "state": {}
     },
     "31feb2bba91d4b5f91727fafdb20e65b": {
      "model_module": "@jupyter-widgets/base",
      "model_module_version": "1.0.0",
      "model_name": "LayoutModel",
      "state": {}
     },
     "32acb930aa1e43f4a7b3deed077fc685": {
      "model_module": "@jupyter-widgets/base",
      "model_module_version": "1.0.0",
      "model_name": "LayoutModel",
      "state": {}
     },
     "32f656b48726451591581c80c47bee67": {
      "model_module": "@jupyter-widgets/controls",
      "model_module_version": "1.1.0",
      "model_name": "VBoxModel",
      "state": {
       "children": [
        "IPY_MODEL_8d177eee05dc478f92c66698d8612381",
        "IPY_MODEL_bc07d51c7bd049b6b214422ef3b7ce70",
        "IPY_MODEL_f8aeb875926c4facb8aaa0fa4152351a",
        "IPY_MODEL_a56078b5fb524adba1559811a4f8be64"
       ],
       "layout": "IPY_MODEL_5a2c980467784dc0bbdc6b746386f741"
      }
     },
     "32fc07a1ce8d41f485f9df97d407ac60": {
      "model_module": "@jupyter-widgets/base",
      "model_module_version": "1.0.0",
      "model_name": "LayoutModel",
      "state": {}
     },
     "334f2225acd349cab0b9d6327b06c9e1": {
      "model_module": "@jupyter-widgets/base",
      "model_module_version": "1.0.0",
      "model_name": "LayoutModel",
      "state": {}
     },
     "33eb1d2285684162884278145207b1c1": {
      "model_module": "@jupyter-widgets/controls",
      "model_module_version": "1.1.0",
      "model_name": "ButtonModel",
      "state": {
       "description": "PCA!",
       "icon": "check",
       "layout": "IPY_MODEL_d2c0dd0161284e59bdd208b1cbf37aa9",
       "style": "IPY_MODEL_1463349a223449aea52e7071e94c9f1d",
       "tooltip": "Click me"
      }
     },
     "33f620b532044f80b83dcf76f989f0b4": {
      "model_module": "@jupyter-widgets/base",
      "model_module_version": "1.0.0",
      "model_name": "LayoutModel",
      "state": {}
     },
     "340b7b3611304d57b8e49115ec11d7af": {
      "model_module": "@jupyter-widgets/base",
      "model_module_version": "1.0.0",
      "model_name": "LayoutModel",
      "state": {}
     },
     "34225ff846724ff08938eac4ddf81353": {
      "model_module": "@jupyter-widgets/controls",
      "model_module_version": "1.1.0",
      "model_name": "VBoxModel",
      "state": {
       "children": [
        "IPY_MODEL_37ab7a829cd34ba99557bfdf4ab96971",
        "IPY_MODEL_7bd7f1d7bcd04e95bc5fa623df37ed89"
       ],
       "layout": "IPY_MODEL_31cc720dff214d4f80aee6fd83d5d223"
      }
     },
     "3456dfd4ce8840c9808d68f13549fe27": {
      "model_module": "@jupyter-widgets/controls",
      "model_module_version": "1.1.0",
      "model_name": "ButtonStyleModel",
      "state": {
       "button_color": "lightgreen"
      }
     },
     "3458d1494d9445ba94fd7771826ea627": {
      "model_module": "@jupyter-widgets/controls",
      "model_module_version": "1.1.0",
      "model_name": "ButtonStyleModel",
      "state": {}
     },
     "3459791f347545adbf9d3c384d29a40c": {
      "model_module": "@jupyter-widgets/controls",
      "model_module_version": "1.1.0",
      "model_name": "VBoxModel",
      "state": {
       "children": [
        "IPY_MODEL_db5eaa7a0c66490aa37b63f36ee264c0",
        "IPY_MODEL_17cb28b44aca474f8b49243527ed1be9"
       ],
       "layout": "IPY_MODEL_cba66c2d565249ca8594d3441be9eb08"
      }
     },
     "34a8b587a9c543219b83c8b78e68b3c9": {
      "model_module": "@jupyter-widgets/base",
      "model_module_version": "1.0.0",
      "model_name": "LayoutModel",
      "state": {}
     },
     "34b93282438545d9bd868d3dbdb32527": {
      "model_module": "@jupyter-widgets/base",
      "model_module_version": "1.0.0",
      "model_name": "LayoutModel",
      "state": {}
     },
     "34d9c9d70a1c466e8163e265eb384a5c": {
      "model_module": "@jupyter-widgets/controls",
      "model_module_version": "1.1.0",
      "model_name": "HTMLModel",
      "state": {
       "layout": "IPY_MODEL_bd6174de829c4b3ba310227cddd66430",
       "placeholder": "",
       "style": "IPY_MODEL_3ac4180c901d44a8babbefbe999574da",
       "value": "<b>Choose how to view your data</b>"
      }
     },
     "353667e8dd5c48808a31223d986515d1": {
      "model_module": "@jupyter-widgets/base",
      "model_module_version": "1.0.0",
      "model_name": "LayoutModel",
      "state": {}
     },
     "355cdacd05b44b5994203bb11ce8e6c7": {
      "model_module": "@jupyter-widgets/base",
      "model_module_version": "1.0.0",
      "model_name": "LayoutModel",
      "state": {}
     },
     "3596160be2ca474c8d2cf2eb8310da68": {
      "model_module": "@jupyter-widgets/controls",
      "model_module_version": "1.1.0",
      "model_name": "DescriptionStyleModel",
      "state": {
       "description_width": ""
      }
     },
     "35c79d134345486ba4f993c8143db07b": {
      "model_module": "@jupyter-widgets/controls",
      "model_module_version": "1.1.0",
      "model_name": "AccordionModel",
      "state": {
       "_titles": {
        "0": "Scrap"
       },
       "children": [
        "IPY_MODEL_f475302fe1f84cb1b3abba00b2e24bf5"
       ],
       "layout": "IPY_MODEL_8873618962ea423aa5e2963eccf41a1c"
      }
     },
     "35d2226f985047118ae534105052d9fe": {
      "model_module": "@jupyter-widgets/controls",
      "model_module_version": "1.1.0",
      "model_name": "VBoxModel",
      "state": {
       "children": [
        "IPY_MODEL_291438f326054acdaa45f5badf672dc0",
        "IPY_MODEL_74f656a1e974496e86d2af3e71dae701"
       ],
       "layout": "IPY_MODEL_85a286c743ac4d668e437f9a68e4cde4"
      }
     },
     "3641b75dcd674dfa8102a33de9842300": {
      "model_module": "@jupyter-widgets/controls",
      "model_module_version": "1.1.0",
      "model_name": "VBoxModel",
      "state": {
       "children": [
        "IPY_MODEL_db5eaa7a0c66490aa37b63f36ee264c0",
        "IPY_MODEL_17cb28b44aca474f8b49243527ed1be9"
       ],
       "layout": "IPY_MODEL_acfaffa50d014fab9fdc1153fb678acd"
      }
     },
     "365b2e0cb48f4c97b0573ea970f86472": {
      "model_module": "@jupyter-widgets/controls",
      "model_module_version": "1.1.0",
      "model_name": "ButtonStyleModel",
      "state": {}
     },
     "3697ce1d511b47cd8dc36aaaa9ca6c4b": {
      "model_module": "@jupyter-widgets/controls",
      "model_module_version": "1.1.0",
      "model_name": "HTMLModel",
      "state": {
       "description": "Sample Path:",
       "layout": "IPY_MODEL_4977d3948272426a9f2a64412e7c3a81",
       "placeholder": "",
       "style": "IPY_MODEL_cf4774fd483f46abab9d229a89c5335a",
       "value": "<i><b>C:\\Users\\LENOVO\\Documents</b><i>"
      }
     },
     "36eedc57eac144cabbf887d232b00a39": {
      "model_module": "@jupyter-widgets/controls",
      "model_module_version": "1.1.0",
      "model_name": "ButtonStyleModel",
      "state": {}
     },
     "370a6c602b9f4f83b43fdf65e49e035a": {
      "model_module": "@jupyter-widgets/controls",
      "model_module_version": "1.1.0",
      "model_name": "VBoxModel",
      "state": {
       "children": [
        "IPY_MODEL_142bba1411d04fc9adc1fe76ba5e2c20",
        "IPY_MODEL_091c601f952e49b5991630689229aeca",
        "IPY_MODEL_d0725ee65c4748b3bd20b080d5952007",
        "IPY_MODEL_cd37281fa3ce4f638c650cca288cd833"
       ],
       "layout": "IPY_MODEL_54a1f3cc25eb4c33b0c6ce2aea2c12fc"
      }
     },
     "3743246cf322407b88abc63a1c34f0c6": {
      "model_module": "@jupyter-widgets/base",
      "model_module_version": "1.0.0",
      "model_name": "LayoutModel",
      "state": {}
     },
     "375dc318ca304fada0e84ba83f696c42": {
      "model_module": "@jupyter-widgets/controls",
      "model_module_version": "1.1.0",
      "model_name": "SelectionSliderModel",
      "state": {
       "_options_labels": [
        "Selection"
       ],
       "continuous_update": false,
       "description": "region:",
       "index": 0,
       "layout": "IPY_MODEL_6b2db95f65314072885e8a54c94a3983",
       "style": "IPY_MODEL_e6bfb93c3e5e43b994f543800e84c430"
      }
     },
     "377c02a87f604dc5915e5e20db8be8b3": {
      "model_module": "@jupyter-widgets/controls",
      "model_module_version": "1.1.0",
      "model_name": "ButtonModel",
      "state": {
       "description": "Boxplot",
       "icon": "check",
       "layout": "IPY_MODEL_606f537f98a64fa7a5473b5228b100d3",
       "style": "IPY_MODEL_d71059830ab24c03915c921ab83279e6",
       "tooltip": "Click me"
      }
     },
     "378b14c3eca846dcac50623783da0326": {
      "model_module": "@jupyter-widgets/base",
      "model_module_version": "1.0.0",
      "model_name": "LayoutModel",
      "state": {}
     },
     "37ab7a829cd34ba99557bfdf4ab96971": {
      "model_module": "@jupyter-widgets/controls",
      "model_module_version": "1.1.0",
      "model_name": "TextModel",
      "state": {
       "description": "Folder Path:",
       "layout": "IPY_MODEL_4aca900a37ba4aa0a3adc8b2c4bb059d",
       "placeholder": "Paste folder path to save",
       "style": "IPY_MODEL_eaeddeec14064ccf83aa38b80714f333"
      }
     },
     "37cc069b302c43e9aa1b6843caa6785b": {
      "model_module": "@jupyter-widgets/controls",
      "model_module_version": "1.1.0",
      "model_name": "ButtonStyleModel",
      "state": {
       "button_color": "yellow"
      }
     },
     "37d1199ebdc14367a34625d09e04f28c": {
      "model_module": "@jupyter-widgets/controls",
      "model_module_version": "1.1.0",
      "model_name": "HTMLModel",
      "state": {
       "description": "Sample:",
       "layout": "IPY_MODEL_230f075524014772b783689d88c9730b",
       "placeholder": "",
       "style": "IPY_MODEL_72a4ef84819143e3afa35382a5a8fdad",
       "value": "<b>C:\\Users\\LENOVO\\Documents</b>"
      }
     },
     "37fc8fd3160547dfb375788d9b6eda4b": {
      "model_module": "@jupyter-widgets/base",
      "model_module_version": "1.0.0",
      "model_name": "LayoutModel",
      "state": {}
     },
     "398f0806bb484e5999ed7fdc1d570363": {
      "model_module": "@jupyter-widgets/controls",
      "model_module_version": "1.1.0",
      "model_name": "AccordionModel",
      "state": {
       "_titles": {
        "0": "Method",
        "1": "Analysis",
        "2": "Result"
       },
       "children": [
        "IPY_MODEL_df4b673510ed4f6cac5bf2e7a4f6a5d6",
        "IPY_MODEL_28881ea388974d74a50c77a946f2ca73",
        "IPY_MODEL_96334ef434bd4373961587bd645290ed"
       ],
       "layout": "IPY_MODEL_289c4afe1c954e6d94eb1df82d850461",
       "selected_index": 2
      }
     },
     "39982c7808594574a482bb6bb3259e33": {
      "model_module": "@jupyter-widgets/controls",
      "model_module_version": "1.1.0",
      "model_name": "DescriptionStyleModel",
      "state": {
       "description_width": ""
      }
     },
     "39a38648b25245beb3b94a9a187da42c": {
      "model_module": "@jupyter-widgets/controls",
      "model_module_version": "1.1.0",
      "model_name": "AccordionModel",
      "state": {
       "_titles": {
        "0": "Upload",
        "1": "View",
        "2": "Analysis"
       },
       "children": [
        "IPY_MODEL_c2a766c3750c465a970c47c5cb79d792",
        "IPY_MODEL_07e57dc4f1af48dbb446ac07143d1c89",
        "IPY_MODEL_823f006e17cc4828af49aaf5b365f0d9"
       ],
       "layout": "IPY_MODEL_45562151bcfd4e1495e49b9a9feea45d",
       "selected_index": null
      }
     },
     "39af05ea58084670937a86841b4e4b8d": {
      "model_module": "@jupyter-widgets/controls",
      "model_module_version": "1.1.0",
      "model_name": "ButtonModel",
      "state": {
       "description": "Scrap Me",
       "layout": "IPY_MODEL_e1e1d929a00841ec83debade74616966",
       "style": "IPY_MODEL_c6c132dfe6974a2cb874fc0496946bd4"
      }
     },
     "3a36d6fa6bfd4b04b0f0dd87241e3cb8": {
      "model_module": "@jupyter-widgets/controls",
      "model_module_version": "1.1.0",
      "model_name": "HTMLModel",
      "state": {
       "description": "Sample Folder Path:",
       "layout": "IPY_MODEL_5b27dc82f5fb46e28785b9cd4194b6d8",
       "placeholder": "",
       "style": "IPY_MODEL_eff78c3e02f14f25aade52e2de3160f6",
       "value": "<i><b>C:\\Users\\LENOVO\\Documents</b><i>"
      }
     },
     "3a51920f1dd74322bfa4405e97e9751a": {
      "model_module": "@jupyter-widgets/controls",
      "model_module_version": "1.1.0",
      "model_name": "DescriptionStyleModel",
      "state": {
       "description_width": ""
      }
     },
     "3ac4180c901d44a8babbefbe999574da": {
      "model_module": "@jupyter-widgets/controls",
      "model_module_version": "1.1.0",
      "model_name": "DescriptionStyleModel",
      "state": {
       "description_width": ""
      }
     },
     "3b0a015d1c7843eaafaeb350d66db6f0": {
      "model_module": "@jupyter-widgets/controls",
      "model_module_version": "1.1.0",
      "model_name": "DescriptionStyleModel",
      "state": {
       "description_width": ""
      }
     },
     "3b0c9aeb4ce54515a23e526de4c5152b": {
      "model_module": "@jupyter-widgets/base",
      "model_module_version": "1.0.0",
      "model_name": "LayoutModel",
      "state": {}
     },
     "3b583ab893d0470382fee6e058a2bcf3": {
      "model_module": "@jupyter-widgets/controls",
      "model_module_version": "1.1.0",
      "model_name": "AccordionModel",
      "state": {
       "_titles": {
        "0": "Method",
        "1": "Analysis",
        "2": "Result"
       },
       "children": [
        "IPY_MODEL_72c967a64c7b446ba2c3c637d41deeb7",
        "IPY_MODEL_2cf82c6f1c054843996ea0c410836181",
        "IPY_MODEL_b32d937165f54437bc574ce159191a85"
       ],
       "layout": "IPY_MODEL_f86e44498b9e4751935e5d003a40c9e1"
      }
     },
     "3b94b31c322a4ce1ac1c59ad8d2492bd": {
      "model_module": "@jupyter-widgets/base",
      "model_module_version": "1.0.0",
      "model_name": "LayoutModel",
      "state": {}
     },
     "3bdbeca9f55c4a1ab1bfd37b375a8a6d": {
      "model_module": "@jupyter-widgets/controls",
      "model_module_version": "1.1.0",
      "model_name": "VBoxModel",
      "state": {
       "children": [
        "IPY_MODEL_39af05ea58084670937a86841b4e4b8d",
        "IPY_MODEL_a4c12a2a85b04f5e98d30a01f83ee1dd"
       ],
       "layout": "IPY_MODEL_9d17b3cb41ce4beca1e86427ee00a55b"
      }
     },
     "3c9df8c12ad44b70a962dae6cf3e5168": {
      "model_module": "@jupyter-widgets/controls",
      "model_module_version": "1.1.0",
      "model_name": "ButtonStyleModel",
      "state": {
       "button_color": "navy"
      }
     },
     "3d098d12f21642199bfe5e54280e783d": {
      "model_module": "@jupyter-widgets/controls",
      "model_module_version": "1.1.0",
      "model_name": "DescriptionStyleModel",
      "state": {
       "description_width": ""
      }
     },
     "3d2fc07f9f8348e3a9919d925ba0f028": {
      "model_module": "@jupyter-widgets/base",
      "model_module_version": "1.0.0",
      "model_name": "LayoutModel",
      "state": {}
     },
     "3d60253e9d1042cdbe5b9d6b6c2d16e8": {
      "model_module": "@jupyter-widgets/controls",
      "model_module_version": "1.1.0",
      "model_name": "DescriptionStyleModel",
      "state": {
       "description_width": ""
      }
     },
     "3d6cbd61afe44619ba9fe847ddabbee4": {
      "model_module": "@jupyter-widgets/controls",
      "model_module_version": "1.1.0",
      "model_name": "VBoxModel",
      "state": {
       "children": [
        "IPY_MODEL_ef17d008745b426e9cb7e161814b0912",
        "IPY_MODEL_5c9cf90f8f42470eb311f2f5b2baad67"
       ],
       "layout": "IPY_MODEL_df7c4d4181914b74a3cd1039cbd5abe0"
      }
     },
     "3db03be525d946e6b94134adf035c076": {
      "model_module": "@jupyter-widgets/controls",
      "model_module_version": "1.1.0",
      "model_name": "HTMLModel",
      "state": {
       "description": "Sample:",
       "layout": "IPY_MODEL_b3cea728cb5a460c91930e3796260e8a",
       "placeholder": "",
       "style": "IPY_MODEL_c523bc0aa71849d9913b2c20ec74a6ed",
       "value": "<i><b>C:\\Users\\LENOVO\\Documents</b><i>"
      }
     },
     "3de40c71b9f345bbb307efa1cd9b0bda": {
      "model_module": "@jupyter-widgets/output",
      "model_module_version": "1.0.0",
      "model_name": "OutputModel",
      "state": {
       "layout": "IPY_MODEL_7067aa02e1c741cb81081b5b4d6a7d3c"
      }
     },
     "3e622ef4f6d64127a323dc190538b52c": {
      "model_module": "@jupyter-widgets/base",
      "model_module_version": "1.0.0",
      "model_name": "LayoutModel",
      "state": {}
     },
     "3f20bb61786946c48e6ea66326fa5c13": {
      "model_module": "@jupyter-widgets/base",
      "model_module_version": "1.0.0",
      "model_name": "LayoutModel",
      "state": {}
     },
     "3f2b467832c14407a741fea5ca107274": {
      "model_module": "@jupyter-widgets/controls",
      "model_module_version": "1.1.0",
      "model_name": "DescriptionStyleModel",
      "state": {
       "description_width": ""
      }
     },
     "3f3f0289597a4e20a359fbd2bb43e7e5": {
      "model_module": "@jupyter-widgets/base",
      "model_module_version": "1.0.0",
      "model_name": "LayoutModel",
      "state": {}
     },
     "3f74d09c09564759b1a288346709309b": {
      "model_module": "@jupyter-widgets/controls",
      "model_module_version": "1.1.0",
      "model_name": "AccordionModel",
      "state": {
       "_titles": {
        "0": "Scrap"
       },
       "children": [
        "IPY_MODEL_1e3720f780ac4e5db9025ae5fde078a3"
       ],
       "layout": "IPY_MODEL_f0703dcad54c4b83a104e4e22fe9094d"
      }
     },
     "3f8173a7448e4bb88996733e238991c8": {
      "model_module": "@jupyter-widgets/controls",
      "model_module_version": "1.1.0",
      "model_name": "HTMLModel",
      "state": {
       "description": "Sample Link:",
       "layout": "IPY_MODEL_d1aa5fe6aeeb4582912fd65992ec46eb",
       "placeholder": "",
       "style": "IPY_MODEL_3d60253e9d1042cdbe5b9d6b6c2d16e8",
       "value": "<i><b>C:\\Users\\LENOVO\\Documents</b><i>"
      }
     },
     "402b094c795446abb8d52292715b0a1a": {
      "model_module": "@jupyter-widgets/controls",
      "model_module_version": "1.1.0",
      "model_name": "AccordionModel",
      "state": {
       "_titles": {
        "0": "Link",
        "1": "Save",
        "2": "Scrap"
       },
       "children": [
        "IPY_MODEL_bbe6e5f0d003414191693cad46aabe3f",
        "IPY_MODEL_34225ff846724ff08938eac4ddf81353",
        "IPY_MODEL_01386a38a26d44919782b3e983af8a0a"
       ],
       "layout": "IPY_MODEL_021ec9e7001843229a4de182c2abd93e",
       "selected_index": null
      }
     },
     "4053432a4b97460fb9690c2070b496d2": {
      "model_module": "@jupyter-widgets/controls",
      "model_module_version": "1.1.0",
      "model_name": "VBoxModel",
      "state": {
       "children": [
        "IPY_MODEL_0cecb1064de74340926cda6134d998c1",
        "IPY_MODEL_12c17c0d71544449a64891cf9c570ce1"
       ],
       "layout": "IPY_MODEL_57f1471bef7643438e8185d56e64a5fd"
      }
     },
     "40665e10b81c41ee8f71187baf2e3315": {
      "model_module": "@jupyter-widgets/controls",
      "model_module_version": "1.1.0",
      "model_name": "HTMLModel",
      "state": {
       "description": "Sample Link:",
       "layout": "IPY_MODEL_8639252861b84754bb257fef0dcbb034",
       "placeholder": "",
       "style": "IPY_MODEL_78a08110c723466a86a73fa77108af37",
       "value": "<i><b>https://www.mudah.my/malaysia/cars-for-sale?o=1&q=&th=1</b><i>"
      }
     },
     "4068c4dc90874ad380723c093b3e743a": {
      "model_module": "@jupyter-widgets/controls",
      "model_module_version": "1.1.0",
      "model_name": "AccordionModel",
      "state": {
       "_titles": {
        "0": "Method",
        "1": "Analysis"
       },
       "children": [
        "IPY_MODEL_3641b75dcd674dfa8102a33de9842300",
        "IPY_MODEL_823f006e17cc4828af49aaf5b365f0d9"
       ],
       "layout": "IPY_MODEL_8c5dd8f9c13947f2bbd236dcebccfccb",
       "selected_index": null
      }
     },
     "40850d171ab54173ae730dc62865ae21": {
      "model_module": "@jupyter-widgets/controls",
      "model_module_version": "1.1.0",
      "model_name": "VBoxModel",
      "state": {
       "children": [
        "IPY_MODEL_f0e7f876d6de48c887e28e12aca33e72",
        "IPY_MODEL_9e6b2fb55acd4f4684c4f41d150fda76"
       ],
       "layout": "IPY_MODEL_87319d8cc25c461ea4d0d372d8eb15a8"
      }
     },
     "40e4c9f7d73b4c3497ebd441daf31eef": {
      "model_module": "@jupyter-widgets/base",
      "model_module_version": "1.0.0",
      "model_name": "LayoutModel",
      "state": {}
     },
     "41d82b5e06e645bb9893ffefb305e604": {
      "model_module": "@jupyter-widgets/controls",
      "model_module_version": "1.1.0",
      "model_name": "TextModel",
      "state": {
       "description": "CSV file:",
       "layout": "IPY_MODEL_b2c0b05c51c04562bde1bc77c4cf78cd",
       "placeholder": "Name your scrap csv file",
       "style": "IPY_MODEL_d5307a475f0a45e6bbd0a87db65a2fbe"
      }
     },
     "41ddb4918e344adbb4eb397e23c0b0f3": {
      "model_module": "@jupyter-widgets/controls",
      "model_module_version": "1.1.0",
      "model_name": "HBoxModel",
      "state": {
       "children": [
        "IPY_MODEL_f4e1155336644e23bf2e4ec271c3409c",
        "IPY_MODEL_5824cb8c0f534c1b88689176c33a08b3"
       ],
       "layout": "IPY_MODEL_f1a703fe34ad493187ec6bbb4d1ba4b8"
      }
     },
     "428f2571f56b46b7850b08ff19bf5266": {
      "model_module": "@jupyter-widgets/base",
      "model_module_version": "1.0.0",
      "model_name": "LayoutModel",
      "state": {}
     },
     "4296f1d3e97340f8a9e636412e3a3cba": {
      "model_module": "@jupyter-widgets/base",
      "model_module_version": "1.0.0",
      "model_name": "LayoutModel",
      "state": {}
     },
     "430a70ad1cc94581a312e49bb97db607": {
      "model_module": "@jupyter-widgets/controls",
      "model_module_version": "1.1.0",
      "model_name": "AccordionModel",
      "state": {
       "_titles": {
        "0": "Scrap"
       },
       "children": [
        "IPY_MODEL_73e004678ce94f26bed5082d98c7fdc0"
       ],
       "layout": "IPY_MODEL_c4411c578ff34f4a960842497d9f6054"
      }
     },
     "431bd9b95daa47708b2f291ad343942b": {
      "model_module": "@jupyter-widgets/controls",
      "model_module_version": "1.1.0",
      "model_name": "TextModel",
      "state": {
       "description": "Folder Path:",
       "layout": "IPY_MODEL_33f620b532044f80b83dcf76f989f0b4",
       "placeholder": "Paste folder path to save",
       "style": "IPY_MODEL_af464d4c27ac4cbc9b91795427c5d0db"
      }
     },
     "432747ecdc3a4b788611473606191be2": {
      "model_module": "@jupyter-widgets/controls",
      "model_module_version": "1.1.0",
      "model_name": "ButtonModel",
      "state": {
       "description": "Boxplot",
       "icon": "check",
       "layout": "IPY_MODEL_e64c0607a8e7422993cc7e5b32842d2f",
       "style": "IPY_MODEL_90d392422a4e4d6fb8efa2fa908a1b79",
       "tooltip": "Click me"
      }
     },
     "437a73b913c6406b97dc7bf34c5580db": {
      "model_module": "@jupyter-widgets/controls",
      "model_module_version": "1.1.0",
      "model_name": "VBoxModel",
      "state": {
       "children": [
        "IPY_MODEL_a545a81748f64286b17545d767e3423c",
        "IPY_MODEL_e5f27b0bbf8d4527a5dc0c268a6ae486"
       ],
       "layout": "IPY_MODEL_82740905d0884af5814b4de1b21adeac"
      }
     },
     "44174c33da6c4527a8816036114bff3b": {
      "model_module": "@jupyter-widgets/base",
      "model_module_version": "1.0.0",
      "model_name": "LayoutModel",
      "state": {}
     },
     "44d04822d67949c0aecfbd624ba02908": {
      "model_module": "@jupyter-widgets/base",
      "model_module_version": "1.0.0",
      "model_name": "LayoutModel",
      "state": {}
     },
     "44d7489804364111b125e6539d0f1b37": {
      "model_module": "@jupyter-widgets/base",
      "model_module_version": "1.0.0",
      "model_name": "LayoutModel",
      "state": {}
     },
     "4528805c3ab04bb3b7ec48e8f0ba4e6e": {
      "model_module": "@jupyter-widgets/base",
      "model_module_version": "1.0.0",
      "model_name": "LayoutModel",
      "state": {}
     },
     "4550f1bc674e4bf78e339612304a9210": {
      "model_module": "@jupyter-widgets/controls",
      "model_module_version": "1.1.0",
      "model_name": "DescriptionStyleModel",
      "state": {
       "description_width": ""
      }
     },
     "45562151bcfd4e1495e49b9a9feea45d": {
      "model_module": "@jupyter-widgets/base",
      "model_module_version": "1.0.0",
      "model_name": "LayoutModel",
      "state": {}
     },
     "4585d3ed2cc843609dfb4eeff3f0c9e6": {
      "model_module": "@jupyter-widgets/controls",
      "model_module_version": "1.1.0",
      "model_name": "VBoxModel",
      "state": {
       "children": [
        "IPY_MODEL_bc07d51c7bd049b6b214422ef3b7ce70",
        "IPY_MODEL_a56078b5fb524adba1559811a4f8be64"
       ],
       "layout": "IPY_MODEL_c156f65e96d64f958c212f4c31d42a5d"
      }
     },
     "45f4b0638e5c4e609751958804ba9851": {
      "model_module": "@jupyter-widgets/controls",
      "model_module_version": "1.1.0",
      "model_name": "ButtonModel",
      "state": {
       "description": "Click me",
       "icon": "check",
       "layout": "IPY_MODEL_50db16d5eff945d4827e955796b527f8",
       "style": "IPY_MODEL_596e9d2e90c447eb9140e94619f77840",
       "tooltip": "Click me"
      }
     },
     "463a8f59d6774d0593536802527823bf": {
      "model_module": "@jupyter-widgets/controls",
      "model_module_version": "1.1.0",
      "model_name": "TabModel",
      "state": {
       "_titles": {
        "0": "Extaction",
        "1": "S"
       },
       "children": [
        "IPY_MODEL_ee4cdbfba38e4623ab63a672778861b9"
       ],
       "layout": "IPY_MODEL_2140d71e91524110914f2efe5bf2861b"
      }
     },
     "46dabcc7b8f3448ca6e0170a5d0ab6e4": {
      "model_module": "@jupyter-widgets/controls",
      "model_module_version": "1.1.0",
      "model_name": "AccordionModel",
      "state": {
       "_titles": {
        "0": "Upload",
        "1": "View",
        "2": "Analysis"
       },
       "children": [
        "IPY_MODEL_fb385d32db7841c4bebfecd1f4a665c2",
        "IPY_MODEL_a2ccfd52d8d04df288fb2115622e601c",
        "IPY_MODEL_4a16b84fea7144b5aae5895a53de655d"
       ],
       "layout": "IPY_MODEL_24067bcd3c864efea462f2fb19fd54c3",
       "selected_index": 2
      }
     },
     "46ddcde60ead4692a26b6c4301e3019b": {
      "model_module": "@jupyter-widgets/controls",
      "model_module_version": "1.1.0",
      "model_name": "TextModel",
      "state": {
       "description": "P0",
       "layout": "IPY_MODEL_2150b2633c85480ab1c8d0f2c47122c2",
       "style": "IPY_MODEL_9ac92aaf52a947d28cc67e9b25deb34c"
      }
     },
     "471a86bf6a874b0094743671469fe375": {
      "model_module": "@jupyter-widgets/controls",
      "model_module_version": "1.1.0",
      "model_name": "TextModel",
      "state": {
       "description": "CSV file:",
       "layout": "IPY_MODEL_9bae1341166a4b4c84b48552e6a10942",
       "placeholder": "Name of cleaned csv file",
       "style": "IPY_MODEL_ae2158f9a65948f49a6e473cb6ecd030"
      }
     },
     "471e625db7f64f8182ee19acc9b6460a": {
      "model_module": "@jupyter-widgets/base",
      "model_module_version": "1.0.0",
      "model_name": "LayoutModel",
      "state": {}
     },
     "4784c116301346c48958cbd9b6e2a5c2": {
      "model_module": "@jupyter-widgets/base",
      "model_module_version": "1.0.0",
      "model_name": "LayoutModel",
      "state": {}
     },
     "47a5851955464341a3e623cdcefed5ca": {
      "model_module": "@jupyter-widgets/base",
      "model_module_version": "1.0.0",
      "model_name": "LayoutModel",
      "state": {}
     },
     "47b6e2f6371341a3bb2689d1d9d86bba": {
      "model_module": "@jupyter-widgets/controls",
      "model_module_version": "1.1.0",
      "model_name": "ButtonStyleModel",
      "state": {
       "button_color": "red"
      }
     },
     "4801fad716bc436f87244e57f97d6df1": {
      "model_module": "@jupyter-widgets/controls",
      "model_module_version": "1.1.0",
      "model_name": "TextModel",
      "state": {
       "description": "CSV file:",
       "layout": "IPY_MODEL_759f2bcc4a814ed2abac61aecb33c469",
       "placeholder": "Name of cleaned csv file",
       "style": "IPY_MODEL_9cad4ab83dbc4c6ebad5a2787c09e1c4"
      }
     },
     "4826b03da61e4dccac35258e9f1a798a": {
      "model_module": "@jupyter-widgets/controls",
      "model_module_version": "1.1.0",
      "model_name": "TabModel",
      "state": {
       "_titles": {
        "0": "Extaction",
        "1": "Data"
       },
       "children": [
        "IPY_MODEL_c1aed1dbd974447390e3105e74d28fa1",
        "IPY_MODEL_661ab29ede1945cf8af898be1eed654e"
       ],
       "layout": "IPY_MODEL_4c4bc52df6f246fe8a2b4a8446be5a66",
       "selected_index": 1
      }
     },
     "48a96c1e3718467792659c7fc0ac36aa": {
      "model_module": "@jupyter-widgets/controls",
      "model_module_version": "1.1.0",
      "model_name": "HTMLModel",
      "state": {
       "layout": "IPY_MODEL_ec14d9096a4f4a7484ffd5751ea53aff",
       "placeholder": "",
       "style": "IPY_MODEL_1a9728caf05943d39649ced6fdc2b9e2",
       "value": "Hello <b>World</b>"
      }
     },
     "48ef4e4cc3c942f582789ac02881420b": {
      "model_module": "@jupyter-widgets/controls",
      "model_module_version": "1.1.0",
      "model_name": "VBoxModel",
      "state": {
       "children": [
        "IPY_MODEL_3697ce1d511b47cd8dc36aaaa9ca6c4b",
        "IPY_MODEL_d9d113aad17f450180af4d65e959f5f1",
        "IPY_MODEL_5da487dd78814b65897d5e1b25c98ab9",
        "IPY_MODEL_ee6b1e1681da4e9f96a15508ab22a40d"
       ],
       "layout": "IPY_MODEL_8b2227a35d43436292f64a3e6b2b3de6"
      }
     },
     "4977d3948272426a9f2a64412e7c3a81": {
      "model_module": "@jupyter-widgets/base",
      "model_module_version": "1.0.0",
      "model_name": "LayoutModel",
      "state": {}
     },
     "49d1dbe4ad234db0bed05541b56cc234": {
      "model_module": "@jupyter-widgets/base",
      "model_module_version": "1.0.0",
      "model_name": "LayoutModel",
      "state": {}
     },
     "4a16b84fea7144b5aae5895a53de655d": {
      "model_module": "@jupyter-widgets/controls",
      "model_module_version": "1.1.0",
      "model_name": "SelectMultipleModel",
      "state": {
       "_options_labels": [
        "Price",
        "Year",
        "Mileage"
       ],
       "description": "Filter by",
       "index": [
        0
       ],
       "layout": "IPY_MODEL_3127a9e937de418e8961d58184ca2d3f",
       "rows": 5,
       "style": "IPY_MODEL_73617c413d6d48b39fb903c76f553f08"
      }
     },
     "4a2bec088a634271812cf0a151805d79": {
      "model_module": "@jupyter-widgets/controls",
      "model_module_version": "1.1.0",
      "model_name": "HTMLModel",
      "state": {
       "layout": "IPY_MODEL_568cdd81fb90424b91f03bd4da1ed0f0",
       "placeholder": "",
       "style": "IPY_MODEL_5bfc54547a904990a91e8deca011afb2",
       "value": "Apply <b>Data Mining<b> Method!!"
      }
     },
     "4a33fbede3e640298aef0f646de67912": {
      "model_module": "@jupyter-widgets/base",
      "model_module_version": "1.0.0",
      "model_name": "LayoutModel",
      "state": {}
     },
     "4a5ee65fa4d54015a28d09a5cea392af": {
      "model_module": "@jupyter-widgets/base",
      "model_module_version": "1.0.0",
      "model_name": "LayoutModel",
      "state": {}
     },
     "4a7dda581bc3407b97d8f32dcf14ca98": {
      "model_module": "@jupyter-widgets/base",
      "model_module_version": "1.0.0",
      "model_name": "LayoutModel",
      "state": {}
     },
     "4aa93e386dc349bba5083166782da765": {
      "model_module": "@jupyter-widgets/controls",
      "model_module_version": "1.1.0",
      "model_name": "AccordionModel",
      "state": {
       "_titles": {
        "0": "Source",
        "1": "Save",
        "2": "Scrap"
       },
       "children": [
        "IPY_MODEL_9444b2ef7f7c4027b74a74d2608133b0",
        "IPY_MODEL_e151641293de403ea0b93b400dc58233",
        "IPY_MODEL_3bdbeca9f55c4a1ab1bfd37b375a8a6d"
       ],
       "layout": "IPY_MODEL_216492d87f9245b091e1beddfc70a7cc"
      }
     },
     "4aa9446391f0417b9c14f0ea386c8d91": {
      "model_module": "@jupyter-widgets/controls",
      "model_module_version": "1.1.0",
      "model_name": "HTMLModel",
      "state": {
       "description": "Some HTML",
       "layout": "IPY_MODEL_37fc8fd3160547dfb375788d9b6eda4b",
       "placeholder": "",
       "style": "IPY_MODEL_fd9e765964ff491ebf30cebc38f53cd0",
       "value": "Hello <b>World</b>"
      }
     },
     "4aca900a37ba4aa0a3adc8b2c4bb059d": {
      "model_module": "@jupyter-widgets/base",
      "model_module_version": "1.0.0",
      "model_name": "LayoutModel",
      "state": {}
     },
     "4adfbab011124dad8353e9dcd3d0299d": {
      "model_module": "@jupyter-widgets/base",
      "model_module_version": "1.0.0",
      "model_name": "LayoutModel",
      "state": {}
     },
     "4b8b870bd33d4d7eb2062f4b82ac9fdd": {
      "model_module": "@jupyter-widgets/controls",
      "model_module_version": "1.1.0",
      "model_name": "DescriptionStyleModel",
      "state": {
       "description_width": ""
      }
     },
     "4bb35590702d4f14ae2146f75e22cac1": {
      "model_module": "@jupyter-widgets/controls",
      "model_module_version": "1.1.0",
      "model_name": "ButtonModel",
      "state": {
       "description": "PCA!",
       "icon": "check",
       "layout": "IPY_MODEL_b4b4600ed99745608b70d89496f964bb",
       "style": "IPY_MODEL_90c77cc1d60140e386052f4b6939d83c",
       "tooltip": "Click me"
      }
     },
     "4c4bc52df6f246fe8a2b4a8446be5a66": {
      "model_module": "@jupyter-widgets/base",
      "model_module_version": "1.0.0",
      "model_name": "LayoutModel",
      "state": {}
     },
     "4c5f031e1739448e8e111996b00ab243": {
      "model_module": "@jupyter-widgets/controls",
      "model_module_version": "1.1.0",
      "model_name": "ButtonStyleModel",
      "state": {}
     },
     "4c84254347da48d4b19916eb9989769c": {
      "model_module": "@jupyter-widgets/base",
      "model_module_version": "1.0.0",
      "model_name": "LayoutModel",
      "state": {}
     },
     "4cc81a74877e406687a4324f1fb4d132": {
      "model_module": "@jupyter-widgets/controls",
      "model_module_version": "1.1.0",
      "model_name": "ButtonStyleModel",
      "state": {
       "button_color": "lightblue"
      }
     },
     "4ce2a7d18c0f497185f95c5cfe07adb8": {
      "model_module": "@jupyter-widgets/controls",
      "model_module_version": "1.1.0",
      "model_name": "HTMLModel",
      "state": {
       "description": "Sample Path:",
       "layout": "IPY_MODEL_f2b1af11251547c1b930eac9631c97b5",
       "placeholder": "",
       "style": "IPY_MODEL_3a51920f1dd74322bfa4405e97e9751a",
       "value": "<i><b>C:\\Users\\LENOVO\\Documents</b><i>"
      }
     },
     "4d38dd96b27e4edc9ac2aebf7eb1efbd": {
      "model_module": "@jupyter-widgets/base",
      "model_module_version": "1.0.0",
      "model_name": "LayoutModel",
      "state": {}
     },
     "4d3e0c8e6fd04aa4b0aa55c18f245257": {
      "model_module": "@jupyter-widgets/base",
      "model_module_version": "1.0.0",
      "model_name": "LayoutModel",
      "state": {}
     },
     "4dc6cb5c3f674fffb7d7e3499d648acc": {
      "model_module": "@jupyter-widgets/base",
      "model_module_version": "1.0.0",
      "model_name": "LayoutModel",
      "state": {}
     },
     "4e2b59ccd0c947d584c70e03f8f02771": {
      "model_module": "@jupyter-widgets/controls",
      "model_module_version": "1.1.0",
      "model_name": "TextModel",
      "state": {
       "description": "Link:",
       "layout": "IPY_MODEL_44174c33da6c4527a8816036114bff3b",
       "placeholder": "Paste your mudah.my link here",
       "style": "IPY_MODEL_e3c53de0a6ae4131856a9db0469cd2ed"
      }
     },
     "4e39bd0128f140df895ae83a2a3f6924": {
      "model_module": "@jupyter-widgets/base",
      "model_module_version": "1.0.0",
      "model_name": "LayoutModel",
      "state": {}
     },
     "4e58478fd9224ac7a08eb40792ef8e41": {
      "model_module": "@jupyter-widgets/base",
      "model_module_version": "1.0.0",
      "model_name": "LayoutModel",
      "state": {}
     },
     "4eed7e2b35d14498bea2677c24b1defa": {
      "model_module": "@jupyter-widgets/controls",
      "model_module_version": "1.1.0",
      "model_name": "DropdownModel",
      "state": {
       "_options_labels": [
        "-",
        "5",
        "6",
        "7",
        "8",
        "9",
        "10"
       ],
       "description": "Random:",
       "index": 0,
       "layout": "IPY_MODEL_5ea533c9375e4fd4a2ffaad980883ae9",
       "style": "IPY_MODEL_39982c7808594574a482bb6bb3259e33"
      }
     },
     "4f4241063b6549e5a282ea5611fe7286": {
      "model_module": "@jupyter-widgets/base",
      "model_module_version": "1.0.0",
      "model_name": "LayoutModel",
      "state": {}
     },
     "4f80ff4865ad4b48be2339bf0ac784f6": {
      "model_module": "@jupyter-widgets/base",
      "model_module_version": "1.0.0",
      "model_name": "LayoutModel",
      "state": {}
     },
     "4fd5949fc65246058a452df3fe0b81d8": {
      "model_module": "@jupyter-widgets/controls",
      "model_module_version": "1.1.0",
      "model_name": "VBoxModel",
      "state": {
       "children": [
        "IPY_MODEL_79d3d57594934edd8fd172137c86e59d",
        "IPY_MODEL_51ecc236793848a293841c58168c2f73"
       ],
       "layout": "IPY_MODEL_e3e32ac25b434b4789000b5b77970f4d"
      }
     },
     "5027c9dec59449ad81f792883e93dceb": {
      "model_module": "@jupyter-widgets/output",
      "model_module_version": "1.0.0",
      "model_name": "OutputModel",
      "state": {
       "layout": "IPY_MODEL_b31b6e4024c640dfba2475634e52f7d3"
      }
     },
     "508a46ca779c4b4ea2487d2a7a4ee4cd": {
      "model_module": "@jupyter-widgets/base",
      "model_module_version": "1.0.0",
      "model_name": "LayoutModel",
      "state": {}
     },
     "508c9a0fd5ec43e7a96d685ea4ef3ba2": {
      "model_module": "@jupyter-widgets/base",
      "model_module_version": "1.0.0",
      "model_name": "LayoutModel",
      "state": {}
     },
     "50b580d0de6b47c386f6db96cff7ffea": {
      "model_module": "@jupyter-widgets/base",
      "model_module_version": "1.0.0",
      "model_name": "LayoutModel",
      "state": {}
     },
     "50db16d5eff945d4827e955796b527f8": {
      "model_module": "@jupyter-widgets/base",
      "model_module_version": "1.0.0",
      "model_name": "LayoutModel",
      "state": {}
     },
     "50fe3a1b0c1142cea4ad08c950474f5c": {
      "model_module": "@jupyter-widgets/controls",
      "model_module_version": "1.1.0",
      "model_name": "ButtonModel",
      "state": {
       "description": "PCA!",
       "icon": "check",
       "layout": "IPY_MODEL_508c9a0fd5ec43e7a96d685ea4ef3ba2",
       "style": "IPY_MODEL_37cc069b302c43e9aa1b6843caa6785b",
       "tooltip": "Click me"
      }
     },
     "5126e62c96b24a6bb3a94e0bb27d75cf": {
      "model_module": "@jupyter-widgets/controls",
      "model_module_version": "1.1.0",
      "model_name": "ButtonStyleModel",
      "state": {}
     },
     "513a586bb2f34a8abdd959200753c0c4": {
      "model_module": "@jupyter-widgets/base",
      "model_module_version": "1.0.0",
      "model_name": "LayoutModel",
      "state": {}
     },
     "51ecc236793848a293841c58168c2f73": {
      "model_module": "@jupyter-widgets/controls",
      "model_module_version": "1.1.0",
      "model_name": "HBoxModel",
      "state": {
       "children": [
        "IPY_MODEL_e551b072c6dc4ed3b1a5d772664ae339",
        "IPY_MODEL_72349e0bcd474b37bde9d1f03a82ddee",
        "IPY_MODEL_2a06d0e2125e4f0b8a8fb059882ccc7a"
       ],
       "layout": "IPY_MODEL_e9843a215694483cbec45cd700c452ee"
      }
     },
     "52098c833c5141b1a63541f2aac51231": {
      "model_module": "@jupyter-widgets/base",
      "model_module_version": "1.0.0",
      "model_name": "LayoutModel",
      "state": {}
     },
     "520d48f8a17f45aba8f4766036851b36": {
      "model_module": "@jupyter-widgets/base",
      "model_module_version": "1.0.0",
      "model_name": "LayoutModel",
      "state": {}
     },
     "5212f7deb686456890f50a61a77e5391": {
      "model_module": "@jupyter-widgets/controls",
      "model_module_version": "1.1.0",
      "model_name": "DescriptionStyleModel",
      "state": {
       "description_width": ""
      }
     },
     "5230f4c7786748deb514affff7fcd6f0": {
      "model_module": "@jupyter-widgets/controls",
      "model_module_version": "1.1.0",
      "model_name": "ButtonStyleModel",
      "state": {
       "button_color": "blue"
      }
     },
     "52317009b8344f2d85026dc6b7c1d8e0": {
      "model_module": "@jupyter-widgets/base",
      "model_module_version": "1.0.0",
      "model_name": "LayoutModel",
      "state": {}
     },
     "525428188a274091a0d4e9f881b77465": {
      "model_module": "@jupyter-widgets/controls",
      "model_module_version": "1.1.0",
      "model_name": "VBoxModel",
      "state": {
       "children": [
        "IPY_MODEL_bc07d51c7bd049b6b214422ef3b7ce70",
        "IPY_MODEL_a56078b5fb524adba1559811a4f8be64"
       ],
       "layout": "IPY_MODEL_0f5a079158ba41d8b973ee01c7b3aec7"
      }
     },
     "52623dd87ee446e4a010265993b5d82b": {
      "model_module": "@jupyter-widgets/controls",
      "model_module_version": "1.1.0",
      "model_name": "VBoxModel",
      "state": {
       "children": [
        "IPY_MODEL_34d9c9d70a1c466e8163e265eb384a5c",
        "IPY_MODEL_06764c74d0fc4d9bb74f6786e6297cb6"
       ],
       "layout": "IPY_MODEL_7f0191a18e52447580bd7568179d1b4e"
      }
     },
     "5277f61e41cd479fb538eea03744c633": {
      "model_module": "@jupyter-widgets/controls",
      "model_module_version": "1.1.0",
      "model_name": "DescriptionStyleModel",
      "state": {
       "description_width": ""
      }
     },
     "52b72e357f1e4a7589fd6f542761b646": {
      "model_module": "@jupyter-widgets/base",
      "model_module_version": "1.0.0",
      "model_name": "LayoutModel",
      "state": {}
     },
     "52ef3500068a4788bd71257b862320fa": {
      "model_module": "@jupyter-widgets/controls",
      "model_module_version": "1.1.0",
      "model_name": "ButtonStyleModel",
      "state": {}
     },
     "531a513f1e784ca781d75f3323e6472b": {
      "model_module": "@jupyter-widgets/base",
      "model_module_version": "1.0.0",
      "model_name": "LayoutModel",
      "state": {}
     },
     "53faedbd1dcc425281549aceabc3443f": {
      "model_module": "@jupyter-widgets/controls",
      "model_module_version": "1.1.0",
      "model_name": "AccordionModel",
      "state": {
       "_titles": {
        "0": "Source",
        "1": "Save",
        "2": "Scrap"
       },
       "children": [
        "IPY_MODEL_79f474affbdb47d5b45fdf09837dcaed",
        "IPY_MODEL_0ecedffc4b17409ebca97d6ed2cecc0d",
        "IPY_MODEL_74f15019a00a4338832242dd0459b226"
       ],
       "layout": "IPY_MODEL_12abd5ec8c8b4a0594b56dd1df735c5c",
       "selected_index": 2
      }
     },
     "54127abe5471446084a3357f3761ac5f": {
      "model_module": "@jupyter-widgets/controls",
      "model_module_version": "1.1.0",
      "model_name": "TabModel",
      "state": {
       "_titles": {
        "0": "Extaction",
        "1": "S"
       },
       "children": [
        "IPY_MODEL_ee4cdbfba38e4623ab63a672778861b9",
        "IPY_MODEL_2b50a5d18a4945f495fb9d46102acdee"
       ],
       "layout": "IPY_MODEL_851d16908b874391b58f685baced73ee"
      }
     },
     "547408b7d6be42b78402edc87a77a222": {
      "model_module": "@jupyter-widgets/base",
      "model_module_version": "1.0.0",
      "model_name": "LayoutModel",
      "state": {}
     },
     "54a1f3cc25eb4c33b0c6ce2aea2c12fc": {
      "model_module": "@jupyter-widgets/base",
      "model_module_version": "1.0.0",
      "model_name": "LayoutModel",
      "state": {}
     },
     "54a93fd7700d4100a027a6ad5c02f0a9": {
      "model_module": "@jupyter-widgets/controls",
      "model_module_version": "1.1.0",
      "model_name": "DescriptionStyleModel",
      "state": {
       "description_width": ""
      }
     },
     "54f1b4588371419bb4be97cecf09b080": {
      "model_module": "@jupyter-widgets/controls",
      "model_module_version": "1.1.0",
      "model_name": "ButtonStyleModel",
      "state": {
       "button_color": "orange"
      }
     },
     "552614de91c347238cc4453b0834b9f6": {
      "model_module": "@jupyter-widgets/controls",
      "model_module_version": "1.1.0",
      "model_name": "ButtonModel",
      "state": {
       "description": "Click Me",
       "icon": "check",
       "layout": "IPY_MODEL_4f80ff4865ad4b48be2339bf0ac784f6",
       "style": "IPY_MODEL_b070752a122945f18c1f2b7b30d5b224",
       "tooltip": "Click me"
      }
     },
     "55d07732a502419a8863643f636b73c1": {
      "model_module": "@jupyter-widgets/controls",
      "model_module_version": "1.1.0",
      "model_name": "DescriptionStyleModel",
      "state": {
       "description_width": ""
      }
     },
     "55e715f737304f018be24ed55baacff8": {
      "model_module": "@jupyter-widgets/controls",
      "model_module_version": "1.1.0",
      "model_name": "VBoxModel",
      "state": {
       "children": [
        "IPY_MODEL_2422beb9bdcb42fe89bda09a307dcba5",
        "IPY_MODEL_5f3a11e5903a472fa96ef55eefa1293c"
       ],
       "layout": "IPY_MODEL_8baeaada6adf46f98c30e1a6a377cf8c"
      }
     },
     "5644e9c67a4e41d4a6bbbfcaed83c816": {
      "model_module": "@jupyter-widgets/base",
      "model_module_version": "1.0.0",
      "model_name": "LayoutModel",
      "state": {}
     },
     "5660402b0924413c9b7ba747de832ad9": {
      "model_module": "@jupyter-widgets/controls",
      "model_module_version": "1.1.0",
      "model_name": "DescriptionStyleModel",
      "state": {
       "description_width": ""
      }
     },
     "568cdd81fb90424b91f03bd4da1ed0f0": {
      "model_module": "@jupyter-widgets/base",
      "model_module_version": "1.0.0",
      "model_name": "LayoutModel",
      "state": {}
     },
     "56c945b03b6a48279f93d19dff241f48": {
      "model_module": "@jupyter-widgets/base",
      "model_module_version": "1.0.0",
      "model_name": "LayoutModel",
      "state": {}
     },
     "56dc76b580f44916ac2ec35f0b5ef7aa": {
      "model_module": "@jupyter-widgets/base",
      "model_module_version": "1.0.0",
      "model_name": "LayoutModel",
      "state": {}
     },
     "57382d1740cf46d1aacb88df153bd87e": {
      "model_module": "@jupyter-widgets/controls",
      "model_module_version": "1.1.0",
      "model_name": "ToggleButtonsModel",
      "state": {
       "_options_labels": [
        "Head",
        "Random",
        "Sample"
       ],
       "button_style": "",
       "description": "View Method:",
       "disabled": true,
       "icons": [],
       "index": 0,
       "layout": "IPY_MODEL_cbb8920d848e4a5f8731f4151a3baa1e",
       "style": "IPY_MODEL_ffead06096f6492a8dfd599422fee0bf",
       "tooltips": [
        "Description of slow",
        "Description of regular",
        "Description of fast"
       ]
      }
     },
     "578c08428b2d4446b952df42c3efc4d7": {
      "model_module": "@jupyter-widgets/controls",
      "model_module_version": "1.1.0",
      "model_name": "DescriptionStyleModel",
      "state": {
       "description_width": ""
      }
     },
     "57ce5431650245cba78a2be872fdfe79": {
      "model_module": "@jupyter-widgets/controls",
      "model_module_version": "1.1.0",
      "model_name": "TabModel",
      "state": {
       "_titles": {
        "0": "1. Extaction",
        "1": "2. Data",
        "2": "3. Evaluation"
       },
       "children": [
        "IPY_MODEL_c1aed1dbd974447390e3105e74d28fa1",
        "IPY_MODEL_dd6f7422a4b34c13b0807ccf7f579c22",
        "IPY_MODEL_fc1e7c997c12448d936f0dacc5166473"
       ],
       "layout": "IPY_MODEL_9f3313102cdb4d958d83fa6dfdcf8abb",
       "selected_index": 2
      }
     },
     "57d2796dc8a34bae9033108c4324472e": {
      "model_module": "@jupyter-widgets/controls",
      "model_module_version": "1.1.0",
      "model_name": "ButtonStyleModel",
      "state": {}
     },
     "57f1471bef7643438e8185d56e64a5fd": {
      "model_module": "@jupyter-widgets/base",
      "model_module_version": "1.0.0",
      "model_name": "LayoutModel",
      "state": {}
     },
     "5824cb8c0f534c1b88689176c33a08b3": {
      "model_module": "@jupyter-widgets/controls",
      "model_module_version": "1.1.0",
      "model_name": "SelectMultipleModel",
      "state": {
       "_options_labels": [
        "Price",
        "Year",
        "Mileage"
       ],
       "description": "Filter by",
       "index": [
        0,
        2
       ],
       "layout": "IPY_MODEL_0b72464e419b43038cab09dbc73286ec",
       "rows": 3,
       "style": "IPY_MODEL_b8e81dc2819a48cfbaa5ddc238f12c34"
      }
     },
     "5889818fc8d44dfb91023d8b1b07ba98": {
      "model_module": "@jupyter-widgets/controls",
      "model_module_version": "1.1.0",
      "model_name": "DescriptionStyleModel",
      "state": {
       "description_width": ""
      }
     },
     "58cad3aee84a4e008d13e97e8aea8e70": {
      "model_module": "@jupyter-widgets/base",
      "model_module_version": "1.0.0",
      "model_name": "LayoutModel",
      "state": {}
     },
     "58ff48c500c2401b9d02ce88e766eb9c": {
      "model_module": "@jupyter-widgets/controls",
      "model_module_version": "1.1.0",
      "model_name": "ButtonModel",
      "state": {
       "description": "Click Me",
       "icon": "check",
       "layout": "IPY_MODEL_727f493dd89d40c4b2db9485ed818b50",
       "style": "IPY_MODEL_d634fd8df1d6485fa9619a948962fc9b",
       "tooltip": "Click me"
      }
     },
     "592b9c7e654c4d1283d965679a22c206": {
      "model_module": "@jupyter-widgets/base",
      "model_module_version": "1.0.0",
      "model_name": "LayoutModel",
      "state": {}
     },
     "596e9d2e90c447eb9140e94619f77840": {
      "model_module": "@jupyter-widgets/controls",
      "model_module_version": "1.1.0",
      "model_name": "ButtonStyleModel",
      "state": {}
     },
     "596febe802874943824c5d186fb7a570": {
      "model_module": "@jupyter-widgets/base",
      "model_module_version": "1.0.0",
      "model_name": "LayoutModel",
      "state": {}
     },
     "59a5513f0fae42a4a2e02953c299f51c": {
      "model_module": "@jupyter-widgets/base",
      "model_module_version": "1.0.0",
      "model_name": "LayoutModel",
      "state": {}
     },
     "59bf44adf6094b8fa53e2545d336d181": {
      "model_module": "@jupyter-widgets/base",
      "model_module_version": "1.0.0",
      "model_name": "LayoutModel",
      "state": {}
     },
     "5a11a9a499a64907b1cf7b0ff4aad21c": {
      "model_module": "@jupyter-widgets/base",
      "model_module_version": "1.0.0",
      "model_name": "LayoutModel",
      "state": {}
     },
     "5a2c980467784dc0bbdc6b746386f741": {
      "model_module": "@jupyter-widgets/base",
      "model_module_version": "1.0.0",
      "model_name": "LayoutModel",
      "state": {}
     },
     "5a34d356053f4787b6b10728c9dea86e": {
      "model_module": "@jupyter-widgets/base",
      "model_module_version": "1.0.0",
      "model_name": "LayoutModel",
      "state": {}
     },
     "5a3da707981149c08277ad8aba68065c": {
      "model_module": "@jupyter-widgets/controls",
      "model_module_version": "1.1.0",
      "model_name": "DescriptionStyleModel",
      "state": {
       "description_width": ""
      }
     },
     "5b27dc82f5fb46e28785b9cd4194b6d8": {
      "model_module": "@jupyter-widgets/base",
      "model_module_version": "1.0.0",
      "model_name": "LayoutModel",
      "state": {}
     },
     "5b35e8d8240c4c718fcba0459b47c296": {
      "model_module": "@jupyter-widgets/base",
      "model_module_version": "1.0.0",
      "model_name": "LayoutModel",
      "state": {}
     },
     "5b639445c873418286989b251a61138b": {
      "model_module": "@jupyter-widgets/base",
      "model_module_version": "1.0.0",
      "model_name": "LayoutModel",
      "state": {}
     },
     "5bf4792a8a5545e98c2376f7e762a703": {
      "model_module": "@jupyter-widgets/base",
      "model_module_version": "1.0.0",
      "model_name": "LayoutModel",
      "state": {}
     },
     "5bfc54547a904990a91e8deca011afb2": {
      "model_module": "@jupyter-widgets/controls",
      "model_module_version": "1.1.0",
      "model_name": "DescriptionStyleModel",
      "state": {
       "description_width": ""
      }
     },
     "5c20aa7a3a3844b4871d80ac830e9358": {
      "model_module": "@jupyter-widgets/controls",
      "model_module_version": "1.1.0",
      "model_name": "AccordionModel",
      "state": {
       "_titles": {
        "0": "Method",
        "1": "Analysis",
        "2": "Result"
       },
       "children": [
        "IPY_MODEL_4053432a4b97460fb9690c2070b496d2",
        "IPY_MODEL_eb5c4e2d21454caf85f56a335b818345",
        "IPY_MODEL_964c0ecd7d6a4da59ccfac7958291870"
       ],
       "layout": "IPY_MODEL_11ed0b0dddf248689e60289d0852fb7d"
      }
     },
     "5c30fdfe2c8743c2a1bbd637329ed421": {
      "model_module": "@jupyter-widgets/controls",
      "model_module_version": "1.1.0",
      "model_name": "DescriptionStyleModel",
      "state": {
       "description_width": ""
      }
     },
     "5c3e8310a89c4a23978c75c28b633289": {
      "model_module": "@jupyter-widgets/base",
      "model_module_version": "1.0.0",
      "model_name": "LayoutModel",
      "state": {}
     },
     "5c7fdd962e214b46b691b3bdc8f00188": {
      "model_module": "@jupyter-widgets/base",
      "model_module_version": "1.0.0",
      "model_name": "LayoutModel",
      "state": {}
     },
     "5c8a0bc3f45f46fd852bfe0fe182368f": {
      "model_module": "@jupyter-widgets/base",
      "model_module_version": "1.0.0",
      "model_name": "LayoutModel",
      "state": {}
     },
     "5c9cf90f8f42470eb311f2f5b2baad67": {
      "model_module": "@jupyter-widgets/output",
      "model_module_version": "1.0.0",
      "model_name": "OutputModel",
      "state": {
       "layout": "IPY_MODEL_f66a485ca04e401fbeafe55fb080aec6"
      }
     },
     "5cb85540dbce4808bb1e93db3aded854": {
      "model_module": "@jupyter-widgets/base",
      "model_module_version": "1.0.0",
      "model_name": "LayoutModel",
      "state": {}
     },
     "5d0c51d54fd040ffb291a39169cb8e00": {
      "model_module": "@jupyter-widgets/controls",
      "model_module_version": "1.1.0",
      "model_name": "ButtonStyleModel",
      "state": {
       "button_color": "black"
      }
     },
     "5da487dd78814b65897d5e1b25c98ab9": {
      "model_module": "@jupyter-widgets/controls",
      "model_module_version": "1.1.0",
      "model_name": "HTMLModel",
      "state": {
       "description": "Sample CSV:",
       "layout": "IPY_MODEL_611369a634e5442ab1d78b1f217cd644",
       "placeholder": "",
       "style": "IPY_MODEL_e7e72a269222441fa6864627de76b54b",
       "value": "<i><b>kereta</b><i>"
      }
     },
     "5e56a707f8e8412696e29216494e2e1d": {
      "model_module": "@jupyter-widgets/controls",
      "model_module_version": "1.1.0",
      "model_name": "HTMLModel",
      "state": {
       "layout": "IPY_MODEL_789406a1c8fe487699bc84b0fca9512e",
       "placeholder": "",
       "style": "IPY_MODEL_9ee76b07ff3e4bce998f4d43863b16aa",
       "value": "Apply <b>Data Mining<b> Method!!"
      }
     },
     "5e847b6fb13643d6b8cc90f0ac1272cf": {
      "model_module": "@jupyter-widgets/base",
      "model_module_version": "1.0.0",
      "model_name": "LayoutModel",
      "state": {}
     },
     "5ea533c9375e4fd4a2ffaad980883ae9": {
      "model_module": "@jupyter-widgets/base",
      "model_module_version": "1.0.0",
      "model_name": "LayoutModel",
      "state": {}
     },
     "5ea6f63f88374e0ab9fc1d988cda1e1f": {
      "model_module": "@jupyter-widgets/controls",
      "model_module_version": "1.1.0",
      "model_name": "DescriptionStyleModel",
      "state": {
       "description_width": ""
      }
     },
     "5eb97566ba104402b4ef6c46a8fd53fc": {
      "model_module": "@jupyter-widgets/base",
      "model_module_version": "1.0.0",
      "model_name": "LayoutModel",
      "state": {}
     },
     "5ef09f8e734441588d852a405502b6b6": {
      "model_module": "@jupyter-widgets/controls",
      "model_module_version": "1.1.0",
      "model_name": "SelectMultipleModel",
      "state": {
       "_options_labels": [
        "-",
        "Price",
        "year",
        "Mileage"
       ],
       "description": "Filter by",
       "index": [
        1,
        2,
        3
       ],
       "layout": "IPY_MODEL_135b4b17a81f4c5c87334ebca201bf1a",
       "rows": 5,
       "style": "IPY_MODEL_1b7f0a1d6a5145499df57781efa59081"
      }
     },
     "5f3a11e5903a472fa96ef55eefa1293c": {
      "model_module": "@jupyter-widgets/controls",
      "model_module_version": "1.1.0",
      "model_name": "ButtonModel",
      "state": {
       "description": "Click Me",
       "icon": "check",
       "layout": "IPY_MODEL_ec415747ab7f4909ab6ebbf1df132197",
       "style": "IPY_MODEL_57d2796dc8a34bae9033108c4324472e",
       "tooltip": "Click me"
      }
     },
     "5f553fc6d7e8475ab72773e6b9f585eb": {
      "model_module": "@jupyter-widgets/base",
      "model_module_version": "1.0.0",
      "model_name": "LayoutModel",
      "state": {}
     },
     "6030f464f9684962be3729ea296484eb": {
      "model_module": "@jupyter-widgets/controls",
      "model_module_version": "1.1.0",
      "model_name": "DescriptionStyleModel",
      "state": {
       "description_width": ""
      }
     },
     "60571707887141a6a17edf1919d36a5a": {
      "model_module": "@jupyter-widgets/controls",
      "model_module_version": "1.1.0",
      "model_name": "HTMLModel",
      "state": {
       "description": "Sample CSV:",
       "layout": "IPY_MODEL_6b76785e6f394f47b1c9748e44f85878",
       "placeholder": "",
       "style": "IPY_MODEL_aa984f7983744fa4b8fca94eb8f6dfbf",
       "value": "<i><b>kereta</b><i>"
      }
     },
     "606f537f98a64fa7a5473b5228b100d3": {
      "model_module": "@jupyter-widgets/base",
      "model_module_version": "1.0.0",
      "model_name": "LayoutModel",
      "state": {}
     },
     "608fd62f85404765b13e5fccc1297058": {
      "model_module": "@jupyter-widgets/base",
      "model_module_version": "1.0.0",
      "model_name": "LayoutModel",
      "state": {}
     },
     "60e4b0e600134003b21ceb68ae110b3c": {
      "model_module": "@jupyter-widgets/base",
      "model_module_version": "1.0.0",
      "model_name": "LayoutModel",
      "state": {}
     },
     "611369a634e5442ab1d78b1f217cd644": {
      "model_module": "@jupyter-widgets/base",
      "model_module_version": "1.0.0",
      "model_name": "LayoutModel",
      "state": {}
     },
     "612613670bc547f4a716106e1cca4f47": {
      "model_module": "@jupyter-widgets/base",
      "model_module_version": "1.0.0",
      "model_name": "LayoutModel",
      "state": {}
     },
     "6234813ad6d9426d9550736b1b919854": {
      "model_module": "@jupyter-widgets/controls",
      "model_module_version": "1.1.0",
      "model_name": "DescriptionStyleModel",
      "state": {
       "description_width": ""
      }
     },
     "62680191192a49138b251b2882baf95d": {
      "model_module": "@jupyter-widgets/controls",
      "model_module_version": "1.1.0",
      "model_name": "HTMLModel",
      "state": {
       "layout": "IPY_MODEL_5e847b6fb13643d6b8cc90f0ac1272cf",
       "placeholder": "",
       "style": "IPY_MODEL_65ade0d2789f40c88b5a6664f0c736df",
       "value": "<b>Click to view Potential Scammers!!<b>"
      }
     },
     "62dd8514c56645feb9b8157688908837": {
      "model_module": "@jupyter-widgets/base",
      "model_module_version": "1.0.0",
      "model_name": "LayoutModel",
      "state": {}
     },
     "633c84a647ed4c76a4a46501d3cb8f21": {
      "model_module": "@jupyter-widgets/base",
      "model_module_version": "1.0.0",
      "model_name": "LayoutModel",
      "state": {}
     },
     "634a67daa2544b9fa2365e6435f711a7": {
      "model_module": "@jupyter-widgets/controls",
      "model_module_version": "1.1.0",
      "model_name": "ButtonStyleModel",
      "state": {
       "button_color": "orange"
      }
     },
     "640d8d37fff0484090663811c22acf6f": {
      "model_module": "@jupyter-widgets/controls",
      "model_module_version": "1.1.0",
      "model_name": "HTMLModel",
      "state": {
       "layout": "IPY_MODEL_508a46ca779c4b4ea2487d2a7a4ee4cd",
       "placeholder": "",
       "style": "IPY_MODEL_794babae85b04f84918e4387aa7cbfa4",
       "value": "<b>Click to view Potential Scammers!!<b>"
      }
     },
     "643562abfbc248d19716f71470926abe": {
      "model_module": "@jupyter-widgets/controls",
      "model_module_version": "1.1.0",
      "model_name": "HTMLModel",
      "state": {
       "description": "Sample:",
       "layout": "IPY_MODEL_78136c34a1b34bf1a987431bb46bb6c6",
       "placeholder": "",
       "style": "IPY_MODEL_274554fe9d4840dda15ba24dc25b49c0",
       "value": "<i><b>C:\\Users\\LENOVO\\Documents</b><i>"
      }
     },
     "643dc1cb471c406cba7ff55ed6bdf407": {
      "model_module": "@jupyter-widgets/base",
      "model_module_version": "1.0.0",
      "model_name": "LayoutModel",
      "state": {}
     },
     "6488abedbed04f04ba371d41ee4b3b56": {
      "model_module": "@jupyter-widgets/controls",
      "model_module_version": "1.1.0",
      "model_name": "VBoxModel",
      "state": {
       "children": [
        "IPY_MODEL_f4bcad481eaa4393991f4eb0e90b715e",
        "IPY_MODEL_e83c2becff8c4814afd182982100d002"
       ],
       "layout": "IPY_MODEL_0d10681c89e447abbaeb755f219986ba"
      }
     },
     "6489bb46d2ac46e19c51c149d5c1dddc": {
      "model_module": "@jupyter-widgets/base",
      "model_module_version": "1.0.0",
      "model_name": "LayoutModel",
      "state": {}
     },
     "64fdbd88205c4b8d82b767311e43609a": {
      "model_module": "@jupyter-widgets/controls",
      "model_module_version": "1.1.0",
      "model_name": "DropdownModel",
      "state": {
       "_options_labels": [
        "1",
        "2",
        "3"
       ],
       "description": "Number:",
       "index": 2,
       "layout": "IPY_MODEL_1f59adb5c1814c76b05069848982b4cc",
       "style": "IPY_MODEL_b6294524e98545f2a3092ac9b03cc4f7"
      }
     },
     "6514f4e9d41f4eb48fedde71758daf0b": {
      "model_module": "@jupyter-widgets/base",
      "model_module_version": "1.0.0",
      "model_name": "LayoutModel",
      "state": {}
     },
     "656640e192554550860cd60bfc5fc3b8": {
      "model_module": "@jupyter-widgets/base",
      "model_module_version": "1.0.0",
      "model_name": "LayoutModel",
      "state": {}
     },
     "65a176af312740e5acafb6049b43c494": {
      "model_module": "@jupyter-widgets/controls",
      "model_module_version": "1.1.0",
      "model_name": "ToggleButtonsModel",
      "state": {
       "_options_labels": [
        "Head",
        "Random",
        "Sample"
       ],
       "button_style": "",
       "description": "View Method:",
       "icons": [],
       "index": 0,
       "layout": "IPY_MODEL_8643cc37b5e342f880ed7d216ad979db",
       "style": "IPY_MODEL_73fc9fa7d0a843279d45cb8530f50d4f",
       "tooltips": [
        "Description of slow",
        "Description of regular",
        "Description of fast"
       ]
      }
     },
     "65ade0d2789f40c88b5a6664f0c736df": {
      "model_module": "@jupyter-widgets/controls",
      "model_module_version": "1.1.0",
      "model_name": "DescriptionStyleModel",
      "state": {
       "description_width": ""
      }
     },
     "65b5b2959ffb44e48c6e9d841aa90fda": {
      "model_module": "@jupyter-widgets/controls",
      "model_module_version": "1.1.0",
      "model_name": "HBoxModel",
      "state": {
       "children": [
        "IPY_MODEL_7f48bb255da84ce59e252edf0a7b6f08",
        "IPY_MODEL_5824cb8c0f534c1b88689176c33a08b3"
       ],
       "layout": "IPY_MODEL_026bf585b05d4860b3cc1f2e1263570b"
      }
     },
     "661ab29ede1945cf8af898be1eed654e": {
      "model_module": "@jupyter-widgets/controls",
      "model_module_version": "1.1.0",
      "model_name": "AccordionModel",
      "state": {
       "_titles": {
        "0": "Upload",
        "1": "View"
       },
       "children": [
        "IPY_MODEL_da5d87357f1e49d48ac1a7284fb106c6",
        "IPY_MODEL_06764c74d0fc4d9bb74f6786e6297cb6"
       ],
       "layout": "IPY_MODEL_a3175239c0d8456191894b8bfcae89b6"
      }
     },
     "663082cce2744c25ae2ebebf113a4c63": {
      "model_module": "@jupyter-widgets/base",
      "model_module_version": "1.0.0",
      "model_name": "LayoutModel",
      "state": {}
     },
     "66e6e41495514295a1f33809c9a2f11c": {
      "model_module": "@jupyter-widgets/controls",
      "model_module_version": "1.1.0",
      "model_name": "TabModel",
      "state": {
       "_titles": {
        "0": "0. Extaction",
        "1": "1. Data",
        "2": "2. Evaluation"
       },
       "children": [
        "IPY_MODEL_c1aed1dbd974447390e3105e74d28fa1",
        "IPY_MODEL_d582e61083084dedbad12beaf8ce0014",
        "IPY_MODEL_fc1e7c997c12448d936f0dacc5166473"
       ],
       "layout": "IPY_MODEL_ca0713e0397d4380b5bf31e63b5f6993",
       "selected_index": 2
      }
     },
     "67305a83c53a42ef96e31b4f4991ee9b": {
      "model_module": "@jupyter-widgets/controls",
      "model_module_version": "1.1.0",
      "model_name": "ButtonModel",
      "state": {
       "description": "Potential Scams!!",
       "icon": "check",
       "layout": "IPY_MODEL_ddb7736d09204ae8b9bf6be194381ca3",
       "style": "IPY_MODEL_365b2e0cb48f4c97b0573ea970f86472",
       "tooltip": "Click me"
      }
     },
     "6773e9b49e414035a0eb1c09e88bfd94": {
      "model_module": "@jupyter-widgets/base",
      "model_module_version": "1.0.0",
      "model_name": "LayoutModel",
      "state": {}
     },
     "677e7f78593f456c852da8874c91857d": {
      "model_module": "@jupyter-widgets/base",
      "model_module_version": "1.0.0",
      "model_name": "LayoutModel",
      "state": {}
     },
     "67e3b85cb6c24485a3679d37211a8fa5": {
      "model_module": "@jupyter-widgets/controls",
      "model_module_version": "1.1.0",
      "model_name": "ButtonStyleModel",
      "state": {}
     },
     "67f8d648b0944420b4313818267fb029": {
      "model_module": "@jupyter-widgets/base",
      "model_module_version": "1.0.0",
      "model_name": "LayoutModel",
      "state": {}
     },
     "6959650360084fa9a1d8858ef4ee72c0": {
      "model_module": "@jupyter-widgets/base",
      "model_module_version": "1.0.0",
      "model_name": "LayoutModel",
      "state": {}
     },
     "69bd642acf994561b4d594d060fec8ee": {
      "model_module": "@jupyter-widgets/base",
      "model_module_version": "1.0.0",
      "model_name": "LayoutModel",
      "state": {}
     },
     "69c004833f2148c3bea2944dace91e1b": {
      "model_module": "@jupyter-widgets/controls",
      "model_module_version": "1.1.0",
      "model_name": "DescriptionStyleModel",
      "state": {
       "description_width": ""
      }
     },
     "6a0c69bac42941b4b8b3e9055227e715": {
      "model_module": "@jupyter-widgets/base",
      "model_module_version": "1.0.0",
      "model_name": "LayoutModel",
      "state": {}
     },
     "6a684ba1b11e4b8e8330c1cf3ad8b5dd": {
      "model_module": "@jupyter-widgets/controls",
      "model_module_version": "1.1.0",
      "model_name": "DescriptionStyleModel",
      "state": {
       "description_width": ""
      }
     },
     "6a79cab43a054cf798bc7acc86b94521": {
      "model_module": "@jupyter-widgets/controls",
      "model_module_version": "1.1.0",
      "model_name": "AccordionModel",
      "state": {
       "_titles": {
        "0": "Method",
        "1": "Analysis"
       },
       "children": [
        "IPY_MODEL_3459791f347545adbf9d3c384d29a40c",
        "IPY_MODEL_f3e256df2a9048be8e5045049c85af1d"
       ],
       "layout": "IPY_MODEL_24e12410406d4bb597de4a2a08ba4784",
       "selected_index": 1
      }
     },
     "6ab396ffcfaf4ade83637c64f3e66001": {
      "model_module": "@jupyter-widgets/controls",
      "model_module_version": "1.1.0",
      "model_name": "DescriptionStyleModel",
      "state": {
       "description_width": ""
      }
     },
     "6b2db95f65314072885e8a54c94a3983": {
      "model_module": "@jupyter-widgets/base",
      "model_module_version": "1.0.0",
      "model_name": "LayoutModel",
      "state": {
       "width": "40%"
      }
     },
     "6b76785e6f394f47b1c9748e44f85878": {
      "model_module": "@jupyter-widgets/base",
      "model_module_version": "1.0.0",
      "model_name": "LayoutModel",
      "state": {}
     },
     "6b94b5a7329644b18adaae812fbc842c": {
      "model_module": "@jupyter-widgets/base",
      "model_module_version": "1.0.0",
      "model_name": "LayoutModel",
      "state": {}
     },
     "6ca2164e821a48a2b3db63fcac478a2a": {
      "model_module": "@jupyter-widgets/controls",
      "model_module_version": "1.1.0",
      "model_name": "DescriptionStyleModel",
      "state": {
       "description_width": ""
      }
     },
     "6cd8579ad1fe43b495dea8265d66f519": {
      "model_module": "@jupyter-widgets/base",
      "model_module_version": "1.0.0",
      "model_name": "LayoutModel",
      "state": {}
     },
     "6cd9410e09f6431abfa8bd8a642c3b6d": {
      "model_module": "@jupyter-widgets/controls",
      "model_module_version": "1.1.0",
      "model_name": "ButtonStyleModel",
      "state": {}
     },
     "6cdffd14dd2e45b399aced31d744a7ec": {
      "model_module": "@jupyter-widgets/base",
      "model_module_version": "1.0.0",
      "model_name": "LayoutModel",
      "state": {}
     },
     "6d172832e173423fb5be660c3c25af58": {
      "model_module": "@jupyter-widgets/controls",
      "model_module_version": "1.1.0",
      "model_name": "DescriptionStyleModel",
      "state": {
       "description_width": ""
      }
     },
     "6d29524ba45340d28f9690f04ef60c72": {
      "model_module": "@jupyter-widgets/controls",
      "model_module_version": "1.1.0",
      "model_name": "ToggleButtonsStyleModel",
      "state": {
       "button_width": "",
       "description_width": ""
      }
     },
     "6d30afcf0d304716bada29ee0fbd8cd0": {
      "model_module": "@jupyter-widgets/base",
      "model_module_version": "1.0.0",
      "model_name": "LayoutModel",
      "state": {}
     },
     "6d44c4fdabbf4b56aff32f854be98e1e": {
      "model_module": "@jupyter-widgets/controls",
      "model_module_version": "1.1.0",
      "model_name": "TabModel",
      "state": {
       "_titles": {
        "0": "1. Extaction",
        "1": "2. Data",
        "2": "3. Evaluation"
       },
       "children": [
        "IPY_MODEL_4aa93e386dc349bba5083166782da765",
        "IPY_MODEL_e42954b004b7468a8fb8bf5184fb717f",
        "IPY_MODEL_f69a42dc34704225b935caf5b9594a07"
       ],
       "layout": "IPY_MODEL_a237cac366c747a89784370fc5f2726d"
      }
     },
     "6db44f301369489bb7f35099a1de2148": {
      "model_module": "@jupyter-widgets/base",
      "model_module_version": "1.0.0",
      "model_name": "LayoutModel",
      "state": {}
     },
     "6dee5288b9064f85b228551c0be6c0c8": {
      "model_module": "@jupyter-widgets/base",
      "model_module_version": "1.0.0",
      "model_name": "LayoutModel",
      "state": {}
     },
     "6e2426c5b1054c08afa78505c4d64f89": {
      "model_module": "@jupyter-widgets/controls",
      "model_module_version": "1.1.0",
      "model_name": "DescriptionStyleModel",
      "state": {
       "description_width": ""
      }
     },
     "6e24bd007e54436a8cb09a7fa3a66dad": {
      "model_module": "@jupyter-widgets/controls",
      "model_module_version": "1.1.0",
      "model_name": "ButtonModel",
      "state": {
       "description": "Click Me!!",
       "icon": "check",
       "layout": "IPY_MODEL_00ab286a59f446f19fa4481933da0ff5",
       "style": "IPY_MODEL_52ef3500068a4788bd71257b862320fa",
       "tooltip": "Click me"
      }
     },
     "6e274946859b41bf9d680e2193bf3644": {
      "model_module": "@jupyter-widgets/base",
      "model_module_version": "1.0.0",
      "model_name": "LayoutModel",
      "state": {}
     },
     "6e47a7d8702949219b036079f64b3640": {
      "model_module": "@jupyter-widgets/base",
      "model_module_version": "1.0.0",
      "model_name": "LayoutModel",
      "state": {}
     },
     "6eb5fd35fa414f23a9604aaef12aea9b": {
      "model_module": "@jupyter-widgets/base",
      "model_module_version": "1.0.0",
      "model_name": "LayoutModel",
      "state": {}
     },
     "6ece7fe3d07c44508192f84261b89f2f": {
      "model_module": "@jupyter-widgets/controls",
      "model_module_version": "1.1.0",
      "model_name": "VBoxModel",
      "state": {
       "children": [
        "IPY_MODEL_e8f643b5e84b4805a08b4ab12d1e9d23",
        "IPY_MODEL_306d0b5422474dfd816ee34184256c36"
       ],
       "layout": "IPY_MODEL_a15d535b867f4a9abdb15ab2324b1964"
      }
     },
     "6f4ba7ee0dbe410bb8614d5766818351": {
      "model_module": "@jupyter-widgets/controls",
      "model_module_version": "1.1.0",
      "model_name": "ToggleButtonsModel",
      "state": {
       "_options_labels": [
        "Head",
        "Random",
        "Sample"
       ],
       "button_style": "",
       "description": "View Method:",
       "icons": [
        "check",
        "check",
        "check"
       ],
       "index": 2,
       "layout": "IPY_MODEL_eca60ededb14473cbd1e37bb5f1ff250",
       "style": "IPY_MODEL_0cb57cf548c84c32abd30fe2419f5d92",
       "tooltips": [
        "Description of slow",
        "Description of regular",
        "Description of fast"
       ]
      }
     },
     "6f53eaac35b64f2a83a0c30110ad467e": {
      "model_module": "@jupyter-widgets/base",
      "model_module_version": "1.0.0",
      "model_name": "LayoutModel",
      "state": {}
     },
     "6fbe9c4761d54078ba291e138b64fb6c": {
      "model_module": "@jupyter-widgets/controls",
      "model_module_version": "1.1.0",
      "model_name": "DescriptionStyleModel",
      "state": {
       "description_width": ""
      }
     },
     "7000b7fb37124fcc8162b818090cc781": {
      "model_module": "@jupyter-widgets/base",
      "model_module_version": "1.0.0",
      "model_name": "LayoutModel",
      "state": {}
     },
     "704959aeeb97493bb2e3ec2bffb70d98": {
      "model_module": "@jupyter-widgets/controls",
      "model_module_version": "1.1.0",
      "model_name": "DescriptionStyleModel",
      "state": {
       "description_width": ""
      }
     },
     "7067aa02e1c741cb81081b5b4d6a7d3c": {
      "model_module": "@jupyter-widgets/base",
      "model_module_version": "1.0.0",
      "model_name": "LayoutModel",
      "state": {}
     },
     "706b013bcd9348faacda836354920ff4": {
      "model_module": "@jupyter-widgets/controls",
      "model_module_version": "1.1.0",
      "model_name": "ButtonStyleModel",
      "state": {
       "button_color": "salmon"
      }
     },
     "70705bf3bc964084ab14730e50bc040b": {
      "model_module": "@jupyter-widgets/controls",
      "model_module_version": "1.1.0",
      "model_name": "TextModel",
      "state": {
       "description": "P4",
       "layout": "IPY_MODEL_c48f116147364a209a290fd3f6510a8f",
       "style": "IPY_MODEL_bda66ee46d524d5babf019f84c3dc3e5"
      }
     },
     "70cfd95a68d64e4882dd6aa09661ff13": {
      "model_module": "@jupyter-widgets/controls",
      "model_module_version": "1.1.0",
      "model_name": "TabModel",
      "state": {
       "_titles": {
        "0": "Extaction",
        "1": "Data"
       },
       "children": [
        "IPY_MODEL_c1aed1dbd974447390e3105e74d28fa1",
        "IPY_MODEL_d582e61083084dedbad12beaf8ce0014"
       ],
       "layout": "IPY_MODEL_fdeaee2d50654c399b7fd66e9c83743e",
       "selected_index": 1
      }
     },
     "70fdea4024b94bbbb93b9df31b9d7156": {
      "model_module": "@jupyter-widgets/controls",
      "model_module_version": "1.1.0",
      "model_name": "HTMLModel",
      "state": {
       "layout": "IPY_MODEL_f2461ff1740e4f489b2d7cdc03885fa3",
       "placeholder": "",
       "style": "IPY_MODEL_fef375eb12ca4bc7b3aab36e755f5c62",
       "value": "<b>Choose to view and compare by attributes<b>"
      }
     },
     "7101242dca7b4ab1ab00a865a37ae316": {
      "model_module": "@jupyter-widgets/controls",
      "model_module_version": "1.1.0",
      "model_name": "ButtonModel",
      "state": {
       "description": "PCA!",
       "icon": "check",
       "layout": "IPY_MODEL_7af166b879134253adb416c893e0f5b8",
       "style": "IPY_MODEL_5230f4c7786748deb514affff7fcd6f0",
       "tooltip": "Click me"
      }
     },
     "71749f1dd77a4d5fbe3718110bc8b631": {
      "model_module": "@jupyter-widgets/controls",
      "model_module_version": "1.1.0",
      "model_name": "DropdownModel",
      "state": {
       "_options_labels": [
        "5",
        "6",
        "7",
        "8",
        "9",
        "10"
       ],
       "description": "Tail:",
       "index": 0,
       "layout": "IPY_MODEL_5f553fc6d7e8475ab72773e6b9f585eb",
       "style": "IPY_MODEL_578c08428b2d4446b952df42c3efc4d7"
      }
     },
     "71832e9d9e444b6a914f67fa58b0f049": {
      "model_module": "@jupyter-widgets/controls",
      "model_module_version": "1.1.0",
      "model_name": "VBoxModel",
      "state": {
       "children": [
        "IPY_MODEL_fe6a81a00ef84074977eeb0ce3482b5e",
        "IPY_MODEL_0e41ab2c9f2d4bd5a35b91ed30d842eb"
       ],
       "layout": "IPY_MODEL_cb6837c0d4794f9f95c87a95b4562023"
      }
     },
     "7215a81d12c547d795845bc22f51ab31": {
      "model_module": "@jupyter-widgets/base",
      "model_module_version": "1.0.0",
      "model_name": "LayoutModel",
      "state": {}
     },
     "72349e0bcd474b37bde9d1f03a82ddee": {
      "model_module": "@jupyter-widgets/controls",
      "model_module_version": "1.1.0",
      "model_name": "DropdownModel",
      "state": {
       "_options_labels": [
        "-",
        "5",
        "6",
        "7",
        "8",
        "9",
        "10"
       ],
       "description": "Random:",
       "index": 0,
       "layout": "IPY_MODEL_141bd62bf973486fac9191f110b67e88",
       "style": "IPY_MODEL_20b7c44cb66445b596a4c3e0c0806b80"
      }
     },
     "727a1af88b6745719a8fd8a9fbf24e6e": {
      "model_module": "@jupyter-widgets/controls",
      "model_module_version": "1.1.0",
      "model_name": "DropdownModel",
      "state": {
       "_options_labels": [
        "-",
        "5",
        "6",
        "7",
        "8",
        "9",
        "10"
       ],
       "description": "Tail:",
       "index": 0,
       "layout": "IPY_MODEL_811856e03e244ddc8492f7a2b41d17ee",
       "style": "IPY_MODEL_1ce6548ed6c34a5bbd459b47089de0c5"
      }
     },
     "727f493dd89d40c4b2db9485ed818b50": {
      "model_module": "@jupyter-widgets/base",
      "model_module_version": "1.0.0",
      "model_name": "LayoutModel",
      "state": {}
     },
     "72a4ef84819143e3afa35382a5a8fdad": {
      "model_module": "@jupyter-widgets/controls",
      "model_module_version": "1.1.0",
      "model_name": "DescriptionStyleModel",
      "state": {
       "description_width": ""
      }
     },
     "72c967a64c7b446ba2c3c637d41deeb7": {
      "model_module": "@jupyter-widgets/controls",
      "model_module_version": "1.1.0",
      "model_name": "VBoxModel",
      "state": {
       "children": [
        "IPY_MODEL_a0a0c0a5cc8849e9825d954020026527",
        "IPY_MODEL_78c7396bbbd0412392421dbce1d3534b"
       ],
       "layout": "IPY_MODEL_612613670bc547f4a716106e1cca4f47"
      }
     },
     "734b37f807774734b5a72816d3c219b6": {
      "model_module": "@jupyter-widgets/base",
      "model_module_version": "1.0.0",
      "model_name": "LayoutModel",
      "state": {}
     },
     "73617c413d6d48b39fb903c76f553f08": {
      "model_module": "@jupyter-widgets/controls",
      "model_module_version": "1.1.0",
      "model_name": "DescriptionStyleModel",
      "state": {
       "description_width": ""
      }
     },
     "73e004678ce94f26bed5082d98c7fdc0": {
      "model_module": "@jupyter-widgets/controls",
      "model_module_version": "1.1.0",
      "model_name": "VBoxModel",
      "state": {
       "children": [
        "IPY_MODEL_2a4527789f434a1dbb6f429b8fba6157",
        "IPY_MODEL_0ee66fb90a3a4103aefc427258f019bd"
       ],
       "layout": "IPY_MODEL_6cd8579ad1fe43b495dea8265d66f519"
      }
     },
     "73fc9fa7d0a843279d45cb8530f50d4f": {
      "model_module": "@jupyter-widgets/controls",
      "model_module_version": "1.1.0",
      "model_name": "ToggleButtonsStyleModel",
      "state": {
       "button_width": "",
       "description_width": ""
      }
     },
     "7493b78af798428cbb5ba18c8ae2de46": {
      "model_module": "@jupyter-widgets/controls",
      "model_module_version": "1.1.0",
      "model_name": "TextModel",
      "state": {
       "description": "Folder Path:",
       "layout": "IPY_MODEL_355cdacd05b44b5994203bb11ce8e6c7",
       "placeholder": "Upload cleaned dataset",
       "style": "IPY_MODEL_19ea8e1d93294535be11c7a5f581648d"
      }
     },
     "74f15019a00a4338832242dd0459b226": {
      "model_module": "@jupyter-widgets/controls",
      "model_module_version": "1.1.0",
      "model_name": "VBoxModel",
      "state": {
       "children": [
        "IPY_MODEL_951ebf273eae46d9bb474826a52c552b",
        "IPY_MODEL_5027c9dec59449ad81f792883e93dceb"
       ],
       "layout": "IPY_MODEL_df33d4e885ee458586d5071ae8f8f300"
      }
     },
     "74f656a1e974496e86d2af3e71dae701": {
      "model_module": "@jupyter-widgets/output",
      "model_module_version": "1.0.0",
      "model_name": "OutputModel",
      "state": {
       "layout": "IPY_MODEL_cbff9fffeeeb4bd4aef2c21e1bbfcdf1",
       "outputs": [
        {
         "name": "stdout",
         "output_type": "stream",
         "text": "Me Scrapped!\n"
        }
       ]
      }
     },
     "74f7cfc2feae472fafd6665415d1f471": {
      "model_module": "@jupyter-widgets/controls",
      "model_module_version": "1.1.0",
      "model_name": "ButtonStyleModel",
      "state": {}
     },
     "7500865d96ca4f1dbbe71bbe3f3ec2a7": {
      "model_module": "@jupyter-widgets/controls",
      "model_module_version": "1.1.0",
      "model_name": "TextModel",
      "state": {
       "description": "Folder Path:",
       "layout": "IPY_MODEL_6f53eaac35b64f2a83a0c30110ad467e",
       "placeholder": "Save Scraped Dataset",
       "style": "IPY_MODEL_f225e0cf3512455dbab56844e14d007d"
      }
     },
     "75287c3b79b34ebbbd3be6cba1675ba5": {
      "model_module": "@jupyter-widgets/controls",
      "model_module_version": "1.1.0",
      "model_name": "DropdownModel",
      "state": {
       "_options_labels": [
        "-",
        "5",
        "6",
        "7",
        "8",
        "9",
        "10"
       ],
       "description": "Head:",
       "index": 0,
       "layout": "IPY_MODEL_1b8a307ce0424be39e655d9a9cf6be93",
       "style": "IPY_MODEL_5889818fc8d44dfb91023d8b1b07ba98"
      }
     },
     "756b08578b9f4f7e8a49db76a9b0ac1a": {
      "model_module": "@jupyter-widgets/base",
      "model_module_version": "1.0.0",
      "model_name": "LayoutModel",
      "state": {}
     },
     "757a59a9f1de41eb8fc5c31c9ee76800": {
      "model_module": "@jupyter-widgets/base",
      "model_module_version": "1.0.0",
      "model_name": "LayoutModel",
      "state": {}
     },
     "759485bdf1484a8d8dfe741b32aba1a7": {
      "model_module": "@jupyter-widgets/controls",
      "model_module_version": "1.1.0",
      "model_name": "ToggleButtonsModel",
      "state": {
       "_options_labels": [
        "Head",
        "Random",
        "Sample"
       ],
       "button_style": "",
       "description": "View Method:",
       "icons": [],
       "index": 2,
       "layout": "IPY_MODEL_abe6357e447d4e2fb079b50954110637",
       "style": "IPY_MODEL_d315109becab47f7ab0fce4729bea98c",
       "tooltips": [
        "Description of slow",
        "Description of regular",
        "Description of fast"
       ]
      }
     },
     "759f2bcc4a814ed2abac61aecb33c469": {
      "model_module": "@jupyter-widgets/base",
      "model_module_version": "1.0.0",
      "model_name": "LayoutModel",
      "state": {}
     },
     "75b5e15819754ab3b3fd188883a48ac2": {
      "model_module": "@jupyter-widgets/base",
      "model_module_version": "1.0.0",
      "model_name": "LayoutModel",
      "state": {}
     },
     "75dc61c892c24398a0d6b02d7cb3668e": {
      "model_module": "@jupyter-widgets/controls",
      "model_module_version": "1.1.0",
      "model_name": "DescriptionStyleModel",
      "state": {
       "description_width": ""
      }
     },
     "75eae438faae490aaaa5780c72885036": {
      "model_module": "@jupyter-widgets/controls",
      "model_module_version": "1.1.0",
      "model_name": "ButtonModel",
      "state": {
       "description": "Scrap Me",
       "layout": "IPY_MODEL_44d04822d67949c0aecfbd624ba02908",
       "style": "IPY_MODEL_1c1ed7532e06473caff005e2e65d5d0f"
      }
     },
     "763affa9d0db47f09c94b6fff2b4e40f": {
      "model_module": "@jupyter-widgets/controls",
      "model_module_version": "1.1.0",
      "model_name": "VBoxModel",
      "state": {
       "children": [
        "IPY_MODEL_0a2dbd6458f8459dabb1c3e865a41085",
        "IPY_MODEL_a5e8043353e14456bbf36398f2f5a7b2"
       ],
       "layout": "IPY_MODEL_e4313c650e10489eb7a62a4d7308ee27"
      }
     },
     "766f3f4b481e43239646046b2136a1b1": {
      "model_module": "@jupyter-widgets/base",
      "model_module_version": "1.0.0",
      "model_name": "LayoutModel",
      "state": {}
     },
     "76bc8578377546659e6c9024b76f1808": {
      "model_module": "@jupyter-widgets/base",
      "model_module_version": "1.0.0",
      "model_name": "LayoutModel",
      "state": {}
     },
     "76d010e575454fb5883ff4ae7c235358": {
      "model_module": "@jupyter-widgets/base",
      "model_module_version": "1.0.0",
      "model_name": "LayoutModel",
      "state": {}
     },
     "7752568ceb9243fab544b225e660af11": {
      "model_module": "@jupyter-widgets/controls",
      "model_module_version": "1.1.0",
      "model_name": "DescriptionStyleModel",
      "state": {
       "description_width": ""
      }
     },
     "7788e5416a0545da8a84acd6e3cbf5af": {
      "model_module": "@jupyter-widgets/controls",
      "model_module_version": "1.1.0",
      "model_name": "DescriptionStyleModel",
      "state": {
       "description_width": ""
      }
     },
     "77a051b1b7ff40efab0ce9a05cfd6345": {
      "model_module": "@jupyter-widgets/controls",
      "model_module_version": "1.1.0",
      "model_name": "VBoxModel",
      "state": {
       "children": [
        "IPY_MODEL_640d8d37fff0484090663811c22acf6f",
        "IPY_MODEL_dfd933b9c5234458861e026d4df8ff62"
       ],
       "layout": "IPY_MODEL_f4043f4230b64bc981573c394078188f"
      }
     },
     "77f109fae6c74eaebc4da2dda5b356fe": {
      "model_module": "@jupyter-widgets/controls",
      "model_module_version": "1.1.0",
      "model_name": "DescriptionStyleModel",
      "state": {
       "description_width": ""
      }
     },
     "780c58ce8eca42f498b199740d5a8c35": {
      "model_module": "@jupyter-widgets/base",
      "model_module_version": "1.0.0",
      "model_name": "LayoutModel",
      "state": {}
     },
     "78136c34a1b34bf1a987431bb46bb6c6": {
      "model_module": "@jupyter-widgets/base",
      "model_module_version": "1.0.0",
      "model_name": "LayoutModel",
      "state": {}
     },
     "7836d71b12464ea2a83d08d217713dcb": {
      "model_module": "@jupyter-widgets/base",
      "model_module_version": "1.0.0",
      "model_name": "LayoutModel",
      "state": {}
     },
     "787d4b8df67b449da9948e4d6ffb625d": {
      "model_module": "@jupyter-widgets/base",
      "model_module_version": "1.0.0",
      "model_name": "LayoutModel",
      "state": {}
     },
     "789406a1c8fe487699bc84b0fca9512e": {
      "model_module": "@jupyter-widgets/base",
      "model_module_version": "1.0.0",
      "model_name": "LayoutModel",
      "state": {}
     },
     "78a08110c723466a86a73fa77108af37": {
      "model_module": "@jupyter-widgets/controls",
      "model_module_version": "1.1.0",
      "model_name": "DescriptionStyleModel",
      "state": {
       "description_width": ""
      }
     },
     "78a7780dadd14bd09e9e4ca06d343ca7": {
      "model_module": "@jupyter-widgets/controls",
      "model_module_version": "1.1.0",
      "model_name": "DescriptionStyleModel",
      "state": {
       "description_width": ""
      }
     },
     "78c7396bbbd0412392421dbce1d3534b": {
      "model_module": "@jupyter-widgets/controls",
      "model_module_version": "1.1.0",
      "model_name": "ButtonModel",
      "state": {
       "description": "PCA!",
       "icon": "check",
       "layout": "IPY_MODEL_fb3b541217f344dd867b2a234f4bd1b9",
       "style": "IPY_MODEL_4c5f031e1739448e8e111996b00ab243",
       "tooltip": "Click me"
      }
     },
     "78db1ec0febc4bf6bab259bd38df3d3d": {
      "model_module": "@jupyter-widgets/base",
      "model_module_version": "1.0.0",
      "model_name": "LayoutModel",
      "state": {}
     },
     "794babae85b04f84918e4387aa7cbfa4": {
      "model_module": "@jupyter-widgets/controls",
      "model_module_version": "1.1.0",
      "model_name": "DescriptionStyleModel",
      "state": {
       "description_width": ""
      }
     },
     "7950c32f545f4928903567190c72cf2f": {
      "model_module": "@jupyter-widgets/base",
      "model_module_version": "1.0.0",
      "model_name": "LayoutModel",
      "state": {}
     },
     "79d3d57594934edd8fd172137c86e59d": {
      "model_module": "@jupyter-widgets/controls",
      "model_module_version": "1.1.0",
      "model_name": "HTMLModel",
      "state": {
       "layout": "IPY_MODEL_d9f37631a29a4d2ba66cedd99991215d",
       "placeholder": "",
       "style": "IPY_MODEL_ba3b65a9051249f78171ae0e71777155",
       "value": "<b>Choose how to view your data</b>"
      }
     },
     "79ee03d5934b40a880c5956e85265db7": {
      "model_module": "@jupyter-widgets/controls",
      "model_module_version": "1.1.0",
      "model_name": "ButtonModel",
      "state": {
       "description": "Scrap Me",
       "layout": "IPY_MODEL_89984f0a771e4386b75160a58099fd5e",
       "style": "IPY_MODEL_54f1b4588371419bb4be97cecf09b080"
      }
     },
     "79f474affbdb47d5b45fdf09837dcaed": {
      "model_module": "@jupyter-widgets/controls",
      "model_module_version": "1.1.0",
      "model_name": "VBoxModel",
      "state": {
       "children": [
        "IPY_MODEL_40665e10b81c41ee8f71187baf2e3315",
        "IPY_MODEL_1254efcc32ca484dadb555c803692b12"
       ],
       "layout": "IPY_MODEL_f28b88b4f70b494a9f276ee398b3374a"
      }
     },
     "7a659544e95043f18c6dee4e2e5c5c7e": {
      "model_module": "@jupyter-widgets/base",
      "model_module_version": "1.0.0",
      "model_name": "LayoutModel",
      "state": {}
     },
     "7af166b879134253adb416c893e0f5b8": {
      "model_module": "@jupyter-widgets/base",
      "model_module_version": "1.0.0",
      "model_name": "LayoutModel",
      "state": {}
     },
     "7b601b87c6424a8689c95195127a2bc6": {
      "model_module": "@jupyter-widgets/controls",
      "model_module_version": "1.1.0",
      "model_name": "AccordionModel",
      "state": {
       "_titles": {
        "0": "Source",
        "1": "Save",
        "2": "Scrap"
       },
       "children": [
        "IPY_MODEL_4e2b59ccd0c947d584c70e03f8f02771",
        "IPY_MODEL_b74141f1ed434d53af3780f02ebe0da6",
        "IPY_MODEL_8bc3175d64254a74a9684877edd9b087"
       ],
       "layout": "IPY_MODEL_26cc51a7ee5a4de59d30772034367716"
      }
     },
     "7b9afc68dd36423f924ff112fa55a2c2": {
      "model_module": "@jupyter-widgets/base",
      "model_module_version": "1.0.0",
      "model_name": "LayoutModel",
      "state": {}
     },
     "7b9cae2243d24b479ca9fc205bc48d9e": {
      "model_module": "@jupyter-widgets/controls",
      "model_module_version": "1.1.0",
      "model_name": "TextModel",
      "state": {
       "description": "Folder Path:",
       "layout": "IPY_MODEL_7de58381e52c4a2281cf21440d8e332a",
       "placeholder": "Upload dataset",
       "style": "IPY_MODEL_ab0ec69de24c4ec68ea5c4c772d0ff6a"
      }
     },
     "7bb623a4622242bcb17132c9b7b1977f": {
      "model_module": "@jupyter-widgets/controls",
      "model_module_version": "1.1.0",
      "model_name": "VBoxModel",
      "state": {
       "children": [
        "IPY_MODEL_1754555ca48f44b68eac6d647c93d8c2",
        "IPY_MODEL_2ce98f53ff934e2d94b43a684c6a16b4",
        "IPY_MODEL_60571707887141a6a17edf1919d36a5a",
        "IPY_MODEL_41d82b5e06e645bb9893ffefb305e604"
       ],
       "layout": "IPY_MODEL_285526a8d64443779afa8b76c9c8f18a"
      }
     },
     "7bd07574f3bd49b2a6c3c4a78f05f6d9": {
      "model_module": "@jupyter-widgets/controls",
      "model_module_version": "1.1.0",
      "model_name": "SelectMultipleModel",
      "state": {
       "_options_labels": [
        "Apples",
        "Oranges",
        "Pears"
       ],
       "description": "Fruits",
       "index": [
        1
       ],
       "layout": "IPY_MODEL_5644e9c67a4e41d4a6bbbfcaed83c816",
       "rows": 5,
       "style": "IPY_MODEL_11c298e780544dffb330a352f6fc5bef"
      }
     },
     "7bd7f1d7bcd04e95bc5fa623df37ed89": {
      "model_module": "@jupyter-widgets/controls",
      "model_module_version": "1.1.0",
      "model_name": "TextModel",
      "state": {
       "description": "CSV file:",
       "layout": "IPY_MODEL_17846b2ed1304a25b3e1fe1ef7ed8c91",
       "placeholder": "Name your scrap csv file",
       "style": "IPY_MODEL_f1879dd84baf4931844c45c075dfa4ee"
      }
     },
     "7bd8a2be408d4bb7bf2ad594427b6870": {
      "model_module": "@jupyter-widgets/controls",
      "model_module_version": "1.1.0",
      "model_name": "ButtonStyleModel",
      "state": {}
     },
     "7c1685e17807477086e9a7928a650b6b": {
      "model_module": "@jupyter-widgets/controls",
      "model_module_version": "1.1.0",
      "model_name": "HTMLModel",
      "state": {
       "description": "Sample Link:",
       "layout": "IPY_MODEL_ed4f99848eb64ac7b6eacc5d02a5c89d",
       "placeholder": "",
       "style": "IPY_MODEL_3f2b467832c14407a741fea5ca107274",
       "value": "<i><b>https://www.mudah.my/malaysia/cars-for-sale?o=1&q=&th=1</b><i>"
      }
     },
     "7dbe9e34b9584a56b870dcb357e22a82": {
      "model_module": "@jupyter-widgets/controls",
      "model_module_version": "1.1.0",
      "model_name": "VBoxModel",
      "state": {
       "children": [
        "IPY_MODEL_e8f643b5e84b4805a08b4ab12d1e9d23",
        "IPY_MODEL_d85cd7113be3440fbf3f15f5b35f0196"
       ],
       "layout": "IPY_MODEL_93a4cf52b72a451799c79123d3c4201a"
      }
     },
     "7de58381e52c4a2281cf21440d8e332a": {
      "model_module": "@jupyter-widgets/base",
      "model_module_version": "1.0.0",
      "model_name": "LayoutModel",
      "state": {}
     },
     "7e15522d5e014f0e97458b5f6b8d4a63": {
      "model_module": "@jupyter-widgets/base",
      "model_module_version": "1.0.0",
      "model_name": "LayoutModel",
      "state": {}
     },
     "7e26c7c6da9a4967bdeb04442e120ae4": {
      "model_module": "@jupyter-widgets/base",
      "model_module_version": "1.0.0",
      "model_name": "LayoutModel",
      "state": {}
     },
     "7ee5c28297a44ee986a1dbc289cc623d": {
      "model_module": "@jupyter-widgets/base",
      "model_module_version": "1.0.0",
      "model_name": "LayoutModel",
      "state": {}
     },
     "7f0191a18e52447580bd7568179d1b4e": {
      "model_module": "@jupyter-widgets/base",
      "model_module_version": "1.0.0",
      "model_name": "LayoutModel",
      "state": {}
     },
     "7f1b23f208604fbc986b0499b6f4f8db": {
      "model_module": "@jupyter-widgets/base",
      "model_module_version": "1.0.0",
      "model_name": "LayoutModel",
      "state": {}
     },
     "7f48bb255da84ce59e252edf0a7b6f08": {
      "model_module": "@jupyter-widgets/controls",
      "model_module_version": "1.1.0",
      "model_name": "ButtonModel",
      "state": {
       "description": "Boxplot",
       "icon": "check",
       "layout": "IPY_MODEL_596febe802874943824c5d186fb7a570",
       "style": "IPY_MODEL_1bd01e0220f14928a4fa87a3675afc60",
       "tooltip": "Click me"
      }
     },
     "80e98be060d842cb9fd224b36c61725b": {
      "model_module": "@jupyter-widgets/controls",
      "model_module_version": "1.1.0",
      "model_name": "DescriptionStyleModel",
      "state": {
       "description_width": ""
      }
     },
     "80fc08c3812243dcacdfd26231f62a22": {
      "model_module": "@jupyter-widgets/controls",
      "model_module_version": "1.1.0",
      "model_name": "DescriptionStyleModel",
      "state": {
       "description_width": ""
      }
     },
     "811856e03e244ddc8492f7a2b41d17ee": {
      "model_module": "@jupyter-widgets/base",
      "model_module_version": "1.0.0",
      "model_name": "LayoutModel",
      "state": {}
     },
     "8166a0bbb056476ea8a2d24d3afe6bb9": {
      "model_module": "@jupyter-widgets/controls",
      "model_module_version": "1.1.0",
      "model_name": "AccordionModel",
      "state": {
       "_titles": {
        "0": "Source",
        "1": "Save",
        "2": "Scrap"
       },
       "children": [
        "IPY_MODEL_eb517722935541c2b5374f3df108e975",
        "IPY_MODEL_06959940d6944b708ad96424920f87ca",
        "IPY_MODEL_2e91ae180ee74eb48fd369fafd5bc7f4"
       ],
       "layout": "IPY_MODEL_4a5ee65fa4d54015a28d09a5cea392af",
       "selected_index": 2
      }
     },
     "818174caa3a543ab826c503608883279": {
      "model_module": "@jupyter-widgets/controls",
      "model_module_version": "1.1.0",
      "model_name": "DescriptionStyleModel",
      "state": {
       "description_width": ""
      }
     },
     "8199381d33aa4f0b9b0b8484f7840b95": {
      "model_module": "@jupyter-widgets/controls",
      "model_module_version": "1.1.0",
      "model_name": "VBoxModel",
      "state": {
       "children": [
        "IPY_MODEL_8d177eee05dc478f92c66698d8612381",
        "IPY_MODEL_bc07d51c7bd049b6b214422ef3b7ce70",
        "IPY_MODEL_e767bb4486b149b3a8c4721029779486",
        "IPY_MODEL_a56078b5fb524adba1559811a4f8be64"
       ],
       "layout": "IPY_MODEL_b2959d14829b4d19aedaebcae92de2fd"
      }
     },
     "81a1d24e817e4c4fa2853c7cb3f2cabc": {
      "model_module": "@jupyter-widgets/controls",
      "model_module_version": "1.1.0",
      "model_name": "DropdownModel",
      "state": {
       "_options_labels": [
        "-",
        "5",
        "6",
        "7",
        "8",
        "9",
        "10"
       ],
       "description": "Tail:",
       "index": 0,
       "layout": "IPY_MODEL_1cae5d95f7c7417a8fc26a7a03f1bf8b",
       "style": "IPY_MODEL_4b8b870bd33d4d7eb2062f4b82ac9fdd"
      }
     },
     "81b53a9f23644d2a8a7eaa38d66b6785": {
      "model_module": "@jupyter-widgets/base",
      "model_module_version": "1.0.0",
      "model_name": "LayoutModel",
      "state": {}
     },
     "823f006e17cc4828af49aaf5b365f0d9": {
      "model_module": "@jupyter-widgets/controls",
      "model_module_version": "1.1.0",
      "model_name": "SelectMultipleModel",
      "state": {
       "_options_labels": [
        "Price",
        "Year",
        "Mileage"
       ],
       "description": "Filter by",
       "index": [],
       "layout": "IPY_MODEL_d9b1744adb05487ca4faa52381132c79",
       "rows": 3,
       "style": "IPY_MODEL_ec2190ae20ea4a1eb6511a360bd3c59d"
      }
     },
     "82649e04403a44db851c224b2f48b999": {
      "model_module": "@jupyter-widgets/controls",
      "model_module_version": "1.1.0",
      "model_name": "ToggleButtonsModel",
      "state": {
       "_options_labels": [
        "Head",
        "Random",
        "Sample"
       ],
       "button_style": "",
       "description": "View Method:",
       "icons": [],
       "index": 0,
       "layout": "IPY_MODEL_734b37f807774734b5a72816d3c219b6",
       "style": "IPY_MODEL_c38d97f4c11d44dc970e0c15d08ab5f8",
       "tooltips": [
        "Description of slow",
        "Description of regular",
        "Description of fast"
       ]
      }
     },
     "82740905d0884af5814b4de1b21adeac": {
      "model_module": "@jupyter-widgets/base",
      "model_module_version": "1.0.0",
      "model_name": "LayoutModel",
      "state": {}
     },
     "829898b6bdf94059a03431d87a38b928": {
      "model_module": "@jupyter-widgets/controls",
      "model_module_version": "1.1.0",
      "model_name": "DescriptionStyleModel",
      "state": {
       "description_width": ""
      }
     },
     "830f1d6e4fd24bd6b4fd7e325e3d38bc": {
      "model_module": "@jupyter-widgets/base",
      "model_module_version": "1.0.0",
      "model_name": "LayoutModel",
      "state": {}
     },
     "835a523124004e6ab511a6b213733f5a": {
      "model_module": "@jupyter-widgets/base",
      "model_module_version": "1.0.0",
      "model_name": "LayoutModel",
      "state": {}
     },
     "839f2b3664ae4660acd7a11d47418d69": {
      "model_module": "@jupyter-widgets/controls",
      "model_module_version": "1.1.0",
      "model_name": "TextModel",
      "state": {
       "description": "Folder Path:",
       "layout": "IPY_MODEL_592b9c7e654c4d1283d965679a22c206",
       "placeholder": "Upload cleaned dataset",
       "style": "IPY_MODEL_e632bfda6f454887b03fa2883a84b4fc"
      }
     },
     "83b016b314b2494581ea6b311bfd7b78": {
      "model_module": "@jupyter-widgets/controls",
      "model_module_version": "1.1.0",
      "model_name": "TextModel",
      "state": {
       "description": "Link:",
       "layout": "IPY_MODEL_353667e8dd5c48808a31223d986515d1",
       "placeholder": "Paste your mudah.my link here",
       "style": "IPY_MODEL_994fb99d65d840708a638bb082c54364"
      }
     },
     "84aa3f487d514f4bbfb8f636f7dd9f3f": {
      "model_module": "@jupyter-widgets/controls",
      "model_module_version": "1.1.0",
      "model_name": "SelectMultipleModel",
      "state": {
       "_options_labels": [
        "Apples",
        "Oranges",
        "Pears",
        "Apples",
        "Oranges",
        "Pears"
       ],
       "description": "Fruits",
       "index": [
        2
       ],
       "layout": "IPY_MODEL_eb64524e7bf94efa8be09d39348130d2",
       "rows": 6,
       "style": "IPY_MODEL_1d68ac9ddc0c495a8a65c87302098c17"
      }
     },
     "84c2da3fc15f425cb3b5de063ce67512": {
      "model_module": "@jupyter-widgets/controls",
      "model_module_version": "1.1.0",
      "model_name": "TabModel",
      "state": {
       "_titles": {
        "0": "Extaction",
        "1": "S"
       },
       "children": [
        "IPY_MODEL_8a2e4afc89e0487083b329462844557e",
        "IPY_MODEL_430a70ad1cc94581a312e49bb97db607"
       ],
       "layout": "IPY_MODEL_c94cf7890706421d9cf3df96fce2e7cb"
      }
     },
     "84f0a864d5d04becab5faca83fccdcb2": {
      "model_module": "@jupyter-widgets/base",
      "model_module_version": "1.0.0",
      "model_name": "LayoutModel",
      "state": {}
     },
     "851d16908b874391b58f685baced73ee": {
      "model_module": "@jupyter-widgets/base",
      "model_module_version": "1.0.0",
      "model_name": "LayoutModel",
      "state": {}
     },
     "85a286c743ac4d668e437f9a68e4cde4": {
      "model_module": "@jupyter-widgets/base",
      "model_module_version": "1.0.0",
      "model_name": "LayoutModel",
      "state": {}
     },
     "8639252861b84754bb257fef0dcbb034": {
      "model_module": "@jupyter-widgets/base",
      "model_module_version": "1.0.0",
      "model_name": "LayoutModel",
      "state": {}
     },
     "8643cc37b5e342f880ed7d216ad979db": {
      "model_module": "@jupyter-widgets/base",
      "model_module_version": "1.0.0",
      "model_name": "LayoutModel",
      "state": {}
     },
     "86fe2025cab84813aad1aafea34c2a38": {
      "model_module": "@jupyter-widgets/base",
      "model_module_version": "1.0.0",
      "model_name": "LayoutModel",
      "state": {}
     },
     "87319d8cc25c461ea4d0d372d8eb15a8": {
      "model_module": "@jupyter-widgets/base",
      "model_module_version": "1.0.0",
      "model_name": "LayoutModel",
      "state": {}
     },
     "87339b7a13fd4814ad85757297ef24f9": {
      "model_module": "@jupyter-widgets/controls",
      "model_module_version": "1.1.0",
      "model_name": "TextModel",
      "state": {
       "description": "CSV file:",
       "layout": "IPY_MODEL_dd6068bcfd2b4b309d9546a6bbb8044e",
       "placeholder": "Name of cleaned csv file",
       "style": "IPY_MODEL_0d1ba5a8a8cf4d12b7bb810bc176b8a0"
      }
     },
     "87c1ab9651fd420a8ac674f6da84c3f9": {
      "model_module": "@jupyter-widgets/controls",
      "model_module_version": "1.1.0",
      "model_name": "ButtonModel",
      "state": {
       "description": "PCA!",
       "icon": "check",
       "layout": "IPY_MODEL_6e47a7d8702949219b036079f64b3640",
       "style": "IPY_MODEL_0b4477e16c8e453696a6409cbc235ab7",
       "tooltip": "Click me"
      }
     },
     "87d72dd66f874cd587630e1a63fd0584": {
      "model_module": "@jupyter-widgets/controls",
      "model_module_version": "1.1.0",
      "model_name": "ButtonModel",
      "state": {
       "description": "PCA!",
       "icon": "check",
       "layout": "IPY_MODEL_663082cce2744c25ae2ebebf113a4c63",
       "style": "IPY_MODEL_f09eb6e2eedb4805a68c349cc4b4f48a",
       "tooltip": "Click me"
      }
     },
     "88031e77dd994353b04f77bf42357df0": {
      "model_module": "@jupyter-widgets/controls",
      "model_module_version": "1.1.0",
      "model_name": "VBoxModel",
      "state": {
       "children": [
        "IPY_MODEL_bc8301d0bf33459ea8378859e8bb8a4a",
        "IPY_MODEL_2fde17e0749d498091477f098fff94ae"
       ],
       "layout": "IPY_MODEL_31feb2bba91d4b5f91727fafdb20e65b"
      }
     },
     "880840b32d0f428f8a95174157a9e793": {
      "model_module": "@jupyter-widgets/base",
      "model_module_version": "1.0.0",
      "model_name": "LayoutModel",
      "state": {}
     },
     "886497f330194ba7955dcc2cface3f76": {
      "model_module": "@jupyter-widgets/controls",
      "model_module_version": "1.1.0",
      "model_name": "AccordionModel",
      "state": {
       "_titles": {
        "0": "Link",
        "1": "Save",
        "2": "Scrap"
       },
       "children": [
        "IPY_MODEL_bbe6e5f0d003414191693cad46aabe3f",
        "IPY_MODEL_cd45d438a2a84a2cb8b4f7cc112b5b42",
        "IPY_MODEL_f85ba48888c247e5801502d64aa266dc"
       ],
       "layout": "IPY_MODEL_67f8d648b0944420b4313818267fb029",
       "selected_index": null
      }
     },
     "8873618962ea423aa5e2963eccf41a1c": {
      "model_module": "@jupyter-widgets/base",
      "model_module_version": "1.0.0",
      "model_name": "LayoutModel",
      "state": {}
     },
     "88bcc3471da64cdd92aa007e74a0bf70": {
      "model_module": "@jupyter-widgets/controls",
      "model_module_version": "1.1.0",
      "model_name": "DescriptionStyleModel",
      "state": {
       "description_width": ""
      }
     },
     "88c392f67cdd435e9425e9765dcd1fb3": {
      "model_module": "@jupyter-widgets/controls",
      "model_module_version": "1.1.0",
      "model_name": "ButtonModel",
      "state": {
       "description": "Boxplot",
       "icon": "check",
       "layout": "IPY_MODEL_f6cae69f30794a948e3610f643671eb2",
       "style": "IPY_MODEL_eb7224388b2d453ca498c0a51e6cb72b",
       "tooltip": "Click me"
      }
     },
     "8924a79eefe749779dacba834154dd26": {
      "model_module": "@jupyter-widgets/base",
      "model_module_version": "1.0.0",
      "model_name": "LayoutModel",
      "state": {}
     },
     "892d5dbb0ba840db875e0197f8ed42b3": {
      "model_module": "@jupyter-widgets/controls",
      "model_module_version": "1.1.0",
      "model_name": "DescriptionStyleModel",
      "state": {
       "description_width": ""
      }
     },
     "89984f0a771e4386b75160a58099fd5e": {
      "model_module": "@jupyter-widgets/base",
      "model_module_version": "1.0.0",
      "model_name": "LayoutModel",
      "state": {}
     },
     "89e809b29b76402aa2444860406c30fb": {
      "model_module": "@jupyter-widgets/controls",
      "model_module_version": "1.1.0",
      "model_name": "AccordionModel",
      "state": {
       "_titles": {
        "0": "Upload",
        "1": "View"
       },
       "children": [
        "IPY_MODEL_2af56d85b032406ba2bc037def1e9520",
        "IPY_MODEL_6488abedbed04f04ba371d41ee4b3b56"
       ],
       "layout": "IPY_MODEL_09bcf65a9e8f4ca687f659e2971335dd"
      }
     },
     "8a2e4afc89e0487083b329462844557e": {
      "model_module": "@jupyter-widgets/controls",
      "model_module_version": "1.1.0",
      "model_name": "AccordionModel",
      "state": {
       "_titles": {
        "0": "Link",
        "1": "Save",
        "2": "Scrap"
       },
       "children": [
        "IPY_MODEL_af3178c8d8d64b148b2a58881735c0e7",
        "IPY_MODEL_0afa2f7fc84e4c5c8855cbd0d12d6088",
        "IPY_MODEL_1ced1c919f404392be64e810291c9a1e"
       ],
       "layout": "IPY_MODEL_131e5d2a3ccb4b169e8118fa73f4bc69",
       "selected_index": null
      }
     },
     "8aa2df8156874a63a7ecc28589cd982b": {
      "model_module": "@jupyter-widgets/base",
      "model_module_version": "1.0.0",
      "model_name": "LayoutModel",
      "state": {}
     },
     "8ab0381f3af2470eb0fd41ee422f94ba": {
      "model_module": "@jupyter-widgets/base",
      "model_module_version": "1.0.0",
      "model_name": "LayoutModel",
      "state": {}
     },
     "8afb69e5f6054d4da2e80b52df9bf94b": {
      "model_module": "@jupyter-widgets/base",
      "model_module_version": "1.0.0",
      "model_name": "LayoutModel",
      "state": {}
     },
     "8b2227a35d43436292f64a3e6b2b3de6": {
      "model_module": "@jupyter-widgets/base",
      "model_module_version": "1.0.0",
      "model_name": "LayoutModel",
      "state": {}
     },
     "8b48d3e2388344d6926c79b30e3d26b1": {
      "model_module": "@jupyter-widgets/controls",
      "model_module_version": "1.1.0",
      "model_name": "ToggleButtonsModel",
      "state": {
       "_options_labels": [
        "Head",
        "Random",
        "Sample"
       ],
       "button_style": "",
       "description": "View Method:",
       "icons": [],
       "index": 0,
       "layout": "IPY_MODEL_7ee5c28297a44ee986a1dbc289cc623d",
       "style": "IPY_MODEL_d0c6a75d6899449e86a34d540ff3e901",
       "tooltips": []
      }
     },
     "8b99463da8ce4fd898bad221cf982610": {
      "model_module": "@jupyter-widgets/controls",
      "model_module_version": "1.1.0",
      "model_name": "ButtonStyleModel",
      "state": {}
     },
     "8baeaada6adf46f98c30e1a6a377cf8c": {
      "model_module": "@jupyter-widgets/base",
      "model_module_version": "1.0.0",
      "model_name": "LayoutModel",
      "state": {}
     },
     "8bc3175d64254a74a9684877edd9b087": {
      "model_module": "@jupyter-widgets/controls",
      "model_module_version": "1.1.0",
      "model_name": "VBoxModel",
      "state": {
       "children": [
        "IPY_MODEL_291438f326054acdaa45f5badf672dc0",
        "IPY_MODEL_74f656a1e974496e86d2af3e71dae701"
       ],
       "layout": "IPY_MODEL_1f7c46d946ab47d3984debd2fe52ee04"
      }
     },
     "8bed664f009340e08d9ae4db20756623": {
      "model_module": "@jupyter-widgets/base",
      "model_module_version": "1.0.0",
      "model_name": "LayoutModel",
      "state": {}
     },
     "8c2cd2d0e88140c79cdf501cd0a94222": {
      "model_module": "@jupyter-widgets/controls",
      "model_module_version": "1.1.0",
      "model_name": "DescriptionStyleModel",
      "state": {
       "description_width": ""
      }
     },
     "8c5dd8f9c13947f2bbd236dcebccfccb": {
      "model_module": "@jupyter-widgets/base",
      "model_module_version": "1.0.0",
      "model_name": "LayoutModel",
      "state": {}
     },
     "8c91ef7b1cf040679326aa1511eff8f8": {
      "model_module": "@jupyter-widgets/controls",
      "model_module_version": "1.1.0",
      "model_name": "ButtonModel",
      "state": {
       "description": "Potential Scams!!",
       "icon": "check",
       "layout": "IPY_MODEL_780c58ce8eca42f498b199740d5a8c35",
       "style": "IPY_MODEL_74f7cfc2feae472fafd6665415d1f471",
       "tooltip": "Click me"
      }
     },
     "8c9cee279b824601b8e0255bd23b8549": {
      "model_module": "@jupyter-widgets/controls",
      "model_module_version": "1.1.0",
      "model_name": "HTMLModel",
      "state": {
       "description": "Sample Folder Path:",
       "layout": "IPY_MODEL_3f3f0289597a4e20a359fbd2bb43e7e5",
       "placeholder": "",
       "style": "IPY_MODEL_829898b6bdf94059a03431d87a38b928",
       "value": "<i><b>C:\\Users\\LENOVO\\Documents</b><i>"
      }
     },
     "8cdc4f49d7e64bbc85217e724109427b": {
      "model_module": "@jupyter-widgets/controls",
      "model_module_version": "1.1.0",
      "model_name": "ButtonModel",
      "state": {
       "description": "Apply PCA!",
       "icon": "check",
       "layout": "IPY_MODEL_4c84254347da48d4b19916eb9989769c",
       "style": "IPY_MODEL_5126e62c96b24a6bb3a94e0bb27d75cf",
       "tooltip": "Click me"
      }
     },
     "8cdcb2499d314a0394d54ca4717cb95a": {
      "model_module": "@jupyter-widgets/base",
      "model_module_version": "1.0.0",
      "model_name": "LayoutModel",
      "state": {}
     },
     "8d177eee05dc478f92c66698d8612381": {
      "model_module": "@jupyter-widgets/controls",
      "model_module_version": "1.1.0",
      "model_name": "HTMLModel",
      "state": {
       "description": "Sample Path:",
       "layout": "IPY_MODEL_5eb97566ba104402b4ef6c46a8fd53fc",
       "placeholder": "",
       "style": "IPY_MODEL_80fc08c3812243dcacdfd26231f62a22",
       "value": "<i><b>C:\\Users\\LENOVO\\Documents</b><i>"
      }
     },
     "8d7e317e42274a649b3141d821d58148": {
      "model_module": "@jupyter-widgets/controls",
      "model_module_version": "1.1.0",
      "model_name": "ButtonModel",
      "state": {
       "description": "Boxplot",
       "icon": "check",
       "layout": "IPY_MODEL_6dee5288b9064f85b228551c0be6c0c8",
       "style": "IPY_MODEL_ee0f9143b1cd42b5849a28c316c75556",
       "tooltip": "Click me"
      }
     },
     "8de17cabfba44da4bc742a27113961a1": {
      "model_module": "@jupyter-widgets/base",
      "model_module_version": "1.0.0",
      "model_name": "LayoutModel",
      "state": {}
     },
     "8dfd0508c78d4f5db0ac1d7b452eda1a": {
      "model_module": "@jupyter-widgets/controls",
      "model_module_version": "1.1.0",
      "model_name": "ButtonModel",
      "state": {
       "description": "Potential Scams!!",
       "icon": "check",
       "layout": "IPY_MODEL_c4578dc89a094a94b833f23c73d8d789",
       "style": "IPY_MODEL_1bf8bee75d58464986fa5c1588cd86f4",
       "tooltip": "Click me"
      }
     },
     "8e01368b3ce14a8cb7160dab34b39bec": {
      "model_module": "@jupyter-widgets/controls",
      "model_module_version": "1.1.0",
      "model_name": "DescriptionStyleModel",
      "state": {
       "description_width": ""
      }
     },
     "8e233f242f634e04ba3d51138ed09a5d": {
      "model_module": "@jupyter-widgets/base",
      "model_module_version": "1.0.0",
      "model_name": "LayoutModel",
      "state": {}
     },
     "8e62db69dc3b4f289cf2752d60482f4c": {
      "model_module": "@jupyter-widgets/base",
      "model_module_version": "1.0.0",
      "model_name": "LayoutModel",
      "state": {}
     },
     "8ed9e2c2bdb64dbfa8697561bacb5f3c": {
      "model_module": "@jupyter-widgets/base",
      "model_module_version": "1.0.0",
      "model_name": "LayoutModel",
      "state": {}
     },
     "8eecbd5bf78b492dbacc2dbac315a9c1": {
      "model_module": "@jupyter-widgets/controls",
      "model_module_version": "1.1.0",
      "model_name": "VBoxModel",
      "state": {
       "children": [
        "IPY_MODEL_4ce2a7d18c0f497185f95c5cfe07adb8",
        "IPY_MODEL_0e852fdfa7ee435298197d7a6513f634",
        "IPY_MODEL_ce311ad62bf54aac845d5e09241dadbd",
        "IPY_MODEL_4801fad716bc436f87244e57f97d6df1"
       ],
       "layout": "IPY_MODEL_96b1aa1ca8f3486fb4ccf72744ebf4ee"
      }
     },
     "8f1ccdef41ef48c6bbf02a6c40669928": {
      "model_module": "@jupyter-widgets/controls",
      "model_module_version": "1.1.0",
      "model_name": "HTMLModel",
      "state": {
       "layout": "IPY_MODEL_25418aaab62d4ddc838a208b34077269",
       "placeholder": "",
       "style": "IPY_MODEL_5a3da707981149c08277ad8aba68065c",
       "value": "<b>Choose to view and compare by attributes<b>"
      }
     },
     "8f523e0619724d6da39f7fde67a9dbd4": {
      "model_module": "@jupyter-widgets/controls",
      "model_module_version": "1.1.0",
      "model_name": "ToggleButtonsModel",
      "state": {
       "_options_labels": [
        "Head",
        "Random",
        "Sample"
       ],
       "button_style": "",
       "description": "View Method:",
       "icons": [],
       "index": 0,
       "layout": "IPY_MODEL_9a366ed8c0b34de2bdbad6cd059b1fbe",
       "style": "IPY_MODEL_ffd357582ba041d4a6f291e157128c30",
       "tooltips": [
        "Description of slow",
        "Description of regular",
        "Description of fast"
       ]
      }
     },
     "8f970e952ebb436689867a958d80edd7": {
      "model_module": "@jupyter-widgets/base",
      "model_module_version": "1.0.0",
      "model_name": "LayoutModel",
      "state": {}
     },
     "8f974d4e31a849b88895209378e6aa5b": {
      "model_module": "@jupyter-widgets/controls",
      "model_module_version": "1.1.0",
      "model_name": "AccordionModel",
      "state": {
       "_titles": {
        "0": "Upload",
        "1": "View"
       },
       "children": [
        "IPY_MODEL_48ef4e4cc3c942f582789ac02881420b",
        "IPY_MODEL_1f6bda5a3c154a4b930787e490203d21"
       ],
       "layout": "IPY_MODEL_787d4b8df67b449da9948e4d6ffb625d"
      }
     },
     "8fefb0b52ddb4d0c98dbd051e19e6d11": {
      "model_module": "@jupyter-widgets/base",
      "model_module_version": "1.0.0",
      "model_name": "LayoutModel",
      "state": {}
     },
     "904cafcf6f09400d9d425edd165411a0": {
      "model_module": "@jupyter-widgets/controls",
      "model_module_version": "1.1.0",
      "model_name": "VBoxModel",
      "state": {
       "children": [
        "IPY_MODEL_d1591a320d754f179124ef48f6eeb939",
        "IPY_MODEL_f608019651f6449997e5d65214986203"
       ],
       "layout": "IPY_MODEL_cc95ee849ee942de90d921ff2ab3570f"
      }
     },
     "908f776206db443bbbd17906bd21079a": {
      "model_module": "@jupyter-widgets/controls",
      "model_module_version": "1.1.0",
      "model_name": "VBoxModel",
      "state": {
       "children": [
        "IPY_MODEL_a19472d2bf1c4ed781871ef76a20a01f",
        "IPY_MODEL_823f006e17cc4828af49aaf5b365f0d9"
       ],
       "layout": "IPY_MODEL_4784c116301346c48958cbd9b6e2a5c2"
      }
     },
     "9093bbc4608d482eb86349ec109c7906": {
      "model_module": "@jupyter-widgets/base",
      "model_module_version": "1.0.0",
      "model_name": "LayoutModel",
      "state": {}
     },
     "90c77cc1d60140e386052f4b6939d83c": {
      "model_module": "@jupyter-widgets/controls",
      "model_module_version": "1.1.0",
      "model_name": "ButtonStyleModel",
      "state": {
       "button_color": "lightyellow"
      }
     },
     "90d392422a4e4d6fb8efa2fa908a1b79": {
      "model_module": "@jupyter-widgets/controls",
      "model_module_version": "1.1.0",
      "model_name": "ButtonStyleModel",
      "state": {}
     },
     "911ef437d99b454990b1385146f865fb": {
      "model_module": "@jupyter-widgets/base",
      "model_module_version": "1.0.0",
      "model_name": "LayoutModel",
      "state": {}
     },
     "9120bf53b8964b9c9f069cd8226fe906": {
      "model_module": "@jupyter-widgets/base",
      "model_module_version": "1.0.0",
      "model_name": "LayoutModel",
      "state": {}
     },
     "9128ebc960c64108a996bf13c63c3165": {
      "model_module": "@jupyter-widgets/controls",
      "model_module_version": "1.1.0",
      "model_name": "DescriptionStyleModel",
      "state": {
       "description_width": ""
      }
     },
     "91ccf868e684456aa02edd0c9e3afbed": {
      "model_module": "@jupyter-widgets/base",
      "model_module_version": "1.0.0",
      "model_name": "LayoutModel",
      "state": {}
     },
     "91dbdaa6ba34496b952ac0638a68d746": {
      "model_module": "@jupyter-widgets/controls",
      "model_module_version": "1.1.0",
      "model_name": "ButtonModel",
      "state": {
       "description": "PCA!",
       "icon": "check",
       "layout": "IPY_MODEL_109764530f2b4328b571557b9cc38a55",
       "style": "IPY_MODEL_c9f838f1a97f43c6964a2f86ec08ab29",
       "tooltip": "Click me"
      }
     },
     "920d8ade4745445f891a44fb0620bb62": {
      "model_module": "@jupyter-widgets/controls",
      "model_module_version": "1.1.0",
      "model_name": "VBoxModel",
      "state": {
       "children": [
        "IPY_MODEL_291438f326054acdaa45f5badf672dc0",
        "IPY_MODEL_74f656a1e974496e86d2af3e71dae701"
       ],
       "layout": "IPY_MODEL_7950c32f545f4928903567190c72cf2f"
      }
     },
     "9277baef46b24e66ae6079d3342126c8": {
      "model_module": "@jupyter-widgets/controls",
      "model_module_version": "1.1.0",
      "model_name": "VBoxModel",
      "state": {
       "children": [
        "IPY_MODEL_db5eaa7a0c66490aa37b63f36ee264c0",
        "IPY_MODEL_17cb28b44aca474f8b49243527ed1be9"
       ],
       "layout": "IPY_MODEL_cedd94bb1de74becb9ec2daa794de9b2"
      }
     },
     "92da60db72e944b59f5161ec86784da8": {
      "model_module": "@jupyter-widgets/controls",
      "model_module_version": "1.1.0",
      "model_name": "TabModel",
      "state": {
       "_titles": {
        "0": "1. Extaction",
        "1": "2. Data",
        "2": "3. Evaluation"
       },
       "children": [
        "IPY_MODEL_53faedbd1dcc425281549aceabc3443f",
        "IPY_MODEL_0da6203bdffb48909955e4dd9446a8ee",
        "IPY_MODEL_b1b8eb382fe542d28ea28545ba0bd21d"
       ],
       "layout": "IPY_MODEL_880840b32d0f428f8a95174157a9e793"
      }
     },
     "930002fd3a5c43c2be36f4617f87e93f": {
      "model_module": "@jupyter-widgets/base",
      "model_module_version": "1.0.0",
      "model_name": "LayoutModel",
      "state": {}
     },
     "930955ec3a224052a7f4e63d9d3050b6": {
      "model_module": "@jupyter-widgets/controls",
      "model_module_version": "1.1.0",
      "model_name": "VBoxModel",
      "state": {
       "children": [
        "IPY_MODEL_70fdea4024b94bbbb93b9df31b9d7156",
        "IPY_MODEL_ba618063ccf343ef9738ec005d2fe4c2"
       ],
       "layout": "IPY_MODEL_643dc1cb471c406cba7ff55ed6bdf407"
      }
     },
     "93265decb7bb43a5adc40f735ebfad41": {
      "model_module": "@jupyter-widgets/base",
      "model_module_version": "1.0.0",
      "model_name": "LayoutModel",
      "state": {}
     },
     "936b7a70cf794629871ec09b5b537da4": {
      "model_module": "@jupyter-widgets/controls",
      "model_module_version": "1.1.0",
      "model_name": "AccordionModel",
      "state": {
       "_titles": {
        "0": "Scrap"
       },
       "children": [
        "IPY_MODEL_03b9fb887c924cc0a360235b61087dd1"
       ],
       "layout": "IPY_MODEL_340b7b3611304d57b8e49115ec11d7af"
      }
     },
     "93a4cf52b72a451799c79123d3c4201a": {
      "model_module": "@jupyter-widgets/base",
      "model_module_version": "1.0.0",
      "model_name": "LayoutModel",
      "state": {}
     },
     "93ec4b32d0154c138a5d15ceed30c7e3": {
      "model_module": "@jupyter-widgets/base",
      "model_module_version": "1.0.0",
      "model_name": "LayoutModel",
      "state": {}
     },
     "9415163214b34129a7aca3e686ff37e0": {
      "model_module": "@jupyter-widgets/base",
      "model_module_version": "1.0.0",
      "model_name": "LayoutModel",
      "state": {}
     },
     "9444b2ef7f7c4027b74a74d2608133b0": {
      "model_module": "@jupyter-widgets/controls",
      "model_module_version": "1.1.0",
      "model_name": "VBoxModel",
      "state": {
       "children": [
        "IPY_MODEL_7c1685e17807477086e9a7928a650b6b",
        "IPY_MODEL_bb6eeb672d404159b5025598ced30c6f"
       ],
       "layout": "IPY_MODEL_44d7489804364111b125e6539d0f1b37"
      }
     },
     "94ba13e8d8d8448c9be65fecf75d522a": {
      "model_module": "@jupyter-widgets/controls",
      "model_module_version": "1.1.0",
      "model_name": "HTMLModel",
      "state": {
       "layout": "IPY_MODEL_f36330070d06419483c93f3b1d14f544",
       "placeholder": "",
       "style": "IPY_MODEL_f395de224c974250bc85eca8142acd2d",
       "value": "<b>Choose to view and compare by attributes<b>"
      }
     },
     "951ebf273eae46d9bb474826a52c552b": {
      "model_module": "@jupyter-widgets/controls",
      "model_module_version": "1.1.0",
      "model_name": "ButtonModel",
      "state": {
       "description": "Scrap Me",
       "layout": "IPY_MODEL_0aa43c740d0c47089b00f390ad6c1bde",
       "style": "IPY_MODEL_6cd9410e09f6431abfa8bd8a642c3b6d"
      }
     },
     "9576f7fe000e46e58bd58e8d79c5b614": {
      "model_module": "@jupyter-widgets/controls",
      "model_module_version": "1.1.0",
      "model_name": "DropdownModel",
      "state": {
       "_options_labels": [
        "5",
        "6",
        "7",
        "8",
        "9",
        "10"
       ],
       "description": "Random:",
       "index": 0,
       "layout": "IPY_MODEL_2503a9fd007741ba98505e762700029e",
       "style": "IPY_MODEL_6d172832e173423fb5be660c3c25af58"
      }
     },
     "96334ef434bd4373961587bd645290ed": {
      "model_module": "@jupyter-widgets/controls",
      "model_module_version": "1.1.0",
      "model_name": "VBoxModel",
      "state": {
       "children": [
        "IPY_MODEL_640d8d37fff0484090663811c22acf6f",
        "IPY_MODEL_b3ee4496b7b34a38860dfa2f4669bb1d"
       ],
       "layout": "IPY_MODEL_e8079ce22d81405e8b573fe4d9bc340c"
      }
     },
     "964c0ecd7d6a4da59ccfac7958291870": {
      "model_module": "@jupyter-widgets/controls",
      "model_module_version": "1.1.0",
      "model_name": "VBoxModel",
      "state": {
       "children": [
        "IPY_MODEL_0d2661185cab4e6dba64dd14fbc6aa4e",
        "IPY_MODEL_58ff48c500c2401b9d02ce88e766eb9c"
       ],
       "layout": "IPY_MODEL_eaf8d28096384f6c8d5c3efc42bddb22"
      }
     },
     "96b1aa1ca8f3486fb4ccf72744ebf4ee": {
      "model_module": "@jupyter-widgets/base",
      "model_module_version": "1.0.0",
      "model_name": "LayoutModel",
      "state": {}
     },
     "970f93befb9241e28a9cb794d3590b7f": {
      "model_module": "@jupyter-widgets/controls",
      "model_module_version": "1.1.0",
      "model_name": "TextModel",
      "state": {
       "description": "Folder Path:",
       "layout": "IPY_MODEL_75b5e15819754ab3b3fd188883a48ac2",
       "placeholder": "Save Scraped Dataset",
       "style": "IPY_MODEL_cb14920bfe1241afaf5026dc143d7da1"
      }
     },
     "97400be8298d4ad999800c68dccdef0e": {
      "model_module": "@jupyter-widgets/controls",
      "model_module_version": "1.1.0",
      "model_name": "ButtonModel",
      "state": {
       "description": "Boxplot",
       "icon": "check",
       "layout": "IPY_MODEL_1ee5c6c6332b451d8417a32ea6393c52",
       "style": "IPY_MODEL_0f590219f3c945278d28c5419ee543f4",
       "tooltip": "Click me"
      }
     },
     "978cb2932be448e08c5567178b0196f8": {
      "model_module": "@jupyter-widgets/controls",
      "model_module_version": "1.1.0",
      "model_name": "DescriptionStyleModel",
      "state": {
       "description_width": ""
      }
     },
     "9795d8c9f5314753a2febc7796400c4f": {
      "model_module": "@jupyter-widgets/controls",
      "model_module_version": "1.1.0",
      "model_name": "AccordionModel",
      "state": {
       "_titles": {
        "0": "Source",
        "1": "Save",
        "2": "Scrap"
       },
       "children": [
        "IPY_MODEL_437a73b913c6406b97dc7bf34c5580db",
        "IPY_MODEL_7bb623a4622242bcb17132c9b7b1977f",
        "IPY_MODEL_3d6cbd61afe44619ba9fe847ddabbee4"
       ],
       "layout": "IPY_MODEL_78db1ec0febc4bf6bab259bd38df3d3d"
      }
     },
     "97b3077e0e9542d9b12b58dff56220fa": {
      "model_module": "@jupyter-widgets/controls",
      "model_module_version": "1.1.0",
      "model_name": "VBoxModel",
      "state": {
       "children": [
        "IPY_MODEL_79ee03d5934b40a880c5956e85265db7",
        "IPY_MODEL_3de40c71b9f345bbb307efa1cd9b0bda"
       ],
       "layout": "IPY_MODEL_4d3e0c8e6fd04aa4b0aa55c18f245257"
      }
     },
     "983b178655534337ad46bf2196faaeb9": {
      "model_module": "@jupyter-widgets/controls",
      "model_module_version": "1.1.0",
      "model_name": "VBoxModel",
      "state": {
       "children": [
        "IPY_MODEL_3697ce1d511b47cd8dc36aaaa9ca6c4b",
        "IPY_MODEL_e66f59ad8efe4d5cbe6169cff9318aaf",
        "IPY_MODEL_5da487dd78814b65897d5e1b25c98ab9",
        "IPY_MODEL_e718f68ac4754c93b95d093ac4e91e3a"
       ],
       "layout": "IPY_MODEL_520d48f8a17f45aba8f4766036851b36"
      }
     },
     "98f7529d31154cfc8477634278914428": {
      "model_module": "@jupyter-widgets/base",
      "model_module_version": "1.0.0",
      "model_name": "LayoutModel",
      "state": {}
     },
     "9931031ea8244ce4b54608547e5368db": {
      "model_module": "@jupyter-widgets/controls",
      "model_module_version": "1.1.0",
      "model_name": "ButtonModel",
      "state": {
       "description": "Click me",
       "icon": "check",
       "layout": "IPY_MODEL_e6609b3a74804c1199ef7bff9051168a",
       "style": "IPY_MODEL_faf850037c834624a2c23eaa500fa8a8",
       "tooltip": "Click me"
      }
     },
     "994fb99d65d840708a638bb082c54364": {
      "model_module": "@jupyter-widgets/controls",
      "model_module_version": "1.1.0",
      "model_name": "DescriptionStyleModel",
      "state": {
       "description_width": ""
      }
     },
     "9a366ed8c0b34de2bdbad6cd059b1fbe": {
      "model_module": "@jupyter-widgets/base",
      "model_module_version": "1.0.0",
      "model_name": "LayoutModel",
      "state": {}
     },
     "9a6694242b4e4b3ab5b827662dd05f34": {
      "model_module": "@jupyter-widgets/controls",
      "model_module_version": "1.1.0",
      "model_name": "TabModel",
      "state": {
       "_titles": {
        "0": "1. Extaction",
        "1": "2. Data",
        "2": "3. Evaluation"
       },
       "children": [
        "IPY_MODEL_243f6bf741f543c08f930129587cb387",
        "IPY_MODEL_d2b7c14479cf4c71803c6fc6f448b3d1",
        "IPY_MODEL_5c20aa7a3a3844b4871d80ac830e9358"
       ],
       "layout": "IPY_MODEL_d135d62cec5b4318b2a280d1f7ad5cc2"
      }
     },
     "9a700f617be9478bbc16b53e57368bf1": {
      "model_module": "@jupyter-widgets/controls",
      "model_module_version": "1.1.0",
      "model_name": "VBoxModel",
      "state": {
       "children": [
        "IPY_MODEL_eb32d3513b40477fbc077243cb81f470",
        "IPY_MODEL_ff615ced92f3493c8a8a2795523f7c06"
       ],
       "layout": "IPY_MODEL_a562650c1cd54f4b9f387058299dccd7"
      }
     },
     "9a87c01726574cb38f1c89c470f32def": {
      "model_module": "@jupyter-widgets/base",
      "model_module_version": "1.0.0",
      "model_name": "LayoutModel",
      "state": {}
     },
     "9ac92aaf52a947d28cc67e9b25deb34c": {
      "model_module": "@jupyter-widgets/controls",
      "model_module_version": "1.1.0",
      "model_name": "DescriptionStyleModel",
      "state": {
       "description_width": ""
      }
     },
     "9b14006955664a49980750e7fe80a7e2": {
      "model_module": "@jupyter-widgets/controls",
      "model_module_version": "1.1.0",
      "model_name": "TextModel",
      "state": {
       "description": "Folder Path:",
       "layout": "IPY_MODEL_6514f4e9d41f4eb48fedde71758daf0b",
       "placeholder": "Paste folder path to save",
       "style": "IPY_MODEL_a89c7d4c050b46c5959a67caa0435a6a"
      }
     },
     "9b5b4a539bd84addbcd5b5b444f10707": {
      "model_module": "@jupyter-widgets/base",
      "model_module_version": "1.0.0",
      "model_name": "LayoutModel",
      "state": {}
     },
     "9b84b453ee0544c1a64d28fd88a67b75": {
      "model_module": "@jupyter-widgets/base",
      "model_module_version": "1.0.0",
      "model_name": "LayoutModel",
      "state": {}
     },
     "9bae1341166a4b4c84b48552e6a10942": {
      "model_module": "@jupyter-widgets/base",
      "model_module_version": "1.0.0",
      "model_name": "LayoutModel",
      "state": {}
     },
     "9be00890b0fd4071ab46e041bfe2d081": {
      "model_module": "@jupyter-widgets/controls",
      "model_module_version": "1.1.0",
      "model_name": "VBoxModel",
      "state": {
       "children": [
        "IPY_MODEL_19bf7d8f36ab405f933da298dd9def5b",
        "IPY_MODEL_01909ee818e84da5a552ceeead9185fc"
       ],
       "layout": "IPY_MODEL_86fe2025cab84813aad1aafea34c2a38"
      }
     },
     "9bebc494103e4cf5871fc91b988e8b63": {
      "model_module": "@jupyter-widgets/base",
      "model_module_version": "1.0.0",
      "model_name": "LayoutModel",
      "state": {}
     },
     "9c114ff6106b430385b3beb53058617a": {
      "model_module": "@jupyter-widgets/base",
      "model_module_version": "1.0.0",
      "model_name": "LayoutModel",
      "state": {}
     },
     "9ca71a26fca54a5995affad3218db7db": {
      "model_module": "@jupyter-widgets/base",
      "model_module_version": "1.0.0",
      "model_name": "LayoutModel",
      "state": {}
     },
     "9cad4ab83dbc4c6ebad5a2787c09e1c4": {
      "model_module": "@jupyter-widgets/controls",
      "model_module_version": "1.1.0",
      "model_name": "DescriptionStyleModel",
      "state": {
       "description_width": ""
      }
     },
     "9d14581473ed43188b89a62019692aab": {
      "model_module": "@jupyter-widgets/controls",
      "model_module_version": "1.1.0",
      "model_name": "VBoxModel",
      "state": {
       "children": [
        "IPY_MODEL_8f1ccdef41ef48c6bbf02a6c40669928",
        "IPY_MODEL_41ddb4918e344adbb4eb397e23c0b0f3"
       ],
       "layout": "IPY_MODEL_59a5513f0fae42a4a2e02953c299f51c"
      }
     },
     "9d17b3cb41ce4beca1e86427ee00a55b": {
      "model_module": "@jupyter-widgets/base",
      "model_module_version": "1.0.0",
      "model_name": "LayoutModel",
      "state": {}
     },
     "9d1ea509d09546308c196e0ea436e536": {
      "model_module": "@jupyter-widgets/controls",
      "model_module_version": "1.1.0",
      "model_name": "ButtonModel",
      "state": {
       "description": "PCA!",
       "icon": "check",
       "layout": "IPY_MODEL_6959650360084fa9a1d8858ef4ee72c0",
       "style": "IPY_MODEL_d0c74e03b2d348dbb4221d1695e789ee",
       "tooltip": "Click me"
      }
     },
     "9dc84f313ee841b4b8fdee74784b3172": {
      "model_module": "@jupyter-widgets/controls",
      "model_module_version": "1.1.0",
      "model_name": "TextModel",
      "state": {
       "description": "Folder Path:",
       "layout": "IPY_MODEL_dca93d78983446f68afa8c5f8fdd4168",
       "placeholder": "Save Scraped Dataset",
       "style": "IPY_MODEL_d45ef708c8f846728065b405e73b0a0c"
      }
     },
     "9e23e905c78f41abba4f3af83d0d2012": {
      "model_module": "@jupyter-widgets/base",
      "model_module_version": "1.0.0",
      "model_name": "LayoutModel",
      "state": {}
     },
     "9e6b2fb55acd4f4684c4f41d150fda76": {
      "model_module": "@jupyter-widgets/output",
      "model_module_version": "1.0.0",
      "model_name": "OutputModel",
      "state": {
       "layout": "IPY_MODEL_a452d4e34fad42bb9ac0fa245816cb78"
      }
     },
     "9ec484f1d4114086a88d3e3e165297ac": {
      "model_module": "@jupyter-widgets/controls",
      "model_module_version": "1.1.0",
      "model_name": "AccordionModel",
      "state": {
       "_titles": {
        "0": "Scrap"
       },
       "children": [
        "IPY_MODEL_920d8ade4745445f891a44fb0620bb62"
       ],
       "layout": "IPY_MODEL_4adfbab011124dad8353e9dcd3d0299d"
      }
     },
     "9ee76b07ff3e4bce998f4d43863b16aa": {
      "model_module": "@jupyter-widgets/controls",
      "model_module_version": "1.1.0",
      "model_name": "DescriptionStyleModel",
      "state": {
       "description_width": ""
      }
     },
     "9f3313102cdb4d958d83fa6dfdcf8abb": {
      "model_module": "@jupyter-widgets/base",
      "model_module_version": "1.0.0",
      "model_name": "LayoutModel",
      "state": {}
     },
     "9f9cb2a9050a415d8f55916d761a644f": {
      "model_module": "@jupyter-widgets/controls",
      "model_module_version": "1.1.0",
      "model_name": "TabModel",
      "state": {
       "_titles": {
        "0": "Extaction",
        "1": "S"
       },
       "children": [
        "IPY_MODEL_ee4cdbfba38e4623ab63a672778861b9",
        "IPY_MODEL_9ec484f1d4114086a88d3e3e165297ac"
       ],
       "layout": "IPY_MODEL_4d38dd96b27e4edc9ac2aebf7eb1efbd",
       "selected_index": 1
      }
     },
     "a018cb45601c4dbc83663a8be2396e28": {
      "model_module": "@jupyter-widgets/controls",
      "model_module_version": "1.1.0",
      "model_name": "VBoxModel",
      "state": {
       "children": [
        "IPY_MODEL_4a2bec088a634271812cf0a151805d79",
        "IPY_MODEL_1be6d14e96244fe7885c724e0226f837"
       ],
       "layout": "IPY_MODEL_3b0c9aeb4ce54515a23e526de4c5152b"
      }
     },
     "a0498110ecf542a0a21e8c7b4f0e97bd": {
      "model_module": "@jupyter-widgets/base",
      "model_module_version": "1.0.0",
      "model_name": "LayoutModel",
      "state": {}
     },
     "a0a0c0a5cc8849e9825d954020026527": {
      "model_module": "@jupyter-widgets/controls",
      "model_module_version": "1.1.0",
      "model_name": "HTMLModel",
      "state": {
       "layout": "IPY_MODEL_5bf4792a8a5545e98c2376f7e762a703",
       "placeholder": "",
       "style": "IPY_MODEL_78a7780dadd14bd09e9e4ca06d343ca7",
       "value": "Apply <b>Data Mining<b> Method!!"
      }
     },
     "a0c870f0ea714abdb025835f7b747993": {
      "model_module": "@jupyter-widgets/controls",
      "model_module_version": "1.1.0",
      "model_name": "DropdownModel",
      "state": {
       "_options_labels": [
        "-",
        "5",
        "6",
        "7",
        "8",
        "9",
        "10"
       ],
       "description": "Tail:",
       "index": 0,
       "layout": "IPY_MODEL_2eaafbbfad1840358c2a2ff9eed8f5d8",
       "style": "IPY_MODEL_b07f60cd489c4fcfb3db8e847268ac89"
      }
     },
     "a1293ed91b9d460c9055ce84eff1e8f9": {
      "model_module": "@jupyter-widgets/base",
      "model_module_version": "1.0.0",
      "model_name": "LayoutModel",
      "state": {}
     },
     "a15d535b867f4a9abdb15ab2324b1964": {
      "model_module": "@jupyter-widgets/base",
      "model_module_version": "1.0.0",
      "model_name": "LayoutModel",
      "state": {}
     },
     "a19472d2bf1c4ed781871ef76a20a01f": {
      "model_module": "@jupyter-widgets/controls",
      "model_module_version": "1.1.0",
      "model_name": "HTMLModel",
      "state": {
       "layout": "IPY_MODEL_b094964f3fe4440c924cf84ec4d539a1",
       "placeholder": "",
       "style": "IPY_MODEL_2d45b9a32ba241a6abe25967bd8e02d9",
       "value": "<b>Choose to view and compare by attributes<b>"
      }
     },
     "a1b027a80cb94f0b801855c3856d59c1": {
      "model_module": "@jupyter-widgets/controls",
      "model_module_version": "1.1.0",
      "model_name": "DescriptionStyleModel",
      "state": {
       "description_width": ""
      }
     },
     "a1bbfa94730a45e896af85895ab4f2cf": {
      "model_module": "@jupyter-widgets/base",
      "model_module_version": "1.0.0",
      "model_name": "LayoutModel",
      "state": {}
     },
     "a218bd58ad774cf5be216dc8e558af62": {
      "model_module": "@jupyter-widgets/controls",
      "model_module_version": "1.1.0",
      "model_name": "VBoxModel",
      "state": {
       "children": [
        "IPY_MODEL_f0e7f876d6de48c887e28e12aca33e72",
        "IPY_MODEL_9e6b2fb55acd4f4684c4f41d150fda76"
       ],
       "layout": "IPY_MODEL_c21b762f2e5c4cb896012479891d2c46"
      }
     },
     "a237cac366c747a89784370fc5f2726d": {
      "model_module": "@jupyter-widgets/base",
      "model_module_version": "1.0.0",
      "model_name": "LayoutModel",
      "state": {}
     },
     "a2ccfd52d8d04df288fb2115622e601c": {
      "model_module": "@jupyter-widgets/controls",
      "model_module_version": "1.1.0",
      "model_name": "VBoxModel",
      "state": {
       "children": [
        "IPY_MODEL_34d9c9d70a1c466e8163e265eb384a5c",
        "IPY_MODEL_06764c74d0fc4d9bb74f6786e6297cb6"
       ],
       "layout": "IPY_MODEL_e49eb088621d4d18a01f86abc3de0186"
      }
     },
     "a3175239c0d8456191894b8bfcae89b6": {
      "model_module": "@jupyter-widgets/base",
      "model_module_version": "1.0.0",
      "model_name": "LayoutModel",
      "state": {}
     },
     "a378240bf862488b8662dd28e693f241": {
      "model_module": "@jupyter-widgets/base",
      "model_module_version": "1.0.0",
      "model_name": "LayoutModel",
      "state": {}
     },
     "a380388bb4ae412a841b08bfc1564153": {
      "model_module": "@jupyter-widgets/controls",
      "model_module_version": "1.1.0",
      "model_name": "ButtonStyleModel",
      "state": {}
     },
     "a3a91e793af44b628295606b21af0b1a": {
      "model_module": "@jupyter-widgets/base",
      "model_module_version": "1.0.0",
      "model_name": "LayoutModel",
      "state": {}
     },
     "a4480917bef24993b5d962a762fd2a0c": {
      "model_module": "@jupyter-widgets/base",
      "model_module_version": "1.0.0",
      "model_name": "LayoutModel",
      "state": {}
     },
     "a452d4e34fad42bb9ac0fa245816cb78": {
      "model_module": "@jupyter-widgets/base",
      "model_module_version": "1.0.0",
      "model_name": "LayoutModel",
      "state": {}
     },
     "a466e5de43fa4b73a0959891fe594d46": {
      "model_module": "@jupyter-widgets/base",
      "model_module_version": "1.0.0",
      "model_name": "LayoutModel",
      "state": {}
     },
     "a4c12a2a85b04f5e98d30a01f83ee1dd": {
      "model_module": "@jupyter-widgets/output",
      "model_module_version": "1.0.0",
      "model_name": "OutputModel",
      "state": {
       "layout": "IPY_MODEL_6cdffd14dd2e45b399aced31d744a7ec"
      }
     },
     "a545a81748f64286b17545d767e3423c": {
      "model_module": "@jupyter-widgets/controls",
      "model_module_version": "1.1.0",
      "model_name": "HTMLModel",
      "state": {
       "description": "Sample Link:",
       "layout": "IPY_MODEL_a638ac8a117e4d7686bb7972110055d0",
       "placeholder": "",
       "style": "IPY_MODEL_e315c1f390274d9792ccf15750607220",
       "value": "<i><b>https://www.mudah.my/malaysia/cars-for-sale?o=1&q=&th=1</b><i>"
      }
     },
     "a558090a62fb408ba2bb3225ce9c7cb8": {
      "model_module": "@jupyter-widgets/controls",
      "model_module_version": "1.1.0",
      "model_name": "VBoxModel",
      "state": {
       "children": [
        "IPY_MODEL_8d177eee05dc478f92c66698d8612381",
        "IPY_MODEL_bc07d51c7bd049b6b214422ef3b7ce70",
        "IPY_MODEL_e767bb4486b149b3a8c4721029779486",
        "IPY_MODEL_a56078b5fb524adba1559811a4f8be64"
       ],
       "layout": "IPY_MODEL_5a34d356053f4787b6b10728c9dea86e"
      }
     },
     "a56078b5fb524adba1559811a4f8be64": {
      "model_module": "@jupyter-widgets/controls",
      "model_module_version": "1.1.0",
      "model_name": "TextModel",
      "state": {
       "description": "CSV file:",
       "layout": "IPY_MODEL_8e233f242f634e04ba3d51138ed09a5d",
       "placeholder": "Name of cleaned csv file",
       "style": "IPY_MODEL_b68f160dbb514798ab987768c9bf3669"
      }
     },
     "a562650c1cd54f4b9f387058299dccd7": {
      "model_module": "@jupyter-widgets/base",
      "model_module_version": "1.0.0",
      "model_name": "LayoutModel",
      "state": {}
     },
     "a5d7e128619942edb852017e26b8018c": {
      "model_module": "@jupyter-widgets/controls",
      "model_module_version": "1.1.0",
      "model_name": "ToggleButtonsStyleModel",
      "state": {
       "button_width": "",
       "description_width": ""
      }
     },
     "a5e8043353e14456bbf36398f2f5a7b2": {
      "model_module": "@jupyter-widgets/controls",
      "model_module_version": "1.1.0",
      "model_name": "ButtonModel",
      "state": {
       "description": "Click Me",
       "icon": "check",
       "layout": "IPY_MODEL_b5c5c496fca945c5957d59d85e8d3e8c",
       "style": "IPY_MODEL_47b6e2f6371341a3bb2689d1d9d86bba",
       "tooltip": "Click me"
      }
     },
     "a60b50459d2a44d8951bb37c457a4a8d": {
      "model_module": "@jupyter-widgets/controls",
      "model_module_version": "1.1.0",
      "model_name": "ButtonStyleModel",
      "state": {}
     },
     "a638ac8a117e4d7686bb7972110055d0": {
      "model_module": "@jupyter-widgets/base",
      "model_module_version": "1.0.0",
      "model_name": "LayoutModel",
      "state": {}
     },
     "a67e00c2fbc841f5af9dad5ae5b741c5": {
      "model_module": "@jupyter-widgets/base",
      "model_module_version": "1.0.0",
      "model_name": "LayoutModel",
      "state": {}
     },
     "a68802321dc845ce9092bb674b54b0bf": {
      "model_module": "@jupyter-widgets/base",
      "model_module_version": "1.0.0",
      "model_name": "LayoutModel",
      "state": {}
     },
     "a7132afe72af45b7baa7431ec2d658fa": {
      "model_module": "@jupyter-widgets/controls",
      "model_module_version": "1.1.0",
      "model_name": "VBoxModel",
      "state": {
       "children": [
        "IPY_MODEL_0a2dbd6458f8459dabb1c3e865a41085",
        "IPY_MODEL_c55d802d0dec40b0b2ed40e39f14bb2e"
       ],
       "layout": "IPY_MODEL_81b53a9f23644d2a8a7eaa38d66b6785"
      }
     },
     "a76f4fbdc6f9446a8fd13716476da495": {
      "model_module": "@jupyter-widgets/base",
      "model_module_version": "1.0.0",
      "model_name": "LayoutModel",
      "state": {}
     },
     "a86e40daeb0e40b7928dc081be52729e": {
      "model_module": "@jupyter-widgets/controls",
      "model_module_version": "1.1.0",
      "model_name": "HTMLModel",
      "state": {
       "description": "Sample CSV:",
       "layout": "IPY_MODEL_ec8ffe1d6fb848f5ad25a154522deb5f",
       "placeholder": "",
       "style": "IPY_MODEL_af721f71eb544161892ae58f81fafba0",
       "value": "<i><b>kereta</b><i>"
      }
     },
     "a89c7d4c050b46c5959a67caa0435a6a": {
      "model_module": "@jupyter-widgets/controls",
      "model_module_version": "1.1.0",
      "model_name": "DescriptionStyleModel",
      "state": {
       "description_width": ""
      }
     },
     "a92e654c7f604f5fa2b9a3427f87dfa9": {
      "model_module": "@jupyter-widgets/controls",
      "model_module_version": "1.1.0",
      "model_name": "DropdownModel",
      "state": {
       "_options_labels": [
        "-",
        "5",
        "6",
        "7",
        "8",
        "9",
        "10"
       ],
       "description": "Head:",
       "index": 0,
       "layout": "IPY_MODEL_d3107afff19b4e95be522767c8a5f99a",
       "style": "IPY_MODEL_cfa1943e04904fc4bb1a163c1a2cf71c"
      }
     },
     "a93bf36ce87a4ef88bd807d0dc87f2fc": {
      "model_module": "@jupyter-widgets/controls",
      "model_module_version": "1.1.0",
      "model_name": "DescriptionStyleModel",
      "state": {
       "description_width": ""
      }
     },
     "aa3da67bd2e04cc99e0c18734bc4abc8": {
      "model_module": "@jupyter-widgets/base",
      "model_module_version": "1.0.0",
      "model_name": "LayoutModel",
      "state": {}
     },
     "aa889f4eaabd4896b170cee59ed7f27c": {
      "model_module": "@jupyter-widgets/base",
      "model_module_version": "1.0.0",
      "model_name": "LayoutModel",
      "state": {}
     },
     "aa984f7983744fa4b8fca94eb8f6dfbf": {
      "model_module": "@jupyter-widgets/controls",
      "model_module_version": "1.1.0",
      "model_name": "DescriptionStyleModel",
      "state": {
       "description_width": ""
      }
     },
     "aa998e6d0f544f9b83e13838f2c99aa7": {
      "model_module": "@jupyter-widgets/controls",
      "model_module_version": "1.1.0",
      "model_name": "ButtonStyleModel",
      "state": {}
     },
     "ab0ec69de24c4ec68ea5c4c772d0ff6a": {
      "model_module": "@jupyter-widgets/controls",
      "model_module_version": "1.1.0",
      "model_name": "DescriptionStyleModel",
      "state": {
       "description_width": ""
      }
     },
     "aba9fc35f9d94466b3b68d70b3c3488d": {
      "model_module": "@jupyter-widgets/controls",
      "model_module_version": "1.1.0",
      "model_name": "DropdownModel",
      "state": {
       "_options_labels": [
        "-",
        "5",
        "6",
        "7",
        "8",
        "9",
        "10"
       ],
       "description": "Head:",
       "index": 0,
       "layout": "IPY_MODEL_b64ad0cd0f8640b6b2cdd61f039067c3",
       "style": "IPY_MODEL_c1eaef493d1746aeb107b1e68d2d3b1d"
      }
     },
     "abe6357e447d4e2fb079b50954110637": {
      "model_module": "@jupyter-widgets/base",
      "model_module_version": "1.0.0",
      "model_name": "LayoutModel",
      "state": {}
     },
     "ac0cef52fe644955a74e6dfe122f460d": {
      "model_module": "@jupyter-widgets/controls",
      "model_module_version": "1.1.0",
      "model_name": "ToggleButtonsModel",
      "state": {
       "_options_labels": [
        "Head",
        "Random",
        "Sample"
       ],
       "button_style": "",
       "description": "View Method:",
       "icons": [],
       "index": 2,
       "layout": "IPY_MODEL_830f1d6e4fd24bd6b4fd7e325e3d38bc",
       "style": "IPY_MODEL_6d29524ba45340d28f9690f04ef60c72",
       "tooltips": [
        "Description of slow",
        "Description of regular",
        "Description of fast"
       ]
      }
     },
     "acfaffa50d014fab9fdc1153fb678acd": {
      "model_module": "@jupyter-widgets/base",
      "model_module_version": "1.0.0",
      "model_name": "LayoutModel",
      "state": {}
     },
     "ad039356f5e545f6b57395093ebd7e0d": {
      "model_module": "@jupyter-widgets/base",
      "model_module_version": "1.0.0",
      "model_name": "LayoutModel",
      "state": {}
     },
     "ae02cd9dad5d41b99921ad60a98efc5f": {
      "model_module": "@jupyter-widgets/base",
      "model_module_version": "1.0.0",
      "model_name": "LayoutModel",
      "state": {}
     },
     "ae16bfa2362f4d00b644d00af2a2a094": {
      "model_module": "@jupyter-widgets/base",
      "model_module_version": "1.0.0",
      "model_name": "LayoutModel",
      "state": {}
     },
     "ae2158f9a65948f49a6e473cb6ecd030": {
      "model_module": "@jupyter-widgets/controls",
      "model_module_version": "1.1.0",
      "model_name": "DescriptionStyleModel",
      "state": {
       "description_width": ""
      }
     },
     "ae3929f71b3a48b699108d46ceea52f5": {
      "model_module": "@jupyter-widgets/controls",
      "model_module_version": "1.1.0",
      "model_name": "ButtonStyleModel",
      "state": {}
     },
     "aec23f3204a04c299c812acba3fa72cb": {
      "model_module": "@jupyter-widgets/controls",
      "model_module_version": "1.1.0",
      "model_name": "DescriptionStyleModel",
      "state": {
       "description_width": ""
      }
     },
     "af3178c8d8d64b148b2a58881735c0e7": {
      "model_module": "@jupyter-widgets/controls",
      "model_module_version": "1.1.0",
      "model_name": "TextModel",
      "state": {
       "description": "Link:",
       "layout": "IPY_MODEL_ff6499bae858429ab9d6b37ef2a159fd",
       "placeholder": "Paste your mudah.my link here",
       "style": "IPY_MODEL_aec23f3204a04c299c812acba3fa72cb"
      }
     },
     "af464d4c27ac4cbc9b91795427c5d0db": {
      "model_module": "@jupyter-widgets/controls",
      "model_module_version": "1.1.0",
      "model_name": "DescriptionStyleModel",
      "state": {
       "description_width": ""
      }
     },
     "af64b0b612c9454b8d33cf19e4771eaa": {
      "model_module": "@jupyter-widgets/controls",
      "model_module_version": "1.1.0",
      "model_name": "DescriptionStyleModel",
      "state": {
       "description_width": ""
      }
     },
     "af721f71eb544161892ae58f81fafba0": {
      "model_module": "@jupyter-widgets/controls",
      "model_module_version": "1.1.0",
      "model_name": "DescriptionStyleModel",
      "state": {
       "description_width": ""
      }
     },
     "b05018464eed4886b0d7e6199f54125f": {
      "model_module": "@jupyter-widgets/base",
      "model_module_version": "1.0.0",
      "model_name": "LayoutModel",
      "state": {}
     },
     "b070752a122945f18c1f2b7b30d5b224": {
      "model_module": "@jupyter-widgets/controls",
      "model_module_version": "1.1.0",
      "model_name": "ButtonStyleModel",
      "state": {
       "button_color": "red"
      }
     },
     "b07f60cd489c4fcfb3db8e847268ac89": {
      "model_module": "@jupyter-widgets/controls",
      "model_module_version": "1.1.0",
      "model_name": "DescriptionStyleModel",
      "state": {
       "description_width": ""
      }
     },
     "b094964f3fe4440c924cf84ec4d539a1": {
      "model_module": "@jupyter-widgets/base",
      "model_module_version": "1.0.0",
      "model_name": "LayoutModel",
      "state": {}
     },
     "b0a2a55b06e54859a6d8b088b631a2e0": {
      "model_module": "@jupyter-widgets/controls",
      "model_module_version": "1.1.0",
      "model_name": "DescriptionStyleModel",
      "state": {
       "description_width": ""
      }
     },
     "b1a27e6b3e49444cbf4724649fd72f5b": {
      "model_module": "@jupyter-widgets/controls",
      "model_module_version": "1.1.0",
      "model_name": "ButtonStyleModel",
      "state": {}
     },
     "b1b8eb382fe542d28ea28545ba0bd21d": {
      "model_module": "@jupyter-widgets/controls",
      "model_module_version": "1.1.0",
      "model_name": "AccordionModel",
      "state": {
       "_titles": {
        "0": "Method",
        "1": "Analysis",
        "2": "Result"
       },
       "children": [
        "IPY_MODEL_fd6b144b8dc1467593c1e6169a798e39",
        "IPY_MODEL_be531467309840e98c50e8924b26e9af",
        "IPY_MODEL_a7132afe72af45b7baa7431ec2d658fa"
       ],
       "layout": "IPY_MODEL_faeafe9a84924f26ae2f5889ebc53778",
       "selected_index": 1
      }
     },
     "b1d3d0d2523446528ab5532399978e55": {
      "model_module": "@jupyter-widgets/base",
      "model_module_version": "1.0.0",
      "model_name": "LayoutModel",
      "state": {}
     },
     "b23de9e58b1b4777bc77ca7f26c42522": {
      "model_module": "@jupyter-widgets/controls",
      "model_module_version": "1.1.0",
      "model_name": "TextModel",
      "state": {
       "description": "Folder Path:",
       "layout": "IPY_MODEL_3e622ef4f6d64127a323dc190538b52c",
       "placeholder": "Upload cleaned dataset",
       "style": "IPY_MODEL_f34e271c72524878bfa79144e1a12fc6"
      }
     },
     "b26419d45c834d77aa127f4829c4bd32": {
      "model_module": "@jupyter-widgets/base",
      "model_module_version": "1.0.0",
      "model_name": "LayoutModel",
      "state": {}
     },
     "b28d892466134cf6b69f03ad873116f0": {
      "model_module": "@jupyter-widgets/controls",
      "model_module_version": "1.1.0",
      "model_name": "VBoxModel",
      "state": {
       "children": [
        "IPY_MODEL_8d177eee05dc478f92c66698d8612381",
        "IPY_MODEL_7500865d96ca4f1dbbe71bbe3f3ec2a7",
        "IPY_MODEL_f8aeb875926c4facb8aaa0fa4152351a",
        "IPY_MODEL_cd93df0abb2045b1b0b942da07048171"
       ],
       "layout": "IPY_MODEL_d8891604d5684823a08bae2ee79f2d29"
      }
     },
     "b2959d14829b4d19aedaebcae92de2fd": {
      "model_module": "@jupyter-widgets/base",
      "model_module_version": "1.0.0",
      "model_name": "LayoutModel",
      "state": {}
     },
     "b2c0b05c51c04562bde1bc77c4cf78cd": {
      "model_module": "@jupyter-widgets/base",
      "model_module_version": "1.0.0",
      "model_name": "LayoutModel",
      "state": {}
     },
     "b2c809e7852e4caab304a484f30da39c": {
      "model_module": "@jupyter-widgets/controls",
      "model_module_version": "1.1.0",
      "model_name": "TabModel",
      "state": {
       "_titles": {
        "0": "1. Extaction",
        "1": "2. Data",
        "2": "3. Evaluation"
       },
       "children": [
        "IPY_MODEL_c1aed1dbd974447390e3105e74d28fa1",
        "IPY_MODEL_1a30954b1cde44f180632b27f3a86c67",
        "IPY_MODEL_f96682b78602466f83d573ae8d37047e"
       ],
       "layout": "IPY_MODEL_4296f1d3e97340f8a9e636412e3a3cba",
       "selected_index": 2
      }
     },
     "b2cb993b9757448b94142341efc1bb11": {
      "model_module": "@jupyter-widgets/controls",
      "model_module_version": "1.1.0",
      "model_name": "ButtonModel",
      "state": {
       "description": "Boxplot",
       "icon": "check",
       "layout": "IPY_MODEL_4a33fbede3e640298aef0f646de67912",
       "style": "IPY_MODEL_67e3b85cb6c24485a3679d37211a8fa5",
       "tooltip": "Click me"
      }
     },
     "b31b6e4024c640dfba2475634e52f7d3": {
      "model_module": "@jupyter-widgets/base",
      "model_module_version": "1.0.0",
      "model_name": "LayoutModel",
      "state": {}
     },
     "b32d937165f54437bc574ce159191a85": {
      "model_module": "@jupyter-widgets/controls",
      "model_module_version": "1.1.0",
      "model_name": "VBoxModel",
      "state": {
       "children": [
        "IPY_MODEL_62680191192a49138b251b2882baf95d",
        "IPY_MODEL_03a21665b38741db96365e7b1e454f3e"
       ],
       "layout": "IPY_MODEL_271470cb881c44158f7936ca65f6257a"
      }
     },
     "b35eb12214874da0b529fa1f4978bfce": {
      "model_module": "@jupyter-widgets/controls",
      "model_module_version": "1.1.0",
      "model_name": "HTMLModel",
      "state": {
       "layout": "IPY_MODEL_2757da56b37e44f2978020debe5222d9",
       "placeholder": "",
       "style": "IPY_MODEL_54a93fd7700d4100a027a6ad5c02f0a9",
       "value": "<b>Choose to view and compare by attributes<b>"
      }
     },
     "b38353b32753462aad0a98d0d2bf3f3a": {
      "model_module": "@jupyter-widgets/controls",
      "model_module_version": "1.1.0",
      "model_name": "TextModel",
      "state": {
       "description": "CSV file:",
       "layout": "IPY_MODEL_cce26becebab4d35aa1f952d8fd5958b",
       "placeholder": "Name your scrap csv file",
       "style": "IPY_MODEL_3b0a015d1c7843eaafaeb350d66db6f0"
      }
     },
     "b3cea728cb5a460c91930e3796260e8a": {
      "model_module": "@jupyter-widgets/base",
      "model_module_version": "1.0.0",
      "model_name": "LayoutModel",
      "state": {}
     },
     "b3ee4496b7b34a38860dfa2f4669bb1d": {
      "model_module": "@jupyter-widgets/controls",
      "model_module_version": "1.1.0",
      "model_name": "ButtonModel",
      "state": {
       "description": "Click Me!!",
       "icon": "check",
       "layout": "IPY_MODEL_40e4c9f7d73b4c3497ebd441daf31eef",
       "style": "IPY_MODEL_8b99463da8ce4fd898bad221cf982610",
       "tooltip": "Click me"
      }
     },
     "b4a4b72ad0324362bb982cdef43f5ca8": {
      "model_module": "@jupyter-widgets/controls",
      "model_module_version": "1.1.0",
      "model_name": "AccordionModel",
      "state": {
       "_titles": {
        "0": "Upload",
        "1": "View"
       },
       "children": [
        "IPY_MODEL_caa4e06876014c03a4154d95d5a12b1c",
        "IPY_MODEL_52623dd87ee446e4a010265993b5d82b"
       ],
       "layout": "IPY_MODEL_5b639445c873418286989b251a61138b"
      }
     },
     "b4b4600ed99745608b70d89496f964bb": {
      "model_module": "@jupyter-widgets/base",
      "model_module_version": "1.0.0",
      "model_name": "LayoutModel",
      "state": {}
     },
     "b4b755197fb34e70981d120c690d7275": {
      "model_module": "@jupyter-widgets/controls",
      "model_module_version": "1.1.0",
      "model_name": "DropdownModel",
      "state": {
       "_options_labels": [
        "-",
        "5",
        "6",
        "7",
        "8",
        "9",
        "10"
       ],
       "description": "Random:",
       "index": 0,
       "layout": "IPY_MODEL_b5a23e7af0394ff197563d66bb0bb60d",
       "style": "IPY_MODEL_b9d9cdff91ac4bfca707c861d956cbae"
      }
     },
     "b4de0c4539d04725a69a5a45ca891d65": {
      "model_module": "@jupyter-widgets/base",
      "model_module_version": "1.0.0",
      "model_name": "LayoutModel",
      "state": {}
     },
     "b4f5d419989446eba4da349d74e907f1": {
      "model_module": "@jupyter-widgets/controls",
      "model_module_version": "1.1.0",
      "model_name": "HTMLModel",
      "state": {
       "description": "Sample Link:",
       "layout": "IPY_MODEL_d9cc06d522674169806c81b152464211",
       "placeholder": "",
       "style": "IPY_MODEL_02ea4ed28071428b8a497e1e2247aca4",
       "value": "<i><b>https://www.mudah.my/malaysia/cars-for-sale?o=1&q=&th=1</b><i>"
      }
     },
     "b539b75593784c3abad56cd0ce0f1c69": {
      "model_module": "@jupyter-widgets/controls",
      "model_module_version": "1.1.0",
      "model_name": "ButtonStyleModel",
      "state": {}
     },
     "b5a23e7af0394ff197563d66bb0bb60d": {
      "model_module": "@jupyter-widgets/base",
      "model_module_version": "1.0.0",
      "model_name": "LayoutModel",
      "state": {}
     },
     "b5ba8def33734762a1553df7308ee799": {
      "model_module": "@jupyter-widgets/controls",
      "model_module_version": "1.1.0",
      "model_name": "TabModel",
      "state": {
       "_titles": {
        "0": "1. Extaction",
        "1": "2. Data",
        "2": "3. Evaluation"
       },
       "children": [
        "IPY_MODEL_c1aed1dbd974447390e3105e74d28fa1",
        "IPY_MODEL_b4a4b72ad0324362bb982cdef43f5ca8",
        "IPY_MODEL_fc1e7c997c12448d936f0dacc5166473"
       ],
       "layout": "IPY_MODEL_f91d568c99cf4654a7eaab04d7053ccf",
       "selected_index": 1
      }
     },
     "b5c5c496fca945c5957d59d85e8d3e8c": {
      "model_module": "@jupyter-widgets/base",
      "model_module_version": "1.0.0",
      "model_name": "LayoutModel",
      "state": {}
     },
     "b5f9e27eddad4af38a41949ec6e09f81": {
      "model_module": "@jupyter-widgets/controls",
      "model_module_version": "1.1.0",
      "model_name": "DescriptionStyleModel",
      "state": {
       "description_width": ""
      }
     },
     "b6294524e98545f2a3092ac9b03cc4f7": {
      "model_module": "@jupyter-widgets/controls",
      "model_module_version": "1.1.0",
      "model_name": "DescriptionStyleModel",
      "state": {
       "description_width": ""
      }
     },
     "b64ad0cd0f8640b6b2cdd61f039067c3": {
      "model_module": "@jupyter-widgets/base",
      "model_module_version": "1.0.0",
      "model_name": "LayoutModel",
      "state": {}
     },
     "b68f160dbb514798ab987768c9bf3669": {
      "model_module": "@jupyter-widgets/controls",
      "model_module_version": "1.1.0",
      "model_name": "DescriptionStyleModel",
      "state": {
       "description_width": ""
      }
     },
     "b6de5d2a248249b68ff41f3a07334c64": {
      "model_module": "@jupyter-widgets/controls",
      "model_module_version": "1.1.0",
      "model_name": "HBoxModel",
      "state": {
       "children": [
        "IPY_MODEL_c277788803d94f98a50c95662b50d169",
        "IPY_MODEL_9576f7fe000e46e58bd58e8d79c5b614",
        "IPY_MODEL_71749f1dd77a4d5fbe3718110bc8b631"
       ],
       "layout": "IPY_MODEL_ffa9383df0114466b88807a9e29d9595"
      }
     },
     "b74141f1ed434d53af3780f02ebe0da6": {
      "model_module": "@jupyter-widgets/controls",
      "model_module_version": "1.1.0",
      "model_name": "VBoxModel",
      "state": {
       "children": [
        "IPY_MODEL_3db03be525d946e6b94134adf035c076",
        "IPY_MODEL_7500865d96ca4f1dbbe71bbe3f3ec2a7",
        "IPY_MODEL_fa67e536e28c4a23be7662f95e68f9d9",
        "IPY_MODEL_cd93df0abb2045b1b0b942da07048171"
       ],
       "layout": "IPY_MODEL_52317009b8344f2d85026dc6b7c1d8e0"
      }
     },
     "b8c2704276a640749b4a833bd7dda28e": {
      "model_module": "@jupyter-widgets/base",
      "model_module_version": "1.0.0",
      "model_name": "LayoutModel",
      "state": {}
     },
     "b8e81dc2819a48cfbaa5ddc238f12c34": {
      "model_module": "@jupyter-widgets/controls",
      "model_module_version": "1.1.0",
      "model_name": "DescriptionStyleModel",
      "state": {
       "description_width": ""
      }
     },
     "b9bce5b28229431f8de0cb265328a207": {
      "model_module": "@jupyter-widgets/controls",
      "model_module_version": "1.1.0",
      "model_name": "DescriptionStyleModel",
      "state": {
       "description_width": ""
      }
     },
     "b9d9cdff91ac4bfca707c861d956cbae": {
      "model_module": "@jupyter-widgets/controls",
      "model_module_version": "1.1.0",
      "model_name": "DescriptionStyleModel",
      "state": {
       "description_width": ""
      }
     },
     "b9f4df305d614f74afb6bef966df9b0c": {
      "model_module": "@jupyter-widgets/controls",
      "model_module_version": "1.1.0",
      "model_name": "HTMLModel",
      "state": {
       "layout": "IPY_MODEL_835a523124004e6ab511a6b213733f5a",
       "placeholder": "",
       "style": "IPY_MODEL_55d07732a502419a8863643f636b73c1",
       "value": "<b>Choose to view and compare by attributes<b>!!"
      }
     },
     "b9f92f86ec4347a992164374089033de": {
      "model_module": "@jupyter-widgets/base",
      "model_module_version": "1.0.0",
      "model_name": "LayoutModel",
      "state": {}
     },
     "ba3b65a9051249f78171ae0e71777155": {
      "model_module": "@jupyter-widgets/controls",
      "model_module_version": "1.1.0",
      "model_name": "DescriptionStyleModel",
      "state": {
       "description_width": ""
      }
     },
     "ba618063ccf343ef9738ec005d2fe4c2": {
      "model_module": "@jupyter-widgets/controls",
      "model_module_version": "1.1.0",
      "model_name": "SelectMultipleModel",
      "state": {
       "_options_labels": [
        "Price",
        "Year",
        "Mileage"
       ],
       "description": "Filter by",
       "index": [
        0
       ],
       "layout": "IPY_MODEL_6d30afcf0d304716bada29ee0fbd8cd0",
       "rows": 3,
       "style": "IPY_MODEL_5ea6f63f88374e0ab9fc1d988cda1e1f"
      }
     },
     "bae92aa8ae6141969865157c04f35226": {
      "model_module": "@jupyter-widgets/base",
      "model_module_version": "1.0.0",
      "model_name": "LayoutModel",
      "state": {}
     },
     "baedf48211b64a6483333343dabac731": {
      "model_module": "@jupyter-widgets/controls",
      "model_module_version": "1.1.0",
      "model_name": "VBoxModel",
      "state": {
       "children": [
        "IPY_MODEL_bba9e3584811481d801976797911dfa7",
        "IPY_MODEL_dd49c91cfdb94a6a89a185516577131d"
       ],
       "layout": "IPY_MODEL_34b93282438545d9bd868d3dbdb32527"
      }
     },
     "bb6eeb672d404159b5025598ced30c6f": {
      "model_module": "@jupyter-widgets/controls",
      "model_module_version": "1.1.0",
      "model_name": "TextModel",
      "state": {
       "description": "Link:",
       "layout": "IPY_MODEL_7f1b23f208604fbc986b0499b6f4f8db",
       "placeholder": "Paste your mudah.my link here",
       "style": "IPY_MODEL_7752568ceb9243fab544b225e660af11"
      }
     },
     "bb727ed9dd994528be70253f3323cf02": {
      "model_module": "@jupyter-widgets/controls",
      "model_module_version": "1.1.0",
      "model_name": "AccordionModel",
      "state": {
       "_titles": {
        "0": "Scrap"
       },
       "children": [
        "IPY_MODEL_4585d3ed2cc843609dfb4eeff3f0c9e6"
       ],
       "layout": "IPY_MODEL_a466e5de43fa4b73a0959891fe594d46"
      }
     },
     "bb8a1a2b848249e58aa8c2be3fd69c63": {
      "model_module": "@jupyter-widgets/controls",
      "model_module_version": "1.1.0",
      "model_name": "TextModel",
      "state": {
       "description": "CSV file:",
       "layout": "IPY_MODEL_f196b839cf764f64a658b14c2d221f5c",
       "placeholder": "Name your scrap csv file",
       "style": "IPY_MODEL_818174caa3a543ab826c503608883279"
      }
     },
     "bba9e3584811481d801976797911dfa7": {
      "model_module": "@jupyter-widgets/controls",
      "model_module_version": "1.1.0",
      "model_name": "HTMLModel",
      "state": {
       "description": "Sample Link:",
       "layout": "IPY_MODEL_f4ef6924a22040a69eda67c1a2ea031b",
       "placeholder": "",
       "style": "IPY_MODEL_6030f464f9684962be3729ea296484eb",
       "value": "<i><b>https://www.mudah.my/malaysia/cars-for-sale?o=1&q=&th=1</b><i>"
      }
     },
     "bbe6e5f0d003414191693cad46aabe3f": {
      "model_module": "@jupyter-widgets/controls",
      "model_module_version": "1.1.0",
      "model_name": "TextModel",
      "state": {
       "description": "Link:",
       "layout": "IPY_MODEL_295034a33e844c8abc7bea0c3e1c3fb6",
       "placeholder": "Paste your mudah.my link here",
       "style": "IPY_MODEL_b5f9e27eddad4af38a41949ec6e09f81"
      }
     },
     "bc07d51c7bd049b6b214422ef3b7ce70": {
      "model_module": "@jupyter-widgets/controls",
      "model_module_version": "1.1.0",
      "model_name": "TextModel",
      "state": {
       "description": "Folder Path:",
       "layout": "IPY_MODEL_a0498110ecf542a0a21e8c7b4f0e97bd",
       "placeholder": "Upload cleaned dataset",
       "style": "IPY_MODEL_6ca2164e821a48a2b3db63fcac478a2a"
      }
     },
     "bc5707130da84f9591aee6ff697cd9cb": {
      "model_module": "@jupyter-widgets/controls",
      "model_module_version": "1.1.0",
      "model_name": "VBoxModel",
      "state": {
       "children": [
        "IPY_MODEL_0a2dbd6458f8459dabb1c3e865a41085",
        "IPY_MODEL_c55d802d0dec40b0b2ed40e39f14bb2e"
       ],
       "layout": "IPY_MODEL_ae16bfa2362f4d00b644d00af2a2a094"
      }
     },
     "bc6d2493aa5641e385fadacb7794f575": {
      "model_module": "@jupyter-widgets/controls",
      "model_module_version": "1.1.0",
      "model_name": "VBoxModel",
      "state": {
       "children": [
        "IPY_MODEL_db5eaa7a0c66490aa37b63f36ee264c0",
        "IPY_MODEL_17cb28b44aca474f8b49243527ed1be9"
       ],
       "layout": "IPY_MODEL_2cd7771f8ff64ba3927f6803844a6720"
      }
     },
     "bc8301d0bf33459ea8378859e8bb8a4a": {
      "model_module": "@jupyter-widgets/controls",
      "model_module_version": "1.1.0",
      "model_name": "HTMLModel",
      "state": {
       "layout": "IPY_MODEL_8ab0381f3af2470eb0fd41ee422f94ba",
       "placeholder": "",
       "style": "IPY_MODEL_c14424b68a804db78b0f43bd54946026",
       "value": "<b>Choose to view and compare by attributes<b>"
      }
     },
     "bcac3dd756a44448ab3d85ff0c8a831a": {
      "model_module": "@jupyter-widgets/controls",
      "model_module_version": "1.1.0",
      "model_name": "TextModel",
      "state": {
       "description": "Folder Path:",
       "layout": "IPY_MODEL_4dc6cb5c3f674fffb7d7e3499d648acc",
       "placeholder": "Paste folder path to upload dataset",
       "style": "IPY_MODEL_5660402b0924413c9b7ba747de832ad9"
      }
     },
     "bcfc4c6f86a44c9c901bdb29cd287a60": {
      "model_module": "@jupyter-widgets/controls",
      "model_module_version": "1.1.0",
      "model_name": "HTMLModel",
      "state": {
       "layout": "IPY_MODEL_32acb930aa1e43f4a7b3deed077fc685",
       "placeholder": "",
       "style": "IPY_MODEL_9128ebc960c64108a996bf13c63c3165",
       "value": "Apply <b>Data Mining<b> Method!!"
      }
     },
     "bd60008baaec4ab4a79fe871e57a5d80": {
      "model_module": "@jupyter-widgets/base",
      "model_module_version": "1.0.0",
      "model_name": "LayoutModel",
      "state": {}
     },
     "bd6174de829c4b3ba310227cddd66430": {
      "model_module": "@jupyter-widgets/base",
      "model_module_version": "1.0.0",
      "model_name": "LayoutModel",
      "state": {}
     },
     "bd8c3b18fe93480f8f69a78346cfa72c": {
      "model_module": "@jupyter-widgets/controls",
      "model_module_version": "1.1.0",
      "model_name": "ButtonStyleModel",
      "state": {}
     },
     "bda66ee46d524d5babf019f84c3dc3e5": {
      "model_module": "@jupyter-widgets/controls",
      "model_module_version": "1.1.0",
      "model_name": "DescriptionStyleModel",
      "state": {
       "description_width": ""
      }
     },
     "be531467309840e98c50e8924b26e9af": {
      "model_module": "@jupyter-widgets/controls",
      "model_module_version": "1.1.0",
      "model_name": "VBoxModel",
      "state": {
       "children": [
        "IPY_MODEL_8f1ccdef41ef48c6bbf02a6c40669928",
        "IPY_MODEL_5824cb8c0f534c1b88689176c33a08b3"
       ],
       "layout": "IPY_MODEL_9a87c01726574cb38f1c89c470f32def"
      }
     },
     "be6445ad7cf64a24a024977ba301d259": {
      "model_module": "@jupyter-widgets/controls",
      "model_module_version": "1.1.0",
      "model_name": "VBoxModel",
      "state": {
       "children": [
        "IPY_MODEL_bff8addeabaf452cacb333c7148e6700",
        "IPY_MODEL_7493b78af798428cbb5ba18c8ae2de46",
        "IPY_MODEL_a86e40daeb0e40b7928dc081be52729e",
        "IPY_MODEL_30958a795177422c96cf2d9500b34d64"
       ],
       "layout": "IPY_MODEL_0b402432bc1a4f75bc6e033ab7a89969"
      }
     },
     "be9144e4480d4342b40d8aeb5064bf53": {
      "model_module": "@jupyter-widgets/base",
      "model_module_version": "1.0.0",
      "model_name": "LayoutModel",
      "state": {}
     },
     "be91601ba58447b9aef9bc597f941fd4": {
      "model_module": "@jupyter-widgets/base",
      "model_module_version": "1.0.0",
      "model_name": "LayoutModel",
      "state": {}
     },
     "bec9c03c55664adbb61cb471f4a6042c": {
      "model_module": "@jupyter-widgets/controls",
      "model_module_version": "1.1.0",
      "model_name": "SelectMultipleModel",
      "state": {
       "_options_labels": [
        "Apples",
        "Oranges",
        "Pears"
       ],
       "description": "Fruits",
       "index": [
        0
       ],
       "layout": "IPY_MODEL_ae02cd9dad5d41b99921ad60a98efc5f",
       "rows": 10,
       "style": "IPY_MODEL_8e01368b3ce14a8cb7160dab34b39bec"
      }
     },
     "bf7a5f1bde2c473dba4e01fae132bcd8": {
      "model_module": "@jupyter-widgets/controls",
      "model_module_version": "1.1.0",
      "model_name": "DescriptionStyleModel",
      "state": {
       "description_width": ""
      }
     },
     "bfcafa02d7d7404698cd99cb12f087a0": {
      "model_module": "@jupyter-widgets/controls",
      "model_module_version": "1.1.0",
      "model_name": "TextModel",
      "state": {
       "description": "CSV file:",
       "layout": "IPY_MODEL_9bebc494103e4cf5871fc91b988e8b63",
       "placeholder": "Name your scrap csv file",
       "style": "IPY_MODEL_3d098d12f21642199bfe5e54280e783d"
      }
     },
     "bff8addeabaf452cacb333c7148e6700": {
      "model_module": "@jupyter-widgets/controls",
      "model_module_version": "1.1.0",
      "model_name": "HTMLModel",
      "state": {
       "description": "Sample Path:",
       "layout": "IPY_MODEL_6db44f301369489bb7f35099a1de2148",
       "placeholder": "",
       "style": "IPY_MODEL_1fe6d1a4707743498926306c550c317f",
       "value": "<i><b>C:\\Users\\LENOVO\\Documents</b><i>"
      }
     },
     "c009b1be3dc14974a2d79056742c8c09": {
      "model_module": "@jupyter-widgets/controls",
      "model_module_version": "1.1.0",
      "model_name": "VBoxModel",
      "state": {
       "children": [
        "IPY_MODEL_142bba1411d04fc9adc1fe76ba5e2c20",
        "IPY_MODEL_b23de9e58b1b4777bc77ca7f26c42522",
        "IPY_MODEL_d0725ee65c4748b3bd20b080d5952007",
        "IPY_MODEL_471a86bf6a874b0094743671469fe375"
       ],
       "layout": "IPY_MODEL_289b40ba4bd848238994d35ff0884a84"
      }
     },
     "c0244e8a0f954e4da22a1ba05ccce602": {
      "model_module": "@jupyter-widgets/controls",
      "model_module_version": "1.1.0",
      "model_name": "VBoxModel",
      "state": {
       "children": [
        "IPY_MODEL_62680191192a49138b251b2882baf95d",
        "IPY_MODEL_03a21665b38741db96365e7b1e454f3e"
       ],
       "layout": "IPY_MODEL_cc4bc522e3064ead90b9e40a215df1f4"
      }
     },
     "c0aec00a18e148348ff73d7c18e7f53e": {
      "model_module": "@jupyter-widgets/controls",
      "model_module_version": "1.1.0",
      "model_name": "ToggleButtonsModel",
      "state": {
       "_options_labels": [
        "Slow",
        "Regular",
        "Fast"
       ],
       "button_style": "",
       "description": "Speed:",
       "icons": [],
       "index": 0,
       "layout": "IPY_MODEL_11d12137f9ed48daa7ceaa63de9a68cc",
       "style": "IPY_MODEL_a5d7e128619942edb852017e26b8018c",
       "tooltips": [
        "Description of slow",
        "Description of regular",
        "Description of fast"
       ]
      }
     },
     "c0c962a955ec492795f4dfb069d38909": {
      "model_module": "@jupyter-widgets/controls",
      "model_module_version": "1.1.0",
      "model_name": "AccordionModel",
      "state": {
       "_titles": {
        "0": "Method",
        "1": "Analysis"
       },
       "children": [
        "IPY_MODEL_bc6d2493aa5641e385fadacb7794f575",
        "IPY_MODEL_0079a07bf6d44e02a238381380df57d7"
       ],
       "layout": "IPY_MODEL_7a659544e95043f18c6dee4e2e5c5c7e",
       "selected_index": null
      }
     },
     "c14424b68a804db78b0f43bd54946026": {
      "model_module": "@jupyter-widgets/controls",
      "model_module_version": "1.1.0",
      "model_name": "DescriptionStyleModel",
      "state": {
       "description_width": ""
      }
     },
     "c156f65e96d64f958c212f4c31d42a5d": {
      "model_module": "@jupyter-widgets/base",
      "model_module_version": "1.0.0",
      "model_name": "LayoutModel",
      "state": {}
     },
     "c1aed1dbd974447390e3105e74d28fa1": {
      "model_module": "@jupyter-widgets/controls",
      "model_module_version": "1.1.0",
      "model_name": "AccordionModel",
      "state": {
       "_titles": {
        "0": "Source",
        "1": "Save",
        "2": "Scrap"
       },
       "children": [
        "IPY_MODEL_05e64599de61464197c776e254148a84",
        "IPY_MODEL_b28d892466134cf6b69f03ad873116f0",
        "IPY_MODEL_35d2226f985047118ae534105052d9fe"
       ],
       "layout": "IPY_MODEL_59bf44adf6094b8fa53e2545d336d181",
       "selected_index": 2
      }
     },
     "c1ca2ec291844832a7a94f5006726b17": {
      "model_module": "@jupyter-widgets/base",
      "model_module_version": "1.0.0",
      "model_name": "LayoutModel",
      "state": {}
     },
     "c1eaef493d1746aeb107b1e68d2d3b1d": {
      "model_module": "@jupyter-widgets/controls",
      "model_module_version": "1.1.0",
      "model_name": "DescriptionStyleModel",
      "state": {
       "description_width": ""
      }
     },
     "c21afa1d2aa74bb0ab7666ca1ee5a5aa": {
      "model_module": "@jupyter-widgets/controls",
      "model_module_version": "1.1.0",
      "model_name": "VBoxModel",
      "state": {
       "children": [
        "IPY_MODEL_db5eaa7a0c66490aa37b63f36ee264c0",
        "IPY_MODEL_17cb28b44aca474f8b49243527ed1be9"
       ],
       "layout": "IPY_MODEL_a378240bf862488b8662dd28e693f241"
      }
     },
     "c21b762f2e5c4cb896012479891d2c46": {
      "model_module": "@jupyter-widgets/base",
      "model_module_version": "1.0.0",
      "model_name": "LayoutModel",
      "state": {}
     },
     "c2422a6d5ac548878994c46bebc2b5ad": {
      "model_module": "@jupyter-widgets/controls",
      "model_module_version": "1.1.0",
      "model_name": "DescriptionStyleModel",
      "state": {
       "description_width": ""
      }
     },
     "c277788803d94f98a50c95662b50d169": {
      "model_module": "@jupyter-widgets/controls",
      "model_module_version": "1.1.0",
      "model_name": "DropdownModel",
      "state": {
       "_options_labels": [
        "5",
        "6",
        "7",
        "8",
        "9",
        "10"
       ],
       "description": "Head:",
       "index": 0,
       "layout": "IPY_MODEL_fc1bb578c25f491cbcb68541b1ef230f",
       "style": "IPY_MODEL_5c30fdfe2c8743c2a1bbd637329ed421"
      }
     },
     "c2a4d148db8d44cc92c50ff573a52d89": {
      "model_module": "@jupyter-widgets/controls",
      "model_module_version": "1.1.0",
      "model_name": "TabModel",
      "state": {
       "_titles": {
        "0": "1. Extaction",
        "1": "2. Data",
        "2": "3. Evaluation"
       },
       "children": [
        "IPY_MODEL_c1aed1dbd974447390e3105e74d28fa1",
        "IPY_MODEL_b4a4b72ad0324362bb982cdef43f5ca8",
        "IPY_MODEL_fc1e7c997c12448d936f0dacc5166473"
       ],
       "layout": "IPY_MODEL_6e274946859b41bf9d680e2193bf3644",
       "selected_index": 1
      }
     },
     "c2a766c3750c465a970c47c5cb79d792": {
      "model_module": "@jupyter-widgets/controls",
      "model_module_version": "1.1.0",
      "model_name": "VBoxModel",
      "state": {
       "children": [
        "IPY_MODEL_8d177eee05dc478f92c66698d8612381",
        "IPY_MODEL_bc07d51c7bd049b6b214422ef3b7ce70",
        "IPY_MODEL_e767bb4486b149b3a8c4721029779486",
        "IPY_MODEL_a56078b5fb524adba1559811a4f8be64"
       ],
       "layout": "IPY_MODEL_f143c31dbfa0462586073d124eb45078"
      }
     },
     "c30e50e0b5b2403c9b8c3502f438da6f": {
      "model_module": "@jupyter-widgets/base",
      "model_module_version": "1.0.0",
      "model_name": "LayoutModel",
      "state": {}
     },
     "c36fc1432545495988868e283f7f4e2c": {
      "model_module": "@jupyter-widgets/controls",
      "model_module_version": "1.1.0",
      "model_name": "ButtonModel",
      "state": {
       "description": "PCA!",
       "icon": "check",
       "layout": "IPY_MODEL_5a11a9a499a64907b1cf7b0ff4aad21c",
       "style": "IPY_MODEL_1b056cc58aae458eb5eab8e8cb712f09",
       "tooltip": "Click me"
      }
     },
     "c37734a9bb66430b8d523c6304ef5563": {
      "model_module": "@jupyter-widgets/base",
      "model_module_version": "1.0.0",
      "model_name": "LayoutModel",
      "state": {}
     },
     "c38d97f4c11d44dc970e0c15d08ab5f8": {
      "model_module": "@jupyter-widgets/controls",
      "model_module_version": "1.1.0",
      "model_name": "ToggleButtonsStyleModel",
      "state": {
       "button_width": "",
       "description_width": ""
      }
     },
     "c3ab26995a4c47699e6adb790597ba93": {
      "model_module": "@jupyter-widgets/base",
      "model_module_version": "1.0.0",
      "model_name": "LayoutModel",
      "state": {}
     },
     "c3d36a1efe3d40c3af63eb8114d973b7": {
      "model_module": "@jupyter-widgets/controls",
      "model_module_version": "1.1.0",
      "model_name": "AccordionModel",
      "state": {
       "_titles": {
        "0": "View"
       },
       "children": [
        "IPY_MODEL_ed290e66c6654befbd46c1202a36791d",
        "IPY_MODEL_06764c74d0fc4d9bb74f6786e6297cb6"
       ],
       "layout": "IPY_MODEL_32fc07a1ce8d41f485f9df97d407ac60"
      }
     },
     "c4130d3c04164f4b94d2e416173de5f7": {
      "model_module": "@jupyter-widgets/base",
      "model_module_version": "1.0.0",
      "model_name": "LayoutModel",
      "state": {}
     },
     "c4411c578ff34f4a960842497d9f6054": {
      "model_module": "@jupyter-widgets/base",
      "model_module_version": "1.0.0",
      "model_name": "LayoutModel",
      "state": {}
     },
     "c4578dc89a094a94b833f23c73d8d789": {
      "model_module": "@jupyter-widgets/base",
      "model_module_version": "1.0.0",
      "model_name": "LayoutModel",
      "state": {}
     },
     "c48961283361492592bbbccb88b3d3c6": {
      "model_module": "@jupyter-widgets/base",
      "model_module_version": "1.0.0",
      "model_name": "LayoutModel",
      "state": {}
     },
     "c48f116147364a209a290fd3f6510a8f": {
      "model_module": "@jupyter-widgets/base",
      "model_module_version": "1.0.0",
      "model_name": "LayoutModel",
      "state": {}
     },
     "c4b77d06a74944a79cbe9d6318d31824": {
      "model_module": "@jupyter-widgets/controls",
      "model_module_version": "1.1.0",
      "model_name": "TextModel",
      "state": {
       "description": "CSV file:",
       "layout": "IPY_MODEL_7e15522d5e014f0e97458b5f6b8d4a63",
       "placeholder": "Name your scrap csv file",
       "style": "IPY_MODEL_ea61e8a6e5734c2aa164c68b1a5c0c27"
      }
     },
     "c523bc0aa71849d9913b2c20ec74a6ed": {
      "model_module": "@jupyter-widgets/controls",
      "model_module_version": "1.1.0",
      "model_name": "DescriptionStyleModel",
      "state": {
       "description_width": ""
      }
     },
     "c52e5f11f080475597c90a18038791ca": {
      "model_module": "@jupyter-widgets/controls",
      "model_module_version": "1.1.0",
      "model_name": "AccordionModel",
      "state": {
       "_titles": {
        "0": "Method",
        "1": "Analysis",
        "2": "Result"
       },
       "children": [
        "IPY_MODEL_2c46aec423f94b75b05287be46a1fe5f",
        "IPY_MODEL_05b456de2c8341a6b2139b0b101f1389",
        "IPY_MODEL_9be00890b0fd4071ab46e041bfe2d081"
       ],
       "layout": "IPY_MODEL_56dc76b580f44916ac2ec35f0b5ef7aa"
      }
     },
     "c5518b50d2c048159c586235378434f3": {
      "model_module": "@jupyter-widgets/controls",
      "model_module_version": "1.1.0",
      "model_name": "HBoxModel",
      "state": {
       "children": [
        "IPY_MODEL_377c02a87f604dc5915e5e20db8be8b3",
        "IPY_MODEL_189bfc24a3cb42e5a23629439dc99157"
       ],
       "layout": "IPY_MODEL_23005d79f0e24aea8d4b8714b705fa98"
      }
     },
     "c55d802d0dec40b0b2ed40e39f14bb2e": {
      "model_module": "@jupyter-widgets/controls",
      "model_module_version": "1.1.0",
      "model_name": "ButtonModel",
      "state": {
       "description": "Click Me",
       "icon": "check",
       "layout": "IPY_MODEL_9ca71a26fca54a5995affad3218db7db",
       "style": "IPY_MODEL_bd8c3b18fe93480f8f69a78346cfa72c",
       "tooltip": "Click me"
      }
     },
     "c65ad905c3e54ce19c2d9cd773de5429": {
      "model_module": "@jupyter-widgets/controls",
      "model_module_version": "1.1.0",
      "model_name": "DescriptionStyleModel",
      "state": {
       "description_width": ""
      }
     },
     "c66a85db421448b0bcf2f35421fdffa5": {
      "model_module": "@jupyter-widgets/base",
      "model_module_version": "1.0.0",
      "model_name": "LayoutModel",
      "state": {}
     },
     "c6aafe73952e4b8aaca0a0094be33821": {
      "model_module": "@jupyter-widgets/base",
      "model_module_version": "1.0.0",
      "model_name": "LayoutModel",
      "state": {}
     },
     "c6c132dfe6974a2cb874fc0496946bd4": {
      "model_module": "@jupyter-widgets/controls",
      "model_module_version": "1.1.0",
      "model_name": "ButtonStyleModel",
      "state": {}
     },
     "c732092bb8bf442fb5c05f7db3c3760f": {
      "model_module": "@jupyter-widgets/base",
      "model_module_version": "1.0.0",
      "model_name": "LayoutModel",
      "state": {}
     },
     "c771f12830f74f9f85a866bbdbb55053": {
      "model_module": "@jupyter-widgets/controls",
      "model_module_version": "1.1.0",
      "model_name": "DropdownModel",
      "state": {
       "_options_labels": [
        "-",
        "5",
        "6",
        "7",
        "8",
        "9",
        "10"
       ],
       "description": "Random:",
       "index": 0,
       "layout": "IPY_MODEL_07eb8fd7bb2441f58ce99f6761a63285",
       "style": "IPY_MODEL_4550f1bc674e4bf78e339612304a9210"
      }
     },
     "c7bcfa3478574dd0b70e8be83c60081b": {
      "model_module": "@jupyter-widgets/base",
      "model_module_version": "1.0.0",
      "model_name": "LayoutModel",
      "state": {}
     },
     "c7d804ea2536490a84e9c6759e37c841": {
      "model_module": "@jupyter-widgets/controls",
      "model_module_version": "1.1.0",
      "model_name": "TextModel",
      "state": {
       "description": "P2",
       "layout": "IPY_MODEL_3d2fc07f9f8348e3a9919d925ba0f028",
       "style": "IPY_MODEL_171fb08161ce4952bf973ab192c9c7db"
      }
     },
     "c847a10eac574425b4737d2ab502df59": {
      "model_module": "@jupyter-widgets/controls",
      "model_module_version": "1.1.0",
      "model_name": "HBoxModel",
      "state": {
       "children": [
        "IPY_MODEL_7f48bb255da84ce59e252edf0a7b6f08",
        "IPY_MODEL_5824cb8c0f534c1b88689176c33a08b3"
       ],
       "layout": "IPY_MODEL_26c0ca3cfa0b4318baf162de17c11ed4"
      }
     },
     "c86915e5c50d41209d39114a87ca4aff": {
      "model_module": "@jupyter-widgets/controls",
      "model_module_version": "1.1.0",
      "model_name": "VBoxModel",
      "state": {
       "children": [
        "IPY_MODEL_8f1ccdef41ef48c6bbf02a6c40669928",
        "IPY_MODEL_65b5b2959ffb44e48c6e9d841aa90fda"
       ],
       "layout": "IPY_MODEL_f163571036e44f758e147b5adffe374e"
      }
     },
     "c8980fffa0fd4b18bc759f525d4dbfae": {
      "model_module": "@jupyter-widgets/controls",
      "model_module_version": "1.1.0",
      "model_name": "VBoxModel",
      "state": {
       "children": [
        "IPY_MODEL_f7a80fefb8ef4dfba303da2a753ebab9",
        "IPY_MODEL_83b016b314b2494581ea6b311bfd7b78"
       ],
       "layout": "IPY_MODEL_04e0046d6f5045f0b9b1951d2b11c41a"
      }
     },
     "c8d15c13917248d797fc2c29cdead5c4": {
      "model_module": "@jupyter-widgets/controls",
      "model_module_version": "1.1.0",
      "model_name": "AccordionModel",
      "state": {
       "_titles": {
        "0": "Upload"
       },
       "children": [
        "IPY_MODEL_525428188a274091a0d4e9f881b77465",
        "IPY_MODEL_06764c74d0fc4d9bb74f6786e6297cb6"
       ],
       "layout": "IPY_MODEL_84f0a864d5d04becab5faca83fccdcb2",
       "selected_index": null
      }
     },
     "c94cf7890706421d9cf3df96fce2e7cb": {
      "model_module": "@jupyter-widgets/base",
      "model_module_version": "1.0.0",
      "model_name": "LayoutModel",
      "state": {}
     },
     "c9cc336e049a4d4086cfd32125b8f751": {
      "model_module": "@jupyter-widgets/controls",
      "model_module_version": "1.1.0",
      "model_name": "DropdownModel",
      "state": {
       "_options_labels": [
        "-",
        "5",
        "6",
        "7",
        "8",
        "9",
        "10"
       ],
       "description": "Tail:",
       "index": 0,
       "layout": "IPY_MODEL_ddd03c8fa27d44a49f914f15db1a5506",
       "style": "IPY_MODEL_03500f75bbdd4cf98e44e60fed431dba"
      }
     },
     "c9cfba9dd4174caeba848ba83ce49010": {
      "model_module": "@jupyter-widgets/controls",
      "model_module_version": "1.1.0",
      "model_name": "DescriptionStyleModel",
      "state": {
       "description_width": ""
      }
     },
     "c9f838f1a97f43c6964a2f86ec08ab29": {
      "model_module": "@jupyter-widgets/controls",
      "model_module_version": "1.1.0",
      "model_name": "ButtonStyleModel",
      "state": {
       "button_color": "pink"
      }
     },
     "ca06eade225943d6ba13e517edb25dae": {
      "model_module": "@jupyter-widgets/controls",
      "model_module_version": "1.1.0",
      "model_name": "TextModel",
      "state": {
       "description": "P1",
       "layout": "IPY_MODEL_76d010e575454fb5883ff4ae7c235358",
       "style": "IPY_MODEL_892d5dbb0ba840db875e0197f8ed42b3"
      }
     },
     "ca0713e0397d4380b5bf31e63b5f6993": {
      "model_module": "@jupyter-widgets/base",
      "model_module_version": "1.0.0",
      "model_name": "LayoutModel",
      "state": {}
     },
     "ca5ecf810bf34db98d61e7a8fe0b6b80": {
      "model_module": "@jupyter-widgets/controls",
      "model_module_version": "1.1.0",
      "model_name": "VBoxModel",
      "state": {
       "children": [
        "IPY_MODEL_e8f643b5e84b4805a08b4ab12d1e9d23",
        "IPY_MODEL_306d0b5422474dfd816ee34184256c36"
       ],
       "layout": "IPY_MODEL_547408b7d6be42b78402edc87a77a222"
      }
     },
     "ca8d351ae662469c909ed3421eeac550": {
      "model_module": "@jupyter-widgets/base",
      "model_module_version": "1.0.0",
      "model_name": "LayoutModel",
      "state": {}
     },
     "caa4e06876014c03a4154d95d5a12b1c": {
      "model_module": "@jupyter-widgets/controls",
      "model_module_version": "1.1.0",
      "model_name": "VBoxModel",
      "state": {
       "children": [
        "IPY_MODEL_8d177eee05dc478f92c66698d8612381",
        "IPY_MODEL_bc07d51c7bd049b6b214422ef3b7ce70",
        "IPY_MODEL_bcfc4c6f86a44c9c901bdb29cd287a60",
        "IPY_MODEL_a56078b5fb524adba1559811a4f8be64"
       ],
       "layout": "IPY_MODEL_c7bcfa3478574dd0b70e8be83c60081b"
      }
     },
     "cb14920bfe1241afaf5026dc143d7da1": {
      "model_module": "@jupyter-widgets/controls",
      "model_module_version": "1.1.0",
      "model_name": "DescriptionStyleModel",
      "state": {
       "description_width": ""
      }
     },
     "cb5ac99c20ec4b5aa428c7655d278fd9": {
      "model_module": "@jupyter-widgets/controls",
      "model_module_version": "1.1.0",
      "model_name": "DescriptionStyleModel",
      "state": {
       "description_width": ""
      }
     },
     "cb6837c0d4794f9f95c87a95b4562023": {
      "model_module": "@jupyter-widgets/base",
      "model_module_version": "1.0.0",
      "model_name": "LayoutModel",
      "state": {}
     },
     "cb6b34713a894820b0a03a99217358f7": {
      "model_module": "@jupyter-widgets/controls",
      "model_module_version": "1.1.0",
      "model_name": "ButtonModel",
      "state": {
       "description": "PCA!",
       "icon": "check",
       "layout": "IPY_MODEL_c1ca2ec291844832a7a94f5006726b17",
       "style": "IPY_MODEL_634a67daa2544b9fa2365e6435f711a7",
       "tooltip": "Click me"
      }
     },
     "cba66c2d565249ca8594d3441be9eb08": {
      "model_module": "@jupyter-widgets/base",
      "model_module_version": "1.0.0",
      "model_name": "LayoutModel",
      "state": {}
     },
     "cbb8920d848e4a5f8731f4151a3baa1e": {
      "model_module": "@jupyter-widgets/base",
      "model_module_version": "1.0.0",
      "model_name": "LayoutModel",
      "state": {}
     },
     "cbe8392518d24b73a044acdf106db8c5": {
      "model_module": "@jupyter-widgets/controls",
      "model_module_version": "1.1.0",
      "model_name": "TabModel",
      "state": {
       "_titles": {
        "0": "0",
        "1": "1",
        "2": "2",
        "3": "3",
        "4": "4"
       },
       "children": [
        "IPY_MODEL_46ddcde60ead4692a26b6c4301e3019b",
        "IPY_MODEL_ca06eade225943d6ba13e517edb25dae",
        "IPY_MODEL_c7d804ea2536490a84e9c6759e37c841",
        "IPY_MODEL_2323a122ec3943d0bb69e8a30616abcc",
        "IPY_MODEL_70705bf3bc964084ab14730e50bc040b"
       ],
       "layout": "IPY_MODEL_a1bbfa94730a45e896af85895ab4f2cf"
      }
     },
     "cbff9fffeeeb4bd4aef2c21e1bbfcdf1": {
      "model_module": "@jupyter-widgets/base",
      "model_module_version": "1.0.0",
      "model_name": "LayoutModel",
      "state": {}
     },
     "cc4bc522e3064ead90b9e40a215df1f4": {
      "model_module": "@jupyter-widgets/base",
      "model_module_version": "1.0.0",
      "model_name": "LayoutModel",
      "state": {}
     },
     "cc95ee849ee942de90d921ff2ab3570f": {
      "model_module": "@jupyter-widgets/base",
      "model_module_version": "1.0.0",
      "model_name": "LayoutModel",
      "state": {}
     },
     "cce26becebab4d35aa1f952d8fd5958b": {
      "model_module": "@jupyter-widgets/base",
      "model_module_version": "1.0.0",
      "model_name": "LayoutModel",
      "state": {}
     },
     "cd0b523a9e9c40e299d54e8360ba050f": {
      "model_module": "@jupyter-widgets/controls",
      "model_module_version": "1.1.0",
      "model_name": "ButtonStyleModel",
      "state": {
       "button_color": "orange"
      }
     },
     "cd0cfb0dbed44ae0b8927e111effa39d": {
      "model_module": "@jupyter-widgets/controls",
      "model_module_version": "1.1.0",
      "model_name": "VBoxModel",
      "state": {
       "children": [
        "IPY_MODEL_0a2dbd6458f8459dabb1c3e865a41085",
        "IPY_MODEL_a5e8043353e14456bbf36398f2f5a7b2"
       ],
       "layout": "IPY_MODEL_633c84a647ed4c76a4a46501d3cb8f21"
      }
     },
     "cd37281fa3ce4f638c650cca288cd833": {
      "model_module": "@jupyter-widgets/controls",
      "model_module_version": "1.1.0",
      "model_name": "TextModel",
      "state": {
       "description": "CSV file:",
       "layout": "IPY_MODEL_110369f562b646629cb8f984ec91038b",
       "placeholder": "Name your scrap csv file",
       "style": "IPY_MODEL_ffc2c6d04c9d4bb096dec88a40778447"
      }
     },
     "cd42d9b421784b18a4c4517a874f7511": {
      "model_module": "@jupyter-widgets/base",
      "model_module_version": "1.0.0",
      "model_name": "LayoutModel",
      "state": {}
     },
     "cd45d438a2a84a2cb8b4f7cc112b5b42": {
      "model_module": "@jupyter-widgets/controls",
      "model_module_version": "1.1.0",
      "model_name": "VBoxModel",
      "state": {
       "children": [
        "IPY_MODEL_37ab7a829cd34ba99557bfdf4ab96971",
        "IPY_MODEL_7bd7f1d7bcd04e95bc5fa623df37ed89"
       ],
       "layout": "IPY_MODEL_bae92aa8ae6141969865157c04f35226"
      }
     },
     "cd696d7e7c674b9594895515f15ddfc8": {
      "model_module": "@jupyter-widgets/base",
      "model_module_version": "1.0.0",
      "model_name": "LayoutModel",
      "state": {}
     },
     "cd7fcceeac8e457c9130d336993bc94a": {
      "model_module": "@jupyter-widgets/controls",
      "model_module_version": "1.1.0",
      "model_name": "DropdownModel",
      "state": {
       "_options_labels": [
        "-",
        "5",
        "6",
        "7",
        "8",
        "9",
        "10"
       ],
       "description": "Head:",
       "index": 0,
       "layout": "IPY_MODEL_0a73fdefe039400a9879e73ab12b04b3",
       "style": "IPY_MODEL_69c004833f2148c3bea2944dace91e1b"
      }
     },
     "cd80819a4ac047d9a09a3dcb2f0e8742": {
      "model_module": "@jupyter-widgets/controls",
      "model_module_version": "1.1.0",
      "model_name": "TabModel",
      "state": {
       "_titles": {
        "0": "Extaction",
        "1": "S"
       },
       "children": [
        "IPY_MODEL_402b094c795446abb8d52292715b0a1a",
        "IPY_MODEL_3f74d09c09564759b1a288346709309b"
       ],
       "layout": "IPY_MODEL_a3a91e793af44b628295606b21af0b1a"
      }
     },
     "cd93df0abb2045b1b0b942da07048171": {
      "model_module": "@jupyter-widgets/controls",
      "model_module_version": "1.1.0",
      "model_name": "TextModel",
      "state": {
       "description": "CSV file:",
       "layout": "IPY_MODEL_f464a66e0395489ab9d1e1a36ffa0bb5",
       "placeholder": "Name your scrap csv file",
       "style": "IPY_MODEL_b0a2a55b06e54859a6d8b088b631a2e0"
      }
     },
     "cdaf1e030ae04444b048e936f27c61c8": {
      "model_module": "@jupyter-widgets/base",
      "model_module_version": "1.0.0",
      "model_name": "LayoutModel",
      "state": {}
     },
     "ce311ad62bf54aac845d5e09241dadbd": {
      "model_module": "@jupyter-widgets/controls",
      "model_module_version": "1.1.0",
      "model_name": "HTMLModel",
      "state": {
       "description": "Sample CSV:",
       "layout": "IPY_MODEL_fbc017d8918b46f9b1b726bcf8ac0a4a",
       "placeholder": "",
       "style": "IPY_MODEL_75dc61c892c24398a0d6b02d7cb3668e",
       "value": "<i><b>kereta</b><i>"
      }
     },
     "cedd94bb1de74becb9ec2daa794de9b2": {
      "model_module": "@jupyter-widgets/base",
      "model_module_version": "1.0.0",
      "model_name": "LayoutModel",
      "state": {}
     },
     "cf4774fd483f46abab9d229a89c5335a": {
      "model_module": "@jupyter-widgets/controls",
      "model_module_version": "1.1.0",
      "model_name": "DescriptionStyleModel",
      "state": {
       "description_width": ""
      }
     },
     "cf47d31211714015965ed119ecb96b14": {
      "model_module": "@jupyter-widgets/controls",
      "model_module_version": "1.1.0",
      "model_name": "TextModel",
      "state": {
       "description": "Folder Path:",
       "layout": "IPY_MODEL_531a513f1e784ca781d75f3323e6472b",
       "placeholder": "Paste folder path to save",
       "style": "IPY_MODEL_0d0c6dd078d64e3c96506a0baaf66b26"
      }
     },
     "cfa1943e04904fc4bb1a163c1a2cf71c": {
      "model_module": "@jupyter-widgets/controls",
      "model_module_version": "1.1.0",
      "model_name": "DescriptionStyleModel",
      "state": {
       "description_width": ""
      }
     },
     "d0725ee65c4748b3bd20b080d5952007": {
      "model_module": "@jupyter-widgets/controls",
      "model_module_version": "1.1.0",
      "model_name": "HTMLModel",
      "state": {
       "description": "Sample CSV:",
       "layout": "IPY_MODEL_6b94b5a7329644b18adaae812fbc842c",
       "placeholder": "",
       "style": "IPY_MODEL_d5aaef1bdc66403ba5e720c6a4a32c39",
       "value": "<i><b>kereta</b><i>"
      }
     },
     "d0c6a75d6899449e86a34d540ff3e901": {
      "model_module": "@jupyter-widgets/controls",
      "model_module_version": "1.1.0",
      "model_name": "ToggleButtonsStyleModel",
      "state": {
       "button_width": "",
       "description_width": ""
      }
     },
     "d0c74e03b2d348dbb4221d1695e789ee": {
      "model_module": "@jupyter-widgets/controls",
      "model_module_version": "1.1.0",
      "model_name": "ButtonStyleModel",
      "state": {}
     },
     "d135d62cec5b4318b2a280d1f7ad5cc2": {
      "model_module": "@jupyter-widgets/base",
      "model_module_version": "1.0.0",
      "model_name": "LayoutModel",
      "state": {}
     },
     "d1591a320d754f179124ef48f6eeb939": {
      "model_module": "@jupyter-widgets/controls",
      "model_module_version": "1.1.0",
      "model_name": "HTMLModel",
      "state": {
       "layout": "IPY_MODEL_471e625db7f64f8182ee19acc9b6460a",
       "placeholder": "",
       "style": "IPY_MODEL_f572f44dfd0f42eebfc4bceb2b58a114",
       "value": "<b>Choose how to view your data</b>"
      }
     },
     "d1796ecdf2eb4042bdf92aecc8f84d22": {
      "model_module": "@jupyter-widgets/controls",
      "model_module_version": "1.1.0",
      "model_name": "HTMLModel",
      "state": {
       "layout": "IPY_MODEL_1ca7b12e576647a1b9480a774619cc92",
       "placeholder": "",
       "style": "IPY_MODEL_dfd2eed81d744b3ab749d9d0be5532a0",
       "value": "Apply <b>Data Mining<b> Method!!"
      }
     },
     "d1aa5fe6aeeb4582912fd65992ec46eb": {
      "model_module": "@jupyter-widgets/base",
      "model_module_version": "1.0.0",
      "model_name": "LayoutModel",
      "state": {}
     },
     "d271a74565c04cdeb80cf6d10d301224": {
      "model_module": "@jupyter-widgets/controls",
      "model_module_version": "1.1.0",
      "model_name": "DescriptionStyleModel",
      "state": {
       "description_width": ""
      }
     },
     "d2b7c14479cf4c71803c6fc6f448b3d1": {
      "model_module": "@jupyter-widgets/controls",
      "model_module_version": "1.1.0",
      "model_name": "AccordionModel",
      "state": {
       "_titles": {
        "0": "Upload",
        "1": "View"
       },
       "children": [
        "IPY_MODEL_c009b1be3dc14974a2d79056742c8c09",
        "IPY_MODEL_9a700f617be9478bbc16b53e57368bf1"
       ],
       "layout": "IPY_MODEL_47a5851955464341a3e623cdcefed5ca"
      }
     },
     "d2c0dd0161284e59bdd208b1cbf37aa9": {
      "model_module": "@jupyter-widgets/base",
      "model_module_version": "1.0.0",
      "model_name": "LayoutModel",
      "state": {}
     },
     "d3107afff19b4e95be522767c8a5f99a": {
      "model_module": "@jupyter-widgets/base",
      "model_module_version": "1.0.0",
      "model_name": "LayoutModel",
      "state": {}
     },
     "d315109becab47f7ab0fce4729bea98c": {
      "model_module": "@jupyter-widgets/controls",
      "model_module_version": "1.1.0",
      "model_name": "ToggleButtonsStyleModel",
      "state": {
       "button_width": "",
       "description_width": ""
      }
     },
     "d39d4d33c62f463e9421653dfab37d67": {
      "model_module": "@jupyter-widgets/controls",
      "model_module_version": "1.1.0",
      "model_name": "AccordionModel",
      "state": {
       "_titles": {
        "0": "Source",
        "1": "Save",
        "2": "Scrap"
       },
       "children": [
        "IPY_MODEL_baedf48211b64a6483333343dabac731",
        "IPY_MODEL_983b178655534337ad46bf2196faaeb9",
        "IPY_MODEL_97b3077e0e9542d9b12b58dff56220fa"
       ],
       "layout": "IPY_MODEL_049cff9418fc418bb98d4f9e34f84749"
      }
     },
     "d45d33a1e2194a60a23b08e7edcc7354": {
      "model_module": "@jupyter-widgets/controls",
      "model_module_version": "1.1.0",
      "model_name": "TabModel",
      "state": {
       "_titles": {
        "0": "Extaction",
        "1": "Data",
        "2": "Evaluation"
       },
       "children": [
        "IPY_MODEL_c1aed1dbd974447390e3105e74d28fa1",
        "IPY_MODEL_d582e61083084dedbad12beaf8ce0014",
        "IPY_MODEL_fc1e7c997c12448d936f0dacc5166473"
       ],
       "layout": "IPY_MODEL_f1d9407bef4a47aeadb178bc3562c597",
       "selected_index": 2
      }
     },
     "d45ef708c8f846728065b405e73b0a0c": {
      "model_module": "@jupyter-widgets/controls",
      "model_module_version": "1.1.0",
      "model_name": "DescriptionStyleModel",
      "state": {
       "description_width": ""
      }
     },
     "d48590502e8149d6986da19798842f86": {
      "model_module": "@jupyter-widgets/controls",
      "model_module_version": "1.1.0",
      "model_name": "DescriptionStyleModel",
      "state": {
       "description_width": ""
      }
     },
     "d5307a475f0a45e6bbd0a87db65a2fbe": {
      "model_module": "@jupyter-widgets/controls",
      "model_module_version": "1.1.0",
      "model_name": "DescriptionStyleModel",
      "state": {
       "description_width": ""
      }
     },
     "d582e61083084dedbad12beaf8ce0014": {
      "model_module": "@jupyter-widgets/controls",
      "model_module_version": "1.1.0",
      "model_name": "AccordionModel",
      "state": {
       "_titles": {
        "0": "Upload",
        "1": "View"
       },
       "children": [
        "IPY_MODEL_32f656b48726451591581c80c47bee67",
        "IPY_MODEL_06764c74d0fc4d9bb74f6786e6297cb6"
       ],
       "layout": "IPY_MODEL_fc9e8660ec7d437da2ef932eff251a97",
       "selected_index": null
      }
     },
     "d59575575d2e4784924a4b0e43c62e3d": {
      "model_module": "@jupyter-widgets/controls",
      "model_module_version": "1.1.0",
      "model_name": "VBoxModel",
      "state": {
       "children": [
        "IPY_MODEL_db5eaa7a0c66490aa37b63f36ee264c0",
        "IPY_MODEL_17cb28b44aca474f8b49243527ed1be9"
       ],
       "layout": "IPY_MODEL_c3ab26995a4c47699e6adb790597ba93"
      }
     },
     "d5aaef1bdc66403ba5e720c6a4a32c39": {
      "model_module": "@jupyter-widgets/controls",
      "model_module_version": "1.1.0",
      "model_name": "DescriptionStyleModel",
      "state": {
       "description_width": ""
      }
     },
     "d634fd8df1d6485fa9619a948962fc9b": {
      "model_module": "@jupyter-widgets/controls",
      "model_module_version": "1.1.0",
      "model_name": "ButtonStyleModel",
      "state": {}
     },
     "d6ecbf657be94cb896bf841a17d21d5c": {
      "model_module": "@jupyter-widgets/base",
      "model_module_version": "1.0.0",
      "model_name": "LayoutModel",
      "state": {}
     },
     "d71059830ab24c03915c921ab83279e6": {
      "model_module": "@jupyter-widgets/controls",
      "model_module_version": "1.1.0",
      "model_name": "ButtonStyleModel",
      "state": {
       "button_color": "orange"
      }
     },
     "d74e2ce7a86649d582112567ce26cfd2": {
      "model_module": "@jupyter-widgets/controls",
      "model_module_version": "1.1.0",
      "model_name": "DescriptionStyleModel",
      "state": {
       "description_width": ""
      }
     },
     "d85cd7113be3440fbf3f15f5b35f0196": {
      "model_module": "@jupyter-widgets/controls",
      "model_module_version": "1.1.0",
      "model_name": "ButtonModel",
      "state": {
       "description": "PCA!",
       "icon": "check",
       "layout": "IPY_MODEL_428f2571f56b46b7850b08ff19bf5266",
       "style": "IPY_MODEL_1e6b6dee8b0a48e28dbf52e27201e709",
       "tooltip": "Click me"
      }
     },
     "d8891604d5684823a08bae2ee79f2d29": {
      "model_module": "@jupyter-widgets/base",
      "model_module_version": "1.0.0",
      "model_name": "LayoutModel",
      "state": {}
     },
     "d964727a84ba42adb85e065505f62fac": {
      "model_module": "@jupyter-widgets/controls",
      "model_module_version": "1.1.0",
      "model_name": "ButtonStyleModel",
      "state": {
       "button_color": "green"
      }
     },
     "d9a37ea185a54d639995c3f58fbb2f65": {
      "model_module": "@jupyter-widgets/controls",
      "model_module_version": "1.1.0",
      "model_name": "VBoxModel",
      "state": {
       "children": [
        "IPY_MODEL_8f1ccdef41ef48c6bbf02a6c40669928",
        "IPY_MODEL_65b5b2959ffb44e48c6e9d841aa90fda"
       ],
       "layout": "IPY_MODEL_ad039356f5e545f6b57395093ebd7e0d"
      }
     },
     "d9b1744adb05487ca4faa52381132c79": {
      "model_module": "@jupyter-widgets/base",
      "model_module_version": "1.0.0",
      "model_name": "LayoutModel",
      "state": {}
     },
     "d9cc06d522674169806c81b152464211": {
      "model_module": "@jupyter-widgets/base",
      "model_module_version": "1.0.0",
      "model_name": "LayoutModel",
      "state": {}
     },
     "d9d113aad17f450180af4d65e959f5f1": {
      "model_module": "@jupyter-widgets/controls",
      "model_module_version": "1.1.0",
      "model_name": "TextModel",
      "state": {
       "description": "Folder Path:",
       "layout": "IPY_MODEL_3f20bb61786946c48e6ea66326fa5c13",
       "placeholder": "Upload cleaned dataset",
       "style": "IPY_MODEL_5277f61e41cd479fb538eea03744c633"
      }
     },
     "d9f37631a29a4d2ba66cedd99991215d": {
      "model_module": "@jupyter-widgets/base",
      "model_module_version": "1.0.0",
      "model_name": "LayoutModel",
      "state": {}
     },
     "da5d87357f1e49d48ac1a7284fb106c6": {
      "model_module": "@jupyter-widgets/controls",
      "model_module_version": "1.1.0",
      "model_name": "VBoxModel",
      "state": {
       "children": [
        "IPY_MODEL_bc07d51c7bd049b6b214422ef3b7ce70",
        "IPY_MODEL_a56078b5fb524adba1559811a4f8be64"
       ],
       "layout": "IPY_MODEL_b9f92f86ec4347a992164374089033de"
      }
     },
     "dad161cc6adb4ac38310334f465e3176": {
      "model_module": "@jupyter-widgets/base",
      "model_module_version": "1.0.0",
      "model_name": "LayoutModel",
      "state": {}
     },
     "daf762296713474cb782e3c21f4406d4": {
      "model_module": "@jupyter-widgets/base",
      "model_module_version": "1.0.0",
      "model_name": "LayoutModel",
      "state": {}
     },
     "db0490ae9c514233a16eaf5df9736d7b": {
      "model_module": "@jupyter-widgets/base",
      "model_module_version": "1.0.0",
      "model_name": "LayoutModel",
      "state": {}
     },
     "db5eaa7a0c66490aa37b63f36ee264c0": {
      "model_module": "@jupyter-widgets/controls",
      "model_module_version": "1.1.0",
      "model_name": "HTMLModel",
      "state": {
       "layout": "IPY_MODEL_756b08578b9f4f7e8a49db76a9b0ac1a",
       "placeholder": "",
       "style": "IPY_MODEL_e2b976a9df4343fc974a7cdb60323845",
       "value": "Apply <b>Data Mining<b> Method!!"
      }
     },
     "dbd87e67fb2b4933a9e77ec25634ceb6": {
      "model_module": "@jupyter-widgets/base",
      "model_module_version": "1.0.0",
      "model_name": "LayoutModel",
      "state": {}
     },
     "dc4ea464dc0249568ba578d225cac7fc": {
      "model_module": "@jupyter-widgets/base",
      "model_module_version": "1.0.0",
      "model_name": "LayoutModel",
      "state": {}
     },
     "dc7b34f552c6403b985f9e60036448a9": {
      "model_module": "@jupyter-widgets/base",
      "model_module_version": "1.0.0",
      "model_name": "LayoutModel",
      "state": {}
     },
     "dc9f45431c2e4e908bfbe479ad0f1be2": {
      "model_module": "@jupyter-widgets/controls",
      "model_module_version": "1.1.0",
      "model_name": "ButtonModel",
      "state": {
       "description": "PCA!",
       "icon": "check",
       "layout": "IPY_MODEL_0d9e19a2362f4f16a98a5d9b08c98995",
       "style": "IPY_MODEL_d964727a84ba42adb85e065505f62fac",
       "tooltip": "Click me"
      }
     },
     "dca93d78983446f68afa8c5f8fdd4168": {
      "model_module": "@jupyter-widgets/base",
      "model_module_version": "1.0.0",
      "model_name": "LayoutModel",
      "state": {}
     },
     "dcb0e02e6f524a6d8328af186842efa8": {
      "model_module": "@jupyter-widgets/base",
      "model_module_version": "1.0.0",
      "model_name": "LayoutModel",
      "state": {}
     },
     "dd49c91cfdb94a6a89a185516577131d": {
      "model_module": "@jupyter-widgets/controls",
      "model_module_version": "1.1.0",
      "model_name": "TextModel",
      "state": {
       "description": "Link:",
       "layout": "IPY_MODEL_cd696d7e7c674b9594895515f15ddfc8",
       "placeholder": "Paste your mudah.my link here",
       "style": "IPY_MODEL_16627c7a464546539073d30ac61eaf00"
      }
     },
     "dd6068bcfd2b4b309d9546a6bbb8044e": {
      "model_module": "@jupyter-widgets/base",
      "model_module_version": "1.0.0",
      "model_name": "LayoutModel",
      "state": {}
     },
     "dd6f7422a4b34c13b0807ccf7f579c22": {
      "model_module": "@jupyter-widgets/controls",
      "model_module_version": "1.1.0",
      "model_name": "AccordionModel",
      "state": {
       "_titles": {
        "0": "Upload",
        "1": "View"
       },
       "children": [
        "IPY_MODEL_a558090a62fb408ba2bb3225ce9c7cb8",
        "IPY_MODEL_2cbb5b4031204e0a85471ca30b6b00ec"
       ],
       "layout": "IPY_MODEL_608fd62f85404765b13e5fccc1297058",
       "selected_index": null
      }
     },
     "ddb7736d09204ae8b9bf6be194381ca3": {
      "model_module": "@jupyter-widgets/base",
      "model_module_version": "1.0.0",
      "model_name": "LayoutModel",
      "state": {}
     },
     "ddd03c8fa27d44a49f914f15db1a5506": {
      "model_module": "@jupyter-widgets/base",
      "model_module_version": "1.0.0",
      "model_name": "LayoutModel",
      "state": {}
     },
     "df33d4e885ee458586d5071ae8f8f300": {
      "model_module": "@jupyter-widgets/base",
      "model_module_version": "1.0.0",
      "model_name": "LayoutModel",
      "state": {}
     },
     "df4b673510ed4f6cac5bf2e7a4f6a5d6": {
      "model_module": "@jupyter-widgets/controls",
      "model_module_version": "1.1.0",
      "model_name": "VBoxModel",
      "state": {
       "children": [
        "IPY_MODEL_db5eaa7a0c66490aa37b63f36ee264c0",
        "IPY_MODEL_17cb28b44aca474f8b49243527ed1be9"
       ],
       "layout": "IPY_MODEL_52b72e357f1e4a7589fd6f542761b646"
      }
     },
     "df7c4d4181914b74a3cd1039cbd5abe0": {
      "model_module": "@jupyter-widgets/base",
      "model_module_version": "1.0.0",
      "model_name": "LayoutModel",
      "state": {}
     },
     "dfd2eed81d744b3ab749d9d0be5532a0": {
      "model_module": "@jupyter-widgets/controls",
      "model_module_version": "1.1.0",
      "model_name": "DescriptionStyleModel",
      "state": {
       "description_width": ""
      }
     },
     "dfd933b9c5234458861e026d4df8ff62": {
      "model_module": "@jupyter-widgets/controls",
      "model_module_version": "1.1.0",
      "model_name": "ButtonModel",
      "state": {
       "description": "Click Me",
       "icon": "check",
       "layout": "IPY_MODEL_5c3e8310a89c4a23978c75c28b633289",
       "style": "IPY_MODEL_7bd8a2be408d4bb7bf2ad594427b6870",
       "tooltip": "Click me"
      }
     },
     "e151641293de403ea0b93b400dc58233": {
      "model_module": "@jupyter-widgets/controls",
      "model_module_version": "1.1.0",
      "model_name": "VBoxModel",
      "state": {
       "children": [
        "IPY_MODEL_4ce2a7d18c0f497185f95c5cfe07adb8",
        "IPY_MODEL_970f93befb9241e28a9cb794d3590b7f",
        "IPY_MODEL_ce311ad62bf54aac845d5e09241dadbd",
        "IPY_MODEL_bfcafa02d7d7404698cd99cb12f087a0"
       ],
       "layout": "IPY_MODEL_2a8476c49f984b32822aaccefb5ac13b"
      }
     },
     "e1b24232e66d467687e01e3c0aad8d88": {
      "model_module": "@jupyter-widgets/controls",
      "model_module_version": "1.1.0",
      "model_name": "TabModel",
      "state": {
       "_titles": {
        "0": "1. Extaction",
        "1": "2. Data",
        "2": "3. Evaluation"
       },
       "children": [
        "IPY_MODEL_53faedbd1dcc425281549aceabc3443f",
        "IPY_MODEL_0da6203bdffb48909955e4dd9446a8ee",
        "IPY_MODEL_e5f1528be6c744159b0409ee54bb5b1d"
       ],
       "layout": "IPY_MODEL_e3bb8e6c10914452984d17e5316372fd"
      }
     },
     "e1e1d929a00841ec83debade74616966": {
      "model_module": "@jupyter-widgets/base",
      "model_module_version": "1.0.0",
      "model_name": "LayoutModel",
      "state": {}
     },
     "e222e6cd72694a0798d3cf6e341d4ad3": {
      "model_module": "@jupyter-widgets/controls",
      "model_module_version": "1.1.0",
      "model_name": "SelectMultipleModel",
      "state": {
       "_options_labels": [
        "Apples",
        "Oranges",
        "Pears"
       ],
       "description": "Fruits",
       "index": [
        1
       ],
       "layout": "IPY_MODEL_09f465edb6214800b95fd051688dad09",
       "rows": 5,
       "style": "IPY_MODEL_282a2334a55d4625aecf7867d1dcfacf"
      }
     },
     "e27ece5d7472465aa16384cb7c4ce29d": {
      "model_module": "@jupyter-widgets/controls",
      "model_module_version": "1.1.0",
      "model_name": "DescriptionStyleModel",
      "state": {
       "description_width": ""
      }
     },
     "e29ef41d57134551b38a93fe1ce4644b": {
      "model_module": "@jupyter-widgets/controls",
      "model_module_version": "1.1.0",
      "model_name": "DescriptionStyleModel",
      "state": {
       "description_width": ""
      }
     },
     "e2b976a9df4343fc974a7cdb60323845": {
      "model_module": "@jupyter-widgets/controls",
      "model_module_version": "1.1.0",
      "model_name": "DescriptionStyleModel",
      "state": {
       "description_width": ""
      }
     },
     "e315c1f390274d9792ccf15750607220": {
      "model_module": "@jupyter-widgets/controls",
      "model_module_version": "1.1.0",
      "model_name": "DescriptionStyleModel",
      "state": {
       "description_width": ""
      }
     },
     "e3a682cdc74e454a8e632a873dce3567": {
      "model_module": "@jupyter-widgets/controls",
      "model_module_version": "1.1.0",
      "model_name": "SelectMultipleModel",
      "state": {
       "_options_labels": [
        "Price",
        "Year",
        "Mileage"
       ],
       "description": "Filter by",
       "index": [
        0
       ],
       "layout": "IPY_MODEL_5c7fdd962e214b46b691b3bdc8f00188",
       "rows": 3,
       "style": "IPY_MODEL_2bf3b0972f4f433abbab2034e271fd9d"
      }
     },
     "e3bb8e6c10914452984d17e5316372fd": {
      "model_module": "@jupyter-widgets/base",
      "model_module_version": "1.0.0",
      "model_name": "LayoutModel",
      "state": {}
     },
     "e3c53de0a6ae4131856a9db0469cd2ed": {
      "model_module": "@jupyter-widgets/controls",
      "model_module_version": "1.1.0",
      "model_name": "DescriptionStyleModel",
      "state": {
       "description_width": ""
      }
     },
     "e3e32ac25b434b4789000b5b77970f4d": {
      "model_module": "@jupyter-widgets/base",
      "model_module_version": "1.0.0",
      "model_name": "LayoutModel",
      "state": {}
     },
     "e42954b004b7468a8fb8bf5184fb717f": {
      "model_module": "@jupyter-widgets/controls",
      "model_module_version": "1.1.0",
      "model_name": "AccordionModel",
      "state": {
       "_titles": {
        "0": "Upload",
        "1": "View"
       },
       "children": [
        "IPY_MODEL_8eecbd5bf78b492dbacc2dbac315a9c1",
        "IPY_MODEL_4fd5949fc65246058a452df3fe0b81d8"
       ],
       "layout": "IPY_MODEL_2da1c1dd0282445289c76c48873c582a"
      }
     },
     "e4313c650e10489eb7a62a4d7308ee27": {
      "model_module": "@jupyter-widgets/base",
      "model_module_version": "1.0.0",
      "model_name": "LayoutModel",
      "state": {}
     },
     "e49eb088621d4d18a01f86abc3de0186": {
      "model_module": "@jupyter-widgets/base",
      "model_module_version": "1.0.0",
      "model_name": "LayoutModel",
      "state": {}
     },
     "e4ee2762fe924306a20d1a76966c5b78": {
      "model_module": "@jupyter-widgets/controls",
      "model_module_version": "1.1.0",
      "model_name": "TabModel",
      "state": {
       "_titles": {
        "0": "1. Extaction",
        "1": "2. Data",
        "2": "3. Evaluation"
       },
       "children": [
        "IPY_MODEL_53faedbd1dcc425281549aceabc3443f",
        "IPY_MODEL_0da6203bdffb48909955e4dd9446a8ee",
        "IPY_MODEL_1ea55175cd0c4fe79a478408502695cd"
       ],
       "layout": "IPY_MODEL_be91601ba58447b9aef9bc597f941fd4",
       "selected_index": 2
      }
     },
     "e51154120122431cb004772af26b1d95": {
      "model_module": "@jupyter-widgets/controls",
      "model_module_version": "1.1.0",
      "model_name": "HTMLModel",
      "state": {
       "description": "Some HTML",
       "layout": "IPY_MODEL_0833c0aa4ded48b3a6db349c065383b5",
       "placeholder": "Some HTML",
       "style": "IPY_MODEL_a1b027a80cb94f0b801855c3856d59c1",
       "value": "Hello <b>World</b>"
      }
     },
     "e5461ed1fedb42138aba8e9421614fc3": {
      "model_module": "@jupyter-widgets/controls",
      "model_module_version": "1.1.0",
      "model_name": "AccordionModel",
      "state": {
       "_titles": {
        "0": "Method",
        "1": "Analysis",
        "2": "Result"
       },
       "children": [
        "IPY_MODEL_ca5ecf810bf34db98d61e7a8fe0b6b80",
        "IPY_MODEL_d9a37ea185a54d639995c3f58fbb2f65",
        "IPY_MODEL_cd0cfb0dbed44ae0b8927e111effa39d"
       ],
       "layout": "IPY_MODEL_8de17cabfba44da4bc742a27113961a1",
       "selected_index": 1
      }
     },
     "e551b072c6dc4ed3b1a5d772664ae339": {
      "model_module": "@jupyter-widgets/controls",
      "model_module_version": "1.1.0",
      "model_name": "DropdownModel",
      "state": {
       "_options_labels": [
        "-",
        "5",
        "6",
        "7",
        "8",
        "9",
        "10"
       ],
       "description": "Head:",
       "index": 0,
       "layout": "IPY_MODEL_d6ecbf657be94cb896bf841a17d21d5c",
       "style": "IPY_MODEL_080019426bc140f7ac24b7b86145bde6"
      }
     },
     "e5f1528be6c744159b0409ee54bb5b1d": {
      "model_module": "@jupyter-widgets/controls",
      "model_module_version": "1.1.0",
      "model_name": "AccordionModel",
      "state": {
       "_titles": {
        "0": "Method",
        "1": "Analysis",
        "2": "Result"
       },
       "children": [
        "IPY_MODEL_6ece7fe3d07c44508192f84261b89f2f",
        "IPY_MODEL_9d14581473ed43188b89a62019692aab",
        "IPY_MODEL_763affa9d0db47f09c94b6fff2b4e40f"
       ],
       "layout": "IPY_MODEL_dc4ea464dc0249568ba578d225cac7fc"
      }
     },
     "e5f27b0bbf8d4527a5dc0c268a6ae486": {
      "model_module": "@jupyter-widgets/controls",
      "model_module_version": "1.1.0",
      "model_name": "TextModel",
      "state": {
       "description": "Link:",
       "layout": "IPY_MODEL_19c580ec9e364aeb89d22b5f793cd39b",
       "placeholder": "Paste your mudah.my link here",
       "style": "IPY_MODEL_2c493d03c1d944e3bbac425221a9a49f"
      }
     },
     "e632bfda6f454887b03fa2883a84b4fc": {
      "model_module": "@jupyter-widgets/controls",
      "model_module_version": "1.1.0",
      "model_name": "DescriptionStyleModel",
      "state": {
       "description_width": ""
      }
     },
     "e64c0607a8e7422993cc7e5b32842d2f": {
      "model_module": "@jupyter-widgets/base",
      "model_module_version": "1.0.0",
      "model_name": "LayoutModel",
      "state": {}
     },
     "e655357e180c4973ba299d22816f4648": {
      "model_module": "@jupyter-widgets/controls",
      "model_module_version": "1.1.0",
      "model_name": "SelectMultipleModel",
      "state": {
       "_options_labels": [
        "Apples",
        "Oranges",
        "Pears"
       ],
       "description": "Fruits",
       "index": [
        1
       ],
       "layout": "IPY_MODEL_656640e192554550860cd60bfc5fc3b8",
       "rows": 5,
       "style": "IPY_MODEL_cb5ac99c20ec4b5aa428c7655d278fd9"
      }
     },
     "e6609b3a74804c1199ef7bff9051168a": {
      "model_module": "@jupyter-widgets/base",
      "model_module_version": "1.0.0",
      "model_name": "LayoutModel",
      "state": {}
     },
     "e66f59ad8efe4d5cbe6169cff9318aaf": {
      "model_module": "@jupyter-widgets/controls",
      "model_module_version": "1.1.0",
      "model_name": "TextModel",
      "state": {
       "description": "Folder Path:",
       "layout": "IPY_MODEL_76bc8578377546659e6c9024b76f1808",
       "placeholder": "Save Scraped Dataset",
       "style": "IPY_MODEL_d48590502e8149d6986da19798842f86"
      }
     },
     "e6bfb93c3e5e43b994f543800e84c430": {
      "model_module": "@jupyter-widgets/controls",
      "model_module_version": "1.1.0",
      "model_name": "DescriptionStyleModel",
      "state": {
       "description_width": ""
      }
     },
     "e6de7fbefef74c63a909f6b15114aec7": {
      "model_module": "@jupyter-widgets/controls",
      "model_module_version": "1.1.0",
      "model_name": "AccordionModel",
      "state": {
       "_titles": {
        "0": "Source",
        "1": "Save",
        "2": "Scrap"
       },
       "children": [
        "IPY_MODEL_4e2b59ccd0c947d584c70e03f8f02771",
        "IPY_MODEL_0e26bed75d0c418eb910d7df7b9b35a2",
        "IPY_MODEL_2c7ceb88e02448e6a2fcf42397682470"
       ],
       "layout": "IPY_MODEL_c37734a9bb66430b8d523c6304ef5563",
       "selected_index": 1
      }
     },
     "e6ecf4d7cbcc4517988a66b6cd92819c": {
      "model_module": "@jupyter-widgets/base",
      "model_module_version": "1.0.0",
      "model_name": "LayoutModel",
      "state": {}
     },
     "e718f68ac4754c93b95d093ac4e91e3a": {
      "model_module": "@jupyter-widgets/controls",
      "model_module_version": "1.1.0",
      "model_name": "TextModel",
      "state": {
       "description": "CSV file:",
       "layout": "IPY_MODEL_9b84b453ee0544c1a64d28fd88a67b75",
       "placeholder": "Name your scrap csv file",
       "style": "IPY_MODEL_24e77c448d57443ea17a534f8817d44e"
      }
     },
     "e767bb4486b149b3a8c4721029779486": {
      "model_module": "@jupyter-widgets/controls",
      "model_module_version": "1.1.0",
      "model_name": "HTMLModel",
      "state": {
       "description": "Sample CSV:",
       "layout": "IPY_MODEL_2765c150d91845ddb7cb2fe9fd3c481c",
       "placeholder": "",
       "style": "IPY_MODEL_6234813ad6d9426d9550736b1b919854",
       "value": "<i><b>kereta</b><i>"
      }
     },
     "e7e72a269222441fa6864627de76b54b": {
      "model_module": "@jupyter-widgets/controls",
      "model_module_version": "1.1.0",
      "model_name": "DescriptionStyleModel",
      "state": {
       "description_width": ""
      }
     },
     "e8079ce22d81405e8b573fe4d9bc340c": {
      "model_module": "@jupyter-widgets/base",
      "model_module_version": "1.0.0",
      "model_name": "LayoutModel",
      "state": {}
     },
     "e83c2becff8c4814afd182982100d002": {
      "model_module": "@jupyter-widgets/controls",
      "model_module_version": "1.1.0",
      "model_name": "HBoxModel",
      "state": {
       "children": [
        "IPY_MODEL_75287c3b79b34ebbbd3be6cba1675ba5",
        "IPY_MODEL_1434001ed198435db47980dc0df40c2b",
        "IPY_MODEL_c9cc336e049a4d4086cfd32125b8f751"
       ],
       "layout": "IPY_MODEL_34a8b587a9c543219b83c8b78e68b3c9"
      }
     },
     "e8f643b5e84b4805a08b4ab12d1e9d23": {
      "model_module": "@jupyter-widgets/controls",
      "model_module_version": "1.1.0",
      "model_name": "HTMLModel",
      "state": {
       "layout": "IPY_MODEL_f1d833efef024ac282ddee6c3cbdfde5",
       "placeholder": "",
       "style": "IPY_MODEL_6fbe9c4761d54078ba291e138b64fb6c",
       "value": "Apply <b>Data Mining<b> Method!!"
      }
     },
     "e955422a5fbc4096a68eb111efdcbfda": {
      "model_module": "@jupyter-widgets/controls",
      "model_module_version": "1.1.0",
      "model_name": "DropdownModel",
      "state": {
       "_options_labels": [
        "-",
        "5",
        "6",
        "7",
        "8",
        "9",
        "10"
       ],
       "description": "Random:",
       "index": 0,
       "layout": "IPY_MODEL_daf762296713474cb782e3c21f4406d4",
       "style": "IPY_MODEL_d271a74565c04cdeb80cf6d10d301224"
      }
     },
     "e9843a215694483cbec45cd700c452ee": {
      "model_module": "@jupyter-widgets/base",
      "model_module_version": "1.0.0",
      "model_name": "LayoutModel",
      "state": {}
     },
     "e9f7551bd7d94ebd8b522cfe39dd75dd": {
      "model_module": "@jupyter-widgets/base",
      "model_module_version": "1.0.0",
      "model_name": "LayoutModel",
      "state": {}
     },
     "ea23db6acb1f44a58ac57828aa825178": {
      "model_module": "@jupyter-widgets/base",
      "model_module_version": "1.0.0",
      "model_name": "LayoutModel",
      "state": {}
     },
     "ea61e8a6e5734c2aa164c68b1a5c0c27": {
      "model_module": "@jupyter-widgets/controls",
      "model_module_version": "1.1.0",
      "model_name": "DescriptionStyleModel",
      "state": {
       "description_width": ""
      }
     },
     "eaeddeec14064ccf83aa38b80714f333": {
      "model_module": "@jupyter-widgets/controls",
      "model_module_version": "1.1.0",
      "model_name": "DescriptionStyleModel",
      "state": {
       "description_width": ""
      }
     },
     "eaf02c94cddf43488b97d9121db4753f": {
      "model_module": "@jupyter-widgets/base",
      "model_module_version": "1.0.0",
      "model_name": "LayoutModel",
      "state": {}
     },
     "eaf8d28096384f6c8d5c3efc42bddb22": {
      "model_module": "@jupyter-widgets/base",
      "model_module_version": "1.0.0",
      "model_name": "LayoutModel",
      "state": {}
     },
     "eb32d3513b40477fbc077243cb81f470": {
      "model_module": "@jupyter-widgets/controls",
      "model_module_version": "1.1.0",
      "model_name": "HTMLModel",
      "state": {
       "layout": "IPY_MODEL_9093bbc4608d482eb86349ec109c7906",
       "placeholder": "",
       "style": "IPY_MODEL_3596160be2ca474c8d2cf2eb8310da68",
       "value": "<b>Choose how to view your data</b>"
      }
     },
     "eb517722935541c2b5374f3df108e975": {
      "model_module": "@jupyter-widgets/controls",
      "model_module_version": "1.1.0",
      "model_name": "VBoxModel",
      "state": {
       "children": [
        "IPY_MODEL_40665e10b81c41ee8f71187baf2e3315",
        "IPY_MODEL_1254efcc32ca484dadb555c803692b12"
       ],
       "layout": "IPY_MODEL_cdaf1e030ae04444b048e936f27c61c8"
      }
     },
     "eb5c4e2d21454caf85f56a335b818345": {
      "model_module": "@jupyter-widgets/controls",
      "model_module_version": "1.1.0",
      "model_name": "VBoxModel",
      "state": {
       "children": [
        "IPY_MODEL_b35eb12214874da0b529fa1f4978bfce",
        "IPY_MODEL_e3a682cdc74e454a8e632a873dce3567"
       ],
       "layout": "IPY_MODEL_eea8bae60af4403e9f6519b25fec9d6f"
      }
     },
     "eb64524e7bf94efa8be09d39348130d2": {
      "model_module": "@jupyter-widgets/base",
      "model_module_version": "1.0.0",
      "model_name": "LayoutModel",
      "state": {}
     },
     "eb7224388b2d453ca498c0a51e6cb72b": {
      "model_module": "@jupyter-widgets/controls",
      "model_module_version": "1.1.0",
      "model_name": "ButtonStyleModel",
      "state": {}
     },
     "ec14d9096a4f4a7484ffd5751ea53aff": {
      "model_module": "@jupyter-widgets/base",
      "model_module_version": "1.0.0",
      "model_name": "LayoutModel",
      "state": {}
     },
     "ec2190ae20ea4a1eb6511a360bd3c59d": {
      "model_module": "@jupyter-widgets/controls",
      "model_module_version": "1.1.0",
      "model_name": "DescriptionStyleModel",
      "state": {
       "description_width": ""
      }
     },
     "ec415747ab7f4909ab6ebbf1df132197": {
      "model_module": "@jupyter-widgets/base",
      "model_module_version": "1.0.0",
      "model_name": "LayoutModel",
      "state": {}
     },
     "ec8ffe1d6fb848f5ad25a154522deb5f": {
      "model_module": "@jupyter-widgets/base",
      "model_module_version": "1.0.0",
      "model_name": "LayoutModel",
      "state": {}
     },
     "eca60ededb14473cbd1e37bb5f1ff250": {
      "model_module": "@jupyter-widgets/base",
      "model_module_version": "1.0.0",
      "model_name": "LayoutModel",
      "state": {}
     },
     "ed290e66c6654befbd46c1202a36791d": {
      "model_module": "@jupyter-widgets/controls",
      "model_module_version": "1.1.0",
      "model_name": "VBoxModel",
      "state": {
       "children": [
        "IPY_MODEL_bc07d51c7bd049b6b214422ef3b7ce70",
        "IPY_MODEL_a56078b5fb524adba1559811a4f8be64"
       ],
       "layout": "IPY_MODEL_b4de0c4539d04725a69a5a45ca891d65"
      }
     },
     "ed4f99848eb64ac7b6eacc5d02a5c89d": {
      "model_module": "@jupyter-widgets/base",
      "model_module_version": "1.0.0",
      "model_name": "LayoutModel",
      "state": {}
     },
     "edbc31a4529f40b8903fdccd53db74eb": {
      "model_module": "@jupyter-widgets/base",
      "model_module_version": "1.0.0",
      "model_name": "LayoutModel",
      "state": {}
     },
     "ee003447177442d9bc7aa6589e9f2c69": {
      "model_module": "@jupyter-widgets/controls",
      "model_module_version": "1.1.0",
      "model_name": "DescriptionStyleModel",
      "state": {
       "description_width": ""
      }
     },
     "ee0f9143b1cd42b5849a28c316c75556": {
      "model_module": "@jupyter-widgets/controls",
      "model_module_version": "1.1.0",
      "model_name": "ButtonStyleModel",
      "state": {}
     },
     "ee4cdbfba38e4623ab63a672778861b9": {
      "model_module": "@jupyter-widgets/controls",
      "model_module_version": "1.1.0",
      "model_name": "AccordionModel",
      "state": {
       "_titles": {
        "0": "Source",
        "1": "Save",
        "2": "Scrap"
       },
       "children": [
        "IPY_MODEL_4e2b59ccd0c947d584c70e03f8f02771",
        "IPY_MODEL_2fc025f7400a46398ba857478599df51",
        "IPY_MODEL_18b2dbdd338b4d23bfdff93633479890"
       ],
       "layout": "IPY_MODEL_dbd87e67fb2b4933a9e77ec25634ceb6",
       "selected_index": 1
      }
     },
     "ee6b1e1681da4e9f96a15508ab22a40d": {
      "model_module": "@jupyter-widgets/controls",
      "model_module_version": "1.1.0",
      "model_name": "TextModel",
      "state": {
       "description": "CSV file:",
       "layout": "IPY_MODEL_8ed9e2c2bdb64dbfa8697561bacb5f3c",
       "placeholder": "Name of cleaned csv file",
       "style": "IPY_MODEL_05586a907a3e4937a3bdb6d8edcc7c2c"
      }
     },
     "ee6e1244090247d9b5278fcd535526d8": {
      "model_module": "@jupyter-widgets/controls",
      "model_module_version": "1.1.0",
      "model_name": "ButtonModel",
      "state": {
       "description": "PCA!",
       "icon": "check",
       "layout": "IPY_MODEL_bd60008baaec4ab4a79fe871e57a5d80",
       "style": "IPY_MODEL_5d0c51d54fd040ffb291a39169cb8e00",
       "tooltip": "Click me"
      }
     },
     "eea8bae60af4403e9f6519b25fec9d6f": {
      "model_module": "@jupyter-widgets/base",
      "model_module_version": "1.0.0",
      "model_name": "LayoutModel",
      "state": {}
     },
     "ef17d008745b426e9cb7e161814b0912": {
      "model_module": "@jupyter-widgets/controls",
      "model_module_version": "1.1.0",
      "model_name": "ButtonModel",
      "state": {
       "description": "Scrap Me",
       "layout": "IPY_MODEL_f7e0ea87d7bb46ec8c12e0858acacfba",
       "style": "IPY_MODEL_b539b75593784c3abad56cd0ce0f1c69"
      }
     },
     "ef43085abecd452386f3246a67b32b43": {
      "model_module": "@jupyter-widgets/base",
      "model_module_version": "1.0.0",
      "model_name": "LayoutModel",
      "state": {}
     },
     "eff78c3e02f14f25aade52e2de3160f6": {
      "model_module": "@jupyter-widgets/controls",
      "model_module_version": "1.1.0",
      "model_name": "DescriptionStyleModel",
      "state": {
       "description_width": ""
      }
     },
     "f04a4bb703f8419c9b4160920042c28d": {
      "model_module": "@jupyter-widgets/controls",
      "model_module_version": "1.1.0",
      "model_name": "DescriptionStyleModel",
      "state": {
       "description_width": ""
      }
     },
     "f0703dcad54c4b83a104e4e22fe9094d": {
      "model_module": "@jupyter-widgets/base",
      "model_module_version": "1.0.0",
      "model_name": "LayoutModel",
      "state": {}
     },
     "f09eb6e2eedb4805a68c349cc4b4f48a": {
      "model_module": "@jupyter-widgets/controls",
      "model_module_version": "1.1.0",
      "model_name": "ButtonStyleModel",
      "state": {
       "button_color": "yellow"
      }
     },
     "f0e7f876d6de48c887e28e12aca33e72": {
      "model_module": "@jupyter-widgets/controls",
      "model_module_version": "1.1.0",
      "model_name": "ButtonModel",
      "state": {
       "description": "Scrap Me",
       "layout": "IPY_MODEL_98f7529d31154cfc8477634278914428",
       "style": "IPY_MODEL_a60b50459d2a44d8951bb37c457a4a8d"
      }
     },
     "f0eed62c1e014b3c89f152a33f889df3": {
      "model_module": "@jupyter-widgets/base",
      "model_module_version": "1.0.0",
      "model_name": "LayoutModel",
      "state": {}
     },
     "f143c31dbfa0462586073d124eb45078": {
      "model_module": "@jupyter-widgets/base",
      "model_module_version": "1.0.0",
      "model_name": "LayoutModel",
      "state": {}
     },
     "f163571036e44f758e147b5adffe374e": {
      "model_module": "@jupyter-widgets/base",
      "model_module_version": "1.0.0",
      "model_name": "LayoutModel",
      "state": {}
     },
     "f1879dd84baf4931844c45c075dfa4ee": {
      "model_module": "@jupyter-widgets/controls",
      "model_module_version": "1.1.0",
      "model_name": "DescriptionStyleModel",
      "state": {
       "description_width": ""
      }
     },
     "f196b839cf764f64a658b14c2d221f5c": {
      "model_module": "@jupyter-widgets/base",
      "model_module_version": "1.0.0",
      "model_name": "LayoutModel",
      "state": {}
     },
     "f1a703fe34ad493187ec6bbb4d1ba4b8": {
      "model_module": "@jupyter-widgets/base",
      "model_module_version": "1.0.0",
      "model_name": "LayoutModel",
      "state": {}
     },
     "f1d81af51c544a7b82d65ed69ea80c96": {
      "model_module": "@jupyter-widgets/base",
      "model_module_version": "1.0.0",
      "model_name": "LayoutModel",
      "state": {}
     },
     "f1d833efef024ac282ddee6c3cbdfde5": {
      "model_module": "@jupyter-widgets/base",
      "model_module_version": "1.0.0",
      "model_name": "LayoutModel",
      "state": {}
     },
     "f1d9407bef4a47aeadb178bc3562c597": {
      "model_module": "@jupyter-widgets/base",
      "model_module_version": "1.0.0",
      "model_name": "LayoutModel",
      "state": {}
     },
     "f1fc599329e542c09b7de3ee6f89f41d": {
      "model_module": "@jupyter-widgets/base",
      "model_module_version": "1.0.0",
      "model_name": "LayoutModel",
      "state": {}
     },
     "f21debc35e1c4768bb606d31d2487d06": {
      "model_module": "@jupyter-widgets/controls",
      "model_module_version": "1.1.0",
      "model_name": "AccordionModel",
      "state": {
       "_titles": {
        "0": "Scrap"
       },
       "children": [
        "IPY_MODEL_40850d171ab54173ae730dc62865ae21"
       ],
       "layout": "IPY_MODEL_c6aafe73952e4b8aaca0a0094be33821"
      }
     },
     "f225e0cf3512455dbab56844e14d007d": {
      "model_module": "@jupyter-widgets/controls",
      "model_module_version": "1.1.0",
      "model_name": "DescriptionStyleModel",
      "state": {
       "description_width": ""
      }
     },
     "f2461ff1740e4f489b2d7cdc03885fa3": {
      "model_module": "@jupyter-widgets/base",
      "model_module_version": "1.0.0",
      "model_name": "LayoutModel",
      "state": {}
     },
     "f260f990f4c14374ae65ccfc5373b324": {
      "model_module": "@jupyter-widgets/controls",
      "model_module_version": "1.1.0",
      "model_name": "DescriptionStyleModel",
      "state": {
       "description_width": ""
      }
     },
     "f26cd9c8f82d4c54af39031b398e52e0": {
      "model_module": "@jupyter-widgets/controls",
      "model_module_version": "1.1.0",
      "model_name": "TextModel",
      "state": {
       "description": "Folder Path:",
       "layout": "IPY_MODEL_58cad3aee84a4e008d13e97e8aea8e70",
       "placeholder": "Paste folder path to load dataset",
       "style": "IPY_MODEL_24c8e7cc727340c59108088e145cee00"
      }
     },
     "f28b88b4f70b494a9f276ee398b3374a": {
      "model_module": "@jupyter-widgets/base",
      "model_module_version": "1.0.0",
      "model_name": "LayoutModel",
      "state": {}
     },
     "f2b1af11251547c1b930eac9631c97b5": {
      "model_module": "@jupyter-widgets/base",
      "model_module_version": "1.0.0",
      "model_name": "LayoutModel",
      "state": {}
     },
     "f30231d6dae64ac1b10ec90c3ea794be": {
      "model_module": "@jupyter-widgets/controls",
      "model_module_version": "1.1.0",
      "model_name": "ButtonModel",
      "state": {
       "description": "PCA!",
       "icon": "check",
       "layout": "IPY_MODEL_9c114ff6106b430385b3beb53058617a",
       "style": "IPY_MODEL_3c9df8c12ad44b70a962dae6cf3e5168",
       "tooltip": "Click me"
      }
     },
     "f34e271c72524878bfa79144e1a12fc6": {
      "model_module": "@jupyter-widgets/controls",
      "model_module_version": "1.1.0",
      "model_name": "DescriptionStyleModel",
      "state": {
       "description_width": ""
      }
     },
     "f36330070d06419483c93f3b1d14f544": {
      "model_module": "@jupyter-widgets/base",
      "model_module_version": "1.0.0",
      "model_name": "LayoutModel",
      "state": {}
     },
     "f395de224c974250bc85eca8142acd2d": {
      "model_module": "@jupyter-widgets/controls",
      "model_module_version": "1.1.0",
      "model_name": "DescriptionStyleModel",
      "state": {
       "description_width": ""
      }
     },
     "f3b05a2bd5784272a1c671f6a9d7cf47": {
      "model_module": "@jupyter-widgets/controls",
      "model_module_version": "1.1.0",
      "model_name": "ButtonModel",
      "state": {
       "description": "PCA!",
       "icon": "check",
       "layout": "IPY_MODEL_c4130d3c04164f4b94d2e416173de5f7",
       "style": "IPY_MODEL_a380388bb4ae412a841b08bfc1564153",
       "tooltip": "Click me"
      }
     },
     "f3e256df2a9048be8e5045049c85af1d": {
      "model_module": "@jupyter-widgets/controls",
      "model_module_version": "1.1.0",
      "model_name": "VBoxModel",
      "state": {
       "children": [
        "IPY_MODEL_823f006e17cc4828af49aaf5b365f0d9",
        "IPY_MODEL_a19472d2bf1c4ed781871ef76a20a01f"
       ],
       "layout": "IPY_MODEL_3743246cf322407b88abc63a1c34f0c6"
      }
     },
     "f4043f4230b64bc981573c394078188f": {
      "model_module": "@jupyter-widgets/base",
      "model_module_version": "1.0.0",
      "model_name": "LayoutModel",
      "state": {}
     },
     "f464a66e0395489ab9d1e1a36ffa0bb5": {
      "model_module": "@jupyter-widgets/base",
      "model_module_version": "1.0.0",
      "model_name": "LayoutModel",
      "state": {}
     },
     "f475302fe1f84cb1b3abba00b2e24bf5": {
      "model_module": "@jupyter-widgets/controls",
      "model_module_version": "1.1.0",
      "model_name": "VBoxModel",
      "state": {
       "children": [
        "IPY_MODEL_f0e7f876d6de48c887e28e12aca33e72",
        "IPY_MODEL_9e6b2fb55acd4f4684c4f41d150fda76"
       ],
       "layout": "IPY_MODEL_0e966ef4552842b2af53069ad3f5c90c"
      }
     },
     "f4b16dd260cf4a688580fab0f91b6bbb": {
      "model_module": "@jupyter-widgets/controls",
      "model_module_version": "1.1.0",
      "model_name": "VBoxModel",
      "state": {
       "children": [
        "IPY_MODEL_34d9c9d70a1c466e8163e265eb384a5c",
        "IPY_MODEL_06764c74d0fc4d9bb74f6786e6297cb6"
       ],
       "layout": "IPY_MODEL_ca8d351ae662469c909ed3421eeac550"
      }
     },
     "f4bcad481eaa4393991f4eb0e90b715e": {
      "model_module": "@jupyter-widgets/controls",
      "model_module_version": "1.1.0",
      "model_name": "HTMLModel",
      "state": {
       "layout": "IPY_MODEL_4a7dda581bc3407b97d8f32dcf14ca98",
       "placeholder": "",
       "style": "IPY_MODEL_0d6890c0b47c40d198e6b7b8e2b912d3",
       "value": "<b>Choose how to view your data</b>"
      }
     },
     "f4c07a8cd81849bab95235e8d9cf6312": {
      "model_module": "@jupyter-widgets/base",
      "model_module_version": "1.0.0",
      "model_name": "LayoutModel",
      "state": {}
     },
     "f4e1155336644e23bf2e4ec271c3409c": {
      "model_module": "@jupyter-widgets/controls",
      "model_module_version": "1.1.0",
      "model_name": "ButtonModel",
      "state": {
       "description": "Boxplot",
       "icon": "check",
       "layout": "IPY_MODEL_8f970e952ebb436689867a958d80edd7",
       "style": "IPY_MODEL_cd0b523a9e9c40e299d54e8360ba050f",
       "tooltip": "Click me"
      }
     },
     "f4ef6924a22040a69eda67c1a2ea031b": {
      "model_module": "@jupyter-widgets/base",
      "model_module_version": "1.0.0",
      "model_name": "LayoutModel",
      "state": {}
     },
     "f572f44dfd0f42eebfc4bceb2b58a114": {
      "model_module": "@jupyter-widgets/controls",
      "model_module_version": "1.1.0",
      "model_name": "DescriptionStyleModel",
      "state": {
       "description_width": ""
      }
     },
     "f608019651f6449997e5d65214986203": {
      "model_module": "@jupyter-widgets/controls",
      "model_module_version": "1.1.0",
      "model_name": "HBoxModel",
      "state": {
       "children": [
        "IPY_MODEL_a92e654c7f604f5fa2b9a3427f87dfa9",
        "IPY_MODEL_b4b755197fb34e70981d120c690d7275",
        "IPY_MODEL_276e6632f752496d87bdad40dcbc3bbd"
       ],
       "layout": "IPY_MODEL_30d9dc5d7acc43a49f1e3dbd00d6d82e"
      }
     },
     "f66a485ca04e401fbeafe55fb080aec6": {
      "model_module": "@jupyter-widgets/base",
      "model_module_version": "1.0.0",
      "model_name": "LayoutModel",
      "state": {}
     },
     "f69a42dc34704225b935caf5b9594a07": {
      "model_module": "@jupyter-widgets/controls",
      "model_module_version": "1.1.0",
      "model_name": "AccordionModel",
      "state": {
       "_titles": {
        "0": "Method",
        "1": "Analysis",
        "2": "Result"
       },
       "children": [
        "IPY_MODEL_a018cb45601c4dbc83663a8be2396e28",
        "IPY_MODEL_88031e77dd994353b04f77bf42357df0",
        "IPY_MODEL_55e715f737304f018be24ed55baacff8"
       ],
       "layout": "IPY_MODEL_cd42d9b421784b18a4c4517a874f7511"
      }
     },
     "f6cae69f30794a948e3610f643671eb2": {
      "model_module": "@jupyter-widgets/base",
      "model_module_version": "1.0.0",
      "model_name": "LayoutModel",
      "state": {}
     },
     "f7a80fefb8ef4dfba303da2a753ebab9": {
      "model_module": "@jupyter-widgets/controls",
      "model_module_version": "1.1.0",
      "model_name": "HTMLModel",
      "state": {
       "description": "Sample Link:",
       "layout": "IPY_MODEL_5cb85540dbce4808bb1e93db3aded854",
       "placeholder": "",
       "style": "IPY_MODEL_c9cfba9dd4174caeba848ba83ce49010",
       "value": "<i><b>https://www.mudah.my/malaysia/cars-for-sale?o=1&q=&th=1</b><i>"
      }
     },
     "f7b58be567d94c78867287dea4d99cd9": {
      "model_module": "@jupyter-widgets/controls",
      "model_module_version": "1.1.0",
      "model_name": "HBoxModel",
      "state": {
       "children": [
        "IPY_MODEL_377c02a87f604dc5915e5e20db8be8b3",
        "IPY_MODEL_189bfc24a3cb42e5a23629439dc99157"
       ],
       "layout": "IPY_MODEL_2563b3e87ff34683bf76b02abece03c7"
      }
     },
     "f7e0ea87d7bb46ec8c12e0858acacfba": {
      "model_module": "@jupyter-widgets/base",
      "model_module_version": "1.0.0",
      "model_name": "LayoutModel",
      "state": {}
     },
     "f85ba48888c247e5801502d64aa266dc": {
      "model_module": "@jupyter-widgets/controls",
      "model_module_version": "1.1.0",
      "model_name": "VBoxModel",
      "state": {
       "children": [
        "IPY_MODEL_f0e7f876d6de48c887e28e12aca33e72",
        "IPY_MODEL_9e6b2fb55acd4f4684c4f41d150fda76"
       ],
       "layout": "IPY_MODEL_f1fc599329e542c09b7de3ee6f89f41d"
      }
     },
     "f86e44498b9e4751935e5d003a40c9e1": {
      "model_module": "@jupyter-widgets/base",
      "model_module_version": "1.0.0",
      "model_name": "LayoutModel",
      "state": {}
     },
     "f8aeb875926c4facb8aaa0fa4152351a": {
      "model_module": "@jupyter-widgets/controls",
      "model_module_version": "1.1.0",
      "model_name": "HTMLModel",
      "state": {
       "description": "Sample CSV:",
       "layout": "IPY_MODEL_8924a79eefe749779dacba834154dd26",
       "placeholder": "",
       "style": "IPY_MODEL_f04a4bb703f8419c9b4160920042c28d",
       "value": "<i><b>kereta</b><i>"
      }
     },
     "f91d568c99cf4654a7eaab04d7053ccf": {
      "model_module": "@jupyter-widgets/base",
      "model_module_version": "1.0.0",
      "model_name": "LayoutModel",
      "state": {}
     },
     "f93445bd74fe4ab1a9da77052a9d96ff": {
      "model_module": "@jupyter-widgets/base",
      "model_module_version": "1.0.0",
      "model_name": "LayoutModel",
      "state": {}
     },
     "f96682b78602466f83d573ae8d37047e": {
      "model_module": "@jupyter-widgets/controls",
      "model_module_version": "1.1.0",
      "model_name": "AccordionModel",
      "state": {
       "_titles": {
        "0": "Method",
        "1": "Analysis",
        "2": "Result"
       },
       "children": [
        "IPY_MODEL_c21afa1d2aa74bb0ab7666ca1ee5a5aa",
        "IPY_MODEL_908f776206db443bbbd17906bd21079a",
        "IPY_MODEL_77a051b1b7ff40efab0ce9a05cfd6345"
       ],
       "layout": "IPY_MODEL_c30e50e0b5b2403c9b8c3502f438da6f",
       "selected_index": null
      }
     },
     "fa21bd1ea0454a4e9bc9973b23741ae4": {
      "model_module": "@jupyter-widgets/output",
      "model_module_version": "1.0.0",
      "model_name": "OutputModel",
      "state": {
       "layout": "IPY_MODEL_3b94b31c322a4ce1ac1c59ad8d2492bd"
      }
     },
     "fa67e536e28c4a23be7662f95e68f9d9": {
      "model_module": "@jupyter-widgets/controls",
      "model_module_version": "1.1.0",
      "model_name": "HTMLModel",
      "state": {
       "description": "Sample:",
       "layout": "IPY_MODEL_8e62db69dc3b4f289cf2752d60482f4c",
       "placeholder": "",
       "style": "IPY_MODEL_704959aeeb97493bb2e3ec2bffb70d98",
       "value": "<i><b>kereta</b><i>"
      }
     },
     "fa7cf810cd4c4e0db4ef2ad7ac0141a2": {
      "model_module": "@jupyter-widgets/controls",
      "model_module_version": "1.1.0",
      "model_name": "HTMLModel",
      "state": {
       "description": "Sample CSV filename:",
       "layout": "IPY_MODEL_7836d71b12464ea2a83d08d217713dcb",
       "placeholder": "",
       "style": "IPY_MODEL_e27ece5d7472465aa16384cb7c4ce29d",
       "value": "<i><b>kereta</b><i>"
      }
     },
     "fa9f9a1877a64090aaf776fa7e938d78": {
      "model_module": "@jupyter-widgets/controls",
      "model_module_version": "1.1.0",
      "model_name": "TabModel",
      "state": {
       "_titles": {
        "0": "Extaction",
        "1": "Data"
       },
       "children": [
        "IPY_MODEL_ee4cdbfba38e4623ab63a672778861b9",
        "IPY_MODEL_661ab29ede1945cf8af898be1eed654e"
       ],
       "layout": "IPY_MODEL_be9144e4480d4342b40d8aeb5064bf53",
       "selected_index": 1
      }
     },
     "faeafe9a84924f26ae2f5889ebc53778": {
      "model_module": "@jupyter-widgets/base",
      "model_module_version": "1.0.0",
      "model_name": "LayoutModel",
      "state": {}
     },
     "faf850037c834624a2c23eaa500fa8a8": {
      "model_module": "@jupyter-widgets/controls",
      "model_module_version": "1.1.0",
      "model_name": "ButtonStyleModel",
      "state": {}
     },
     "fb325d29d305405aadb15c9c620194dc": {
      "model_module": "@jupyter-widgets/base",
      "model_module_version": "1.0.0",
      "model_name": "LayoutModel",
      "state": {}
     },
     "fb385d32db7841c4bebfecd1f4a665c2": {
      "model_module": "@jupyter-widgets/controls",
      "model_module_version": "1.1.0",
      "model_name": "VBoxModel",
      "state": {
       "children": [
        "IPY_MODEL_8d177eee05dc478f92c66698d8612381",
        "IPY_MODEL_bc07d51c7bd049b6b214422ef3b7ce70",
        "IPY_MODEL_e767bb4486b149b3a8c4721029779486",
        "IPY_MODEL_a56078b5fb524adba1559811a4f8be64"
       ],
       "layout": "IPY_MODEL_378b14c3eca846dcac50623783da0326"
      }
     },
     "fb3b541217f344dd867b2a234f4bd1b9": {
      "model_module": "@jupyter-widgets/base",
      "model_module_version": "1.0.0",
      "model_name": "LayoutModel",
      "state": {}
     },
     "fb5274d393ea40a88f1d0e070093d40a": {
      "model_module": "@jupyter-widgets/controls",
      "model_module_version": "1.1.0",
      "model_name": "DescriptionStyleModel",
      "state": {
       "description_width": ""
      }
     },
     "fbc017d8918b46f9b1b726bcf8ac0a4a": {
      "model_module": "@jupyter-widgets/base",
      "model_module_version": "1.0.0",
      "model_name": "LayoutModel",
      "state": {}
     },
     "fc1bb578c25f491cbcb68541b1ef230f": {
      "model_module": "@jupyter-widgets/base",
      "model_module_version": "1.0.0",
      "model_name": "LayoutModel",
      "state": {}
     },
     "fc1e7c997c12448d936f0dacc5166473": {
      "model_module": "@jupyter-widgets/controls",
      "model_module_version": "1.1.0",
      "model_name": "AccordionModel",
      "state": {
       "_titles": {
        "0": "Method"
       },
       "children": [
        "IPY_MODEL_d59575575d2e4784924a4b0e43c62e3d"
       ],
       "layout": "IPY_MODEL_8afb69e5f6054d4da2e80b52df9bf94b",
       "selected_index": null
      }
     },
     "fc525f00bd7349f7ab25439e427102c6": {
      "model_module": "@jupyter-widgets/controls",
      "model_module_version": "1.1.0",
      "model_name": "AccordionModel",
      "state": {
       "_titles": {
        "0": "Source",
        "1": "Save",
        "2": "Scrap"
       },
       "children": [
        "IPY_MODEL_bbe6e5f0d003414191693cad46aabe3f",
        "IPY_MODEL_2367675f42aa4336ae210ab5d0fc0724",
        "IPY_MODEL_a218bd58ad774cf5be216dc8e558af62"
       ],
       "layout": "IPY_MODEL_f0eed62c1e014b3c89f152a33f889df3",
       "selected_index": null
      }
     },
     "fc7d973d232f4b4b873d7fd8daab6412": {
      "model_module": "@jupyter-widgets/controls",
      "model_module_version": "1.1.0",
      "model_name": "DescriptionStyleModel",
      "state": {
       "description_width": ""
      }
     },
     "fc9e8660ec7d437da2ef932eff251a97": {
      "model_module": "@jupyter-widgets/base",
      "model_module_version": "1.0.0",
      "model_name": "LayoutModel",
      "state": {}
     },
     "fd6b144b8dc1467593c1e6169a798e39": {
      "model_module": "@jupyter-widgets/controls",
      "model_module_version": "1.1.0",
      "model_name": "VBoxModel",
      "state": {
       "children": [
        "IPY_MODEL_e8f643b5e84b4805a08b4ab12d1e9d23",
        "IPY_MODEL_d85cd7113be3440fbf3f15f5b35f0196"
       ],
       "layout": "IPY_MODEL_e6ecf4d7cbcc4517988a66b6cd92819c"
      }
     },
     "fd98570206a4411a9ffa867285962310": {
      "model_module": "@jupyter-widgets/controls",
      "model_module_version": "1.1.0",
      "model_name": "ButtonModel",
      "state": {
       "description": "PCA!",
       "icon": "check",
       "layout": "IPY_MODEL_293f02317c3143dc96b66fc0b66259d5",
       "style": "IPY_MODEL_1e95daab28ce4d1ba0009edc95d36b16",
       "tooltip": "Click me"
      }
     },
     "fd9e765964ff491ebf30cebc38f53cd0": {
      "model_module": "@jupyter-widgets/controls",
      "model_module_version": "1.1.0",
      "model_name": "DescriptionStyleModel",
      "state": {
       "description_width": ""
      }
     },
     "fdeaee2d50654c399b7fd66e9c83743e": {
      "model_module": "@jupyter-widgets/base",
      "model_module_version": "1.0.0",
      "model_name": "LayoutModel",
      "state": {}
     },
     "fe6a81a00ef84074977eeb0ce3482b5e": {
      "model_module": "@jupyter-widgets/controls",
      "model_module_version": "1.1.0",
      "model_name": "ButtonModel",
      "state": {
       "description": "Scrap Me",
       "layout": "IPY_MODEL_db0490ae9c514233a16eaf5df9736d7b",
       "style": "IPY_MODEL_ae3929f71b3a48b699108d46ceea52f5"
      }
     },
     "fef375eb12ca4bc7b3aab36e755f5c62": {
      "model_module": "@jupyter-widgets/controls",
      "model_module_version": "1.1.0",
      "model_name": "DescriptionStyleModel",
      "state": {
       "description_width": ""
      }
     },
     "ff615ced92f3493c8a8a2795523f7c06": {
      "model_module": "@jupyter-widgets/controls",
      "model_module_version": "1.1.0",
      "model_name": "HBoxModel",
      "state": {
       "children": [
        "IPY_MODEL_cd7fcceeac8e457c9130d336993bc94a",
        "IPY_MODEL_4eed7e2b35d14498bea2677c24b1defa",
        "IPY_MODEL_81a1d24e817e4c4fa2853c7cb3f2cabc"
       ],
       "layout": "IPY_MODEL_2c2a8bb3b87d4c119c9041c697db8ad0"
      }
     },
     "ff6499bae858429ab9d6b37ef2a159fd": {
      "model_module": "@jupyter-widgets/base",
      "model_module_version": "1.0.0",
      "model_name": "LayoutModel",
      "state": {}
     },
     "ff72073238884fe1ba3668f3d23433b0": {
      "model_module": "@jupyter-widgets/base",
      "model_module_version": "1.0.0",
      "model_name": "LayoutModel",
      "state": {}
     },
     "ffa9383df0114466b88807a9e29d9595": {
      "model_module": "@jupyter-widgets/base",
      "model_module_version": "1.0.0",
      "model_name": "LayoutModel",
      "state": {}
     },
     "ffc2c6d04c9d4bb096dec88a40778447": {
      "model_module": "@jupyter-widgets/controls",
      "model_module_version": "1.1.0",
      "model_name": "DescriptionStyleModel",
      "state": {
       "description_width": ""
      }
     },
     "ffd357582ba041d4a6f291e157128c30": {
      "model_module": "@jupyter-widgets/controls",
      "model_module_version": "1.1.0",
      "model_name": "ToggleButtonsStyleModel",
      "state": {
       "button_width": "",
       "description_width": ""
      }
     },
     "ffead06096f6492a8dfd599422fee0bf": {
      "model_module": "@jupyter-widgets/controls",
      "model_module_version": "1.1.0",
      "model_name": "ToggleButtonsStyleModel",
      "state": {
       "button_width": "",
       "description_width": ""
      }
     }
    },
    "version_major": 2,
    "version_minor": 0
   }
  }
 },
 "nbformat": 4,
 "nbformat_minor": 2
}
