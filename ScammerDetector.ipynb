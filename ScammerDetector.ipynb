{
 "cells": [
  {
   "cell_type": "markdown",
   "metadata": {},
   "source": [
    "# Scammer Detector"
   ]
  },
  {
   "cell_type": "markdown",
   "metadata": {},
   "source": [
    "*Beware of __SCAMMER__, buy from the __TRUSTED__ one*"
   ]
  },
  {
   "cell_type": "code",
   "execution_count": 114,
   "metadata": {},
   "outputs": [],
   "source": [
    "#nbi:hide_in\n",
    "from IPython.display import display, Markdown, clear_output\n",
    "from ipywidgets import interact\n",
    "import ipywidgets as widgets"
   ]
  },
  {
   "cell_type": "code",
   "execution_count": 115,
   "metadata": {},
   "outputs": [],
   "source": [
    "#nbi:hide_in\n",
    "meurl=widgets.Text(value= '', placeholder='Paste your mudah.my link here', description='Link:', disabled=False)\n",
    "#meurl"
   ]
  },
  {
   "cell_type": "code",
   "execution_count": 116,
   "metadata": {},
   "outputs": [],
   "source": [
    "#nbi:hide_in\n",
    "fpath = widgets.Text(\n",
    "    value='',\n",
    "    placeholder='Paste folder path to save',\n",
    "    description='Folder Path:',\n",
    "    disabled=False\n",
    ")\n",
    "#fpath"
   ]
  },
  {
   "cell_type": "code",
   "execution_count": 117,
   "metadata": {},
   "outputs": [],
   "source": [
    "#nbi:hide_in\n",
    "fname = widgets.Text(\n",
    "    value='',\n",
    "    placeholder='Name your scrap csv file',\n",
    "    description='CSV file:',\n",
    "    disabled=False\n",
    ")\n",
    "#fname"
   ]
  },
  {
   "cell_type": "code",
   "execution_count": 118,
   "metadata": {},
   "outputs": [
    {
     "data": {
      "text/plain": [
       "'\\\\.csv'"
      ]
     },
     "execution_count": 118,
     "metadata": {},
     "output_type": "execute_result"
    }
   ],
   "source": [
    "filepath=fpath.value + \"\\\\\" + fname.value + \".csv\"\n",
    "filepath"
   ]
  },
  {
   "cell_type": "code",
   "execution_count": 119,
   "metadata": {},
   "outputs": [],
   "source": [
    "#nbi:hide_in\n",
    "#accordion.children[0].value"
   ]
  },
  {
   "cell_type": "code",
   "execution_count": 120,
   "metadata": {},
   "outputs": [],
   "source": [
    "#nbi:hide_in\n",
    "#import dataframe\n",
    "import pandas as pd\n",
    "import requests as req\n",
    "#calling package URL lib\n",
    "from urllib.request import urlopen as uReq\n",
    "#pase HTML text\n",
    "from bs4 import BeautifulSoup as soup\n",
    "\n",
    "\n",
    "#filename = \"df_mulpages.csv\"\n",
    "#filename = filepath\n",
    "def scrapme(meurl):\n",
    "    def subs (Mileage):\n",
    "            if Mileage == \"0 - 4 999\":\n",
    "                return Mileage.replace(\"0 - 4 999\", \"2500\", 1)\n",
    "            elif Mileage == \"5 000 - 9 999\":\n",
    "                return Mileage.replace(\"5 000 - 9 999\", \"52500\", 1)\n",
    "            elif Mileage == \"10 000 - 14 999\":\n",
    "                return Mileage.replace(\"10 000 - 14 999\", \"12500\", 1)\n",
    "            elif Mileage == \"15 000 - 19 999\":\n",
    "                return Mileage.replace(\"15 000 - 19 999\", \"17500\", 1)\n",
    "            elif Mileage == \"20 000 - 24 999\":\n",
    "                return Mileage.replace(\"20 000 - 24 999\", \"22500\", 1)\n",
    "            elif Mileage == \"25 000 - 29 999\":\n",
    "                return Mileage.replace(\"25 000 - 29 999\", \"27500\", 1)\n",
    "            elif Mileage == \"30 000 - 34 999\":\n",
    "                return Mileage.replace(\"30 000 - 34 999\", \"32500\", 1)\n",
    "            elif Mileage == \"35 000 - 39 999\":\n",
    "                return Mileage.replace(\"35 000 - 39 999\", \"37500\", 1)\n",
    "            elif Mileage == \"40 000 - 44 999\":\n",
    "                return Mileage.replace(\"40 000 - 44 999\", \"42500\", 1)\n",
    "            elif Mileage == \"45 000 - 49 999\":\n",
    "                return Mileage.replace(\"45 000 - 49 999\", \"47500\", 1)\n",
    "            elif Mileage == \"50 000 - 54 999\":\n",
    "                return Mileage.replace(\"50 000 - 54 999\", \"52500\", 1)\n",
    "            elif Mileage == \"55 000 - 59 999\":\n",
    "                return Mileage.replace(\"55 000 - 59 999\", \"57500\", 1)\n",
    "            elif Mileage == \"60 000 - 64 999\":\n",
    "                return Mileage.replace(\"60 000 - 64 999\", \"62500\", 1)\n",
    "            elif Mileage == \"65 000 - 69 999\":\n",
    "                return Mileage.replace(\"65 000 - 69 999\", \"67500\", 1)\n",
    "            elif Mileage == \"70 000 - 74 999\":\n",
    "                return Mileage.replace(\"70 000 - 74 999\", \"72500\", 1)\n",
    "            elif Mileage == \"75 000 - 79 999\":\n",
    "                return Mileage.replace(\"75 000 - 79 999\", \"77500\", 1)\n",
    "            elif Mileage == \"80 000 - 84 999\":\n",
    "                return Mileage.replace(\"80 000 - 84 999\", \"82500\", 1)\n",
    "            elif Mileage == \"85 000 - 89 999\":\n",
    "                return Mileage.replace(\"85 000 - 89 999\", \"87500\", 1)\n",
    "            elif Mileage == \"90 000 - 94 999\":\n",
    "                return Mileage.replace(\"90 000 - 94 999\", \"92500\", 1)\n",
    "            elif Mileage == \"95 000 - 99 999\":\n",
    "                return Mileage.replace(\"95 000 - 99 999\", \"97500\", 1)\n",
    "            elif Mileage == \"100 000 - 109 999\":\n",
    "                return Mileage.replace(\"100 000 - 109 999\", \"105000\", 1)\n",
    "            elif Mileage == \"110 000 - 119 999\":\n",
    "                return Mileage.replace(\"110 000 - 119 999\", \"115000\", 1)\n",
    "            elif Mileage == \"120 000 - 129 999\":\n",
    "                return Mileage.replace(\"120 000 - 129 999\", \"125000\", 1)\n",
    "            elif Mileage == \"130 000 - 139 999\":\n",
    "                return Mileage.replace(\"130 000 - 139 999\", \"135000\", 1)\n",
    "            elif Mileage == \"140 000 - 149 999\":\n",
    "                return Mileage.replace(\"140 000 - 149 999\", \"145000\", 1)\n",
    "            elif Mileage == \"150 000 - 159 999\":\n",
    "                return Mileage.replace(\"150 000 - 159 999\", \"155000\", 1)\n",
    "            elif Mileage == \"160 000 - 169 999\":\n",
    "                return Mileage.replace(\"160 000 - 169 999\", \"165000\", 1)\n",
    "            elif Mileage == \"170 000 - 179 999\":\n",
    "                return Mileage.replace(\"170 000 - 179 999\", \"175000\", 1)\n",
    "            elif Mileage == \"180 000 - 189 999\":\n",
    "                return Mileage.replace(\"180 000 - 189 999\", \"185000\", 1)\n",
    "            elif Mileage == \"190 000 - 199 999\":\n",
    "                return Mileage.replace(\"190 000 - 199 999\", \"195000\", 1)\n",
    "            elif Mileage == \"200 000 - 249 999\":\n",
    "                return Mileage.replace(\"200 000 - 249 999\", \"225000\", 1)\n",
    "            elif Mileage == \"250 000 - 299 999\":\n",
    "                return Mileage.replace(\"250 000 - 299 999\", \"275000\", 1)\n",
    "            elif Mileage == \"300 000 - 349 999\":\n",
    "                return Mileage.replace(\"300 000 - 349 999\", \"325000\", 1)\n",
    "            elif Mileage == \"350 000 - 399 999\":\n",
    "                return Mileage.replace(\"350 000 - 399 999\", \"375000\", 1)\n",
    "            elif Mileage == \"400 000 - 449 999\":\n",
    "                return Mileage.replace(\"400 000 - 449 999\", \"425000\", 1)\n",
    "            elif Mileage == \"450 000 - 499 999\":\n",
    "                return Mileage.replace(\"450 000 - 499 999\", \"475000\", 1)\n",
    "            else:\n",
    "                return Mileage\n",
    "\n",
    "\n",
    "    #df = pd.DataFrame(data, columns=['Name', 'Price', 'Manufactured Year', 'Mileage', 'NewMil', 'CC', 'Condition', 'Link'])\n",
    "\n",
    "\n",
    "    def dprice (a):\n",
    "        if (' ' in a) == True:\n",
    "            return ''.join(a.split())\n",
    "        else:\n",
    "            return a\n",
    "    container = []\n",
    "    pages = []\n",
    "\n",
    "    for i in range(1,4):\n",
    "        my_url = 'https://www.mudah.my/malaysia/cars-for-sale?o=' + str(i) + '1&q=&th=1'\n",
    "        pages.append(my_url)\n",
    "\n",
    "    for item in pages:\n",
    "        page = req.get(item)\n",
    "        page_soup = soup(page.text, \"html.parser\")\n",
    "        containers = page_soup.findAll(\"div\", {\"class\":\"listing_params_container\"})\n",
    "\n",
    "\n",
    "        for fathiah in containers:\n",
    "\n",
    "            clink = fathiah.div.div.a[\"href\"]\n",
    "            name = fathiah.div.div.a[\"title\"].strip()\n",
    "            price = fathiah.findAll(\"div\", {\"class\":\"ads_price\"})\n",
    "            Price = price[0].text.strip()\n",
    "            year = fathiah.findAll(\"font\", {\"class\":\"icon_label\"})\n",
    "            Year = year[1].text.strip()\n",
    "            Mileage = year[2].text.strip()\n",
    "            CC = year[3].text.strip()\n",
    "            Condition = year[0].text.strip()\n",
    "\n",
    "            newMil = subs(Mileage).strip()\n",
    "            Price1 = Price.replace(\"RM\", \"\", 1)\n",
    "            nPrice = dprice(Price1)\n",
    "            container.append((name, nPrice, Year, Mileage, newMil, CC, Condition, clink))\n",
    "\n",
    "\n",
    "\n",
    "    df = pd.DataFrame(container, columns = ['Name', 'Price', 'Manufactured Year', 'Mileage', 'NewMil', 'CC', 'Condition', 'Link'])\n",
    "    #df.to_csv(filename, index=False, encoding='utf-8')"
   ]
  },
  {
   "cell_type": "code",
   "execution_count": 127,
   "metadata": {},
   "outputs": [],
   "source": [
    "#nbi:hide_in\n",
    "\n",
    "bscrap = widgets.Button(description='Scrap Me')\n",
    "oscrap = widgets.Output()\n",
    "def on_button_clicked(_):\n",
    "      # \"linking function with output\"\n",
    "      with oscrap:\n",
    "          # what happens when we press the button\n",
    "          clear_output()\n",
    "          scrapme(meurl.value, filepath)\n",
    "          #plt.plot(X, y)\n",
    "          print('Me Scrapped!')\n",
    "# linking button and function together using a button's method\n",
    "bscrap.on_click(on_button_clicked)\n",
    "# displaying button and its output together\n",
    "#widgets.VBox([bscrap,oscrap])"
   ]
  },
  {
   "cell_type": "code",
   "execution_count": 122,
   "metadata": {},
   "outputs": [],
   "source": [
    "#nbi:hide_in\n",
    "accordion1 = widgets.Accordion(children=[meurl])\n",
    "accordion1.set_title(0, 'Link')\n",
    "#accordion1"
   ]
  },
  {
   "cell_type": "code",
   "execution_count": 128,
   "metadata": {},
   "outputs": [],
   "source": [
    "#nbi:hide_in\n",
    "accordion2 = widgets.Accordion(children=[fpath, fname, widgets.VBox([bscrap,oscrap])])\n",
    "accordion2.set_title(0, 'Save: Folder Path')\n",
    "accordion2.set_title(1, 'Save: CSV File')\n",
    "accordion2.set_title(2, 'Scrap')\n",
    "#accordion2"
   ]
  },
  {
   "cell_type": "code",
   "execution_count": 129,
   "metadata": {},
   "outputs": [
    {
     "data": {
      "application/vnd.jupyter.widget-view+json": {
       "model_id": "944f71edbe37419bad669c78e14d26dd",
       "version_major": 2,
       "version_minor": 0
      },
      "text/html": [
       "<p>Failed to display Jupyter Widget of type <code>Tab</code>.</p>\n",
       "<p>\n",
       "  If you're reading this message in the Jupyter Notebook or JupyterLab Notebook, it may mean\n",
       "  that the widgets JavaScript is still loading. If this message persists, it\n",
       "  likely means that the widgets JavaScript library is either not installed or\n",
       "  not enabled. See the <a href=\"https://ipywidgets.readthedocs.io/en/stable/user_install.html\">Jupyter\n",
       "  Widgets Documentation</a> for setup instructions.\n",
       "</p>\n",
       "<p>\n",
       "  If you're reading this message in another frontend (for example, a static\n",
       "  rendering on GitHub or <a href=\"https://nbviewer.jupyter.org/\">NBViewer</a>),\n",
       "  it may mean that your frontend doesn't currently support widgets.\n",
       "</p>\n"
      ],
      "text/plain": [
       "Tab(children=(Accordion(children=(Text(value='', description='Link:', placeholder='Paste your mudah.my link here'),), _titles={'0': 'Link'}), Accordion(children=(Text(value='', description='Folder Path:', placeholder='Paste folder path to save'), Text(value='', description='CSV file:', placeholder='Name your scrap csv file'), VBox(children=(Button(description='Scrap Me', style=ButtonStyle()), Output()))), _titles={'0': 'Save: Folder Path', '1': 'Save: CSV File', '2': 'Scrap'})), _titles={'0': 'Data Source', '1': 'Save Data'})"
      ]
     },
     "metadata": {},
     "output_type": "display_data"
    }
   ],
   "source": [
    "#nbi:hide_in\n",
    "tab_nest = widgets.Tab()\n",
    "tab_nest.children = [accordion1, accordion2]\n",
    "tab_nest.set_title(0, 'Data Source')\n",
    "tab_nest.set_title(1, 'Save Data')\n",
    "tab_nest"
   ]
  },
  {
   "cell_type": "code",
   "execution_count": null,
   "metadata": {},
   "outputs": [],
   "source": []
  }
 ],
 "metadata": {
  "kernelspec": {
   "display_name": "Python 3",
   "language": "python",
   "name": "python3"
  },
  "language_info": {
   "codemirror_mode": {
    "name": "ipython",
    "version": 3
   },
   "file_extension": ".py",
   "mimetype": "text/x-python",
   "name": "python",
   "nbconvert_exporter": "python",
   "pygments_lexer": "ipython3",
   "version": "3.6.4"
  }
 },
 "nbformat": 4,
 "nbformat_minor": 2
}
