{
 "cells": [
  {
   "cell_type": "markdown",
   "metadata": {},
   "source": [
    "# Scammer Detector"
   ]
  },
  {
   "cell_type": "markdown",
   "metadata": {},
   "source": [
    "*Beware of __SCAMMER__, buy from the __TRUSTED__ one*"
   ]
  },
  {
   "cell_type": "code",
   "execution_count": 1,
   "metadata": {},
   "outputs": [],
   "source": [
    "#nbi:hide_in\n",
    "from IPython.display import display, Markdown, clear_output\n",
    "from ipywidgets import interact\n",
    "import ipywidgets as widgets"
   ]
  },
  {
   "cell_type": "code",
   "execution_count": 2,
   "metadata": {},
   "outputs": [],
   "source": [
    "#nbi:hide_in\n",
    "meurl=widgets.Text(value= '', placeholder='Paste your mudah.my link here', description='Link:', disabled=False)\n",
    "#meurl"
   ]
  },
  {
   "cell_type": "code",
   "execution_count": 3,
   "metadata": {},
   "outputs": [],
   "source": [
    "#nbi:hide_in\n",
    "fpath = widgets.Text(\n",
    "    value='',\n",
    "    placeholder='Paste folder path to save',\n",
    "    description='Folder Path:',\n",
    "    disabled=False\n",
    ")\n",
    "#fpath"
   ]
  },
  {
   "cell_type": "code",
   "execution_count": 4,
   "metadata": {},
   "outputs": [],
   "source": [
    "#nbi:hide_in\n",
    "fname = widgets.Text(\n",
    "    value='',\n",
    "    placeholder='Name your scrap csv file',\n",
    "    description='CSV file:',\n",
    "    disabled=False\n",
    ")\n",
    "#fname"
   ]
  },
  {
   "cell_type": "code",
   "execution_count": 5,
   "metadata": {},
   "outputs": [
    {
     "data": {
      "text/plain": [
       "'\\\\.csv'"
      ]
     },
     "execution_count": 5,
     "metadata": {},
     "output_type": "execute_result"
    }
   ],
   "source": [
    "filepath=fpath.value + \"\\\\\" + fname.value + \".csv\"\n",
    "filepath"
   ]
  },
  {
   "cell_type": "code",
   "execution_count": 6,
   "metadata": {},
   "outputs": [],
   "source": [
    "#nbi:hide_in\n",
    "#accordion.children[0].value"
   ]
  },
  {
   "cell_type": "code",
   "execution_count": 7,
   "metadata": {},
   "outputs": [],
   "source": [
    "#nbi:hide_in\n",
    "#import dataframe\n",
    "import pandas as pd\n",
    "import requests as req\n",
    "#calling package URL lib\n",
    "from urllib.request import urlopen as uReq\n",
    "#pase HTML text\n",
    "from bs4 import BeautifulSoup as soup\n",
    "\n",
    "\n",
    "#filename = \"df_mulpages.csv\"\n",
    "#filename = filepath\n",
    "def scrapme(meurl):\n",
    "    def subs (Mileage):\n",
    "            if Mileage == \"0 - 4 999\":\n",
    "                return Mileage.replace(\"0 - 4 999\", \"2500\", 1)\n",
    "            elif Mileage == \"5 000 - 9 999\":\n",
    "                return Mileage.replace(\"5 000 - 9 999\", \"52500\", 1)\n",
    "            elif Mileage == \"10 000 - 14 999\":\n",
    "                return Mileage.replace(\"10 000 - 14 999\", \"12500\", 1)\n",
    "            elif Mileage == \"15 000 - 19 999\":\n",
    "                return Mileage.replace(\"15 000 - 19 999\", \"17500\", 1)\n",
    "            elif Mileage == \"20 000 - 24 999\":\n",
    "                return Mileage.replace(\"20 000 - 24 999\", \"22500\", 1)\n",
    "            elif Mileage == \"25 000 - 29 999\":\n",
    "                return Mileage.replace(\"25 000 - 29 999\", \"27500\", 1)\n",
    "            elif Mileage == \"30 000 - 34 999\":\n",
    "                return Mileage.replace(\"30 000 - 34 999\", \"32500\", 1)\n",
    "            elif Mileage == \"35 000 - 39 999\":\n",
    "                return Mileage.replace(\"35 000 - 39 999\", \"37500\", 1)\n",
    "            elif Mileage == \"40 000 - 44 999\":\n",
    "                return Mileage.replace(\"40 000 - 44 999\", \"42500\", 1)\n",
    "            elif Mileage == \"45 000 - 49 999\":\n",
    "                return Mileage.replace(\"45 000 - 49 999\", \"47500\", 1)\n",
    "            elif Mileage == \"50 000 - 54 999\":\n",
    "                return Mileage.replace(\"50 000 - 54 999\", \"52500\", 1)\n",
    "            elif Mileage == \"55 000 - 59 999\":\n",
    "                return Mileage.replace(\"55 000 - 59 999\", \"57500\", 1)\n",
    "            elif Mileage == \"60 000 - 64 999\":\n",
    "                return Mileage.replace(\"60 000 - 64 999\", \"62500\", 1)\n",
    "            elif Mileage == \"65 000 - 69 999\":\n",
    "                return Mileage.replace(\"65 000 - 69 999\", \"67500\", 1)\n",
    "            elif Mileage == \"70 000 - 74 999\":\n",
    "                return Mileage.replace(\"70 000 - 74 999\", \"72500\", 1)\n",
    "            elif Mileage == \"75 000 - 79 999\":\n",
    "                return Mileage.replace(\"75 000 - 79 999\", \"77500\", 1)\n",
    "            elif Mileage == \"80 000 - 84 999\":\n",
    "                return Mileage.replace(\"80 000 - 84 999\", \"82500\", 1)\n",
    "            elif Mileage == \"85 000 - 89 999\":\n",
    "                return Mileage.replace(\"85 000 - 89 999\", \"87500\", 1)\n",
    "            elif Mileage == \"90 000 - 94 999\":\n",
    "                return Mileage.replace(\"90 000 - 94 999\", \"92500\", 1)\n",
    "            elif Mileage == \"95 000 - 99 999\":\n",
    "                return Mileage.replace(\"95 000 - 99 999\", \"97500\", 1)\n",
    "            elif Mileage == \"100 000 - 109 999\":\n",
    "                return Mileage.replace(\"100 000 - 109 999\", \"105000\", 1)\n",
    "            elif Mileage == \"110 000 - 119 999\":\n",
    "                return Mileage.replace(\"110 000 - 119 999\", \"115000\", 1)\n",
    "            elif Mileage == \"120 000 - 129 999\":\n",
    "                return Mileage.replace(\"120 000 - 129 999\", \"125000\", 1)\n",
    "            elif Mileage == \"130 000 - 139 999\":\n",
    "                return Mileage.replace(\"130 000 - 139 999\", \"135000\", 1)\n",
    "            elif Mileage == \"140 000 - 149 999\":\n",
    "                return Mileage.replace(\"140 000 - 149 999\", \"145000\", 1)\n",
    "            elif Mileage == \"150 000 - 159 999\":\n",
    "                return Mileage.replace(\"150 000 - 159 999\", \"155000\", 1)\n",
    "            elif Mileage == \"160 000 - 169 999\":\n",
    "                return Mileage.replace(\"160 000 - 169 999\", \"165000\", 1)\n",
    "            elif Mileage == \"170 000 - 179 999\":\n",
    "                return Mileage.replace(\"170 000 - 179 999\", \"175000\", 1)\n",
    "            elif Mileage == \"180 000 - 189 999\":\n",
    "                return Mileage.replace(\"180 000 - 189 999\", \"185000\", 1)\n",
    "            elif Mileage == \"190 000 - 199 999\":\n",
    "                return Mileage.replace(\"190 000 - 199 999\", \"195000\", 1)\n",
    "            elif Mileage == \"200 000 - 249 999\":\n",
    "                return Mileage.replace(\"200 000 - 249 999\", \"225000\", 1)\n",
    "            elif Mileage == \"250 000 - 299 999\":\n",
    "                return Mileage.replace(\"250 000 - 299 999\", \"275000\", 1)\n",
    "            elif Mileage == \"300 000 - 349 999\":\n",
    "                return Mileage.replace(\"300 000 - 349 999\", \"325000\", 1)\n",
    "            elif Mileage == \"350 000 - 399 999\":\n",
    "                return Mileage.replace(\"350 000 - 399 999\", \"375000\", 1)\n",
    "            elif Mileage == \"400 000 - 449 999\":\n",
    "                return Mileage.replace(\"400 000 - 449 999\", \"425000\", 1)\n",
    "            elif Mileage == \"450 000 - 499 999\":\n",
    "                return Mileage.replace(\"450 000 - 499 999\", \"475000\", 1)\n",
    "            else:\n",
    "                return Mileage\n",
    "\n",
    "\n",
    "    #df = pd.DataFrame(data, columns=['Name', 'Price', 'Manufactured Year', 'Mileage', 'NewMil', 'CC', 'Condition', 'Link'])\n",
    "\n",
    "\n",
    "    def dprice (a):\n",
    "        if (' ' in a) == True:\n",
    "            return ''.join(a.split())\n",
    "        else:\n",
    "            return a\n",
    "    container = []\n",
    "    pages = []\n",
    "\n",
    "    for i in range(1,4):\n",
    "        my_url = 'https://www.mudah.my/malaysia/cars-for-sale?o=' + str(i) + '1&q=&th=1'\n",
    "        pages.append(my_url)\n",
    "\n",
    "    for item in pages:\n",
    "        page = req.get(item)\n",
    "        page_soup = soup(page.text, \"html.parser\")\n",
    "        containers = page_soup.findAll(\"div\", {\"class\":\"listing_params_container\"})\n",
    "\n",
    "\n",
    "        for fathiah in containers:\n",
    "\n",
    "            clink = fathiah.div.div.a[\"href\"]\n",
    "            name = fathiah.div.div.a[\"title\"].strip()\n",
    "            price = fathiah.findAll(\"div\", {\"class\":\"ads_price\"})\n",
    "            Price = price[0].text.strip()\n",
    "            year = fathiah.findAll(\"font\", {\"class\":\"icon_label\"})\n",
    "            Year = year[1].text.strip()\n",
    "            Mileage = year[2].text.strip()\n",
    "            CC = year[3].text.strip()\n",
    "            Condition = year[0].text.strip()\n",
    "\n",
    "            newMil = subs(Mileage).strip()\n",
    "            Price1 = Price.replace(\"RM\", \"\", 1)\n",
    "            nPrice = dprice(Price1)\n",
    "            container.append((name, nPrice, Year, Mileage, newMil, CC, Condition, clink))\n",
    "\n",
    "\n",
    "\n",
    "    df = pd.DataFrame(container, columns = ['Name', 'Price', 'Manufactured Year', 'Mileage', 'NewMil', 'CC', 'Condition', 'Link'])\n",
    "    #df.to_csv(filename, index=False, encoding='utf-8')"
   ]
  },
  {
   "cell_type": "code",
   "execution_count": 8,
   "metadata": {},
   "outputs": [],
   "source": [
    "#nbi:hide_in\n",
    "\n",
    "bscrap = widgets.Button(description='Scrap Me')\n",
    "oscrap = widgets.Output()\n",
    "def on_button_clicked(_):\n",
    "      # \"linking function with output\"\n",
    "      with oscrap:\n",
    "          # what happens when we press the button\n",
    "          clear_output()\n",
    "          scrapme(meurl.value, filepath)\n",
    "          #plt.plot(X, y)\n",
    "          print('Me Scrapped!')\n",
    "# linking button and function together using a button's method\n",
    "bscrap.on_click(on_button_clicked)\n",
    "# displaying button and its output together\n",
    "#widgets.VBox([bscrap,oscrap])"
   ]
  },
  {
   "cell_type": "code",
   "execution_count": 12,
   "metadata": {},
   "outputs": [],
   "source": [
    "#nbi:hide_in\n",
    "accordion1 = widgets.Accordion(children=[meurl])\n",
    "accordion1.set_title(0, 'Link')\n",
    "#accordion1"
   ]
  },
  {
   "cell_type": "code",
   "execution_count": 10,
   "metadata": {},
   "outputs": [],
   "source": [
    "#nbi:hide_in\n",
    "accordion2 = widgets.Accordion(children=[fpath, fname, widgets.VBox([bscrap,oscrap])])\n",
    "accordion2.set_title(0, 'Save: Folder Path')\n",
    "accordion2.set_title(1, 'Save: CSV File')\n",
    "accordion2.set_title(2, 'Scrap')\n",
    "#accordion2"
   ]
  },
  {
   "cell_type": "code",
   "execution_count": 13,
   "metadata": {},
   "outputs": [
    {
     "name": "stdout",
     "output_type": "stream",
     "text": [
      "Tab Nest\n"
     ]
    },
    {
     "data": {
      "application/vnd.jupyter.widget-view+json": {
       "model_id": "fe218002d0b64d028c8d7851998b99c7",
       "version_major": 2,
       "version_minor": 0
      },
      "text/html": [
       "<p>Failed to display Jupyter Widget of type <code>Tab</code>.</p>\n",
       "<p>\n",
       "  If you're reading this message in the Jupyter Notebook or JupyterLab Notebook, it may mean\n",
       "  that the widgets JavaScript is still loading. If this message persists, it\n",
       "  likely means that the widgets JavaScript library is either not installed or\n",
       "  not enabled. See the <a href=\"https://ipywidgets.readthedocs.io/en/stable/user_install.html\">Jupyter\n",
       "  Widgets Documentation</a> for setup instructions.\n",
       "</p>\n",
       "<p>\n",
       "  If you're reading this message in another frontend (for example, a static\n",
       "  rendering on GitHub or <a href=\"https://nbviewer.jupyter.org/\">NBViewer</a>),\n",
       "  it may mean that your frontend doesn't currently support widgets.\n",
       "</p>\n"
      ],
      "text/plain": [
       "Tab(children=(Accordion(children=(Text(value='', description='Link:', placeholder='Paste your mudah.my link here'),), _titles={'0': 'Link'}), Accordion(children=(Text(value='', description='Folder Path:', placeholder='Paste folder path to save'), Text(value='', description='CSV file:', placeholder='Name your scrap csv file'), VBox(children=(Button(description='Scrap Me', style=ButtonStyle()), Output()))), _titles={'0': 'Save: Folder Path', '1': 'Save: CSV File', '2': 'Scrap'})), _titles={'0': 'Data Source', '1': 'Save Data'})"
      ]
     },
     "metadata": {},
     "output_type": "display_data"
    }
   ],
   "source": [
    "#nbi:hide_in\n",
    "tab_nest = widgets.Tab()\n",
    "tab_nest.children = [accordion1, accordion2]\n",
    "tab_nest.set_title(0, 'Data Source')\n",
    "tab_nest.set_title(1, 'Save Data')\n",
    "print('Tab Nest')\n",
    "tab_nest"
   ]
  },
  {
   "cell_type": "code",
   "execution_count": 19,
   "metadata": {},
   "outputs": [
    {
     "data": {
      "application/vnd.jupyter.widget-view+json": {
       "model_id": "59024bd1bca34d369ee61be919940b81",
       "version_major": 2,
       "version_minor": 0
      },
      "text/html": [
       "<p>Failed to display Jupyter Widget of type <code>Accordion</code>.</p>\n",
       "<p>\n",
       "  If you're reading this message in the Jupyter Notebook or JupyterLab Notebook, it may mean\n",
       "  that the widgets JavaScript is still loading. If this message persists, it\n",
       "  likely means that the widgets JavaScript library is either not installed or\n",
       "  not enabled. See the <a href=\"https://ipywidgets.readthedocs.io/en/stable/user_install.html\">Jupyter\n",
       "  Widgets Documentation</a> for setup instructions.\n",
       "</p>\n",
       "<p>\n",
       "  If you're reading this message in another frontend (for example, a static\n",
       "  rendering on GitHub or <a href=\"https://nbviewer.jupyter.org/\">NBViewer</a>),\n",
       "  it may mean that your frontend doesn't currently support widgets.\n",
       "</p>\n"
      ],
      "text/plain": [
       "Accordion(children=(VBox(children=(IntSlider(value=0), IntSlider(value=0), IntSlider(value=0))), Text(value='')), _titles={'0': 'Sliders', '1': 'Text'})"
      ]
     },
     "metadata": {},
     "output_type": "display_data"
    }
   ],
   "source": [
    "#nbi:hide_in\n",
    "list_widgets  = [\n",
    "    widgets.VBox([widgets.IntSlider(), widgets.IntSlider(), widgets.IntSlider()]),\n",
    "    widgets.Text()\n",
    "                ]\n",
    "\n",
    "accordion = widgets.Accordion(children=list_widgets)\n",
    "accordion.set_title(0, 'Sliders')\n",
    "accordion.set_title(1, 'Text')\n",
    "accordion"
   ]
  }
 ],
 "metadata": {
  "kernelspec": {
   "display_name": "Python 3",
   "language": "python",
   "name": "python3"
  },
  "language_info": {
   "codemirror_mode": {
    "name": "ipython",
    "version": 3
   },
   "file_extension": ".py",
   "mimetype": "text/x-python",
   "name": "python",
   "nbconvert_exporter": "python",
   "pygments_lexer": "ipython3",
   "version": "3.6.4"
  },
  "widgets": {
   "application/vnd.jupyter.widget-state+json": {
    "state": {
     "00e522c872e54ea182be34474b8c43a3": {
      "model_module": "@jupyter-widgets/controls",
      "model_module_version": "1.1.0",
      "model_name": "DescriptionStyleModel",
      "state": {
       "description_width": ""
      }
     },
     "0200fc58fefd4c9db54555b741052f36": {
      "model_module": "@jupyter-widgets/base",
      "model_module_version": "1.0.0",
      "model_name": "LayoutModel",
      "state": {}
     },
     "026e9560866844b097f361a26df70f09": {
      "model_module": "@jupyter-widgets/controls",
      "model_module_version": "1.1.0",
      "model_name": "SliderStyleModel",
      "state": {
       "description_width": ""
      }
     },
     "0273b8019ed84d8c8c16eeb443a07bee": {
      "model_module": "@jupyter-widgets/controls",
      "model_module_version": "1.1.0",
      "model_name": "DescriptionStyleModel",
      "state": {
       "description_width": ""
      }
     },
     "041670c09ad74ca4b5c6c60989b4a98e": {
      "model_module": "@jupyter-widgets/controls",
      "model_module_version": "1.1.0",
      "model_name": "DescriptionStyleModel",
      "state": {
       "description_width": ""
      }
     },
     "09cc4587dc1645aca5369f4d938b52ea": {
      "model_module": "@jupyter-widgets/controls",
      "model_module_version": "1.1.0",
      "model_name": "TextModel",
      "state": {
       "description": "CSV file:",
       "layout": "IPY_MODEL_cbb1c78dc2e74b1b8681cff2e8b9f284",
       "placeholder": "Name your scrap csv file",
       "style": "IPY_MODEL_0273b8019ed84d8c8c16eeb443a07bee"
      }
     },
     "0a4df2148d7a497a8210f3db4d7185d4": {
      "model_module": "@jupyter-widgets/controls",
      "model_module_version": "1.1.0",
      "model_name": "VBoxModel",
      "state": {
       "children": [
        "IPY_MODEL_738fc8abd711463eaaa0a50275d02cc1",
        "IPY_MODEL_2ae6fe5855ce4958955cdce84952a73a"
       ],
       "layout": "IPY_MODEL_600a1978219d4c41a73e101ae3945bfa"
      }
     },
     "0c196ca8bb684d90bf64def17f044630": {
      "model_module": "@jupyter-widgets/base",
      "model_module_version": "1.0.0",
      "model_name": "LayoutModel",
      "state": {}
     },
     "0c7ff1b289894206815c894788a26f5d": {
      "model_module": "@jupyter-widgets/controls",
      "model_module_version": "1.1.0",
      "model_name": "TextModel",
      "state": {
       "description": "P4",
       "layout": "IPY_MODEL_4eac868ea3b64e3487332fd1089c2b97",
       "style": "IPY_MODEL_2f987526796e4bbf8724e6d2f76671cc"
      }
     },
     "0d97f65c9da64f04930890e5aec65cb3": {
      "model_module": "@jupyter-widgets/controls",
      "model_module_version": "1.1.0",
      "model_name": "TextModel",
      "state": {
       "description": "P2",
       "layout": "IPY_MODEL_18f849d7a799479299691e131fc9c764",
       "style": "IPY_MODEL_5ea399fa7ba04b49917f63fa32c1d093"
      }
     },
     "0e0a4bcbf968479d9f37c56fb00d8e84": {
      "model_module": "@jupyter-widgets/controls",
      "model_module_version": "1.1.0",
      "model_name": "AccordionModel",
      "state": {
       "_titles": {
        "0": "Save: Folder Path",
        "1": "Save: CSV File",
        "2": "Scrap"
       },
       "children": [
        "IPY_MODEL_4fb2f59a872c4fbf87c58c41f5c921d9",
        "IPY_MODEL_135566adafde420db57732de59b0bccf",
        "IPY_MODEL_0a4df2148d7a497a8210f3db4d7185d4"
       ],
       "layout": "IPY_MODEL_337058e5f6f5418d99985f5d1112a68e"
      }
     },
     "0e3da16eb14340448ff5c4a5cdc969dc": {
      "model_module": "@jupyter-widgets/controls",
      "model_module_version": "1.1.0",
      "model_name": "IntSliderModel",
      "state": {
       "layout": "IPY_MODEL_5d68d498a3b64fb8b5b42f654dfc0619",
       "style": "IPY_MODEL_1196ac90316f4d6a98c69a3fd53a42cd"
      }
     },
     "0fb7585225ea4720be8391791bb78524": {
      "model_module": "@jupyter-widgets/controls",
      "model_module_version": "1.1.0",
      "model_name": "DescriptionStyleModel",
      "state": {
       "description_width": ""
      }
     },
     "113222d97f1e4eea85397a4c355f3de8": {
      "model_module": "@jupyter-widgets/base",
      "model_module_version": "1.0.0",
      "model_name": "LayoutModel",
      "state": {}
     },
     "1196ac90316f4d6a98c69a3fd53a42cd": {
      "model_module": "@jupyter-widgets/controls",
      "model_module_version": "1.1.0",
      "model_name": "SliderStyleModel",
      "state": {
       "description_width": ""
      }
     },
     "12093354cf19401f9016d46b28cef0e8": {
      "model_module": "@jupyter-widgets/controls",
      "model_module_version": "1.1.0",
      "model_name": "DescriptionStyleModel",
      "state": {
       "description_width": ""
      }
     },
     "12ecb5f159af48ada71fe31dec096c54": {
      "model_module": "@jupyter-widgets/controls",
      "model_module_version": "1.1.0",
      "model_name": "TextModel",
      "state": {
       "description": "P1",
       "layout": "IPY_MODEL_fa017b70bcd249fb83b0a0035baa31a9",
       "style": "IPY_MODEL_ee69258dd5514ae893aa1f9b1b6b945a"
      }
     },
     "135566adafde420db57732de59b0bccf": {
      "model_module": "@jupyter-widgets/controls",
      "model_module_version": "1.1.0",
      "model_name": "TextModel",
      "state": {
       "description": "CSV file:",
       "layout": "IPY_MODEL_ae057b603fd84212bd7dd69a5ffba04b",
       "placeholder": "Name your scrap csv file",
       "style": "IPY_MODEL_041670c09ad74ca4b5c6c60989b4a98e"
      }
     },
     "137782d1f88c4992a6fc90a27a03067a": {
      "model_module": "@jupyter-widgets/controls",
      "model_module_version": "1.1.0",
      "model_name": "AccordionModel",
      "state": {
       "_titles": {
        "0": "Link"
       },
       "children": [
        "IPY_MODEL_5bb338080e704423aac233946c9f4458"
       ],
       "layout": "IPY_MODEL_368b01483c554cdaaacc4a5d376eff43"
      }
     },
     "13d3b1bf102846109db485782ea8a679": {
      "model_module": "@jupyter-widgets/base",
      "model_module_version": "1.0.0",
      "model_name": "LayoutModel",
      "state": {}
     },
     "16458d954a00494687adcb0f9f006b65": {
      "model_module": "@jupyter-widgets/controls",
      "model_module_version": "1.1.0",
      "model_name": "AccordionModel",
      "state": {
       "_titles": {
        "0": "Link"
       },
       "children": [
        "IPY_MODEL_909d6ee5755b494b84f364792342eb05"
       ],
       "layout": "IPY_MODEL_dd1ae52d8ac44ee1b7100740784132e0"
      }
     },
     "179277d12b3b47b88565b0e09892181b": {
      "model_module": "@jupyter-widgets/base",
      "model_module_version": "1.0.0",
      "model_name": "LayoutModel",
      "state": {}
     },
     "18f849d7a799479299691e131fc9c764": {
      "model_module": "@jupyter-widgets/base",
      "model_module_version": "1.0.0",
      "model_name": "LayoutModel",
      "state": {}
     },
     "1cb9ed8cdf29477282d27e0a8c5566bb": {
      "model_module": "@jupyter-widgets/base",
      "model_module_version": "1.0.0",
      "model_name": "LayoutModel",
      "state": {}
     },
     "1de801c14ef94e41ac8e3a59ca59b8b5": {
      "model_module": "@jupyter-widgets/controls",
      "model_module_version": "1.1.0",
      "model_name": "TextModel",
      "state": {
       "description": "P0",
       "layout": "IPY_MODEL_6c183fd9344948a6b80fdb15a6e8aa7c",
       "style": "IPY_MODEL_8b056e42484b43198fea620d4d21f70b"
      }
     },
     "1fb9f6a6997241609e881ae4946baa50": {
      "model_module": "@jupyter-widgets/controls",
      "model_module_version": "1.1.0",
      "model_name": "DescriptionStyleModel",
      "state": {
       "description_width": ""
      }
     },
     "2266017e29f84860abbc34d6a030703c": {
      "model_module": "@jupyter-widgets/base",
      "model_module_version": "1.0.0",
      "model_name": "LayoutModel",
      "state": {}
     },
     "2331aff9a55948d3b135b428be97df50": {
      "model_module": "@jupyter-widgets/base",
      "model_module_version": "1.0.0",
      "model_name": "LayoutModel",
      "state": {}
     },
     "23b768ed513347578293fdae6aa6ca42": {
      "model_module": "@jupyter-widgets/controls",
      "model_module_version": "1.1.0",
      "model_name": "TabModel",
      "state": {
       "_titles": {
        "0": "Data Source",
        "1": "Save Data"
       },
       "children": [
        "IPY_MODEL_536056cbba7145c1868b97215f875567",
        "IPY_MODEL_0e0a4bcbf968479d9f37c56fb00d8e84"
       ],
       "layout": "IPY_MODEL_59aafc8e2014427796eca318a19830fc"
      }
     },
     "2902214b47004a2c8cb6173886d39966": {
      "model_module": "@jupyter-widgets/controls",
      "model_module_version": "1.1.0",
      "model_name": "TextModel",
      "state": {
       "description": "P0",
       "layout": "IPY_MODEL_67438565ddbd4f5c91eac8d795d32b02",
       "style": "IPY_MODEL_8da8a47c95fe4fd7bce9e6751438f372"
      }
     },
     "2ae6fe5855ce4958955cdce84952a73a": {
      "model_module": "@jupyter-widgets/output",
      "model_module_version": "1.0.0",
      "model_name": "OutputModel",
      "state": {
       "layout": "IPY_MODEL_7895d253d1384fc3bbc749b789cdab8e"
      }
     },
     "2cd0b7fcd9544c35a773f305053b6cb0": {
      "model_module": "@jupyter-widgets/base",
      "model_module_version": "1.0.0",
      "model_name": "LayoutModel",
      "state": {}
     },
     "2d0400f5630d49ffb350be91d7bb4f9f": {
      "model_module": "@jupyter-widgets/controls",
      "model_module_version": "1.1.0",
      "model_name": "DescriptionStyleModel",
      "state": {
       "description_width": ""
      }
     },
     "2e954fb63ea24b4e97190dbf8b477add": {
      "model_module": "@jupyter-widgets/base",
      "model_module_version": "1.0.0",
      "model_name": "LayoutModel",
      "state": {}
     },
     "2f056b489378414dbd81f47246fe0da3": {
      "model_module": "@jupyter-widgets/base",
      "model_module_version": "1.0.0",
      "model_name": "LayoutModel",
      "state": {}
     },
     "2f987526796e4bbf8724e6d2f76671cc": {
      "model_module": "@jupyter-widgets/controls",
      "model_module_version": "1.1.0",
      "model_name": "DescriptionStyleModel",
      "state": {
       "description_width": ""
      }
     },
     "30291bea8af94bdabf368fc67b2dc629": {
      "model_module": "@jupyter-widgets/base",
      "model_module_version": "1.0.0",
      "model_name": "LayoutModel",
      "state": {}
     },
     "303872e654ad48d486a0119af3214ada": {
      "model_module": "@jupyter-widgets/controls",
      "model_module_version": "1.1.0",
      "model_name": "IntSliderModel",
      "state": {
       "layout": "IPY_MODEL_beee4d9a7b674a79b9881199d06f2ab3",
       "style": "IPY_MODEL_e07107c036054b7b90e4da0cb159d785"
      }
     },
     "32639a6a55254700a53cd94333db07eb": {
      "model_module": "@jupyter-widgets/controls",
      "model_module_version": "1.1.0",
      "model_name": "TextModel",
      "state": {
       "description": "P2",
       "layout": "IPY_MODEL_7505e11fc7a042f9a992819f48ad5838",
       "style": "IPY_MODEL_1fb9f6a6997241609e881ae4946baa50"
      }
     },
     "328a5cb846974f3ea2fbc5062d1b2aec": {
      "model_module": "@jupyter-widgets/base",
      "model_module_version": "1.0.0",
      "model_name": "LayoutModel",
      "state": {}
     },
     "336f91b3b74746198d53aabf9006d7c1": {
      "model_module": "@jupyter-widgets/base",
      "model_module_version": "1.0.0",
      "model_name": "LayoutModel",
      "state": {}
     },
     "337058e5f6f5418d99985f5d1112a68e": {
      "model_module": "@jupyter-widgets/base",
      "model_module_version": "1.0.0",
      "model_name": "LayoutModel",
      "state": {}
     },
     "35461f82ba1d4d77b7d5ae248deff226": {
      "model_module": "@jupyter-widgets/controls",
      "model_module_version": "1.1.0",
      "model_name": "SliderStyleModel",
      "state": {
       "description_width": ""
      }
     },
     "3603e9a8c09a4545bca6e5ebe7157c0d": {
      "model_module": "@jupyter-widgets/controls",
      "model_module_version": "1.1.0",
      "model_name": "TextModel",
      "state": {
       "description": "P4",
       "layout": "IPY_MODEL_3e86c2e33aa14a038b940a3e13e262b7",
       "style": "IPY_MODEL_364c6d38f9bc46d694cc6122e34a779e"
      }
     },
     "364c6d38f9bc46d694cc6122e34a779e": {
      "model_module": "@jupyter-widgets/controls",
      "model_module_version": "1.1.0",
      "model_name": "DescriptionStyleModel",
      "state": {
       "description_width": ""
      }
     },
     "368b01483c554cdaaacc4a5d376eff43": {
      "model_module": "@jupyter-widgets/base",
      "model_module_version": "1.0.0",
      "model_name": "LayoutModel",
      "state": {}
     },
     "38a3915c4cbb4eedb03c9318876ce64d": {
      "model_module": "@jupyter-widgets/base",
      "model_module_version": "1.0.0",
      "model_name": "LayoutModel",
      "state": {}
     },
     "38c4e90646f04017820fcd7c2eb68dec": {
      "model_module": "@jupyter-widgets/controls",
      "model_module_version": "1.1.0",
      "model_name": "TextModel",
      "state": {
       "description": "P3",
       "layout": "IPY_MODEL_47f04239aaa34c64a54bd6e440db043d",
       "style": "IPY_MODEL_49101725ee4444dfbab055bbd57f26a8"
      }
     },
     "392b8c0ec8d9448dba5172d2e2e4d06c": {
      "model_module": "@jupyter-widgets/controls",
      "model_module_version": "1.1.0",
      "model_name": "DescriptionStyleModel",
      "state": {
       "description_width": ""
      }
     },
     "3cf2798892164a8bb80767bcd9f46ea9": {
      "model_module": "@jupyter-widgets/controls",
      "model_module_version": "1.1.0",
      "model_name": "DescriptionStyleModel",
      "state": {
       "description_width": ""
      }
     },
     "3e86c2e33aa14a038b940a3e13e262b7": {
      "model_module": "@jupyter-widgets/base",
      "model_module_version": "1.0.0",
      "model_name": "LayoutModel",
      "state": {}
     },
     "41bc86e7008d4bf8a2eb92127b30054b": {
      "model_module": "@jupyter-widgets/base",
      "model_module_version": "1.0.0",
      "model_name": "LayoutModel",
      "state": {}
     },
     "428ace7ee0734ac8820e2805eceec9c8": {
      "model_module": "@jupyter-widgets/base",
      "model_module_version": "1.0.0",
      "model_name": "LayoutModel",
      "state": {}
     },
     "428cf8f9656344b3b332a1d8bd171e34": {
      "model_module": "@jupyter-widgets/controls",
      "model_module_version": "1.1.0",
      "model_name": "VBoxModel",
      "state": {
       "children": [
        "IPY_MODEL_faf05ef91fbb413d8f94aac51d657b9c",
        "IPY_MODEL_9358b98a70724943a1acb494c199eac8"
       ],
       "layout": "IPY_MODEL_57439bf964a14d5bb578d5de6d0a4853"
      }
     },
     "43c15f7822c24bb587758a2d28bf668b": {
      "model_module": "@jupyter-widgets/base",
      "model_module_version": "1.0.0",
      "model_name": "LayoutModel",
      "state": {}
     },
     "45958e9e84d046e8b3c1fec2ee9253ec": {
      "model_module": "@jupyter-widgets/base",
      "model_module_version": "1.0.0",
      "model_name": "LayoutModel",
      "state": {}
     },
     "45fe8a1ba63f42c4962137c1eb804613": {
      "model_module": "@jupyter-widgets/controls",
      "model_module_version": "1.1.0",
      "model_name": "VBoxModel",
      "state": {
       "children": [
        "IPY_MODEL_2902214b47004a2c8cb6173886d39966",
        "IPY_MODEL_e7036d85a4a244879d88033570153047",
        "IPY_MODEL_9f812511ca144b109ced230479509754",
        "IPY_MODEL_7c46344f17574d1eb1b8e2e99abd7f10",
        "IPY_MODEL_f6b935e9260846aea8f812d1650aca59"
       ],
       "layout": "IPY_MODEL_5a8b6fa1f4fe4ce7bbda2dc24b6469f0"
      }
     },
     "47f04239aaa34c64a54bd6e440db043d": {
      "model_module": "@jupyter-widgets/base",
      "model_module_version": "1.0.0",
      "model_name": "LayoutModel",
      "state": {}
     },
     "485ea46617474a05a7cfdd82fc03bcfa": {
      "model_module": "@jupyter-widgets/controls",
      "model_module_version": "1.1.0",
      "model_name": "VBoxModel",
      "state": {
       "children": [
        "IPY_MODEL_540752dd94dc4259bf04313573a96346",
        "IPY_MODEL_e0b814dba3704476af8ed87e7105c49c"
       ],
       "layout": "IPY_MODEL_e66f773b222546b4b7c2d382b25c708b"
      }
     },
     "49101725ee4444dfbab055bbd57f26a8": {
      "model_module": "@jupyter-widgets/controls",
      "model_module_version": "1.1.0",
      "model_name": "DescriptionStyleModel",
      "state": {
       "description_width": ""
      }
     },
     "4a9aeadbb5a74527a50879f26a725613": {
      "model_module": "@jupyter-widgets/base",
      "model_module_version": "1.0.0",
      "model_name": "LayoutModel",
      "state": {}
     },
     "4b403456d0054e28a702135ace170a15": {
      "model_module": "@jupyter-widgets/base",
      "model_module_version": "1.0.0",
      "model_name": "LayoutModel",
      "state": {}
     },
     "4b4f8568498d4a4fa00bf10ebeb154fd": {
      "model_module": "@jupyter-widgets/controls",
      "model_module_version": "1.1.0",
      "model_name": "IntSliderModel",
      "state": {
       "layout": "IPY_MODEL_2266017e29f84860abbc34d6a030703c",
       "style": "IPY_MODEL_62d184439c3247a8a0d4a047d707211c"
      }
     },
     "4bf05ade196a4b809820028ff1757aa8": {
      "model_module": "@jupyter-widgets/controls",
      "model_module_version": "1.1.0",
      "model_name": "TabModel",
      "state": {
       "_titles": {
        "0": "Data Source",
        "1": "Save Data"
       },
       "children": [
        "IPY_MODEL_b2142ea7ed7c48f3ae8f2bf0ffe6e098",
        "IPY_MODEL_700de688fd5346bc8bc77aefa4f88c21"
       ],
       "layout": "IPY_MODEL_632a4edb8c5244158bd50d92c35e2d16"
      }
     },
     "4c08fff60a8e4897a109994008ad59ab": {
      "model_module": "@jupyter-widgets/base",
      "model_module_version": "1.0.0",
      "model_name": "LayoutModel",
      "state": {}
     },
     "4d094b6b43ed441bbace415e60754407": {
      "model_module": "@jupyter-widgets/base",
      "model_module_version": "1.0.0",
      "model_name": "LayoutModel",
      "state": {}
     },
     "4eac868ea3b64e3487332fd1089c2b97": {
      "model_module": "@jupyter-widgets/base",
      "model_module_version": "1.0.0",
      "model_name": "LayoutModel",
      "state": {}
     },
     "4fb2f59a872c4fbf87c58c41f5c921d9": {
      "model_module": "@jupyter-widgets/controls",
      "model_module_version": "1.1.0",
      "model_name": "TextModel",
      "state": {
       "description": "Folder Path:",
       "layout": "IPY_MODEL_b39b8d7ec1a742cf8e97f21e0615fd5e",
       "placeholder": "Paste folder path to save",
       "style": "IPY_MODEL_faaacf47e5ee4137a15b68990d732427"
      }
     },
     "5090119deb634190ba8f34cb409ba1b7": {
      "model_module": "@jupyter-widgets/controls",
      "model_module_version": "1.1.0",
      "model_name": "DescriptionStyleModel",
      "state": {
       "description_width": ""
      }
     },
     "50d31b048bb141b9a0c1267a145123a2": {
      "model_module": "@jupyter-widgets/controls",
      "model_module_version": "1.1.0",
      "model_name": "DescriptionStyleModel",
      "state": {
       "description_width": ""
      }
     },
     "5116b6f883334a63a5b9106352a78a34": {
      "model_module": "@jupyter-widgets/controls",
      "model_module_version": "1.1.0",
      "model_name": "TextModel",
      "state": {
       "description": "Folder Path:",
       "layout": "IPY_MODEL_336f91b3b74746198d53aabf9006d7c1",
       "placeholder": "Paste folder path to save",
       "style": "IPY_MODEL_699d2fe8c37444c78129c6a96c8c0ed0"
      }
     },
     "536056cbba7145c1868b97215f875567": {
      "model_module": "@jupyter-widgets/controls",
      "model_module_version": "1.1.0",
      "model_name": "AccordionModel",
      "state": {
       "_titles": {
        "0": "Link"
       },
       "children": [
        "IPY_MODEL_fa43f732a3dd4c90820566532d62c78e"
       ],
       "layout": "IPY_MODEL_87000c194ab345a4ad2bb827b6600ae2"
      }
     },
     "540752dd94dc4259bf04313573a96346": {
      "model_module": "@jupyter-widgets/controls",
      "model_module_version": "1.1.0",
      "model_name": "ButtonModel",
      "state": {
       "description": "Scrap Me",
       "layout": "IPY_MODEL_a8597930d18248b6b696a9306a3f8630",
       "style": "IPY_MODEL_b455f41106334d4985965abe96df8b0a"
      }
     },
     "5492327dc0db47afbea834fb21643441": {
      "model_module": "@jupyter-widgets/base",
      "model_module_version": "1.0.0",
      "model_name": "LayoutModel",
      "state": {}
     },
     "54d2af8903e742f9935939479517f2a9": {
      "model_module": "@jupyter-widgets/controls",
      "model_module_version": "1.1.0",
      "model_name": "VBoxModel",
      "state": {
       "children": [
        "IPY_MODEL_8c922858d0ff4070a473e29b25b45814",
        "IPY_MODEL_a3ccad3e4f964f2eb8a6a7d9065ae379",
        "IPY_MODEL_0d97f65c9da64f04930890e5aec65cb3",
        "IPY_MODEL_8e54ed32ced84208a65f3185475ce2b7",
        "IPY_MODEL_3603e9a8c09a4545bca6e5ebe7157c0d"
       ],
       "layout": "IPY_MODEL_d4085eaf2e6745739c9506f382a6b696"
      }
     },
     "57439bf964a14d5bb578d5de6d0a4853": {
      "model_module": "@jupyter-widgets/base",
      "model_module_version": "1.0.0",
      "model_name": "LayoutModel",
      "state": {}
     },
     "59024bd1bca34d369ee61be919940b81": {
      "model_module": "@jupyter-widgets/controls",
      "model_module_version": "1.1.0",
      "model_name": "AccordionModel",
      "state": {
       "_titles": {
        "0": "Sliders",
        "1": "Text"
       },
       "children": [
        "IPY_MODEL_d27200a9e5d74c1596eb88135d791b21",
        "IPY_MODEL_abbbae7f79ea46e89d6584728f6a2d3d"
       ],
       "layout": "IPY_MODEL_d89f6d318ac1411eb782e4a33be23353"
      }
     },
     "59aafc8e2014427796eca318a19830fc": {
      "model_module": "@jupyter-widgets/base",
      "model_module_version": "1.0.0",
      "model_name": "LayoutModel",
      "state": {}
     },
     "5a8b6fa1f4fe4ce7bbda2dc24b6469f0": {
      "model_module": "@jupyter-widgets/base",
      "model_module_version": "1.0.0",
      "model_name": "LayoutModel",
      "state": {}
     },
     "5b4b372f1e194af0a695d4b2c36764df": {
      "model_module": "@jupyter-widgets/base",
      "model_module_version": "1.0.0",
      "model_name": "LayoutModel",
      "state": {}
     },
     "5bb338080e704423aac233946c9f4458": {
      "model_module": "@jupyter-widgets/controls",
      "model_module_version": "1.1.0",
      "model_name": "TextModel",
      "state": {
       "description": "Link:",
       "layout": "IPY_MODEL_41bc86e7008d4bf8a2eb92127b30054b",
       "placeholder": "Paste your mudah.my link here",
       "style": "IPY_MODEL_0fb7585225ea4720be8391791bb78524"
      }
     },
     "5c45bd19bd134697b19da6f6a3f04905": {
      "model_module": "@jupyter-widgets/base",
      "model_module_version": "1.0.0",
      "model_name": "LayoutModel",
      "state": {}
     },
     "5d68d498a3b64fb8b5b42f654dfc0619": {
      "model_module": "@jupyter-widgets/base",
      "model_module_version": "1.0.0",
      "model_name": "LayoutModel",
      "state": {}
     },
     "5e0bc669dafa47d88e20984206920795": {
      "model_module": "@jupyter-widgets/base",
      "model_module_version": "1.0.0",
      "model_name": "LayoutModel",
      "state": {}
     },
     "5ea399fa7ba04b49917f63fa32c1d093": {
      "model_module": "@jupyter-widgets/controls",
      "model_module_version": "1.1.0",
      "model_name": "DescriptionStyleModel",
      "state": {
       "description_width": ""
      }
     },
     "5fc2434699c64f84ae2b2ae9a2a6b290": {
      "model_module": "@jupyter-widgets/controls",
      "model_module_version": "1.1.0",
      "model_name": "AccordionModel",
      "state": {
       "_titles": {
        "0": "Link"
       },
       "children": [
        "IPY_MODEL_db536f85a91647c4857a0d2c777fceda"
       ],
       "layout": "IPY_MODEL_86ab297bc61547819b57c0b69fd0f2c9"
      }
     },
     "600a1978219d4c41a73e101ae3945bfa": {
      "model_module": "@jupyter-widgets/base",
      "model_module_version": "1.0.0",
      "model_name": "LayoutModel",
      "state": {}
     },
     "62d184439c3247a8a0d4a047d707211c": {
      "model_module": "@jupyter-widgets/controls",
      "model_module_version": "1.1.0",
      "model_name": "SliderStyleModel",
      "state": {
       "description_width": ""
      }
     },
     "632a4edb8c5244158bd50d92c35e2d16": {
      "model_module": "@jupyter-widgets/base",
      "model_module_version": "1.0.0",
      "model_name": "LayoutModel",
      "state": {}
     },
     "63662d6eefe5492d80e5e6206549f5f6": {
      "model_module": "@jupyter-widgets/base",
      "model_module_version": "1.0.0",
      "model_name": "LayoutModel",
      "state": {}
     },
     "6491d32620a34057ba5a81f30adcc84c": {
      "model_module": "@jupyter-widgets/controls",
      "model_module_version": "1.1.0",
      "model_name": "TextModel",
      "state": {
       "description": "CSV file:",
       "layout": "IPY_MODEL_2f056b489378414dbd81f47246fe0da3",
       "placeholder": "Name your scrap csv file",
       "style": "IPY_MODEL_ecefe8cdda9647c1abaa8d76f9442aa9"
      }
     },
     "64d37e3519744dcd99592e23f00a8cc2": {
      "model_module": "@jupyter-widgets/controls",
      "model_module_version": "1.1.0",
      "model_name": "TextModel",
      "state": {
       "description": "P1",
       "layout": "IPY_MODEL_6ee6a0a866ec447d96741a8ad1a9a6b9",
       "style": "IPY_MODEL_8504ebaf9b92446bb1c0738b96f41375"
      }
     },
     "67438565ddbd4f5c91eac8d795d32b02": {
      "model_module": "@jupyter-widgets/base",
      "model_module_version": "1.0.0",
      "model_name": "LayoutModel",
      "state": {}
     },
     "68d3a5e202d04730bdaaeb2dc759bc80": {
      "model_module": "@jupyter-widgets/controls",
      "model_module_version": "1.1.0",
      "model_name": "DescriptionStyleModel",
      "state": {
       "description_width": ""
      }
     },
     "699d2fe8c37444c78129c6a96c8c0ed0": {
      "model_module": "@jupyter-widgets/controls",
      "model_module_version": "1.1.0",
      "model_name": "DescriptionStyleModel",
      "state": {
       "description_width": ""
      }
     },
     "6a4a86646d5b4e8bbcceae1c9951506c": {
      "model_module": "@jupyter-widgets/controls",
      "model_module_version": "1.1.0",
      "model_name": "TabModel",
      "state": {
       "_titles": {
        "0": "Data Source",
        "1": "Save Data"
       },
       "children": [
        "IPY_MODEL_137782d1f88c4992a6fc90a27a03067a",
        "IPY_MODEL_a546614f2d3f4225b85c42d64c06ef80"
       ],
       "layout": "IPY_MODEL_c5b9ec5cba6149be90e8ccecfda39f14"
      }
     },
     "6ae6df5d2d524d8dbf2a6b86033ca96a": {
      "model_module": "@jupyter-widgets/base",
      "model_module_version": "1.0.0",
      "model_name": "LayoutModel",
      "state": {}
     },
     "6c183fd9344948a6b80fdb15a6e8aa7c": {
      "model_module": "@jupyter-widgets/base",
      "model_module_version": "1.0.0",
      "model_name": "LayoutModel",
      "state": {}
     },
     "6d9ea70e027e43118b8a3c67c8be3634": {
      "model_module": "@jupyter-widgets/base",
      "model_module_version": "1.0.0",
      "model_name": "LayoutModel",
      "state": {}
     },
     "6ee6a0a866ec447d96741a8ad1a9a6b9": {
      "model_module": "@jupyter-widgets/base",
      "model_module_version": "1.0.0",
      "model_name": "LayoutModel",
      "state": {}
     },
     "700de688fd5346bc8bc77aefa4f88c21": {
      "model_module": "@jupyter-widgets/controls",
      "model_module_version": "1.1.0",
      "model_name": "AccordionModel",
      "state": {
       "_titles": {
        "0": "Save: Folder Path",
        "1": "Save: CSV File",
        "2": "Scrap"
       },
       "children": [
        "IPY_MODEL_f30fe915c74a46d3aae7afeef6f8b72f",
        "IPY_MODEL_6491d32620a34057ba5a81f30adcc84c",
        "IPY_MODEL_a994face0d6e4988abf45fea035f71f2"
       ],
       "layout": "IPY_MODEL_939291e420da438c8651d42f4d9e68c4",
       "selected_index": null
      }
     },
     "719a6487381d41ad954ec3f26d8bb180": {
      "model_module": "@jupyter-widgets/controls",
      "model_module_version": "1.1.0",
      "model_name": "DescriptionStyleModel",
      "state": {
       "description_width": ""
      }
     },
     "72aab30315ee4e3199d4507785bdb382": {
      "model_module": "@jupyter-widgets/controls",
      "model_module_version": "1.1.0",
      "model_name": "TextModel",
      "state": {
       "description": "P2",
       "layout": "IPY_MODEL_92f546865c5f4bafad2521aafb2a0616",
       "style": "IPY_MODEL_e07a2d4f25564c7aafd64478e2096b6e"
      }
     },
     "738fc8abd711463eaaa0a50275d02cc1": {
      "model_module": "@jupyter-widgets/controls",
      "model_module_version": "1.1.0",
      "model_name": "ButtonModel",
      "state": {
       "description": "Scrap Me",
       "layout": "IPY_MODEL_13d3b1bf102846109db485782ea8a679",
       "style": "IPY_MODEL_bd37792038a54ddbab3cdba65bd9f368"
      }
     },
     "742b753cfa3243f2a4d11be3fc69465d": {
      "model_module": "@jupyter-widgets/controls",
      "model_module_version": "1.1.0",
      "model_name": "DescriptionStyleModel",
      "state": {
       "description_width": ""
      }
     },
     "7505e11fc7a042f9a992819f48ad5838": {
      "model_module": "@jupyter-widgets/base",
      "model_module_version": "1.0.0",
      "model_name": "LayoutModel",
      "state": {}
     },
     "75fba6ae0bef42539aa3834d2a3d5409": {
      "model_module": "@jupyter-widgets/controls",
      "model_module_version": "1.1.0",
      "model_name": "TextModel",
      "state": {
       "description": "P0",
       "layout": "IPY_MODEL_a1c01324df624bb89dcd35a878b59090",
       "style": "IPY_MODEL_d2506abaa7ef4eb59b04e11e5d5ce6ac"
      }
     },
     "7895d253d1384fc3bbc749b789cdab8e": {
      "model_module": "@jupyter-widgets/base",
      "model_module_version": "1.0.0",
      "model_name": "LayoutModel",
      "state": {}
     },
     "792df06815b348bba7dd4e3e48095a3e": {
      "model_module": "@jupyter-widgets/controls",
      "model_module_version": "1.1.0",
      "model_name": "DescriptionStyleModel",
      "state": {
       "description_width": ""
      }
     },
     "796fc1e3bccb41a3bdd0060e6784ffe9": {
      "model_module": "@jupyter-widgets/controls",
      "model_module_version": "1.1.0",
      "model_name": "DescriptionStyleModel",
      "state": {
       "description_width": ""
      }
     },
     "7c46344f17574d1eb1b8e2e99abd7f10": {
      "model_module": "@jupyter-widgets/controls",
      "model_module_version": "1.1.0",
      "model_name": "TextModel",
      "state": {
       "description": "P3",
       "layout": "IPY_MODEL_2cd0b7fcd9544c35a773f305053b6cb0",
       "style": "IPY_MODEL_5090119deb634190ba8f34cb409ba1b7"
      }
     },
     "7dec35c61a8342b28011ac5874e0c0b0": {
      "model_module": "@jupyter-widgets/controls",
      "model_module_version": "1.1.0",
      "model_name": "DescriptionStyleModel",
      "state": {
       "description_width": ""
      }
     },
     "7df789cae8de4a1791b5dbae6bbba4ee": {
      "model_module": "@jupyter-widgets/controls",
      "model_module_version": "1.1.0",
      "model_name": "DescriptionStyleModel",
      "state": {
       "description_width": ""
      }
     },
     "81177bc51c8b4dc9b97cf800496ebdc6": {
      "model_module": "@jupyter-widgets/controls",
      "model_module_version": "1.1.0",
      "model_name": "IntSliderModel",
      "state": {
       "layout": "IPY_MODEL_9a50a6ab0ac14413a09ae31e4419558e",
       "style": "IPY_MODEL_35461f82ba1d4d77b7d5ae248deff226"
      }
     },
     "83a24a10761d4a8aad5fe73317f1030d": {
      "model_module": "@jupyter-widgets/base",
      "model_module_version": "1.0.0",
      "model_name": "LayoutModel",
      "state": {}
     },
     "8504ebaf9b92446bb1c0738b96f41375": {
      "model_module": "@jupyter-widgets/controls",
      "model_module_version": "1.1.0",
      "model_name": "DescriptionStyleModel",
      "state": {
       "description_width": ""
      }
     },
     "86ab297bc61547819b57c0b69fd0f2c9": {
      "model_module": "@jupyter-widgets/base",
      "model_module_version": "1.0.0",
      "model_name": "LayoutModel",
      "state": {}
     },
     "87000c194ab345a4ad2bb827b6600ae2": {
      "model_module": "@jupyter-widgets/base",
      "model_module_version": "1.0.0",
      "model_name": "LayoutModel",
      "state": {}
     },
     "8b056e42484b43198fea620d4d21f70b": {
      "model_module": "@jupyter-widgets/controls",
      "model_module_version": "1.1.0",
      "model_name": "DescriptionStyleModel",
      "state": {
       "description_width": ""
      }
     },
     "8c922858d0ff4070a473e29b25b45814": {
      "model_module": "@jupyter-widgets/controls",
      "model_module_version": "1.1.0",
      "model_name": "TextModel",
      "state": {
       "description": "P0",
       "layout": "IPY_MODEL_0200fc58fefd4c9db54555b741052f36",
       "style": "IPY_MODEL_d8b29bc06e9a4487be8167267cdc28be"
      }
     },
     "8d4df781472e44048bf0f5ccab75aedb": {
      "model_module": "@jupyter-widgets/controls",
      "model_module_version": "1.1.0",
      "model_name": "VBoxModel",
      "state": {
       "children": [
        "IPY_MODEL_9540c96a2c6947adac99bc51dd5d01ab",
        "IPY_MODEL_4b4f8568498d4a4fa00bf10ebeb154fd",
        "IPY_MODEL_0e3da16eb14340448ff5c4a5cdc969dc"
       ],
       "layout": "IPY_MODEL_30291bea8af94bdabf368fc67b2dc629"
      }
     },
     "8da8a47c95fe4fd7bce9e6751438f372": {
      "model_module": "@jupyter-widgets/controls",
      "model_module_version": "1.1.0",
      "model_name": "DescriptionStyleModel",
      "state": {
       "description_width": ""
      }
     },
     "8e54ed32ced84208a65f3185475ce2b7": {
      "model_module": "@jupyter-widgets/controls",
      "model_module_version": "1.1.0",
      "model_name": "TextModel",
      "state": {
       "description": "P3",
       "layout": "IPY_MODEL_9db0b62b4a844caba1e6c7f17f17e128",
       "style": "IPY_MODEL_3cf2798892164a8bb80767bcd9f46ea9"
      }
     },
     "8e5726a6eff248f6962e76dcfe4b9bce": {
      "model_module": "@jupyter-widgets/base",
      "model_module_version": "1.0.0",
      "model_name": "LayoutModel",
      "state": {}
     },
     "909d6ee5755b494b84f364792342eb05": {
      "model_module": "@jupyter-widgets/controls",
      "model_module_version": "1.1.0",
      "model_name": "TextModel",
      "state": {
       "description": "Link:",
       "layout": "IPY_MODEL_9613a9d2adc14f39b191ff516b05a7fe",
       "placeholder": "Paste your mudah.my link here",
       "style": "IPY_MODEL_50d31b048bb141b9a0c1267a145123a2"
      }
     },
     "90add8e306d24c91b5a5eefb02da3c26": {
      "model_module": "@jupyter-widgets/controls",
      "model_module_version": "1.1.0",
      "model_name": "ButtonStyleModel",
      "state": {}
     },
     "9121296c2e934fc599481471d62f17ac": {
      "model_module": "@jupyter-widgets/controls",
      "model_module_version": "1.1.0",
      "model_name": "IntSliderModel",
      "state": {
       "layout": "IPY_MODEL_a8c9f790662443a6a8a2d4f4f775a1b7",
       "style": "IPY_MODEL_e23505397de147a1ba1ac85cd9d827a1"
      }
     },
     "92f546865c5f4bafad2521aafb2a0616": {
      "model_module": "@jupyter-widgets/base",
      "model_module_version": "1.0.0",
      "model_name": "LayoutModel",
      "state": {}
     },
     "9358b98a70724943a1acb494c199eac8": {
      "model_module": "@jupyter-widgets/output",
      "model_module_version": "1.0.0",
      "model_name": "OutputModel",
      "state": {
       "layout": "IPY_MODEL_4c08fff60a8e4897a109994008ad59ab"
      }
     },
     "939291e420da438c8651d42f4d9e68c4": {
      "model_module": "@jupyter-widgets/base",
      "model_module_version": "1.0.0",
      "model_name": "LayoutModel",
      "state": {}
     },
     "9540c96a2c6947adac99bc51dd5d01ab": {
      "model_module": "@jupyter-widgets/controls",
      "model_module_version": "1.1.0",
      "model_name": "IntSliderModel",
      "state": {
       "layout": "IPY_MODEL_38a3915c4cbb4eedb03c9318876ce64d",
       "style": "IPY_MODEL_026e9560866844b097f361a26df70f09"
      }
     },
     "9613a9d2adc14f39b191ff516b05a7fe": {
      "model_module": "@jupyter-widgets/base",
      "model_module_version": "1.0.0",
      "model_name": "LayoutModel",
      "state": {}
     },
     "981a7972b82340ba894615dd807c2e41": {
      "model_module": "@jupyter-widgets/controls",
      "model_module_version": "1.1.0",
      "model_name": "VBoxModel",
      "state": {
       "children": [
        "IPY_MODEL_540752dd94dc4259bf04313573a96346",
        "IPY_MODEL_e0b814dba3704476af8ed87e7105c49c"
       ],
       "layout": "IPY_MODEL_d9ba6524f819478992d2564f67439caf"
      }
     },
     "9a50a6ab0ac14413a09ae31e4419558e": {
      "model_module": "@jupyter-widgets/base",
      "model_module_version": "1.0.0",
      "model_name": "LayoutModel",
      "state": {}
     },
     "9a7487023f6b479dbfd16d40bde09860": {
      "model_module": "@jupyter-widgets/controls",
      "model_module_version": "1.1.0",
      "model_name": "AccordionModel",
      "state": {
       "_titles": {
        "0": "Link"
       },
       "children": [
        "IPY_MODEL_909d6ee5755b494b84f364792342eb05"
       ],
       "layout": "IPY_MODEL_4a9aeadbb5a74527a50879f26a725613"
      }
     },
     "9acd205f88ea4fa3b27ff3f7756bcf56": {
      "model_module": "@jupyter-widgets/controls",
      "model_module_version": "1.1.0",
      "model_name": "TabModel",
      "state": {
       "layout": "IPY_MODEL_bdb9ea96e7e74796b2378b31f09fc01a"
      }
     },
     "9db0b62b4a844caba1e6c7f17f17e128": {
      "model_module": "@jupyter-widgets/base",
      "model_module_version": "1.0.0",
      "model_name": "LayoutModel",
      "state": {}
     },
     "9f812511ca144b109ced230479509754": {
      "model_module": "@jupyter-widgets/controls",
      "model_module_version": "1.1.0",
      "model_name": "TextModel",
      "state": {
       "description": "P2",
       "layout": "IPY_MODEL_5c45bd19bd134697b19da6f6a3f04905",
       "style": "IPY_MODEL_742b753cfa3243f2a4d11be3fc69465d"
      }
     },
     "a1b41cc2a0e94cd9b0f51f186cf3d3c4": {
      "model_module": "@jupyter-widgets/controls",
      "model_module_version": "1.1.0",
      "model_name": "TextModel",
      "state": {
       "layout": "IPY_MODEL_5492327dc0db47afbea834fb21643441",
       "style": "IPY_MODEL_cbb8f96935544e07a29e0b491cac9bd4"
      }
     },
     "a1c01324df624bb89dcd35a878b59090": {
      "model_module": "@jupyter-widgets/base",
      "model_module_version": "1.0.0",
      "model_name": "LayoutModel",
      "state": {}
     },
     "a22160aea48a491ca8f05b91a81e604a": {
      "model_module": "@jupyter-widgets/controls",
      "model_module_version": "1.1.0",
      "model_name": "TabModel",
      "state": {
       "_titles": {
        "0": "0",
        "1": "1",
        "2": "2",
        "3": "3",
        "4": "4"
       },
       "children": [
        "IPY_MODEL_75fba6ae0bef42539aa3834d2a3d5409",
        "IPY_MODEL_12ecb5f159af48ada71fe31dec096c54",
        "IPY_MODEL_72aab30315ee4e3199d4507785bdb382",
        "IPY_MODEL_38c4e90646f04017820fcd7c2eb68dec",
        "IPY_MODEL_fabc0934a97545749813e180bfe80816"
       ],
       "layout": "IPY_MODEL_1cb9ed8cdf29477282d27e0a8c5566bb"
      }
     },
     "a3ccad3e4f964f2eb8a6a7d9065ae379": {
      "model_module": "@jupyter-widgets/controls",
      "model_module_version": "1.1.0",
      "model_name": "TextModel",
      "state": {
       "description": "P1",
       "layout": "IPY_MODEL_b620e689da1b4999a065bc330fe0d9a7",
       "style": "IPY_MODEL_796fc1e3bccb41a3bdd0060e6784ffe9"
      }
     },
     "a546614f2d3f4225b85c42d64c06ef80": {
      "model_module": "@jupyter-widgets/controls",
      "model_module_version": "1.1.0",
      "model_name": "AccordionModel",
      "state": {
       "_titles": {
        "0": "Save: Folder Path",
        "1": "Save: CSV File",
        "2": "Scrap"
       },
       "children": [
        "IPY_MODEL_a724c17b99c3439da3946a46e972b2d5",
        "IPY_MODEL_09cc4587dc1645aca5369f4d938b52ea",
        "IPY_MODEL_428cf8f9656344b3b332a1d8bd171e34"
       ],
       "layout": "IPY_MODEL_63662d6eefe5492d80e5e6206549f5f6"
      }
     },
     "a64eaf0611774ee8b52a32258ab5c388": {
      "model_module": "@jupyter-widgets/controls",
      "model_module_version": "1.1.0",
      "model_name": "AccordionModel",
      "state": {
       "_titles": {
        "0": "Link"
       },
       "children": [
        "IPY_MODEL_db536f85a91647c4857a0d2c777fceda"
       ],
       "layout": "IPY_MODEL_ca1f1ddab19943938988b2fffde8bb7f"
      }
     },
     "a724c17b99c3439da3946a46e972b2d5": {
      "model_module": "@jupyter-widgets/controls",
      "model_module_version": "1.1.0",
      "model_name": "TextModel",
      "state": {
       "description": "Folder Path:",
       "layout": "IPY_MODEL_5b4b372f1e194af0a695d4b2c36764df",
       "placeholder": "Paste folder path to save",
       "style": "IPY_MODEL_392b8c0ec8d9448dba5172d2e2e4d06c"
      }
     },
     "a8597930d18248b6b696a9306a3f8630": {
      "model_module": "@jupyter-widgets/base",
      "model_module_version": "1.0.0",
      "model_name": "LayoutModel",
      "state": {}
     },
     "a881cec0f26e4666a99af802121849fc": {
      "model_module": "@jupyter-widgets/controls",
      "model_module_version": "1.1.0",
      "model_name": "TabModel",
      "state": {
       "_titles": {
        "0": "Data Source",
        "1": "Save Data"
       },
       "children": [
        "IPY_MODEL_16458d954a00494687adcb0f9f006b65",
        "IPY_MODEL_db2bb9aede7e49378399886a74e8307e"
       ],
       "layout": "IPY_MODEL_cd3f6611f8ad46be934a628aa7aa2f13"
      }
     },
     "a8c9f790662443a6a8a2d4f4f775a1b7": {
      "model_module": "@jupyter-widgets/base",
      "model_module_version": "1.0.0",
      "model_name": "LayoutModel",
      "state": {}
     },
     "a994face0d6e4988abf45fea035f71f2": {
      "model_module": "@jupyter-widgets/controls",
      "model_module_version": "1.1.0",
      "model_name": "VBoxModel",
      "state": {
       "children": [
        "IPY_MODEL_540752dd94dc4259bf04313573a96346",
        "IPY_MODEL_e0b814dba3704476af8ed87e7105c49c"
       ],
       "layout": "IPY_MODEL_83a24a10761d4a8aad5fe73317f1030d"
      }
     },
     "abbbae7f79ea46e89d6584728f6a2d3d": {
      "model_module": "@jupyter-widgets/controls",
      "model_module_version": "1.1.0",
      "model_name": "TextModel",
      "state": {
       "layout": "IPY_MODEL_fd376a7a882d4b36b16906ab3e554791",
       "style": "IPY_MODEL_7dec35c61a8342b28011ac5874e0c0b0"
      }
     },
     "ad0202f978164750bb6b1cfc3a9fba36": {
      "model_module": "@jupyter-widgets/controls",
      "model_module_version": "1.1.0",
      "model_name": "ButtonStyleModel",
      "state": {}
     },
     "ae057b603fd84212bd7dd69a5ffba04b": {
      "model_module": "@jupyter-widgets/base",
      "model_module_version": "1.0.0",
      "model_name": "LayoutModel",
      "state": {}
     },
     "b2142ea7ed7c48f3ae8f2bf0ffe6e098": {
      "model_module": "@jupyter-widgets/controls",
      "model_module_version": "1.1.0",
      "model_name": "AccordionModel",
      "state": {
       "_titles": {
        "0": "Link"
       },
       "children": [
        "IPY_MODEL_909d6ee5755b494b84f364792342eb05"
       ],
       "layout": "IPY_MODEL_328a5cb846974f3ea2fbc5062d1b2aec"
      }
     },
     "b39b8d7ec1a742cf8e97f21e0615fd5e": {
      "model_module": "@jupyter-widgets/base",
      "model_module_version": "1.0.0",
      "model_name": "LayoutModel",
      "state": {}
     },
     "b455f41106334d4985965abe96df8b0a": {
      "model_module": "@jupyter-widgets/controls",
      "model_module_version": "1.1.0",
      "model_name": "ButtonStyleModel",
      "state": {}
     },
     "b620e689da1b4999a065bc330fe0d9a7": {
      "model_module": "@jupyter-widgets/base",
      "model_module_version": "1.0.0",
      "model_name": "LayoutModel",
      "state": {}
     },
     "baf7194f2efb4c8b88dfacec4fe64a2a": {
      "model_module": "@jupyter-widgets/controls",
      "model_module_version": "1.1.0",
      "model_name": "AccordionModel",
      "state": {
       "_titles": {
        "0": "Save: Folder Path",
        "1": "Save: CSV File",
        "2": "Scrap"
       },
       "children": [
        "IPY_MODEL_5116b6f883334a63a5b9106352a78a34",
        "IPY_MODEL_bfa6ebf31e704beeadc0446e53365f8d",
        "IPY_MODEL_cdc85398ccaa43a18295d066bafe0d5f"
       ],
       "layout": "IPY_MODEL_bf0c9ecbd8214a47942fecf1e2cf2065",
       "selected_index": null
      }
     },
     "baf759384f7348a799c8a227b1639087": {
      "model_module": "@jupyter-widgets/controls",
      "model_module_version": "1.1.0",
      "model_name": "TabModel",
      "state": {
       "_titles": {
        "0": "0",
        "1": "1",
        "2": "2",
        "3": "3",
        "4": "4"
       },
       "children": [
        "IPY_MODEL_1de801c14ef94e41ac8e3a59ca59b8b5",
        "IPY_MODEL_64d37e3519744dcd99592e23f00a8cc2",
        "IPY_MODEL_32639a6a55254700a53cd94333db07eb",
        "IPY_MODEL_f75c57b281e84b58bd4a6a008135b361",
        "IPY_MODEL_0c7ff1b289894206815c894788a26f5d"
       ],
       "layout": "IPY_MODEL_45958e9e84d046e8b3c1fec2ee9253ec"
      }
     },
     "bc7225c7207442a98da9afdba5c9bbce": {
      "model_module": "@jupyter-widgets/base",
      "model_module_version": "1.0.0",
      "model_name": "LayoutModel",
      "state": {}
     },
     "bd37792038a54ddbab3cdba65bd9f368": {
      "model_module": "@jupyter-widgets/controls",
      "model_module_version": "1.1.0",
      "model_name": "ButtonStyleModel",
      "state": {}
     },
     "bdb9ea96e7e74796b2378b31f09fc01a": {
      "model_module": "@jupyter-widgets/base",
      "model_module_version": "1.0.0",
      "model_name": "LayoutModel",
      "state": {}
     },
     "beee4d9a7b674a79b9881199d06f2ab3": {
      "model_module": "@jupyter-widgets/base",
      "model_module_version": "1.0.0",
      "model_name": "LayoutModel",
      "state": {}
     },
     "bf0c9ecbd8214a47942fecf1e2cf2065": {
      "model_module": "@jupyter-widgets/base",
      "model_module_version": "1.0.0",
      "model_name": "LayoutModel",
      "state": {}
     },
     "bfa6ebf31e704beeadc0446e53365f8d": {
      "model_module": "@jupyter-widgets/controls",
      "model_module_version": "1.1.0",
      "model_name": "TextModel",
      "state": {
       "description": "CSV file:",
       "layout": "IPY_MODEL_f61e62ed30854b75a2d6b992df3c3f86",
       "placeholder": "Name your scrap csv file",
       "style": "IPY_MODEL_68d3a5e202d04730bdaaeb2dc759bc80"
      }
     },
     "c37ff2c9c0d14375ad5ebf19f649c344": {
      "model_module": "@jupyter-widgets/base",
      "model_module_version": "1.0.0",
      "model_name": "LayoutModel",
      "state": {}
     },
     "c5b9ec5cba6149be90e8ccecfda39f14": {
      "model_module": "@jupyter-widgets/base",
      "model_module_version": "1.0.0",
      "model_name": "LayoutModel",
      "state": {}
     },
     "ca1f1ddab19943938988b2fffde8bb7f": {
      "model_module": "@jupyter-widgets/base",
      "model_module_version": "1.0.0",
      "model_name": "LayoutModel",
      "state": {}
     },
     "cafc4a666502430984dde1f1e792650f": {
      "model_module": "@jupyter-widgets/base",
      "model_module_version": "1.0.0",
      "model_name": "LayoutModel",
      "state": {}
     },
     "cbb1c78dc2e74b1b8681cff2e8b9f284": {
      "model_module": "@jupyter-widgets/base",
      "model_module_version": "1.0.0",
      "model_name": "LayoutModel",
      "state": {}
     },
     "cbb8f96935544e07a29e0b491cac9bd4": {
      "model_module": "@jupyter-widgets/controls",
      "model_module_version": "1.1.0",
      "model_name": "DescriptionStyleModel",
      "state": {
       "description_width": ""
      }
     },
     "cd3f6611f8ad46be934a628aa7aa2f13": {
      "model_module": "@jupyter-widgets/base",
      "model_module_version": "1.0.0",
      "model_name": "LayoutModel",
      "state": {}
     },
     "cdc85398ccaa43a18295d066bafe0d5f": {
      "model_module": "@jupyter-widgets/controls",
      "model_module_version": "1.1.0",
      "model_name": "VBoxModel",
      "state": {
       "children": [
        "IPY_MODEL_df8028725b8a4a47801aaa4688e0ffe2",
        "IPY_MODEL_efebde95e7504f6eb22c687e5a3380b3"
       ],
       "layout": "IPY_MODEL_dd012a89709c452abf411adea39bce43"
      }
     },
     "ce7a09a1dff648b4b226479e65482b66": {
      "model_module": "@jupyter-widgets/controls",
      "model_module_version": "1.1.0",
      "model_name": "AccordionModel",
      "state": {
       "_titles": {
        "0": "Save: Folder Path",
        "1": "Save: CSV File",
        "2": "Scrap"
       },
       "children": [
        "IPY_MODEL_f30fe915c74a46d3aae7afeef6f8b72f",
        "IPY_MODEL_6491d32620a34057ba5a81f30adcc84c",
        "IPY_MODEL_981a7972b82340ba894615dd807c2e41"
       ],
       "layout": "IPY_MODEL_c37ff2c9c0d14375ad5ebf19f649c344"
      }
     },
     "d2506abaa7ef4eb59b04e11e5d5ce6ac": {
      "model_module": "@jupyter-widgets/controls",
      "model_module_version": "1.1.0",
      "model_name": "DescriptionStyleModel",
      "state": {
       "description_width": ""
      }
     },
     "d27200a9e5d74c1596eb88135d791b21": {
      "model_module": "@jupyter-widgets/controls",
      "model_module_version": "1.1.0",
      "model_name": "VBoxModel",
      "state": {
       "children": [
        "IPY_MODEL_303872e654ad48d486a0119af3214ada",
        "IPY_MODEL_81177bc51c8b4dc9b97cf800496ebdc6",
        "IPY_MODEL_9121296c2e934fc599481471d62f17ac"
       ],
       "layout": "IPY_MODEL_cafc4a666502430984dde1f1e792650f"
      }
     },
     "d4085eaf2e6745739c9506f382a6b696": {
      "model_module": "@jupyter-widgets/base",
      "model_module_version": "1.0.0",
      "model_name": "LayoutModel",
      "state": {}
     },
     "d5297c886e794d2a8b606207332097e8": {
      "model_module": "@jupyter-widgets/base",
      "model_module_version": "1.0.0",
      "model_name": "LayoutModel",
      "state": {}
     },
     "d75d6a3f43fd44e58687a084bc9258fd": {
      "model_module": "@jupyter-widgets/base",
      "model_module_version": "1.0.0",
      "model_name": "LayoutModel",
      "state": {}
     },
     "d88a36349ba64a80971c720ff12a4a40": {
      "model_module": "@jupyter-widgets/controls",
      "model_module_version": "1.1.0",
      "model_name": "DescriptionStyleModel",
      "state": {
       "description_width": ""
      }
     },
     "d89f6d318ac1411eb782e4a33be23353": {
      "model_module": "@jupyter-widgets/base",
      "model_module_version": "1.0.0",
      "model_name": "LayoutModel",
      "state": {}
     },
     "d8b29bc06e9a4487be8167267cdc28be": {
      "model_module": "@jupyter-widgets/controls",
      "model_module_version": "1.1.0",
      "model_name": "DescriptionStyleModel",
      "state": {
       "description_width": ""
      }
     },
     "d9ba6524f819478992d2564f67439caf": {
      "model_module": "@jupyter-widgets/base",
      "model_module_version": "1.0.0",
      "model_name": "LayoutModel",
      "state": {}
     },
     "db2bb9aede7e49378399886a74e8307e": {
      "model_module": "@jupyter-widgets/controls",
      "model_module_version": "1.1.0",
      "model_name": "AccordionModel",
      "state": {
       "_titles": {
        "0": "Save: Folder Path",
        "1": "Save: CSV File",
        "2": "Scrap"
       },
       "children": [
        "IPY_MODEL_f30fe915c74a46d3aae7afeef6f8b72f",
        "IPY_MODEL_6491d32620a34057ba5a81f30adcc84c",
        "IPY_MODEL_485ea46617474a05a7cfdd82fc03bcfa"
       ],
       "layout": "IPY_MODEL_d5297c886e794d2a8b606207332097e8"
      }
     },
     "db536f85a91647c4857a0d2c777fceda": {
      "model_module": "@jupyter-widgets/controls",
      "model_module_version": "1.1.0",
      "model_name": "TextModel",
      "state": {
       "description": "Link:",
       "layout": "IPY_MODEL_bc7225c7207442a98da9afdba5c9bbce",
       "placeholder": "Paste your mudah.my link here",
       "style": "IPY_MODEL_00e522c872e54ea182be34474b8c43a3"
      }
     },
     "db78ff2946a4434ab9609409c903bcd9": {
      "model_module": "@jupyter-widgets/controls",
      "model_module_version": "1.1.0",
      "model_name": "TabModel",
      "state": {
       "layout": "IPY_MODEL_6d9ea70e027e43118b8a3c67c8be3634"
      }
     },
     "dd012a89709c452abf411adea39bce43": {
      "model_module": "@jupyter-widgets/base",
      "model_module_version": "1.0.0",
      "model_name": "LayoutModel",
      "state": {}
     },
     "dd1ae52d8ac44ee1b7100740784132e0": {
      "model_module": "@jupyter-widgets/base",
      "model_module_version": "1.0.0",
      "model_name": "LayoutModel",
      "state": {}
     },
     "ddb645534dcb4d1983c2879467dea204": {
      "model_module": "@jupyter-widgets/base",
      "model_module_version": "1.0.0",
      "model_name": "LayoutModel",
      "state": {}
     },
     "df8028725b8a4a47801aaa4688e0ffe2": {
      "model_module": "@jupyter-widgets/controls",
      "model_module_version": "1.1.0",
      "model_name": "ButtonModel",
      "state": {
       "description": "Scrap Me",
       "layout": "IPY_MODEL_113222d97f1e4eea85397a4c355f3de8",
       "style": "IPY_MODEL_ad0202f978164750bb6b1cfc3a9fba36"
      }
     },
     "e07107c036054b7b90e4da0cb159d785": {
      "model_module": "@jupyter-widgets/controls",
      "model_module_version": "1.1.0",
      "model_name": "SliderStyleModel",
      "state": {
       "description_width": ""
      }
     },
     "e07a2d4f25564c7aafd64478e2096b6e": {
      "model_module": "@jupyter-widgets/controls",
      "model_module_version": "1.1.0",
      "model_name": "DescriptionStyleModel",
      "state": {
       "description_width": ""
      }
     },
     "e0b814dba3704476af8ed87e7105c49c": {
      "model_module": "@jupyter-widgets/output",
      "model_module_version": "1.0.0",
      "model_name": "OutputModel",
      "state": {
       "layout": "IPY_MODEL_d75d6a3f43fd44e58687a084bc9258fd"
      }
     },
     "e23505397de147a1ba1ac85cd9d827a1": {
      "model_module": "@jupyter-widgets/controls",
      "model_module_version": "1.1.0",
      "model_name": "SliderStyleModel",
      "state": {
       "description_width": ""
      }
     },
     "e66f773b222546b4b7c2d382b25c708b": {
      "model_module": "@jupyter-widgets/base",
      "model_module_version": "1.0.0",
      "model_name": "LayoutModel",
      "state": {}
     },
     "e7036d85a4a244879d88033570153047": {
      "model_module": "@jupyter-widgets/controls",
      "model_module_version": "1.1.0",
      "model_name": "TextModel",
      "state": {
       "description": "P1",
       "layout": "IPY_MODEL_4b403456d0054e28a702135ace170a15",
       "style": "IPY_MODEL_12093354cf19401f9016d46b28cef0e8"
      }
     },
     "eb572c0aef52406786fd14c67c602e19": {
      "model_module": "@jupyter-widgets/controls",
      "model_module_version": "1.1.0",
      "model_name": "AccordionModel",
      "state": {
       "_titles": {
        "0": "Sliders",
        "1": "Text"
       },
       "children": [
        "IPY_MODEL_8d4df781472e44048bf0f5ccab75aedb",
        "IPY_MODEL_a1b41cc2a0e94cd9b0f51f186cf3d3c4"
       ],
       "layout": "IPY_MODEL_0c196ca8bb684d90bf64def17f044630"
      }
     },
     "ecefe8cdda9647c1abaa8d76f9442aa9": {
      "model_module": "@jupyter-widgets/controls",
      "model_module_version": "1.1.0",
      "model_name": "DescriptionStyleModel",
      "state": {
       "description_width": ""
      }
     },
     "ee69258dd5514ae893aa1f9b1b6b945a": {
      "model_module": "@jupyter-widgets/controls",
      "model_module_version": "1.1.0",
      "model_name": "DescriptionStyleModel",
      "state": {
       "description_width": ""
      }
     },
     "efebde95e7504f6eb22c687e5a3380b3": {
      "model_module": "@jupyter-widgets/output",
      "model_module_version": "1.0.0",
      "model_name": "OutputModel",
      "state": {
       "layout": "IPY_MODEL_8e5726a6eff248f6962e76dcfe4b9bce"
      }
     },
     "f30fe915c74a46d3aae7afeef6f8b72f": {
      "model_module": "@jupyter-widgets/controls",
      "model_module_version": "1.1.0",
      "model_name": "TextModel",
      "state": {
       "description": "Folder Path:",
       "layout": "IPY_MODEL_6ae6df5d2d524d8dbf2a6b86033ca96a",
       "placeholder": "Paste folder path to save",
       "style": "IPY_MODEL_7df789cae8de4a1791b5dbae6bbba4ee"
      }
     },
     "f61e62ed30854b75a2d6b992df3c3f86": {
      "model_module": "@jupyter-widgets/base",
      "model_module_version": "1.0.0",
      "model_name": "LayoutModel",
      "state": {}
     },
     "f6b935e9260846aea8f812d1650aca59": {
      "model_module": "@jupyter-widgets/controls",
      "model_module_version": "1.1.0",
      "model_name": "TextModel",
      "state": {
       "description": "P4",
       "layout": "IPY_MODEL_428ace7ee0734ac8820e2805eceec9c8",
       "style": "IPY_MODEL_792df06815b348bba7dd4e3e48095a3e"
      }
     },
     "f75c57b281e84b58bd4a6a008135b361": {
      "model_module": "@jupyter-widgets/controls",
      "model_module_version": "1.1.0",
      "model_name": "TextModel",
      "state": {
       "description": "P3",
       "layout": "IPY_MODEL_179277d12b3b47b88565b0e09892181b",
       "style": "IPY_MODEL_719a6487381d41ad954ec3f26d8bb180"
      }
     },
     "f8ba3dffe0044919adaa217fd2c298e2": {
      "model_module": "@jupyter-widgets/controls",
      "model_module_version": "1.1.0",
      "model_name": "AccordionModel",
      "state": {
       "_titles": {
        "0": "Link"
       },
       "children": [
        "IPY_MODEL_5bb338080e704423aac233946c9f4458"
       ],
       "layout": "IPY_MODEL_2331aff9a55948d3b135b428be97df50"
      }
     },
     "fa017b70bcd249fb83b0a0035baa31a9": {
      "model_module": "@jupyter-widgets/base",
      "model_module_version": "1.0.0",
      "model_name": "LayoutModel",
      "state": {}
     },
     "fa43f732a3dd4c90820566532d62c78e": {
      "model_module": "@jupyter-widgets/controls",
      "model_module_version": "1.1.0",
      "model_name": "TextModel",
      "state": {
       "description": "Link:",
       "layout": "IPY_MODEL_4d094b6b43ed441bbace415e60754407",
       "placeholder": "Paste your mudah.my link here",
       "style": "IPY_MODEL_d88a36349ba64a80971c720ff12a4a40"
      }
     },
     "faaacf47e5ee4137a15b68990d732427": {
      "model_module": "@jupyter-widgets/controls",
      "model_module_version": "1.1.0",
      "model_name": "DescriptionStyleModel",
      "state": {
       "description_width": ""
      }
     },
     "fabc0934a97545749813e180bfe80816": {
      "model_module": "@jupyter-widgets/controls",
      "model_module_version": "1.1.0",
      "model_name": "TextModel",
      "state": {
       "description": "P4",
       "layout": "IPY_MODEL_2e954fb63ea24b4e97190dbf8b477add",
       "style": "IPY_MODEL_2d0400f5630d49ffb350be91d7bb4f9f"
      }
     },
     "faf05ef91fbb413d8f94aac51d657b9c": {
      "model_module": "@jupyter-widgets/controls",
      "model_module_version": "1.1.0",
      "model_name": "ButtonModel",
      "state": {
       "description": "Scrap Me",
       "layout": "IPY_MODEL_ddb645534dcb4d1983c2879467dea204",
       "style": "IPY_MODEL_90add8e306d24c91b5a5eefb02da3c26"
      }
     },
     "fb8334a14bf145c89f4f262e8de7e5fa": {
      "model_module": "@jupyter-widgets/controls",
      "model_module_version": "1.1.0",
      "model_name": "TabModel",
      "state": {
       "_titles": {
        "0": "Data Source",
        "1": "Save Data"
       },
       "children": [
        "IPY_MODEL_5fc2434699c64f84ae2b2ae9a2a6b290",
        "IPY_MODEL_baf7194f2efb4c8b88dfacec4fe64a2a"
       ],
       "layout": "IPY_MODEL_5e0bc669dafa47d88e20984206920795"
      }
     },
     "fd376a7a882d4b36b16906ab3e554791": {
      "model_module": "@jupyter-widgets/base",
      "model_module_version": "1.0.0",
      "model_name": "LayoutModel",
      "state": {}
     },
     "fe218002d0b64d028c8d7851998b99c7": {
      "model_module": "@jupyter-widgets/controls",
      "model_module_version": "1.1.0",
      "model_name": "TabModel",
      "state": {
       "_titles": {
        "0": "Data Source",
        "1": "Save Data"
       },
       "children": [
        "IPY_MODEL_a64eaf0611774ee8b52a32258ab5c388",
        "IPY_MODEL_baf7194f2efb4c8b88dfacec4fe64a2a"
       ],
       "layout": "IPY_MODEL_43c15f7822c24bb587758a2d28bf668b",
       "selected_index": 1
      }
     }
    },
    "version_major": 2,
    "version_minor": 0
   }
  }
 },
 "nbformat": 4,
 "nbformat_minor": 2
}
