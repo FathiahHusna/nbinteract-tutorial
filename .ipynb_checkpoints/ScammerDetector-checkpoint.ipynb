{
 "cells": [
  {
   "cell_type": "markdown",
   "metadata": {},
   "source": [
    "# Scammer Detector"
   ]
  },
  {
   "cell_type": "markdown",
   "metadata": {},
   "source": [
    "*Beware of __SCAMMER__, buy from the __TRUSTED__ one*"
   ]
  },
  {
   "cell_type": "code",
   "execution_count": 1,
   "metadata": {},
   "outputs": [],
   "source": [
    "#nbi:hide_in\n",
    "from IPython.display import display, Markdown, clear_output\n",
    "from ipywidgets import interact\n",
    "import ipywidgets as widgets"
   ]
  },
  {
   "cell_type": "code",
   "execution_count": 158,
   "metadata": {},
   "outputs": [],
   "source": [
    "#nbi:hide_in\n",
    "meurl=widgets.Text(value= '', placeholder='Paste your mudah.my link here', description='Link:', disabled=False)\n",
    "#meurl"
   ]
  },
  {
   "cell_type": "code",
   "execution_count": 159,
   "metadata": {},
   "outputs": [],
   "source": [
    "#nbi:hide_in\n",
    "fpath = widgets.Text(\n",
    "    value='',\n",
    "    placeholder='Save Scraped Dataset',\n",
    "    description='Folder Path:',\n",
    "    disabled=False\n",
    ")\n",
    "#fpath"
   ]
  },
  {
   "cell_type": "code",
   "execution_count": 160,
   "metadata": {},
   "outputs": [],
   "source": [
    "#nbi:hide_in\n",
    "fname = widgets.Text(\n",
    "    value='',\n",
    "    placeholder='Name your scrap csv file',\n",
    "    description='CSV file:',\n",
    "    disabled=False\n",
    ")\n",
    "#fname"
   ]
  },
  {
   "cell_type": "code",
   "execution_count": 161,
   "metadata": {},
   "outputs": [],
   "source": [
    "#nbi:hide_in\n",
    "lpath = widgets.Text(\n",
    "    value='',\n",
    "    placeholder='Upload cleaned dataset',\n",
    "    description='Folder Path:',\n",
    "    disabled=False\n",
    ")\n",
    "#lpath"
   ]
  },
  {
   "cell_type": "code",
   "execution_count": 162,
   "metadata": {},
   "outputs": [],
   "source": [
    "#nbi:hide_in\n",
    "lname = widgets.Text(\n",
    "    value='',\n",
    "    placeholder='Name of cleaned csv file',\n",
    "    description='CSV file:',\n",
    "    disabled=False\n",
    ")\n",
    "#lname"
   ]
  },
  {
   "cell_type": "code",
   "execution_count": 163,
   "metadata": {},
   "outputs": [],
   "source": [
    "#nbi:hide_in\n",
    "str_link= widgets.HTML(\n",
    "    value=\"<i><b>https://www.mudah.my/malaysia/cars-for-sale?o=1&q=&th=1</b><i>\",\n",
    "    placeholder='',\n",
    "    description='Sample Link:',\n",
    ")\n",
    "#str_link"
   ]
  },
  {
   "cell_type": "code",
   "execution_count": 164,
   "metadata": {},
   "outputs": [],
   "source": [
    "#nbi:hide_in\n",
    "str_folder= widgets.HTML(\n",
    "    value=\"<i><b>C:\\\\Users\\\\LENOVO\\\\Documents</b><i>\",\n",
    "    placeholder='',\n",
    "    description='Sample Path:',\n",
    ")\n",
    "#str_folder"
   ]
  },
  {
   "cell_type": "code",
   "execution_count": 165,
   "metadata": {},
   "outputs": [],
   "source": [
    "#nbi:hide_in\n",
    "str_csv= widgets.HTML(\n",
    "    value=\"<i><b>kereta</b><i>\",\n",
    "    placeholder='',\n",
    "    description='Sample CSV:',\n",
    ")\n",
    "#str_csv"
   ]
  },
  {
   "cell_type": "code",
   "execution_count": 166,
   "metadata": {},
   "outputs": [],
   "source": [
    "#nbi:hide_in\n",
    "str_view= widgets.HTML(\n",
    "    value=\"<b>Choose how to view your data</b>\",\n",
    "    placeholder='',\n",
    "    description='',\n",
    ")\n",
    "#str_view"
   ]
  },
  {
   "cell_type": "code",
   "execution_count": 167,
   "metadata": {},
   "outputs": [],
   "source": [
    "#nbi:hide_in\n",
    "viewlist = ['-', '5', '6', '7', '8', '9', '10']\n",
    "view_head = widgets.Dropdown(\n",
    "    options=viewlist,\n",
    "    value= viewlist[0],\n",
    "    description='Head:',\n",
    "    disabled=False,\n",
    ")\n",
    "#view_head"
   ]
  },
  {
   "cell_type": "code",
   "execution_count": 168,
   "metadata": {},
   "outputs": [],
   "source": [
    "#nbi:hide_in\n",
    "view_rand = widgets.Dropdown(\n",
    "    options=viewlist,\n",
    "    value= viewlist[0],\n",
    "    description='Random:',\n",
    "    disabled=False,\n",
    ")\n",
    "#view_rand"
   ]
  },
  {
   "cell_type": "code",
   "execution_count": 169,
   "metadata": {},
   "outputs": [],
   "source": [
    "#nbi:hide_in\n",
    "view_tail = widgets.Dropdown(\n",
    "    options=viewlist,\n",
    "    value= viewlist[0],\n",
    "    description='Tail:',\n",
    "    disabled=False,\n",
    ")\n",
    "#view_tail"
   ]
  },
  {
   "cell_type": "code",
   "execution_count": 170,
   "metadata": {},
   "outputs": [],
   "source": [
    "#nbi:hide_in\n",
    "str_pca= widgets.HTML(\n",
    "    value=\"Apply <b>Data Mining<b> Method!!\",\n",
    "    placeholder='',\n",
    "    description='',\n",
    ")\n",
    "#str_pca"
   ]
  },
  {
   "cell_type": "code",
   "execution_count": 171,
   "metadata": {},
   "outputs": [],
   "source": [
    "#nbi:hide_in\n",
    "str_box= widgets.HTML(\n",
    "    value=\"<b>Choose to view and compare by attributes<b>\",\n",
    "    placeholder='',\n",
    "    description='',\n",
    ")\n",
    "#str_box"
   ]
  },
  {
   "cell_type": "code",
   "execution_count": 172,
   "metadata": {},
   "outputs": [],
   "source": [
    "#nbi:hide_in\n",
    "str_result= widgets.HTML(\n",
    "    value=\"<b>Click to view Potential Scammers!!<b>\",\n",
    "    placeholder='',\n",
    "    description='',\n",
    ")\n",
    "#str_result"
   ]
  },
  {
   "cell_type": "code",
   "execution_count": 173,
   "metadata": {},
   "outputs": [
    {
     "data": {
      "application/vnd.jupyter.widget-view+json": {
       "model_id": "78c7396bbbd0412392421dbce1d3534b",
       "version_major": 2,
       "version_minor": 0
      },
      "text/html": [
       "<p>Failed to display Jupyter Widget of type <code>Button</code>.</p>\n",
       "<p>\n",
       "  If you're reading this message in the Jupyter Notebook or JupyterLab Notebook, it may mean\n",
       "  that the widgets JavaScript is still loading. If this message persists, it\n",
       "  likely means that the widgets JavaScript library is either not installed or\n",
       "  not enabled. See the <a href=\"https://ipywidgets.readthedocs.io/en/stable/user_install.html\">Jupyter\n",
       "  Widgets Documentation</a> for setup instructions.\n",
       "</p>\n",
       "<p>\n",
       "  If you're reading this message in another frontend (for example, a static\n",
       "  rendering on GitHub or <a href=\"https://nbviewer.jupyter.org/\">NBViewer</a>),\n",
       "  it may mean that your frontend doesn't currently support widgets.\n",
       "</p>\n"
      ],
      "text/plain": [
       "Button(description='PCA!', icon='check', style=ButtonStyle(), tooltip='Click me')"
      ]
     },
     "metadata": {},
     "output_type": "display_data"
    }
   ],
   "source": [
    "#nbi:hide_in\n",
    "pcabtn = widgets.Button(\n",
    "    description='PCA!',\n",
    "    disabled=False,\n",
    "    button_style='', # 'success', 'info', 'warning', 'danger' or ''\n",
    "    tooltip='Click me',\n",
    "    icon='check'\n",
    ")\n",
    "pcabtn\n",
    "#bscrap = widgets.Button(description='Scrap Me')"
   ]
  },
  {
   "cell_type": "code",
   "execution_count": 174,
   "metadata": {},
   "outputs": [],
   "source": [
    "#nbi:hide_in\n",
    "boxplotbtn = widgets.Button(\n",
    "    description='Boxplot',\n",
    "    disabled=False,\n",
    "    button_style='', # 'success', 'info', 'warning', 'danger' or ''\n",
    "    tooltip='Click me',\n",
    "    icon='check'\n",
    ")\n",
    "#boxplotbtn"
   ]
  },
  {
   "cell_type": "code",
   "execution_count": 175,
   "metadata": {},
   "outputs": [],
   "source": [
    "#nbi:hide_in\n",
    "\n",
    "boxplot_filter = widgets.SelectMultiple(\n",
    "    options=['Price', 'Year', 'Mileage'],\n",
    "    value=['Price'],\n",
    "    rows=3,\n",
    "    description='Filter by',\n",
    "    disabled=False\n",
    ")\n"
   ]
  },
  {
   "cell_type": "code",
   "execution_count": 176,
   "metadata": {},
   "outputs": [],
   "source": [
    "#nbi:hide_in\n",
    "scambtn = widgets.Button(\n",
    "    description='Click Me',\n",
    "    disabled=False,\n",
    "    button_style='', # 'success', 'info', 'warning', 'danger' or ''\n",
    "    tooltip='Click me',\n",
    "    icon='check'\n",
    ")\n",
    "#scambtn"
   ]
  },
  {
   "cell_type": "code",
   "execution_count": 177,
   "metadata": {},
   "outputs": [],
   "source": [
    "#nbi:hide_in\n",
    "#filepath=fpath.value + \"\\\\\" + fname.value + \".csv\"\n",
    "#filepath"
   ]
  },
  {
   "cell_type": "code",
   "execution_count": 178,
   "metadata": {},
   "outputs": [],
   "source": [
    "#nbi:hide_in\n",
    "#accordion.children[0].value"
   ]
  },
  {
   "cell_type": "code",
   "execution_count": 179,
   "metadata": {},
   "outputs": [],
   "source": [
    "#nbi:hide_in\n",
    "#import dataframe\n",
    "import pandas as pd\n",
    "import requests as req\n",
    "#calling package URL lib\n",
    "from urllib.request import urlopen as uReq\n",
    "#pase HTML text\n",
    "from bs4 import BeautifulSoup as soup\n",
    "\n",
    "\n",
    "#filename = \"df_mulpages.csv\"\n",
    "#filename = filepath\n",
    "def scrapme(meurl):\n",
    "    def subs (Mileage):\n",
    "            if Mileage == \"0 - 4 999\":\n",
    "                return Mileage.replace(\"0 - 4 999\", \"2500\", 1)\n",
    "            elif Mileage == \"5 000 - 9 999\":\n",
    "                return Mileage.replace(\"5 000 - 9 999\", \"52500\", 1)\n",
    "            elif Mileage == \"10 000 - 14 999\":\n",
    "                return Mileage.replace(\"10 000 - 14 999\", \"12500\", 1)\n",
    "            elif Mileage == \"15 000 - 19 999\":\n",
    "                return Mileage.replace(\"15 000 - 19 999\", \"17500\", 1)\n",
    "            elif Mileage == \"20 000 - 24 999\":\n",
    "                return Mileage.replace(\"20 000 - 24 999\", \"22500\", 1)\n",
    "            elif Mileage == \"25 000 - 29 999\":\n",
    "                return Mileage.replace(\"25 000 - 29 999\", \"27500\", 1)\n",
    "            elif Mileage == \"30 000 - 34 999\":\n",
    "                return Mileage.replace(\"30 000 - 34 999\", \"32500\", 1)\n",
    "            elif Mileage == \"35 000 - 39 999\":\n",
    "                return Mileage.replace(\"35 000 - 39 999\", \"37500\", 1)\n",
    "            elif Mileage == \"40 000 - 44 999\":\n",
    "                return Mileage.replace(\"40 000 - 44 999\", \"42500\", 1)\n",
    "            elif Mileage == \"45 000 - 49 999\":\n",
    "                return Mileage.replace(\"45 000 - 49 999\", \"47500\", 1)\n",
    "            elif Mileage == \"50 000 - 54 999\":\n",
    "                return Mileage.replace(\"50 000 - 54 999\", \"52500\", 1)\n",
    "            elif Mileage == \"55 000 - 59 999\":\n",
    "                return Mileage.replace(\"55 000 - 59 999\", \"57500\", 1)\n",
    "            elif Mileage == \"60 000 - 64 999\":\n",
    "                return Mileage.replace(\"60 000 - 64 999\", \"62500\", 1)\n",
    "            elif Mileage == \"65 000 - 69 999\":\n",
    "                return Mileage.replace(\"65 000 - 69 999\", \"67500\", 1)\n",
    "            elif Mileage == \"70 000 - 74 999\":\n",
    "                return Mileage.replace(\"70 000 - 74 999\", \"72500\", 1)\n",
    "            elif Mileage == \"75 000 - 79 999\":\n",
    "                return Mileage.replace(\"75 000 - 79 999\", \"77500\", 1)\n",
    "            elif Mileage == \"80 000 - 84 999\":\n",
    "                return Mileage.replace(\"80 000 - 84 999\", \"82500\", 1)\n",
    "            elif Mileage == \"85 000 - 89 999\":\n",
    "                return Mileage.replace(\"85 000 - 89 999\", \"87500\", 1)\n",
    "            elif Mileage == \"90 000 - 94 999\":\n",
    "                return Mileage.replace(\"90 000 - 94 999\", \"92500\", 1)\n",
    "            elif Mileage == \"95 000 - 99 999\":\n",
    "                return Mileage.replace(\"95 000 - 99 999\", \"97500\", 1)\n",
    "            elif Mileage == \"100 000 - 109 999\":\n",
    "                return Mileage.replace(\"100 000 - 109 999\", \"105000\", 1)\n",
    "            elif Mileage == \"110 000 - 119 999\":\n",
    "                return Mileage.replace(\"110 000 - 119 999\", \"115000\", 1)\n",
    "            elif Mileage == \"120 000 - 129 999\":\n",
    "                return Mileage.replace(\"120 000 - 129 999\", \"125000\", 1)\n",
    "            elif Mileage == \"130 000 - 139 999\":\n",
    "                return Mileage.replace(\"130 000 - 139 999\", \"135000\", 1)\n",
    "            elif Mileage == \"140 000 - 149 999\":\n",
    "                return Mileage.replace(\"140 000 - 149 999\", \"145000\", 1)\n",
    "            elif Mileage == \"150 000 - 159 999\":\n",
    "                return Mileage.replace(\"150 000 - 159 999\", \"155000\", 1)\n",
    "            elif Mileage == \"160 000 - 169 999\":\n",
    "                return Mileage.replace(\"160 000 - 169 999\", \"165000\", 1)\n",
    "            elif Mileage == \"170 000 - 179 999\":\n",
    "                return Mileage.replace(\"170 000 - 179 999\", \"175000\", 1)\n",
    "            elif Mileage == \"180 000 - 189 999\":\n",
    "                return Mileage.replace(\"180 000 - 189 999\", \"185000\", 1)\n",
    "            elif Mileage == \"190 000 - 199 999\":\n",
    "                return Mileage.replace(\"190 000 - 199 999\", \"195000\", 1)\n",
    "            elif Mileage == \"200 000 - 249 999\":\n",
    "                return Mileage.replace(\"200 000 - 249 999\", \"225000\", 1)\n",
    "            elif Mileage == \"250 000 - 299 999\":\n",
    "                return Mileage.replace(\"250 000 - 299 999\", \"275000\", 1)\n",
    "            elif Mileage == \"300 000 - 349 999\":\n",
    "                return Mileage.replace(\"300 000 - 349 999\", \"325000\", 1)\n",
    "            elif Mileage == \"350 000 - 399 999\":\n",
    "                return Mileage.replace(\"350 000 - 399 999\", \"375000\", 1)\n",
    "            elif Mileage == \"400 000 - 449 999\":\n",
    "                return Mileage.replace(\"400 000 - 449 999\", \"425000\", 1)\n",
    "            elif Mileage == \"450 000 - 499 999\":\n",
    "                return Mileage.replace(\"450 000 - 499 999\", \"475000\", 1)\n",
    "            else:\n",
    "                return Mileage\n",
    "\n",
    "\n",
    "    #df = pd.DataFrame(data, columns=['Name', 'Price', 'Manufactured Year', 'Mileage', 'NewMil', 'CC', 'Condition', 'Link'])\n",
    "\n",
    "\n",
    "    def dprice (a):\n",
    "        if (' ' in a) == True:\n",
    "            return ''.join(a.split())\n",
    "        else:\n",
    "            return a\n",
    "    container = []\n",
    "    pages = []\n",
    "\n",
    "    for i in range(1,4):\n",
    "        my_url = 'https://www.mudah.my/malaysia/cars-for-sale?o=' + str(i) + '1&q=&th=1'\n",
    "        pages.append(my_url)\n",
    "\n",
    "    for item in pages:\n",
    "        page = req.get(item)\n",
    "        page_soup = soup(page.text, \"html.parser\")\n",
    "        containers = page_soup.findAll(\"div\", {\"class\":\"listing_params_container\"})\n",
    "\n",
    "\n",
    "        for fathiah in containers:\n",
    "\n",
    "            clink = fathiah.div.div.a[\"href\"]\n",
    "            name = fathiah.div.div.a[\"title\"].strip()\n",
    "            price = fathiah.findAll(\"div\", {\"class\":\"ads_price\"})\n",
    "            Price = price[0].text.strip()\n",
    "            year = fathiah.findAll(\"font\", {\"class\":\"icon_label\"})\n",
    "            Year = year[1].text.strip()\n",
    "            Mileage = year[2].text.strip()\n",
    "            CC = year[3].text.strip()\n",
    "            Condition = year[0].text.strip()\n",
    "\n",
    "            newMil = subs(Mileage).strip()\n",
    "            Price1 = Price.replace(\"RM\", \"\", 1)\n",
    "            nPrice = dprice(Price1)\n",
    "            container.append((name, nPrice, Year, Mileage, newMil, CC, Condition, clink))\n",
    "\n",
    "\n",
    "\n",
    "    df = pd.DataFrame(container, columns = ['Name', 'Price', 'Manufactured Year', 'Mileage', 'NewMil', 'CC', 'Condition', 'Link'])\n",
    "    #df.to_csv(filename, index=False, encoding='utf-8')"
   ]
  },
  {
   "cell_type": "code",
   "execution_count": 180,
   "metadata": {},
   "outputs": [],
   "source": [
    "#nbi:hide_in\n",
    "\n",
    "bscrap = widgets.Button(description='Scrap Me')\n",
    "oscrap = widgets.Output()\n",
    "def on_button_clicked(_):\n",
    "      # \"linking function with output\"\n",
    "      with oscrap:\n",
    "          # what happens when we press the button\n",
    "          clear_output()\n",
    "          #scrapme(meurl.value, filepath)\n",
    "          #plt.plot(X, y)\n",
    "          print('Me Scrapped!')\n",
    "# linking button and function together using a button's method\n",
    "bscrap.on_click(on_button_clicked)\n",
    "# displaying button and its output together\n",
    "#widgets.VBox([bscrap,oscrap])"
   ]
  },
  {
   "cell_type": "code",
   "execution_count": 181,
   "metadata": {},
   "outputs": [
    {
     "data": {
      "application/vnd.jupyter.widget-view+json": {
       "model_id": "9795d8c9f5314753a2febc7796400c4f",
       "version_major": 2,
       "version_minor": 0
      },
      "text/html": [
       "<p>Failed to display Jupyter Widget of type <code>Accordion</code>.</p>\n",
       "<p>\n",
       "  If you're reading this message in the Jupyter Notebook or JupyterLab Notebook, it may mean\n",
       "  that the widgets JavaScript is still loading. If this message persists, it\n",
       "  likely means that the widgets JavaScript library is either not installed or\n",
       "  not enabled. See the <a href=\"https://ipywidgets.readthedocs.io/en/stable/user_install.html\">Jupyter\n",
       "  Widgets Documentation</a> for setup instructions.\n",
       "</p>\n",
       "<p>\n",
       "  If you're reading this message in another frontend (for example, a static\n",
       "  rendering on GitHub or <a href=\"https://nbviewer.jupyter.org/\">NBViewer</a>),\n",
       "  it may mean that your frontend doesn't currently support widgets.\n",
       "</p>\n"
      ],
      "text/plain": [
       "Accordion(children=(VBox(children=(HTML(value='<i><b>https://www.mudah.my/malaysia/cars-for-sale?o=1&q=&th=1</b><i>', description='Sample Link:', placeholder=''), Text(value='', description='Link:', placeholder='Paste your mudah.my link here'))), VBox(children=(HTML(value='<i><b>C:\\\\Users\\\\LENOVO\\\\Documents</b><i>', description='Sample Path:', placeholder=''), Text(value='', description='Folder Path:', placeholder='Save Scraped Dataset'), HTML(value='<i><b>kereta</b><i>', description='Sample CSV:', placeholder=''), Text(value='', description='CSV file:', placeholder='Name your scrap csv file'))), VBox(children=(Button(description='Scrap Me', style=ButtonStyle()), Output()))), _titles={'0': 'Source', '1': 'Save', '2': 'Scrap'})"
      ]
     },
     "metadata": {},
     "output_type": "display_data"
    }
   ],
   "source": [
    "#nbi:hide_in\n",
    "accordion1 = widgets.Accordion(children=[widgets.VBox([str_link, meurl]), widgets.VBox([str_folder, fpath, str_csv, fname]), widgets.VBox([bscrap,oscrap])])\n",
    "accordion1.set_title(0, 'Source')\n",
    "accordion1.set_title(1, 'Save')\n",
    "accordion1.set_title(2, 'Scrap')\n",
    "accordion1"
   ]
  },
  {
   "cell_type": "code",
   "execution_count": 182,
   "metadata": {},
   "outputs": [],
   "source": [
    "#nbi:hide_in\n",
    "viewbtn = widgets.HBox([view_head, view_rand, view_tail])\n",
    "#viewbtn"
   ]
  },
  {
   "cell_type": "code",
   "execution_count": 183,
   "metadata": {},
   "outputs": [
    {
     "data": {
      "application/vnd.jupyter.widget-view+json": {
       "model_id": "89e809b29b76402aa2444860406c30fb",
       "version_major": 2,
       "version_minor": 0
      },
      "text/html": [
       "<p>Failed to display Jupyter Widget of type <code>Accordion</code>.</p>\n",
       "<p>\n",
       "  If you're reading this message in the Jupyter Notebook or JupyterLab Notebook, it may mean\n",
       "  that the widgets JavaScript is still loading. If this message persists, it\n",
       "  likely means that the widgets JavaScript library is either not installed or\n",
       "  not enabled. See the <a href=\"https://ipywidgets.readthedocs.io/en/stable/user_install.html\">Jupyter\n",
       "  Widgets Documentation</a> for setup instructions.\n",
       "</p>\n",
       "<p>\n",
       "  If you're reading this message in another frontend (for example, a static\n",
       "  rendering on GitHub or <a href=\"https://nbviewer.jupyter.org/\">NBViewer</a>),\n",
       "  it may mean that your frontend doesn't currently support widgets.\n",
       "</p>\n"
      ],
      "text/plain": [
       "Accordion(children=(VBox(children=(HTML(value='<i><b>C:\\\\Users\\\\LENOVO\\\\Documents</b><i>', description='Sample Path:', placeholder=''), Text(value='', description='Folder Path:', placeholder='Upload cleaned dataset'), HTML(value='<i><b>kereta</b><i>', description='Sample CSV:', placeholder=''), Text(value='', description='CSV file:', placeholder='Name of cleaned csv file'))), VBox(children=(HTML(value='<b>Choose how to view your data</b>', placeholder=''), HBox(children=(Dropdown(description='Head:', options=('-', '5', '6', '7', '8', '9', '10'), value='-'), Dropdown(description='Random:', options=('-', '5', '6', '7', '8', '9', '10'), value='-'), Dropdown(description='Tail:', options=('-', '5', '6', '7', '8', '9', '10'), value='-')))))), _titles={'0': 'Upload', '1': 'View'})"
      ]
     },
     "metadata": {},
     "output_type": "display_data"
    }
   ],
   "source": [
    "#nbi:hide_in\n",
    "accordion2 = widgets.Accordion(children=[widgets.VBox([str_folder,lpath, str_csv, lname]), widgets.VBox([str_view, viewbtn])])\n",
    "accordion2.set_title(0, 'Upload')\n",
    "accordion2.set_title(1, 'View')\n",
    "accordion2"
   ]
  },
  {
   "cell_type": "code",
   "execution_count": 184,
   "metadata": {},
   "outputs": [
    {
     "data": {
      "application/vnd.jupyter.widget-view+json": {
       "model_id": "0411d54901064f058b59b5d9a6fc53a0",
       "version_major": 2,
       "version_minor": 0
      },
      "text/html": [
       "<p>Failed to display Jupyter Widget of type <code>Accordion</code>.</p>\n",
       "<p>\n",
       "  If you're reading this message in the Jupyter Notebook or JupyterLab Notebook, it may mean\n",
       "  that the widgets JavaScript is still loading. If this message persists, it\n",
       "  likely means that the widgets JavaScript library is either not installed or\n",
       "  not enabled. See the <a href=\"https://ipywidgets.readthedocs.io/en/stable/user_install.html\">Jupyter\n",
       "  Widgets Documentation</a> for setup instructions.\n",
       "</p>\n",
       "<p>\n",
       "  If you're reading this message in another frontend (for example, a static\n",
       "  rendering on GitHub or <a href=\"https://nbviewer.jupyter.org/\">NBViewer</a>),\n",
       "  it may mean that your frontend doesn't currently support widgets.\n",
       "</p>\n"
      ],
      "text/plain": [
       "Accordion(children=(VBox(children=(HTML(value='Apply <b>Data Mining<b> Method!!', placeholder=''), Button(description='PCA!', icon='check', style=ButtonStyle(), tooltip='Click me'))), VBox(children=(HTML(value='<b>Choose to view and compare by attributes<b>', placeholder=''), SelectMultiple(description='Filter by', index=(0,), options=('Price', 'Year', 'Mileage'), rows=3, value=('Price',)))), VBox(children=(HTML(value='<b>Click to view Potential Scammers!!<b>', placeholder=''), Button(description='Click Me', icon='check', style=ButtonStyle(), tooltip='Click me')))), _titles={'0': 'Method', '1': 'Analysis', '2': 'Result'})"
      ]
     },
     "metadata": {},
     "output_type": "display_data"
    }
   ],
   "source": [
    "accordion3 = widgets.Accordion(children=[widgets.VBox([str_pca,pcabtn]), widgets.VBox([str_box, boxplot_filter]), widgets.VBox([str_result, scambtn])])\n",
    "accordion3.set_title(0, 'Method')\n",
    "accordion3.set_title(1, 'Analysis')\n",
    "accordion3.set_title(2, 'Result')\n",
    "accordion3"
   ]
  },
  {
   "cell_type": "code",
   "execution_count": 185,
   "metadata": {},
   "outputs": [
    {
     "name": "stdout",
     "output_type": "stream",
     "text": [
      "Tab Nest\n"
     ]
    },
    {
     "data": {
      "application/vnd.jupyter.widget-view+json": {
       "model_id": "2bca147381c64490a108961be33d8224",
       "version_major": 2,
       "version_minor": 0
      },
      "text/html": [
       "<p>Failed to display Jupyter Widget of type <code>Tab</code>.</p>\n",
       "<p>\n",
       "  If you're reading this message in the Jupyter Notebook or JupyterLab Notebook, it may mean\n",
       "  that the widgets JavaScript is still loading. If this message persists, it\n",
       "  likely means that the widgets JavaScript library is either not installed or\n",
       "  not enabled. See the <a href=\"https://ipywidgets.readthedocs.io/en/stable/user_install.html\">Jupyter\n",
       "  Widgets Documentation</a> for setup instructions.\n",
       "</p>\n",
       "<p>\n",
       "  If you're reading this message in another frontend (for example, a static\n",
       "  rendering on GitHub or <a href=\"https://nbviewer.jupyter.org/\">NBViewer</a>),\n",
       "  it may mean that your frontend doesn't currently support widgets.\n",
       "</p>\n"
      ],
      "text/plain": [
       "Tab(children=(Accordion(children=(VBox(children=(HTML(value='<i><b>https://www.mudah.my/malaysia/cars-for-sale?o=1&q=&th=1</b><i>', description='Sample Link:', placeholder=''), Text(value='', description='Link:', placeholder='Paste your mudah.my link here'))), VBox(children=(HTML(value='<i><b>C:\\\\Users\\\\LENOVO\\\\Documents</b><i>', description='Sample Path:', placeholder=''), Text(value='', description='Folder Path:', placeholder='Save Scraped Dataset'), HTML(value='<i><b>kereta</b><i>', description='Sample CSV:', placeholder=''), Text(value='', description='CSV file:', placeholder='Name your scrap csv file'))), VBox(children=(Button(description='Scrap Me', style=ButtonStyle()), Output()))), _titles={'0': 'Source', '1': 'Save', '2': 'Scrap'}), Accordion(children=(VBox(children=(HTML(value='<i><b>C:\\\\Users\\\\LENOVO\\\\Documents</b><i>', description='Sample Path:', placeholder=''), Text(value='', description='Folder Path:', placeholder='Upload cleaned dataset'), HTML(value='<i><b>kereta</b><i>', description='Sample CSV:', placeholder=''), Text(value='', description='CSV file:', placeholder='Name of cleaned csv file'))), VBox(children=(HTML(value='<b>Choose how to view your data</b>', placeholder=''), HBox(children=(Dropdown(description='Head:', options=('-', '5', '6', '7', '8', '9', '10'), value='-'), Dropdown(description='Random:', options=('-', '5', '6', '7', '8', '9', '10'), value='-'), Dropdown(description='Tail:', options=('-', '5', '6', '7', '8', '9', '10'), value='-')))))), _titles={'0': 'Upload', '1': 'View'}), Accordion(children=(VBox(children=(HTML(value='Apply <b>Data Mining<b> Method!!', placeholder=''), Button(description='PCA!', icon='check', style=ButtonStyle(), tooltip='Click me'))), VBox(children=(HTML(value='<b>Choose to view and compare by attributes<b>', placeholder=''), SelectMultiple(description='Filter by', index=(0,), options=('Price', 'Year', 'Mileage'), rows=3, value=('Price',)))), VBox(children=(HTML(value='<b>Click to view Potential Scammers!!<b>', placeholder=''), Button(description='Click Me', icon='check', style=ButtonStyle(), tooltip='Click me')))), _titles={'0': 'Method', '1': 'Analysis', '2': 'Result'})), _titles={'0': '1. Extaction', '1': '2. Data', '2': '3. Evaluation'})"
      ]
     },
     "metadata": {},
     "output_type": "display_data"
    }
   ],
   "source": [
    "#nbi:hide_in\n",
    "tab_nest = widgets.Tab()\n",
    "tab_nest.children = [accordion1, accordion2, accordion3]\n",
    "tab_nest.set_title(0, '1. Extaction')\n",
    "tab_nest.set_title(1, '2. Data')\n",
    "tab_nest.set_title(2, '3. Evaluation')\n",
    "print('Tab Nest')\n",
    "display(tab_nest)"
   ]
  }
 ],
 "metadata": {
  "kernelspec": {
   "display_name": "Python 3",
   "language": "python",
   "name": "python3"
  },
  "language_info": {
   "codemirror_mode": {
    "name": "ipython",
    "version": 3
   },
   "file_extension": ".py",
   "mimetype": "text/x-python",
   "name": "python",
   "nbconvert_exporter": "python",
   "pygments_lexer": "ipython3",
   "version": "3.6.4"
  },
  "widgets": {
   "application/vnd.jupyter.widget-state+json": {
    "state": {
     "0079a07bf6d44e02a238381380df57d7": {
      "model_module": "@jupyter-widgets/controls",
      "model_module_version": "1.1.0",
      "model_name": "VBoxModel",
      "state": {
       "children": [
        "IPY_MODEL_a19472d2bf1c4ed781871ef76a20a01f",
        "IPY_MODEL_823f006e17cc4828af49aaf5b365f0d9"
       ],
       "layout": "IPY_MODEL_93265decb7bb43a5adc40f735ebfad41"
      }
     },
     "00ab286a59f446f19fa4481933da0ff5": {
      "model_module": "@jupyter-widgets/base",
      "model_module_version": "1.0.0",
      "model_name": "LayoutModel",
      "state": {}
     },
     "01386a38a26d44919782b3e983af8a0a": {
      "model_module": "@jupyter-widgets/controls",
      "model_module_version": "1.1.0",
      "model_name": "VBoxModel",
      "state": {
       "children": [
        "IPY_MODEL_f0e7f876d6de48c887e28e12aca33e72",
        "IPY_MODEL_9e6b2fb55acd4f4684c4f41d150fda76"
       ],
       "layout": "IPY_MODEL_7e26c7c6da9a4967bdeb04442e120ae4"
      }
     },
     "01fb11737a1446eabe0322cf981c8fd6": {
      "model_module": "@jupyter-widgets/controls",
      "model_module_version": "1.1.0",
      "model_name": "DescriptionStyleModel",
      "state": {
       "description_width": ""
      }
     },
     "021ec9e7001843229a4de182c2abd93e": {
      "model_module": "@jupyter-widgets/base",
      "model_module_version": "1.0.0",
      "model_name": "LayoutModel",
      "state": {}
     },
     "028d948112d747f3a14d645e21afc162": {
      "model_module": "@jupyter-widgets/base",
      "model_module_version": "1.0.0",
      "model_name": "LayoutModel",
      "state": {}
     },
     "02e5b10a5ff5461a9253736c1ecf2e49": {
      "model_module": "@jupyter-widgets/base",
      "model_module_version": "1.0.0",
      "model_name": "LayoutModel",
      "state": {}
     },
     "02ea4ed28071428b8a497e1e2247aca4": {
      "model_module": "@jupyter-widgets/controls",
      "model_module_version": "1.1.0",
      "model_name": "DescriptionStyleModel",
      "state": {
       "description_width": ""
      }
     },
     "03500f75bbdd4cf98e44e60fed431dba": {
      "model_module": "@jupyter-widgets/controls",
      "model_module_version": "1.1.0",
      "model_name": "DescriptionStyleModel",
      "state": {
       "description_width": ""
      }
     },
     "03a21665b38741db96365e7b1e454f3e": {
      "model_module": "@jupyter-widgets/controls",
      "model_module_version": "1.1.0",
      "model_name": "ButtonModel",
      "state": {
       "description": "Click Me",
       "icon": "check",
       "layout": "IPY_MODEL_9120bf53b8964b9c9f069cd8226fe906",
       "style": "IPY_MODEL_3458d1494d9445ba94fd7771826ea627",
       "tooltip": "Click me"
      }
     },
     "03b9fb887c924cc0a360235b61087dd1": {
      "model_module": "@jupyter-widgets/controls",
      "model_module_version": "1.1.0",
      "model_name": "VBoxModel",
      "state": {
       "children": [
        "IPY_MODEL_bc07d51c7bd049b6b214422ef3b7ce70",
        "IPY_MODEL_a56078b5fb524adba1559811a4f8be64"
       ],
       "layout": "IPY_MODEL_93ec4b32d0154c138a5d15ceed30c7e3"
      }
     },
     "03eb1abcacac4787b340b84fcfac04b8": {
      "model_module": "@jupyter-widgets/controls",
      "model_module_version": "1.1.0",
      "model_name": "ButtonStyleModel",
      "state": {}
     },
     "0411d54901064f058b59b5d9a6fc53a0": {
      "model_module": "@jupyter-widgets/controls",
      "model_module_version": "1.1.0",
      "model_name": "AccordionModel",
      "state": {
       "_titles": {
        "0": "Method",
        "1": "Analysis",
        "2": "Result"
       },
       "children": [
        "IPY_MODEL_05ecf3f03bf441a39d7731f52c58e17b",
        "IPY_MODEL_930955ec3a224052a7f4e63d9d3050b6",
        "IPY_MODEL_c0244e8a0f954e4da22a1ba05ccce602"
       ],
       "layout": "IPY_MODEL_dcb0e02e6f524a6d8328af186842efa8"
      }
     },
     "04dc6a1e6c754fd1b3323c60146d421c": {
      "model_module": "@jupyter-widgets/base",
      "model_module_version": "1.0.0",
      "model_name": "LayoutModel",
      "state": {}
     },
     "053e0fef7ec9413291f47b992ee80437": {
      "model_module": "@jupyter-widgets/controls",
      "model_module_version": "1.1.0",
      "model_name": "DropdownModel",
      "state": {
       "_options_labels": [
        "5",
        "6",
        "7",
        "8",
        "9",
        "10"
       ],
       "description": "Head:",
       "index": 0,
       "layout": "IPY_MODEL_0f3eb072c63d441eab83de3f72f3734e",
       "style": "IPY_MODEL_6e2426c5b1054c08afa78505c4d64f89"
      }
     },
     "05e64599de61464197c776e254148a84": {
      "model_module": "@jupyter-widgets/controls",
      "model_module_version": "1.1.0",
      "model_name": "VBoxModel",
      "state": {
       "children": [
        "IPY_MODEL_b4f5d419989446eba4da349d74e907f1",
        "IPY_MODEL_4e2b59ccd0c947d584c70e03f8f02771"
       ],
       "layout": "IPY_MODEL_677e7f78593f456c852da8874c91857d"
      }
     },
     "05ecf3f03bf441a39d7731f52c58e17b": {
      "model_module": "@jupyter-widgets/controls",
      "model_module_version": "1.1.0",
      "model_name": "VBoxModel",
      "state": {
       "children": [
        "IPY_MODEL_a0a0c0a5cc8849e9825d954020026527",
        "IPY_MODEL_78c7396bbbd0412392421dbce1d3534b"
       ],
       "layout": "IPY_MODEL_22ab7a3e9f374283873321cb65ce4b92"
      }
     },
     "06764c74d0fc4d9bb74f6786e6297cb6": {
      "model_module": "@jupyter-widgets/controls",
      "model_module_version": "1.1.0",
      "model_name": "HBoxModel",
      "state": {
       "children": [
        "IPY_MODEL_07717c1f06b94ff39eea0fbc73feb1fb",
        "IPY_MODEL_c771f12830f74f9f85a866bbdbb55053",
        "IPY_MODEL_a0c870f0ea714abdb025835f7b747993"
       ],
       "layout": "IPY_MODEL_c732092bb8bf442fb5c05f7db3c3760f"
      }
     },
     "07717c1f06b94ff39eea0fbc73feb1fb": {
      "model_module": "@jupyter-widgets/controls",
      "model_module_version": "1.1.0",
      "model_name": "DropdownModel",
      "state": {
       "_options_labels": [
        "-",
        "5",
        "6",
        "7",
        "8",
        "9",
        "10"
       ],
       "description": "Head:",
       "index": 0,
       "layout": "IPY_MODEL_31b6d1595c4249fb9ef9725985bba2c0",
       "style": "IPY_MODEL_88bcc3471da64cdd92aa007e74a0bf70"
      }
     },
     "07e57dc4f1af48dbb446ac07143d1c89": {
      "model_module": "@jupyter-widgets/controls",
      "model_module_version": "1.1.0",
      "model_name": "VBoxModel",
      "state": {
       "children": [
        "IPY_MODEL_34d9c9d70a1c466e8163e265eb384a5c",
        "IPY_MODEL_06764c74d0fc4d9bb74f6786e6297cb6"
       ],
       "layout": "IPY_MODEL_e9f7551bd7d94ebd8b522cfe39dd75dd"
      }
     },
     "07eb8fd7bb2441f58ce99f6761a63285": {
      "model_module": "@jupyter-widgets/base",
      "model_module_version": "1.0.0",
      "model_name": "LayoutModel",
      "state": {}
     },
     "0833c0aa4ded48b3a6db349c065383b5": {
      "model_module": "@jupyter-widgets/base",
      "model_module_version": "1.0.0",
      "model_name": "LayoutModel",
      "state": {}
     },
     "09bcf65a9e8f4ca687f659e2971335dd": {
      "model_module": "@jupyter-widgets/base",
      "model_module_version": "1.0.0",
      "model_name": "LayoutModel",
      "state": {}
     },
     "09f465edb6214800b95fd051688dad09": {
      "model_module": "@jupyter-widgets/base",
      "model_module_version": "1.0.0",
      "model_name": "LayoutModel",
      "state": {}
     },
     "0afa2f7fc84e4c5c8855cbd0d12d6088": {
      "model_module": "@jupyter-widgets/controls",
      "model_module_version": "1.1.0",
      "model_name": "VBoxModel",
      "state": {
       "children": [
        "IPY_MODEL_431bd9b95daa47708b2f291ad343942b",
        "IPY_MODEL_b38353b32753462aad0a98d0d2bf3f3a"
       ],
       "layout": "IPY_MODEL_60e4b0e600134003b21ceb68ae110b3c"
      }
     },
     "0c285aa3c5df4426a4ad975b55a5a19c": {
      "model_module": "@jupyter-widgets/controls",
      "model_module_version": "1.1.0",
      "model_name": "TabModel",
      "state": {
       "_titles": {
        "0": "1. Extaction",
        "1": "2. Data",
        "2": "3. Evaluation"
       },
       "children": [
        "IPY_MODEL_c1aed1dbd974447390e3105e74d28fa1",
        "IPY_MODEL_d582e61083084dedbad12beaf8ce0014",
        "IPY_MODEL_fc1e7c997c12448d936f0dacc5166473"
       ],
       "layout": "IPY_MODEL_4e58478fd9224ac7a08eb40792ef8e41",
       "selected_index": 1
      }
     },
     "0c5d48a7def14c0abf59a7bec580776a": {
      "model_module": "@jupyter-widgets/base",
      "model_module_version": "1.0.0",
      "model_name": "LayoutModel",
      "state": {}
     },
     "0cb57cf548c84c32abd30fe2419f5d92": {
      "model_module": "@jupyter-widgets/controls",
      "model_module_version": "1.1.0",
      "model_name": "ToggleButtonsStyleModel",
      "state": {
       "button_width": "",
       "description_width": ""
      }
     },
     "0d0c6dd078d64e3c96506a0baaf66b26": {
      "model_module": "@jupyter-widgets/controls",
      "model_module_version": "1.1.0",
      "model_name": "DescriptionStyleModel",
      "state": {
       "description_width": ""
      }
     },
     "0d10681c89e447abbaeb755f219986ba": {
      "model_module": "@jupyter-widgets/base",
      "model_module_version": "1.0.0",
      "model_name": "LayoutModel",
      "state": {}
     },
     "0d1ba5a8a8cf4d12b7bb810bc176b8a0": {
      "model_module": "@jupyter-widgets/controls",
      "model_module_version": "1.1.0",
      "model_name": "DescriptionStyleModel",
      "state": {
       "description_width": ""
      }
     },
     "0d6890c0b47c40d198e6b7b8e2b912d3": {
      "model_module": "@jupyter-widgets/controls",
      "model_module_version": "1.1.0",
      "model_name": "DescriptionStyleModel",
      "state": {
       "description_width": ""
      }
     },
     "0de3ca36dc7c49ada6ee189403c02e02": {
      "model_module": "@jupyter-widgets/base",
      "model_module_version": "1.0.0",
      "model_name": "LayoutModel",
      "state": {}
     },
     "0e26bed75d0c418eb910d7df7b9b35a2": {
      "model_module": "@jupyter-widgets/controls",
      "model_module_version": "1.1.0",
      "model_name": "VBoxModel",
      "state": {
       "children": [
        "IPY_MODEL_3db03be525d946e6b94134adf035c076",
        "IPY_MODEL_7500865d96ca4f1dbbe71bbe3f3ec2a7",
        "IPY_MODEL_cd93df0abb2045b1b0b942da07048171"
       ],
       "layout": "IPY_MODEL_b1d3d0d2523446528ab5532399978e55"
      }
     },
     "0e966ef4552842b2af53069ad3f5c90c": {
      "model_module": "@jupyter-widgets/base",
      "model_module_version": "1.0.0",
      "model_name": "LayoutModel",
      "state": {}
     },
     "0e9f6db161314796b5663cbeb80372f4": {
      "model_module": "@jupyter-widgets/base",
      "model_module_version": "1.0.0",
      "model_name": "LayoutModel",
      "state": {}
     },
     "0ee66fb90a3a4103aefc427258f019bd": {
      "model_module": "@jupyter-widgets/output",
      "model_module_version": "1.0.0",
      "model_name": "OutputModel",
      "state": {
       "layout": "IPY_MODEL_1466b13dd54f46bf8931ea9e154a9025"
      }
     },
     "0f3eb072c63d441eab83de3f72f3734e": {
      "model_module": "@jupyter-widgets/base",
      "model_module_version": "1.0.0",
      "model_name": "LayoutModel",
      "state": {}
     },
     "0f5a079158ba41d8b973ee01c7b3aec7": {
      "model_module": "@jupyter-widgets/base",
      "model_module_version": "1.0.0",
      "model_name": "LayoutModel",
      "state": {}
     },
     "0fd6762b073a48d69e635d5e5d7a3cec": {
      "model_module": "@jupyter-widgets/controls",
      "model_module_version": "1.1.0",
      "model_name": "DescriptionStyleModel",
      "state": {
       "description_width": ""
      }
     },
     "11593cadfa794d62ac07bbf6b52448f2": {
      "model_module": "@jupyter-widgets/controls",
      "model_module_version": "1.1.0",
      "model_name": "VBoxModel",
      "state": {
       "children": [
        "IPY_MODEL_bc07d51c7bd049b6b214422ef3b7ce70",
        "IPY_MODEL_a56078b5fb524adba1559811a4f8be64"
       ],
       "layout": "IPY_MODEL_a1293ed91b9d460c9055ce84eff1e8f9"
      }
     },
     "11c298e780544dffb330a352f6fc5bef": {
      "model_module": "@jupyter-widgets/controls",
      "model_module_version": "1.1.0",
      "model_name": "DescriptionStyleModel",
      "state": {
       "description_width": ""
      }
     },
     "11d12137f9ed48daa7ceaa63de9a68cc": {
      "model_module": "@jupyter-widgets/base",
      "model_module_version": "1.0.0",
      "model_name": "LayoutModel",
      "state": {}
     },
     "131e5d2a3ccb4b169e8118fa73f4bc69": {
      "model_module": "@jupyter-widgets/base",
      "model_module_version": "1.0.0",
      "model_name": "LayoutModel",
      "state": {}
     },
     "135b4b17a81f4c5c87334ebca201bf1a": {
      "model_module": "@jupyter-widgets/base",
      "model_module_version": "1.0.0",
      "model_name": "LayoutModel",
      "state": {}
     },
     "1434001ed198435db47980dc0df40c2b": {
      "model_module": "@jupyter-widgets/controls",
      "model_module_version": "1.1.0",
      "model_name": "DropdownModel",
      "state": {
       "_options_labels": [
        "-",
        "5",
        "6",
        "7",
        "8",
        "9",
        "10"
       ],
       "description": "Random:",
       "index": 0,
       "layout": "IPY_MODEL_04dc6a1e6c754fd1b3323c60146d421c",
       "style": "IPY_MODEL_01fb11737a1446eabe0322cf981c8fd6"
      }
     },
     "1466b13dd54f46bf8931ea9e154a9025": {
      "model_module": "@jupyter-widgets/base",
      "model_module_version": "1.0.0",
      "model_name": "LayoutModel",
      "state": {}
     },
     "15f27c0f57b146b9bf5a25c47a7491fc": {
      "model_module": "@jupyter-widgets/controls",
      "model_module_version": "1.1.0",
      "model_name": "SelectMultipleModel",
      "state": {
       "_options_labels": [
        "Apples",
        "Oranges",
        "Pears"
       ],
       "description": "Fruits",
       "index": [
        2
       ],
       "layout": "IPY_MODEL_52098c833c5141b1a63541f2aac51231",
       "rows": 5,
       "style": "IPY_MODEL_0fd6762b073a48d69e635d5e5d7a3cec"
      }
     },
     "171fb08161ce4952bf973ab192c9c7db": {
      "model_module": "@jupyter-widgets/controls",
      "model_module_version": "1.1.0",
      "model_name": "DescriptionStyleModel",
      "state": {
       "description_width": ""
      }
     },
     "1754555ca48f44b68eac6d647c93d8c2": {
      "model_module": "@jupyter-widgets/controls",
      "model_module_version": "1.1.0",
      "model_name": "HTMLModel",
      "state": {
       "description": "Sample Path:",
       "layout": "IPY_MODEL_f4c07a8cd81849bab95235e8d9cf6312",
       "placeholder": "",
       "style": "IPY_MODEL_25822193b1cf443899134bd9b5c86dd2",
       "value": "<i><b>C:\\Users\\LENOVO\\Documents</b><i>"
      }
     },
     "17846b2ed1304a25b3e1fe1ef7ed8c91": {
      "model_module": "@jupyter-widgets/base",
      "model_module_version": "1.0.0",
      "model_name": "LayoutModel",
      "state": {}
     },
     "17cb28b44aca474f8b49243527ed1be9": {
      "model_module": "@jupyter-widgets/controls",
      "model_module_version": "1.1.0",
      "model_name": "ButtonModel",
      "state": {
       "description": "PCA!",
       "icon": "check",
       "layout": "IPY_MODEL_50b580d0de6b47c386f6db96cff7ffea",
       "style": "IPY_MODEL_03eb1abcacac4787b340b84fcfac04b8",
       "tooltip": "Click me"
      }
     },
     "1813cf967ca84c8d9dd9b3ea10b475e1": {
      "model_module": "@jupyter-widgets/controls",
      "model_module_version": "1.1.0",
      "model_name": "TabModel",
      "state": {
       "_titles": {
        "0": "1. Extaction",
        "1": "2. Data",
        "2": "3. Evaluation"
       },
       "children": [
        "IPY_MODEL_c1aed1dbd974447390e3105e74d28fa1",
        "IPY_MODEL_39a38648b25245beb3b94a9a187da42c",
        "IPY_MODEL_4068c4dc90874ad380723c093b3e743a"
       ],
       "layout": "IPY_MODEL_eaf02c94cddf43488b97d9121db4753f",
       "selected_index": 2
      }
     },
     "18b2dbdd338b4d23bfdff93633479890": {
      "model_module": "@jupyter-widgets/controls",
      "model_module_version": "1.1.0",
      "model_name": "VBoxModel",
      "state": {
       "children": [
        "IPY_MODEL_291438f326054acdaa45f5badf672dc0",
        "IPY_MODEL_74f656a1e974496e86d2af3e71dae701"
       ],
       "layout": "IPY_MODEL_0de3ca36dc7c49ada6ee189403c02e02"
      }
     },
     "19c580ec9e364aeb89d22b5f793cd39b": {
      "model_module": "@jupyter-widgets/base",
      "model_module_version": "1.0.0",
      "model_name": "LayoutModel",
      "state": {}
     },
     "1a30954b1cde44f180632b27f3a86c67": {
      "model_module": "@jupyter-widgets/controls",
      "model_module_version": "1.1.0",
      "model_name": "AccordionModel",
      "state": {
       "_titles": {
        "0": "Upload",
        "1": "View"
       },
       "children": [
        "IPY_MODEL_8199381d33aa4f0b9b0b8484f7840b95",
        "IPY_MODEL_f4b16dd260cf4a688580fab0f91b6bbb"
       ],
       "layout": "IPY_MODEL_6eb5fd35fa414f23a9604aaef12aea9b",
       "selected_index": null
      }
     },
     "1a9728caf05943d39649ced6fdc2b9e2": {
      "model_module": "@jupyter-widgets/controls",
      "model_module_version": "1.1.0",
      "model_name": "DescriptionStyleModel",
      "state": {
       "description_width": ""
      }
     },
     "1b68f74aa84945db96ae1d1d7c31aa97": {
      "model_module": "@jupyter-widgets/controls",
      "model_module_version": "1.1.0",
      "model_name": "ButtonModel",
      "state": {
       "description": "Potential Scammers!!",
       "icon": "check",
       "layout": "IPY_MODEL_91ccf868e684456aa02edd0c9e3afbed",
       "style": "IPY_MODEL_b1a27e6b3e49444cbf4724649fd72f5b",
       "tooltip": "Click me"
      }
     },
     "1b714a95f166489681d0cd917c0314ab": {
      "model_module": "@jupyter-widgets/controls",
      "model_module_version": "1.1.0",
      "model_name": "TabModel",
      "state": {
       "_titles": {
        "0": "1. Extaction",
        "1": "2. Data",
        "2": "3. Evaluation"
       },
       "children": [
        "IPY_MODEL_c1aed1dbd974447390e3105e74d28fa1",
        "IPY_MODEL_1a30954b1cde44f180632b27f3a86c67",
        "IPY_MODEL_c0c962a955ec492795f4dfb069d38909"
       ],
       "layout": "IPY_MODEL_02e5b10a5ff5461a9253736c1ecf2e49",
       "selected_index": 2
      }
     },
     "1b7f0a1d6a5145499df57781efa59081": {
      "model_module": "@jupyter-widgets/controls",
      "model_module_version": "1.1.0",
      "model_name": "DescriptionStyleModel",
      "state": {
       "description_width": ""
      }
     },
     "1b8a307ce0424be39e655d9a9cf6be93": {
      "model_module": "@jupyter-widgets/base",
      "model_module_version": "1.0.0",
      "model_name": "LayoutModel",
      "state": {}
     },
     "1bf8bee75d58464986fa5c1588cd86f4": {
      "model_module": "@jupyter-widgets/controls",
      "model_module_version": "1.1.0",
      "model_name": "ButtonStyleModel",
      "state": {}
     },
     "1ca7b12e576647a1b9480a774619cc92": {
      "model_module": "@jupyter-widgets/base",
      "model_module_version": "1.0.0",
      "model_name": "LayoutModel",
      "state": {}
     },
     "1ced1c919f404392be64e810291c9a1e": {
      "model_module": "@jupyter-widgets/controls",
      "model_module_version": "1.1.0",
      "model_name": "VBoxModel",
      "state": {
       "children": [
        "IPY_MODEL_2a4527789f434a1dbb6f429b8fba6157",
        "IPY_MODEL_0ee66fb90a3a4103aefc427258f019bd"
       ],
       "layout": "IPY_MODEL_911ef437d99b454990b1385146f865fb"
      }
     },
     "1d68ac9ddc0c495a8a65c87302098c17": {
      "model_module": "@jupyter-widgets/controls",
      "model_module_version": "1.1.0",
      "model_name": "DescriptionStyleModel",
      "state": {
       "description_width": ""
      }
     },
     "1e3720f780ac4e5db9025ae5fde078a3": {
      "model_module": "@jupyter-widgets/controls",
      "model_module_version": "1.1.0",
      "model_name": "VBoxModel",
      "state": {
       "children": [
        "IPY_MODEL_f0e7f876d6de48c887e28e12aca33e72",
        "IPY_MODEL_9e6b2fb55acd4f4684c4f41d150fda76"
       ],
       "layout": "IPY_MODEL_b8c2704276a640749b4a833bd7dda28e"
      }
     },
     "1e6da07083cb442ba1681bb1bb856e50": {
      "model_module": "@jupyter-widgets/controls",
      "model_module_version": "1.1.0",
      "model_name": "DescriptionStyleModel",
      "state": {
       "description_width": ""
      }
     },
     "1e6f87a2f54d41fba15df37a76808ff1": {
      "model_module": "@jupyter-widgets/controls",
      "model_module_version": "1.1.0",
      "model_name": "HTMLModel",
      "state": {
       "description": "Sample:",
       "layout": "IPY_MODEL_a4480917bef24993b5d962a762fd2a0c",
       "placeholder": "",
       "style": "IPY_MODEL_c65ad905c3e54ce19c2d9cd773de5429",
       "value": "Hello <b>World</b>"
      }
     },
     "1f59adb5c1814c76b05069848982b4cc": {
      "model_module": "@jupyter-widgets/base",
      "model_module_version": "1.0.0",
      "model_name": "LayoutModel",
      "state": {}
     },
     "1f7c46d946ab47d3984debd2fe52ee04": {
      "model_module": "@jupyter-widgets/base",
      "model_module_version": "1.0.0",
      "model_name": "LayoutModel",
      "state": {}
     },
     "2140d71e91524110914f2efe5bf2861b": {
      "model_module": "@jupyter-widgets/base",
      "model_module_version": "1.0.0",
      "model_name": "LayoutModel",
      "state": {}
     },
     "2150b2633c85480ab1c8d0f2c47122c2": {
      "model_module": "@jupyter-widgets/base",
      "model_module_version": "1.0.0",
      "model_name": "LayoutModel",
      "state": {}
     },
     "22ab7a3e9f374283873321cb65ce4b92": {
      "model_module": "@jupyter-widgets/base",
      "model_module_version": "1.0.0",
      "model_name": "LayoutModel",
      "state": {}
     },
     "230f075524014772b783689d88c9730b": {
      "model_module": "@jupyter-widgets/base",
      "model_module_version": "1.0.0",
      "model_name": "LayoutModel",
      "state": {}
     },
     "2323a122ec3943d0bb69e8a30616abcc": {
      "model_module": "@jupyter-widgets/controls",
      "model_module_version": "1.1.0",
      "model_name": "TextModel",
      "state": {
       "description": "P3",
       "layout": "IPY_MODEL_7215a81d12c547d795845bc22f51ab31",
       "style": "IPY_MODEL_ee003447177442d9bc7aa6589e9f2c69"
      }
     },
     "2367675f42aa4336ae210ab5d0fc0724": {
      "model_module": "@jupyter-widgets/controls",
      "model_module_version": "1.1.0",
      "model_name": "VBoxModel",
      "state": {
       "children": [
        "IPY_MODEL_37ab7a829cd34ba99557bfdf4ab96971",
        "IPY_MODEL_7bd7f1d7bcd04e95bc5fa623df37ed89"
       ],
       "layout": "IPY_MODEL_b05018464eed4886b0d7e6199f54125f"
      }
     },
     "23d04ddb539e49a886d671fe90e3c856": {
      "model_module": "@jupyter-widgets/controls",
      "model_module_version": "1.1.0",
      "model_name": "SelectMultipleModel",
      "state": {
       "_options_labels": [
        "Price",
        "year",
        "Mileage"
       ],
       "description": "Filter by",
       "index": [
        2
       ],
       "layout": "IPY_MODEL_56c945b03b6a48279f93d19dff241f48",
       "rows": 5,
       "style": "IPY_MODEL_1e6da07083cb442ba1681bb1bb856e50"
      }
     },
     "24067bcd3c864efea462f2fb19fd54c3": {
      "model_module": "@jupyter-widgets/base",
      "model_module_version": "1.0.0",
      "model_name": "LayoutModel",
      "state": {}
     },
     "24c8e7cc727340c59108088e145cee00": {
      "model_module": "@jupyter-widgets/controls",
      "model_module_version": "1.1.0",
      "model_name": "DescriptionStyleModel",
      "state": {
       "description_width": ""
      }
     },
     "24e12410406d4bb597de4a2a08ba4784": {
      "model_module": "@jupyter-widgets/base",
      "model_module_version": "1.0.0",
      "model_name": "LayoutModel",
      "state": {}
     },
     "2503a9fd007741ba98505e762700029e": {
      "model_module": "@jupyter-widgets/base",
      "model_module_version": "1.0.0",
      "model_name": "LayoutModel",
      "state": {}
     },
     "25822193b1cf443899134bd9b5c86dd2": {
      "model_module": "@jupyter-widgets/controls",
      "model_module_version": "1.1.0",
      "model_name": "DescriptionStyleModel",
      "state": {
       "description_width": ""
      }
     },
     "26cc51a7ee5a4de59d30772034367716": {
      "model_module": "@jupyter-widgets/base",
      "model_module_version": "1.0.0",
      "model_name": "LayoutModel",
      "state": {}
     },
     "274554fe9d4840dda15ba24dc25b49c0": {
      "model_module": "@jupyter-widgets/controls",
      "model_module_version": "1.1.0",
      "model_name": "DescriptionStyleModel",
      "state": {
       "description_width": ""
      }
     },
     "2765c150d91845ddb7cb2fe9fd3c481c": {
      "model_module": "@jupyter-widgets/base",
      "model_module_version": "1.0.0",
      "model_name": "LayoutModel",
      "state": {}
     },
     "282a2334a55d4625aecf7867d1dcfacf": {
      "model_module": "@jupyter-widgets/controls",
      "model_module_version": "1.1.0",
      "model_name": "DescriptionStyleModel",
      "state": {
       "description_width": ""
      }
     },
     "285526a8d64443779afa8b76c9c8f18a": {
      "model_module": "@jupyter-widgets/base",
      "model_module_version": "1.0.0",
      "model_name": "LayoutModel",
      "state": {}
     },
     "28881ea388974d74a50c77a946f2ca73": {
      "model_module": "@jupyter-widgets/controls",
      "model_module_version": "1.1.0",
      "model_name": "VBoxModel",
      "state": {
       "children": [
        "IPY_MODEL_a19472d2bf1c4ed781871ef76a20a01f",
        "IPY_MODEL_823f006e17cc4828af49aaf5b365f0d9"
       ],
       "layout": "IPY_MODEL_9415163214b34129a7aca3e686ff37e0"
      }
     },
     "289c4afe1c954e6d94eb1df82d850461": {
      "model_module": "@jupyter-widgets/base",
      "model_module_version": "1.0.0",
      "model_name": "LayoutModel",
      "state": {}
     },
     "28b80500c7a94476b30a9c1cbc16ff43": {
      "model_module": "@jupyter-widgets/controls",
      "model_module_version": "1.1.0",
      "model_name": "ButtonModel",
      "state": {
       "description": "Click me",
       "layout": "IPY_MODEL_8aa2df8156874a63a7ecc28589cd982b",
       "style": "IPY_MODEL_36eedc57eac144cabbf887d232b00a39",
       "tooltip": "Click me"
      }
     },
     "28d4b0d5f729420e9553714ceb9486ad": {
      "model_module": "@jupyter-widgets/controls",
      "model_module_version": "1.1.0",
      "model_name": "TextModel",
      "state": {
       "description": "Folder Path:",
       "layout": "IPY_MODEL_5b35e8d8240c4c718fcba0459b47c296",
       "placeholder": "Save Dataset",
       "style": "IPY_MODEL_c2422a6d5ac548878994c46bebc2b5ad"
      }
     },
     "291438f326054acdaa45f5badf672dc0": {
      "model_module": "@jupyter-widgets/controls",
      "model_module_version": "1.1.0",
      "model_name": "ButtonModel",
      "state": {
       "description": "Scrap Me",
       "layout": "IPY_MODEL_ea23db6acb1f44a58ac57828aa825178",
       "style": "IPY_MODEL_2940ec33256b475ea088ab87b9fa2225"
      }
     },
     "2940ec33256b475ea088ab87b9fa2225": {
      "model_module": "@jupyter-widgets/controls",
      "model_module_version": "1.1.0",
      "model_name": "ButtonStyleModel",
      "state": {}
     },
     "295034a33e844c8abc7bea0c3e1c3fb6": {
      "model_module": "@jupyter-widgets/base",
      "model_module_version": "1.0.0",
      "model_name": "LayoutModel",
      "state": {}
     },
     "2a24a687aac04bbc9fcd266de642be86": {
      "model_module": "@jupyter-widgets/controls",
      "model_module_version": "1.1.0",
      "model_name": "DropdownModel",
      "state": {
       "_options_labels": [
        "1",
        "2",
        "3"
       ],
       "description": "Number:",
       "index": 1,
       "layout": "IPY_MODEL_028d948112d747f3a14d645e21afc162",
       "style": "IPY_MODEL_d74e2ce7a86649d582112567ce26cfd2"
      }
     },
     "2a4527789f434a1dbb6f429b8fba6157": {
      "model_module": "@jupyter-widgets/controls",
      "model_module_version": "1.1.0",
      "model_name": "ButtonModel",
      "state": {
       "description": "Scrap Me",
       "layout": "IPY_MODEL_c66a85db421448b0bcf2f35421fdffa5",
       "style": "IPY_MODEL_aa998e6d0f544f9b83e13838f2c99aa7"
      }
     },
     "2af56d85b032406ba2bc037def1e9520": {
      "model_module": "@jupyter-widgets/controls",
      "model_module_version": "1.1.0",
      "model_name": "VBoxModel",
      "state": {
       "children": [
        "IPY_MODEL_1754555ca48f44b68eac6d647c93d8c2",
        "IPY_MODEL_839f2b3664ae4660acd7a11d47418d69",
        "IPY_MODEL_60571707887141a6a17edf1919d36a5a",
        "IPY_MODEL_87339b7a13fd4814ad85757297ef24f9"
       ],
       "layout": "IPY_MODEL_49d1dbe4ad234db0bed05541b56cc234"
      }
     },
     "2b50a5d18a4945f495fb9d46102acdee": {
      "model_module": "@jupyter-widgets/controls",
      "model_module_version": "1.1.0",
      "model_name": "AccordionModel",
      "state": {
       "_titles": {
        "0": "Upload"
       },
       "children": [
        "IPY_MODEL_11593cadfa794d62ac07bbf6b52448f2"
       ],
       "layout": "IPY_MODEL_a67e00c2fbc841f5af9dad5ae5b741c5",
       "selected_index": null
      }
     },
     "2b6ffb625cbd4111b2c5d86ae994ba77": {
      "model_module": "@jupyter-widgets/controls",
      "model_module_version": "1.1.0",
      "model_name": "DropdownModel",
      "state": {
       "_options_labels": [
        "5",
        "6",
        "7",
        "8",
        "9",
        "10"
       ],
       "description": "Head:",
       "index": 0,
       "layout": "IPY_MODEL_0e9f6db161314796b5663cbeb80372f4",
       "style": "IPY_MODEL_978cb2932be448e08c5567178b0196f8"
      }
     },
     "2bca147381c64490a108961be33d8224": {
      "model_module": "@jupyter-widgets/controls",
      "model_module_version": "1.1.0",
      "model_name": "TabModel",
      "state": {
       "_titles": {
        "0": "1. Extaction",
        "1": "2. Data",
        "2": "3. Evaluation"
       },
       "children": [
        "IPY_MODEL_9795d8c9f5314753a2febc7796400c4f",
        "IPY_MODEL_89e809b29b76402aa2444860406c30fb",
        "IPY_MODEL_0411d54901064f058b59b5d9a6fc53a0"
       ],
       "layout": "IPY_MODEL_9e23e905c78f41abba4f3af83d0d2012"
      }
     },
     "2c493d03c1d944e3bbac425221a9a49f": {
      "model_module": "@jupyter-widgets/controls",
      "model_module_version": "1.1.0",
      "model_name": "DescriptionStyleModel",
      "state": {
       "description_width": ""
      }
     },
     "2c7ceb88e02448e6a2fcf42397682470": {
      "model_module": "@jupyter-widgets/controls",
      "model_module_version": "1.1.0",
      "model_name": "VBoxModel",
      "state": {
       "children": [
        "IPY_MODEL_291438f326054acdaa45f5badf672dc0",
        "IPY_MODEL_74f656a1e974496e86d2af3e71dae701"
       ],
       "layout": "IPY_MODEL_dad161cc6adb4ac38310334f465e3176"
      }
     },
     "2cbb5b4031204e0a85471ca30b6b00ec": {
      "model_module": "@jupyter-widgets/controls",
      "model_module_version": "1.1.0",
      "model_name": "VBoxModel",
      "state": {
       "children": [
        "IPY_MODEL_34d9c9d70a1c466e8163e265eb384a5c",
        "IPY_MODEL_06764c74d0fc4d9bb74f6786e6297cb6"
       ],
       "layout": "IPY_MODEL_0c5d48a7def14c0abf59a7bec580776a"
      }
     },
     "2cd7771f8ff64ba3927f6803844a6720": {
      "model_module": "@jupyter-widgets/base",
      "model_module_version": "1.0.0",
      "model_name": "LayoutModel",
      "state": {}
     },
     "2ce98f53ff934e2d94b43a684c6a16b4": {
      "model_module": "@jupyter-widgets/controls",
      "model_module_version": "1.1.0",
      "model_name": "TextModel",
      "state": {
       "description": "Folder Path:",
       "layout": "IPY_MODEL_ef43085abecd452386f3246a67b32b43",
       "placeholder": "Save Scraped Dataset",
       "style": "IPY_MODEL_80e98be060d842cb9fd224b36c61725b"
      }
     },
     "2d45b9a32ba241a6abe25967bd8e02d9": {
      "model_module": "@jupyter-widgets/controls",
      "model_module_version": "1.1.0",
      "model_name": "DescriptionStyleModel",
      "state": {
       "description_width": ""
      }
     },
     "2eaafbbfad1840358c2a2ff9eed8f5d8": {
      "model_module": "@jupyter-widgets/base",
      "model_module_version": "1.0.0",
      "model_name": "LayoutModel",
      "state": {}
     },
     "2fc025f7400a46398ba857478599df51": {
      "model_module": "@jupyter-widgets/controls",
      "model_module_version": "1.1.0",
      "model_name": "VBoxModel",
      "state": {
       "children": [
        "IPY_MODEL_cf47d31211714015965ed119ecb96b14",
        "IPY_MODEL_bb8a1a2b848249e58aa8c2be3fd69c63"
       ],
       "layout": "IPY_MODEL_a76f4fbdc6f9446a8fd13716476da495"
      }
     },
     "3127a9e937de418e8961d58184ca2d3f": {
      "model_module": "@jupyter-widgets/base",
      "model_module_version": "1.0.0",
      "model_name": "LayoutModel",
      "state": {}
     },
     "31b6d1595c4249fb9ef9725985bba2c0": {
      "model_module": "@jupyter-widgets/base",
      "model_module_version": "1.0.0",
      "model_name": "LayoutModel",
      "state": {}
     },
     "31b966d177334faeb18669f6f7023783": {
      "model_module": "@jupyter-widgets/controls",
      "model_module_version": "1.1.0",
      "model_name": "SelectMultipleModel",
      "state": {
       "_options_labels": [
        "Price",
        "Year",
        "Mileage"
       ],
       "description": "Filter by",
       "index": [
        0
       ],
       "layout": "IPY_MODEL_7000b7fb37124fcc8162b818090cc781",
       "rows": 5,
       "style": "IPY_MODEL_bf7a5f1bde2c473dba4e01fae132bcd8"
      }
     },
     "31cc720dff214d4f80aee6fd83d5d223": {
      "model_module": "@jupyter-widgets/base",
      "model_module_version": "1.0.0",
      "model_name": "LayoutModel",
      "state": {}
     },
     "32acb930aa1e43f4a7b3deed077fc685": {
      "model_module": "@jupyter-widgets/base",
      "model_module_version": "1.0.0",
      "model_name": "LayoutModel",
      "state": {}
     },
     "32f656b48726451591581c80c47bee67": {
      "model_module": "@jupyter-widgets/controls",
      "model_module_version": "1.1.0",
      "model_name": "VBoxModel",
      "state": {
       "children": [
        "IPY_MODEL_8d177eee05dc478f92c66698d8612381",
        "IPY_MODEL_bc07d51c7bd049b6b214422ef3b7ce70",
        "IPY_MODEL_f8aeb875926c4facb8aaa0fa4152351a",
        "IPY_MODEL_a56078b5fb524adba1559811a4f8be64"
       ],
       "layout": "IPY_MODEL_5a2c980467784dc0bbdc6b746386f741"
      }
     },
     "32fc07a1ce8d41f485f9df97d407ac60": {
      "model_module": "@jupyter-widgets/base",
      "model_module_version": "1.0.0",
      "model_name": "LayoutModel",
      "state": {}
     },
     "33f620b532044f80b83dcf76f989f0b4": {
      "model_module": "@jupyter-widgets/base",
      "model_module_version": "1.0.0",
      "model_name": "LayoutModel",
      "state": {}
     },
     "340b7b3611304d57b8e49115ec11d7af": {
      "model_module": "@jupyter-widgets/base",
      "model_module_version": "1.0.0",
      "model_name": "LayoutModel",
      "state": {}
     },
     "34225ff846724ff08938eac4ddf81353": {
      "model_module": "@jupyter-widgets/controls",
      "model_module_version": "1.1.0",
      "model_name": "VBoxModel",
      "state": {
       "children": [
        "IPY_MODEL_37ab7a829cd34ba99557bfdf4ab96971",
        "IPY_MODEL_7bd7f1d7bcd04e95bc5fa623df37ed89"
       ],
       "layout": "IPY_MODEL_31cc720dff214d4f80aee6fd83d5d223"
      }
     },
     "3458d1494d9445ba94fd7771826ea627": {
      "model_module": "@jupyter-widgets/controls",
      "model_module_version": "1.1.0",
      "model_name": "ButtonStyleModel",
      "state": {}
     },
     "3459791f347545adbf9d3c384d29a40c": {
      "model_module": "@jupyter-widgets/controls",
      "model_module_version": "1.1.0",
      "model_name": "VBoxModel",
      "state": {
       "children": [
        "IPY_MODEL_db5eaa7a0c66490aa37b63f36ee264c0",
        "IPY_MODEL_17cb28b44aca474f8b49243527ed1be9"
       ],
       "layout": "IPY_MODEL_cba66c2d565249ca8594d3441be9eb08"
      }
     },
     "34a8b587a9c543219b83c8b78e68b3c9": {
      "model_module": "@jupyter-widgets/base",
      "model_module_version": "1.0.0",
      "model_name": "LayoutModel",
      "state": {}
     },
     "34d9c9d70a1c466e8163e265eb384a5c": {
      "model_module": "@jupyter-widgets/controls",
      "model_module_version": "1.1.0",
      "model_name": "HTMLModel",
      "state": {
       "layout": "IPY_MODEL_bd6174de829c4b3ba310227cddd66430",
       "placeholder": "",
       "style": "IPY_MODEL_3ac4180c901d44a8babbefbe999574da",
       "value": "<b>Choose how to view your data</b>"
      }
     },
     "35c79d134345486ba4f993c8143db07b": {
      "model_module": "@jupyter-widgets/controls",
      "model_module_version": "1.1.0",
      "model_name": "AccordionModel",
      "state": {
       "_titles": {
        "0": "Scrap"
       },
       "children": [
        "IPY_MODEL_f475302fe1f84cb1b3abba00b2e24bf5"
       ],
       "layout": "IPY_MODEL_8873618962ea423aa5e2963eccf41a1c"
      }
     },
     "35d2226f985047118ae534105052d9fe": {
      "model_module": "@jupyter-widgets/controls",
      "model_module_version": "1.1.0",
      "model_name": "VBoxModel",
      "state": {
       "children": [
        "IPY_MODEL_291438f326054acdaa45f5badf672dc0",
        "IPY_MODEL_74f656a1e974496e86d2af3e71dae701"
       ],
       "layout": "IPY_MODEL_85a286c743ac4d668e437f9a68e4cde4"
      }
     },
     "3641b75dcd674dfa8102a33de9842300": {
      "model_module": "@jupyter-widgets/controls",
      "model_module_version": "1.1.0",
      "model_name": "VBoxModel",
      "state": {
       "children": [
        "IPY_MODEL_db5eaa7a0c66490aa37b63f36ee264c0",
        "IPY_MODEL_17cb28b44aca474f8b49243527ed1be9"
       ],
       "layout": "IPY_MODEL_acfaffa50d014fab9fdc1153fb678acd"
      }
     },
     "365b2e0cb48f4c97b0573ea970f86472": {
      "model_module": "@jupyter-widgets/controls",
      "model_module_version": "1.1.0",
      "model_name": "ButtonStyleModel",
      "state": {}
     },
     "36eedc57eac144cabbf887d232b00a39": {
      "model_module": "@jupyter-widgets/controls",
      "model_module_version": "1.1.0",
      "model_name": "ButtonStyleModel",
      "state": {}
     },
     "3743246cf322407b88abc63a1c34f0c6": {
      "model_module": "@jupyter-widgets/base",
      "model_module_version": "1.0.0",
      "model_name": "LayoutModel",
      "state": {}
     },
     "375dc318ca304fada0e84ba83f696c42": {
      "model_module": "@jupyter-widgets/controls",
      "model_module_version": "1.1.0",
      "model_name": "SelectionSliderModel",
      "state": {
       "_options_labels": [
        "Selection"
       ],
       "continuous_update": false,
       "description": "region:",
       "index": 0,
       "layout": "IPY_MODEL_6b2db95f65314072885e8a54c94a3983",
       "style": "IPY_MODEL_e6bfb93c3e5e43b994f543800e84c430"
      }
     },
     "378b14c3eca846dcac50623783da0326": {
      "model_module": "@jupyter-widgets/base",
      "model_module_version": "1.0.0",
      "model_name": "LayoutModel",
      "state": {}
     },
     "37ab7a829cd34ba99557bfdf4ab96971": {
      "model_module": "@jupyter-widgets/controls",
      "model_module_version": "1.1.0",
      "model_name": "TextModel",
      "state": {
       "description": "Folder Path:",
       "layout": "IPY_MODEL_4aca900a37ba4aa0a3adc8b2c4bb059d",
       "placeholder": "Paste folder path to save",
       "style": "IPY_MODEL_eaeddeec14064ccf83aa38b80714f333"
      }
     },
     "37d1199ebdc14367a34625d09e04f28c": {
      "model_module": "@jupyter-widgets/controls",
      "model_module_version": "1.1.0",
      "model_name": "HTMLModel",
      "state": {
       "description": "Sample:",
       "layout": "IPY_MODEL_230f075524014772b783689d88c9730b",
       "placeholder": "",
       "style": "IPY_MODEL_72a4ef84819143e3afa35382a5a8fdad",
       "value": "<b>C:\\Users\\LENOVO\\Documents</b>"
      }
     },
     "37fc8fd3160547dfb375788d9b6eda4b": {
      "model_module": "@jupyter-widgets/base",
      "model_module_version": "1.0.0",
      "model_name": "LayoutModel",
      "state": {}
     },
     "398f0806bb484e5999ed7fdc1d570363": {
      "model_module": "@jupyter-widgets/controls",
      "model_module_version": "1.1.0",
      "model_name": "AccordionModel",
      "state": {
       "_titles": {
        "0": "Method",
        "1": "Analysis",
        "2": "Result"
       },
       "children": [
        "IPY_MODEL_df4b673510ed4f6cac5bf2e7a4f6a5d6",
        "IPY_MODEL_28881ea388974d74a50c77a946f2ca73",
        "IPY_MODEL_96334ef434bd4373961587bd645290ed"
       ],
       "layout": "IPY_MODEL_289c4afe1c954e6d94eb1df82d850461",
       "selected_index": 2
      }
     },
     "39a38648b25245beb3b94a9a187da42c": {
      "model_module": "@jupyter-widgets/controls",
      "model_module_version": "1.1.0",
      "model_name": "AccordionModel",
      "state": {
       "_titles": {
        "0": "Upload",
        "1": "View",
        "2": "Analysis"
       },
       "children": [
        "IPY_MODEL_c2a766c3750c465a970c47c5cb79d792",
        "IPY_MODEL_07e57dc4f1af48dbb446ac07143d1c89",
        "IPY_MODEL_823f006e17cc4828af49aaf5b365f0d9"
       ],
       "layout": "IPY_MODEL_45562151bcfd4e1495e49b9a9feea45d",
       "selected_index": null
      }
     },
     "3a36d6fa6bfd4b04b0f0dd87241e3cb8": {
      "model_module": "@jupyter-widgets/controls",
      "model_module_version": "1.1.0",
      "model_name": "HTMLModel",
      "state": {
       "description": "Sample Folder Path:",
       "layout": "IPY_MODEL_5b27dc82f5fb46e28785b9cd4194b6d8",
       "placeholder": "",
       "style": "IPY_MODEL_eff78c3e02f14f25aade52e2de3160f6",
       "value": "<i><b>C:\\Users\\LENOVO\\Documents</b><i>"
      }
     },
     "3ac4180c901d44a8babbefbe999574da": {
      "model_module": "@jupyter-widgets/controls",
      "model_module_version": "1.1.0",
      "model_name": "DescriptionStyleModel",
      "state": {
       "description_width": ""
      }
     },
     "3b0a015d1c7843eaafaeb350d66db6f0": {
      "model_module": "@jupyter-widgets/controls",
      "model_module_version": "1.1.0",
      "model_name": "DescriptionStyleModel",
      "state": {
       "description_width": ""
      }
     },
     "3d2fc07f9f8348e3a9919d925ba0f028": {
      "model_module": "@jupyter-widgets/base",
      "model_module_version": "1.0.0",
      "model_name": "LayoutModel",
      "state": {}
     },
     "3d60253e9d1042cdbe5b9d6b6c2d16e8": {
      "model_module": "@jupyter-widgets/controls",
      "model_module_version": "1.1.0",
      "model_name": "DescriptionStyleModel",
      "state": {
       "description_width": ""
      }
     },
     "3d6cbd61afe44619ba9fe847ddabbee4": {
      "model_module": "@jupyter-widgets/controls",
      "model_module_version": "1.1.0",
      "model_name": "VBoxModel",
      "state": {
       "children": [
        "IPY_MODEL_ef17d008745b426e9cb7e161814b0912",
        "IPY_MODEL_5c9cf90f8f42470eb311f2f5b2baad67"
       ],
       "layout": "IPY_MODEL_df7c4d4181914b74a3cd1039cbd5abe0"
      }
     },
     "3db03be525d946e6b94134adf035c076": {
      "model_module": "@jupyter-widgets/controls",
      "model_module_version": "1.1.0",
      "model_name": "HTMLModel",
      "state": {
       "description": "Sample:",
       "layout": "IPY_MODEL_b3cea728cb5a460c91930e3796260e8a",
       "placeholder": "",
       "style": "IPY_MODEL_c523bc0aa71849d9913b2c20ec74a6ed",
       "value": "<i><b>C:\\Users\\LENOVO\\Documents</b><i>"
      }
     },
     "3f3f0289597a4e20a359fbd2bb43e7e5": {
      "model_module": "@jupyter-widgets/base",
      "model_module_version": "1.0.0",
      "model_name": "LayoutModel",
      "state": {}
     },
     "3f74d09c09564759b1a288346709309b": {
      "model_module": "@jupyter-widgets/controls",
      "model_module_version": "1.1.0",
      "model_name": "AccordionModel",
      "state": {
       "_titles": {
        "0": "Scrap"
       },
       "children": [
        "IPY_MODEL_1e3720f780ac4e5db9025ae5fde078a3"
       ],
       "layout": "IPY_MODEL_f0703dcad54c4b83a104e4e22fe9094d"
      }
     },
     "3f8173a7448e4bb88996733e238991c8": {
      "model_module": "@jupyter-widgets/controls",
      "model_module_version": "1.1.0",
      "model_name": "HTMLModel",
      "state": {
       "description": "Sample Link:",
       "layout": "IPY_MODEL_d1aa5fe6aeeb4582912fd65992ec46eb",
       "placeholder": "",
       "style": "IPY_MODEL_3d60253e9d1042cdbe5b9d6b6c2d16e8",
       "value": "<i><b>C:\\Users\\LENOVO\\Documents</b><i>"
      }
     },
     "402b094c795446abb8d52292715b0a1a": {
      "model_module": "@jupyter-widgets/controls",
      "model_module_version": "1.1.0",
      "model_name": "AccordionModel",
      "state": {
       "_titles": {
        "0": "Link",
        "1": "Save",
        "2": "Scrap"
       },
       "children": [
        "IPY_MODEL_bbe6e5f0d003414191693cad46aabe3f",
        "IPY_MODEL_34225ff846724ff08938eac4ddf81353",
        "IPY_MODEL_01386a38a26d44919782b3e983af8a0a"
       ],
       "layout": "IPY_MODEL_021ec9e7001843229a4de182c2abd93e",
       "selected_index": null
      }
     },
     "4068c4dc90874ad380723c093b3e743a": {
      "model_module": "@jupyter-widgets/controls",
      "model_module_version": "1.1.0",
      "model_name": "AccordionModel",
      "state": {
       "_titles": {
        "0": "Method",
        "1": "Analysis"
       },
       "children": [
        "IPY_MODEL_3641b75dcd674dfa8102a33de9842300",
        "IPY_MODEL_823f006e17cc4828af49aaf5b365f0d9"
       ],
       "layout": "IPY_MODEL_8c5dd8f9c13947f2bbd236dcebccfccb",
       "selected_index": null
      }
     },
     "40850d171ab54173ae730dc62865ae21": {
      "model_module": "@jupyter-widgets/controls",
      "model_module_version": "1.1.0",
      "model_name": "VBoxModel",
      "state": {
       "children": [
        "IPY_MODEL_f0e7f876d6de48c887e28e12aca33e72",
        "IPY_MODEL_9e6b2fb55acd4f4684c4f41d150fda76"
       ],
       "layout": "IPY_MODEL_87319d8cc25c461ea4d0d372d8eb15a8"
      }
     },
     "40e4c9f7d73b4c3497ebd441daf31eef": {
      "model_module": "@jupyter-widgets/base",
      "model_module_version": "1.0.0",
      "model_name": "LayoutModel",
      "state": {}
     },
     "41d82b5e06e645bb9893ffefb305e604": {
      "model_module": "@jupyter-widgets/controls",
      "model_module_version": "1.1.0",
      "model_name": "TextModel",
      "state": {
       "description": "CSV file:",
       "layout": "IPY_MODEL_b2c0b05c51c04562bde1bc77c4cf78cd",
       "placeholder": "Name your scrap csv file",
       "style": "IPY_MODEL_d5307a475f0a45e6bbd0a87db65a2fbe"
      }
     },
     "4296f1d3e97340f8a9e636412e3a3cba": {
      "model_module": "@jupyter-widgets/base",
      "model_module_version": "1.0.0",
      "model_name": "LayoutModel",
      "state": {}
     },
     "430a70ad1cc94581a312e49bb97db607": {
      "model_module": "@jupyter-widgets/controls",
      "model_module_version": "1.1.0",
      "model_name": "AccordionModel",
      "state": {
       "_titles": {
        "0": "Scrap"
       },
       "children": [
        "IPY_MODEL_73e004678ce94f26bed5082d98c7fdc0"
       ],
       "layout": "IPY_MODEL_c4411c578ff34f4a960842497d9f6054"
      }
     },
     "431bd9b95daa47708b2f291ad343942b": {
      "model_module": "@jupyter-widgets/controls",
      "model_module_version": "1.1.0",
      "model_name": "TextModel",
      "state": {
       "description": "Folder Path:",
       "layout": "IPY_MODEL_33f620b532044f80b83dcf76f989f0b4",
       "placeholder": "Paste folder path to save",
       "style": "IPY_MODEL_af464d4c27ac4cbc9b91795427c5d0db"
      }
     },
     "432747ecdc3a4b788611473606191be2": {
      "model_module": "@jupyter-widgets/controls",
      "model_module_version": "1.1.0",
      "model_name": "ButtonModel",
      "state": {
       "description": "Boxplot",
       "icon": "check",
       "layout": "IPY_MODEL_e64c0607a8e7422993cc7e5b32842d2f",
       "style": "IPY_MODEL_90d392422a4e4d6fb8efa2fa908a1b79",
       "tooltip": "Click me"
      }
     },
     "437a73b913c6406b97dc7bf34c5580db": {
      "model_module": "@jupyter-widgets/controls",
      "model_module_version": "1.1.0",
      "model_name": "VBoxModel",
      "state": {
       "children": [
        "IPY_MODEL_a545a81748f64286b17545d767e3423c",
        "IPY_MODEL_e5f27b0bbf8d4527a5dc0c268a6ae486"
       ],
       "layout": "IPY_MODEL_82740905d0884af5814b4de1b21adeac"
      }
     },
     "44174c33da6c4527a8816036114bff3b": {
      "model_module": "@jupyter-widgets/base",
      "model_module_version": "1.0.0",
      "model_name": "LayoutModel",
      "state": {}
     },
     "4550f1bc674e4bf78e339612304a9210": {
      "model_module": "@jupyter-widgets/controls",
      "model_module_version": "1.1.0",
      "model_name": "DescriptionStyleModel",
      "state": {
       "description_width": ""
      }
     },
     "45562151bcfd4e1495e49b9a9feea45d": {
      "model_module": "@jupyter-widgets/base",
      "model_module_version": "1.0.0",
      "model_name": "LayoutModel",
      "state": {}
     },
     "4585d3ed2cc843609dfb4eeff3f0c9e6": {
      "model_module": "@jupyter-widgets/controls",
      "model_module_version": "1.1.0",
      "model_name": "VBoxModel",
      "state": {
       "children": [
        "IPY_MODEL_bc07d51c7bd049b6b214422ef3b7ce70",
        "IPY_MODEL_a56078b5fb524adba1559811a4f8be64"
       ],
       "layout": "IPY_MODEL_c156f65e96d64f958c212f4c31d42a5d"
      }
     },
     "45f4b0638e5c4e609751958804ba9851": {
      "model_module": "@jupyter-widgets/controls",
      "model_module_version": "1.1.0",
      "model_name": "ButtonModel",
      "state": {
       "description": "Click me",
       "icon": "check",
       "layout": "IPY_MODEL_50db16d5eff945d4827e955796b527f8",
       "style": "IPY_MODEL_596e9d2e90c447eb9140e94619f77840",
       "tooltip": "Click me"
      }
     },
     "463a8f59d6774d0593536802527823bf": {
      "model_module": "@jupyter-widgets/controls",
      "model_module_version": "1.1.0",
      "model_name": "TabModel",
      "state": {
       "_titles": {
        "0": "Extaction",
        "1": "S"
       },
       "children": [
        "IPY_MODEL_ee4cdbfba38e4623ab63a672778861b9"
       ],
       "layout": "IPY_MODEL_2140d71e91524110914f2efe5bf2861b"
      }
     },
     "46dabcc7b8f3448ca6e0170a5d0ab6e4": {
      "model_module": "@jupyter-widgets/controls",
      "model_module_version": "1.1.0",
      "model_name": "AccordionModel",
      "state": {
       "_titles": {
        "0": "Upload",
        "1": "View",
        "2": "Analysis"
       },
       "children": [
        "IPY_MODEL_fb385d32db7841c4bebfecd1f4a665c2",
        "IPY_MODEL_a2ccfd52d8d04df288fb2115622e601c",
        "IPY_MODEL_4a16b84fea7144b5aae5895a53de655d"
       ],
       "layout": "IPY_MODEL_24067bcd3c864efea462f2fb19fd54c3",
       "selected_index": 2
      }
     },
     "46ddcde60ead4692a26b6c4301e3019b": {
      "model_module": "@jupyter-widgets/controls",
      "model_module_version": "1.1.0",
      "model_name": "TextModel",
      "state": {
       "description": "P0",
       "layout": "IPY_MODEL_2150b2633c85480ab1c8d0f2c47122c2",
       "style": "IPY_MODEL_9ac92aaf52a947d28cc67e9b25deb34c"
      }
     },
     "4784c116301346c48958cbd9b6e2a5c2": {
      "model_module": "@jupyter-widgets/base",
      "model_module_version": "1.0.0",
      "model_name": "LayoutModel",
      "state": {}
     },
     "4826b03da61e4dccac35258e9f1a798a": {
      "model_module": "@jupyter-widgets/controls",
      "model_module_version": "1.1.0",
      "model_name": "TabModel",
      "state": {
       "_titles": {
        "0": "Extaction",
        "1": "Data"
       },
       "children": [
        "IPY_MODEL_c1aed1dbd974447390e3105e74d28fa1",
        "IPY_MODEL_661ab29ede1945cf8af898be1eed654e"
       ],
       "layout": "IPY_MODEL_4c4bc52df6f246fe8a2b4a8446be5a66",
       "selected_index": 1
      }
     },
     "48a96c1e3718467792659c7fc0ac36aa": {
      "model_module": "@jupyter-widgets/controls",
      "model_module_version": "1.1.0",
      "model_name": "HTMLModel",
      "state": {
       "layout": "IPY_MODEL_ec14d9096a4f4a7484ffd5751ea53aff",
       "placeholder": "",
       "style": "IPY_MODEL_1a9728caf05943d39649ced6fdc2b9e2",
       "value": "Hello <b>World</b>"
      }
     },
     "49d1dbe4ad234db0bed05541b56cc234": {
      "model_module": "@jupyter-widgets/base",
      "model_module_version": "1.0.0",
      "model_name": "LayoutModel",
      "state": {}
     },
     "4a16b84fea7144b5aae5895a53de655d": {
      "model_module": "@jupyter-widgets/controls",
      "model_module_version": "1.1.0",
      "model_name": "SelectMultipleModel",
      "state": {
       "_options_labels": [
        "Price",
        "Year",
        "Mileage"
       ],
       "description": "Filter by",
       "index": [
        0
       ],
       "layout": "IPY_MODEL_3127a9e937de418e8961d58184ca2d3f",
       "rows": 5,
       "style": "IPY_MODEL_73617c413d6d48b39fb903c76f553f08"
      }
     },
     "4a7dda581bc3407b97d8f32dcf14ca98": {
      "model_module": "@jupyter-widgets/base",
      "model_module_version": "1.0.0",
      "model_name": "LayoutModel",
      "state": {}
     },
     "4aa9446391f0417b9c14f0ea386c8d91": {
      "model_module": "@jupyter-widgets/controls",
      "model_module_version": "1.1.0",
      "model_name": "HTMLModel",
      "state": {
       "description": "Some HTML",
       "layout": "IPY_MODEL_37fc8fd3160547dfb375788d9b6eda4b",
       "placeholder": "",
       "style": "IPY_MODEL_fd9e765964ff491ebf30cebc38f53cd0",
       "value": "Hello <b>World</b>"
      }
     },
     "4aca900a37ba4aa0a3adc8b2c4bb059d": {
      "model_module": "@jupyter-widgets/base",
      "model_module_version": "1.0.0",
      "model_name": "LayoutModel",
      "state": {}
     },
     "4adfbab011124dad8353e9dcd3d0299d": {
      "model_module": "@jupyter-widgets/base",
      "model_module_version": "1.0.0",
      "model_name": "LayoutModel",
      "state": {}
     },
     "4c4bc52df6f246fe8a2b4a8446be5a66": {
      "model_module": "@jupyter-widgets/base",
      "model_module_version": "1.0.0",
      "model_name": "LayoutModel",
      "state": {}
     },
     "4c5f031e1739448e8e111996b00ab243": {
      "model_module": "@jupyter-widgets/controls",
      "model_module_version": "1.1.0",
      "model_name": "ButtonStyleModel",
      "state": {}
     },
     "4c84254347da48d4b19916eb9989769c": {
      "model_module": "@jupyter-widgets/base",
      "model_module_version": "1.0.0",
      "model_name": "LayoutModel",
      "state": {}
     },
     "4d38dd96b27e4edc9ac2aebf7eb1efbd": {
      "model_module": "@jupyter-widgets/base",
      "model_module_version": "1.0.0",
      "model_name": "LayoutModel",
      "state": {}
     },
     "4dc6cb5c3f674fffb7d7e3499d648acc": {
      "model_module": "@jupyter-widgets/base",
      "model_module_version": "1.0.0",
      "model_name": "LayoutModel",
      "state": {}
     },
     "4e2b59ccd0c947d584c70e03f8f02771": {
      "model_module": "@jupyter-widgets/controls",
      "model_module_version": "1.1.0",
      "model_name": "TextModel",
      "state": {
       "description": "Link:",
       "layout": "IPY_MODEL_44174c33da6c4527a8816036114bff3b",
       "placeholder": "Paste your mudah.my link here",
       "style": "IPY_MODEL_e3c53de0a6ae4131856a9db0469cd2ed"
      }
     },
     "4e58478fd9224ac7a08eb40792ef8e41": {
      "model_module": "@jupyter-widgets/base",
      "model_module_version": "1.0.0",
      "model_name": "LayoutModel",
      "state": {}
     },
     "508a46ca779c4b4ea2487d2a7a4ee4cd": {
      "model_module": "@jupyter-widgets/base",
      "model_module_version": "1.0.0",
      "model_name": "LayoutModel",
      "state": {}
     },
     "50b580d0de6b47c386f6db96cff7ffea": {
      "model_module": "@jupyter-widgets/base",
      "model_module_version": "1.0.0",
      "model_name": "LayoutModel",
      "state": {}
     },
     "50db16d5eff945d4827e955796b527f8": {
      "model_module": "@jupyter-widgets/base",
      "model_module_version": "1.0.0",
      "model_name": "LayoutModel",
      "state": {}
     },
     "5126e62c96b24a6bb3a94e0bb27d75cf": {
      "model_module": "@jupyter-widgets/controls",
      "model_module_version": "1.1.0",
      "model_name": "ButtonStyleModel",
      "state": {}
     },
     "52098c833c5141b1a63541f2aac51231": {
      "model_module": "@jupyter-widgets/base",
      "model_module_version": "1.0.0",
      "model_name": "LayoutModel",
      "state": {}
     },
     "52317009b8344f2d85026dc6b7c1d8e0": {
      "model_module": "@jupyter-widgets/base",
      "model_module_version": "1.0.0",
      "model_name": "LayoutModel",
      "state": {}
     },
     "525428188a274091a0d4e9f881b77465": {
      "model_module": "@jupyter-widgets/controls",
      "model_module_version": "1.1.0",
      "model_name": "VBoxModel",
      "state": {
       "children": [
        "IPY_MODEL_bc07d51c7bd049b6b214422ef3b7ce70",
        "IPY_MODEL_a56078b5fb524adba1559811a4f8be64"
       ],
       "layout": "IPY_MODEL_0f5a079158ba41d8b973ee01c7b3aec7"
      }
     },
     "52623dd87ee446e4a010265993b5d82b": {
      "model_module": "@jupyter-widgets/controls",
      "model_module_version": "1.1.0",
      "model_name": "VBoxModel",
      "state": {
       "children": [
        "IPY_MODEL_34d9c9d70a1c466e8163e265eb384a5c",
        "IPY_MODEL_06764c74d0fc4d9bb74f6786e6297cb6"
       ],
       "layout": "IPY_MODEL_7f0191a18e52447580bd7568179d1b4e"
      }
     },
     "52b72e357f1e4a7589fd6f542761b646": {
      "model_module": "@jupyter-widgets/base",
      "model_module_version": "1.0.0",
      "model_name": "LayoutModel",
      "state": {}
     },
     "52ef3500068a4788bd71257b862320fa": {
      "model_module": "@jupyter-widgets/controls",
      "model_module_version": "1.1.0",
      "model_name": "ButtonStyleModel",
      "state": {}
     },
     "531a513f1e784ca781d75f3323e6472b": {
      "model_module": "@jupyter-widgets/base",
      "model_module_version": "1.0.0",
      "model_name": "LayoutModel",
      "state": {}
     },
     "54127abe5471446084a3357f3761ac5f": {
      "model_module": "@jupyter-widgets/controls",
      "model_module_version": "1.1.0",
      "model_name": "TabModel",
      "state": {
       "_titles": {
        "0": "Extaction",
        "1": "S"
       },
       "children": [
        "IPY_MODEL_ee4cdbfba38e4623ab63a672778861b9",
        "IPY_MODEL_2b50a5d18a4945f495fb9d46102acdee"
       ],
       "layout": "IPY_MODEL_851d16908b874391b58f685baced73ee"
      }
     },
     "55d07732a502419a8863643f636b73c1": {
      "model_module": "@jupyter-widgets/controls",
      "model_module_version": "1.1.0",
      "model_name": "DescriptionStyleModel",
      "state": {
       "description_width": ""
      }
     },
     "5644e9c67a4e41d4a6bbbfcaed83c816": {
      "model_module": "@jupyter-widgets/base",
      "model_module_version": "1.0.0",
      "model_name": "LayoutModel",
      "state": {}
     },
     "5660402b0924413c9b7ba747de832ad9": {
      "model_module": "@jupyter-widgets/controls",
      "model_module_version": "1.1.0",
      "model_name": "DescriptionStyleModel",
      "state": {
       "description_width": ""
      }
     },
     "56c945b03b6a48279f93d19dff241f48": {
      "model_module": "@jupyter-widgets/base",
      "model_module_version": "1.0.0",
      "model_name": "LayoutModel",
      "state": {}
     },
     "57382d1740cf46d1aacb88df153bd87e": {
      "model_module": "@jupyter-widgets/controls",
      "model_module_version": "1.1.0",
      "model_name": "ToggleButtonsModel",
      "state": {
       "_options_labels": [
        "Head",
        "Random",
        "Sample"
       ],
       "button_style": "",
       "description": "View Method:",
       "disabled": true,
       "icons": [],
       "index": 0,
       "layout": "IPY_MODEL_cbb8920d848e4a5f8731f4151a3baa1e",
       "style": "IPY_MODEL_ffead06096f6492a8dfd599422fee0bf",
       "tooltips": [
        "Description of slow",
        "Description of regular",
        "Description of fast"
       ]
      }
     },
     "578c08428b2d4446b952df42c3efc4d7": {
      "model_module": "@jupyter-widgets/controls",
      "model_module_version": "1.1.0",
      "model_name": "DescriptionStyleModel",
      "state": {
       "description_width": ""
      }
     },
     "57ce5431650245cba78a2be872fdfe79": {
      "model_module": "@jupyter-widgets/controls",
      "model_module_version": "1.1.0",
      "model_name": "TabModel",
      "state": {
       "_titles": {
        "0": "1. Extaction",
        "1": "2. Data",
        "2": "3. Evaluation"
       },
       "children": [
        "IPY_MODEL_c1aed1dbd974447390e3105e74d28fa1",
        "IPY_MODEL_dd6f7422a4b34c13b0807ccf7f579c22",
        "IPY_MODEL_fc1e7c997c12448d936f0dacc5166473"
       ],
       "layout": "IPY_MODEL_9f3313102cdb4d958d83fa6dfdcf8abb",
       "selected_index": 2
      }
     },
     "5889818fc8d44dfb91023d8b1b07ba98": {
      "model_module": "@jupyter-widgets/controls",
      "model_module_version": "1.1.0",
      "model_name": "DescriptionStyleModel",
      "state": {
       "description_width": ""
      }
     },
     "58cad3aee84a4e008d13e97e8aea8e70": {
      "model_module": "@jupyter-widgets/base",
      "model_module_version": "1.0.0",
      "model_name": "LayoutModel",
      "state": {}
     },
     "592b9c7e654c4d1283d965679a22c206": {
      "model_module": "@jupyter-widgets/base",
      "model_module_version": "1.0.0",
      "model_name": "LayoutModel",
      "state": {}
     },
     "596e9d2e90c447eb9140e94619f77840": {
      "model_module": "@jupyter-widgets/controls",
      "model_module_version": "1.1.0",
      "model_name": "ButtonStyleModel",
      "state": {}
     },
     "59bf44adf6094b8fa53e2545d336d181": {
      "model_module": "@jupyter-widgets/base",
      "model_module_version": "1.0.0",
      "model_name": "LayoutModel",
      "state": {}
     },
     "5a2c980467784dc0bbdc6b746386f741": {
      "model_module": "@jupyter-widgets/base",
      "model_module_version": "1.0.0",
      "model_name": "LayoutModel",
      "state": {}
     },
     "5a34d356053f4787b6b10728c9dea86e": {
      "model_module": "@jupyter-widgets/base",
      "model_module_version": "1.0.0",
      "model_name": "LayoutModel",
      "state": {}
     },
     "5b27dc82f5fb46e28785b9cd4194b6d8": {
      "model_module": "@jupyter-widgets/base",
      "model_module_version": "1.0.0",
      "model_name": "LayoutModel",
      "state": {}
     },
     "5b35e8d8240c4c718fcba0459b47c296": {
      "model_module": "@jupyter-widgets/base",
      "model_module_version": "1.0.0",
      "model_name": "LayoutModel",
      "state": {}
     },
     "5b639445c873418286989b251a61138b": {
      "model_module": "@jupyter-widgets/base",
      "model_module_version": "1.0.0",
      "model_name": "LayoutModel",
      "state": {}
     },
     "5bf4792a8a5545e98c2376f7e762a703": {
      "model_module": "@jupyter-widgets/base",
      "model_module_version": "1.0.0",
      "model_name": "LayoutModel",
      "state": {}
     },
     "5c30fdfe2c8743c2a1bbd637329ed421": {
      "model_module": "@jupyter-widgets/controls",
      "model_module_version": "1.1.0",
      "model_name": "DescriptionStyleModel",
      "state": {
       "description_width": ""
      }
     },
     "5c3e8310a89c4a23978c75c28b633289": {
      "model_module": "@jupyter-widgets/base",
      "model_module_version": "1.0.0",
      "model_name": "LayoutModel",
      "state": {}
     },
     "5c9cf90f8f42470eb311f2f5b2baad67": {
      "model_module": "@jupyter-widgets/output",
      "model_module_version": "1.0.0",
      "model_name": "OutputModel",
      "state": {
       "layout": "IPY_MODEL_f66a485ca04e401fbeafe55fb080aec6"
      }
     },
     "5e847b6fb13643d6b8cc90f0ac1272cf": {
      "model_module": "@jupyter-widgets/base",
      "model_module_version": "1.0.0",
      "model_name": "LayoutModel",
      "state": {}
     },
     "5ea6f63f88374e0ab9fc1d988cda1e1f": {
      "model_module": "@jupyter-widgets/controls",
      "model_module_version": "1.1.0",
      "model_name": "DescriptionStyleModel",
      "state": {
       "description_width": ""
      }
     },
     "5eb97566ba104402b4ef6c46a8fd53fc": {
      "model_module": "@jupyter-widgets/base",
      "model_module_version": "1.0.0",
      "model_name": "LayoutModel",
      "state": {}
     },
     "5ef09f8e734441588d852a405502b6b6": {
      "model_module": "@jupyter-widgets/controls",
      "model_module_version": "1.1.0",
      "model_name": "SelectMultipleModel",
      "state": {
       "_options_labels": [
        "-",
        "Price",
        "year",
        "Mileage"
       ],
       "description": "Filter by",
       "index": [
        1,
        2,
        3
       ],
       "layout": "IPY_MODEL_135b4b17a81f4c5c87334ebca201bf1a",
       "rows": 5,
       "style": "IPY_MODEL_1b7f0a1d6a5145499df57781efa59081"
      }
     },
     "5f553fc6d7e8475ab72773e6b9f585eb": {
      "model_module": "@jupyter-widgets/base",
      "model_module_version": "1.0.0",
      "model_name": "LayoutModel",
      "state": {}
     },
     "60571707887141a6a17edf1919d36a5a": {
      "model_module": "@jupyter-widgets/controls",
      "model_module_version": "1.1.0",
      "model_name": "HTMLModel",
      "state": {
       "description": "Sample CSV:",
       "layout": "IPY_MODEL_6b76785e6f394f47b1c9748e44f85878",
       "placeholder": "",
       "style": "IPY_MODEL_aa984f7983744fa4b8fca94eb8f6dfbf",
       "value": "<i><b>kereta</b><i>"
      }
     },
     "608fd62f85404765b13e5fccc1297058": {
      "model_module": "@jupyter-widgets/base",
      "model_module_version": "1.0.0",
      "model_name": "LayoutModel",
      "state": {}
     },
     "60e4b0e600134003b21ceb68ae110b3c": {
      "model_module": "@jupyter-widgets/base",
      "model_module_version": "1.0.0",
      "model_name": "LayoutModel",
      "state": {}
     },
     "6234813ad6d9426d9550736b1b919854": {
      "model_module": "@jupyter-widgets/controls",
      "model_module_version": "1.1.0",
      "model_name": "DescriptionStyleModel",
      "state": {
       "description_width": ""
      }
     },
     "62680191192a49138b251b2882baf95d": {
      "model_module": "@jupyter-widgets/controls",
      "model_module_version": "1.1.0",
      "model_name": "HTMLModel",
      "state": {
       "layout": "IPY_MODEL_5e847b6fb13643d6b8cc90f0ac1272cf",
       "placeholder": "",
       "style": "IPY_MODEL_65ade0d2789f40c88b5a6664f0c736df",
       "value": "<b>Click to view Potential Scammers!!<b>"
      }
     },
     "640d8d37fff0484090663811c22acf6f": {
      "model_module": "@jupyter-widgets/controls",
      "model_module_version": "1.1.0",
      "model_name": "HTMLModel",
      "state": {
       "layout": "IPY_MODEL_508a46ca779c4b4ea2487d2a7a4ee4cd",
       "placeholder": "",
       "style": "IPY_MODEL_794babae85b04f84918e4387aa7cbfa4",
       "value": "<b>Click to view Potential Scammers!!<b>"
      }
     },
     "643562abfbc248d19716f71470926abe": {
      "model_module": "@jupyter-widgets/controls",
      "model_module_version": "1.1.0",
      "model_name": "HTMLModel",
      "state": {
       "description": "Sample:",
       "layout": "IPY_MODEL_78136c34a1b34bf1a987431bb46bb6c6",
       "placeholder": "",
       "style": "IPY_MODEL_274554fe9d4840dda15ba24dc25b49c0",
       "value": "<i><b>C:\\Users\\LENOVO\\Documents</b><i>"
      }
     },
     "643dc1cb471c406cba7ff55ed6bdf407": {
      "model_module": "@jupyter-widgets/base",
      "model_module_version": "1.0.0",
      "model_name": "LayoutModel",
      "state": {}
     },
     "6488abedbed04f04ba371d41ee4b3b56": {
      "model_module": "@jupyter-widgets/controls",
      "model_module_version": "1.1.0",
      "model_name": "VBoxModel",
      "state": {
       "children": [
        "IPY_MODEL_f4bcad481eaa4393991f4eb0e90b715e",
        "IPY_MODEL_e83c2becff8c4814afd182982100d002"
       ],
       "layout": "IPY_MODEL_0d10681c89e447abbaeb755f219986ba"
      }
     },
     "64fdbd88205c4b8d82b767311e43609a": {
      "model_module": "@jupyter-widgets/controls",
      "model_module_version": "1.1.0",
      "model_name": "DropdownModel",
      "state": {
       "_options_labels": [
        "1",
        "2",
        "3"
       ],
       "description": "Number:",
       "index": 2,
       "layout": "IPY_MODEL_1f59adb5c1814c76b05069848982b4cc",
       "style": "IPY_MODEL_b6294524e98545f2a3092ac9b03cc4f7"
      }
     },
     "6514f4e9d41f4eb48fedde71758daf0b": {
      "model_module": "@jupyter-widgets/base",
      "model_module_version": "1.0.0",
      "model_name": "LayoutModel",
      "state": {}
     },
     "656640e192554550860cd60bfc5fc3b8": {
      "model_module": "@jupyter-widgets/base",
      "model_module_version": "1.0.0",
      "model_name": "LayoutModel",
      "state": {}
     },
     "65a176af312740e5acafb6049b43c494": {
      "model_module": "@jupyter-widgets/controls",
      "model_module_version": "1.1.0",
      "model_name": "ToggleButtonsModel",
      "state": {
       "_options_labels": [
        "Head",
        "Random",
        "Sample"
       ],
       "button_style": "",
       "description": "View Method:",
       "icons": [],
       "index": 0,
       "layout": "IPY_MODEL_8643cc37b5e342f880ed7d216ad979db",
       "style": "IPY_MODEL_73fc9fa7d0a843279d45cb8530f50d4f",
       "tooltips": [
        "Description of slow",
        "Description of regular",
        "Description of fast"
       ]
      }
     },
     "65ade0d2789f40c88b5a6664f0c736df": {
      "model_module": "@jupyter-widgets/controls",
      "model_module_version": "1.1.0",
      "model_name": "DescriptionStyleModel",
      "state": {
       "description_width": ""
      }
     },
     "661ab29ede1945cf8af898be1eed654e": {
      "model_module": "@jupyter-widgets/controls",
      "model_module_version": "1.1.0",
      "model_name": "AccordionModel",
      "state": {
       "_titles": {
        "0": "Upload",
        "1": "View"
       },
       "children": [
        "IPY_MODEL_da5d87357f1e49d48ac1a7284fb106c6",
        "IPY_MODEL_06764c74d0fc4d9bb74f6786e6297cb6"
       ],
       "layout": "IPY_MODEL_a3175239c0d8456191894b8bfcae89b6"
      }
     },
     "66e6e41495514295a1f33809c9a2f11c": {
      "model_module": "@jupyter-widgets/controls",
      "model_module_version": "1.1.0",
      "model_name": "TabModel",
      "state": {
       "_titles": {
        "0": "0. Extaction",
        "1": "1. Data",
        "2": "2. Evaluation"
       },
       "children": [
        "IPY_MODEL_c1aed1dbd974447390e3105e74d28fa1",
        "IPY_MODEL_d582e61083084dedbad12beaf8ce0014",
        "IPY_MODEL_fc1e7c997c12448d936f0dacc5166473"
       ],
       "layout": "IPY_MODEL_ca0713e0397d4380b5bf31e63b5f6993",
       "selected_index": 2
      }
     },
     "67305a83c53a42ef96e31b4f4991ee9b": {
      "model_module": "@jupyter-widgets/controls",
      "model_module_version": "1.1.0",
      "model_name": "ButtonModel",
      "state": {
       "description": "Potential Scams!!",
       "icon": "check",
       "layout": "IPY_MODEL_ddb7736d09204ae8b9bf6be194381ca3",
       "style": "IPY_MODEL_365b2e0cb48f4c97b0573ea970f86472",
       "tooltip": "Click me"
      }
     },
     "677e7f78593f456c852da8874c91857d": {
      "model_module": "@jupyter-widgets/base",
      "model_module_version": "1.0.0",
      "model_name": "LayoutModel",
      "state": {}
     },
     "67f8d648b0944420b4313818267fb029": {
      "model_module": "@jupyter-widgets/base",
      "model_module_version": "1.0.0",
      "model_name": "LayoutModel",
      "state": {}
     },
     "6a79cab43a054cf798bc7acc86b94521": {
      "model_module": "@jupyter-widgets/controls",
      "model_module_version": "1.1.0",
      "model_name": "AccordionModel",
      "state": {
       "_titles": {
        "0": "Method",
        "1": "Analysis"
       },
       "children": [
        "IPY_MODEL_3459791f347545adbf9d3c384d29a40c",
        "IPY_MODEL_f3e256df2a9048be8e5045049c85af1d"
       ],
       "layout": "IPY_MODEL_24e12410406d4bb597de4a2a08ba4784",
       "selected_index": 1
      }
     },
     "6b2db95f65314072885e8a54c94a3983": {
      "model_module": "@jupyter-widgets/base",
      "model_module_version": "1.0.0",
      "model_name": "LayoutModel",
      "state": {
       "width": "40%"
      }
     },
     "6b76785e6f394f47b1c9748e44f85878": {
      "model_module": "@jupyter-widgets/base",
      "model_module_version": "1.0.0",
      "model_name": "LayoutModel",
      "state": {}
     },
     "6ca2164e821a48a2b3db63fcac478a2a": {
      "model_module": "@jupyter-widgets/controls",
      "model_module_version": "1.1.0",
      "model_name": "DescriptionStyleModel",
      "state": {
       "description_width": ""
      }
     },
     "6cd8579ad1fe43b495dea8265d66f519": {
      "model_module": "@jupyter-widgets/base",
      "model_module_version": "1.0.0",
      "model_name": "LayoutModel",
      "state": {}
     },
     "6d172832e173423fb5be660c3c25af58": {
      "model_module": "@jupyter-widgets/controls",
      "model_module_version": "1.1.0",
      "model_name": "DescriptionStyleModel",
      "state": {
       "description_width": ""
      }
     },
     "6d29524ba45340d28f9690f04ef60c72": {
      "model_module": "@jupyter-widgets/controls",
      "model_module_version": "1.1.0",
      "model_name": "ToggleButtonsStyleModel",
      "state": {
       "button_width": "",
       "description_width": ""
      }
     },
     "6d30afcf0d304716bada29ee0fbd8cd0": {
      "model_module": "@jupyter-widgets/base",
      "model_module_version": "1.0.0",
      "model_name": "LayoutModel",
      "state": {}
     },
     "6dee5288b9064f85b228551c0be6c0c8": {
      "model_module": "@jupyter-widgets/base",
      "model_module_version": "1.0.0",
      "model_name": "LayoutModel",
      "state": {}
     },
     "6e2426c5b1054c08afa78505c4d64f89": {
      "model_module": "@jupyter-widgets/controls",
      "model_module_version": "1.1.0",
      "model_name": "DescriptionStyleModel",
      "state": {
       "description_width": ""
      }
     },
     "6e24bd007e54436a8cb09a7fa3a66dad": {
      "model_module": "@jupyter-widgets/controls",
      "model_module_version": "1.1.0",
      "model_name": "ButtonModel",
      "state": {
       "description": "Click Me!!",
       "icon": "check",
       "layout": "IPY_MODEL_00ab286a59f446f19fa4481933da0ff5",
       "style": "IPY_MODEL_52ef3500068a4788bd71257b862320fa",
       "tooltip": "Click me"
      }
     },
     "6e274946859b41bf9d680e2193bf3644": {
      "model_module": "@jupyter-widgets/base",
      "model_module_version": "1.0.0",
      "model_name": "LayoutModel",
      "state": {}
     },
     "6eb5fd35fa414f23a9604aaef12aea9b": {
      "model_module": "@jupyter-widgets/base",
      "model_module_version": "1.0.0",
      "model_name": "LayoutModel",
      "state": {}
     },
     "6f4ba7ee0dbe410bb8614d5766818351": {
      "model_module": "@jupyter-widgets/controls",
      "model_module_version": "1.1.0",
      "model_name": "ToggleButtonsModel",
      "state": {
       "_options_labels": [
        "Head",
        "Random",
        "Sample"
       ],
       "button_style": "",
       "description": "View Method:",
       "icons": [
        "check",
        "check",
        "check"
       ],
       "index": 2,
       "layout": "IPY_MODEL_eca60ededb14473cbd1e37bb5f1ff250",
       "style": "IPY_MODEL_0cb57cf548c84c32abd30fe2419f5d92",
       "tooltips": [
        "Description of slow",
        "Description of regular",
        "Description of fast"
       ]
      }
     },
     "6f53eaac35b64f2a83a0c30110ad467e": {
      "model_module": "@jupyter-widgets/base",
      "model_module_version": "1.0.0",
      "model_name": "LayoutModel",
      "state": {}
     },
     "7000b7fb37124fcc8162b818090cc781": {
      "model_module": "@jupyter-widgets/base",
      "model_module_version": "1.0.0",
      "model_name": "LayoutModel",
      "state": {}
     },
     "704959aeeb97493bb2e3ec2bffb70d98": {
      "model_module": "@jupyter-widgets/controls",
      "model_module_version": "1.1.0",
      "model_name": "DescriptionStyleModel",
      "state": {
       "description_width": ""
      }
     },
     "70705bf3bc964084ab14730e50bc040b": {
      "model_module": "@jupyter-widgets/controls",
      "model_module_version": "1.1.0",
      "model_name": "TextModel",
      "state": {
       "description": "P4",
       "layout": "IPY_MODEL_c48f116147364a209a290fd3f6510a8f",
       "style": "IPY_MODEL_bda66ee46d524d5babf019f84c3dc3e5"
      }
     },
     "70cfd95a68d64e4882dd6aa09661ff13": {
      "model_module": "@jupyter-widgets/controls",
      "model_module_version": "1.1.0",
      "model_name": "TabModel",
      "state": {
       "_titles": {
        "0": "Extaction",
        "1": "Data"
       },
       "children": [
        "IPY_MODEL_c1aed1dbd974447390e3105e74d28fa1",
        "IPY_MODEL_d582e61083084dedbad12beaf8ce0014"
       ],
       "layout": "IPY_MODEL_fdeaee2d50654c399b7fd66e9c83743e",
       "selected_index": 1
      }
     },
     "70fdea4024b94bbbb93b9df31b9d7156": {
      "model_module": "@jupyter-widgets/controls",
      "model_module_version": "1.1.0",
      "model_name": "HTMLModel",
      "state": {
       "layout": "IPY_MODEL_f2461ff1740e4f489b2d7cdc03885fa3",
       "placeholder": "",
       "style": "IPY_MODEL_fef375eb12ca4bc7b3aab36e755f5c62",
       "value": "<b>Choose to view and compare by attributes<b>"
      }
     },
     "71749f1dd77a4d5fbe3718110bc8b631": {
      "model_module": "@jupyter-widgets/controls",
      "model_module_version": "1.1.0",
      "model_name": "DropdownModel",
      "state": {
       "_options_labels": [
        "5",
        "6",
        "7",
        "8",
        "9",
        "10"
       ],
       "description": "Tail:",
       "index": 0,
       "layout": "IPY_MODEL_5f553fc6d7e8475ab72773e6b9f585eb",
       "style": "IPY_MODEL_578c08428b2d4446b952df42c3efc4d7"
      }
     },
     "7215a81d12c547d795845bc22f51ab31": {
      "model_module": "@jupyter-widgets/base",
      "model_module_version": "1.0.0",
      "model_name": "LayoutModel",
      "state": {}
     },
     "72a4ef84819143e3afa35382a5a8fdad": {
      "model_module": "@jupyter-widgets/controls",
      "model_module_version": "1.1.0",
      "model_name": "DescriptionStyleModel",
      "state": {
       "description_width": ""
      }
     },
     "734b37f807774734b5a72816d3c219b6": {
      "model_module": "@jupyter-widgets/base",
      "model_module_version": "1.0.0",
      "model_name": "LayoutModel",
      "state": {}
     },
     "73617c413d6d48b39fb903c76f553f08": {
      "model_module": "@jupyter-widgets/controls",
      "model_module_version": "1.1.0",
      "model_name": "DescriptionStyleModel",
      "state": {
       "description_width": ""
      }
     },
     "73e004678ce94f26bed5082d98c7fdc0": {
      "model_module": "@jupyter-widgets/controls",
      "model_module_version": "1.1.0",
      "model_name": "VBoxModel",
      "state": {
       "children": [
        "IPY_MODEL_2a4527789f434a1dbb6f429b8fba6157",
        "IPY_MODEL_0ee66fb90a3a4103aefc427258f019bd"
       ],
       "layout": "IPY_MODEL_6cd8579ad1fe43b495dea8265d66f519"
      }
     },
     "73fc9fa7d0a843279d45cb8530f50d4f": {
      "model_module": "@jupyter-widgets/controls",
      "model_module_version": "1.1.0",
      "model_name": "ToggleButtonsStyleModel",
      "state": {
       "button_width": "",
       "description_width": ""
      }
     },
     "74f656a1e974496e86d2af3e71dae701": {
      "model_module": "@jupyter-widgets/output",
      "model_module_version": "1.0.0",
      "model_name": "OutputModel",
      "state": {
       "layout": "IPY_MODEL_cbff9fffeeeb4bd4aef2c21e1bbfcdf1",
       "outputs": [
        {
         "name": "stdout",
         "output_type": "stream",
         "text": "Me Scrapped!\n"
        }
       ]
      }
     },
     "74f7cfc2feae472fafd6665415d1f471": {
      "model_module": "@jupyter-widgets/controls",
      "model_module_version": "1.1.0",
      "model_name": "ButtonStyleModel",
      "state": {}
     },
     "7500865d96ca4f1dbbe71bbe3f3ec2a7": {
      "model_module": "@jupyter-widgets/controls",
      "model_module_version": "1.1.0",
      "model_name": "TextModel",
      "state": {
       "description": "Folder Path:",
       "layout": "IPY_MODEL_6f53eaac35b64f2a83a0c30110ad467e",
       "placeholder": "Save Scraped Dataset",
       "style": "IPY_MODEL_f225e0cf3512455dbab56844e14d007d"
      }
     },
     "75287c3b79b34ebbbd3be6cba1675ba5": {
      "model_module": "@jupyter-widgets/controls",
      "model_module_version": "1.1.0",
      "model_name": "DropdownModel",
      "state": {
       "_options_labels": [
        "-",
        "5",
        "6",
        "7",
        "8",
        "9",
        "10"
       ],
       "description": "Head:",
       "index": 0,
       "layout": "IPY_MODEL_1b8a307ce0424be39e655d9a9cf6be93",
       "style": "IPY_MODEL_5889818fc8d44dfb91023d8b1b07ba98"
      }
     },
     "756b08578b9f4f7e8a49db76a9b0ac1a": {
      "model_module": "@jupyter-widgets/base",
      "model_module_version": "1.0.0",
      "model_name": "LayoutModel",
      "state": {}
     },
     "759485bdf1484a8d8dfe741b32aba1a7": {
      "model_module": "@jupyter-widgets/controls",
      "model_module_version": "1.1.0",
      "model_name": "ToggleButtonsModel",
      "state": {
       "_options_labels": [
        "Head",
        "Random",
        "Sample"
       ],
       "button_style": "",
       "description": "View Method:",
       "icons": [],
       "index": 2,
       "layout": "IPY_MODEL_abe6357e447d4e2fb079b50954110637",
       "style": "IPY_MODEL_d315109becab47f7ab0fce4729bea98c",
       "tooltips": [
        "Description of slow",
        "Description of regular",
        "Description of fast"
       ]
      }
     },
     "76d010e575454fb5883ff4ae7c235358": {
      "model_module": "@jupyter-widgets/base",
      "model_module_version": "1.0.0",
      "model_name": "LayoutModel",
      "state": {}
     },
     "77a051b1b7ff40efab0ce9a05cfd6345": {
      "model_module": "@jupyter-widgets/controls",
      "model_module_version": "1.1.0",
      "model_name": "VBoxModel",
      "state": {
       "children": [
        "IPY_MODEL_640d8d37fff0484090663811c22acf6f",
        "IPY_MODEL_dfd933b9c5234458861e026d4df8ff62"
       ],
       "layout": "IPY_MODEL_f4043f4230b64bc981573c394078188f"
      }
     },
     "780c58ce8eca42f498b199740d5a8c35": {
      "model_module": "@jupyter-widgets/base",
      "model_module_version": "1.0.0",
      "model_name": "LayoutModel",
      "state": {}
     },
     "78136c34a1b34bf1a987431bb46bb6c6": {
      "model_module": "@jupyter-widgets/base",
      "model_module_version": "1.0.0",
      "model_name": "LayoutModel",
      "state": {}
     },
     "7836d71b12464ea2a83d08d217713dcb": {
      "model_module": "@jupyter-widgets/base",
      "model_module_version": "1.0.0",
      "model_name": "LayoutModel",
      "state": {}
     },
     "78a7780dadd14bd09e9e4ca06d343ca7": {
      "model_module": "@jupyter-widgets/controls",
      "model_module_version": "1.1.0",
      "model_name": "DescriptionStyleModel",
      "state": {
       "description_width": ""
      }
     },
     "78c7396bbbd0412392421dbce1d3534b": {
      "model_module": "@jupyter-widgets/controls",
      "model_module_version": "1.1.0",
      "model_name": "ButtonModel",
      "state": {
       "description": "PCA!",
       "icon": "check",
       "layout": "IPY_MODEL_fb3b541217f344dd867b2a234f4bd1b9",
       "style": "IPY_MODEL_4c5f031e1739448e8e111996b00ab243",
       "tooltip": "Click me"
      }
     },
     "78db1ec0febc4bf6bab259bd38df3d3d": {
      "model_module": "@jupyter-widgets/base",
      "model_module_version": "1.0.0",
      "model_name": "LayoutModel",
      "state": {}
     },
     "794babae85b04f84918e4387aa7cbfa4": {
      "model_module": "@jupyter-widgets/controls",
      "model_module_version": "1.1.0",
      "model_name": "DescriptionStyleModel",
      "state": {
       "description_width": ""
      }
     },
     "7950c32f545f4928903567190c72cf2f": {
      "model_module": "@jupyter-widgets/base",
      "model_module_version": "1.0.0",
      "model_name": "LayoutModel",
      "state": {}
     },
     "7a659544e95043f18c6dee4e2e5c5c7e": {
      "model_module": "@jupyter-widgets/base",
      "model_module_version": "1.0.0",
      "model_name": "LayoutModel",
      "state": {}
     },
     "7b601b87c6424a8689c95195127a2bc6": {
      "model_module": "@jupyter-widgets/controls",
      "model_module_version": "1.1.0",
      "model_name": "AccordionModel",
      "state": {
       "_titles": {
        "0": "Source",
        "1": "Save",
        "2": "Scrap"
       },
       "children": [
        "IPY_MODEL_4e2b59ccd0c947d584c70e03f8f02771",
        "IPY_MODEL_b74141f1ed434d53af3780f02ebe0da6",
        "IPY_MODEL_8bc3175d64254a74a9684877edd9b087"
       ],
       "layout": "IPY_MODEL_26cc51a7ee5a4de59d30772034367716"
      }
     },
     "7b9cae2243d24b479ca9fc205bc48d9e": {
      "model_module": "@jupyter-widgets/controls",
      "model_module_version": "1.1.0",
      "model_name": "TextModel",
      "state": {
       "description": "Folder Path:",
       "layout": "IPY_MODEL_7de58381e52c4a2281cf21440d8e332a",
       "placeholder": "Upload dataset",
       "style": "IPY_MODEL_ab0ec69de24c4ec68ea5c4c772d0ff6a"
      }
     },
     "7bb623a4622242bcb17132c9b7b1977f": {
      "model_module": "@jupyter-widgets/controls",
      "model_module_version": "1.1.0",
      "model_name": "VBoxModel",
      "state": {
       "children": [
        "IPY_MODEL_1754555ca48f44b68eac6d647c93d8c2",
        "IPY_MODEL_2ce98f53ff934e2d94b43a684c6a16b4",
        "IPY_MODEL_60571707887141a6a17edf1919d36a5a",
        "IPY_MODEL_41d82b5e06e645bb9893ffefb305e604"
       ],
       "layout": "IPY_MODEL_285526a8d64443779afa8b76c9c8f18a"
      }
     },
     "7bd07574f3bd49b2a6c3c4a78f05f6d9": {
      "model_module": "@jupyter-widgets/controls",
      "model_module_version": "1.1.0",
      "model_name": "SelectMultipleModel",
      "state": {
       "_options_labels": [
        "Apples",
        "Oranges",
        "Pears"
       ],
       "description": "Fruits",
       "index": [
        1
       ],
       "layout": "IPY_MODEL_5644e9c67a4e41d4a6bbbfcaed83c816",
       "rows": 5,
       "style": "IPY_MODEL_11c298e780544dffb330a352f6fc5bef"
      }
     },
     "7bd7f1d7bcd04e95bc5fa623df37ed89": {
      "model_module": "@jupyter-widgets/controls",
      "model_module_version": "1.1.0",
      "model_name": "TextModel",
      "state": {
       "description": "CSV file:",
       "layout": "IPY_MODEL_17846b2ed1304a25b3e1fe1ef7ed8c91",
       "placeholder": "Name your scrap csv file",
       "style": "IPY_MODEL_f1879dd84baf4931844c45c075dfa4ee"
      }
     },
     "7bd8a2be408d4bb7bf2ad594427b6870": {
      "model_module": "@jupyter-widgets/controls",
      "model_module_version": "1.1.0",
      "model_name": "ButtonStyleModel",
      "state": {}
     },
     "7de58381e52c4a2281cf21440d8e332a": {
      "model_module": "@jupyter-widgets/base",
      "model_module_version": "1.0.0",
      "model_name": "LayoutModel",
      "state": {}
     },
     "7e26c7c6da9a4967bdeb04442e120ae4": {
      "model_module": "@jupyter-widgets/base",
      "model_module_version": "1.0.0",
      "model_name": "LayoutModel",
      "state": {}
     },
     "7ee5c28297a44ee986a1dbc289cc623d": {
      "model_module": "@jupyter-widgets/base",
      "model_module_version": "1.0.0",
      "model_name": "LayoutModel",
      "state": {}
     },
     "7f0191a18e52447580bd7568179d1b4e": {
      "model_module": "@jupyter-widgets/base",
      "model_module_version": "1.0.0",
      "model_name": "LayoutModel",
      "state": {}
     },
     "80e98be060d842cb9fd224b36c61725b": {
      "model_module": "@jupyter-widgets/controls",
      "model_module_version": "1.1.0",
      "model_name": "DescriptionStyleModel",
      "state": {
       "description_width": ""
      }
     },
     "80fc08c3812243dcacdfd26231f62a22": {
      "model_module": "@jupyter-widgets/controls",
      "model_module_version": "1.1.0",
      "model_name": "DescriptionStyleModel",
      "state": {
       "description_width": ""
      }
     },
     "818174caa3a543ab826c503608883279": {
      "model_module": "@jupyter-widgets/controls",
      "model_module_version": "1.1.0",
      "model_name": "DescriptionStyleModel",
      "state": {
       "description_width": ""
      }
     },
     "8199381d33aa4f0b9b0b8484f7840b95": {
      "model_module": "@jupyter-widgets/controls",
      "model_module_version": "1.1.0",
      "model_name": "VBoxModel",
      "state": {
       "children": [
        "IPY_MODEL_8d177eee05dc478f92c66698d8612381",
        "IPY_MODEL_bc07d51c7bd049b6b214422ef3b7ce70",
        "IPY_MODEL_e767bb4486b149b3a8c4721029779486",
        "IPY_MODEL_a56078b5fb524adba1559811a4f8be64"
       ],
       "layout": "IPY_MODEL_b2959d14829b4d19aedaebcae92de2fd"
      }
     },
     "823f006e17cc4828af49aaf5b365f0d9": {
      "model_module": "@jupyter-widgets/controls",
      "model_module_version": "1.1.0",
      "model_name": "SelectMultipleModel",
      "state": {
       "_options_labels": [
        "Price",
        "Year",
        "Mileage"
       ],
       "description": "Filter by",
       "index": [],
       "layout": "IPY_MODEL_d9b1744adb05487ca4faa52381132c79",
       "rows": 3,
       "style": "IPY_MODEL_ec2190ae20ea4a1eb6511a360bd3c59d"
      }
     },
     "82649e04403a44db851c224b2f48b999": {
      "model_module": "@jupyter-widgets/controls",
      "model_module_version": "1.1.0",
      "model_name": "ToggleButtonsModel",
      "state": {
       "_options_labels": [
        "Head",
        "Random",
        "Sample"
       ],
       "button_style": "",
       "description": "View Method:",
       "icons": [],
       "index": 0,
       "layout": "IPY_MODEL_734b37f807774734b5a72816d3c219b6",
       "style": "IPY_MODEL_c38d97f4c11d44dc970e0c15d08ab5f8",
       "tooltips": [
        "Description of slow",
        "Description of regular",
        "Description of fast"
       ]
      }
     },
     "82740905d0884af5814b4de1b21adeac": {
      "model_module": "@jupyter-widgets/base",
      "model_module_version": "1.0.0",
      "model_name": "LayoutModel",
      "state": {}
     },
     "829898b6bdf94059a03431d87a38b928": {
      "model_module": "@jupyter-widgets/controls",
      "model_module_version": "1.1.0",
      "model_name": "DescriptionStyleModel",
      "state": {
       "description_width": ""
      }
     },
     "830f1d6e4fd24bd6b4fd7e325e3d38bc": {
      "model_module": "@jupyter-widgets/base",
      "model_module_version": "1.0.0",
      "model_name": "LayoutModel",
      "state": {}
     },
     "835a523124004e6ab511a6b213733f5a": {
      "model_module": "@jupyter-widgets/base",
      "model_module_version": "1.0.0",
      "model_name": "LayoutModel",
      "state": {}
     },
     "839f2b3664ae4660acd7a11d47418d69": {
      "model_module": "@jupyter-widgets/controls",
      "model_module_version": "1.1.0",
      "model_name": "TextModel",
      "state": {
       "description": "Folder Path:",
       "layout": "IPY_MODEL_592b9c7e654c4d1283d965679a22c206",
       "placeholder": "Upload cleaned dataset",
       "style": "IPY_MODEL_e632bfda6f454887b03fa2883a84b4fc"
      }
     },
     "84aa3f487d514f4bbfb8f636f7dd9f3f": {
      "model_module": "@jupyter-widgets/controls",
      "model_module_version": "1.1.0",
      "model_name": "SelectMultipleModel",
      "state": {
       "_options_labels": [
        "Apples",
        "Oranges",
        "Pears",
        "Apples",
        "Oranges",
        "Pears"
       ],
       "description": "Fruits",
       "index": [
        2
       ],
       "layout": "IPY_MODEL_eb64524e7bf94efa8be09d39348130d2",
       "rows": 6,
       "style": "IPY_MODEL_1d68ac9ddc0c495a8a65c87302098c17"
      }
     },
     "84c2da3fc15f425cb3b5de063ce67512": {
      "model_module": "@jupyter-widgets/controls",
      "model_module_version": "1.1.0",
      "model_name": "TabModel",
      "state": {
       "_titles": {
        "0": "Extaction",
        "1": "S"
       },
       "children": [
        "IPY_MODEL_8a2e4afc89e0487083b329462844557e",
        "IPY_MODEL_430a70ad1cc94581a312e49bb97db607"
       ],
       "layout": "IPY_MODEL_c94cf7890706421d9cf3df96fce2e7cb"
      }
     },
     "84f0a864d5d04becab5faca83fccdcb2": {
      "model_module": "@jupyter-widgets/base",
      "model_module_version": "1.0.0",
      "model_name": "LayoutModel",
      "state": {}
     },
     "851d16908b874391b58f685baced73ee": {
      "model_module": "@jupyter-widgets/base",
      "model_module_version": "1.0.0",
      "model_name": "LayoutModel",
      "state": {}
     },
     "85a286c743ac4d668e437f9a68e4cde4": {
      "model_module": "@jupyter-widgets/base",
      "model_module_version": "1.0.0",
      "model_name": "LayoutModel",
      "state": {}
     },
     "8643cc37b5e342f880ed7d216ad979db": {
      "model_module": "@jupyter-widgets/base",
      "model_module_version": "1.0.0",
      "model_name": "LayoutModel",
      "state": {}
     },
     "87319d8cc25c461ea4d0d372d8eb15a8": {
      "model_module": "@jupyter-widgets/base",
      "model_module_version": "1.0.0",
      "model_name": "LayoutModel",
      "state": {}
     },
     "87339b7a13fd4814ad85757297ef24f9": {
      "model_module": "@jupyter-widgets/controls",
      "model_module_version": "1.1.0",
      "model_name": "TextModel",
      "state": {
       "description": "CSV file:",
       "layout": "IPY_MODEL_dd6068bcfd2b4b309d9546a6bbb8044e",
       "placeholder": "Name of cleaned csv file",
       "style": "IPY_MODEL_0d1ba5a8a8cf4d12b7bb810bc176b8a0"
      }
     },
     "886497f330194ba7955dcc2cface3f76": {
      "model_module": "@jupyter-widgets/controls",
      "model_module_version": "1.1.0",
      "model_name": "AccordionModel",
      "state": {
       "_titles": {
        "0": "Link",
        "1": "Save",
        "2": "Scrap"
       },
       "children": [
        "IPY_MODEL_bbe6e5f0d003414191693cad46aabe3f",
        "IPY_MODEL_cd45d438a2a84a2cb8b4f7cc112b5b42",
        "IPY_MODEL_f85ba48888c247e5801502d64aa266dc"
       ],
       "layout": "IPY_MODEL_67f8d648b0944420b4313818267fb029",
       "selected_index": null
      }
     },
     "8873618962ea423aa5e2963eccf41a1c": {
      "model_module": "@jupyter-widgets/base",
      "model_module_version": "1.0.0",
      "model_name": "LayoutModel",
      "state": {}
     },
     "88bcc3471da64cdd92aa007e74a0bf70": {
      "model_module": "@jupyter-widgets/controls",
      "model_module_version": "1.1.0",
      "model_name": "DescriptionStyleModel",
      "state": {
       "description_width": ""
      }
     },
     "8924a79eefe749779dacba834154dd26": {
      "model_module": "@jupyter-widgets/base",
      "model_module_version": "1.0.0",
      "model_name": "LayoutModel",
      "state": {}
     },
     "892d5dbb0ba840db875e0197f8ed42b3": {
      "model_module": "@jupyter-widgets/controls",
      "model_module_version": "1.1.0",
      "model_name": "DescriptionStyleModel",
      "state": {
       "description_width": ""
      }
     },
     "89e809b29b76402aa2444860406c30fb": {
      "model_module": "@jupyter-widgets/controls",
      "model_module_version": "1.1.0",
      "model_name": "AccordionModel",
      "state": {
       "_titles": {
        "0": "Upload",
        "1": "View"
       },
       "children": [
        "IPY_MODEL_2af56d85b032406ba2bc037def1e9520",
        "IPY_MODEL_6488abedbed04f04ba371d41ee4b3b56"
       ],
       "layout": "IPY_MODEL_09bcf65a9e8f4ca687f659e2971335dd"
      }
     },
     "8a2e4afc89e0487083b329462844557e": {
      "model_module": "@jupyter-widgets/controls",
      "model_module_version": "1.1.0",
      "model_name": "AccordionModel",
      "state": {
       "_titles": {
        "0": "Link",
        "1": "Save",
        "2": "Scrap"
       },
       "children": [
        "IPY_MODEL_af3178c8d8d64b148b2a58881735c0e7",
        "IPY_MODEL_0afa2f7fc84e4c5c8855cbd0d12d6088",
        "IPY_MODEL_1ced1c919f404392be64e810291c9a1e"
       ],
       "layout": "IPY_MODEL_131e5d2a3ccb4b169e8118fa73f4bc69",
       "selected_index": null
      }
     },
     "8aa2df8156874a63a7ecc28589cd982b": {
      "model_module": "@jupyter-widgets/base",
      "model_module_version": "1.0.0",
      "model_name": "LayoutModel",
      "state": {}
     },
     "8afb69e5f6054d4da2e80b52df9bf94b": {
      "model_module": "@jupyter-widgets/base",
      "model_module_version": "1.0.0",
      "model_name": "LayoutModel",
      "state": {}
     },
     "8b48d3e2388344d6926c79b30e3d26b1": {
      "model_module": "@jupyter-widgets/controls",
      "model_module_version": "1.1.0",
      "model_name": "ToggleButtonsModel",
      "state": {
       "_options_labels": [
        "Head",
        "Random",
        "Sample"
       ],
       "button_style": "",
       "description": "View Method:",
       "icons": [],
       "index": 0,
       "layout": "IPY_MODEL_7ee5c28297a44ee986a1dbc289cc623d",
       "style": "IPY_MODEL_d0c6a75d6899449e86a34d540ff3e901",
       "tooltips": []
      }
     },
     "8b99463da8ce4fd898bad221cf982610": {
      "model_module": "@jupyter-widgets/controls",
      "model_module_version": "1.1.0",
      "model_name": "ButtonStyleModel",
      "state": {}
     },
     "8bc3175d64254a74a9684877edd9b087": {
      "model_module": "@jupyter-widgets/controls",
      "model_module_version": "1.1.0",
      "model_name": "VBoxModel",
      "state": {
       "children": [
        "IPY_MODEL_291438f326054acdaa45f5badf672dc0",
        "IPY_MODEL_74f656a1e974496e86d2af3e71dae701"
       ],
       "layout": "IPY_MODEL_1f7c46d946ab47d3984debd2fe52ee04"
      }
     },
     "8c5dd8f9c13947f2bbd236dcebccfccb": {
      "model_module": "@jupyter-widgets/base",
      "model_module_version": "1.0.0",
      "model_name": "LayoutModel",
      "state": {}
     },
     "8c91ef7b1cf040679326aa1511eff8f8": {
      "model_module": "@jupyter-widgets/controls",
      "model_module_version": "1.1.0",
      "model_name": "ButtonModel",
      "state": {
       "description": "Potential Scams!!",
       "icon": "check",
       "layout": "IPY_MODEL_780c58ce8eca42f498b199740d5a8c35",
       "style": "IPY_MODEL_74f7cfc2feae472fafd6665415d1f471",
       "tooltip": "Click me"
      }
     },
     "8c9cee279b824601b8e0255bd23b8549": {
      "model_module": "@jupyter-widgets/controls",
      "model_module_version": "1.1.0",
      "model_name": "HTMLModel",
      "state": {
       "description": "Sample Folder Path:",
       "layout": "IPY_MODEL_3f3f0289597a4e20a359fbd2bb43e7e5",
       "placeholder": "",
       "style": "IPY_MODEL_829898b6bdf94059a03431d87a38b928",
       "value": "<i><b>C:\\Users\\LENOVO\\Documents</b><i>"
      }
     },
     "8cdc4f49d7e64bbc85217e724109427b": {
      "model_module": "@jupyter-widgets/controls",
      "model_module_version": "1.1.0",
      "model_name": "ButtonModel",
      "state": {
       "description": "Apply PCA!",
       "icon": "check",
       "layout": "IPY_MODEL_4c84254347da48d4b19916eb9989769c",
       "style": "IPY_MODEL_5126e62c96b24a6bb3a94e0bb27d75cf",
       "tooltip": "Click me"
      }
     },
     "8d177eee05dc478f92c66698d8612381": {
      "model_module": "@jupyter-widgets/controls",
      "model_module_version": "1.1.0",
      "model_name": "HTMLModel",
      "state": {
       "description": "Sample Path:",
       "layout": "IPY_MODEL_5eb97566ba104402b4ef6c46a8fd53fc",
       "placeholder": "",
       "style": "IPY_MODEL_80fc08c3812243dcacdfd26231f62a22",
       "value": "<i><b>C:\\Users\\LENOVO\\Documents</b><i>"
      }
     },
     "8d7e317e42274a649b3141d821d58148": {
      "model_module": "@jupyter-widgets/controls",
      "model_module_version": "1.1.0",
      "model_name": "ButtonModel",
      "state": {
       "description": "Boxplot",
       "icon": "check",
       "layout": "IPY_MODEL_6dee5288b9064f85b228551c0be6c0c8",
       "style": "IPY_MODEL_ee0f9143b1cd42b5849a28c316c75556",
       "tooltip": "Click me"
      }
     },
     "8dfd0508c78d4f5db0ac1d7b452eda1a": {
      "model_module": "@jupyter-widgets/controls",
      "model_module_version": "1.1.0",
      "model_name": "ButtonModel",
      "state": {
       "description": "Potential Scams!!",
       "icon": "check",
       "layout": "IPY_MODEL_c4578dc89a094a94b833f23c73d8d789",
       "style": "IPY_MODEL_1bf8bee75d58464986fa5c1588cd86f4",
       "tooltip": "Click me"
      }
     },
     "8e01368b3ce14a8cb7160dab34b39bec": {
      "model_module": "@jupyter-widgets/controls",
      "model_module_version": "1.1.0",
      "model_name": "DescriptionStyleModel",
      "state": {
       "description_width": ""
      }
     },
     "8e233f242f634e04ba3d51138ed09a5d": {
      "model_module": "@jupyter-widgets/base",
      "model_module_version": "1.0.0",
      "model_name": "LayoutModel",
      "state": {}
     },
     "8e62db69dc3b4f289cf2752d60482f4c": {
      "model_module": "@jupyter-widgets/base",
      "model_module_version": "1.0.0",
      "model_name": "LayoutModel",
      "state": {}
     },
     "8f523e0619724d6da39f7fde67a9dbd4": {
      "model_module": "@jupyter-widgets/controls",
      "model_module_version": "1.1.0",
      "model_name": "ToggleButtonsModel",
      "state": {
       "_options_labels": [
        "Head",
        "Random",
        "Sample"
       ],
       "button_style": "",
       "description": "View Method:",
       "icons": [],
       "index": 0,
       "layout": "IPY_MODEL_9a366ed8c0b34de2bdbad6cd059b1fbe",
       "style": "IPY_MODEL_ffd357582ba041d4a6f291e157128c30",
       "tooltips": [
        "Description of slow",
        "Description of regular",
        "Description of fast"
       ]
      }
     },
     "908f776206db443bbbd17906bd21079a": {
      "model_module": "@jupyter-widgets/controls",
      "model_module_version": "1.1.0",
      "model_name": "VBoxModel",
      "state": {
       "children": [
        "IPY_MODEL_a19472d2bf1c4ed781871ef76a20a01f",
        "IPY_MODEL_823f006e17cc4828af49aaf5b365f0d9"
       ],
       "layout": "IPY_MODEL_4784c116301346c48958cbd9b6e2a5c2"
      }
     },
     "90d392422a4e4d6fb8efa2fa908a1b79": {
      "model_module": "@jupyter-widgets/controls",
      "model_module_version": "1.1.0",
      "model_name": "ButtonStyleModel",
      "state": {}
     },
     "911ef437d99b454990b1385146f865fb": {
      "model_module": "@jupyter-widgets/base",
      "model_module_version": "1.0.0",
      "model_name": "LayoutModel",
      "state": {}
     },
     "9120bf53b8964b9c9f069cd8226fe906": {
      "model_module": "@jupyter-widgets/base",
      "model_module_version": "1.0.0",
      "model_name": "LayoutModel",
      "state": {}
     },
     "9128ebc960c64108a996bf13c63c3165": {
      "model_module": "@jupyter-widgets/controls",
      "model_module_version": "1.1.0",
      "model_name": "DescriptionStyleModel",
      "state": {
       "description_width": ""
      }
     },
     "91ccf868e684456aa02edd0c9e3afbed": {
      "model_module": "@jupyter-widgets/base",
      "model_module_version": "1.0.0",
      "model_name": "LayoutModel",
      "state": {}
     },
     "920d8ade4745445f891a44fb0620bb62": {
      "model_module": "@jupyter-widgets/controls",
      "model_module_version": "1.1.0",
      "model_name": "VBoxModel",
      "state": {
       "children": [
        "IPY_MODEL_291438f326054acdaa45f5badf672dc0",
        "IPY_MODEL_74f656a1e974496e86d2af3e71dae701"
       ],
       "layout": "IPY_MODEL_7950c32f545f4928903567190c72cf2f"
      }
     },
     "9277baef46b24e66ae6079d3342126c8": {
      "model_module": "@jupyter-widgets/controls",
      "model_module_version": "1.1.0",
      "model_name": "VBoxModel",
      "state": {
       "children": [
        "IPY_MODEL_db5eaa7a0c66490aa37b63f36ee264c0",
        "IPY_MODEL_17cb28b44aca474f8b49243527ed1be9"
       ],
       "layout": "IPY_MODEL_cedd94bb1de74becb9ec2daa794de9b2"
      }
     },
     "930955ec3a224052a7f4e63d9d3050b6": {
      "model_module": "@jupyter-widgets/controls",
      "model_module_version": "1.1.0",
      "model_name": "VBoxModel",
      "state": {
       "children": [
        "IPY_MODEL_70fdea4024b94bbbb93b9df31b9d7156",
        "IPY_MODEL_ba618063ccf343ef9738ec005d2fe4c2"
       ],
       "layout": "IPY_MODEL_643dc1cb471c406cba7ff55ed6bdf407"
      }
     },
     "93265decb7bb43a5adc40f735ebfad41": {
      "model_module": "@jupyter-widgets/base",
      "model_module_version": "1.0.0",
      "model_name": "LayoutModel",
      "state": {}
     },
     "936b7a70cf794629871ec09b5b537da4": {
      "model_module": "@jupyter-widgets/controls",
      "model_module_version": "1.1.0",
      "model_name": "AccordionModel",
      "state": {
       "_titles": {
        "0": "Scrap"
       },
       "children": [
        "IPY_MODEL_03b9fb887c924cc0a360235b61087dd1"
       ],
       "layout": "IPY_MODEL_340b7b3611304d57b8e49115ec11d7af"
      }
     },
     "93ec4b32d0154c138a5d15ceed30c7e3": {
      "model_module": "@jupyter-widgets/base",
      "model_module_version": "1.0.0",
      "model_name": "LayoutModel",
      "state": {}
     },
     "9415163214b34129a7aca3e686ff37e0": {
      "model_module": "@jupyter-widgets/base",
      "model_module_version": "1.0.0",
      "model_name": "LayoutModel",
      "state": {}
     },
     "9576f7fe000e46e58bd58e8d79c5b614": {
      "model_module": "@jupyter-widgets/controls",
      "model_module_version": "1.1.0",
      "model_name": "DropdownModel",
      "state": {
       "_options_labels": [
        "5",
        "6",
        "7",
        "8",
        "9",
        "10"
       ],
       "description": "Random:",
       "index": 0,
       "layout": "IPY_MODEL_2503a9fd007741ba98505e762700029e",
       "style": "IPY_MODEL_6d172832e173423fb5be660c3c25af58"
      }
     },
     "96334ef434bd4373961587bd645290ed": {
      "model_module": "@jupyter-widgets/controls",
      "model_module_version": "1.1.0",
      "model_name": "VBoxModel",
      "state": {
       "children": [
        "IPY_MODEL_640d8d37fff0484090663811c22acf6f",
        "IPY_MODEL_b3ee4496b7b34a38860dfa2f4669bb1d"
       ],
       "layout": "IPY_MODEL_e8079ce22d81405e8b573fe4d9bc340c"
      }
     },
     "978cb2932be448e08c5567178b0196f8": {
      "model_module": "@jupyter-widgets/controls",
      "model_module_version": "1.1.0",
      "model_name": "DescriptionStyleModel",
      "state": {
       "description_width": ""
      }
     },
     "9795d8c9f5314753a2febc7796400c4f": {
      "model_module": "@jupyter-widgets/controls",
      "model_module_version": "1.1.0",
      "model_name": "AccordionModel",
      "state": {
       "_titles": {
        "0": "Source",
        "1": "Save",
        "2": "Scrap"
       },
       "children": [
        "IPY_MODEL_437a73b913c6406b97dc7bf34c5580db",
        "IPY_MODEL_7bb623a4622242bcb17132c9b7b1977f",
        "IPY_MODEL_3d6cbd61afe44619ba9fe847ddabbee4"
       ],
       "layout": "IPY_MODEL_78db1ec0febc4bf6bab259bd38df3d3d"
      }
     },
     "98f7529d31154cfc8477634278914428": {
      "model_module": "@jupyter-widgets/base",
      "model_module_version": "1.0.0",
      "model_name": "LayoutModel",
      "state": {}
     },
     "9931031ea8244ce4b54608547e5368db": {
      "model_module": "@jupyter-widgets/controls",
      "model_module_version": "1.1.0",
      "model_name": "ButtonModel",
      "state": {
       "description": "Click me",
       "icon": "check",
       "layout": "IPY_MODEL_e6609b3a74804c1199ef7bff9051168a",
       "style": "IPY_MODEL_faf850037c834624a2c23eaa500fa8a8",
       "tooltip": "Click me"
      }
     },
     "9a366ed8c0b34de2bdbad6cd059b1fbe": {
      "model_module": "@jupyter-widgets/base",
      "model_module_version": "1.0.0",
      "model_name": "LayoutModel",
      "state": {}
     },
     "9ac92aaf52a947d28cc67e9b25deb34c": {
      "model_module": "@jupyter-widgets/controls",
      "model_module_version": "1.1.0",
      "model_name": "DescriptionStyleModel",
      "state": {
       "description_width": ""
      }
     },
     "9b14006955664a49980750e7fe80a7e2": {
      "model_module": "@jupyter-widgets/controls",
      "model_module_version": "1.1.0",
      "model_name": "TextModel",
      "state": {
       "description": "Folder Path:",
       "layout": "IPY_MODEL_6514f4e9d41f4eb48fedde71758daf0b",
       "placeholder": "Paste folder path to save",
       "style": "IPY_MODEL_a89c7d4c050b46c5959a67caa0435a6a"
      }
     },
     "9e23e905c78f41abba4f3af83d0d2012": {
      "model_module": "@jupyter-widgets/base",
      "model_module_version": "1.0.0",
      "model_name": "LayoutModel",
      "state": {}
     },
     "9e6b2fb55acd4f4684c4f41d150fda76": {
      "model_module": "@jupyter-widgets/output",
      "model_module_version": "1.0.0",
      "model_name": "OutputModel",
      "state": {
       "layout": "IPY_MODEL_a452d4e34fad42bb9ac0fa245816cb78"
      }
     },
     "9ec484f1d4114086a88d3e3e165297ac": {
      "model_module": "@jupyter-widgets/controls",
      "model_module_version": "1.1.0",
      "model_name": "AccordionModel",
      "state": {
       "_titles": {
        "0": "Scrap"
       },
       "children": [
        "IPY_MODEL_920d8ade4745445f891a44fb0620bb62"
       ],
       "layout": "IPY_MODEL_4adfbab011124dad8353e9dcd3d0299d"
      }
     },
     "9f3313102cdb4d958d83fa6dfdcf8abb": {
      "model_module": "@jupyter-widgets/base",
      "model_module_version": "1.0.0",
      "model_name": "LayoutModel",
      "state": {}
     },
     "9f9cb2a9050a415d8f55916d761a644f": {
      "model_module": "@jupyter-widgets/controls",
      "model_module_version": "1.1.0",
      "model_name": "TabModel",
      "state": {
       "_titles": {
        "0": "Extaction",
        "1": "S"
       },
       "children": [
        "IPY_MODEL_ee4cdbfba38e4623ab63a672778861b9",
        "IPY_MODEL_9ec484f1d4114086a88d3e3e165297ac"
       ],
       "layout": "IPY_MODEL_4d38dd96b27e4edc9ac2aebf7eb1efbd",
       "selected_index": 1
      }
     },
     "a0498110ecf542a0a21e8c7b4f0e97bd": {
      "model_module": "@jupyter-widgets/base",
      "model_module_version": "1.0.0",
      "model_name": "LayoutModel",
      "state": {}
     },
     "a0a0c0a5cc8849e9825d954020026527": {
      "model_module": "@jupyter-widgets/controls",
      "model_module_version": "1.1.0",
      "model_name": "HTMLModel",
      "state": {
       "layout": "IPY_MODEL_5bf4792a8a5545e98c2376f7e762a703",
       "placeholder": "",
       "style": "IPY_MODEL_78a7780dadd14bd09e9e4ca06d343ca7",
       "value": "Apply <b>Data Mining<b> Method!!"
      }
     },
     "a0c870f0ea714abdb025835f7b747993": {
      "model_module": "@jupyter-widgets/controls",
      "model_module_version": "1.1.0",
      "model_name": "DropdownModel",
      "state": {
       "_options_labels": [
        "-",
        "5",
        "6",
        "7",
        "8",
        "9",
        "10"
       ],
       "description": "Tail:",
       "index": 0,
       "layout": "IPY_MODEL_2eaafbbfad1840358c2a2ff9eed8f5d8",
       "style": "IPY_MODEL_b07f60cd489c4fcfb3db8e847268ac89"
      }
     },
     "a1293ed91b9d460c9055ce84eff1e8f9": {
      "model_module": "@jupyter-widgets/base",
      "model_module_version": "1.0.0",
      "model_name": "LayoutModel",
      "state": {}
     },
     "a19472d2bf1c4ed781871ef76a20a01f": {
      "model_module": "@jupyter-widgets/controls",
      "model_module_version": "1.1.0",
      "model_name": "HTMLModel",
      "state": {
       "layout": "IPY_MODEL_b094964f3fe4440c924cf84ec4d539a1",
       "placeholder": "",
       "style": "IPY_MODEL_2d45b9a32ba241a6abe25967bd8e02d9",
       "value": "<b>Choose to view and compare by attributes<b>"
      }
     },
     "a1b027a80cb94f0b801855c3856d59c1": {
      "model_module": "@jupyter-widgets/controls",
      "model_module_version": "1.1.0",
      "model_name": "DescriptionStyleModel",
      "state": {
       "description_width": ""
      }
     },
     "a1bbfa94730a45e896af85895ab4f2cf": {
      "model_module": "@jupyter-widgets/base",
      "model_module_version": "1.0.0",
      "model_name": "LayoutModel",
      "state": {}
     },
     "a218bd58ad774cf5be216dc8e558af62": {
      "model_module": "@jupyter-widgets/controls",
      "model_module_version": "1.1.0",
      "model_name": "VBoxModel",
      "state": {
       "children": [
        "IPY_MODEL_f0e7f876d6de48c887e28e12aca33e72",
        "IPY_MODEL_9e6b2fb55acd4f4684c4f41d150fda76"
       ],
       "layout": "IPY_MODEL_c21b762f2e5c4cb896012479891d2c46"
      }
     },
     "a2ccfd52d8d04df288fb2115622e601c": {
      "model_module": "@jupyter-widgets/controls",
      "model_module_version": "1.1.0",
      "model_name": "VBoxModel",
      "state": {
       "children": [
        "IPY_MODEL_34d9c9d70a1c466e8163e265eb384a5c",
        "IPY_MODEL_06764c74d0fc4d9bb74f6786e6297cb6"
       ],
       "layout": "IPY_MODEL_e49eb088621d4d18a01f86abc3de0186"
      }
     },
     "a3175239c0d8456191894b8bfcae89b6": {
      "model_module": "@jupyter-widgets/base",
      "model_module_version": "1.0.0",
      "model_name": "LayoutModel",
      "state": {}
     },
     "a378240bf862488b8662dd28e693f241": {
      "model_module": "@jupyter-widgets/base",
      "model_module_version": "1.0.0",
      "model_name": "LayoutModel",
      "state": {}
     },
     "a380388bb4ae412a841b08bfc1564153": {
      "model_module": "@jupyter-widgets/controls",
      "model_module_version": "1.1.0",
      "model_name": "ButtonStyleModel",
      "state": {}
     },
     "a3a91e793af44b628295606b21af0b1a": {
      "model_module": "@jupyter-widgets/base",
      "model_module_version": "1.0.0",
      "model_name": "LayoutModel",
      "state": {}
     },
     "a4480917bef24993b5d962a762fd2a0c": {
      "model_module": "@jupyter-widgets/base",
      "model_module_version": "1.0.0",
      "model_name": "LayoutModel",
      "state": {}
     },
     "a452d4e34fad42bb9ac0fa245816cb78": {
      "model_module": "@jupyter-widgets/base",
      "model_module_version": "1.0.0",
      "model_name": "LayoutModel",
      "state": {}
     },
     "a466e5de43fa4b73a0959891fe594d46": {
      "model_module": "@jupyter-widgets/base",
      "model_module_version": "1.0.0",
      "model_name": "LayoutModel",
      "state": {}
     },
     "a545a81748f64286b17545d767e3423c": {
      "model_module": "@jupyter-widgets/controls",
      "model_module_version": "1.1.0",
      "model_name": "HTMLModel",
      "state": {
       "description": "Sample Link:",
       "layout": "IPY_MODEL_a638ac8a117e4d7686bb7972110055d0",
       "placeholder": "",
       "style": "IPY_MODEL_e315c1f390274d9792ccf15750607220",
       "value": "<i><b>https://www.mudah.my/malaysia/cars-for-sale?o=1&q=&th=1</b><i>"
      }
     },
     "a558090a62fb408ba2bb3225ce9c7cb8": {
      "model_module": "@jupyter-widgets/controls",
      "model_module_version": "1.1.0",
      "model_name": "VBoxModel",
      "state": {
       "children": [
        "IPY_MODEL_8d177eee05dc478f92c66698d8612381",
        "IPY_MODEL_bc07d51c7bd049b6b214422ef3b7ce70",
        "IPY_MODEL_e767bb4486b149b3a8c4721029779486",
        "IPY_MODEL_a56078b5fb524adba1559811a4f8be64"
       ],
       "layout": "IPY_MODEL_5a34d356053f4787b6b10728c9dea86e"
      }
     },
     "a56078b5fb524adba1559811a4f8be64": {
      "model_module": "@jupyter-widgets/controls",
      "model_module_version": "1.1.0",
      "model_name": "TextModel",
      "state": {
       "description": "CSV file:",
       "layout": "IPY_MODEL_8e233f242f634e04ba3d51138ed09a5d",
       "placeholder": "Name of cleaned csv file",
       "style": "IPY_MODEL_b68f160dbb514798ab987768c9bf3669"
      }
     },
     "a5d7e128619942edb852017e26b8018c": {
      "model_module": "@jupyter-widgets/controls",
      "model_module_version": "1.1.0",
      "model_name": "ToggleButtonsStyleModel",
      "state": {
       "button_width": "",
       "description_width": ""
      }
     },
     "a60b50459d2a44d8951bb37c457a4a8d": {
      "model_module": "@jupyter-widgets/controls",
      "model_module_version": "1.1.0",
      "model_name": "ButtonStyleModel",
      "state": {}
     },
     "a638ac8a117e4d7686bb7972110055d0": {
      "model_module": "@jupyter-widgets/base",
      "model_module_version": "1.0.0",
      "model_name": "LayoutModel",
      "state": {}
     },
     "a67e00c2fbc841f5af9dad5ae5b741c5": {
      "model_module": "@jupyter-widgets/base",
      "model_module_version": "1.0.0",
      "model_name": "LayoutModel",
      "state": {}
     },
     "a76f4fbdc6f9446a8fd13716476da495": {
      "model_module": "@jupyter-widgets/base",
      "model_module_version": "1.0.0",
      "model_name": "LayoutModel",
      "state": {}
     },
     "a89c7d4c050b46c5959a67caa0435a6a": {
      "model_module": "@jupyter-widgets/controls",
      "model_module_version": "1.1.0",
      "model_name": "DescriptionStyleModel",
      "state": {
       "description_width": ""
      }
     },
     "aa984f7983744fa4b8fca94eb8f6dfbf": {
      "model_module": "@jupyter-widgets/controls",
      "model_module_version": "1.1.0",
      "model_name": "DescriptionStyleModel",
      "state": {
       "description_width": ""
      }
     },
     "aa998e6d0f544f9b83e13838f2c99aa7": {
      "model_module": "@jupyter-widgets/controls",
      "model_module_version": "1.1.0",
      "model_name": "ButtonStyleModel",
      "state": {}
     },
     "ab0ec69de24c4ec68ea5c4c772d0ff6a": {
      "model_module": "@jupyter-widgets/controls",
      "model_module_version": "1.1.0",
      "model_name": "DescriptionStyleModel",
      "state": {
       "description_width": ""
      }
     },
     "abe6357e447d4e2fb079b50954110637": {
      "model_module": "@jupyter-widgets/base",
      "model_module_version": "1.0.0",
      "model_name": "LayoutModel",
      "state": {}
     },
     "ac0cef52fe644955a74e6dfe122f460d": {
      "model_module": "@jupyter-widgets/controls",
      "model_module_version": "1.1.0",
      "model_name": "ToggleButtonsModel",
      "state": {
       "_options_labels": [
        "Head",
        "Random",
        "Sample"
       ],
       "button_style": "",
       "description": "View Method:",
       "icons": [],
       "index": 2,
       "layout": "IPY_MODEL_830f1d6e4fd24bd6b4fd7e325e3d38bc",
       "style": "IPY_MODEL_6d29524ba45340d28f9690f04ef60c72",
       "tooltips": [
        "Description of slow",
        "Description of regular",
        "Description of fast"
       ]
      }
     },
     "acfaffa50d014fab9fdc1153fb678acd": {
      "model_module": "@jupyter-widgets/base",
      "model_module_version": "1.0.0",
      "model_name": "LayoutModel",
      "state": {}
     },
     "ae02cd9dad5d41b99921ad60a98efc5f": {
      "model_module": "@jupyter-widgets/base",
      "model_module_version": "1.0.0",
      "model_name": "LayoutModel",
      "state": {}
     },
     "aec23f3204a04c299c812acba3fa72cb": {
      "model_module": "@jupyter-widgets/controls",
      "model_module_version": "1.1.0",
      "model_name": "DescriptionStyleModel",
      "state": {
       "description_width": ""
      }
     },
     "af3178c8d8d64b148b2a58881735c0e7": {
      "model_module": "@jupyter-widgets/controls",
      "model_module_version": "1.1.0",
      "model_name": "TextModel",
      "state": {
       "description": "Link:",
       "layout": "IPY_MODEL_ff6499bae858429ab9d6b37ef2a159fd",
       "placeholder": "Paste your mudah.my link here",
       "style": "IPY_MODEL_aec23f3204a04c299c812acba3fa72cb"
      }
     },
     "af464d4c27ac4cbc9b91795427c5d0db": {
      "model_module": "@jupyter-widgets/controls",
      "model_module_version": "1.1.0",
      "model_name": "DescriptionStyleModel",
      "state": {
       "description_width": ""
      }
     },
     "b05018464eed4886b0d7e6199f54125f": {
      "model_module": "@jupyter-widgets/base",
      "model_module_version": "1.0.0",
      "model_name": "LayoutModel",
      "state": {}
     },
     "b07f60cd489c4fcfb3db8e847268ac89": {
      "model_module": "@jupyter-widgets/controls",
      "model_module_version": "1.1.0",
      "model_name": "DescriptionStyleModel",
      "state": {
       "description_width": ""
      }
     },
     "b094964f3fe4440c924cf84ec4d539a1": {
      "model_module": "@jupyter-widgets/base",
      "model_module_version": "1.0.0",
      "model_name": "LayoutModel",
      "state": {}
     },
     "b0a2a55b06e54859a6d8b088b631a2e0": {
      "model_module": "@jupyter-widgets/controls",
      "model_module_version": "1.1.0",
      "model_name": "DescriptionStyleModel",
      "state": {
       "description_width": ""
      }
     },
     "b1a27e6b3e49444cbf4724649fd72f5b": {
      "model_module": "@jupyter-widgets/controls",
      "model_module_version": "1.1.0",
      "model_name": "ButtonStyleModel",
      "state": {}
     },
     "b1d3d0d2523446528ab5532399978e55": {
      "model_module": "@jupyter-widgets/base",
      "model_module_version": "1.0.0",
      "model_name": "LayoutModel",
      "state": {}
     },
     "b28d892466134cf6b69f03ad873116f0": {
      "model_module": "@jupyter-widgets/controls",
      "model_module_version": "1.1.0",
      "model_name": "VBoxModel",
      "state": {
       "children": [
        "IPY_MODEL_8d177eee05dc478f92c66698d8612381",
        "IPY_MODEL_7500865d96ca4f1dbbe71bbe3f3ec2a7",
        "IPY_MODEL_f8aeb875926c4facb8aaa0fa4152351a",
        "IPY_MODEL_cd93df0abb2045b1b0b942da07048171"
       ],
       "layout": "IPY_MODEL_d8891604d5684823a08bae2ee79f2d29"
      }
     },
     "b2959d14829b4d19aedaebcae92de2fd": {
      "model_module": "@jupyter-widgets/base",
      "model_module_version": "1.0.0",
      "model_name": "LayoutModel",
      "state": {}
     },
     "b2c0b05c51c04562bde1bc77c4cf78cd": {
      "model_module": "@jupyter-widgets/base",
      "model_module_version": "1.0.0",
      "model_name": "LayoutModel",
      "state": {}
     },
     "b2c809e7852e4caab304a484f30da39c": {
      "model_module": "@jupyter-widgets/controls",
      "model_module_version": "1.1.0",
      "model_name": "TabModel",
      "state": {
       "_titles": {
        "0": "1. Extaction",
        "1": "2. Data",
        "2": "3. Evaluation"
       },
       "children": [
        "IPY_MODEL_c1aed1dbd974447390e3105e74d28fa1",
        "IPY_MODEL_1a30954b1cde44f180632b27f3a86c67",
        "IPY_MODEL_f96682b78602466f83d573ae8d37047e"
       ],
       "layout": "IPY_MODEL_4296f1d3e97340f8a9e636412e3a3cba",
       "selected_index": 2
      }
     },
     "b38353b32753462aad0a98d0d2bf3f3a": {
      "model_module": "@jupyter-widgets/controls",
      "model_module_version": "1.1.0",
      "model_name": "TextModel",
      "state": {
       "description": "CSV file:",
       "layout": "IPY_MODEL_cce26becebab4d35aa1f952d8fd5958b",
       "placeholder": "Name your scrap csv file",
       "style": "IPY_MODEL_3b0a015d1c7843eaafaeb350d66db6f0"
      }
     },
     "b3cea728cb5a460c91930e3796260e8a": {
      "model_module": "@jupyter-widgets/base",
      "model_module_version": "1.0.0",
      "model_name": "LayoutModel",
      "state": {}
     },
     "b3ee4496b7b34a38860dfa2f4669bb1d": {
      "model_module": "@jupyter-widgets/controls",
      "model_module_version": "1.1.0",
      "model_name": "ButtonModel",
      "state": {
       "description": "Click Me!!",
       "icon": "check",
       "layout": "IPY_MODEL_40e4c9f7d73b4c3497ebd441daf31eef",
       "style": "IPY_MODEL_8b99463da8ce4fd898bad221cf982610",
       "tooltip": "Click me"
      }
     },
     "b4a4b72ad0324362bb982cdef43f5ca8": {
      "model_module": "@jupyter-widgets/controls",
      "model_module_version": "1.1.0",
      "model_name": "AccordionModel",
      "state": {
       "_titles": {
        "0": "Upload",
        "1": "View"
       },
       "children": [
        "IPY_MODEL_caa4e06876014c03a4154d95d5a12b1c",
        "IPY_MODEL_52623dd87ee446e4a010265993b5d82b"
       ],
       "layout": "IPY_MODEL_5b639445c873418286989b251a61138b"
      }
     },
     "b4de0c4539d04725a69a5a45ca891d65": {
      "model_module": "@jupyter-widgets/base",
      "model_module_version": "1.0.0",
      "model_name": "LayoutModel",
      "state": {}
     },
     "b4f5d419989446eba4da349d74e907f1": {
      "model_module": "@jupyter-widgets/controls",
      "model_module_version": "1.1.0",
      "model_name": "HTMLModel",
      "state": {
       "description": "Sample Link:",
       "layout": "IPY_MODEL_d9cc06d522674169806c81b152464211",
       "placeholder": "",
       "style": "IPY_MODEL_02ea4ed28071428b8a497e1e2247aca4",
       "value": "<i><b>https://www.mudah.my/malaysia/cars-for-sale?o=1&q=&th=1</b><i>"
      }
     },
     "b539b75593784c3abad56cd0ce0f1c69": {
      "model_module": "@jupyter-widgets/controls",
      "model_module_version": "1.1.0",
      "model_name": "ButtonStyleModel",
      "state": {}
     },
     "b5ba8def33734762a1553df7308ee799": {
      "model_module": "@jupyter-widgets/controls",
      "model_module_version": "1.1.0",
      "model_name": "TabModel",
      "state": {
       "_titles": {
        "0": "1. Extaction",
        "1": "2. Data",
        "2": "3. Evaluation"
       },
       "children": [
        "IPY_MODEL_c1aed1dbd974447390e3105e74d28fa1",
        "IPY_MODEL_b4a4b72ad0324362bb982cdef43f5ca8",
        "IPY_MODEL_fc1e7c997c12448d936f0dacc5166473"
       ],
       "layout": "IPY_MODEL_f91d568c99cf4654a7eaab04d7053ccf",
       "selected_index": 1
      }
     },
     "b5f9e27eddad4af38a41949ec6e09f81": {
      "model_module": "@jupyter-widgets/controls",
      "model_module_version": "1.1.0",
      "model_name": "DescriptionStyleModel",
      "state": {
       "description_width": ""
      }
     },
     "b6294524e98545f2a3092ac9b03cc4f7": {
      "model_module": "@jupyter-widgets/controls",
      "model_module_version": "1.1.0",
      "model_name": "DescriptionStyleModel",
      "state": {
       "description_width": ""
      }
     },
     "b68f160dbb514798ab987768c9bf3669": {
      "model_module": "@jupyter-widgets/controls",
      "model_module_version": "1.1.0",
      "model_name": "DescriptionStyleModel",
      "state": {
       "description_width": ""
      }
     },
     "b6de5d2a248249b68ff41f3a07334c64": {
      "model_module": "@jupyter-widgets/controls",
      "model_module_version": "1.1.0",
      "model_name": "HBoxModel",
      "state": {
       "children": [
        "IPY_MODEL_c277788803d94f98a50c95662b50d169",
        "IPY_MODEL_9576f7fe000e46e58bd58e8d79c5b614",
        "IPY_MODEL_71749f1dd77a4d5fbe3718110bc8b631"
       ],
       "layout": "IPY_MODEL_ffa9383df0114466b88807a9e29d9595"
      }
     },
     "b74141f1ed434d53af3780f02ebe0da6": {
      "model_module": "@jupyter-widgets/controls",
      "model_module_version": "1.1.0",
      "model_name": "VBoxModel",
      "state": {
       "children": [
        "IPY_MODEL_3db03be525d946e6b94134adf035c076",
        "IPY_MODEL_7500865d96ca4f1dbbe71bbe3f3ec2a7",
        "IPY_MODEL_fa67e536e28c4a23be7662f95e68f9d9",
        "IPY_MODEL_cd93df0abb2045b1b0b942da07048171"
       ],
       "layout": "IPY_MODEL_52317009b8344f2d85026dc6b7c1d8e0"
      }
     },
     "b8c2704276a640749b4a833bd7dda28e": {
      "model_module": "@jupyter-widgets/base",
      "model_module_version": "1.0.0",
      "model_name": "LayoutModel",
      "state": {}
     },
     "b9f4df305d614f74afb6bef966df9b0c": {
      "model_module": "@jupyter-widgets/controls",
      "model_module_version": "1.1.0",
      "model_name": "HTMLModel",
      "state": {
       "layout": "IPY_MODEL_835a523124004e6ab511a6b213733f5a",
       "placeholder": "",
       "style": "IPY_MODEL_55d07732a502419a8863643f636b73c1",
       "value": "<b>Choose to view and compare by attributes<b>!!"
      }
     },
     "b9f92f86ec4347a992164374089033de": {
      "model_module": "@jupyter-widgets/base",
      "model_module_version": "1.0.0",
      "model_name": "LayoutModel",
      "state": {}
     },
     "ba618063ccf343ef9738ec005d2fe4c2": {
      "model_module": "@jupyter-widgets/controls",
      "model_module_version": "1.1.0",
      "model_name": "SelectMultipleModel",
      "state": {
       "_options_labels": [
        "Price",
        "Year",
        "Mileage"
       ],
       "description": "Filter by",
       "index": [
        0
       ],
       "layout": "IPY_MODEL_6d30afcf0d304716bada29ee0fbd8cd0",
       "rows": 3,
       "style": "IPY_MODEL_5ea6f63f88374e0ab9fc1d988cda1e1f"
      }
     },
     "bae92aa8ae6141969865157c04f35226": {
      "model_module": "@jupyter-widgets/base",
      "model_module_version": "1.0.0",
      "model_name": "LayoutModel",
      "state": {}
     },
     "bb727ed9dd994528be70253f3323cf02": {
      "model_module": "@jupyter-widgets/controls",
      "model_module_version": "1.1.0",
      "model_name": "AccordionModel",
      "state": {
       "_titles": {
        "0": "Scrap"
       },
       "children": [
        "IPY_MODEL_4585d3ed2cc843609dfb4eeff3f0c9e6"
       ],
       "layout": "IPY_MODEL_a466e5de43fa4b73a0959891fe594d46"
      }
     },
     "bb8a1a2b848249e58aa8c2be3fd69c63": {
      "model_module": "@jupyter-widgets/controls",
      "model_module_version": "1.1.0",
      "model_name": "TextModel",
      "state": {
       "description": "CSV file:",
       "layout": "IPY_MODEL_f196b839cf764f64a658b14c2d221f5c",
       "placeholder": "Name your scrap csv file",
       "style": "IPY_MODEL_818174caa3a543ab826c503608883279"
      }
     },
     "bbe6e5f0d003414191693cad46aabe3f": {
      "model_module": "@jupyter-widgets/controls",
      "model_module_version": "1.1.0",
      "model_name": "TextModel",
      "state": {
       "description": "Link:",
       "layout": "IPY_MODEL_295034a33e844c8abc7bea0c3e1c3fb6",
       "placeholder": "Paste your mudah.my link here",
       "style": "IPY_MODEL_b5f9e27eddad4af38a41949ec6e09f81"
      }
     },
     "bc07d51c7bd049b6b214422ef3b7ce70": {
      "model_module": "@jupyter-widgets/controls",
      "model_module_version": "1.1.0",
      "model_name": "TextModel",
      "state": {
       "description": "Folder Path:",
       "layout": "IPY_MODEL_a0498110ecf542a0a21e8c7b4f0e97bd",
       "placeholder": "Upload cleaned dataset",
       "style": "IPY_MODEL_6ca2164e821a48a2b3db63fcac478a2a"
      }
     },
     "bc6d2493aa5641e385fadacb7794f575": {
      "model_module": "@jupyter-widgets/controls",
      "model_module_version": "1.1.0",
      "model_name": "VBoxModel",
      "state": {
       "children": [
        "IPY_MODEL_db5eaa7a0c66490aa37b63f36ee264c0",
        "IPY_MODEL_17cb28b44aca474f8b49243527ed1be9"
       ],
       "layout": "IPY_MODEL_2cd7771f8ff64ba3927f6803844a6720"
      }
     },
     "bcac3dd756a44448ab3d85ff0c8a831a": {
      "model_module": "@jupyter-widgets/controls",
      "model_module_version": "1.1.0",
      "model_name": "TextModel",
      "state": {
       "description": "Folder Path:",
       "layout": "IPY_MODEL_4dc6cb5c3f674fffb7d7e3499d648acc",
       "placeholder": "Paste folder path to upload dataset",
       "style": "IPY_MODEL_5660402b0924413c9b7ba747de832ad9"
      }
     },
     "bcfc4c6f86a44c9c901bdb29cd287a60": {
      "model_module": "@jupyter-widgets/controls",
      "model_module_version": "1.1.0",
      "model_name": "HTMLModel",
      "state": {
       "layout": "IPY_MODEL_32acb930aa1e43f4a7b3deed077fc685",
       "placeholder": "",
       "style": "IPY_MODEL_9128ebc960c64108a996bf13c63c3165",
       "value": "Apply <b>Data Mining<b> Method!!"
      }
     },
     "bd6174de829c4b3ba310227cddd66430": {
      "model_module": "@jupyter-widgets/base",
      "model_module_version": "1.0.0",
      "model_name": "LayoutModel",
      "state": {}
     },
     "bda66ee46d524d5babf019f84c3dc3e5": {
      "model_module": "@jupyter-widgets/controls",
      "model_module_version": "1.1.0",
      "model_name": "DescriptionStyleModel",
      "state": {
       "description_width": ""
      }
     },
     "be9144e4480d4342b40d8aeb5064bf53": {
      "model_module": "@jupyter-widgets/base",
      "model_module_version": "1.0.0",
      "model_name": "LayoutModel",
      "state": {}
     },
     "bec9c03c55664adbb61cb471f4a6042c": {
      "model_module": "@jupyter-widgets/controls",
      "model_module_version": "1.1.0",
      "model_name": "SelectMultipleModel",
      "state": {
       "_options_labels": [
        "Apples",
        "Oranges",
        "Pears"
       ],
       "description": "Fruits",
       "index": [
        0
       ],
       "layout": "IPY_MODEL_ae02cd9dad5d41b99921ad60a98efc5f",
       "rows": 10,
       "style": "IPY_MODEL_8e01368b3ce14a8cb7160dab34b39bec"
      }
     },
     "bf7a5f1bde2c473dba4e01fae132bcd8": {
      "model_module": "@jupyter-widgets/controls",
      "model_module_version": "1.1.0",
      "model_name": "DescriptionStyleModel",
      "state": {
       "description_width": ""
      }
     },
     "c0244e8a0f954e4da22a1ba05ccce602": {
      "model_module": "@jupyter-widgets/controls",
      "model_module_version": "1.1.0",
      "model_name": "VBoxModel",
      "state": {
       "children": [
        "IPY_MODEL_62680191192a49138b251b2882baf95d",
        "IPY_MODEL_03a21665b38741db96365e7b1e454f3e"
       ],
       "layout": "IPY_MODEL_cc4bc522e3064ead90b9e40a215df1f4"
      }
     },
     "c0aec00a18e148348ff73d7c18e7f53e": {
      "model_module": "@jupyter-widgets/controls",
      "model_module_version": "1.1.0",
      "model_name": "ToggleButtonsModel",
      "state": {
       "_options_labels": [
        "Slow",
        "Regular",
        "Fast"
       ],
       "button_style": "",
       "description": "Speed:",
       "icons": [],
       "index": 0,
       "layout": "IPY_MODEL_11d12137f9ed48daa7ceaa63de9a68cc",
       "style": "IPY_MODEL_a5d7e128619942edb852017e26b8018c",
       "tooltips": [
        "Description of slow",
        "Description of regular",
        "Description of fast"
       ]
      }
     },
     "c0c962a955ec492795f4dfb069d38909": {
      "model_module": "@jupyter-widgets/controls",
      "model_module_version": "1.1.0",
      "model_name": "AccordionModel",
      "state": {
       "_titles": {
        "0": "Method",
        "1": "Analysis"
       },
       "children": [
        "IPY_MODEL_bc6d2493aa5641e385fadacb7794f575",
        "IPY_MODEL_0079a07bf6d44e02a238381380df57d7"
       ],
       "layout": "IPY_MODEL_7a659544e95043f18c6dee4e2e5c5c7e",
       "selected_index": null
      }
     },
     "c156f65e96d64f958c212f4c31d42a5d": {
      "model_module": "@jupyter-widgets/base",
      "model_module_version": "1.0.0",
      "model_name": "LayoutModel",
      "state": {}
     },
     "c1aed1dbd974447390e3105e74d28fa1": {
      "model_module": "@jupyter-widgets/controls",
      "model_module_version": "1.1.0",
      "model_name": "AccordionModel",
      "state": {
       "_titles": {
        "0": "Source",
        "1": "Save",
        "2": "Scrap"
       },
       "children": [
        "IPY_MODEL_05e64599de61464197c776e254148a84",
        "IPY_MODEL_b28d892466134cf6b69f03ad873116f0",
        "IPY_MODEL_35d2226f985047118ae534105052d9fe"
       ],
       "layout": "IPY_MODEL_59bf44adf6094b8fa53e2545d336d181",
       "selected_index": 2
      }
     },
     "c21afa1d2aa74bb0ab7666ca1ee5a5aa": {
      "model_module": "@jupyter-widgets/controls",
      "model_module_version": "1.1.0",
      "model_name": "VBoxModel",
      "state": {
       "children": [
        "IPY_MODEL_db5eaa7a0c66490aa37b63f36ee264c0",
        "IPY_MODEL_17cb28b44aca474f8b49243527ed1be9"
       ],
       "layout": "IPY_MODEL_a378240bf862488b8662dd28e693f241"
      }
     },
     "c21b762f2e5c4cb896012479891d2c46": {
      "model_module": "@jupyter-widgets/base",
      "model_module_version": "1.0.0",
      "model_name": "LayoutModel",
      "state": {}
     },
     "c2422a6d5ac548878994c46bebc2b5ad": {
      "model_module": "@jupyter-widgets/controls",
      "model_module_version": "1.1.0",
      "model_name": "DescriptionStyleModel",
      "state": {
       "description_width": ""
      }
     },
     "c277788803d94f98a50c95662b50d169": {
      "model_module": "@jupyter-widgets/controls",
      "model_module_version": "1.1.0",
      "model_name": "DropdownModel",
      "state": {
       "_options_labels": [
        "5",
        "6",
        "7",
        "8",
        "9",
        "10"
       ],
       "description": "Head:",
       "index": 0,
       "layout": "IPY_MODEL_fc1bb578c25f491cbcb68541b1ef230f",
       "style": "IPY_MODEL_5c30fdfe2c8743c2a1bbd637329ed421"
      }
     },
     "c2a4d148db8d44cc92c50ff573a52d89": {
      "model_module": "@jupyter-widgets/controls",
      "model_module_version": "1.1.0",
      "model_name": "TabModel",
      "state": {
       "_titles": {
        "0": "1. Extaction",
        "1": "2. Data",
        "2": "3. Evaluation"
       },
       "children": [
        "IPY_MODEL_c1aed1dbd974447390e3105e74d28fa1",
        "IPY_MODEL_b4a4b72ad0324362bb982cdef43f5ca8",
        "IPY_MODEL_fc1e7c997c12448d936f0dacc5166473"
       ],
       "layout": "IPY_MODEL_6e274946859b41bf9d680e2193bf3644",
       "selected_index": 1
      }
     },
     "c2a766c3750c465a970c47c5cb79d792": {
      "model_module": "@jupyter-widgets/controls",
      "model_module_version": "1.1.0",
      "model_name": "VBoxModel",
      "state": {
       "children": [
        "IPY_MODEL_8d177eee05dc478f92c66698d8612381",
        "IPY_MODEL_bc07d51c7bd049b6b214422ef3b7ce70",
        "IPY_MODEL_e767bb4486b149b3a8c4721029779486",
        "IPY_MODEL_a56078b5fb524adba1559811a4f8be64"
       ],
       "layout": "IPY_MODEL_f143c31dbfa0462586073d124eb45078"
      }
     },
     "c30e50e0b5b2403c9b8c3502f438da6f": {
      "model_module": "@jupyter-widgets/base",
      "model_module_version": "1.0.0",
      "model_name": "LayoutModel",
      "state": {}
     },
     "c37734a9bb66430b8d523c6304ef5563": {
      "model_module": "@jupyter-widgets/base",
      "model_module_version": "1.0.0",
      "model_name": "LayoutModel",
      "state": {}
     },
     "c38d97f4c11d44dc970e0c15d08ab5f8": {
      "model_module": "@jupyter-widgets/controls",
      "model_module_version": "1.1.0",
      "model_name": "ToggleButtonsStyleModel",
      "state": {
       "button_width": "",
       "description_width": ""
      }
     },
     "c3ab26995a4c47699e6adb790597ba93": {
      "model_module": "@jupyter-widgets/base",
      "model_module_version": "1.0.0",
      "model_name": "LayoutModel",
      "state": {}
     },
     "c3d36a1efe3d40c3af63eb8114d973b7": {
      "model_module": "@jupyter-widgets/controls",
      "model_module_version": "1.1.0",
      "model_name": "AccordionModel",
      "state": {
       "_titles": {
        "0": "View"
       },
       "children": [
        "IPY_MODEL_ed290e66c6654befbd46c1202a36791d",
        "IPY_MODEL_06764c74d0fc4d9bb74f6786e6297cb6"
       ],
       "layout": "IPY_MODEL_32fc07a1ce8d41f485f9df97d407ac60"
      }
     },
     "c4130d3c04164f4b94d2e416173de5f7": {
      "model_module": "@jupyter-widgets/base",
      "model_module_version": "1.0.0",
      "model_name": "LayoutModel",
      "state": {}
     },
     "c4411c578ff34f4a960842497d9f6054": {
      "model_module": "@jupyter-widgets/base",
      "model_module_version": "1.0.0",
      "model_name": "LayoutModel",
      "state": {}
     },
     "c4578dc89a094a94b833f23c73d8d789": {
      "model_module": "@jupyter-widgets/base",
      "model_module_version": "1.0.0",
      "model_name": "LayoutModel",
      "state": {}
     },
     "c48f116147364a209a290fd3f6510a8f": {
      "model_module": "@jupyter-widgets/base",
      "model_module_version": "1.0.0",
      "model_name": "LayoutModel",
      "state": {}
     },
     "c523bc0aa71849d9913b2c20ec74a6ed": {
      "model_module": "@jupyter-widgets/controls",
      "model_module_version": "1.1.0",
      "model_name": "DescriptionStyleModel",
      "state": {
       "description_width": ""
      }
     },
     "c65ad905c3e54ce19c2d9cd773de5429": {
      "model_module": "@jupyter-widgets/controls",
      "model_module_version": "1.1.0",
      "model_name": "DescriptionStyleModel",
      "state": {
       "description_width": ""
      }
     },
     "c66a85db421448b0bcf2f35421fdffa5": {
      "model_module": "@jupyter-widgets/base",
      "model_module_version": "1.0.0",
      "model_name": "LayoutModel",
      "state": {}
     },
     "c6aafe73952e4b8aaca0a0094be33821": {
      "model_module": "@jupyter-widgets/base",
      "model_module_version": "1.0.0",
      "model_name": "LayoutModel",
      "state": {}
     },
     "c732092bb8bf442fb5c05f7db3c3760f": {
      "model_module": "@jupyter-widgets/base",
      "model_module_version": "1.0.0",
      "model_name": "LayoutModel",
      "state": {}
     },
     "c771f12830f74f9f85a866bbdbb55053": {
      "model_module": "@jupyter-widgets/controls",
      "model_module_version": "1.1.0",
      "model_name": "DropdownModel",
      "state": {
       "_options_labels": [
        "-",
        "5",
        "6",
        "7",
        "8",
        "9",
        "10"
       ],
       "description": "Random:",
       "index": 0,
       "layout": "IPY_MODEL_07eb8fd7bb2441f58ce99f6761a63285",
       "style": "IPY_MODEL_4550f1bc674e4bf78e339612304a9210"
      }
     },
     "c7bcfa3478574dd0b70e8be83c60081b": {
      "model_module": "@jupyter-widgets/base",
      "model_module_version": "1.0.0",
      "model_name": "LayoutModel",
      "state": {}
     },
     "c7d804ea2536490a84e9c6759e37c841": {
      "model_module": "@jupyter-widgets/controls",
      "model_module_version": "1.1.0",
      "model_name": "TextModel",
      "state": {
       "description": "P2",
       "layout": "IPY_MODEL_3d2fc07f9f8348e3a9919d925ba0f028",
       "style": "IPY_MODEL_171fb08161ce4952bf973ab192c9c7db"
      }
     },
     "c8d15c13917248d797fc2c29cdead5c4": {
      "model_module": "@jupyter-widgets/controls",
      "model_module_version": "1.1.0",
      "model_name": "AccordionModel",
      "state": {
       "_titles": {
        "0": "Upload"
       },
       "children": [
        "IPY_MODEL_525428188a274091a0d4e9f881b77465",
        "IPY_MODEL_06764c74d0fc4d9bb74f6786e6297cb6"
       ],
       "layout": "IPY_MODEL_84f0a864d5d04becab5faca83fccdcb2",
       "selected_index": null
      }
     },
     "c94cf7890706421d9cf3df96fce2e7cb": {
      "model_module": "@jupyter-widgets/base",
      "model_module_version": "1.0.0",
      "model_name": "LayoutModel",
      "state": {}
     },
     "c9cc336e049a4d4086cfd32125b8f751": {
      "model_module": "@jupyter-widgets/controls",
      "model_module_version": "1.1.0",
      "model_name": "DropdownModel",
      "state": {
       "_options_labels": [
        "-",
        "5",
        "6",
        "7",
        "8",
        "9",
        "10"
       ],
       "description": "Tail:",
       "index": 0,
       "layout": "IPY_MODEL_ddd03c8fa27d44a49f914f15db1a5506",
       "style": "IPY_MODEL_03500f75bbdd4cf98e44e60fed431dba"
      }
     },
     "ca06eade225943d6ba13e517edb25dae": {
      "model_module": "@jupyter-widgets/controls",
      "model_module_version": "1.1.0",
      "model_name": "TextModel",
      "state": {
       "description": "P1",
       "layout": "IPY_MODEL_76d010e575454fb5883ff4ae7c235358",
       "style": "IPY_MODEL_892d5dbb0ba840db875e0197f8ed42b3"
      }
     },
     "ca0713e0397d4380b5bf31e63b5f6993": {
      "model_module": "@jupyter-widgets/base",
      "model_module_version": "1.0.0",
      "model_name": "LayoutModel",
      "state": {}
     },
     "ca8d351ae662469c909ed3421eeac550": {
      "model_module": "@jupyter-widgets/base",
      "model_module_version": "1.0.0",
      "model_name": "LayoutModel",
      "state": {}
     },
     "caa4e06876014c03a4154d95d5a12b1c": {
      "model_module": "@jupyter-widgets/controls",
      "model_module_version": "1.1.0",
      "model_name": "VBoxModel",
      "state": {
       "children": [
        "IPY_MODEL_8d177eee05dc478f92c66698d8612381",
        "IPY_MODEL_bc07d51c7bd049b6b214422ef3b7ce70",
        "IPY_MODEL_bcfc4c6f86a44c9c901bdb29cd287a60",
        "IPY_MODEL_a56078b5fb524adba1559811a4f8be64"
       ],
       "layout": "IPY_MODEL_c7bcfa3478574dd0b70e8be83c60081b"
      }
     },
     "cb5ac99c20ec4b5aa428c7655d278fd9": {
      "model_module": "@jupyter-widgets/controls",
      "model_module_version": "1.1.0",
      "model_name": "DescriptionStyleModel",
      "state": {
       "description_width": ""
      }
     },
     "cba66c2d565249ca8594d3441be9eb08": {
      "model_module": "@jupyter-widgets/base",
      "model_module_version": "1.0.0",
      "model_name": "LayoutModel",
      "state": {}
     },
     "cbb8920d848e4a5f8731f4151a3baa1e": {
      "model_module": "@jupyter-widgets/base",
      "model_module_version": "1.0.0",
      "model_name": "LayoutModel",
      "state": {}
     },
     "cbe8392518d24b73a044acdf106db8c5": {
      "model_module": "@jupyter-widgets/controls",
      "model_module_version": "1.1.0",
      "model_name": "TabModel",
      "state": {
       "_titles": {
        "0": "0",
        "1": "1",
        "2": "2",
        "3": "3",
        "4": "4"
       },
       "children": [
        "IPY_MODEL_46ddcde60ead4692a26b6c4301e3019b",
        "IPY_MODEL_ca06eade225943d6ba13e517edb25dae",
        "IPY_MODEL_c7d804ea2536490a84e9c6759e37c841",
        "IPY_MODEL_2323a122ec3943d0bb69e8a30616abcc",
        "IPY_MODEL_70705bf3bc964084ab14730e50bc040b"
       ],
       "layout": "IPY_MODEL_a1bbfa94730a45e896af85895ab4f2cf"
      }
     },
     "cbff9fffeeeb4bd4aef2c21e1bbfcdf1": {
      "model_module": "@jupyter-widgets/base",
      "model_module_version": "1.0.0",
      "model_name": "LayoutModel",
      "state": {}
     },
     "cc4bc522e3064ead90b9e40a215df1f4": {
      "model_module": "@jupyter-widgets/base",
      "model_module_version": "1.0.0",
      "model_name": "LayoutModel",
      "state": {}
     },
     "cce26becebab4d35aa1f952d8fd5958b": {
      "model_module": "@jupyter-widgets/base",
      "model_module_version": "1.0.0",
      "model_name": "LayoutModel",
      "state": {}
     },
     "cd45d438a2a84a2cb8b4f7cc112b5b42": {
      "model_module": "@jupyter-widgets/controls",
      "model_module_version": "1.1.0",
      "model_name": "VBoxModel",
      "state": {
       "children": [
        "IPY_MODEL_37ab7a829cd34ba99557bfdf4ab96971",
        "IPY_MODEL_7bd7f1d7bcd04e95bc5fa623df37ed89"
       ],
       "layout": "IPY_MODEL_bae92aa8ae6141969865157c04f35226"
      }
     },
     "cd80819a4ac047d9a09a3dcb2f0e8742": {
      "model_module": "@jupyter-widgets/controls",
      "model_module_version": "1.1.0",
      "model_name": "TabModel",
      "state": {
       "_titles": {
        "0": "Extaction",
        "1": "S"
       },
       "children": [
        "IPY_MODEL_402b094c795446abb8d52292715b0a1a",
        "IPY_MODEL_3f74d09c09564759b1a288346709309b"
       ],
       "layout": "IPY_MODEL_a3a91e793af44b628295606b21af0b1a"
      }
     },
     "cd93df0abb2045b1b0b942da07048171": {
      "model_module": "@jupyter-widgets/controls",
      "model_module_version": "1.1.0",
      "model_name": "TextModel",
      "state": {
       "description": "CSV file:",
       "layout": "IPY_MODEL_f464a66e0395489ab9d1e1a36ffa0bb5",
       "placeholder": "Name your scrap csv file",
       "style": "IPY_MODEL_b0a2a55b06e54859a6d8b088b631a2e0"
      }
     },
     "cedd94bb1de74becb9ec2daa794de9b2": {
      "model_module": "@jupyter-widgets/base",
      "model_module_version": "1.0.0",
      "model_name": "LayoutModel",
      "state": {}
     },
     "cf47d31211714015965ed119ecb96b14": {
      "model_module": "@jupyter-widgets/controls",
      "model_module_version": "1.1.0",
      "model_name": "TextModel",
      "state": {
       "description": "Folder Path:",
       "layout": "IPY_MODEL_531a513f1e784ca781d75f3323e6472b",
       "placeholder": "Paste folder path to save",
       "style": "IPY_MODEL_0d0c6dd078d64e3c96506a0baaf66b26"
      }
     },
     "d0c6a75d6899449e86a34d540ff3e901": {
      "model_module": "@jupyter-widgets/controls",
      "model_module_version": "1.1.0",
      "model_name": "ToggleButtonsStyleModel",
      "state": {
       "button_width": "",
       "description_width": ""
      }
     },
     "d1796ecdf2eb4042bdf92aecc8f84d22": {
      "model_module": "@jupyter-widgets/controls",
      "model_module_version": "1.1.0",
      "model_name": "HTMLModel",
      "state": {
       "layout": "IPY_MODEL_1ca7b12e576647a1b9480a774619cc92",
       "placeholder": "",
       "style": "IPY_MODEL_dfd2eed81d744b3ab749d9d0be5532a0",
       "value": "Apply <b>Data Mining<b> Method!!"
      }
     },
     "d1aa5fe6aeeb4582912fd65992ec46eb": {
      "model_module": "@jupyter-widgets/base",
      "model_module_version": "1.0.0",
      "model_name": "LayoutModel",
      "state": {}
     },
     "d315109becab47f7ab0fce4729bea98c": {
      "model_module": "@jupyter-widgets/controls",
      "model_module_version": "1.1.0",
      "model_name": "ToggleButtonsStyleModel",
      "state": {
       "button_width": "",
       "description_width": ""
      }
     },
     "d45d33a1e2194a60a23b08e7edcc7354": {
      "model_module": "@jupyter-widgets/controls",
      "model_module_version": "1.1.0",
      "model_name": "TabModel",
      "state": {
       "_titles": {
        "0": "Extaction",
        "1": "Data",
        "2": "Evaluation"
       },
       "children": [
        "IPY_MODEL_c1aed1dbd974447390e3105e74d28fa1",
        "IPY_MODEL_d582e61083084dedbad12beaf8ce0014",
        "IPY_MODEL_fc1e7c997c12448d936f0dacc5166473"
       ],
       "layout": "IPY_MODEL_f1d9407bef4a47aeadb178bc3562c597",
       "selected_index": 2
      }
     },
     "d5307a475f0a45e6bbd0a87db65a2fbe": {
      "model_module": "@jupyter-widgets/controls",
      "model_module_version": "1.1.0",
      "model_name": "DescriptionStyleModel",
      "state": {
       "description_width": ""
      }
     },
     "d582e61083084dedbad12beaf8ce0014": {
      "model_module": "@jupyter-widgets/controls",
      "model_module_version": "1.1.0",
      "model_name": "AccordionModel",
      "state": {
       "_titles": {
        "0": "Upload",
        "1": "View"
       },
       "children": [
        "IPY_MODEL_32f656b48726451591581c80c47bee67",
        "IPY_MODEL_06764c74d0fc4d9bb74f6786e6297cb6"
       ],
       "layout": "IPY_MODEL_fc9e8660ec7d437da2ef932eff251a97",
       "selected_index": null
      }
     },
     "d59575575d2e4784924a4b0e43c62e3d": {
      "model_module": "@jupyter-widgets/controls",
      "model_module_version": "1.1.0",
      "model_name": "VBoxModel",
      "state": {
       "children": [
        "IPY_MODEL_db5eaa7a0c66490aa37b63f36ee264c0",
        "IPY_MODEL_17cb28b44aca474f8b49243527ed1be9"
       ],
       "layout": "IPY_MODEL_c3ab26995a4c47699e6adb790597ba93"
      }
     },
     "d74e2ce7a86649d582112567ce26cfd2": {
      "model_module": "@jupyter-widgets/controls",
      "model_module_version": "1.1.0",
      "model_name": "DescriptionStyleModel",
      "state": {
       "description_width": ""
      }
     },
     "d8891604d5684823a08bae2ee79f2d29": {
      "model_module": "@jupyter-widgets/base",
      "model_module_version": "1.0.0",
      "model_name": "LayoutModel",
      "state": {}
     },
     "d9b1744adb05487ca4faa52381132c79": {
      "model_module": "@jupyter-widgets/base",
      "model_module_version": "1.0.0",
      "model_name": "LayoutModel",
      "state": {}
     },
     "d9cc06d522674169806c81b152464211": {
      "model_module": "@jupyter-widgets/base",
      "model_module_version": "1.0.0",
      "model_name": "LayoutModel",
      "state": {}
     },
     "da5d87357f1e49d48ac1a7284fb106c6": {
      "model_module": "@jupyter-widgets/controls",
      "model_module_version": "1.1.0",
      "model_name": "VBoxModel",
      "state": {
       "children": [
        "IPY_MODEL_bc07d51c7bd049b6b214422ef3b7ce70",
        "IPY_MODEL_a56078b5fb524adba1559811a4f8be64"
       ],
       "layout": "IPY_MODEL_b9f92f86ec4347a992164374089033de"
      }
     },
     "dad161cc6adb4ac38310334f465e3176": {
      "model_module": "@jupyter-widgets/base",
      "model_module_version": "1.0.0",
      "model_name": "LayoutModel",
      "state": {}
     },
     "db5eaa7a0c66490aa37b63f36ee264c0": {
      "model_module": "@jupyter-widgets/controls",
      "model_module_version": "1.1.0",
      "model_name": "HTMLModel",
      "state": {
       "layout": "IPY_MODEL_756b08578b9f4f7e8a49db76a9b0ac1a",
       "placeholder": "",
       "style": "IPY_MODEL_e2b976a9df4343fc974a7cdb60323845",
       "value": "Apply <b>Data Mining<b> Method!!"
      }
     },
     "dbd87e67fb2b4933a9e77ec25634ceb6": {
      "model_module": "@jupyter-widgets/base",
      "model_module_version": "1.0.0",
      "model_name": "LayoutModel",
      "state": {}
     },
     "dcb0e02e6f524a6d8328af186842efa8": {
      "model_module": "@jupyter-widgets/base",
      "model_module_version": "1.0.0",
      "model_name": "LayoutModel",
      "state": {}
     },
     "dd6068bcfd2b4b309d9546a6bbb8044e": {
      "model_module": "@jupyter-widgets/base",
      "model_module_version": "1.0.0",
      "model_name": "LayoutModel",
      "state": {}
     },
     "dd6f7422a4b34c13b0807ccf7f579c22": {
      "model_module": "@jupyter-widgets/controls",
      "model_module_version": "1.1.0",
      "model_name": "AccordionModel",
      "state": {
       "_titles": {
        "0": "Upload",
        "1": "View"
       },
       "children": [
        "IPY_MODEL_a558090a62fb408ba2bb3225ce9c7cb8",
        "IPY_MODEL_2cbb5b4031204e0a85471ca30b6b00ec"
       ],
       "layout": "IPY_MODEL_608fd62f85404765b13e5fccc1297058",
       "selected_index": null
      }
     },
     "ddb7736d09204ae8b9bf6be194381ca3": {
      "model_module": "@jupyter-widgets/base",
      "model_module_version": "1.0.0",
      "model_name": "LayoutModel",
      "state": {}
     },
     "ddd03c8fa27d44a49f914f15db1a5506": {
      "model_module": "@jupyter-widgets/base",
      "model_module_version": "1.0.0",
      "model_name": "LayoutModel",
      "state": {}
     },
     "df4b673510ed4f6cac5bf2e7a4f6a5d6": {
      "model_module": "@jupyter-widgets/controls",
      "model_module_version": "1.1.0",
      "model_name": "VBoxModel",
      "state": {
       "children": [
        "IPY_MODEL_db5eaa7a0c66490aa37b63f36ee264c0",
        "IPY_MODEL_17cb28b44aca474f8b49243527ed1be9"
       ],
       "layout": "IPY_MODEL_52b72e357f1e4a7589fd6f542761b646"
      }
     },
     "df7c4d4181914b74a3cd1039cbd5abe0": {
      "model_module": "@jupyter-widgets/base",
      "model_module_version": "1.0.0",
      "model_name": "LayoutModel",
      "state": {}
     },
     "dfd2eed81d744b3ab749d9d0be5532a0": {
      "model_module": "@jupyter-widgets/controls",
      "model_module_version": "1.1.0",
      "model_name": "DescriptionStyleModel",
      "state": {
       "description_width": ""
      }
     },
     "dfd933b9c5234458861e026d4df8ff62": {
      "model_module": "@jupyter-widgets/controls",
      "model_module_version": "1.1.0",
      "model_name": "ButtonModel",
      "state": {
       "description": "Click Me",
       "icon": "check",
       "layout": "IPY_MODEL_5c3e8310a89c4a23978c75c28b633289",
       "style": "IPY_MODEL_7bd8a2be408d4bb7bf2ad594427b6870",
       "tooltip": "Click me"
      }
     },
     "e222e6cd72694a0798d3cf6e341d4ad3": {
      "model_module": "@jupyter-widgets/controls",
      "model_module_version": "1.1.0",
      "model_name": "SelectMultipleModel",
      "state": {
       "_options_labels": [
        "Apples",
        "Oranges",
        "Pears"
       ],
       "description": "Fruits",
       "index": [
        1
       ],
       "layout": "IPY_MODEL_09f465edb6214800b95fd051688dad09",
       "rows": 5,
       "style": "IPY_MODEL_282a2334a55d4625aecf7867d1dcfacf"
      }
     },
     "e27ece5d7472465aa16384cb7c4ce29d": {
      "model_module": "@jupyter-widgets/controls",
      "model_module_version": "1.1.0",
      "model_name": "DescriptionStyleModel",
      "state": {
       "description_width": ""
      }
     },
     "e2b976a9df4343fc974a7cdb60323845": {
      "model_module": "@jupyter-widgets/controls",
      "model_module_version": "1.1.0",
      "model_name": "DescriptionStyleModel",
      "state": {
       "description_width": ""
      }
     },
     "e315c1f390274d9792ccf15750607220": {
      "model_module": "@jupyter-widgets/controls",
      "model_module_version": "1.1.0",
      "model_name": "DescriptionStyleModel",
      "state": {
       "description_width": ""
      }
     },
     "e3c53de0a6ae4131856a9db0469cd2ed": {
      "model_module": "@jupyter-widgets/controls",
      "model_module_version": "1.1.0",
      "model_name": "DescriptionStyleModel",
      "state": {
       "description_width": ""
      }
     },
     "e49eb088621d4d18a01f86abc3de0186": {
      "model_module": "@jupyter-widgets/base",
      "model_module_version": "1.0.0",
      "model_name": "LayoutModel",
      "state": {}
     },
     "e51154120122431cb004772af26b1d95": {
      "model_module": "@jupyter-widgets/controls",
      "model_module_version": "1.1.0",
      "model_name": "HTMLModel",
      "state": {
       "description": "Some HTML",
       "layout": "IPY_MODEL_0833c0aa4ded48b3a6db349c065383b5",
       "placeholder": "Some HTML",
       "style": "IPY_MODEL_a1b027a80cb94f0b801855c3856d59c1",
       "value": "Hello <b>World</b>"
      }
     },
     "e5f27b0bbf8d4527a5dc0c268a6ae486": {
      "model_module": "@jupyter-widgets/controls",
      "model_module_version": "1.1.0",
      "model_name": "TextModel",
      "state": {
       "description": "Link:",
       "layout": "IPY_MODEL_19c580ec9e364aeb89d22b5f793cd39b",
       "placeholder": "Paste your mudah.my link here",
       "style": "IPY_MODEL_2c493d03c1d944e3bbac425221a9a49f"
      }
     },
     "e632bfda6f454887b03fa2883a84b4fc": {
      "model_module": "@jupyter-widgets/controls",
      "model_module_version": "1.1.0",
      "model_name": "DescriptionStyleModel",
      "state": {
       "description_width": ""
      }
     },
     "e64c0607a8e7422993cc7e5b32842d2f": {
      "model_module": "@jupyter-widgets/base",
      "model_module_version": "1.0.0",
      "model_name": "LayoutModel",
      "state": {}
     },
     "e655357e180c4973ba299d22816f4648": {
      "model_module": "@jupyter-widgets/controls",
      "model_module_version": "1.1.0",
      "model_name": "SelectMultipleModel",
      "state": {
       "_options_labels": [
        "Apples",
        "Oranges",
        "Pears"
       ],
       "description": "Fruits",
       "index": [
        1
       ],
       "layout": "IPY_MODEL_656640e192554550860cd60bfc5fc3b8",
       "rows": 5,
       "style": "IPY_MODEL_cb5ac99c20ec4b5aa428c7655d278fd9"
      }
     },
     "e6609b3a74804c1199ef7bff9051168a": {
      "model_module": "@jupyter-widgets/base",
      "model_module_version": "1.0.0",
      "model_name": "LayoutModel",
      "state": {}
     },
     "e6bfb93c3e5e43b994f543800e84c430": {
      "model_module": "@jupyter-widgets/controls",
      "model_module_version": "1.1.0",
      "model_name": "DescriptionStyleModel",
      "state": {
       "description_width": ""
      }
     },
     "e6de7fbefef74c63a909f6b15114aec7": {
      "model_module": "@jupyter-widgets/controls",
      "model_module_version": "1.1.0",
      "model_name": "AccordionModel",
      "state": {
       "_titles": {
        "0": "Source",
        "1": "Save",
        "2": "Scrap"
       },
       "children": [
        "IPY_MODEL_4e2b59ccd0c947d584c70e03f8f02771",
        "IPY_MODEL_0e26bed75d0c418eb910d7df7b9b35a2",
        "IPY_MODEL_2c7ceb88e02448e6a2fcf42397682470"
       ],
       "layout": "IPY_MODEL_c37734a9bb66430b8d523c6304ef5563",
       "selected_index": 1
      }
     },
     "e767bb4486b149b3a8c4721029779486": {
      "model_module": "@jupyter-widgets/controls",
      "model_module_version": "1.1.0",
      "model_name": "HTMLModel",
      "state": {
       "description": "Sample CSV:",
       "layout": "IPY_MODEL_2765c150d91845ddb7cb2fe9fd3c481c",
       "placeholder": "",
       "style": "IPY_MODEL_6234813ad6d9426d9550736b1b919854",
       "value": "<i><b>kereta</b><i>"
      }
     },
     "e8079ce22d81405e8b573fe4d9bc340c": {
      "model_module": "@jupyter-widgets/base",
      "model_module_version": "1.0.0",
      "model_name": "LayoutModel",
      "state": {}
     },
     "e83c2becff8c4814afd182982100d002": {
      "model_module": "@jupyter-widgets/controls",
      "model_module_version": "1.1.0",
      "model_name": "HBoxModel",
      "state": {
       "children": [
        "IPY_MODEL_75287c3b79b34ebbbd3be6cba1675ba5",
        "IPY_MODEL_1434001ed198435db47980dc0df40c2b",
        "IPY_MODEL_c9cc336e049a4d4086cfd32125b8f751"
       ],
       "layout": "IPY_MODEL_34a8b587a9c543219b83c8b78e68b3c9"
      }
     },
     "e9f7551bd7d94ebd8b522cfe39dd75dd": {
      "model_module": "@jupyter-widgets/base",
      "model_module_version": "1.0.0",
      "model_name": "LayoutModel",
      "state": {}
     },
     "ea23db6acb1f44a58ac57828aa825178": {
      "model_module": "@jupyter-widgets/base",
      "model_module_version": "1.0.0",
      "model_name": "LayoutModel",
      "state": {}
     },
     "eaeddeec14064ccf83aa38b80714f333": {
      "model_module": "@jupyter-widgets/controls",
      "model_module_version": "1.1.0",
      "model_name": "DescriptionStyleModel",
      "state": {
       "description_width": ""
      }
     },
     "eaf02c94cddf43488b97d9121db4753f": {
      "model_module": "@jupyter-widgets/base",
      "model_module_version": "1.0.0",
      "model_name": "LayoutModel",
      "state": {}
     },
     "eb64524e7bf94efa8be09d39348130d2": {
      "model_module": "@jupyter-widgets/base",
      "model_module_version": "1.0.0",
      "model_name": "LayoutModel",
      "state": {}
     },
     "ec14d9096a4f4a7484ffd5751ea53aff": {
      "model_module": "@jupyter-widgets/base",
      "model_module_version": "1.0.0",
      "model_name": "LayoutModel",
      "state": {}
     },
     "ec2190ae20ea4a1eb6511a360bd3c59d": {
      "model_module": "@jupyter-widgets/controls",
      "model_module_version": "1.1.0",
      "model_name": "DescriptionStyleModel",
      "state": {
       "description_width": ""
      }
     },
     "eca60ededb14473cbd1e37bb5f1ff250": {
      "model_module": "@jupyter-widgets/base",
      "model_module_version": "1.0.0",
      "model_name": "LayoutModel",
      "state": {}
     },
     "ed290e66c6654befbd46c1202a36791d": {
      "model_module": "@jupyter-widgets/controls",
      "model_module_version": "1.1.0",
      "model_name": "VBoxModel",
      "state": {
       "children": [
        "IPY_MODEL_bc07d51c7bd049b6b214422ef3b7ce70",
        "IPY_MODEL_a56078b5fb524adba1559811a4f8be64"
       ],
       "layout": "IPY_MODEL_b4de0c4539d04725a69a5a45ca891d65"
      }
     },
     "ee003447177442d9bc7aa6589e9f2c69": {
      "model_module": "@jupyter-widgets/controls",
      "model_module_version": "1.1.0",
      "model_name": "DescriptionStyleModel",
      "state": {
       "description_width": ""
      }
     },
     "ee0f9143b1cd42b5849a28c316c75556": {
      "model_module": "@jupyter-widgets/controls",
      "model_module_version": "1.1.0",
      "model_name": "ButtonStyleModel",
      "state": {}
     },
     "ee4cdbfba38e4623ab63a672778861b9": {
      "model_module": "@jupyter-widgets/controls",
      "model_module_version": "1.1.0",
      "model_name": "AccordionModel",
      "state": {
       "_titles": {
        "0": "Source",
        "1": "Save",
        "2": "Scrap"
       },
       "children": [
        "IPY_MODEL_4e2b59ccd0c947d584c70e03f8f02771",
        "IPY_MODEL_2fc025f7400a46398ba857478599df51",
        "IPY_MODEL_18b2dbdd338b4d23bfdff93633479890"
       ],
       "layout": "IPY_MODEL_dbd87e67fb2b4933a9e77ec25634ceb6",
       "selected_index": 1
      }
     },
     "ef17d008745b426e9cb7e161814b0912": {
      "model_module": "@jupyter-widgets/controls",
      "model_module_version": "1.1.0",
      "model_name": "ButtonModel",
      "state": {
       "description": "Scrap Me",
       "layout": "IPY_MODEL_f7e0ea87d7bb46ec8c12e0858acacfba",
       "style": "IPY_MODEL_b539b75593784c3abad56cd0ce0f1c69"
      }
     },
     "ef43085abecd452386f3246a67b32b43": {
      "model_module": "@jupyter-widgets/base",
      "model_module_version": "1.0.0",
      "model_name": "LayoutModel",
      "state": {}
     },
     "eff78c3e02f14f25aade52e2de3160f6": {
      "model_module": "@jupyter-widgets/controls",
      "model_module_version": "1.1.0",
      "model_name": "DescriptionStyleModel",
      "state": {
       "description_width": ""
      }
     },
     "f04a4bb703f8419c9b4160920042c28d": {
      "model_module": "@jupyter-widgets/controls",
      "model_module_version": "1.1.0",
      "model_name": "DescriptionStyleModel",
      "state": {
       "description_width": ""
      }
     },
     "f0703dcad54c4b83a104e4e22fe9094d": {
      "model_module": "@jupyter-widgets/base",
      "model_module_version": "1.0.0",
      "model_name": "LayoutModel",
      "state": {}
     },
     "f0e7f876d6de48c887e28e12aca33e72": {
      "model_module": "@jupyter-widgets/controls",
      "model_module_version": "1.1.0",
      "model_name": "ButtonModel",
      "state": {
       "description": "Scrap Me",
       "layout": "IPY_MODEL_98f7529d31154cfc8477634278914428",
       "style": "IPY_MODEL_a60b50459d2a44d8951bb37c457a4a8d"
      }
     },
     "f0eed62c1e014b3c89f152a33f889df3": {
      "model_module": "@jupyter-widgets/base",
      "model_module_version": "1.0.0",
      "model_name": "LayoutModel",
      "state": {}
     },
     "f143c31dbfa0462586073d124eb45078": {
      "model_module": "@jupyter-widgets/base",
      "model_module_version": "1.0.0",
      "model_name": "LayoutModel",
      "state": {}
     },
     "f1879dd84baf4931844c45c075dfa4ee": {
      "model_module": "@jupyter-widgets/controls",
      "model_module_version": "1.1.0",
      "model_name": "DescriptionStyleModel",
      "state": {
       "description_width": ""
      }
     },
     "f196b839cf764f64a658b14c2d221f5c": {
      "model_module": "@jupyter-widgets/base",
      "model_module_version": "1.0.0",
      "model_name": "LayoutModel",
      "state": {}
     },
     "f1d9407bef4a47aeadb178bc3562c597": {
      "model_module": "@jupyter-widgets/base",
      "model_module_version": "1.0.0",
      "model_name": "LayoutModel",
      "state": {}
     },
     "f1fc599329e542c09b7de3ee6f89f41d": {
      "model_module": "@jupyter-widgets/base",
      "model_module_version": "1.0.0",
      "model_name": "LayoutModel",
      "state": {}
     },
     "f21debc35e1c4768bb606d31d2487d06": {
      "model_module": "@jupyter-widgets/controls",
      "model_module_version": "1.1.0",
      "model_name": "AccordionModel",
      "state": {
       "_titles": {
        "0": "Scrap"
       },
       "children": [
        "IPY_MODEL_40850d171ab54173ae730dc62865ae21"
       ],
       "layout": "IPY_MODEL_c6aafe73952e4b8aaca0a0094be33821"
      }
     },
     "f225e0cf3512455dbab56844e14d007d": {
      "model_module": "@jupyter-widgets/controls",
      "model_module_version": "1.1.0",
      "model_name": "DescriptionStyleModel",
      "state": {
       "description_width": ""
      }
     },
     "f2461ff1740e4f489b2d7cdc03885fa3": {
      "model_module": "@jupyter-widgets/base",
      "model_module_version": "1.0.0",
      "model_name": "LayoutModel",
      "state": {}
     },
     "f26cd9c8f82d4c54af39031b398e52e0": {
      "model_module": "@jupyter-widgets/controls",
      "model_module_version": "1.1.0",
      "model_name": "TextModel",
      "state": {
       "description": "Folder Path:",
       "layout": "IPY_MODEL_58cad3aee84a4e008d13e97e8aea8e70",
       "placeholder": "Paste folder path to load dataset",
       "style": "IPY_MODEL_24c8e7cc727340c59108088e145cee00"
      }
     },
     "f3b05a2bd5784272a1c671f6a9d7cf47": {
      "model_module": "@jupyter-widgets/controls",
      "model_module_version": "1.1.0",
      "model_name": "ButtonModel",
      "state": {
       "description": "PCA!",
       "icon": "check",
       "layout": "IPY_MODEL_c4130d3c04164f4b94d2e416173de5f7",
       "style": "IPY_MODEL_a380388bb4ae412a841b08bfc1564153",
       "tooltip": "Click me"
      }
     },
     "f3e256df2a9048be8e5045049c85af1d": {
      "model_module": "@jupyter-widgets/controls",
      "model_module_version": "1.1.0",
      "model_name": "VBoxModel",
      "state": {
       "children": [
        "IPY_MODEL_823f006e17cc4828af49aaf5b365f0d9",
        "IPY_MODEL_a19472d2bf1c4ed781871ef76a20a01f"
       ],
       "layout": "IPY_MODEL_3743246cf322407b88abc63a1c34f0c6"
      }
     },
     "f4043f4230b64bc981573c394078188f": {
      "model_module": "@jupyter-widgets/base",
      "model_module_version": "1.0.0",
      "model_name": "LayoutModel",
      "state": {}
     },
     "f464a66e0395489ab9d1e1a36ffa0bb5": {
      "model_module": "@jupyter-widgets/base",
      "model_module_version": "1.0.0",
      "model_name": "LayoutModel",
      "state": {}
     },
     "f475302fe1f84cb1b3abba00b2e24bf5": {
      "model_module": "@jupyter-widgets/controls",
      "model_module_version": "1.1.0",
      "model_name": "VBoxModel",
      "state": {
       "children": [
        "IPY_MODEL_f0e7f876d6de48c887e28e12aca33e72",
        "IPY_MODEL_9e6b2fb55acd4f4684c4f41d150fda76"
       ],
       "layout": "IPY_MODEL_0e966ef4552842b2af53069ad3f5c90c"
      }
     },
     "f4b16dd260cf4a688580fab0f91b6bbb": {
      "model_module": "@jupyter-widgets/controls",
      "model_module_version": "1.1.0",
      "model_name": "VBoxModel",
      "state": {
       "children": [
        "IPY_MODEL_34d9c9d70a1c466e8163e265eb384a5c",
        "IPY_MODEL_06764c74d0fc4d9bb74f6786e6297cb6"
       ],
       "layout": "IPY_MODEL_ca8d351ae662469c909ed3421eeac550"
      }
     },
     "f4bcad481eaa4393991f4eb0e90b715e": {
      "model_module": "@jupyter-widgets/controls",
      "model_module_version": "1.1.0",
      "model_name": "HTMLModel",
      "state": {
       "layout": "IPY_MODEL_4a7dda581bc3407b97d8f32dcf14ca98",
       "placeholder": "",
       "style": "IPY_MODEL_0d6890c0b47c40d198e6b7b8e2b912d3",
       "value": "<b>Choose how to view your data</b>"
      }
     },
     "f4c07a8cd81849bab95235e8d9cf6312": {
      "model_module": "@jupyter-widgets/base",
      "model_module_version": "1.0.0",
      "model_name": "LayoutModel",
      "state": {}
     },
     "f66a485ca04e401fbeafe55fb080aec6": {
      "model_module": "@jupyter-widgets/base",
      "model_module_version": "1.0.0",
      "model_name": "LayoutModel",
      "state": {}
     },
     "f7e0ea87d7bb46ec8c12e0858acacfba": {
      "model_module": "@jupyter-widgets/base",
      "model_module_version": "1.0.0",
      "model_name": "LayoutModel",
      "state": {}
     },
     "f85ba48888c247e5801502d64aa266dc": {
      "model_module": "@jupyter-widgets/controls",
      "model_module_version": "1.1.0",
      "model_name": "VBoxModel",
      "state": {
       "children": [
        "IPY_MODEL_f0e7f876d6de48c887e28e12aca33e72",
        "IPY_MODEL_9e6b2fb55acd4f4684c4f41d150fda76"
       ],
       "layout": "IPY_MODEL_f1fc599329e542c09b7de3ee6f89f41d"
      }
     },
     "f8aeb875926c4facb8aaa0fa4152351a": {
      "model_module": "@jupyter-widgets/controls",
      "model_module_version": "1.1.0",
      "model_name": "HTMLModel",
      "state": {
       "description": "Sample CSV:",
       "layout": "IPY_MODEL_8924a79eefe749779dacba834154dd26",
       "placeholder": "",
       "style": "IPY_MODEL_f04a4bb703f8419c9b4160920042c28d",
       "value": "<i><b>kereta</b><i>"
      }
     },
     "f91d568c99cf4654a7eaab04d7053ccf": {
      "model_module": "@jupyter-widgets/base",
      "model_module_version": "1.0.0",
      "model_name": "LayoutModel",
      "state": {}
     },
     "f96682b78602466f83d573ae8d37047e": {
      "model_module": "@jupyter-widgets/controls",
      "model_module_version": "1.1.0",
      "model_name": "AccordionModel",
      "state": {
       "_titles": {
        "0": "Method",
        "1": "Analysis",
        "2": "Result"
       },
       "children": [
        "IPY_MODEL_c21afa1d2aa74bb0ab7666ca1ee5a5aa",
        "IPY_MODEL_908f776206db443bbbd17906bd21079a",
        "IPY_MODEL_77a051b1b7ff40efab0ce9a05cfd6345"
       ],
       "layout": "IPY_MODEL_c30e50e0b5b2403c9b8c3502f438da6f",
       "selected_index": null
      }
     },
     "fa67e536e28c4a23be7662f95e68f9d9": {
      "model_module": "@jupyter-widgets/controls",
      "model_module_version": "1.1.0",
      "model_name": "HTMLModel",
      "state": {
       "description": "Sample:",
       "layout": "IPY_MODEL_8e62db69dc3b4f289cf2752d60482f4c",
       "placeholder": "",
       "style": "IPY_MODEL_704959aeeb97493bb2e3ec2bffb70d98",
       "value": "<i><b>kereta</b><i>"
      }
     },
     "fa7cf810cd4c4e0db4ef2ad7ac0141a2": {
      "model_module": "@jupyter-widgets/controls",
      "model_module_version": "1.1.0",
      "model_name": "HTMLModel",
      "state": {
       "description": "Sample CSV filename:",
       "layout": "IPY_MODEL_7836d71b12464ea2a83d08d217713dcb",
       "placeholder": "",
       "style": "IPY_MODEL_e27ece5d7472465aa16384cb7c4ce29d",
       "value": "<i><b>kereta</b><i>"
      }
     },
     "fa9f9a1877a64090aaf776fa7e938d78": {
      "model_module": "@jupyter-widgets/controls",
      "model_module_version": "1.1.0",
      "model_name": "TabModel",
      "state": {
       "_titles": {
        "0": "Extaction",
        "1": "Data"
       },
       "children": [
        "IPY_MODEL_ee4cdbfba38e4623ab63a672778861b9",
        "IPY_MODEL_661ab29ede1945cf8af898be1eed654e"
       ],
       "layout": "IPY_MODEL_be9144e4480d4342b40d8aeb5064bf53",
       "selected_index": 1
      }
     },
     "faf850037c834624a2c23eaa500fa8a8": {
      "model_module": "@jupyter-widgets/controls",
      "model_module_version": "1.1.0",
      "model_name": "ButtonStyleModel",
      "state": {}
     },
     "fb385d32db7841c4bebfecd1f4a665c2": {
      "model_module": "@jupyter-widgets/controls",
      "model_module_version": "1.1.0",
      "model_name": "VBoxModel",
      "state": {
       "children": [
        "IPY_MODEL_8d177eee05dc478f92c66698d8612381",
        "IPY_MODEL_bc07d51c7bd049b6b214422ef3b7ce70",
        "IPY_MODEL_e767bb4486b149b3a8c4721029779486",
        "IPY_MODEL_a56078b5fb524adba1559811a4f8be64"
       ],
       "layout": "IPY_MODEL_378b14c3eca846dcac50623783da0326"
      }
     },
     "fb3b541217f344dd867b2a234f4bd1b9": {
      "model_module": "@jupyter-widgets/base",
      "model_module_version": "1.0.0",
      "model_name": "LayoutModel",
      "state": {}
     },
     "fc1bb578c25f491cbcb68541b1ef230f": {
      "model_module": "@jupyter-widgets/base",
      "model_module_version": "1.0.0",
      "model_name": "LayoutModel",
      "state": {}
     },
     "fc1e7c997c12448d936f0dacc5166473": {
      "model_module": "@jupyter-widgets/controls",
      "model_module_version": "1.1.0",
      "model_name": "AccordionModel",
      "state": {
       "_titles": {
        "0": "Method"
       },
       "children": [
        "IPY_MODEL_d59575575d2e4784924a4b0e43c62e3d"
       ],
       "layout": "IPY_MODEL_8afb69e5f6054d4da2e80b52df9bf94b",
       "selected_index": null
      }
     },
     "fc525f00bd7349f7ab25439e427102c6": {
      "model_module": "@jupyter-widgets/controls",
      "model_module_version": "1.1.0",
      "model_name": "AccordionModel",
      "state": {
       "_titles": {
        "0": "Source",
        "1": "Save",
        "2": "Scrap"
       },
       "children": [
        "IPY_MODEL_bbe6e5f0d003414191693cad46aabe3f",
        "IPY_MODEL_2367675f42aa4336ae210ab5d0fc0724",
        "IPY_MODEL_a218bd58ad774cf5be216dc8e558af62"
       ],
       "layout": "IPY_MODEL_f0eed62c1e014b3c89f152a33f889df3",
       "selected_index": null
      }
     },
     "fc9e8660ec7d437da2ef932eff251a97": {
      "model_module": "@jupyter-widgets/base",
      "model_module_version": "1.0.0",
      "model_name": "LayoutModel",
      "state": {}
     },
     "fd9e765964ff491ebf30cebc38f53cd0": {
      "model_module": "@jupyter-widgets/controls",
      "model_module_version": "1.1.0",
      "model_name": "DescriptionStyleModel",
      "state": {
       "description_width": ""
      }
     },
     "fdeaee2d50654c399b7fd66e9c83743e": {
      "model_module": "@jupyter-widgets/base",
      "model_module_version": "1.0.0",
      "model_name": "LayoutModel",
      "state": {}
     },
     "fef375eb12ca4bc7b3aab36e755f5c62": {
      "model_module": "@jupyter-widgets/controls",
      "model_module_version": "1.1.0",
      "model_name": "DescriptionStyleModel",
      "state": {
       "description_width": ""
      }
     },
     "ff6499bae858429ab9d6b37ef2a159fd": {
      "model_module": "@jupyter-widgets/base",
      "model_module_version": "1.0.0",
      "model_name": "LayoutModel",
      "state": {}
     },
     "ffa9383df0114466b88807a9e29d9595": {
      "model_module": "@jupyter-widgets/base",
      "model_module_version": "1.0.0",
      "model_name": "LayoutModel",
      "state": {}
     },
     "ffd357582ba041d4a6f291e157128c30": {
      "model_module": "@jupyter-widgets/controls",
      "model_module_version": "1.1.0",
      "model_name": "ToggleButtonsStyleModel",
      "state": {
       "button_width": "",
       "description_width": ""
      }
     },
     "ffead06096f6492a8dfd599422fee0bf": {
      "model_module": "@jupyter-widgets/controls",
      "model_module_version": "1.1.0",
      "model_name": "ToggleButtonsStyleModel",
      "state": {
       "button_width": "",
       "description_width": ""
      }
     }
    },
    "version_major": 2,
    "version_minor": 0
   }
  }
 },
 "nbformat": 4,
 "nbformat_minor": 2
}
