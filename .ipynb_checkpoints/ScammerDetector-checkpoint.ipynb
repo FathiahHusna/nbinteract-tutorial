{
 "cells": [
  {
   "cell_type": "markdown",
   "metadata": {},
   "source": [
    "# Scammer Detector"
   ]
  },
  {
   "cell_type": "markdown",
   "metadata": {},
   "source": [
    "*Beware of __SCAMMER__, buy from the __TRUSTED__ one*"
   ]
  },
  {
   "cell_type": "code",
   "execution_count": 1,
   "metadata": {},
   "outputs": [],
   "source": [
    "#nbi:hide_in\n",
    "from IPython.display import display, Markdown, clear_output\n",
    "from ipywidgets import interact\n",
    "import ipywidgets as widgets"
   ]
  },
  {
   "cell_type": "code",
   "execution_count": 2,
   "metadata": {},
   "outputs": [],
   "source": [
    "#nbi:hide_in\n",
    "meurl=widgets.Text(value= '', placeholder='Paste your mudah.my link here', description='Link:', disabled=False)\n",
    "#meurl"
   ]
  },
  {
   "cell_type": "code",
   "execution_count": 3,
   "metadata": {},
   "outputs": [],
   "source": [
    "#nbi:hide_in\n",
    "fpath = widgets.Text(\n",
    "    value='',\n",
    "    placeholder='Paste folder path to save',\n",
    "    description='Folder Path:',\n",
    "    disabled=False\n",
    ")\n",
    "#fpath"
   ]
  },
  {
   "cell_type": "code",
   "execution_count": 4,
   "metadata": {},
   "outputs": [],
   "source": [
    "#nbi:hide_in\n",
    "fname = widgets.Text(\n",
    "    value='',\n",
    "    placeholder='Name your scrap csv file',\n",
    "    description='CSV file:',\n",
    "    disabled=False\n",
    ")\n",
    "#fname"
   ]
  },
  {
   "cell_type": "code",
   "execution_count": 5,
   "metadata": {},
   "outputs": [
    {
     "data": {
      "text/plain": [
       "'\\\\.csv'"
      ]
     },
     "execution_count": 5,
     "metadata": {},
     "output_type": "execute_result"
    }
   ],
   "source": [
    "filepath=fpath.value + \"\\\\\" + fname.value + \".csv\"\n",
    "filepath"
   ]
  },
  {
   "cell_type": "code",
   "execution_count": 6,
   "metadata": {},
   "outputs": [],
   "source": [
    "#nbi:hide_in\n",
    "#accordion.children[0].value"
   ]
  },
  {
   "cell_type": "code",
   "execution_count": 7,
   "metadata": {},
   "outputs": [],
   "source": [
    "#nbi:hide_in\n",
    "#import dataframe\n",
    "import pandas as pd\n",
    "import requests as req\n",
    "#calling package URL lib\n",
    "from urllib.request import urlopen as uReq\n",
    "#pase HTML text\n",
    "from bs4 import BeautifulSoup as soup\n",
    "\n",
    "\n",
    "#filename = \"df_mulpages.csv\"\n",
    "#filename = filepath\n",
    "def scrapme(meurl):\n",
    "    def subs (Mileage):\n",
    "            if Mileage == \"0 - 4 999\":\n",
    "                return Mileage.replace(\"0 - 4 999\", \"2500\", 1)\n",
    "            elif Mileage == \"5 000 - 9 999\":\n",
    "                return Mileage.replace(\"5 000 - 9 999\", \"52500\", 1)\n",
    "            elif Mileage == \"10 000 - 14 999\":\n",
    "                return Mileage.replace(\"10 000 - 14 999\", \"12500\", 1)\n",
    "            elif Mileage == \"15 000 - 19 999\":\n",
    "                return Mileage.replace(\"15 000 - 19 999\", \"17500\", 1)\n",
    "            elif Mileage == \"20 000 - 24 999\":\n",
    "                return Mileage.replace(\"20 000 - 24 999\", \"22500\", 1)\n",
    "            elif Mileage == \"25 000 - 29 999\":\n",
    "                return Mileage.replace(\"25 000 - 29 999\", \"27500\", 1)\n",
    "            elif Mileage == \"30 000 - 34 999\":\n",
    "                return Mileage.replace(\"30 000 - 34 999\", \"32500\", 1)\n",
    "            elif Mileage == \"35 000 - 39 999\":\n",
    "                return Mileage.replace(\"35 000 - 39 999\", \"37500\", 1)\n",
    "            elif Mileage == \"40 000 - 44 999\":\n",
    "                return Mileage.replace(\"40 000 - 44 999\", \"42500\", 1)\n",
    "            elif Mileage == \"45 000 - 49 999\":\n",
    "                return Mileage.replace(\"45 000 - 49 999\", \"47500\", 1)\n",
    "            elif Mileage == \"50 000 - 54 999\":\n",
    "                return Mileage.replace(\"50 000 - 54 999\", \"52500\", 1)\n",
    "            elif Mileage == \"55 000 - 59 999\":\n",
    "                return Mileage.replace(\"55 000 - 59 999\", \"57500\", 1)\n",
    "            elif Mileage == \"60 000 - 64 999\":\n",
    "                return Mileage.replace(\"60 000 - 64 999\", \"62500\", 1)\n",
    "            elif Mileage == \"65 000 - 69 999\":\n",
    "                return Mileage.replace(\"65 000 - 69 999\", \"67500\", 1)\n",
    "            elif Mileage == \"70 000 - 74 999\":\n",
    "                return Mileage.replace(\"70 000 - 74 999\", \"72500\", 1)\n",
    "            elif Mileage == \"75 000 - 79 999\":\n",
    "                return Mileage.replace(\"75 000 - 79 999\", \"77500\", 1)\n",
    "            elif Mileage == \"80 000 - 84 999\":\n",
    "                return Mileage.replace(\"80 000 - 84 999\", \"82500\", 1)\n",
    "            elif Mileage == \"85 000 - 89 999\":\n",
    "                return Mileage.replace(\"85 000 - 89 999\", \"87500\", 1)\n",
    "            elif Mileage == \"90 000 - 94 999\":\n",
    "                return Mileage.replace(\"90 000 - 94 999\", \"92500\", 1)\n",
    "            elif Mileage == \"95 000 - 99 999\":\n",
    "                return Mileage.replace(\"95 000 - 99 999\", \"97500\", 1)\n",
    "            elif Mileage == \"100 000 - 109 999\":\n",
    "                return Mileage.replace(\"100 000 - 109 999\", \"105000\", 1)\n",
    "            elif Mileage == \"110 000 - 119 999\":\n",
    "                return Mileage.replace(\"110 000 - 119 999\", \"115000\", 1)\n",
    "            elif Mileage == \"120 000 - 129 999\":\n",
    "                return Mileage.replace(\"120 000 - 129 999\", \"125000\", 1)\n",
    "            elif Mileage == \"130 000 - 139 999\":\n",
    "                return Mileage.replace(\"130 000 - 139 999\", \"135000\", 1)\n",
    "            elif Mileage == \"140 000 - 149 999\":\n",
    "                return Mileage.replace(\"140 000 - 149 999\", \"145000\", 1)\n",
    "            elif Mileage == \"150 000 - 159 999\":\n",
    "                return Mileage.replace(\"150 000 - 159 999\", \"155000\", 1)\n",
    "            elif Mileage == \"160 000 - 169 999\":\n",
    "                return Mileage.replace(\"160 000 - 169 999\", \"165000\", 1)\n",
    "            elif Mileage == \"170 000 - 179 999\":\n",
    "                return Mileage.replace(\"170 000 - 179 999\", \"175000\", 1)\n",
    "            elif Mileage == \"180 000 - 189 999\":\n",
    "                return Mileage.replace(\"180 000 - 189 999\", \"185000\", 1)\n",
    "            elif Mileage == \"190 000 - 199 999\":\n",
    "                return Mileage.replace(\"190 000 - 199 999\", \"195000\", 1)\n",
    "            elif Mileage == \"200 000 - 249 999\":\n",
    "                return Mileage.replace(\"200 000 - 249 999\", \"225000\", 1)\n",
    "            elif Mileage == \"250 000 - 299 999\":\n",
    "                return Mileage.replace(\"250 000 - 299 999\", \"275000\", 1)\n",
    "            elif Mileage == \"300 000 - 349 999\":\n",
    "                return Mileage.replace(\"300 000 - 349 999\", \"325000\", 1)\n",
    "            elif Mileage == \"350 000 - 399 999\":\n",
    "                return Mileage.replace(\"350 000 - 399 999\", \"375000\", 1)\n",
    "            elif Mileage == \"400 000 - 449 999\":\n",
    "                return Mileage.replace(\"400 000 - 449 999\", \"425000\", 1)\n",
    "            elif Mileage == \"450 000 - 499 999\":\n",
    "                return Mileage.replace(\"450 000 - 499 999\", \"475000\", 1)\n",
    "            else:\n",
    "                return Mileage\n",
    "\n",
    "\n",
    "    #df = pd.DataFrame(data, columns=['Name', 'Price', 'Manufactured Year', 'Mileage', 'NewMil', 'CC', 'Condition', 'Link'])\n",
    "\n",
    "\n",
    "    def dprice (a):\n",
    "        if (' ' in a) == True:\n",
    "            return ''.join(a.split())\n",
    "        else:\n",
    "            return a\n",
    "    container = []\n",
    "    pages = []\n",
    "\n",
    "    for i in range(1,4):\n",
    "        my_url = 'https://www.mudah.my/malaysia/cars-for-sale?o=' + str(i) + '1&q=&th=1'\n",
    "        pages.append(my_url)\n",
    "\n",
    "    for item in pages:\n",
    "        page = req.get(item)\n",
    "        page_soup = soup(page.text, \"html.parser\")\n",
    "        containers = page_soup.findAll(\"div\", {\"class\":\"listing_params_container\"})\n",
    "\n",
    "\n",
    "        for fathiah in containers:\n",
    "\n",
    "            clink = fathiah.div.div.a[\"href\"]\n",
    "            name = fathiah.div.div.a[\"title\"].strip()\n",
    "            price = fathiah.findAll(\"div\", {\"class\":\"ads_price\"})\n",
    "            Price = price[0].text.strip()\n",
    "            year = fathiah.findAll(\"font\", {\"class\":\"icon_label\"})\n",
    "            Year = year[1].text.strip()\n",
    "            Mileage = year[2].text.strip()\n",
    "            CC = year[3].text.strip()\n",
    "            Condition = year[0].text.strip()\n",
    "\n",
    "            newMil = subs(Mileage).strip()\n",
    "            Price1 = Price.replace(\"RM\", \"\", 1)\n",
    "            nPrice = dprice(Price1)\n",
    "            container.append((name, nPrice, Year, Mileage, newMil, CC, Condition, clink))\n",
    "\n",
    "\n",
    "\n",
    "    df = pd.DataFrame(container, columns = ['Name', 'Price', 'Manufactured Year', 'Mileage', 'NewMil', 'CC', 'Condition', 'Link'])\n",
    "    #df.to_csv(filename, index=False, encoding='utf-8')"
   ]
  },
  {
   "cell_type": "code",
   "execution_count": 8,
   "metadata": {},
   "outputs": [],
   "source": [
    "#nbi:hide_in\n",
    "\n",
    "bscrap = widgets.Button(description='Scrap Me')\n",
    "oscrap = widgets.Output()\n",
    "def on_button_clicked(_):\n",
    "      # \"linking function with output\"\n",
    "      with oscrap:\n",
    "          # what happens when we press the button\n",
    "          clear_output()\n",
    "          scrapme(meurl.value, filepath)\n",
    "          #plt.plot(X, y)\n",
    "          print('Me Scrapped!')\n",
    "# linking button and function together using a button's method\n",
    "bscrap.on_click(on_button_clicked)\n",
    "# displaying button and its output together\n",
    "#widgets.VBox([bscrap,oscrap])"
   ]
  },
  {
   "cell_type": "code",
   "execution_count": 9,
   "metadata": {},
   "outputs": [],
   "source": [
    "#nbi:hide_in\n",
    "accordion1 = widgets.Accordion(children=[meurl, widgets.VBox([fpath, fname]), widgets.VBox([bscrap,oscrap])])\n",
    "accordion1.set_title(0, 'Link')\n",
    "accordion1.set_title(1, 'Save')\n",
    "accordion1.set_title(2, 'Scrap')\n",
    "#accordion1"
   ]
  },
  {
   "cell_type": "code",
   "execution_count": 10,
   "metadata": {},
   "outputs": [],
   "source": [
    "#nbi:hide_in\n",
    "accordion2 = widgets.Accordion(children=[widgets.VBox([bscrap,oscrap])])\n",
    "accordion2.set_title(0, 'Scrap')\n",
    "#accordion2"
   ]
  },
  {
   "cell_type": "code",
   "execution_count": 11,
   "metadata": {},
   "outputs": [
    {
     "name": "stdout",
     "output_type": "stream",
     "text": [
      "Tab Nest\n"
     ]
    },
    {
     "data": {
      "application/vnd.jupyter.widget-view+json": {
       "model_id": "84c2da3fc15f425cb3b5de063ce67512",
       "version_major": 2,
       "version_minor": 0
      },
      "text/html": [
       "<p>Failed to display Jupyter Widget of type <code>Tab</code>.</p>\n",
       "<p>\n",
       "  If you're reading this message in the Jupyter Notebook or JupyterLab Notebook, it may mean\n",
       "  that the widgets JavaScript is still loading. If this message persists, it\n",
       "  likely means that the widgets JavaScript library is either not installed or\n",
       "  not enabled. See the <a href=\"https://ipywidgets.readthedocs.io/en/stable/user_install.html\">Jupyter\n",
       "  Widgets Documentation</a> for setup instructions.\n",
       "</p>\n",
       "<p>\n",
       "  If you're reading this message in another frontend (for example, a static\n",
       "  rendering on GitHub or <a href=\"https://nbviewer.jupyter.org/\">NBViewer</a>),\n",
       "  it may mean that your frontend doesn't currently support widgets.\n",
       "</p>\n"
      ],
      "text/plain": [
       "Tab(children=(Accordion(children=(Text(value='', description='Link:', placeholder='Paste your mudah.my link here'), VBox(children=(Text(value='', description='Folder Path:', placeholder='Paste folder path to save'), Text(value='', description='CSV file:', placeholder='Name your scrap csv file'))), VBox(children=(Button(description='Scrap Me', style=ButtonStyle()), Output()))), _titles={'0': 'Link', '1': 'Save', '2': 'Scrap'}), Accordion(children=(VBox(children=(Button(description='Scrap Me', style=ButtonStyle()), Output())),), _titles={'0': 'Scrap'})), _titles={'0': 'Extaction', '1': 'S'})"
      ]
     },
     "metadata": {},
     "output_type": "display_data"
    }
   ],
   "source": [
    "#nbi:hide_in\n",
    "tab_nest = widgets.Tab()\n",
    "tab_nest.children = [accordion1, accordion2]\n",
    "tab_nest.set_title(0, 'Extaction')\n",
    "tab_nest.set_title(1, 'S')\n",
    "print('Tab Nest')\n",
    "display(tab_nest)"
   ]
  }
 ],
 "metadata": {
  "kernelspec": {
   "display_name": "Python 3",
   "language": "python",
   "name": "python3"
  },
  "language_info": {
   "codemirror_mode": {
    "name": "ipython",
    "version": 3
   },
   "file_extension": ".py",
   "mimetype": "text/x-python",
   "name": "python",
   "nbconvert_exporter": "python",
   "pygments_lexer": "ipython3",
   "version": "3.6.4"
  },
  "widgets": {
   "application/vnd.jupyter.widget-state+json": {
    "state": {
     "0afa2f7fc84e4c5c8855cbd0d12d6088": {
      "model_module": "@jupyter-widgets/controls",
      "model_module_version": "1.1.0",
      "model_name": "VBoxModel",
      "state": {
       "children": [
        "IPY_MODEL_431bd9b95daa47708b2f291ad343942b",
        "IPY_MODEL_b38353b32753462aad0a98d0d2bf3f3a"
       ],
       "layout": "IPY_MODEL_60e4b0e600134003b21ceb68ae110b3c"
      }
     },
     "0ee66fb90a3a4103aefc427258f019bd": {
      "model_module": "@jupyter-widgets/output",
      "model_module_version": "1.0.0",
      "model_name": "OutputModel",
      "state": {
       "layout": "IPY_MODEL_1466b13dd54f46bf8931ea9e154a9025"
      }
     },
     "131e5d2a3ccb4b169e8118fa73f4bc69": {
      "model_module": "@jupyter-widgets/base",
      "model_module_version": "1.0.0",
      "model_name": "LayoutModel",
      "state": {}
     },
     "1466b13dd54f46bf8931ea9e154a9025": {
      "model_module": "@jupyter-widgets/base",
      "model_module_version": "1.0.0",
      "model_name": "LayoutModel",
      "state": {}
     },
     "1ced1c919f404392be64e810291c9a1e": {
      "model_module": "@jupyter-widgets/controls",
      "model_module_version": "1.1.0",
      "model_name": "VBoxModel",
      "state": {
       "children": [
        "IPY_MODEL_2a4527789f434a1dbb6f429b8fba6157",
        "IPY_MODEL_0ee66fb90a3a4103aefc427258f019bd"
       ],
       "layout": "IPY_MODEL_911ef437d99b454990b1385146f865fb"
      }
     },
     "2a4527789f434a1dbb6f429b8fba6157": {
      "model_module": "@jupyter-widgets/controls",
      "model_module_version": "1.1.0",
      "model_name": "ButtonModel",
      "state": {
       "description": "Scrap Me",
       "layout": "IPY_MODEL_c66a85db421448b0bcf2f35421fdffa5",
       "style": "IPY_MODEL_aa998e6d0f544f9b83e13838f2c99aa7"
      }
     },
     "33f620b532044f80b83dcf76f989f0b4": {
      "model_module": "@jupyter-widgets/base",
      "model_module_version": "1.0.0",
      "model_name": "LayoutModel",
      "state": {}
     },
     "3b0a015d1c7843eaafaeb350d66db6f0": {
      "model_module": "@jupyter-widgets/controls",
      "model_module_version": "1.1.0",
      "model_name": "DescriptionStyleModel",
      "state": {
       "description_width": ""
      }
     },
     "430a70ad1cc94581a312e49bb97db607": {
      "model_module": "@jupyter-widgets/controls",
      "model_module_version": "1.1.0",
      "model_name": "AccordionModel",
      "state": {
       "_titles": {
        "0": "Scrap"
       },
       "children": [
        "IPY_MODEL_73e004678ce94f26bed5082d98c7fdc0"
       ],
       "layout": "IPY_MODEL_c4411c578ff34f4a960842497d9f6054"
      }
     },
     "431bd9b95daa47708b2f291ad343942b": {
      "model_module": "@jupyter-widgets/controls",
      "model_module_version": "1.1.0",
      "model_name": "TextModel",
      "state": {
       "description": "Folder Path:",
       "layout": "IPY_MODEL_33f620b532044f80b83dcf76f989f0b4",
       "placeholder": "Paste folder path to save",
       "style": "IPY_MODEL_af464d4c27ac4cbc9b91795427c5d0db"
      }
     },
     "60e4b0e600134003b21ceb68ae110b3c": {
      "model_module": "@jupyter-widgets/base",
      "model_module_version": "1.0.0",
      "model_name": "LayoutModel",
      "state": {}
     },
     "6cd8579ad1fe43b495dea8265d66f519": {
      "model_module": "@jupyter-widgets/base",
      "model_module_version": "1.0.0",
      "model_name": "LayoutModel",
      "state": {}
     },
     "73e004678ce94f26bed5082d98c7fdc0": {
      "model_module": "@jupyter-widgets/controls",
      "model_module_version": "1.1.0",
      "model_name": "VBoxModel",
      "state": {
       "children": [
        "IPY_MODEL_2a4527789f434a1dbb6f429b8fba6157",
        "IPY_MODEL_0ee66fb90a3a4103aefc427258f019bd"
       ],
       "layout": "IPY_MODEL_6cd8579ad1fe43b495dea8265d66f519"
      }
     },
     "84c2da3fc15f425cb3b5de063ce67512": {
      "model_module": "@jupyter-widgets/controls",
      "model_module_version": "1.1.0",
      "model_name": "TabModel",
      "state": {
       "_titles": {
        "0": "Extaction",
        "1": "S"
       },
       "children": [
        "IPY_MODEL_8a2e4afc89e0487083b329462844557e",
        "IPY_MODEL_430a70ad1cc94581a312e49bb97db607"
       ],
       "layout": "IPY_MODEL_c94cf7890706421d9cf3df96fce2e7cb"
      }
     },
     "8a2e4afc89e0487083b329462844557e": {
      "model_module": "@jupyter-widgets/controls",
      "model_module_version": "1.1.0",
      "model_name": "AccordionModel",
      "state": {
       "_titles": {
        "0": "Link",
        "1": "Save",
        "2": "Scrap"
       },
       "children": [
        "IPY_MODEL_af3178c8d8d64b148b2a58881735c0e7",
        "IPY_MODEL_0afa2f7fc84e4c5c8855cbd0d12d6088",
        "IPY_MODEL_1ced1c919f404392be64e810291c9a1e"
       ],
       "layout": "IPY_MODEL_131e5d2a3ccb4b169e8118fa73f4bc69"
      }
     },
     "911ef437d99b454990b1385146f865fb": {
      "model_module": "@jupyter-widgets/base",
      "model_module_version": "1.0.0",
      "model_name": "LayoutModel",
      "state": {}
     },
     "aa998e6d0f544f9b83e13838f2c99aa7": {
      "model_module": "@jupyter-widgets/controls",
      "model_module_version": "1.1.0",
      "model_name": "ButtonStyleModel",
      "state": {}
     },
     "aec23f3204a04c299c812acba3fa72cb": {
      "model_module": "@jupyter-widgets/controls",
      "model_module_version": "1.1.0",
      "model_name": "DescriptionStyleModel",
      "state": {
       "description_width": ""
      }
     },
     "af3178c8d8d64b148b2a58881735c0e7": {
      "model_module": "@jupyter-widgets/controls",
      "model_module_version": "1.1.0",
      "model_name": "TextModel",
      "state": {
       "description": "Link:",
       "layout": "IPY_MODEL_ff6499bae858429ab9d6b37ef2a159fd",
       "placeholder": "Paste your mudah.my link here",
       "style": "IPY_MODEL_aec23f3204a04c299c812acba3fa72cb"
      }
     },
     "af464d4c27ac4cbc9b91795427c5d0db": {
      "model_module": "@jupyter-widgets/controls",
      "model_module_version": "1.1.0",
      "model_name": "DescriptionStyleModel",
      "state": {
       "description_width": ""
      }
     },
     "b38353b32753462aad0a98d0d2bf3f3a": {
      "model_module": "@jupyter-widgets/controls",
      "model_module_version": "1.1.0",
      "model_name": "TextModel",
      "state": {
       "description": "CSV file:",
       "layout": "IPY_MODEL_cce26becebab4d35aa1f952d8fd5958b",
       "placeholder": "Name your scrap csv file",
       "style": "IPY_MODEL_3b0a015d1c7843eaafaeb350d66db6f0"
      }
     },
     "c4411c578ff34f4a960842497d9f6054": {
      "model_module": "@jupyter-widgets/base",
      "model_module_version": "1.0.0",
      "model_name": "LayoutModel",
      "state": {}
     },
     "c66a85db421448b0bcf2f35421fdffa5": {
      "model_module": "@jupyter-widgets/base",
      "model_module_version": "1.0.0",
      "model_name": "LayoutModel",
      "state": {}
     },
     "c94cf7890706421d9cf3df96fce2e7cb": {
      "model_module": "@jupyter-widgets/base",
      "model_module_version": "1.0.0",
      "model_name": "LayoutModel",
      "state": {}
     },
     "cce26becebab4d35aa1f952d8fd5958b": {
      "model_module": "@jupyter-widgets/base",
      "model_module_version": "1.0.0",
      "model_name": "LayoutModel",
      "state": {}
     },
     "ff6499bae858429ab9d6b37ef2a159fd": {
      "model_module": "@jupyter-widgets/base",
      "model_module_version": "1.0.0",
      "model_name": "LayoutModel",
      "state": {}
     }
    },
    "version_major": 2,
    "version_minor": 0
   }
  }
 },
 "nbformat": 4,
 "nbformat_minor": 2
}
