{
 "cells": [
  {
   "cell_type": "markdown",
   "metadata": {},
   "source": [
    "# Scammer Detector"
   ]
  },
  {
   "cell_type": "markdown",
   "metadata": {},
   "source": [
    "*Beware of __SCAMMER__, buy from the __TRUSTED__ one*"
   ]
  },
  {
   "cell_type": "code",
   "execution_count": 1,
   "metadata": {},
   "outputs": [],
   "source": [
    "#nbi:hide_in\n",
    "from IPython.display import display, Markdown, clear_output\n",
    "from ipywidgets import interact\n",
    "import ipywidgets as widgets"
   ]
  },
  {
   "cell_type": "code",
   "execution_count": 2,
   "metadata": {},
   "outputs": [],
   "source": [
    "#nbi:hide_in\n",
    "meurl=widgets.Text(value= '', placeholder='Paste your mudah.my link here', description='Link:', disabled=False)\n",
    "#meurl"
   ]
  },
  {
   "cell_type": "code",
   "execution_count": 3,
   "metadata": {},
   "outputs": [],
   "source": [
    "#nbi:hide_in\n",
    "fpath = widgets.Text(\n",
    "    value='',\n",
    "    placeholder='Paste folder path to save',\n",
    "    description='Folder Path:',\n",
    "    disabled=False\n",
    ")\n",
    "#fpath"
   ]
  },
  {
   "cell_type": "code",
   "execution_count": 4,
   "metadata": {},
   "outputs": [],
   "source": [
    "#nbi:hide_in\n",
    "fname = widgets.Text(\n",
    "    value='',\n",
    "    placeholder='Name your scrap csv file',\n",
    "    description='CSV file:',\n",
    "    disabled=False\n",
    ")\n",
    "#fname"
   ]
  },
  {
   "cell_type": "code",
   "execution_count": 5,
   "metadata": {},
   "outputs": [
    {
     "data": {
      "text/plain": [
       "'\\\\.csv'"
      ]
     },
     "execution_count": 5,
     "metadata": {},
     "output_type": "execute_result"
    }
   ],
   "source": [
    "filepath=fpath.value + \"\\\\\" + fname.value + \".csv\"\n",
    "filepath"
   ]
  },
  {
   "cell_type": "code",
   "execution_count": 6,
   "metadata": {},
   "outputs": [],
   "source": [
    "#nbi:hide_in\n",
    "#accordion.children[0].value"
   ]
  },
  {
   "cell_type": "code",
   "execution_count": 7,
   "metadata": {},
   "outputs": [],
   "source": [
    "#nbi:hide_in\n",
    "#import dataframe\n",
    "import pandas as pd\n",
    "import requests as req\n",
    "#calling package URL lib\n",
    "from urllib.request import urlopen as uReq\n",
    "#pase HTML text\n",
    "from bs4 import BeautifulSoup as soup\n",
    "\n",
    "\n",
    "#filename = \"df_mulpages.csv\"\n",
    "#filename = filepath\n",
    "def scrapme(meurl):\n",
    "    def subs (Mileage):\n",
    "            if Mileage == \"0 - 4 999\":\n",
    "                return Mileage.replace(\"0 - 4 999\", \"2500\", 1)\n",
    "            elif Mileage == \"5 000 - 9 999\":\n",
    "                return Mileage.replace(\"5 000 - 9 999\", \"52500\", 1)\n",
    "            elif Mileage == \"10 000 - 14 999\":\n",
    "                return Mileage.replace(\"10 000 - 14 999\", \"12500\", 1)\n",
    "            elif Mileage == \"15 000 - 19 999\":\n",
    "                return Mileage.replace(\"15 000 - 19 999\", \"17500\", 1)\n",
    "            elif Mileage == \"20 000 - 24 999\":\n",
    "                return Mileage.replace(\"20 000 - 24 999\", \"22500\", 1)\n",
    "            elif Mileage == \"25 000 - 29 999\":\n",
    "                return Mileage.replace(\"25 000 - 29 999\", \"27500\", 1)\n",
    "            elif Mileage == \"30 000 - 34 999\":\n",
    "                return Mileage.replace(\"30 000 - 34 999\", \"32500\", 1)\n",
    "            elif Mileage == \"35 000 - 39 999\":\n",
    "                return Mileage.replace(\"35 000 - 39 999\", \"37500\", 1)\n",
    "            elif Mileage == \"40 000 - 44 999\":\n",
    "                return Mileage.replace(\"40 000 - 44 999\", \"42500\", 1)\n",
    "            elif Mileage == \"45 000 - 49 999\":\n",
    "                return Mileage.replace(\"45 000 - 49 999\", \"47500\", 1)\n",
    "            elif Mileage == \"50 000 - 54 999\":\n",
    "                return Mileage.replace(\"50 000 - 54 999\", \"52500\", 1)\n",
    "            elif Mileage == \"55 000 - 59 999\":\n",
    "                return Mileage.replace(\"55 000 - 59 999\", \"57500\", 1)\n",
    "            elif Mileage == \"60 000 - 64 999\":\n",
    "                return Mileage.replace(\"60 000 - 64 999\", \"62500\", 1)\n",
    "            elif Mileage == \"65 000 - 69 999\":\n",
    "                return Mileage.replace(\"65 000 - 69 999\", \"67500\", 1)\n",
    "            elif Mileage == \"70 000 - 74 999\":\n",
    "                return Mileage.replace(\"70 000 - 74 999\", \"72500\", 1)\n",
    "            elif Mileage == \"75 000 - 79 999\":\n",
    "                return Mileage.replace(\"75 000 - 79 999\", \"77500\", 1)\n",
    "            elif Mileage == \"80 000 - 84 999\":\n",
    "                return Mileage.replace(\"80 000 - 84 999\", \"82500\", 1)\n",
    "            elif Mileage == \"85 000 - 89 999\":\n",
    "                return Mileage.replace(\"85 000 - 89 999\", \"87500\", 1)\n",
    "            elif Mileage == \"90 000 - 94 999\":\n",
    "                return Mileage.replace(\"90 000 - 94 999\", \"92500\", 1)\n",
    "            elif Mileage == \"95 000 - 99 999\":\n",
    "                return Mileage.replace(\"95 000 - 99 999\", \"97500\", 1)\n",
    "            elif Mileage == \"100 000 - 109 999\":\n",
    "                return Mileage.replace(\"100 000 - 109 999\", \"105000\", 1)\n",
    "            elif Mileage == \"110 000 - 119 999\":\n",
    "                return Mileage.replace(\"110 000 - 119 999\", \"115000\", 1)\n",
    "            elif Mileage == \"120 000 - 129 999\":\n",
    "                return Mileage.replace(\"120 000 - 129 999\", \"125000\", 1)\n",
    "            elif Mileage == \"130 000 - 139 999\":\n",
    "                return Mileage.replace(\"130 000 - 139 999\", \"135000\", 1)\n",
    "            elif Mileage == \"140 000 - 149 999\":\n",
    "                return Mileage.replace(\"140 000 - 149 999\", \"145000\", 1)\n",
    "            elif Mileage == \"150 000 - 159 999\":\n",
    "                return Mileage.replace(\"150 000 - 159 999\", \"155000\", 1)\n",
    "            elif Mileage == \"160 000 - 169 999\":\n",
    "                return Mileage.replace(\"160 000 - 169 999\", \"165000\", 1)\n",
    "            elif Mileage == \"170 000 - 179 999\":\n",
    "                return Mileage.replace(\"170 000 - 179 999\", \"175000\", 1)\n",
    "            elif Mileage == \"180 000 - 189 999\":\n",
    "                return Mileage.replace(\"180 000 - 189 999\", \"185000\", 1)\n",
    "            elif Mileage == \"190 000 - 199 999\":\n",
    "                return Mileage.replace(\"190 000 - 199 999\", \"195000\", 1)\n",
    "            elif Mileage == \"200 000 - 249 999\":\n",
    "                return Mileage.replace(\"200 000 - 249 999\", \"225000\", 1)\n",
    "            elif Mileage == \"250 000 - 299 999\":\n",
    "                return Mileage.replace(\"250 000 - 299 999\", \"275000\", 1)\n",
    "            elif Mileage == \"300 000 - 349 999\":\n",
    "                return Mileage.replace(\"300 000 - 349 999\", \"325000\", 1)\n",
    "            elif Mileage == \"350 000 - 399 999\":\n",
    "                return Mileage.replace(\"350 000 - 399 999\", \"375000\", 1)\n",
    "            elif Mileage == \"400 000 - 449 999\":\n",
    "                return Mileage.replace(\"400 000 - 449 999\", \"425000\", 1)\n",
    "            elif Mileage == \"450 000 - 499 999\":\n",
    "                return Mileage.replace(\"450 000 - 499 999\", \"475000\", 1)\n",
    "            else:\n",
    "                return Mileage\n",
    "\n",
    "\n",
    "    #df = pd.DataFrame(data, columns=['Name', 'Price', 'Manufactured Year', 'Mileage', 'NewMil', 'CC', 'Condition', 'Link'])\n",
    "\n",
    "\n",
    "    def dprice (a):\n",
    "        if (' ' in a) == True:\n",
    "            return ''.join(a.split())\n",
    "        else:\n",
    "            return a\n",
    "    container = []\n",
    "    pages = []\n",
    "\n",
    "    for i in range(1,4):\n",
    "        my_url = 'https://www.mudah.my/malaysia/cars-for-sale?o=' + str(i) + '1&q=&th=1'\n",
    "        pages.append(my_url)\n",
    "\n",
    "    for item in pages:\n",
    "        page = req.get(item)\n",
    "        page_soup = soup(page.text, \"html.parser\")\n",
    "        containers = page_soup.findAll(\"div\", {\"class\":\"listing_params_container\"})\n",
    "\n",
    "\n",
    "        for fathiah in containers:\n",
    "\n",
    "            clink = fathiah.div.div.a[\"href\"]\n",
    "            name = fathiah.div.div.a[\"title\"].strip()\n",
    "            price = fathiah.findAll(\"div\", {\"class\":\"ads_price\"})\n",
    "            Price = price[0].text.strip()\n",
    "            year = fathiah.findAll(\"font\", {\"class\":\"icon_label\"})\n",
    "            Year = year[1].text.strip()\n",
    "            Mileage = year[2].text.strip()\n",
    "            CC = year[3].text.strip()\n",
    "            Condition = year[0].text.strip()\n",
    "\n",
    "            newMil = subs(Mileage).strip()\n",
    "            Price1 = Price.replace(\"RM\", \"\", 1)\n",
    "            nPrice = dprice(Price1)\n",
    "            container.append((name, nPrice, Year, Mileage, newMil, CC, Condition, clink))\n",
    "\n",
    "\n",
    "\n",
    "    df = pd.DataFrame(container, columns = ['Name', 'Price', 'Manufactured Year', 'Mileage', 'NewMil', 'CC', 'Condition', 'Link'])\n",
    "    #df.to_csv(filename, index=False, encoding='utf-8')"
   ]
  },
  {
   "cell_type": "code",
   "execution_count": 8,
   "metadata": {},
   "outputs": [],
   "source": [
    "#nbi:hide_in\n",
    "\n",
    "bscrap = widgets.Button(description='Scrap Me')\n",
    "oscrap = widgets.Output()\n",
    "def on_button_clicked(_):\n",
    "      # \"linking function with output\"\n",
    "      with oscrap:\n",
    "          # what happens when we press the button\n",
    "          clear_output()\n",
    "          scrapme(meurl.value, filepath)\n",
    "          #plt.plot(X, y)\n",
    "          print('Me Scrapped!')\n",
    "# linking button and function together using a button's method\n",
    "bscrap.on_click(on_button_clicked)\n",
    "# displaying button and its output together\n",
    "#widgets.VBox([bscrap,oscrap])"
   ]
  },
  {
   "cell_type": "code",
   "execution_count": 12,
   "metadata": {},
   "outputs": [],
   "source": [
    "#nbi:hide_in\n",
    "accordion1 = widgets.Accordion(children=[meurl])\n",
    "accordion1.set_title(0, 'Link')\n",
    "#accordion1"
   ]
  },
  {
   "cell_type": "code",
   "execution_count": 10,
   "metadata": {},
   "outputs": [],
   "source": [
    "#nbi:hide_in\n",
    "accordion2 = widgets.Accordion(children=[fpath, fname, widgets.VBox([bscrap,oscrap])])\n",
    "accordion2.set_title(0, 'Save: Folder Path')\n",
    "accordion2.set_title(1, 'Save: CSV File')\n",
    "accordion2.set_title(2, 'Scrap')\n",
    "#accordion2"
   ]
  },
  {
   "cell_type": "code",
   "execution_count": 13,
   "metadata": {},
   "outputs": [
    {
     "name": "stdout",
     "output_type": "stream",
     "text": [
      "Tab Nest\n"
     ]
    },
    {
     "data": {
      "application/vnd.jupyter.widget-view+json": {
       "model_id": "fe218002d0b64d028c8d7851998b99c7",
       "version_major": 2,
       "version_minor": 0
      },
      "text/html": [
       "<p>Failed to display Jupyter Widget of type <code>Tab</code>.</p>\n",
       "<p>\n",
       "  If you're reading this message in the Jupyter Notebook or JupyterLab Notebook, it may mean\n",
       "  that the widgets JavaScript is still loading. If this message persists, it\n",
       "  likely means that the widgets JavaScript library is either not installed or\n",
       "  not enabled. See the <a href=\"https://ipywidgets.readthedocs.io/en/stable/user_install.html\">Jupyter\n",
       "  Widgets Documentation</a> for setup instructions.\n",
       "</p>\n",
       "<p>\n",
       "  If you're reading this message in another frontend (for example, a static\n",
       "  rendering on GitHub or <a href=\"https://nbviewer.jupyter.org/\">NBViewer</a>),\n",
       "  it may mean that your frontend doesn't currently support widgets.\n",
       "</p>\n"
      ],
      "text/plain": [
       "Tab(children=(Accordion(children=(Text(value='', description='Link:', placeholder='Paste your mudah.my link here'),), _titles={'0': 'Link'}), Accordion(children=(Text(value='', description='Folder Path:', placeholder='Paste folder path to save'), Text(value='', description='CSV file:', placeholder='Name your scrap csv file'), VBox(children=(Button(description='Scrap Me', style=ButtonStyle()), Output()))), _titles={'0': 'Save: Folder Path', '1': 'Save: CSV File', '2': 'Scrap'})), _titles={'0': 'Data Source', '1': 'Save Data'})"
      ]
     },
     "metadata": {},
     "output_type": "display_data"
    }
   ],
   "source": [
    "#nbi:hide_in\n",
    "tab_nest = widgets.Tab()\n",
    "tab_nest.children = [accordion1, accordion2]\n",
    "tab_nest.set_title(0, 'Data Source')\n",
    "tab_nest.set_title(1, 'Save Data')\n",
    "print('Tab Nest')\n",
    "tab_nest"
   ]
  },
  {
   "cell_type": "code",
   "execution_count": null,
   "metadata": {},
   "outputs": [],
   "source": []
  }
 ],
 "metadata": {
  "kernelspec": {
   "display_name": "Python 3",
   "language": "python",
   "name": "python3"
  },
  "language_info": {
   "codemirror_mode": {
    "name": "ipython",
    "version": 3
   },
   "file_extension": ".py",
   "mimetype": "text/x-python",
   "name": "python",
   "nbconvert_exporter": "python",
   "pygments_lexer": "ipython3",
   "version": "3.6.4"
  },
  "widgets": {
   "application/vnd.jupyter.widget-state+json": {
    "state": {
     "00e522c872e54ea182be34474b8c43a3": {
      "model_module": "@jupyter-widgets/controls",
      "model_module_version": "1.1.0",
      "model_name": "DescriptionStyleModel",
      "state": {
       "description_width": ""
      }
     },
     "0273b8019ed84d8c8c16eeb443a07bee": {
      "model_module": "@jupyter-widgets/controls",
      "model_module_version": "1.1.0",
      "model_name": "DescriptionStyleModel",
      "state": {
       "description_width": ""
      }
     },
     "041670c09ad74ca4b5c6c60989b4a98e": {
      "model_module": "@jupyter-widgets/controls",
      "model_module_version": "1.1.0",
      "model_name": "DescriptionStyleModel",
      "state": {
       "description_width": ""
      }
     },
     "09cc4587dc1645aca5369f4d938b52ea": {
      "model_module": "@jupyter-widgets/controls",
      "model_module_version": "1.1.0",
      "model_name": "TextModel",
      "state": {
       "description": "CSV file:",
       "layout": "IPY_MODEL_cbb1c78dc2e74b1b8681cff2e8b9f284",
       "placeholder": "Name your scrap csv file",
       "style": "IPY_MODEL_0273b8019ed84d8c8c16eeb443a07bee"
      }
     },
     "0a4df2148d7a497a8210f3db4d7185d4": {
      "model_module": "@jupyter-widgets/controls",
      "model_module_version": "1.1.0",
      "model_name": "VBoxModel",
      "state": {
       "children": [
        "IPY_MODEL_738fc8abd711463eaaa0a50275d02cc1",
        "IPY_MODEL_2ae6fe5855ce4958955cdce84952a73a"
       ],
       "layout": "IPY_MODEL_600a1978219d4c41a73e101ae3945bfa"
      }
     },
     "0e0a4bcbf968479d9f37c56fb00d8e84": {
      "model_module": "@jupyter-widgets/controls",
      "model_module_version": "1.1.0",
      "model_name": "AccordionModel",
      "state": {
       "_titles": {
        "0": "Save: Folder Path",
        "1": "Save: CSV File",
        "2": "Scrap"
       },
       "children": [
        "IPY_MODEL_4fb2f59a872c4fbf87c58c41f5c921d9",
        "IPY_MODEL_135566adafde420db57732de59b0bccf",
        "IPY_MODEL_0a4df2148d7a497a8210f3db4d7185d4"
       ],
       "layout": "IPY_MODEL_337058e5f6f5418d99985f5d1112a68e"
      }
     },
     "0fb7585225ea4720be8391791bb78524": {
      "model_module": "@jupyter-widgets/controls",
      "model_module_version": "1.1.0",
      "model_name": "DescriptionStyleModel",
      "state": {
       "description_width": ""
      }
     },
     "113222d97f1e4eea85397a4c355f3de8": {
      "model_module": "@jupyter-widgets/base",
      "model_module_version": "1.0.0",
      "model_name": "LayoutModel",
      "state": {}
     },
     "135566adafde420db57732de59b0bccf": {
      "model_module": "@jupyter-widgets/controls",
      "model_module_version": "1.1.0",
      "model_name": "TextModel",
      "state": {
       "description": "CSV file:",
       "layout": "IPY_MODEL_ae057b603fd84212bd7dd69a5ffba04b",
       "placeholder": "Name your scrap csv file",
       "style": "IPY_MODEL_041670c09ad74ca4b5c6c60989b4a98e"
      }
     },
     "137782d1f88c4992a6fc90a27a03067a": {
      "model_module": "@jupyter-widgets/controls",
      "model_module_version": "1.1.0",
      "model_name": "AccordionModel",
      "state": {
       "_titles": {
        "0": "Link"
       },
       "children": [
        "IPY_MODEL_5bb338080e704423aac233946c9f4458"
       ],
       "layout": "IPY_MODEL_368b01483c554cdaaacc4a5d376eff43"
      }
     },
     "13d3b1bf102846109db485782ea8a679": {
      "model_module": "@jupyter-widgets/base",
      "model_module_version": "1.0.0",
      "model_name": "LayoutModel",
      "state": {}
     },
     "16458d954a00494687adcb0f9f006b65": {
      "model_module": "@jupyter-widgets/controls",
      "model_module_version": "1.1.0",
      "model_name": "AccordionModel",
      "state": {
       "_titles": {
        "0": "Link"
       },
       "children": [
        "IPY_MODEL_909d6ee5755b494b84f364792342eb05"
       ],
       "layout": "IPY_MODEL_dd1ae52d8ac44ee1b7100740784132e0"
      }
     },
     "2331aff9a55948d3b135b428be97df50": {
      "model_module": "@jupyter-widgets/base",
      "model_module_version": "1.0.0",
      "model_name": "LayoutModel",
      "state": {}
     },
     "23b768ed513347578293fdae6aa6ca42": {
      "model_module": "@jupyter-widgets/controls",
      "model_module_version": "1.1.0",
      "model_name": "TabModel",
      "state": {
       "_titles": {
        "0": "Data Source",
        "1": "Save Data"
       },
       "children": [
        "IPY_MODEL_536056cbba7145c1868b97215f875567",
        "IPY_MODEL_0e0a4bcbf968479d9f37c56fb00d8e84"
       ],
       "layout": "IPY_MODEL_59aafc8e2014427796eca318a19830fc"
      }
     },
     "2ae6fe5855ce4958955cdce84952a73a": {
      "model_module": "@jupyter-widgets/output",
      "model_module_version": "1.0.0",
      "model_name": "OutputModel",
      "state": {
       "layout": "IPY_MODEL_7895d253d1384fc3bbc749b789cdab8e"
      }
     },
     "2f056b489378414dbd81f47246fe0da3": {
      "model_module": "@jupyter-widgets/base",
      "model_module_version": "1.0.0",
      "model_name": "LayoutModel",
      "state": {}
     },
     "328a5cb846974f3ea2fbc5062d1b2aec": {
      "model_module": "@jupyter-widgets/base",
      "model_module_version": "1.0.0",
      "model_name": "LayoutModel",
      "state": {}
     },
     "336f91b3b74746198d53aabf9006d7c1": {
      "model_module": "@jupyter-widgets/base",
      "model_module_version": "1.0.0",
      "model_name": "LayoutModel",
      "state": {}
     },
     "337058e5f6f5418d99985f5d1112a68e": {
      "model_module": "@jupyter-widgets/base",
      "model_module_version": "1.0.0",
      "model_name": "LayoutModel",
      "state": {}
     },
     "368b01483c554cdaaacc4a5d376eff43": {
      "model_module": "@jupyter-widgets/base",
      "model_module_version": "1.0.0",
      "model_name": "LayoutModel",
      "state": {}
     },
     "392b8c0ec8d9448dba5172d2e2e4d06c": {
      "model_module": "@jupyter-widgets/controls",
      "model_module_version": "1.1.0",
      "model_name": "DescriptionStyleModel",
      "state": {
       "description_width": ""
      }
     },
     "41bc86e7008d4bf8a2eb92127b30054b": {
      "model_module": "@jupyter-widgets/base",
      "model_module_version": "1.0.0",
      "model_name": "LayoutModel",
      "state": {}
     },
     "428cf8f9656344b3b332a1d8bd171e34": {
      "model_module": "@jupyter-widgets/controls",
      "model_module_version": "1.1.0",
      "model_name": "VBoxModel",
      "state": {
       "children": [
        "IPY_MODEL_faf05ef91fbb413d8f94aac51d657b9c",
        "IPY_MODEL_9358b98a70724943a1acb494c199eac8"
       ],
       "layout": "IPY_MODEL_57439bf964a14d5bb578d5de6d0a4853"
      }
     },
     "43c15f7822c24bb587758a2d28bf668b": {
      "model_module": "@jupyter-widgets/base",
      "model_module_version": "1.0.0",
      "model_name": "LayoutModel",
      "state": {}
     },
     "485ea46617474a05a7cfdd82fc03bcfa": {
      "model_module": "@jupyter-widgets/controls",
      "model_module_version": "1.1.0",
      "model_name": "VBoxModel",
      "state": {
       "children": [
        "IPY_MODEL_540752dd94dc4259bf04313573a96346",
        "IPY_MODEL_e0b814dba3704476af8ed87e7105c49c"
       ],
       "layout": "IPY_MODEL_e66f773b222546b4b7c2d382b25c708b"
      }
     },
     "4a9aeadbb5a74527a50879f26a725613": {
      "model_module": "@jupyter-widgets/base",
      "model_module_version": "1.0.0",
      "model_name": "LayoutModel",
      "state": {}
     },
     "4bf05ade196a4b809820028ff1757aa8": {
      "model_module": "@jupyter-widgets/controls",
      "model_module_version": "1.1.0",
      "model_name": "TabModel",
      "state": {
       "_titles": {
        "0": "Data Source",
        "1": "Save Data"
       },
       "children": [
        "IPY_MODEL_b2142ea7ed7c48f3ae8f2bf0ffe6e098",
        "IPY_MODEL_700de688fd5346bc8bc77aefa4f88c21"
       ],
       "layout": "IPY_MODEL_632a4edb8c5244158bd50d92c35e2d16"
      }
     },
     "4c08fff60a8e4897a109994008ad59ab": {
      "model_module": "@jupyter-widgets/base",
      "model_module_version": "1.0.0",
      "model_name": "LayoutModel",
      "state": {}
     },
     "4d094b6b43ed441bbace415e60754407": {
      "model_module": "@jupyter-widgets/base",
      "model_module_version": "1.0.0",
      "model_name": "LayoutModel",
      "state": {}
     },
     "4fb2f59a872c4fbf87c58c41f5c921d9": {
      "model_module": "@jupyter-widgets/controls",
      "model_module_version": "1.1.0",
      "model_name": "TextModel",
      "state": {
       "description": "Folder Path:",
       "layout": "IPY_MODEL_b39b8d7ec1a742cf8e97f21e0615fd5e",
       "placeholder": "Paste folder path to save",
       "style": "IPY_MODEL_faaacf47e5ee4137a15b68990d732427"
      }
     },
     "50d31b048bb141b9a0c1267a145123a2": {
      "model_module": "@jupyter-widgets/controls",
      "model_module_version": "1.1.0",
      "model_name": "DescriptionStyleModel",
      "state": {
       "description_width": ""
      }
     },
     "5116b6f883334a63a5b9106352a78a34": {
      "model_module": "@jupyter-widgets/controls",
      "model_module_version": "1.1.0",
      "model_name": "TextModel",
      "state": {
       "description": "Folder Path:",
       "layout": "IPY_MODEL_336f91b3b74746198d53aabf9006d7c1",
       "placeholder": "Paste folder path to save",
       "style": "IPY_MODEL_699d2fe8c37444c78129c6a96c8c0ed0"
      }
     },
     "536056cbba7145c1868b97215f875567": {
      "model_module": "@jupyter-widgets/controls",
      "model_module_version": "1.1.0",
      "model_name": "AccordionModel",
      "state": {
       "_titles": {
        "0": "Link"
       },
       "children": [
        "IPY_MODEL_fa43f732a3dd4c90820566532d62c78e"
       ],
       "layout": "IPY_MODEL_87000c194ab345a4ad2bb827b6600ae2"
      }
     },
     "540752dd94dc4259bf04313573a96346": {
      "model_module": "@jupyter-widgets/controls",
      "model_module_version": "1.1.0",
      "model_name": "ButtonModel",
      "state": {
       "description": "Scrap Me",
       "layout": "IPY_MODEL_a8597930d18248b6b696a9306a3f8630",
       "style": "IPY_MODEL_b455f41106334d4985965abe96df8b0a"
      }
     },
     "57439bf964a14d5bb578d5de6d0a4853": {
      "model_module": "@jupyter-widgets/base",
      "model_module_version": "1.0.0",
      "model_name": "LayoutModel",
      "state": {}
     },
     "59aafc8e2014427796eca318a19830fc": {
      "model_module": "@jupyter-widgets/base",
      "model_module_version": "1.0.0",
      "model_name": "LayoutModel",
      "state": {}
     },
     "5b4b372f1e194af0a695d4b2c36764df": {
      "model_module": "@jupyter-widgets/base",
      "model_module_version": "1.0.0",
      "model_name": "LayoutModel",
      "state": {}
     },
     "5bb338080e704423aac233946c9f4458": {
      "model_module": "@jupyter-widgets/controls",
      "model_module_version": "1.1.0",
      "model_name": "TextModel",
      "state": {
       "description": "Link:",
       "layout": "IPY_MODEL_41bc86e7008d4bf8a2eb92127b30054b",
       "placeholder": "Paste your mudah.my link here",
       "style": "IPY_MODEL_0fb7585225ea4720be8391791bb78524"
      }
     },
     "5e0bc669dafa47d88e20984206920795": {
      "model_module": "@jupyter-widgets/base",
      "model_module_version": "1.0.0",
      "model_name": "LayoutModel",
      "state": {}
     },
     "5fc2434699c64f84ae2b2ae9a2a6b290": {
      "model_module": "@jupyter-widgets/controls",
      "model_module_version": "1.1.0",
      "model_name": "AccordionModel",
      "state": {
       "_titles": {
        "0": "Link"
       },
       "children": [
        "IPY_MODEL_db536f85a91647c4857a0d2c777fceda"
       ],
       "layout": "IPY_MODEL_86ab297bc61547819b57c0b69fd0f2c9"
      }
     },
     "600a1978219d4c41a73e101ae3945bfa": {
      "model_module": "@jupyter-widgets/base",
      "model_module_version": "1.0.0",
      "model_name": "LayoutModel",
      "state": {}
     },
     "632a4edb8c5244158bd50d92c35e2d16": {
      "model_module": "@jupyter-widgets/base",
      "model_module_version": "1.0.0",
      "model_name": "LayoutModel",
      "state": {}
     },
     "63662d6eefe5492d80e5e6206549f5f6": {
      "model_module": "@jupyter-widgets/base",
      "model_module_version": "1.0.0",
      "model_name": "LayoutModel",
      "state": {}
     },
     "6491d32620a34057ba5a81f30adcc84c": {
      "model_module": "@jupyter-widgets/controls",
      "model_module_version": "1.1.0",
      "model_name": "TextModel",
      "state": {
       "description": "CSV file:",
       "layout": "IPY_MODEL_2f056b489378414dbd81f47246fe0da3",
       "placeholder": "Name your scrap csv file",
       "style": "IPY_MODEL_ecefe8cdda9647c1abaa8d76f9442aa9"
      }
     },
     "68d3a5e202d04730bdaaeb2dc759bc80": {
      "model_module": "@jupyter-widgets/controls",
      "model_module_version": "1.1.0",
      "model_name": "DescriptionStyleModel",
      "state": {
       "description_width": ""
      }
     },
     "699d2fe8c37444c78129c6a96c8c0ed0": {
      "model_module": "@jupyter-widgets/controls",
      "model_module_version": "1.1.0",
      "model_name": "DescriptionStyleModel",
      "state": {
       "description_width": ""
      }
     },
     "6a4a86646d5b4e8bbcceae1c9951506c": {
      "model_module": "@jupyter-widgets/controls",
      "model_module_version": "1.1.0",
      "model_name": "TabModel",
      "state": {
       "_titles": {
        "0": "Data Source",
        "1": "Save Data"
       },
       "children": [
        "IPY_MODEL_137782d1f88c4992a6fc90a27a03067a",
        "IPY_MODEL_a546614f2d3f4225b85c42d64c06ef80"
       ],
       "layout": "IPY_MODEL_c5b9ec5cba6149be90e8ccecfda39f14"
      }
     },
     "6ae6df5d2d524d8dbf2a6b86033ca96a": {
      "model_module": "@jupyter-widgets/base",
      "model_module_version": "1.0.0",
      "model_name": "LayoutModel",
      "state": {}
     },
     "700de688fd5346bc8bc77aefa4f88c21": {
      "model_module": "@jupyter-widgets/controls",
      "model_module_version": "1.1.0",
      "model_name": "AccordionModel",
      "state": {
       "_titles": {
        "0": "Save: Folder Path",
        "1": "Save: CSV File",
        "2": "Scrap"
       },
       "children": [
        "IPY_MODEL_f30fe915c74a46d3aae7afeef6f8b72f",
        "IPY_MODEL_6491d32620a34057ba5a81f30adcc84c",
        "IPY_MODEL_a994face0d6e4988abf45fea035f71f2"
       ],
       "layout": "IPY_MODEL_939291e420da438c8651d42f4d9e68c4",
       "selected_index": null
      }
     },
     "738fc8abd711463eaaa0a50275d02cc1": {
      "model_module": "@jupyter-widgets/controls",
      "model_module_version": "1.1.0",
      "model_name": "ButtonModel",
      "state": {
       "description": "Scrap Me",
       "layout": "IPY_MODEL_13d3b1bf102846109db485782ea8a679",
       "style": "IPY_MODEL_bd37792038a54ddbab3cdba65bd9f368"
      }
     },
     "7895d253d1384fc3bbc749b789cdab8e": {
      "model_module": "@jupyter-widgets/base",
      "model_module_version": "1.0.0",
      "model_name": "LayoutModel",
      "state": {}
     },
     "7df789cae8de4a1791b5dbae6bbba4ee": {
      "model_module": "@jupyter-widgets/controls",
      "model_module_version": "1.1.0",
      "model_name": "DescriptionStyleModel",
      "state": {
       "description_width": ""
      }
     },
     "83a24a10761d4a8aad5fe73317f1030d": {
      "model_module": "@jupyter-widgets/base",
      "model_module_version": "1.0.0",
      "model_name": "LayoutModel",
      "state": {}
     },
     "86ab297bc61547819b57c0b69fd0f2c9": {
      "model_module": "@jupyter-widgets/base",
      "model_module_version": "1.0.0",
      "model_name": "LayoutModel",
      "state": {}
     },
     "87000c194ab345a4ad2bb827b6600ae2": {
      "model_module": "@jupyter-widgets/base",
      "model_module_version": "1.0.0",
      "model_name": "LayoutModel",
      "state": {}
     },
     "8e5726a6eff248f6962e76dcfe4b9bce": {
      "model_module": "@jupyter-widgets/base",
      "model_module_version": "1.0.0",
      "model_name": "LayoutModel",
      "state": {}
     },
     "909d6ee5755b494b84f364792342eb05": {
      "model_module": "@jupyter-widgets/controls",
      "model_module_version": "1.1.0",
      "model_name": "TextModel",
      "state": {
       "description": "Link:",
       "layout": "IPY_MODEL_9613a9d2adc14f39b191ff516b05a7fe",
       "placeholder": "Paste your mudah.my link here",
       "style": "IPY_MODEL_50d31b048bb141b9a0c1267a145123a2"
      }
     },
     "90add8e306d24c91b5a5eefb02da3c26": {
      "model_module": "@jupyter-widgets/controls",
      "model_module_version": "1.1.0",
      "model_name": "ButtonStyleModel",
      "state": {}
     },
     "9358b98a70724943a1acb494c199eac8": {
      "model_module": "@jupyter-widgets/output",
      "model_module_version": "1.0.0",
      "model_name": "OutputModel",
      "state": {
       "layout": "IPY_MODEL_4c08fff60a8e4897a109994008ad59ab"
      }
     },
     "939291e420da438c8651d42f4d9e68c4": {
      "model_module": "@jupyter-widgets/base",
      "model_module_version": "1.0.0",
      "model_name": "LayoutModel",
      "state": {}
     },
     "9613a9d2adc14f39b191ff516b05a7fe": {
      "model_module": "@jupyter-widgets/base",
      "model_module_version": "1.0.0",
      "model_name": "LayoutModel",
      "state": {}
     },
     "981a7972b82340ba894615dd807c2e41": {
      "model_module": "@jupyter-widgets/controls",
      "model_module_version": "1.1.0",
      "model_name": "VBoxModel",
      "state": {
       "children": [
        "IPY_MODEL_540752dd94dc4259bf04313573a96346",
        "IPY_MODEL_e0b814dba3704476af8ed87e7105c49c"
       ],
       "layout": "IPY_MODEL_d9ba6524f819478992d2564f67439caf"
      }
     },
     "9a7487023f6b479dbfd16d40bde09860": {
      "model_module": "@jupyter-widgets/controls",
      "model_module_version": "1.1.0",
      "model_name": "AccordionModel",
      "state": {
       "_titles": {
        "0": "Link"
       },
       "children": [
        "IPY_MODEL_909d6ee5755b494b84f364792342eb05"
       ],
       "layout": "IPY_MODEL_4a9aeadbb5a74527a50879f26a725613"
      }
     },
     "a546614f2d3f4225b85c42d64c06ef80": {
      "model_module": "@jupyter-widgets/controls",
      "model_module_version": "1.1.0",
      "model_name": "AccordionModel",
      "state": {
       "_titles": {
        "0": "Save: Folder Path",
        "1": "Save: CSV File",
        "2": "Scrap"
       },
       "children": [
        "IPY_MODEL_a724c17b99c3439da3946a46e972b2d5",
        "IPY_MODEL_09cc4587dc1645aca5369f4d938b52ea",
        "IPY_MODEL_428cf8f9656344b3b332a1d8bd171e34"
       ],
       "layout": "IPY_MODEL_63662d6eefe5492d80e5e6206549f5f6"
      }
     },
     "a64eaf0611774ee8b52a32258ab5c388": {
      "model_module": "@jupyter-widgets/controls",
      "model_module_version": "1.1.0",
      "model_name": "AccordionModel",
      "state": {
       "_titles": {
        "0": "Link"
       },
       "children": [
        "IPY_MODEL_db536f85a91647c4857a0d2c777fceda"
       ],
       "layout": "IPY_MODEL_ca1f1ddab19943938988b2fffde8bb7f"
      }
     },
     "a724c17b99c3439da3946a46e972b2d5": {
      "model_module": "@jupyter-widgets/controls",
      "model_module_version": "1.1.0",
      "model_name": "TextModel",
      "state": {
       "description": "Folder Path:",
       "layout": "IPY_MODEL_5b4b372f1e194af0a695d4b2c36764df",
       "placeholder": "Paste folder path to save",
       "style": "IPY_MODEL_392b8c0ec8d9448dba5172d2e2e4d06c"
      }
     },
     "a8597930d18248b6b696a9306a3f8630": {
      "model_module": "@jupyter-widgets/base",
      "model_module_version": "1.0.0",
      "model_name": "LayoutModel",
      "state": {}
     },
     "a881cec0f26e4666a99af802121849fc": {
      "model_module": "@jupyter-widgets/controls",
      "model_module_version": "1.1.0",
      "model_name": "TabModel",
      "state": {
       "_titles": {
        "0": "Data Source",
        "1": "Save Data"
       },
       "children": [
        "IPY_MODEL_16458d954a00494687adcb0f9f006b65",
        "IPY_MODEL_db2bb9aede7e49378399886a74e8307e"
       ],
       "layout": "IPY_MODEL_cd3f6611f8ad46be934a628aa7aa2f13"
      }
     },
     "a994face0d6e4988abf45fea035f71f2": {
      "model_module": "@jupyter-widgets/controls",
      "model_module_version": "1.1.0",
      "model_name": "VBoxModel",
      "state": {
       "children": [
        "IPY_MODEL_540752dd94dc4259bf04313573a96346",
        "IPY_MODEL_e0b814dba3704476af8ed87e7105c49c"
       ],
       "layout": "IPY_MODEL_83a24a10761d4a8aad5fe73317f1030d"
      }
     },
     "ad0202f978164750bb6b1cfc3a9fba36": {
      "model_module": "@jupyter-widgets/controls",
      "model_module_version": "1.1.0",
      "model_name": "ButtonStyleModel",
      "state": {}
     },
     "ae057b603fd84212bd7dd69a5ffba04b": {
      "model_module": "@jupyter-widgets/base",
      "model_module_version": "1.0.0",
      "model_name": "LayoutModel",
      "state": {}
     },
     "b2142ea7ed7c48f3ae8f2bf0ffe6e098": {
      "model_module": "@jupyter-widgets/controls",
      "model_module_version": "1.1.0",
      "model_name": "AccordionModel",
      "state": {
       "_titles": {
        "0": "Link"
       },
       "children": [
        "IPY_MODEL_909d6ee5755b494b84f364792342eb05"
       ],
       "layout": "IPY_MODEL_328a5cb846974f3ea2fbc5062d1b2aec"
      }
     },
     "b39b8d7ec1a742cf8e97f21e0615fd5e": {
      "model_module": "@jupyter-widgets/base",
      "model_module_version": "1.0.0",
      "model_name": "LayoutModel",
      "state": {}
     },
     "b455f41106334d4985965abe96df8b0a": {
      "model_module": "@jupyter-widgets/controls",
      "model_module_version": "1.1.0",
      "model_name": "ButtonStyleModel",
      "state": {}
     },
     "baf7194f2efb4c8b88dfacec4fe64a2a": {
      "model_module": "@jupyter-widgets/controls",
      "model_module_version": "1.1.0",
      "model_name": "AccordionModel",
      "state": {
       "_titles": {
        "0": "Save: Folder Path",
        "1": "Save: CSV File",
        "2": "Scrap"
       },
       "children": [
        "IPY_MODEL_5116b6f883334a63a5b9106352a78a34",
        "IPY_MODEL_bfa6ebf31e704beeadc0446e53365f8d",
        "IPY_MODEL_cdc85398ccaa43a18295d066bafe0d5f"
       ],
       "layout": "IPY_MODEL_bf0c9ecbd8214a47942fecf1e2cf2065"
      }
     },
     "bc7225c7207442a98da9afdba5c9bbce": {
      "model_module": "@jupyter-widgets/base",
      "model_module_version": "1.0.0",
      "model_name": "LayoutModel",
      "state": {}
     },
     "bd37792038a54ddbab3cdba65bd9f368": {
      "model_module": "@jupyter-widgets/controls",
      "model_module_version": "1.1.0",
      "model_name": "ButtonStyleModel",
      "state": {}
     },
     "bf0c9ecbd8214a47942fecf1e2cf2065": {
      "model_module": "@jupyter-widgets/base",
      "model_module_version": "1.0.0",
      "model_name": "LayoutModel",
      "state": {}
     },
     "bfa6ebf31e704beeadc0446e53365f8d": {
      "model_module": "@jupyter-widgets/controls",
      "model_module_version": "1.1.0",
      "model_name": "TextModel",
      "state": {
       "description": "CSV file:",
       "layout": "IPY_MODEL_f61e62ed30854b75a2d6b992df3c3f86",
       "placeholder": "Name your scrap csv file",
       "style": "IPY_MODEL_68d3a5e202d04730bdaaeb2dc759bc80"
      }
     },
     "c37ff2c9c0d14375ad5ebf19f649c344": {
      "model_module": "@jupyter-widgets/base",
      "model_module_version": "1.0.0",
      "model_name": "LayoutModel",
      "state": {}
     },
     "c5b9ec5cba6149be90e8ccecfda39f14": {
      "model_module": "@jupyter-widgets/base",
      "model_module_version": "1.0.0",
      "model_name": "LayoutModel",
      "state": {}
     },
     "ca1f1ddab19943938988b2fffde8bb7f": {
      "model_module": "@jupyter-widgets/base",
      "model_module_version": "1.0.0",
      "model_name": "LayoutModel",
      "state": {}
     },
     "cbb1c78dc2e74b1b8681cff2e8b9f284": {
      "model_module": "@jupyter-widgets/base",
      "model_module_version": "1.0.0",
      "model_name": "LayoutModel",
      "state": {}
     },
     "cd3f6611f8ad46be934a628aa7aa2f13": {
      "model_module": "@jupyter-widgets/base",
      "model_module_version": "1.0.0",
      "model_name": "LayoutModel",
      "state": {}
     },
     "cdc85398ccaa43a18295d066bafe0d5f": {
      "model_module": "@jupyter-widgets/controls",
      "model_module_version": "1.1.0",
      "model_name": "VBoxModel",
      "state": {
       "children": [
        "IPY_MODEL_df8028725b8a4a47801aaa4688e0ffe2",
        "IPY_MODEL_efebde95e7504f6eb22c687e5a3380b3"
       ],
       "layout": "IPY_MODEL_dd012a89709c452abf411adea39bce43"
      }
     },
     "ce7a09a1dff648b4b226479e65482b66": {
      "model_module": "@jupyter-widgets/controls",
      "model_module_version": "1.1.0",
      "model_name": "AccordionModel",
      "state": {
       "_titles": {
        "0": "Save: Folder Path",
        "1": "Save: CSV File",
        "2": "Scrap"
       },
       "children": [
        "IPY_MODEL_f30fe915c74a46d3aae7afeef6f8b72f",
        "IPY_MODEL_6491d32620a34057ba5a81f30adcc84c",
        "IPY_MODEL_981a7972b82340ba894615dd807c2e41"
       ],
       "layout": "IPY_MODEL_c37ff2c9c0d14375ad5ebf19f649c344"
      }
     },
     "d5297c886e794d2a8b606207332097e8": {
      "model_module": "@jupyter-widgets/base",
      "model_module_version": "1.0.0",
      "model_name": "LayoutModel",
      "state": {}
     },
     "d75d6a3f43fd44e58687a084bc9258fd": {
      "model_module": "@jupyter-widgets/base",
      "model_module_version": "1.0.0",
      "model_name": "LayoutModel",
      "state": {}
     },
     "d88a36349ba64a80971c720ff12a4a40": {
      "model_module": "@jupyter-widgets/controls",
      "model_module_version": "1.1.0",
      "model_name": "DescriptionStyleModel",
      "state": {
       "description_width": ""
      }
     },
     "d9ba6524f819478992d2564f67439caf": {
      "model_module": "@jupyter-widgets/base",
      "model_module_version": "1.0.0",
      "model_name": "LayoutModel",
      "state": {}
     },
     "db2bb9aede7e49378399886a74e8307e": {
      "model_module": "@jupyter-widgets/controls",
      "model_module_version": "1.1.0",
      "model_name": "AccordionModel",
      "state": {
       "_titles": {
        "0": "Save: Folder Path",
        "1": "Save: CSV File",
        "2": "Scrap"
       },
       "children": [
        "IPY_MODEL_f30fe915c74a46d3aae7afeef6f8b72f",
        "IPY_MODEL_6491d32620a34057ba5a81f30adcc84c",
        "IPY_MODEL_485ea46617474a05a7cfdd82fc03bcfa"
       ],
       "layout": "IPY_MODEL_d5297c886e794d2a8b606207332097e8"
      }
     },
     "db536f85a91647c4857a0d2c777fceda": {
      "model_module": "@jupyter-widgets/controls",
      "model_module_version": "1.1.0",
      "model_name": "TextModel",
      "state": {
       "description": "Link:",
       "layout": "IPY_MODEL_bc7225c7207442a98da9afdba5c9bbce",
       "placeholder": "Paste your mudah.my link here",
       "style": "IPY_MODEL_00e522c872e54ea182be34474b8c43a3"
      }
     },
     "dd012a89709c452abf411adea39bce43": {
      "model_module": "@jupyter-widgets/base",
      "model_module_version": "1.0.0",
      "model_name": "LayoutModel",
      "state": {}
     },
     "dd1ae52d8ac44ee1b7100740784132e0": {
      "model_module": "@jupyter-widgets/base",
      "model_module_version": "1.0.0",
      "model_name": "LayoutModel",
      "state": {}
     },
     "ddb645534dcb4d1983c2879467dea204": {
      "model_module": "@jupyter-widgets/base",
      "model_module_version": "1.0.0",
      "model_name": "LayoutModel",
      "state": {}
     },
     "df8028725b8a4a47801aaa4688e0ffe2": {
      "model_module": "@jupyter-widgets/controls",
      "model_module_version": "1.1.0",
      "model_name": "ButtonModel",
      "state": {
       "description": "Scrap Me",
       "layout": "IPY_MODEL_113222d97f1e4eea85397a4c355f3de8",
       "style": "IPY_MODEL_ad0202f978164750bb6b1cfc3a9fba36"
      }
     },
     "e0b814dba3704476af8ed87e7105c49c": {
      "model_module": "@jupyter-widgets/output",
      "model_module_version": "1.0.0",
      "model_name": "OutputModel",
      "state": {
       "layout": "IPY_MODEL_d75d6a3f43fd44e58687a084bc9258fd"
      }
     },
     "e66f773b222546b4b7c2d382b25c708b": {
      "model_module": "@jupyter-widgets/base",
      "model_module_version": "1.0.0",
      "model_name": "LayoutModel",
      "state": {}
     },
     "ecefe8cdda9647c1abaa8d76f9442aa9": {
      "model_module": "@jupyter-widgets/controls",
      "model_module_version": "1.1.0",
      "model_name": "DescriptionStyleModel",
      "state": {
       "description_width": ""
      }
     },
     "efebde95e7504f6eb22c687e5a3380b3": {
      "model_module": "@jupyter-widgets/output",
      "model_module_version": "1.0.0",
      "model_name": "OutputModel",
      "state": {
       "layout": "IPY_MODEL_8e5726a6eff248f6962e76dcfe4b9bce"
      }
     },
     "f30fe915c74a46d3aae7afeef6f8b72f": {
      "model_module": "@jupyter-widgets/controls",
      "model_module_version": "1.1.0",
      "model_name": "TextModel",
      "state": {
       "description": "Folder Path:",
       "layout": "IPY_MODEL_6ae6df5d2d524d8dbf2a6b86033ca96a",
       "placeholder": "Paste folder path to save",
       "style": "IPY_MODEL_7df789cae8de4a1791b5dbae6bbba4ee"
      }
     },
     "f61e62ed30854b75a2d6b992df3c3f86": {
      "model_module": "@jupyter-widgets/base",
      "model_module_version": "1.0.0",
      "model_name": "LayoutModel",
      "state": {}
     },
     "f8ba3dffe0044919adaa217fd2c298e2": {
      "model_module": "@jupyter-widgets/controls",
      "model_module_version": "1.1.0",
      "model_name": "AccordionModel",
      "state": {
       "_titles": {
        "0": "Link"
       },
       "children": [
        "IPY_MODEL_5bb338080e704423aac233946c9f4458"
       ],
       "layout": "IPY_MODEL_2331aff9a55948d3b135b428be97df50"
      }
     },
     "fa43f732a3dd4c90820566532d62c78e": {
      "model_module": "@jupyter-widgets/controls",
      "model_module_version": "1.1.0",
      "model_name": "TextModel",
      "state": {
       "description": "Link:",
       "layout": "IPY_MODEL_4d094b6b43ed441bbace415e60754407",
       "placeholder": "Paste your mudah.my link here",
       "style": "IPY_MODEL_d88a36349ba64a80971c720ff12a4a40"
      }
     },
     "faaacf47e5ee4137a15b68990d732427": {
      "model_module": "@jupyter-widgets/controls",
      "model_module_version": "1.1.0",
      "model_name": "DescriptionStyleModel",
      "state": {
       "description_width": ""
      }
     },
     "faf05ef91fbb413d8f94aac51d657b9c": {
      "model_module": "@jupyter-widgets/controls",
      "model_module_version": "1.1.0",
      "model_name": "ButtonModel",
      "state": {
       "description": "Scrap Me",
       "layout": "IPY_MODEL_ddb645534dcb4d1983c2879467dea204",
       "style": "IPY_MODEL_90add8e306d24c91b5a5eefb02da3c26"
      }
     },
     "fb8334a14bf145c89f4f262e8de7e5fa": {
      "model_module": "@jupyter-widgets/controls",
      "model_module_version": "1.1.0",
      "model_name": "TabModel",
      "state": {
       "_titles": {
        "0": "Data Source",
        "1": "Save Data"
       },
       "children": [
        "IPY_MODEL_5fc2434699c64f84ae2b2ae9a2a6b290",
        "IPY_MODEL_baf7194f2efb4c8b88dfacec4fe64a2a"
       ],
       "layout": "IPY_MODEL_5e0bc669dafa47d88e20984206920795"
      }
     },
     "fe218002d0b64d028c8d7851998b99c7": {
      "model_module": "@jupyter-widgets/controls",
      "model_module_version": "1.1.0",
      "model_name": "TabModel",
      "state": {
       "_titles": {
        "0": "Data Source",
        "1": "Save Data"
       },
       "children": [
        "IPY_MODEL_a64eaf0611774ee8b52a32258ab5c388",
        "IPY_MODEL_baf7194f2efb4c8b88dfacec4fe64a2a"
       ],
       "layout": "IPY_MODEL_43c15f7822c24bb587758a2d28bf668b"
      }
     }
    },
    "version_major": 2,
    "version_minor": 0
   }
  }
 },
 "nbformat": 4,
 "nbformat_minor": 2
}
