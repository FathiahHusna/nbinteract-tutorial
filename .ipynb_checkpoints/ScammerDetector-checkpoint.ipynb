{
 "cells": [
  {
   "cell_type": "code",
   "execution_count": 4,
   "metadata": {},
   "outputs": [],
   "source": [
    "#nbi:hide_in\n",
    "from IPython.display import display, Markdown, clear_output\n",
    "from ipywidgets import interact, ButtonStyle\n",
    "import ipywidgets as widgets"
   ]
  },
  {
   "cell_type": "code",
   "execution_count": 80,
   "metadata": {},
   "outputs": [],
   "source": [
    "#nbi:hide_in\n",
    "gmbr_mudah = widgets.HTML(\n",
    "    value='<img src=\"mudah.png\">',\n",
    "    placeholder='',\n",
    "    description='',\n",
    "\n",
    ")\n",
    "#gmbr_mudah\n",
    "#widgets.HTML(value='<img src=\"path_to_image.png\">')"
   ]
  },
  {
   "cell_type": "code",
   "execution_count": 103,
   "metadata": {},
   "outputs": [],
   "source": [
    "#nbi:hide_in\n",
    "gmbr_scam = widgets.HTML(\n",
    "    value='<img src=\"SD1.png\">',\n",
    "    placeholder='',\n",
    "    description='',\n",
    "\n",
    ")\n",
    "#gmbr_scam"
   ]
  },
  {
   "cell_type": "code",
   "execution_count": 6,
   "metadata": {},
   "outputs": [],
   "source": [
    "#nbi:hide_in\n",
    "helpbtn = widgets.Button(\n",
    "    style=ButtonStyle(button_color='lightblue'),\n",
    "    description='Help',\n",
    "    disabled=False,\n",
    "    button_style='', # 'success', 'info', 'warning', 'danger' or ''\n",
    ")\n",
    "#helpbtn"
   ]
  },
  {
   "cell_type": "code",
   "execution_count": 7,
   "metadata": {},
   "outputs": [],
   "source": [
    "#nbi:hide_in\n",
    "aboutbtn = widgets.Button(\n",
    "    style=ButtonStyle(button_color='lightblue'),\n",
    "    description='About Us',\n",
    "    disabled=False,\n",
    "    button_style='', # 'success', 'info', 'warning', 'danger' or ''\n",
    ")\n",
    "#aboutbtn"
   ]
  },
  {
   "cell_type": "code",
   "execution_count": 8,
   "metadata": {},
   "outputs": [],
   "source": [
    "#nbi:hide_in\n",
    "str_header1 = widgets.HTML(\n",
    "    value=\"Beware of <b>SCAMMER</b>, buy from the <b>TRUSTED<b> one\",\n",
    "    placeholder='',\n",
    "    description='',\n",
    "\n",
    ")\n",
    "#str_header1"
   ]
  },
  {
   "cell_type": "code",
   "execution_count": 9,
   "metadata": {},
   "outputs": [],
   "source": [
    "#nbi:hide_in\n",
    "str_scammer = widgets.HTML(\n",
    "    value=\"<b>Scammer Detector<b>\",\n",
    "    placeholder='',\n",
    "    description='',\n",
    "\n",
    ")"
   ]
  },
  {
   "cell_type": "code",
   "execution_count": 101,
   "metadata": {},
   "outputs": [],
   "source": [
    "#nbi:hide_in\n",
    "#header = widgets.VBox([widgets.HBox([logo_mudah, str_scammer, helpbtn, aboutbtn]), str_header1])\n",
    "header = widgets.HBox([gmbr_mudah, gmbr_scam, widgets.VBox([helpbtn, aboutbtn])])\n",
    "#header"
   ]
  },
  {
   "cell_type": "code",
   "execution_count": 11,
   "metadata": {},
   "outputs": [],
   "source": [
    "#nbi:hide_in\n",
    "meurl=widgets.Text(value= '', placeholder='Paste your mudah.my link here', description='Link:', disabled=False)\n",
    "#meurl"
   ]
  },
  {
   "cell_type": "code",
   "execution_count": 12,
   "metadata": {},
   "outputs": [],
   "source": [
    "#nbi:hide_in\n",
    "fpath = widgets.Text(\n",
    "    value='',\n",
    "    placeholder='Save Scraped Dataset',\n",
    "    description='Folder Path:',\n",
    "    disabled=False\n",
    ")\n",
    "#fpath"
   ]
  },
  {
   "cell_type": "code",
   "execution_count": 13,
   "metadata": {},
   "outputs": [],
   "source": [
    "#nbi:hide_in\n",
    "fname = widgets.Text(\n",
    "    value='',\n",
    "    placeholder='Name your scrap csv file',\n",
    "    description='CSV file:',\n",
    "    disabled=False\n",
    ")\n",
    "#fname"
   ]
  },
  {
   "cell_type": "code",
   "execution_count": 14,
   "metadata": {},
   "outputs": [],
   "source": [
    "#nbi:hide_in\n",
    "lpath = widgets.Text(\n",
    "    value='',\n",
    "    placeholder='Upload cleaned dataset',\n",
    "    description='Folder Path:',\n",
    "    disabled=False\n",
    ")\n",
    "#lpath"
   ]
  },
  {
   "cell_type": "code",
   "execution_count": 15,
   "metadata": {},
   "outputs": [],
   "source": [
    "#nbi:hide_in\n",
    "lname = widgets.Text(\n",
    "    value='',\n",
    "    placeholder='Name of cleaned csv file',\n",
    "    description='CSV file:',\n",
    "    disabled=False\n",
    ")\n",
    "#lname"
   ]
  },
  {
   "cell_type": "code",
   "execution_count": 16,
   "metadata": {},
   "outputs": [],
   "source": [
    "#nbi:hide_in\n",
    "str_link= widgets.HTML(\n",
    "    value=\"<i><b>https://www.mudah.my/malaysia/cars-for-sale?o=1&q=&th=1</b><i>\",\n",
    "    placeholder='',\n",
    "    description='Sample Link:',\n",
    ")\n",
    "#str_link"
   ]
  },
  {
   "cell_type": "code",
   "execution_count": 17,
   "metadata": {},
   "outputs": [],
   "source": [
    "#nbi:hide_in\n",
    "str_folder= widgets.HTML(\n",
    "    value=\"<i><b>C:\\\\Users\\\\LENOVO\\\\Documents</b><i>\",\n",
    "    placeholder='',\n",
    "    description='Sample Path:',\n",
    ")\n",
    "#str_folder"
   ]
  },
  {
   "cell_type": "code",
   "execution_count": 18,
   "metadata": {},
   "outputs": [],
   "source": [
    "#nbi:hide_in\n",
    "str_csv= widgets.HTML(\n",
    "    value=\"<i><b>kereta</b><i>\",\n",
    "    placeholder='',\n",
    "    description='Sample CSV:',\n",
    ")\n",
    "#str_csv"
   ]
  },
  {
   "cell_type": "code",
   "execution_count": 19,
   "metadata": {},
   "outputs": [],
   "source": [
    "#nbi:hide_in\n",
    "str_view= widgets.HTML(\n",
    "    value=\"<b>Choose how to view your data</b>\",\n",
    "    placeholder='',\n",
    "    description='',\n",
    ")\n",
    "#str_view"
   ]
  },
  {
   "cell_type": "code",
   "execution_count": 20,
   "metadata": {},
   "outputs": [],
   "source": [
    "#nbi:hide_in\n",
    "viewlist = ['-', '5', '6', '7', '8', '9', '10']\n",
    "view_head = widgets.Dropdown(\n",
    "    options=viewlist,\n",
    "    value= viewlist[0],\n",
    "    description='Head:',\n",
    "    disabled=False,\n",
    ")\n",
    "#view_head"
   ]
  },
  {
   "cell_type": "code",
   "execution_count": 21,
   "metadata": {},
   "outputs": [],
   "source": [
    "#nbi:hide_in\n",
    "view_rand = widgets.Dropdown(\n",
    "    options=viewlist,\n",
    "    value= viewlist[0],\n",
    "    description='Random:',\n",
    "    disabled=False,\n",
    ")\n",
    "#view_rand"
   ]
  },
  {
   "cell_type": "code",
   "execution_count": 22,
   "metadata": {},
   "outputs": [],
   "source": [
    "#nbi:hide_in\n",
    "view_tail = widgets.Dropdown(\n",
    "    options=viewlist,\n",
    "    value= viewlist[0],\n",
    "    description='Tail:',\n",
    "    disabled=False,\n",
    ")\n",
    "#view_tail"
   ]
  },
  {
   "cell_type": "code",
   "execution_count": 23,
   "metadata": {},
   "outputs": [],
   "source": [
    "#nbi:hide_in\n",
    "str_pca= widgets.HTML(\n",
    "    value=\"Apply <b>Data Mining<b> Method!!\",\n",
    "    placeholder='',\n",
    "    description='',\n",
    ")\n",
    "#str_pca"
   ]
  },
  {
   "cell_type": "code",
   "execution_count": 24,
   "metadata": {},
   "outputs": [],
   "source": [
    "#nbi:hide_in\n",
    "str_box= widgets.HTML(\n",
    "    value=\"<b>Choose to view and compare by attributes<b>\",\n",
    "    placeholder='',\n",
    "    description='',\n",
    ")\n",
    "#str_box"
   ]
  },
  {
   "cell_type": "code",
   "execution_count": 25,
   "metadata": {},
   "outputs": [],
   "source": [
    "#nbi:hide_in\n",
    "str_result= widgets.HTML(\n",
    "    value=\"<b>Click to view Potential Scammers!!<b>\",\n",
    "    placeholder='',\n",
    "    description='',\n",
    ")\n",
    "#str_result"
   ]
  },
  {
   "cell_type": "code",
   "execution_count": 26,
   "metadata": {},
   "outputs": [],
   "source": [
    "#nbi:hide_in\n",
    "pcabtn = widgets.Button(\n",
    "    style=ButtonStyle(button_color='orange'),\n",
    "    description='PCA!',\n",
    "    disabled=False,\n",
    "    button_style='', # 'success', 'info', 'warning', 'danger' or ''\n",
    "    tooltip='Click me',\n",
    "    icon='check'\n",
    ")\n",
    "#pcabtn\n",
    "#bscrap = widgets.Button(description='Scrap Me')"
   ]
  },
  {
   "cell_type": "code",
   "execution_count": 27,
   "metadata": {},
   "outputs": [],
   "source": [
    "#nbi:hide_in\n",
    "boxplotbtn = widgets.Button(\n",
    "    style=ButtonStyle(button_color='orange'),\n",
    "    description='Boxplot',\n",
    "    disabled=False,\n",
    "    button_style='', # 'success', 'info', 'warning', 'danger' or ''\n",
    "    tooltip='Click me',\n",
    "    icon='check'\n",
    ")\n",
    "#boxplotbtn"
   ]
  },
  {
   "cell_type": "code",
   "execution_count": 28,
   "metadata": {},
   "outputs": [],
   "source": [
    "#nbi:hide_in\n",
    "\n",
    "boxplot_filter = widgets.SelectMultiple(\n",
    "    options=['Price', 'Year', 'Mileage'],\n",
    "    value=['Price'],\n",
    "    rows=3,\n",
    "    description='Filter by',\n",
    "    disabled=False\n",
    ")\n"
   ]
  },
  {
   "cell_type": "code",
   "execution_count": 29,
   "metadata": {},
   "outputs": [],
   "source": [
    "#nbi:hide_in\n",
    "scambtn = widgets.Button(\n",
    "    style=ButtonStyle(button_color='red'),\n",
    "    description='Click Me',\n",
    "    disabled=False,\n",
    "    button_style='', # 'success', 'info', 'warning', 'danger' or ''\n",
    "    tooltip='Click me',\n",
    "    icon='check'\n",
    ")\n",
    "#scambtn"
   ]
  },
  {
   "cell_type": "code",
   "execution_count": 30,
   "metadata": {},
   "outputs": [],
   "source": [
    "#nbi:hide_in\n",
    "#filepath=fpath.value + \"\\\\\" + fname.value + \".csv\"\n",
    "#filepath"
   ]
  },
  {
   "cell_type": "code",
   "execution_count": 31,
   "metadata": {},
   "outputs": [],
   "source": [
    "#nbi:hide_in\n",
    "#accordion.children[0].value"
   ]
  },
  {
   "cell_type": "code",
   "execution_count": 32,
   "metadata": {},
   "outputs": [],
   "source": [
    "#nbi:hide_in\n",
    "#import dataframe\n",
    "import pandas as pd\n",
    "import requests as req\n",
    "#calling package URL lib\n",
    "from urllib.request import urlopen as uReq\n",
    "#pase HTML text\n",
    "from bs4 import BeautifulSoup as soup\n",
    "\n",
    "\n",
    "#filename = \"df_mulpages.csv\"\n",
    "#filename = filepath\n",
    "def scrapme(meurl):\n",
    "    def subs (Mileage):\n",
    "            if Mileage == \"0 - 4 999\":\n",
    "                return Mileage.replace(\"0 - 4 999\", \"2500\", 1)\n",
    "            elif Mileage == \"5 000 - 9 999\":\n",
    "                return Mileage.replace(\"5 000 - 9 999\", \"52500\", 1)\n",
    "            elif Mileage == \"10 000 - 14 999\":\n",
    "                return Mileage.replace(\"10 000 - 14 999\", \"12500\", 1)\n",
    "            elif Mileage == \"15 000 - 19 999\":\n",
    "                return Mileage.replace(\"15 000 - 19 999\", \"17500\", 1)\n",
    "            elif Mileage == \"20 000 - 24 999\":\n",
    "                return Mileage.replace(\"20 000 - 24 999\", \"22500\", 1)\n",
    "            elif Mileage == \"25 000 - 29 999\":\n",
    "                return Mileage.replace(\"25 000 - 29 999\", \"27500\", 1)\n",
    "            elif Mileage == \"30 000 - 34 999\":\n",
    "                return Mileage.replace(\"30 000 - 34 999\", \"32500\", 1)\n",
    "            elif Mileage == \"35 000 - 39 999\":\n",
    "                return Mileage.replace(\"35 000 - 39 999\", \"37500\", 1)\n",
    "            elif Mileage == \"40 000 - 44 999\":\n",
    "                return Mileage.replace(\"40 000 - 44 999\", \"42500\", 1)\n",
    "            elif Mileage == \"45 000 - 49 999\":\n",
    "                return Mileage.replace(\"45 000 - 49 999\", \"47500\", 1)\n",
    "            elif Mileage == \"50 000 - 54 999\":\n",
    "                return Mileage.replace(\"50 000 - 54 999\", \"52500\", 1)\n",
    "            elif Mileage == \"55 000 - 59 999\":\n",
    "                return Mileage.replace(\"55 000 - 59 999\", \"57500\", 1)\n",
    "            elif Mileage == \"60 000 - 64 999\":\n",
    "                return Mileage.replace(\"60 000 - 64 999\", \"62500\", 1)\n",
    "            elif Mileage == \"65 000 - 69 999\":\n",
    "                return Mileage.replace(\"65 000 - 69 999\", \"67500\", 1)\n",
    "            elif Mileage == \"70 000 - 74 999\":\n",
    "                return Mileage.replace(\"70 000 - 74 999\", \"72500\", 1)\n",
    "            elif Mileage == \"75 000 - 79 999\":\n",
    "                return Mileage.replace(\"75 000 - 79 999\", \"77500\", 1)\n",
    "            elif Mileage == \"80 000 - 84 999\":\n",
    "                return Mileage.replace(\"80 000 - 84 999\", \"82500\", 1)\n",
    "            elif Mileage == \"85 000 - 89 999\":\n",
    "                return Mileage.replace(\"85 000 - 89 999\", \"87500\", 1)\n",
    "            elif Mileage == \"90 000 - 94 999\":\n",
    "                return Mileage.replace(\"90 000 - 94 999\", \"92500\", 1)\n",
    "            elif Mileage == \"95 000 - 99 999\":\n",
    "                return Mileage.replace(\"95 000 - 99 999\", \"97500\", 1)\n",
    "            elif Mileage == \"100 000 - 109 999\":\n",
    "                return Mileage.replace(\"100 000 - 109 999\", \"105000\", 1)\n",
    "            elif Mileage == \"110 000 - 119 999\":\n",
    "                return Mileage.replace(\"110 000 - 119 999\", \"115000\", 1)\n",
    "            elif Mileage == \"120 000 - 129 999\":\n",
    "                return Mileage.replace(\"120 000 - 129 999\", \"125000\", 1)\n",
    "            elif Mileage == \"130 000 - 139 999\":\n",
    "                return Mileage.replace(\"130 000 - 139 999\", \"135000\", 1)\n",
    "            elif Mileage == \"140 000 - 149 999\":\n",
    "                return Mileage.replace(\"140 000 - 149 999\", \"145000\", 1)\n",
    "            elif Mileage == \"150 000 - 159 999\":\n",
    "                return Mileage.replace(\"150 000 - 159 999\", \"155000\", 1)\n",
    "            elif Mileage == \"160 000 - 169 999\":\n",
    "                return Mileage.replace(\"160 000 - 169 999\", \"165000\", 1)\n",
    "            elif Mileage == \"170 000 - 179 999\":\n",
    "                return Mileage.replace(\"170 000 - 179 999\", \"175000\", 1)\n",
    "            elif Mileage == \"180 000 - 189 999\":\n",
    "                return Mileage.replace(\"180 000 - 189 999\", \"185000\", 1)\n",
    "            elif Mileage == \"190 000 - 199 999\":\n",
    "                return Mileage.replace(\"190 000 - 199 999\", \"195000\", 1)\n",
    "            elif Mileage == \"200 000 - 249 999\":\n",
    "                return Mileage.replace(\"200 000 - 249 999\", \"225000\", 1)\n",
    "            elif Mileage == \"250 000 - 299 999\":\n",
    "                return Mileage.replace(\"250 000 - 299 999\", \"275000\", 1)\n",
    "            elif Mileage == \"300 000 - 349 999\":\n",
    "                return Mileage.replace(\"300 000 - 349 999\", \"325000\", 1)\n",
    "            elif Mileage == \"350 000 - 399 999\":\n",
    "                return Mileage.replace(\"350 000 - 399 999\", \"375000\", 1)\n",
    "            elif Mileage == \"400 000 - 449 999\":\n",
    "                return Mileage.replace(\"400 000 - 449 999\", \"425000\", 1)\n",
    "            elif Mileage == \"450 000 - 499 999\":\n",
    "                return Mileage.replace(\"450 000 - 499 999\", \"475000\", 1)\n",
    "            else:\n",
    "                return Mileage\n",
    "\n",
    "\n",
    "    #df = pd.DataFrame(data, columns=['Name', 'Price', 'Manufactured Year', 'Mileage', 'NewMil', 'CC', 'Condition', 'Link'])\n",
    "\n",
    "\n",
    "    def dprice (a):\n",
    "        if (' ' in a) == True:\n",
    "            return ''.join(a.split())\n",
    "        else:\n",
    "            return a\n",
    "    container = []\n",
    "    pages = []\n",
    "\n",
    "    for i in range(1,4):\n",
    "        my_url = 'https://www.mudah.my/malaysia/cars-for-sale?o=' + str(i) + '1&q=&th=1'\n",
    "        pages.append(my_url)\n",
    "\n",
    "    for item in pages:\n",
    "        page = req.get(item)\n",
    "        page_soup = soup(page.text, \"html.parser\")\n",
    "        containers = page_soup.findAll(\"div\", {\"class\":\"listing_params_container\"})\n",
    "\n",
    "\n",
    "        for fathiah in containers:\n",
    "\n",
    "            clink = fathiah.div.div.a[\"href\"]\n",
    "            name = fathiah.div.div.a[\"title\"].strip()\n",
    "            price = fathiah.findAll(\"div\", {\"class\":\"ads_price\"})\n",
    "            Price = price[0].text.strip()\n",
    "            year = fathiah.findAll(\"font\", {\"class\":\"icon_label\"})\n",
    "            Year = year[1].text.strip()\n",
    "            Mileage = year[2].text.strip()\n",
    "            CC = year[3].text.strip()\n",
    "            Condition = year[0].text.strip()\n",
    "\n",
    "            newMil = subs(Mileage).strip()\n",
    "            Price1 = Price.replace(\"RM\", \"\", 1)\n",
    "            nPrice = dprice(Price1)\n",
    "            container.append((name, nPrice, Year, Mileage, newMil, CC, Condition, clink))\n",
    "\n",
    "\n",
    "\n",
    "    df = pd.DataFrame(container, columns = ['Name', 'Price', 'Manufactured Year', 'Mileage', 'NewMil', 'CC', 'Condition', 'Link'])\n",
    "    #df.to_csv(filename, index=False, encoding='utf-8')"
   ]
  },
  {
   "cell_type": "code",
   "execution_count": 33,
   "metadata": {},
   "outputs": [],
   "source": [
    "#nbi:hide_in\n",
    "\n",
    "bscrap = widgets.Button(style=ButtonStyle(button_color='orange'), description='Scrap Me')\n",
    "oscrap = widgets.Output()\n",
    "def on_button_clicked(_):\n",
    "      # \"linking function with output\"\n",
    "      with oscrap:\n",
    "          # what happens when we press the button\n",
    "          clear_output()\n",
    "          #scrapme(meurl.value, filepath)\n",
    "          #plt.plot(X, y)\n",
    "          print('Me Scrapped!')\n",
    "# linking button and function together using a button's method\n",
    "bscrap.on_click(on_button_clicked)\n",
    "# displaying button and its output together\n",
    "#widgets.VBox([bscrap,oscrap])"
   ]
  },
  {
   "cell_type": "code",
   "execution_count": 102,
   "metadata": {},
   "outputs": [
    {
     "data": {
      "application/vnd.jupyter.widget-view+json": {
       "model_id": "da89f284ae984bf082a7c7e25cba7a31",
       "version_major": 2,
       "version_minor": 0
      },
      "text/html": [
       "<p>Failed to display Jupyter Widget of type <code>HBox</code>.</p>\n",
       "<p>\n",
       "  If you're reading this message in the Jupyter Notebook or JupyterLab Notebook, it may mean\n",
       "  that the widgets JavaScript is still loading. If this message persists, it\n",
       "  likely means that the widgets JavaScript library is either not installed or\n",
       "  not enabled. See the <a href=\"https://ipywidgets.readthedocs.io/en/stable/user_install.html\">Jupyter\n",
       "  Widgets Documentation</a> for setup instructions.\n",
       "</p>\n",
       "<p>\n",
       "  If you're reading this message in another frontend (for example, a static\n",
       "  rendering on GitHub or <a href=\"https://nbviewer.jupyter.org/\">NBViewer</a>),\n",
       "  it may mean that your frontend doesn't currently support widgets.\n",
       "</p>\n"
      ],
      "text/plain": [
       "HBox(children=(HTML(value='<img src=\"mudah.png\">', placeholder=''), HTML(value='<img src=\"SD1.png\">', placeholder=''), VBox(children=(Button(description='Help', style=ButtonStyle(button_color='lightblue')), Button(description='About Us', style=ButtonStyle(button_color='lightblue'))))))"
      ]
     },
     "metadata": {},
     "output_type": "display_data"
    }
   ],
   "source": [
    "#nbi:hide_in\n",
    "#print(\"This is header\")\n",
    "header"
   ]
  },
  {
   "cell_type": "code",
   "execution_count": 81,
   "metadata": {},
   "outputs": [
    {
     "data": {
      "application/vnd.jupyter.widget-view+json": {
       "model_id": "2122f57ce101430e9b69ad64f7f40dd3",
       "version_major": 2,
       "version_minor": 0
      },
      "text/html": [
       "<p>Failed to display Jupyter Widget of type <code>HTML</code>.</p>\n",
       "<p>\n",
       "  If you're reading this message in the Jupyter Notebook or JupyterLab Notebook, it may mean\n",
       "  that the widgets JavaScript is still loading. If this message persists, it\n",
       "  likely means that the widgets JavaScript library is either not installed or\n",
       "  not enabled. See the <a href=\"https://ipywidgets.readthedocs.io/en/stable/user_install.html\">Jupyter\n",
       "  Widgets Documentation</a> for setup instructions.\n",
       "</p>\n",
       "<p>\n",
       "  If you're reading this message in another frontend (for example, a static\n",
       "  rendering on GitHub or <a href=\"https://nbviewer.jupyter.org/\">NBViewer</a>),\n",
       "  it may mean that your frontend doesn't currently support widgets.\n",
       "</p>\n"
      ],
      "text/plain": [
       "HTML(value='<img src=\"highway car1_trademark.png\">', placeholder='')"
      ]
     },
     "metadata": {},
     "output_type": "display_data"
    }
   ],
   "source": [
    "#nbi:hide_in\n",
    "gmbr_kereta = widgets.HTML(\n",
    "    value='<img src=\"highway car1_trademark.png\">',\n",
    "    placeholder='',\n",
    "    description='',\n",
    "\n",
    ")\n",
    "gmbr_kereta"
   ]
  },
  {
   "cell_type": "code",
   "execution_count": 35,
   "metadata": {},
   "outputs": [
    {
     "data": {
      "application/vnd.jupyter.widget-view+json": {
       "model_id": "547d0fb7ca424a0bba37561796e1f2e3",
       "version_major": 2,
       "version_minor": 0
      },
      "text/html": [
       "<p>Failed to display Jupyter Widget of type <code>Accordion</code>.</p>\n",
       "<p>\n",
       "  If you're reading this message in the Jupyter Notebook or JupyterLab Notebook, it may mean\n",
       "  that the widgets JavaScript is still loading. If this message persists, it\n",
       "  likely means that the widgets JavaScript library is either not installed or\n",
       "  not enabled. See the <a href=\"https://ipywidgets.readthedocs.io/en/stable/user_install.html\">Jupyter\n",
       "  Widgets Documentation</a> for setup instructions.\n",
       "</p>\n",
       "<p>\n",
       "  If you're reading this message in another frontend (for example, a static\n",
       "  rendering on GitHub or <a href=\"https://nbviewer.jupyter.org/\">NBViewer</a>),\n",
       "  it may mean that your frontend doesn't currently support widgets.\n",
       "</p>\n"
      ],
      "text/plain": [
       "Accordion(children=(VBox(children=(HTML(value='<i><b>https://www.mudah.my/malaysia/cars-for-sale?o=1&q=&th=1</b><i>', description='Sample Link:', placeholder=''), Text(value='', description='Link:', placeholder='Paste your mudah.my link here'))), VBox(children=(HTML(value='<i><b>C:\\\\Users\\\\LENOVO\\\\Documents</b><i>', description='Sample Path:', placeholder=''), Text(value='', description='Folder Path:', placeholder='Save Scraped Dataset'), HTML(value='<i><b>kereta</b><i>', description='Sample CSV:', placeholder=''), Text(value='', description='CSV file:', placeholder='Name your scrap csv file'))), VBox(children=(Button(description='Scrap Me', style=ButtonStyle(button_color='orange')), Output()))), _titles={'0': 'Source', '1': 'Save', '2': 'Scrap'})"
      ]
     },
     "metadata": {},
     "output_type": "display_data"
    }
   ],
   "source": [
    "#nbi:hide_in\n",
    "accordion1 = widgets.Accordion(children=[widgets.VBox([str_link, meurl]), widgets.VBox([str_folder, fpath, str_csv, fname]), widgets.VBox([bscrap,oscrap])])\n",
    "accordion1.set_title(0, 'Source')\n",
    "accordion1.set_title(1, 'Save')\n",
    "accordion1.set_title(2, 'Scrap')\n",
    "accordion1"
   ]
  },
  {
   "cell_type": "code",
   "execution_count": 36,
   "metadata": {},
   "outputs": [],
   "source": [
    "#nbi:hide_in\n",
    "viewbtn = widgets.HBox([view_head, view_rand, view_tail])\n",
    "#viewbtn"
   ]
  },
  {
   "cell_type": "code",
   "execution_count": 37,
   "metadata": {},
   "outputs": [],
   "source": [
    "#nbi:hide_in\n",
    "analysisbtn = widgets.HBox([boxplotbtn, boxplot_filter])\n",
    "#analysisbtn"
   ]
  },
  {
   "cell_type": "code",
   "execution_count": 38,
   "metadata": {},
   "outputs": [
    {
     "data": {
      "application/vnd.jupyter.widget-view+json": {
       "model_id": "be1c9997d04f44199d0b9e375cc6b3ec",
       "version_major": 2,
       "version_minor": 0
      },
      "text/html": [
       "<p>Failed to display Jupyter Widget of type <code>Accordion</code>.</p>\n",
       "<p>\n",
       "  If you're reading this message in the Jupyter Notebook or JupyterLab Notebook, it may mean\n",
       "  that the widgets JavaScript is still loading. If this message persists, it\n",
       "  likely means that the widgets JavaScript library is either not installed or\n",
       "  not enabled. See the <a href=\"https://ipywidgets.readthedocs.io/en/stable/user_install.html\">Jupyter\n",
       "  Widgets Documentation</a> for setup instructions.\n",
       "</p>\n",
       "<p>\n",
       "  If you're reading this message in another frontend (for example, a static\n",
       "  rendering on GitHub or <a href=\"https://nbviewer.jupyter.org/\">NBViewer</a>),\n",
       "  it may mean that your frontend doesn't currently support widgets.\n",
       "</p>\n"
      ],
      "text/plain": [
       "Accordion(children=(VBox(children=(HTML(value='<i><b>C:\\\\Users\\\\LENOVO\\\\Documents</b><i>', description='Sample Path:', placeholder=''), Text(value='', description='Folder Path:', placeholder='Upload cleaned dataset'), HTML(value='<i><b>kereta</b><i>', description='Sample CSV:', placeholder=''), Text(value='', description='CSV file:', placeholder='Name of cleaned csv file'))), VBox(children=(HTML(value='<b>Choose how to view your data</b>', placeholder=''), HBox(children=(Dropdown(description='Head:', options=('-', '5', '6', '7', '8', '9', '10'), value='-'), Dropdown(description='Random:', options=('-', '5', '6', '7', '8', '9', '10'), value='-'), Dropdown(description='Tail:', options=('-', '5', '6', '7', '8', '9', '10'), value='-')))))), _titles={'0': 'Upload', '1': 'View'})"
      ]
     },
     "metadata": {},
     "output_type": "display_data"
    }
   ],
   "source": [
    "#nbi:hide_in\n",
    "accordion2 = widgets.Accordion(children=[widgets.VBox([str_folder,lpath, str_csv, lname]), widgets.VBox([str_view, viewbtn])])\n",
    "accordion2.set_title(0, 'Upload')\n",
    "accordion2.set_title(1, 'View')\n",
    "accordion2"
   ]
  },
  {
   "cell_type": "code",
   "execution_count": 39,
   "metadata": {},
   "outputs": [
    {
     "data": {
      "application/vnd.jupyter.widget-view+json": {
       "model_id": "71899a23c8db4f65b5e4409248dcdff2",
       "version_major": 2,
       "version_minor": 0
      },
      "text/html": [
       "<p>Failed to display Jupyter Widget of type <code>Accordion</code>.</p>\n",
       "<p>\n",
       "  If you're reading this message in the Jupyter Notebook or JupyterLab Notebook, it may mean\n",
       "  that the widgets JavaScript is still loading. If this message persists, it\n",
       "  likely means that the widgets JavaScript library is either not installed or\n",
       "  not enabled. See the <a href=\"https://ipywidgets.readthedocs.io/en/stable/user_install.html\">Jupyter\n",
       "  Widgets Documentation</a> for setup instructions.\n",
       "</p>\n",
       "<p>\n",
       "  If you're reading this message in another frontend (for example, a static\n",
       "  rendering on GitHub or <a href=\"https://nbviewer.jupyter.org/\">NBViewer</a>),\n",
       "  it may mean that your frontend doesn't currently support widgets.\n",
       "</p>\n"
      ],
      "text/plain": [
       "Accordion(children=(VBox(children=(HTML(value='Apply <b>Data Mining<b> Method!!', placeholder=''), Button(description='PCA!', icon='check', style=ButtonStyle(button_color='orange'), tooltip='Click me'))), VBox(children=(HTML(value='<b>Choose to view and compare by attributes<b>', placeholder=''), HBox(children=(Button(description='Boxplot', icon='check', style=ButtonStyle(button_color='orange'), tooltip='Click me'), SelectMultiple(description='Filter by', index=(0,), options=('Price', 'Year', 'Mileage'), rows=3, value=('Price',)))))), VBox(children=(HTML(value='<b>Click to view Potential Scammers!!<b>', placeholder=''), Button(description='Click Me', icon='check', style=ButtonStyle(button_color='red'), tooltip='Click me')))), _titles={'0': 'Method', '1': 'Analysis', '2': 'Result'})"
      ]
     },
     "metadata": {},
     "output_type": "display_data"
    }
   ],
   "source": [
    "#nbi:hide_in\n",
    "accordion3 = widgets.Accordion(children=[widgets.VBox([str_pca,pcabtn]), widgets.VBox([str_box, analysisbtn]), widgets.VBox([str_result, scambtn])])\n",
    "accordion3.set_title(0, 'Method')\n",
    "accordion3.set_title(1, 'Analysis')\n",
    "accordion3.set_title(2, 'Result')\n",
    "accordion3"
   ]
  },
  {
   "cell_type": "code",
   "execution_count": 40,
   "metadata": {},
   "outputs": [
    {
     "name": "stdout",
     "output_type": "stream",
     "text": [
      "Tab Nest\n"
     ]
    },
    {
     "data": {
      "application/vnd.jupyter.widget-view+json": {
       "model_id": "19a93eb653e64d80b5d9cfe844fef9d4",
       "version_major": 2,
       "version_minor": 0
      },
      "text/html": [
       "<p>Failed to display Jupyter Widget of type <code>Tab</code>.</p>\n",
       "<p>\n",
       "  If you're reading this message in the Jupyter Notebook or JupyterLab Notebook, it may mean\n",
       "  that the widgets JavaScript is still loading. If this message persists, it\n",
       "  likely means that the widgets JavaScript library is either not installed or\n",
       "  not enabled. See the <a href=\"https://ipywidgets.readthedocs.io/en/stable/user_install.html\">Jupyter\n",
       "  Widgets Documentation</a> for setup instructions.\n",
       "</p>\n",
       "<p>\n",
       "  If you're reading this message in another frontend (for example, a static\n",
       "  rendering on GitHub or <a href=\"https://nbviewer.jupyter.org/\">NBViewer</a>),\n",
       "  it may mean that your frontend doesn't currently support widgets.\n",
       "</p>\n"
      ],
      "text/plain": [
       "Tab(children=(Accordion(children=(VBox(children=(HTML(value='<i><b>https://www.mudah.my/malaysia/cars-for-sale?o=1&q=&th=1</b><i>', description='Sample Link:', placeholder=''), Text(value='', description='Link:', placeholder='Paste your mudah.my link here'))), VBox(children=(HTML(value='<i><b>C:\\\\Users\\\\LENOVO\\\\Documents</b><i>', description='Sample Path:', placeholder=''), Text(value='', description='Folder Path:', placeholder='Save Scraped Dataset'), HTML(value='<i><b>kereta</b><i>', description='Sample CSV:', placeholder=''), Text(value='', description='CSV file:', placeholder='Name your scrap csv file'))), VBox(children=(Button(description='Scrap Me', style=ButtonStyle(button_color='orange')), Output()))), _titles={'0': 'Source', '1': 'Save', '2': 'Scrap'}), Accordion(children=(VBox(children=(HTML(value='<i><b>C:\\\\Users\\\\LENOVO\\\\Documents</b><i>', description='Sample Path:', placeholder=''), Text(value='', description='Folder Path:', placeholder='Upload cleaned dataset'), HTML(value='<i><b>kereta</b><i>', description='Sample CSV:', placeholder=''), Text(value='', description='CSV file:', placeholder='Name of cleaned csv file'))), VBox(children=(HTML(value='<b>Choose how to view your data</b>', placeholder=''), HBox(children=(Dropdown(description='Head:', options=('-', '5', '6', '7', '8', '9', '10'), value='-'), Dropdown(description='Random:', options=('-', '5', '6', '7', '8', '9', '10'), value='-'), Dropdown(description='Tail:', options=('-', '5', '6', '7', '8', '9', '10'), value='-')))))), _titles={'0': 'Upload', '1': 'View'}), Accordion(children=(VBox(children=(HTML(value='Apply <b>Data Mining<b> Method!!', placeholder=''), Button(description='PCA!', icon='check', style=ButtonStyle(button_color='orange'), tooltip='Click me'))), VBox(children=(HTML(value='<b>Choose to view and compare by attributes<b>', placeholder=''), HBox(children=(Button(description='Boxplot', icon='check', style=ButtonStyle(button_color='orange'), tooltip='Click me'), SelectMultiple(description='Filter by', index=(0,), options=('Price', 'Year', 'Mileage'), rows=3, value=('Price',)))))), VBox(children=(HTML(value='<b>Click to view Potential Scammers!!<b>', placeholder=''), Button(description='Click Me', icon='check', style=ButtonStyle(button_color='red'), tooltip='Click me')))), _titles={'0': 'Method', '1': 'Analysis', '2': 'Result'})), _titles={'0': '1. Extaction', '1': '2. Data', '2': '3. Evaluation'})"
      ]
     },
     "metadata": {},
     "output_type": "display_data"
    }
   ],
   "source": [
    "#nbi:hide_in\n",
    "tab_nest = widgets.Tab()\n",
    "tab_nest.children = [accordion1, accordion2, accordion3]\n",
    "tab_nest.set_title(0, '1. Extaction')\n",
    "tab_nest.set_title(1, '2. Data')\n",
    "tab_nest.set_title(2, '3. Evaluation')\n",
    "print('Tab Nest')\n",
    "display(tab_nest)"
   ]
  }
 ],
 "metadata": {
  "kernelspec": {
   "display_name": "Python 3",
   "language": "python",
   "name": "python3"
  },
  "language_info": {
   "codemirror_mode": {
    "name": "ipython",
    "version": 3
   },
   "file_extension": ".py",
   "mimetype": "text/x-python",
   "name": "python",
   "nbconvert_exporter": "python",
   "pygments_lexer": "ipython3",
   "version": "3.6.4"
  }
 },
 "nbformat": 4,
 "nbformat_minor": 2
}
